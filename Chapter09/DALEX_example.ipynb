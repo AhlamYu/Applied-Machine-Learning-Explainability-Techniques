{
 "cells": [
  {
   "cell_type": "markdown",
   "metadata": {},
   "source": [
    "# Exploring  DALEX (moDel Agnostic Language for Exploration and eXplanation) for XAI\n",
    "## CHAPTER 09 - *Other popular XAI frameworks*\n",
    "\n",
    "From **Applied Machine Learning Explainability Techniques** by [**Aditya Bhattacharya**](https://www.linkedin.com/in/aditya-bhattacharya-b59155b6/), published by **Packt**"
   ]
  },
  {
   "cell_type": "markdown",
   "metadata": {},
   "source": [
    "### Objective\n",
    "\n",
    "In this notebook, we will explore the application of the popular XAI framework of DALEX (moDel Agnostic Language for Exploration and eXplanation). I high recommend you to go through the DALEX GitHub project site: https://github.com/ModelOriented/DALEX and DALEX e-book - https://pbiecek.github.io/ema/. The DALEX package is a part of [DrWhy.AI universe](http://drwhy.ai/)."
   ]
  },
  {
   "cell_type": "markdown",
   "metadata": {},
   "source": [
    "### Installing the modules"
   ]
  },
  {
   "cell_type": "markdown",
   "metadata": {},
   "source": [
    "Install the following libraries in Google Colab or your local environment, if not already installed."
   ]
  },
  {
   "cell_type": "code",
   "execution_count": null,
   "metadata": {},
   "outputs": [],
   "source": [
    "!pip install --upgrade pandas numpy matplotlib seaborn scikit-learn dalex"
   ]
  },
  {
   "cell_type": "markdown",
   "metadata": {},
   "source": [
    "### Loading the modules"
   ]
  },
  {
   "cell_type": "code",
   "execution_count": 28,
   "metadata": {},
   "outputs": [],
   "source": [
    "import warnings\n",
    "warnings.filterwarnings('ignore')\n",
    "\n",
    "import pandas as pd\n",
    "pd.set_option('display.max_columns', None)\n",
    "\n",
    "import numpy as np\n",
    "\n",
    "import sklearn\n",
    "from sklearn import datasets\n",
    "from sklearn.model_selection import train_test_split\n",
    "from sklearn.ensemble import RandomForestRegressor\n",
    "from sklearn.metrics import mean_absolute_error, r2_score\n",
    "\n",
    "import dalex as dx \n",
    "\n",
    "import matplotlib.pyplot as plt\n",
    "import seaborn as sns\n",
    "\n",
    "from IPython import display\n",
    "\n",
    "np.random.seed(123)"
   ]
  },
  {
   "cell_type": "markdown",
   "metadata": {},
   "source": [
    "### About the data"
   ]
  },
  {
   "cell_type": "markdown",
   "metadata": {},
   "source": [
    "**FIFA Club Position Prediction dataset - [FIFA Club Position Prediction dataset](https://github.com/PacktPublishing/Applied-Machine-Learning-Explainability-Techniques/tree/main/Chapter09/datasets)**\n",
    "\n",
    "In this tutorial we will use the FIFA Club Position Prediction dataset used for the [Explainerdashboard Tutorial](https://github.com/PacktPublishing/Applied-Machine-Learning-Explainability-Techniques/blob/main/Chapter09/Explainer_dashboard_example.ipynb) and for the [H2O AutoML Expainer Tutorial](https://github.com/PacktPublishing/Applied-Machine-Learning-Explainability-Techniques/blob/main/Chapter09/H2o_AutoML_explain_example.ipynb). But instead of using this dataset to predict the league position of a particular club based on its player's abilities, we will try to predict the valuation of a player based on its skills and abilities. So, this will be a regression problem and we will use DALEX to explain the Regression ML model."
   ]
  },
  {
   "cell_type": "markdown",
   "metadata": {},
   "source": [
    "### Loading the data"
   ]
  },
  {
   "cell_type": "code",
   "execution_count": 104,
   "metadata": {},
   "outputs": [],
   "source": [
    "# We will read the training data\n",
    "df_train = pd.read_csv('datasets/fifa_league_21_train.csv')"
   ]
  },
  {
   "cell_type": "code",
   "execution_count": 105,
   "metadata": {},
   "outputs": [
    {
     "data": {
      "text/html": [
       "<div>\n",
       "<style scoped>\n",
       "    .dataframe tbody tr th:only-of-type {\n",
       "        vertical-align: middle;\n",
       "    }\n",
       "\n",
       "    .dataframe tbody tr th {\n",
       "        vertical-align: top;\n",
       "    }\n",
       "\n",
       "    .dataframe thead th {\n",
       "        text-align: right;\n",
       "    }\n",
       "</style>\n",
       "<table border=\"1\" class=\"dataframe\">\n",
       "  <thead>\n",
       "    <tr style=\"text-align: right;\">\n",
       "      <th></th>\n",
       "      <th>short_name</th>\n",
       "      <th>overall</th>\n",
       "      <th>potential</th>\n",
       "      <th>value_eur</th>\n",
       "      <th>wage_eur</th>\n",
       "      <th>age</th>\n",
       "      <th>club_name</th>\n",
       "      <th>league_name</th>\n",
       "      <th>club_position</th>\n",
       "      <th>preferred_foot</th>\n",
       "      <th>weak_foot</th>\n",
       "      <th>skill_moves</th>\n",
       "      <th>international_reputation</th>\n",
       "      <th>pace</th>\n",
       "      <th>shooting</th>\n",
       "      <th>passing</th>\n",
       "      <th>dribbling</th>\n",
       "      <th>defending</th>\n",
       "      <th>physic</th>\n",
       "      <th>attacking_crossing</th>\n",
       "      <th>attacking_finishing</th>\n",
       "      <th>attacking_heading_accuracy</th>\n",
       "      <th>attacking_short_passing</th>\n",
       "      <th>attacking_volleys</th>\n",
       "      <th>skill_dribbling</th>\n",
       "      <th>skill_curve</th>\n",
       "      <th>skill_fk_accuracy</th>\n",
       "      <th>skill_long_passing</th>\n",
       "      <th>skill_ball_control</th>\n",
       "      <th>movement_acceleration</th>\n",
       "      <th>movement_sprint_speed</th>\n",
       "      <th>movement_agility</th>\n",
       "      <th>movement_reactions</th>\n",
       "      <th>movement_balance</th>\n",
       "      <th>power_shot_power</th>\n",
       "      <th>power_jumping</th>\n",
       "      <th>power_stamina</th>\n",
       "      <th>power_strength</th>\n",
       "      <th>power_long_shots</th>\n",
       "      <th>mentality_aggression</th>\n",
       "      <th>mentality_interceptions</th>\n",
       "      <th>mentality_positioning</th>\n",
       "      <th>mentality_vision</th>\n",
       "      <th>mentality_penalties</th>\n",
       "      <th>mentality_composure</th>\n",
       "      <th>defending_marking_awareness</th>\n",
       "      <th>defending_standing_tackle</th>\n",
       "      <th>defending_sliding_tackle</th>\n",
       "      <th>goalkeeping_diving</th>\n",
       "      <th>goalkeeping_handling</th>\n",
       "      <th>goalkeeping_kicking</th>\n",
       "      <th>goalkeeping_positioning</th>\n",
       "      <th>goalkeeping_reflexes</th>\n",
       "      <th>goalkeeping_speed</th>\n",
       "      <th>ls</th>\n",
       "      <th>st</th>\n",
       "      <th>rs</th>\n",
       "      <th>lw</th>\n",
       "      <th>lf</th>\n",
       "      <th>cf</th>\n",
       "      <th>rf</th>\n",
       "      <th>rw</th>\n",
       "      <th>lam</th>\n",
       "      <th>cam</th>\n",
       "      <th>ram</th>\n",
       "      <th>lm</th>\n",
       "      <th>lcm</th>\n",
       "      <th>cm</th>\n",
       "      <th>rcm</th>\n",
       "      <th>rm</th>\n",
       "      <th>lwb</th>\n",
       "      <th>ldm</th>\n",
       "      <th>cdm</th>\n",
       "      <th>rdm</th>\n",
       "      <th>rwb</th>\n",
       "      <th>lb</th>\n",
       "      <th>rb</th>\n",
       "      <th>lcb</th>\n",
       "      <th>cb</th>\n",
       "      <th>rcb</th>\n",
       "      <th>gk</th>\n",
       "      <th>position</th>\n",
       "    </tr>\n",
       "  </thead>\n",
       "  <tbody>\n",
       "    <tr>\n",
       "      <th>0</th>\n",
       "      <td>L. Messi</td>\n",
       "      <td>93</td>\n",
       "      <td>93</td>\n",
       "      <td>103500000.0</td>\n",
       "      <td>560000.0</td>\n",
       "      <td>33</td>\n",
       "      <td>FC Barcelona</td>\n",
       "      <td>Spain Primera Division</td>\n",
       "      <td>CAM</td>\n",
       "      <td>Left</td>\n",
       "      <td>4</td>\n",
       "      <td>4</td>\n",
       "      <td>5</td>\n",
       "      <td>85.0</td>\n",
       "      <td>92.0</td>\n",
       "      <td>91.0</td>\n",
       "      <td>95.0</td>\n",
       "      <td>38.0</td>\n",
       "      <td>65.0</td>\n",
       "      <td>85</td>\n",
       "      <td>95</td>\n",
       "      <td>70</td>\n",
       "      <td>91</td>\n",
       "      <td>88</td>\n",
       "      <td>96</td>\n",
       "      <td>93</td>\n",
       "      <td>94</td>\n",
       "      <td>91</td>\n",
       "      <td>96</td>\n",
       "      <td>91</td>\n",
       "      <td>80</td>\n",
       "      <td>91</td>\n",
       "      <td>94</td>\n",
       "      <td>95</td>\n",
       "      <td>86</td>\n",
       "      <td>68</td>\n",
       "      <td>72</td>\n",
       "      <td>69</td>\n",
       "      <td>94</td>\n",
       "      <td>44</td>\n",
       "      <td>40</td>\n",
       "      <td>93</td>\n",
       "      <td>95</td>\n",
       "      <td>75</td>\n",
       "      <td>96</td>\n",
       "      <td>32</td>\n",
       "      <td>35</td>\n",
       "      <td>24</td>\n",
       "      <td>6</td>\n",
       "      <td>11</td>\n",
       "      <td>15</td>\n",
       "      <td>14</td>\n",
       "      <td>8</td>\n",
       "      <td>NaN</td>\n",
       "      <td>92</td>\n",
       "      <td>92</td>\n",
       "      <td>92</td>\n",
       "      <td>92</td>\n",
       "      <td>93</td>\n",
       "      <td>93</td>\n",
       "      <td>93</td>\n",
       "      <td>92</td>\n",
       "      <td>93</td>\n",
       "      <td>93</td>\n",
       "      <td>93</td>\n",
       "      <td>93</td>\n",
       "      <td>90</td>\n",
       "      <td>90</td>\n",
       "      <td>90</td>\n",
       "      <td>93</td>\n",
       "      <td>69</td>\n",
       "      <td>68</td>\n",
       "      <td>68</td>\n",
       "      <td>68</td>\n",
       "      <td>69</td>\n",
       "      <td>65</td>\n",
       "      <td>65</td>\n",
       "      <td>55</td>\n",
       "      <td>55</td>\n",
       "      <td>55</td>\n",
       "      <td>22</td>\n",
       "      <td>3</td>\n",
       "    </tr>\n",
       "    <tr>\n",
       "      <th>1</th>\n",
       "      <td>Cristiano Ronaldo</td>\n",
       "      <td>92</td>\n",
       "      <td>92</td>\n",
       "      <td>63000000.0</td>\n",
       "      <td>220000.0</td>\n",
       "      <td>35</td>\n",
       "      <td>Juventus</td>\n",
       "      <td>Italian Serie A</td>\n",
       "      <td>LS</td>\n",
       "      <td>Right</td>\n",
       "      <td>4</td>\n",
       "      <td>5</td>\n",
       "      <td>5</td>\n",
       "      <td>89.0</td>\n",
       "      <td>93.0</td>\n",
       "      <td>81.0</td>\n",
       "      <td>89.0</td>\n",
       "      <td>35.0</td>\n",
       "      <td>77.0</td>\n",
       "      <td>84</td>\n",
       "      <td>95</td>\n",
       "      <td>90</td>\n",
       "      <td>82</td>\n",
       "      <td>86</td>\n",
       "      <td>88</td>\n",
       "      <td>81</td>\n",
       "      <td>76</td>\n",
       "      <td>77</td>\n",
       "      <td>92</td>\n",
       "      <td>87</td>\n",
       "      <td>91</td>\n",
       "      <td>87</td>\n",
       "      <td>95</td>\n",
       "      <td>71</td>\n",
       "      <td>94</td>\n",
       "      <td>95</td>\n",
       "      <td>84</td>\n",
       "      <td>78</td>\n",
       "      <td>93</td>\n",
       "      <td>63</td>\n",
       "      <td>29</td>\n",
       "      <td>95</td>\n",
       "      <td>82</td>\n",
       "      <td>84</td>\n",
       "      <td>95</td>\n",
       "      <td>28</td>\n",
       "      <td>32</td>\n",
       "      <td>24</td>\n",
       "      <td>7</td>\n",
       "      <td>11</td>\n",
       "      <td>15</td>\n",
       "      <td>14</td>\n",
       "      <td>11</td>\n",
       "      <td>NaN</td>\n",
       "      <td>92</td>\n",
       "      <td>92</td>\n",
       "      <td>92</td>\n",
       "      <td>89</td>\n",
       "      <td>91</td>\n",
       "      <td>91</td>\n",
       "      <td>91</td>\n",
       "      <td>89</td>\n",
       "      <td>91</td>\n",
       "      <td>91</td>\n",
       "      <td>91</td>\n",
       "      <td>91</td>\n",
       "      <td>84</td>\n",
       "      <td>84</td>\n",
       "      <td>84</td>\n",
       "      <td>91</td>\n",
       "      <td>68</td>\n",
       "      <td>64</td>\n",
       "      <td>64</td>\n",
       "      <td>64</td>\n",
       "      <td>68</td>\n",
       "      <td>64</td>\n",
       "      <td>64</td>\n",
       "      <td>57</td>\n",
       "      <td>57</td>\n",
       "      <td>57</td>\n",
       "      <td>23</td>\n",
       "      <td>4</td>\n",
       "    </tr>\n",
       "    <tr>\n",
       "      <th>2</th>\n",
       "      <td>R. Lewandowski</td>\n",
       "      <td>91</td>\n",
       "      <td>91</td>\n",
       "      <td>111000000.0</td>\n",
       "      <td>240000.0</td>\n",
       "      <td>31</td>\n",
       "      <td>FC Bayern München</td>\n",
       "      <td>German 1. Bundesliga</td>\n",
       "      <td>ST</td>\n",
       "      <td>Right</td>\n",
       "      <td>4</td>\n",
       "      <td>4</td>\n",
       "      <td>4</td>\n",
       "      <td>78.0</td>\n",
       "      <td>91.0</td>\n",
       "      <td>78.0</td>\n",
       "      <td>85.0</td>\n",
       "      <td>43.0</td>\n",
       "      <td>82.0</td>\n",
       "      <td>71</td>\n",
       "      <td>94</td>\n",
       "      <td>85</td>\n",
       "      <td>84</td>\n",
       "      <td>89</td>\n",
       "      <td>85</td>\n",
       "      <td>79</td>\n",
       "      <td>85</td>\n",
       "      <td>70</td>\n",
       "      <td>88</td>\n",
       "      <td>77</td>\n",
       "      <td>78</td>\n",
       "      <td>77</td>\n",
       "      <td>93</td>\n",
       "      <td>82</td>\n",
       "      <td>89</td>\n",
       "      <td>84</td>\n",
       "      <td>76</td>\n",
       "      <td>86</td>\n",
       "      <td>85</td>\n",
       "      <td>81</td>\n",
       "      <td>49</td>\n",
       "      <td>94</td>\n",
       "      <td>79</td>\n",
       "      <td>88</td>\n",
       "      <td>88</td>\n",
       "      <td>35</td>\n",
       "      <td>42</td>\n",
       "      <td>19</td>\n",
       "      <td>15</td>\n",
       "      <td>6</td>\n",
       "      <td>12</td>\n",
       "      <td>8</td>\n",
       "      <td>10</td>\n",
       "      <td>NaN</td>\n",
       "      <td>91</td>\n",
       "      <td>91</td>\n",
       "      <td>91</td>\n",
       "      <td>85</td>\n",
       "      <td>87</td>\n",
       "      <td>87</td>\n",
       "      <td>87</td>\n",
       "      <td>85</td>\n",
       "      <td>88</td>\n",
       "      <td>88</td>\n",
       "      <td>88</td>\n",
       "      <td>86</td>\n",
       "      <td>82</td>\n",
       "      <td>82</td>\n",
       "      <td>82</td>\n",
       "      <td>86</td>\n",
       "      <td>67</td>\n",
       "      <td>68</td>\n",
       "      <td>68</td>\n",
       "      <td>68</td>\n",
       "      <td>67</td>\n",
       "      <td>64</td>\n",
       "      <td>64</td>\n",
       "      <td>63</td>\n",
       "      <td>63</td>\n",
       "      <td>63</td>\n",
       "      <td>22</td>\n",
       "      <td>1</td>\n",
       "    </tr>\n",
       "    <tr>\n",
       "      <th>3</th>\n",
       "      <td>Neymar Jr</td>\n",
       "      <td>91</td>\n",
       "      <td>91</td>\n",
       "      <td>132000000.0</td>\n",
       "      <td>270000.0</td>\n",
       "      <td>28</td>\n",
       "      <td>Paris Saint-Germain</td>\n",
       "      <td>French Ligue 1</td>\n",
       "      <td>LW</td>\n",
       "      <td>Right</td>\n",
       "      <td>5</td>\n",
       "      <td>5</td>\n",
       "      <td>5</td>\n",
       "      <td>91.0</td>\n",
       "      <td>85.0</td>\n",
       "      <td>86.0</td>\n",
       "      <td>94.0</td>\n",
       "      <td>36.0</td>\n",
       "      <td>59.0</td>\n",
       "      <td>85</td>\n",
       "      <td>87</td>\n",
       "      <td>62</td>\n",
       "      <td>87</td>\n",
       "      <td>87</td>\n",
       "      <td>95</td>\n",
       "      <td>88</td>\n",
       "      <td>89</td>\n",
       "      <td>81</td>\n",
       "      <td>95</td>\n",
       "      <td>94</td>\n",
       "      <td>89</td>\n",
       "      <td>96</td>\n",
       "      <td>91</td>\n",
       "      <td>83</td>\n",
       "      <td>80</td>\n",
       "      <td>62</td>\n",
       "      <td>81</td>\n",
       "      <td>50</td>\n",
       "      <td>84</td>\n",
       "      <td>51</td>\n",
       "      <td>36</td>\n",
       "      <td>87</td>\n",
       "      <td>90</td>\n",
       "      <td>92</td>\n",
       "      <td>93</td>\n",
       "      <td>35</td>\n",
       "      <td>30</td>\n",
       "      <td>29</td>\n",
       "      <td>9</td>\n",
       "      <td>9</td>\n",
       "      <td>15</td>\n",
       "      <td>15</td>\n",
       "      <td>11</td>\n",
       "      <td>NaN</td>\n",
       "      <td>87</td>\n",
       "      <td>87</td>\n",
       "      <td>87</td>\n",
       "      <td>90</td>\n",
       "      <td>89</td>\n",
       "      <td>89</td>\n",
       "      <td>89</td>\n",
       "      <td>90</td>\n",
       "      <td>91</td>\n",
       "      <td>91</td>\n",
       "      <td>91</td>\n",
       "      <td>91</td>\n",
       "      <td>86</td>\n",
       "      <td>86</td>\n",
       "      <td>86</td>\n",
       "      <td>91</td>\n",
       "      <td>70</td>\n",
       "      <td>65</td>\n",
       "      <td>65</td>\n",
       "      <td>65</td>\n",
       "      <td>70</td>\n",
       "      <td>65</td>\n",
       "      <td>65</td>\n",
       "      <td>52</td>\n",
       "      <td>52</td>\n",
       "      <td>52</td>\n",
       "      <td>23</td>\n",
       "      <td>2</td>\n",
       "    </tr>\n",
       "    <tr>\n",
       "      <th>4</th>\n",
       "      <td>K. De Bruyne</td>\n",
       "      <td>91</td>\n",
       "      <td>91</td>\n",
       "      <td>129000000.0</td>\n",
       "      <td>370000.0</td>\n",
       "      <td>29</td>\n",
       "      <td>Manchester City</td>\n",
       "      <td>English Premier League</td>\n",
       "      <td>RCM</td>\n",
       "      <td>Right</td>\n",
       "      <td>5</td>\n",
       "      <td>4</td>\n",
       "      <td>4</td>\n",
       "      <td>76.0</td>\n",
       "      <td>86.0</td>\n",
       "      <td>93.0</td>\n",
       "      <td>88.0</td>\n",
       "      <td>64.0</td>\n",
       "      <td>78.0</td>\n",
       "      <td>94</td>\n",
       "      <td>82</td>\n",
       "      <td>55</td>\n",
       "      <td>94</td>\n",
       "      <td>82</td>\n",
       "      <td>88</td>\n",
       "      <td>85</td>\n",
       "      <td>83</td>\n",
       "      <td>93</td>\n",
       "      <td>92</td>\n",
       "      <td>77</td>\n",
       "      <td>76</td>\n",
       "      <td>78</td>\n",
       "      <td>91</td>\n",
       "      <td>76</td>\n",
       "      <td>91</td>\n",
       "      <td>63</td>\n",
       "      <td>89</td>\n",
       "      <td>74</td>\n",
       "      <td>91</td>\n",
       "      <td>76</td>\n",
       "      <td>66</td>\n",
       "      <td>88</td>\n",
       "      <td>94</td>\n",
       "      <td>84</td>\n",
       "      <td>91</td>\n",
       "      <td>68</td>\n",
       "      <td>65</td>\n",
       "      <td>53</td>\n",
       "      <td>15</td>\n",
       "      <td>13</td>\n",
       "      <td>5</td>\n",
       "      <td>10</td>\n",
       "      <td>13</td>\n",
       "      <td>NaN</td>\n",
       "      <td>86</td>\n",
       "      <td>86</td>\n",
       "      <td>86</td>\n",
       "      <td>88</td>\n",
       "      <td>88</td>\n",
       "      <td>88</td>\n",
       "      <td>88</td>\n",
       "      <td>88</td>\n",
       "      <td>91</td>\n",
       "      <td>91</td>\n",
       "      <td>91</td>\n",
       "      <td>91</td>\n",
       "      <td>91</td>\n",
       "      <td>91</td>\n",
       "      <td>91</td>\n",
       "      <td>91</td>\n",
       "      <td>82</td>\n",
       "      <td>83</td>\n",
       "      <td>83</td>\n",
       "      <td>83</td>\n",
       "      <td>82</td>\n",
       "      <td>78</td>\n",
       "      <td>78</td>\n",
       "      <td>72</td>\n",
       "      <td>72</td>\n",
       "      <td>72</td>\n",
       "      <td>24</td>\n",
       "      <td>1</td>\n",
       "    </tr>\n",
       "  </tbody>\n",
       "</table>\n",
       "</div>"
      ],
      "text/plain": [
       "          short_name  overall  potential    value_eur  wage_eur  age  \\\n",
       "0           L. Messi       93         93  103500000.0  560000.0   33   \n",
       "1  Cristiano Ronaldo       92         92   63000000.0  220000.0   35   \n",
       "2     R. Lewandowski       91         91  111000000.0  240000.0   31   \n",
       "3          Neymar Jr       91         91  132000000.0  270000.0   28   \n",
       "4       K. De Bruyne       91         91  129000000.0  370000.0   29   \n",
       "\n",
       "             club_name             league_name club_position preferred_foot  \\\n",
       "0         FC Barcelona  Spain Primera Division           CAM           Left   \n",
       "1             Juventus         Italian Serie A            LS          Right   \n",
       "2    FC Bayern München    German 1. Bundesliga            ST          Right   \n",
       "3  Paris Saint-Germain          French Ligue 1            LW          Right   \n",
       "4      Manchester City  English Premier League           RCM          Right   \n",
       "\n",
       "   weak_foot  skill_moves  international_reputation  pace  shooting  passing  \\\n",
       "0          4            4                         5  85.0      92.0     91.0   \n",
       "1          4            5                         5  89.0      93.0     81.0   \n",
       "2          4            4                         4  78.0      91.0     78.0   \n",
       "3          5            5                         5  91.0      85.0     86.0   \n",
       "4          5            4                         4  76.0      86.0     93.0   \n",
       "\n",
       "   dribbling  defending  physic  attacking_crossing  attacking_finishing  \\\n",
       "0       95.0       38.0    65.0                  85                   95   \n",
       "1       89.0       35.0    77.0                  84                   95   \n",
       "2       85.0       43.0    82.0                  71                   94   \n",
       "3       94.0       36.0    59.0                  85                   87   \n",
       "4       88.0       64.0    78.0                  94                   82   \n",
       "\n",
       "   attacking_heading_accuracy  attacking_short_passing  attacking_volleys  \\\n",
       "0                          70                       91                 88   \n",
       "1                          90                       82                 86   \n",
       "2                          85                       84                 89   \n",
       "3                          62                       87                 87   \n",
       "4                          55                       94                 82   \n",
       "\n",
       "   skill_dribbling  skill_curve  skill_fk_accuracy  skill_long_passing  \\\n",
       "0               96           93                 94                  91   \n",
       "1               88           81                 76                  77   \n",
       "2               85           79                 85                  70   \n",
       "3               95           88                 89                  81   \n",
       "4               88           85                 83                  93   \n",
       "\n",
       "   skill_ball_control  movement_acceleration  movement_sprint_speed  \\\n",
       "0                  96                     91                     80   \n",
       "1                  92                     87                     91   \n",
       "2                  88                     77                     78   \n",
       "3                  95                     94                     89   \n",
       "4                  92                     77                     76   \n",
       "\n",
       "   movement_agility  movement_reactions  movement_balance  power_shot_power  \\\n",
       "0                91                  94                95                86   \n",
       "1                87                  95                71                94   \n",
       "2                77                  93                82                89   \n",
       "3                96                  91                83                80   \n",
       "4                78                  91                76                91   \n",
       "\n",
       "   power_jumping  power_stamina  power_strength  power_long_shots  \\\n",
       "0             68             72              69                94   \n",
       "1             95             84              78                93   \n",
       "2             84             76              86                85   \n",
       "3             62             81              50                84   \n",
       "4             63             89              74                91   \n",
       "\n",
       "   mentality_aggression  mentality_interceptions  mentality_positioning  \\\n",
       "0                    44                       40                     93   \n",
       "1                    63                       29                     95   \n",
       "2                    81                       49                     94   \n",
       "3                    51                       36                     87   \n",
       "4                    76                       66                     88   \n",
       "\n",
       "   mentality_vision  mentality_penalties  mentality_composure  \\\n",
       "0                95                   75                   96   \n",
       "1                82                   84                   95   \n",
       "2                79                   88                   88   \n",
       "3                90                   92                   93   \n",
       "4                94                   84                   91   \n",
       "\n",
       "   defending_marking_awareness  defending_standing_tackle  \\\n",
       "0                           32                         35   \n",
       "1                           28                         32   \n",
       "2                           35                         42   \n",
       "3                           35                         30   \n",
       "4                           68                         65   \n",
       "\n",
       "   defending_sliding_tackle  goalkeeping_diving  goalkeeping_handling  \\\n",
       "0                        24                   6                    11   \n",
       "1                        24                   7                    11   \n",
       "2                        19                  15                     6   \n",
       "3                        29                   9                     9   \n",
       "4                        53                  15                    13   \n",
       "\n",
       "   goalkeeping_kicking  goalkeeping_positioning  goalkeeping_reflexes  \\\n",
       "0                   15                       14                     8   \n",
       "1                   15                       14                    11   \n",
       "2                   12                        8                    10   \n",
       "3                   15                       15                    11   \n",
       "4                    5                       10                    13   \n",
       "\n",
       "   goalkeeping_speed  ls  st  rs  lw  lf  cf  rf  rw  lam  cam  ram  lm  lcm  \\\n",
       "0                NaN  92  92  92  92  93  93  93  92   93   93   93  93   90   \n",
       "1                NaN  92  92  92  89  91  91  91  89   91   91   91  91   84   \n",
       "2                NaN  91  91  91  85  87  87  87  85   88   88   88  86   82   \n",
       "3                NaN  87  87  87  90  89  89  89  90   91   91   91  91   86   \n",
       "4                NaN  86  86  86  88  88  88  88  88   91   91   91  91   91   \n",
       "\n",
       "   cm  rcm  rm  lwb  ldm  cdm  rdm  rwb  lb  rb  lcb  cb  rcb  gk  position  \n",
       "0  90   90  93   69   68   68   68   69  65  65   55  55   55  22         3  \n",
       "1  84   84  91   68   64   64   64   68  64  64   57  57   57  23         4  \n",
       "2  82   82  86   67   68   68   68   67  64  64   63  63   63  22         1  \n",
       "3  86   86  91   70   65   65   65   70  65  65   52  52   52  23         2  \n",
       "4  91   91  91   82   83   83   83   82  78  78   72  72   72  24         1  "
      ]
     },
     "execution_count": 105,
     "metadata": {},
     "output_type": "execute_result"
    }
   ],
   "source": [
    "df_train.head()"
   ]
  },
  {
   "cell_type": "code",
   "execution_count": 6,
   "metadata": {},
   "outputs": [
    {
     "name": "stdout",
     "output_type": "stream",
     "text": [
      "-------------------------------------\n",
      "FIFA Club Position Prediction dataset.\n",
      "--------------------------------------\n",
      "The dataset is prepared from the Kaggle Fifa 22 Player dataset: https://www.kaggle.com/stefanoleone992/fifa-22-complete-player-dataset. Original dataset acknowledgement is provided to the website sofifa.com as the data is scrapped from the publicly available website.\n",
      "\n",
      "The training data is for top 10 clubs for the 2020-21 season from English Premier League, La Liga, Serie A, Bundesliga 1, French League 1.\n",
      "\n",
      "The test data is unlabeled and contains the player information of the same teams for 2021-2022 season.\n",
      "\n",
      "The datasets contains the following features:\n",
      "\n",
      "- Players available in FIFA 21, and also FIFA 22 for the selected clubs and leagues\n",
      "\n",
      "- 80+ attributes\n",
      "\n",
      "- The club `position` is the target variable that the model needs to predict.\n",
      "\n",
      "- Player positions, with the role in the club\n",
      "\n",
      "- Player attributes with statistics as Attacking, Skills, Defense, Mentality, GK Skills, etc.\n",
      "\n",
      "- Player ratings out of 100 in different football formation position like ST, RW, LW, CAM, CB, LB, RB etc.\n",
      "\n",
      "- Other Player information like Wage, Salary, etc.\n",
      "\n",
      "The credit to compiling this dataset goes to Aditya Bhattacharya: https://github.com/adib0073. Reach out to Aditya in Linkedin: https://www.linkedin.com/in/aditya-bhattacharya-b59155b6/\n",
      "\n",
      "\n"
     ]
    }
   ],
   "source": [
    "# Reading the dataset description\n",
    "with open('datasets/data_description.txt') as f:\n",
    "    contents = f.read()\n",
    "    print(contents)"
   ]
  },
  {
   "cell_type": "code",
   "execution_count": 7,
   "metadata": {},
   "outputs": [
    {
     "name": "stdout",
     "output_type": "stream",
     "text": [
      "(1584, 82)\n"
     ]
    }
   ],
   "source": [
    "# Check dataset dimensions\n",
    "print(df_train.shape)"
   ]
  },
  {
   "cell_type": "code",
   "execution_count": 8,
   "metadata": {},
   "outputs": [
    {
     "data": {
      "text/plain": [
       "Index(['short_name', 'overall', 'potential', 'value_eur', 'wage_eur', 'age',\n",
       "       'club_name', 'league_name', 'club_position', 'preferred_foot',\n",
       "       'weak_foot', 'skill_moves', 'international_reputation', 'pace',\n",
       "       'shooting', 'passing', 'dribbling', 'defending', 'physic',\n",
       "       'attacking_crossing', 'attacking_finishing',\n",
       "       'attacking_heading_accuracy', 'attacking_short_passing',\n",
       "       'attacking_volleys', 'skill_dribbling', 'skill_curve',\n",
       "       'skill_fk_accuracy', 'skill_long_passing', 'skill_ball_control',\n",
       "       'movement_acceleration', 'movement_sprint_speed', 'movement_agility',\n",
       "       'movement_reactions', 'movement_balance', 'power_shot_power',\n",
       "       'power_jumping', 'power_stamina', 'power_strength', 'power_long_shots',\n",
       "       'mentality_aggression', 'mentality_interceptions',\n",
       "       'mentality_positioning', 'mentality_vision', 'mentality_penalties',\n",
       "       'mentality_composure', 'defending_marking_awareness',\n",
       "       'defending_standing_tackle', 'defending_sliding_tackle',\n",
       "       'goalkeeping_diving', 'goalkeeping_handling', 'goalkeeping_kicking',\n",
       "       'goalkeeping_positioning', 'goalkeeping_reflexes', 'goalkeeping_speed',\n",
       "       'ls', 'st', 'rs', 'lw', 'lf', 'cf', 'rf', 'rw', 'lam', 'cam', 'ram',\n",
       "       'lm', 'lcm', 'cm', 'rcm', 'rm', 'lwb', 'ldm', 'cdm', 'rdm', 'rwb', 'lb',\n",
       "       'rb', 'lcb', 'cb', 'rcb', 'gk', 'position'],\n",
       "      dtype='object')"
      ]
     },
     "execution_count": 8,
     "metadata": {},
     "output_type": "execute_result"
    }
   ],
   "source": [
    "df_train.columns"
   ]
  },
  {
   "cell_type": "code",
   "execution_count": 9,
   "metadata": {},
   "outputs": [
    {
     "name": "stdout",
     "output_type": "stream",
     "text": [
      "<class 'pandas.core.frame.DataFrame'>\n",
      "RangeIndex: 1584 entries, 0 to 1583\n",
      "Data columns (total 82 columns):\n",
      " #   Column                       Non-Null Count  Dtype  \n",
      "---  ------                       --------------  -----  \n",
      " 0   short_name                   1584 non-null   object \n",
      " 1   overall                      1584 non-null   int64  \n",
      " 2   potential                    1584 non-null   int64  \n",
      " 3   value_eur                    1583 non-null   float64\n",
      " 4   wage_eur                     1584 non-null   float64\n",
      " 5   age                          1584 non-null   int64  \n",
      " 6   club_name                    1584 non-null   object \n",
      " 7   league_name                  1584 non-null   object \n",
      " 8   club_position                1584 non-null   object \n",
      " 9   preferred_foot               1584 non-null   object \n",
      " 10  weak_foot                    1584 non-null   int64  \n",
      " 11  skill_moves                  1584 non-null   int64  \n",
      " 12  international_reputation     1584 non-null   int64  \n",
      " 13  pace                         1414 non-null   float64\n",
      " 14  shooting                     1414 non-null   float64\n",
      " 15  passing                      1414 non-null   float64\n",
      " 16  dribbling                    1414 non-null   float64\n",
      " 17  defending                    1414 non-null   float64\n",
      " 18  physic                       1414 non-null   float64\n",
      " 19  attacking_crossing           1584 non-null   int64  \n",
      " 20  attacking_finishing          1584 non-null   int64  \n",
      " 21  attacking_heading_accuracy   1584 non-null   int64  \n",
      " 22  attacking_short_passing      1584 non-null   int64  \n",
      " 23  attacking_volleys            1584 non-null   int64  \n",
      " 24  skill_dribbling              1584 non-null   int64  \n",
      " 25  skill_curve                  1584 non-null   int64  \n",
      " 26  skill_fk_accuracy            1584 non-null   int64  \n",
      " 27  skill_long_passing           1584 non-null   int64  \n",
      " 28  skill_ball_control           1584 non-null   int64  \n",
      " 29  movement_acceleration        1584 non-null   int64  \n",
      " 30  movement_sprint_speed        1584 non-null   int64  \n",
      " 31  movement_agility             1584 non-null   int64  \n",
      " 32  movement_reactions           1584 non-null   int64  \n",
      " 33  movement_balance             1584 non-null   int64  \n",
      " 34  power_shot_power             1584 non-null   int64  \n",
      " 35  power_jumping                1584 non-null   int64  \n",
      " 36  power_stamina                1584 non-null   int64  \n",
      " 37  power_strength               1584 non-null   int64  \n",
      " 38  power_long_shots             1584 non-null   int64  \n",
      " 39  mentality_aggression         1584 non-null   int64  \n",
      " 40  mentality_interceptions      1584 non-null   int64  \n",
      " 41  mentality_positioning        1584 non-null   int64  \n",
      " 42  mentality_vision             1584 non-null   int64  \n",
      " 43  mentality_penalties          1584 non-null   int64  \n",
      " 44  mentality_composure          1584 non-null   int64  \n",
      " 45  defending_marking_awareness  1584 non-null   int64  \n",
      " 46  defending_standing_tackle    1584 non-null   int64  \n",
      " 47  defending_sliding_tackle     1584 non-null   int64  \n",
      " 48  goalkeeping_diving           1584 non-null   int64  \n",
      " 49  goalkeeping_handling         1584 non-null   int64  \n",
      " 50  goalkeeping_kicking          1584 non-null   int64  \n",
      " 51  goalkeeping_positioning      1584 non-null   int64  \n",
      " 52  goalkeeping_reflexes         1584 non-null   int64  \n",
      " 53  goalkeeping_speed            170 non-null    float64\n",
      " 54  ls                           1584 non-null   int64  \n",
      " 55  st                           1584 non-null   int64  \n",
      " 56  rs                           1584 non-null   int64  \n",
      " 57  lw                           1584 non-null   int64  \n",
      " 58  lf                           1584 non-null   int64  \n",
      " 59  cf                           1584 non-null   int64  \n",
      " 60  rf                           1584 non-null   int64  \n",
      " 61  rw                           1584 non-null   int64  \n",
      " 62  lam                          1584 non-null   int64  \n",
      " 63  cam                          1584 non-null   int64  \n",
      " 64  ram                          1584 non-null   int64  \n",
      " 65  lm                           1584 non-null   int64  \n",
      " 66  lcm                          1584 non-null   int64  \n",
      " 67  cm                           1584 non-null   int64  \n",
      " 68  rcm                          1584 non-null   int64  \n",
      " 69  rm                           1584 non-null   int64  \n",
      " 70  lwb                          1584 non-null   int64  \n",
      " 71  ldm                          1584 non-null   int64  \n",
      " 72  cdm                          1584 non-null   int64  \n",
      " 73  rdm                          1584 non-null   int64  \n",
      " 74  rwb                          1584 non-null   int64  \n",
      " 75  lb                           1584 non-null   int64  \n",
      " 76  rb                           1584 non-null   int64  \n",
      " 77  lcb                          1584 non-null   int64  \n",
      " 78  cb                           1584 non-null   int64  \n",
      " 79  rcb                          1584 non-null   int64  \n",
      " 80  gk                           1584 non-null   int64  \n",
      " 81  position                     1584 non-null   int64  \n",
      "dtypes: float64(9), int64(68), object(5)\n",
      "memory usage: 1014.9+ KB\n"
     ]
    }
   ],
   "source": [
    "df_train.info()"
   ]
  },
  {
   "cell_type": "markdown",
   "metadata": {},
   "source": [
    "As we can see, the dataset contains close to 81 features, out of which input values we will keep only information about player's skills and abilities at different playing position along with the `age` of the player for prediction of the valuation of the player. `Age` will be an interesting feature as usually younger players have much higher valuation because of their growing potential. We will drop other features for this particular analysis. So, let's begin!"
   ]
  },
  {
   "cell_type": "markdown",
   "metadata": {},
   "source": [
    "### Data Pre-processing"
   ]
  },
  {
   "cell_type": "code",
   "execution_count": 10,
   "metadata": {},
   "outputs": [],
   "source": [
    "# Drop un-necessary features\n",
    "features_to_drop = ['short_name', 'club_name', 'league_name', 'preferred_foot', 'wage_eur', 'club_position', 'position']\n",
    "target_variable = 'value_eur'"
   ]
  },
  {
   "cell_type": "code",
   "execution_count": 11,
   "metadata": {},
   "outputs": [],
   "source": [
    "df_train.drop(columns=features_to_drop, inplace=True)"
   ]
  },
  {
   "cell_type": "code",
   "execution_count": 12,
   "metadata": {},
   "outputs": [
    {
     "name": "stdout",
     "output_type": "stream",
     "text": [
      "(1584, 75)\n"
     ]
    }
   ],
   "source": [
    "print(df_train.shape)"
   ]
  },
  {
   "cell_type": "code",
   "execution_count": 13,
   "metadata": {
    "scrolled": true
   },
   "outputs": [
    {
     "data": {
      "image/png": "[encoded data removed]",
      "text/plain": [
       "<Figure size 925.25x720 with 1 Axes>"
      ]
     },
     "metadata": {
      "needs_background": "light"
     },
     "output_type": "display_data"
    }
   ],
   "source": [
    "# Let's check missing values\n",
    "\n",
    "sns.displot(\n",
    "    data=df_train.isna().melt(value_name=\"missing\"),\n",
    "    y=\"variable\",\n",
    "    hue=\"missing\",\n",
    "    multiple=\"fill\",\n",
    "    height=10,\n",
    "    aspect=1.2\n",
    ")\n",
    "plt.show()"
   ]
  },
  {
   "cell_type": "markdown",
   "metadata": {},
   "source": [
    "As we analyze the missing values, we can see that goalkeeping speed has high percentage of missing values. Hence we can also drop the feature. But for the other missing values related to pace, shooting, passing, dribbling, defending and physic, mostly this data is not available for goal keepers. So, instead of dropping the records related to goal keepers, we will keep a constant value of 40 for all the goal keepers, as the intuitively thinking since these goal keepers are professional players, almost all of them would have a score of atleast 40. There is one missing value under value_eur. It is highly possible that the player has decided to retire and hence no value is assigned. So, we will just drop this record as an outlier."
   ]
  },
  {
   "cell_type": "code",
   "execution_count": 14,
   "metadata": {},
   "outputs": [],
   "source": [
    "# dropping the feature 'goalkeeping_speed'\n",
    "df_train.drop(columns=['goalkeeping_speed'], inplace=True)"
   ]
  },
  {
   "cell_type": "code",
   "execution_count": 15,
   "metadata": {},
   "outputs": [],
   "source": [
    "# data imputation for the features 'pace', 'shooting', 'passing', 'dribbling', 'defending' and 'physic' with a constant value of 40\n",
    "for features in ['pace', 'shooting', 'passing', 'dribbling', 'defending', 'physic']:\n",
    "    df_train[features].fillna(40, inplace=True)"
   ]
  },
  {
   "cell_type": "code",
   "execution_count": 16,
   "metadata": {},
   "outputs": [],
   "source": [
    "# Consider all other missing values as outliers, so just drop them\n",
    "df_train.dropna(inplace=True)"
   ]
  },
  {
   "cell_type": "code",
   "execution_count": 17,
   "metadata": {},
   "outputs": [],
   "source": [
    "# Let's separate the labels from training data\n",
    "labels = df_train[target_variable]\n",
    "df_train.drop(columns=[target_variable], inplace=True)"
   ]
  },
  {
   "cell_type": "code",
   "execution_count": 18,
   "metadata": {},
   "outputs": [
    {
     "name": "stdout",
     "output_type": "stream",
     "text": [
      "(1583, 73)\n"
     ]
    }
   ],
   "source": [
    "print(df_train.shape)"
   ]
  },
  {
   "cell_type": "code",
   "execution_count": 19,
   "metadata": {},
   "outputs": [
    {
     "name": "stdout",
     "output_type": "stream",
     "text": [
      "<class 'pandas.core.frame.DataFrame'>\n",
      "Int64Index: 1583 entries, 0 to 1583\n",
      "Data columns (total 73 columns):\n",
      " #   Column                       Non-Null Count  Dtype  \n",
      "---  ------                       --------------  -----  \n",
      " 0   overall                      1583 non-null   int64  \n",
      " 1   potential                    1583 non-null   int64  \n",
      " 2   age                          1583 non-null   int64  \n",
      " 3   weak_foot                    1583 non-null   int64  \n",
      " 4   skill_moves                  1583 non-null   int64  \n",
      " 5   international_reputation     1583 non-null   int64  \n",
      " 6   pace                         1583 non-null   float64\n",
      " 7   shooting                     1583 non-null   float64\n",
      " 8   passing                      1583 non-null   float64\n",
      " 9   dribbling                    1583 non-null   float64\n",
      " 10  defending                    1583 non-null   float64\n",
      " 11  physic                       1583 non-null   float64\n",
      " 12  attacking_crossing           1583 non-null   int64  \n",
      " 13  attacking_finishing          1583 non-null   int64  \n",
      " 14  attacking_heading_accuracy   1583 non-null   int64  \n",
      " 15  attacking_short_passing      1583 non-null   int64  \n",
      " 16  attacking_volleys            1583 non-null   int64  \n",
      " 17  skill_dribbling              1583 non-null   int64  \n",
      " 18  skill_curve                  1583 non-null   int64  \n",
      " 19  skill_fk_accuracy            1583 non-null   int64  \n",
      " 20  skill_long_passing           1583 non-null   int64  \n",
      " 21  skill_ball_control           1583 non-null   int64  \n",
      " 22  movement_acceleration        1583 non-null   int64  \n",
      " 23  movement_sprint_speed        1583 non-null   int64  \n",
      " 24  movement_agility             1583 non-null   int64  \n",
      " 25  movement_reactions           1583 non-null   int64  \n",
      " 26  movement_balance             1583 non-null   int64  \n",
      " 27  power_shot_power             1583 non-null   int64  \n",
      " 28  power_jumping                1583 non-null   int64  \n",
      " 29  power_stamina                1583 non-null   int64  \n",
      " 30  power_strength               1583 non-null   int64  \n",
      " 31  power_long_shots             1583 non-null   int64  \n",
      " 32  mentality_aggression         1583 non-null   int64  \n",
      " 33  mentality_interceptions      1583 non-null   int64  \n",
      " 34  mentality_positioning        1583 non-null   int64  \n",
      " 35  mentality_vision             1583 non-null   int64  \n",
      " 36  mentality_penalties          1583 non-null   int64  \n",
      " 37  mentality_composure          1583 non-null   int64  \n",
      " 38  defending_marking_awareness  1583 non-null   int64  \n",
      " 39  defending_standing_tackle    1583 non-null   int64  \n",
      " 40  defending_sliding_tackle     1583 non-null   int64  \n",
      " 41  goalkeeping_diving           1583 non-null   int64  \n",
      " 42  goalkeeping_handling         1583 non-null   int64  \n",
      " 43  goalkeeping_kicking          1583 non-null   int64  \n",
      " 44  goalkeeping_positioning      1583 non-null   int64  \n",
      " 45  goalkeeping_reflexes         1583 non-null   int64  \n",
      " 46  ls                           1583 non-null   int64  \n",
      " 47  st                           1583 non-null   int64  \n",
      " 48  rs                           1583 non-null   int64  \n",
      " 49  lw                           1583 non-null   int64  \n",
      " 50  lf                           1583 non-null   int64  \n",
      " 51  cf                           1583 non-null   int64  \n",
      " 52  rf                           1583 non-null   int64  \n",
      " 53  rw                           1583 non-null   int64  \n",
      " 54  lam                          1583 non-null   int64  \n",
      " 55  cam                          1583 non-null   int64  \n",
      " 56  ram                          1583 non-null   int64  \n",
      " 57  lm                           1583 non-null   int64  \n",
      " 58  lcm                          1583 non-null   int64  \n",
      " 59  cm                           1583 non-null   int64  \n",
      " 60  rcm                          1583 non-null   int64  \n",
      " 61  rm                           1583 non-null   int64  \n",
      " 62  lwb                          1583 non-null   int64  \n",
      " 63  ldm                          1583 non-null   int64  \n",
      " 64  cdm                          1583 non-null   int64  \n",
      " 65  rdm                          1583 non-null   int64  \n",
      " 66  rwb                          1583 non-null   int64  \n",
      " 67  lb                           1583 non-null   int64  \n",
      " 68  rb                           1583 non-null   int64  \n",
      " 69  lcb                          1583 non-null   int64  \n",
      " 70  cb                           1583 non-null   int64  \n",
      " 71  rcb                          1583 non-null   int64  \n",
      " 72  gk                           1583 non-null   int64  \n",
      "dtypes: float64(6), int64(67)\n",
      "memory usage: 915.2 KB\n"
     ]
    }
   ],
   "source": [
    "df_train.info()"
   ]
  },
  {
   "cell_type": "code",
   "execution_count": 20,
   "metadata": {},
   "outputs": [
    {
     "data": {
      "text/html": [
       "<div>\n",
       "<style scoped>\n",
       "    .dataframe tbody tr th:only-of-type {\n",
       "        vertical-align: middle;\n",
       "    }\n",
       "\n",
       "    .dataframe tbody tr th {\n",
       "        vertical-align: top;\n",
       "    }\n",
       "\n",
       "    .dataframe thead th {\n",
       "        text-align: right;\n",
       "    }\n",
       "</style>\n",
       "<table border=\"1\" class=\"dataframe\">\n",
       "  <thead>\n",
       "    <tr style=\"text-align: right;\">\n",
       "      <th></th>\n",
       "      <th>overall</th>\n",
       "      <th>potential</th>\n",
       "      <th>age</th>\n",
       "      <th>weak_foot</th>\n",
       "      <th>skill_moves</th>\n",
       "      <th>international_reputation</th>\n",
       "      <th>pace</th>\n",
       "      <th>shooting</th>\n",
       "      <th>passing</th>\n",
       "      <th>dribbling</th>\n",
       "      <th>defending</th>\n",
       "      <th>physic</th>\n",
       "      <th>attacking_crossing</th>\n",
       "      <th>attacking_finishing</th>\n",
       "      <th>attacking_heading_accuracy</th>\n",
       "      <th>attacking_short_passing</th>\n",
       "      <th>attacking_volleys</th>\n",
       "      <th>skill_dribbling</th>\n",
       "      <th>skill_curve</th>\n",
       "      <th>skill_fk_accuracy</th>\n",
       "      <th>skill_long_passing</th>\n",
       "      <th>skill_ball_control</th>\n",
       "      <th>movement_acceleration</th>\n",
       "      <th>movement_sprint_speed</th>\n",
       "      <th>movement_agility</th>\n",
       "      <th>movement_reactions</th>\n",
       "      <th>movement_balance</th>\n",
       "      <th>power_shot_power</th>\n",
       "      <th>power_jumping</th>\n",
       "      <th>power_stamina</th>\n",
       "      <th>power_strength</th>\n",
       "      <th>power_long_shots</th>\n",
       "      <th>mentality_aggression</th>\n",
       "      <th>mentality_interceptions</th>\n",
       "      <th>mentality_positioning</th>\n",
       "      <th>mentality_vision</th>\n",
       "      <th>mentality_penalties</th>\n",
       "      <th>mentality_composure</th>\n",
       "      <th>defending_marking_awareness</th>\n",
       "      <th>defending_standing_tackle</th>\n",
       "      <th>defending_sliding_tackle</th>\n",
       "      <th>goalkeeping_diving</th>\n",
       "      <th>goalkeeping_handling</th>\n",
       "      <th>goalkeeping_kicking</th>\n",
       "      <th>goalkeeping_positioning</th>\n",
       "      <th>goalkeeping_reflexes</th>\n",
       "      <th>ls</th>\n",
       "      <th>st</th>\n",
       "      <th>rs</th>\n",
       "      <th>lw</th>\n",
       "      <th>lf</th>\n",
       "      <th>cf</th>\n",
       "      <th>rf</th>\n",
       "      <th>rw</th>\n",
       "      <th>lam</th>\n",
       "      <th>cam</th>\n",
       "      <th>ram</th>\n",
       "      <th>lm</th>\n",
       "      <th>lcm</th>\n",
       "      <th>cm</th>\n",
       "      <th>rcm</th>\n",
       "      <th>rm</th>\n",
       "      <th>lwb</th>\n",
       "      <th>ldm</th>\n",
       "      <th>cdm</th>\n",
       "      <th>rdm</th>\n",
       "      <th>rwb</th>\n",
       "      <th>lb</th>\n",
       "      <th>rb</th>\n",
       "      <th>lcb</th>\n",
       "      <th>cb</th>\n",
       "      <th>rcb</th>\n",
       "      <th>gk</th>\n",
       "    </tr>\n",
       "  </thead>\n",
       "  <tbody>\n",
       "    <tr>\n",
       "      <th>count</th>\n",
       "      <td>1583.000000</td>\n",
       "      <td>1583.000000</td>\n",
       "      <td>1583.000000</td>\n",
       "      <td>1583.000000</td>\n",
       "      <td>1583.000000</td>\n",
       "      <td>1583.000000</td>\n",
       "      <td>1583.000000</td>\n",
       "      <td>1583.000000</td>\n",
       "      <td>1583.000000</td>\n",
       "      <td>1583.000000</td>\n",
       "      <td>1583.000000</td>\n",
       "      <td>1583.000000</td>\n",
       "      <td>1583.000000</td>\n",
       "      <td>1583.000000</td>\n",
       "      <td>1583.000000</td>\n",
       "      <td>1583.000000</td>\n",
       "      <td>1583.000000</td>\n",
       "      <td>1583.000000</td>\n",
       "      <td>1583.000000</td>\n",
       "      <td>1583.000000</td>\n",
       "      <td>1583.000000</td>\n",
       "      <td>1583.000000</td>\n",
       "      <td>1583.000000</td>\n",
       "      <td>1583.000000</td>\n",
       "      <td>1583.000000</td>\n",
       "      <td>1583.000000</td>\n",
       "      <td>1583.000000</td>\n",
       "      <td>1583.000000</td>\n",
       "      <td>1583.000000</td>\n",
       "      <td>1583.000000</td>\n",
       "      <td>1583.000000</td>\n",
       "      <td>1583.000000</td>\n",
       "      <td>1583.000000</td>\n",
       "      <td>1583.000000</td>\n",
       "      <td>1583.000000</td>\n",
       "      <td>1583.000000</td>\n",
       "      <td>1583.000000</td>\n",
       "      <td>1583.000000</td>\n",
       "      <td>1583.000000</td>\n",
       "      <td>1583.000000</td>\n",
       "      <td>1583.000000</td>\n",
       "      <td>1583.000000</td>\n",
       "      <td>1583.000000</td>\n",
       "      <td>1583.000000</td>\n",
       "      <td>1583.000000</td>\n",
       "      <td>1583.000000</td>\n",
       "      <td>1583.000000</td>\n",
       "      <td>1583.000000</td>\n",
       "      <td>1583.000000</td>\n",
       "      <td>1583.000000</td>\n",
       "      <td>1583.000000</td>\n",
       "      <td>1583.000000</td>\n",
       "      <td>1583.000000</td>\n",
       "      <td>1583.000000</td>\n",
       "      <td>1583.000000</td>\n",
       "      <td>1583.000000</td>\n",
       "      <td>1583.000000</td>\n",
       "      <td>1583.000000</td>\n",
       "      <td>1583.000000</td>\n",
       "      <td>1583.000000</td>\n",
       "      <td>1583.000000</td>\n",
       "      <td>1583.000000</td>\n",
       "      <td>1583.000000</td>\n",
       "      <td>1583.000000</td>\n",
       "      <td>1583.000000</td>\n",
       "      <td>1583.000000</td>\n",
       "      <td>1583.000000</td>\n",
       "      <td>1583.000000</td>\n",
       "      <td>1583.000000</td>\n",
       "      <td>1583.000000</td>\n",
       "      <td>1583.000000</td>\n",
       "      <td>1583.000000</td>\n",
       "      <td>1583.000000</td>\n",
       "    </tr>\n",
       "    <tr>\n",
       "      <th>mean</th>\n",
       "      <td>73.734681</td>\n",
       "      <td>79.324700</td>\n",
       "      <td>24.907138</td>\n",
       "      <td>3.118762</td>\n",
       "      <td>2.732154</td>\n",
       "      <td>1.513582</td>\n",
       "      <td>66.998737</td>\n",
       "      <td>57.435881</td>\n",
       "      <td>63.022742</td>\n",
       "      <td>67.363866</td>\n",
       "      <td>56.610234</td>\n",
       "      <td>64.701832</td>\n",
       "      <td>57.180670</td>\n",
       "      <td>51.972836</td>\n",
       "      <td>57.411876</td>\n",
       "      <td>67.205306</td>\n",
       "      <td>49.363234</td>\n",
       "      <td>63.965888</td>\n",
       "      <td>55.857233</td>\n",
       "      <td>48.341756</td>\n",
       "      <td>60.979154</td>\n",
       "      <td>67.006949</td>\n",
       "      <td>67.050537</td>\n",
       "      <td>67.173089</td>\n",
       "      <td>66.701200</td>\n",
       "      <td>70.781428</td>\n",
       "      <td>66.026532</td>\n",
       "      <td>65.702464</td>\n",
       "      <td>66.627922</td>\n",
       "      <td>65.884397</td>\n",
       "      <td>66.926721</td>\n",
       "      <td>54.065698</td>\n",
       "      <td>61.503474</td>\n",
       "      <td>53.308275</td>\n",
       "      <td>57.042956</td>\n",
       "      <td>61.941251</td>\n",
       "      <td>52.694251</td>\n",
       "      <td>67.384081</td>\n",
       "      <td>53.367025</td>\n",
       "      <td>54.289956</td>\n",
       "      <td>51.726469</td>\n",
       "      <td>16.958939</td>\n",
       "      <td>16.698042</td>\n",
       "      <td>16.543272</td>\n",
       "      <td>16.833860</td>\n",
       "      <td>17.230575</td>\n",
       "      <td>63.322173</td>\n",
       "      <td>63.322173</td>\n",
       "      <td>63.322173</td>\n",
       "      <td>62.700569</td>\n",
       "      <td>62.799116</td>\n",
       "      <td>62.799116</td>\n",
       "      <td>62.799116</td>\n",
       "      <td>62.700569</td>\n",
       "      <td>65.315224</td>\n",
       "      <td>65.315224</td>\n",
       "      <td>65.315224</td>\n",
       "      <td>65.477574</td>\n",
       "      <td>64.916614</td>\n",
       "      <td>64.916614</td>\n",
       "      <td>64.916614</td>\n",
       "      <td>65.477574</td>\n",
       "      <td>62.720152</td>\n",
       "      <td>62.756791</td>\n",
       "      <td>62.756791</td>\n",
       "      <td>62.756791</td>\n",
       "      <td>62.720152</td>\n",
       "      <td>61.833228</td>\n",
       "      <td>61.833228</td>\n",
       "      <td>60.468730</td>\n",
       "      <td>60.468730</td>\n",
       "      <td>60.468730</td>\n",
       "      <td>24.924826</td>\n",
       "    </tr>\n",
       "    <tr>\n",
       "      <th>std</th>\n",
       "      <td>7.622434</td>\n",
       "      <td>5.306837</td>\n",
       "      <td>4.549166</td>\n",
       "      <td>0.685627</td>\n",
       "      <td>0.945558</td>\n",
       "      <td>0.804325</td>\n",
       "      <td>13.966096</td>\n",
       "      <td>15.596671</td>\n",
       "      <td>12.974281</td>\n",
       "      <td>13.470115</td>\n",
       "      <td>18.313579</td>\n",
       "      <td>12.832019</td>\n",
       "      <td>20.585248</td>\n",
       "      <td>21.894469</td>\n",
       "      <td>19.461971</td>\n",
       "      <td>15.653289</td>\n",
       "      <td>20.289064</td>\n",
       "      <td>20.537348</td>\n",
       "      <td>20.825470</td>\n",
       "      <td>19.738719</td>\n",
       "      <td>16.095525</td>\n",
       "      <td>18.286125</td>\n",
       "      <td>14.604866</td>\n",
       "      <td>14.304185</td>\n",
       "      <td>14.198958</td>\n",
       "      <td>9.806483</td>\n",
       "      <td>14.550294</td>\n",
       "      <td>13.425094</td>\n",
       "      <td>12.048990</td>\n",
       "      <td>16.031414</td>\n",
       "      <td>12.343777</td>\n",
       "      <td>21.490438</td>\n",
       "      <td>18.260991</td>\n",
       "      <td>23.486359</td>\n",
       "      <td>22.200345</td>\n",
       "      <td>15.310762</td>\n",
       "      <td>17.080164</td>\n",
       "      <td>12.527908</td>\n",
       "      <td>22.552142</td>\n",
       "      <td>24.205503</td>\n",
       "      <td>24.019384</td>\n",
       "      <td>19.864527</td>\n",
       "      <td>18.995203</td>\n",
       "      <td>18.492879</td>\n",
       "      <td>19.350668</td>\n",
       "      <td>20.292346</td>\n",
       "      <td>14.915389</td>\n",
       "      <td>14.915389</td>\n",
       "      <td>14.915389</td>\n",
       "      <td>16.161403</td>\n",
       "      <td>15.720861</td>\n",
       "      <td>15.720861</td>\n",
       "      <td>15.720861</td>\n",
       "      <td>16.161403</td>\n",
       "      <td>15.483928</td>\n",
       "      <td>15.483928</td>\n",
       "      <td>15.483928</td>\n",
       "      <td>15.543035</td>\n",
       "      <td>14.841280</td>\n",
       "      <td>14.841280</td>\n",
       "      <td>14.841280</td>\n",
       "      <td>15.543035</td>\n",
       "      <td>15.423254</td>\n",
       "      <td>15.608504</td>\n",
       "      <td>15.608504</td>\n",
       "      <td>15.608504</td>\n",
       "      <td>15.423254</td>\n",
       "      <td>15.750865</td>\n",
       "      <td>15.750865</td>\n",
       "      <td>16.741286</td>\n",
       "      <td>16.741286</td>\n",
       "      <td>16.741286</td>\n",
       "      <td>17.113735</td>\n",
       "    </tr>\n",
       "    <tr>\n",
       "      <th>min</th>\n",
       "      <td>49.000000</td>\n",
       "      <td>60.000000</td>\n",
       "      <td>16.000000</td>\n",
       "      <td>1.000000</td>\n",
       "      <td>1.000000</td>\n",
       "      <td>1.000000</td>\n",
       "      <td>30.000000</td>\n",
       "      <td>22.000000</td>\n",
       "      <td>31.000000</td>\n",
       "      <td>33.000000</td>\n",
       "      <td>16.000000</td>\n",
       "      <td>35.000000</td>\n",
       "      <td>7.000000</td>\n",
       "      <td>5.000000</td>\n",
       "      <td>8.000000</td>\n",
       "      <td>11.000000</td>\n",
       "      <td>4.000000</td>\n",
       "      <td>6.000000</td>\n",
       "      <td>7.000000</td>\n",
       "      <td>5.000000</td>\n",
       "      <td>11.000000</td>\n",
       "      <td>10.000000</td>\n",
       "      <td>13.000000</td>\n",
       "      <td>15.000000</td>\n",
       "      <td>20.000000</td>\n",
       "      <td>35.000000</td>\n",
       "      <td>22.000000</td>\n",
       "      <td>24.000000</td>\n",
       "      <td>31.000000</td>\n",
       "      <td>16.000000</td>\n",
       "      <td>24.000000</td>\n",
       "      <td>5.000000</td>\n",
       "      <td>11.000000</td>\n",
       "      <td>6.000000</td>\n",
       "      <td>4.000000</td>\n",
       "      <td>14.000000</td>\n",
       "      <td>8.000000</td>\n",
       "      <td>23.000000</td>\n",
       "      <td>5.000000</td>\n",
       "      <td>7.000000</td>\n",
       "      <td>8.000000</td>\n",
       "      <td>2.000000</td>\n",
       "      <td>2.000000</td>\n",
       "      <td>2.000000</td>\n",
       "      <td>2.000000</td>\n",
       "      <td>2.000000</td>\n",
       "      <td>21.000000</td>\n",
       "      <td>21.000000</td>\n",
       "      <td>21.000000</td>\n",
       "      <td>17.000000</td>\n",
       "      <td>18.000000</td>\n",
       "      <td>18.000000</td>\n",
       "      <td>18.000000</td>\n",
       "      <td>17.000000</td>\n",
       "      <td>21.000000</td>\n",
       "      <td>21.000000</td>\n",
       "      <td>21.000000</td>\n",
       "      <td>20.000000</td>\n",
       "      <td>21.000000</td>\n",
       "      <td>21.000000</td>\n",
       "      <td>21.000000</td>\n",
       "      <td>20.000000</td>\n",
       "      <td>18.000000</td>\n",
       "      <td>21.000000</td>\n",
       "      <td>21.000000</td>\n",
       "      <td>21.000000</td>\n",
       "      <td>18.000000</td>\n",
       "      <td>18.000000</td>\n",
       "      <td>18.000000</td>\n",
       "      <td>20.000000</td>\n",
       "      <td>20.000000</td>\n",
       "      <td>20.000000</td>\n",
       "      <td>11.000000</td>\n",
       "    </tr>\n",
       "    <tr>\n",
       "      <th>25%</th>\n",
       "      <td>68.000000</td>\n",
       "      <td>76.000000</td>\n",
       "      <td>21.000000</td>\n",
       "      <td>3.000000</td>\n",
       "      <td>2.000000</td>\n",
       "      <td>1.000000</td>\n",
       "      <td>60.000000</td>\n",
       "      <td>41.000000</td>\n",
       "      <td>55.000000</td>\n",
       "      <td>61.000000</td>\n",
       "      <td>40.000000</td>\n",
       "      <td>57.000000</td>\n",
       "      <td>46.000000</td>\n",
       "      <td>35.000000</td>\n",
       "      <td>49.000000</td>\n",
       "      <td>63.000000</td>\n",
       "      <td>35.000000</td>\n",
       "      <td>59.000000</td>\n",
       "      <td>43.000000</td>\n",
       "      <td>34.000000</td>\n",
       "      <td>53.000000</td>\n",
       "      <td>63.000000</td>\n",
       "      <td>60.000000</td>\n",
       "      <td>60.000000</td>\n",
       "      <td>59.000000</td>\n",
       "      <td>64.000000</td>\n",
       "      <td>57.500000</td>\n",
       "      <td>56.000000</td>\n",
       "      <td>59.000000</td>\n",
       "      <td>58.000000</td>\n",
       "      <td>59.000000</td>\n",
       "      <td>39.000000</td>\n",
       "      <td>50.000000</td>\n",
       "      <td>30.000000</td>\n",
       "      <td>45.000000</td>\n",
       "      <td>52.000000</td>\n",
       "      <td>42.000000</td>\n",
       "      <td>60.000000</td>\n",
       "      <td>34.000000</td>\n",
       "      <td>31.000000</td>\n",
       "      <td>27.000000</td>\n",
       "      <td>8.000000</td>\n",
       "      <td>8.000000</td>\n",
       "      <td>8.000000</td>\n",
       "      <td>8.000000</td>\n",
       "      <td>8.000000</td>\n",
       "      <td>57.000000</td>\n",
       "      <td>57.000000</td>\n",
       "      <td>57.000000</td>\n",
       "      <td>56.000000</td>\n",
       "      <td>56.000000</td>\n",
       "      <td>56.000000</td>\n",
       "      <td>56.000000</td>\n",
       "      <td>56.000000</td>\n",
       "      <td>59.000000</td>\n",
       "      <td>59.000000</td>\n",
       "      <td>59.000000</td>\n",
       "      <td>60.000000</td>\n",
       "      <td>59.000000</td>\n",
       "      <td>59.000000</td>\n",
       "      <td>59.000000</td>\n",
       "      <td>60.000000</td>\n",
       "      <td>56.000000</td>\n",
       "      <td>54.500000</td>\n",
       "      <td>54.500000</td>\n",
       "      <td>54.500000</td>\n",
       "      <td>56.000000</td>\n",
       "      <td>54.000000</td>\n",
       "      <td>54.000000</td>\n",
       "      <td>48.000000</td>\n",
       "      <td>48.000000</td>\n",
       "      <td>48.000000</td>\n",
       "      <td>18.000000</td>\n",
       "    </tr>\n",
       "    <tr>\n",
       "      <th>50%</th>\n",
       "      <td>75.000000</td>\n",
       "      <td>79.000000</td>\n",
       "      <td>24.000000</td>\n",
       "      <td>3.000000</td>\n",
       "      <td>3.000000</td>\n",
       "      <td>1.000000</td>\n",
       "      <td>69.000000</td>\n",
       "      <td>60.000000</td>\n",
       "      <td>65.000000</td>\n",
       "      <td>71.000000</td>\n",
       "      <td>60.000000</td>\n",
       "      <td>67.000000</td>\n",
       "      <td>63.000000</td>\n",
       "      <td>57.000000</td>\n",
       "      <td>61.000000</td>\n",
       "      <td>72.000000</td>\n",
       "      <td>52.000000</td>\n",
       "      <td>70.000000</td>\n",
       "      <td>61.000000</td>\n",
       "      <td>48.000000</td>\n",
       "      <td>65.000000</td>\n",
       "      <td>72.000000</td>\n",
       "      <td>69.000000</td>\n",
       "      <td>69.000000</td>\n",
       "      <td>69.000000</td>\n",
       "      <td>72.000000</td>\n",
       "      <td>68.000000</td>\n",
       "      <td>68.000000</td>\n",
       "      <td>67.000000</td>\n",
       "      <td>68.000000</td>\n",
       "      <td>68.000000</td>\n",
       "      <td>60.000000</td>\n",
       "      <td>66.000000</td>\n",
       "      <td>60.000000</td>\n",
       "      <td>64.000000</td>\n",
       "      <td>64.000000</td>\n",
       "      <td>54.000000</td>\n",
       "      <td>69.000000</td>\n",
       "      <td>60.000000</td>\n",
       "      <td>63.000000</td>\n",
       "      <td>60.000000</td>\n",
       "      <td>11.000000</td>\n",
       "      <td>11.000000</td>\n",
       "      <td>11.000000</td>\n",
       "      <td>11.000000</td>\n",
       "      <td>11.000000</td>\n",
       "      <td>67.000000</td>\n",
       "      <td>67.000000</td>\n",
       "      <td>67.000000</td>\n",
       "      <td>67.000000</td>\n",
       "      <td>67.000000</td>\n",
       "      <td>67.000000</td>\n",
       "      <td>67.000000</td>\n",
       "      <td>67.000000</td>\n",
       "      <td>69.000000</td>\n",
       "      <td>69.000000</td>\n",
       "      <td>69.000000</td>\n",
       "      <td>70.000000</td>\n",
       "      <td>69.000000</td>\n",
       "      <td>69.000000</td>\n",
       "      <td>69.000000</td>\n",
       "      <td>70.000000</td>\n",
       "      <td>66.000000</td>\n",
       "      <td>66.000000</td>\n",
       "      <td>66.000000</td>\n",
       "      <td>66.000000</td>\n",
       "      <td>66.000000</td>\n",
       "      <td>65.000000</td>\n",
       "      <td>65.000000</td>\n",
       "      <td>64.000000</td>\n",
       "      <td>64.000000</td>\n",
       "      <td>64.000000</td>\n",
       "      <td>19.000000</td>\n",
       "    </tr>\n",
       "    <tr>\n",
       "      <th>75%</th>\n",
       "      <td>79.000000</td>\n",
       "      <td>83.000000</td>\n",
       "      <td>28.000000</td>\n",
       "      <td>3.000000</td>\n",
       "      <td>3.000000</td>\n",
       "      <td>2.000000</td>\n",
       "      <td>77.000000</td>\n",
       "      <td>70.000000</td>\n",
       "      <td>73.000000</td>\n",
       "      <td>77.000000</td>\n",
       "      <td>73.000000</td>\n",
       "      <td>75.000000</td>\n",
       "      <td>73.000000</td>\n",
       "      <td>69.000000</td>\n",
       "      <td>71.000000</td>\n",
       "      <td>78.000000</td>\n",
       "      <td>65.000000</td>\n",
       "      <td>77.000000</td>\n",
       "      <td>72.000000</td>\n",
       "      <td>64.000000</td>\n",
       "      <td>73.000000</td>\n",
       "      <td>79.000000</td>\n",
       "      <td>77.000000</td>\n",
       "      <td>77.000000</td>\n",
       "      <td>77.000000</td>\n",
       "      <td>78.000000</td>\n",
       "      <td>76.500000</td>\n",
       "      <td>77.000000</td>\n",
       "      <td>75.000000</td>\n",
       "      <td>77.000000</td>\n",
       "      <td>76.000000</td>\n",
       "      <td>71.000000</td>\n",
       "      <td>76.000000</td>\n",
       "      <td>74.000000</td>\n",
       "      <td>74.000000</td>\n",
       "      <td>74.000000</td>\n",
       "      <td>65.000000</td>\n",
       "      <td>76.000000</td>\n",
       "      <td>72.000000</td>\n",
       "      <td>75.000000</td>\n",
       "      <td>73.000000</td>\n",
       "      <td>14.000000</td>\n",
       "      <td>14.000000</td>\n",
       "      <td>14.000000</td>\n",
       "      <td>14.000000</td>\n",
       "      <td>14.000000</td>\n",
       "      <td>74.000000</td>\n",
       "      <td>74.000000</td>\n",
       "      <td>74.000000</td>\n",
       "      <td>74.000000</td>\n",
       "      <td>74.000000</td>\n",
       "      <td>74.000000</td>\n",
       "      <td>74.000000</td>\n",
       "      <td>74.000000</td>\n",
       "      <td>76.000000</td>\n",
       "      <td>76.000000</td>\n",
       "      <td>76.000000</td>\n",
       "      <td>76.000000</td>\n",
       "      <td>75.000000</td>\n",
       "      <td>75.000000</td>\n",
       "      <td>75.000000</td>\n",
       "      <td>76.000000</td>\n",
       "      <td>74.000000</td>\n",
       "      <td>75.000000</td>\n",
       "      <td>75.000000</td>\n",
       "      <td>75.000000</td>\n",
       "      <td>74.000000</td>\n",
       "      <td>74.000000</td>\n",
       "      <td>74.000000</td>\n",
       "      <td>74.000000</td>\n",
       "      <td>74.000000</td>\n",
       "      <td>74.000000</td>\n",
       "      <td>21.000000</td>\n",
       "    </tr>\n",
       "    <tr>\n",
       "      <th>max</th>\n",
       "      <td>93.000000</td>\n",
       "      <td>95.000000</td>\n",
       "      <td>42.000000</td>\n",
       "      <td>5.000000</td>\n",
       "      <td>5.000000</td>\n",
       "      <td>5.000000</td>\n",
       "      <td>96.000000</td>\n",
       "      <td>93.000000</td>\n",
       "      <td>93.000000</td>\n",
       "      <td>95.000000</td>\n",
       "      <td>91.000000</td>\n",
       "      <td>91.000000</td>\n",
       "      <td>94.000000</td>\n",
       "      <td>95.000000</td>\n",
       "      <td>93.000000</td>\n",
       "      <td>94.000000</td>\n",
       "      <td>90.000000</td>\n",
       "      <td>96.000000</td>\n",
       "      <td>93.000000</td>\n",
       "      <td>94.000000</td>\n",
       "      <td>93.000000</td>\n",
       "      <td>96.000000</td>\n",
       "      <td>96.000000</td>\n",
       "      <td>96.000000</td>\n",
       "      <td>96.000000</td>\n",
       "      <td>95.000000</td>\n",
       "      <td>95.000000</td>\n",
       "      <td>95.000000</td>\n",
       "      <td>95.000000</td>\n",
       "      <td>96.000000</td>\n",
       "      <td>95.000000</td>\n",
       "      <td>94.000000</td>\n",
       "      <td>93.000000</td>\n",
       "      <td>91.000000</td>\n",
       "      <td>95.000000</td>\n",
       "      <td>95.000000</td>\n",
       "      <td>92.000000</td>\n",
       "      <td>96.000000</td>\n",
       "      <td>94.000000</td>\n",
       "      <td>93.000000</td>\n",
       "      <td>90.000000</td>\n",
       "      <td>90.000000</td>\n",
       "      <td>92.000000</td>\n",
       "      <td>93.000000</td>\n",
       "      <td>91.000000</td>\n",
       "      <td>90.000000</td>\n",
       "      <td>92.000000</td>\n",
       "      <td>92.000000</td>\n",
       "      <td>92.000000</td>\n",
       "      <td>92.000000</td>\n",
       "      <td>93.000000</td>\n",
       "      <td>93.000000</td>\n",
       "      <td>93.000000</td>\n",
       "      <td>92.000000</td>\n",
       "      <td>93.000000</td>\n",
       "      <td>93.000000</td>\n",
       "      <td>93.000000</td>\n",
       "      <td>93.000000</td>\n",
       "      <td>91.000000</td>\n",
       "      <td>91.000000</td>\n",
       "      <td>91.000000</td>\n",
       "      <td>93.000000</td>\n",
       "      <td>88.000000</td>\n",
       "      <td>89.000000</td>\n",
       "      <td>89.000000</td>\n",
       "      <td>89.000000</td>\n",
       "      <td>88.000000</td>\n",
       "      <td>87.000000</td>\n",
       "      <td>87.000000</td>\n",
       "      <td>91.000000</td>\n",
       "      <td>91.000000</td>\n",
       "      <td>91.000000</td>\n",
       "      <td>92.000000</td>\n",
       "    </tr>\n",
       "  </tbody>\n",
       "</table>\n",
       "</div>"
      ],
      "text/plain": [
       "           overall    potential          age    weak_foot  skill_moves  \\\n",
       "count  1583.000000  1583.000000  1583.000000  1583.000000  1583.000000   \n",
       "mean     73.734681    79.324700    24.907138     3.118762     2.732154   \n",
       "std       7.622434     5.306837     4.549166     0.685627     0.945558   \n",
       "min      49.000000    60.000000    16.000000     1.000000     1.000000   \n",
       "25%      68.000000    76.000000    21.000000     3.000000     2.000000   \n",
       "50%      75.000000    79.000000    24.000000     3.000000     3.000000   \n",
       "75%      79.000000    83.000000    28.000000     3.000000     3.000000   \n",
       "max      93.000000    95.000000    42.000000     5.000000     5.000000   \n",
       "\n",
       "       international_reputation         pace     shooting      passing  \\\n",
       "count               1583.000000  1583.000000  1583.000000  1583.000000   \n",
       "mean                   1.513582    66.998737    57.435881    63.022742   \n",
       "std                    0.804325    13.966096    15.596671    12.974281   \n",
       "min                    1.000000    30.000000    22.000000    31.000000   \n",
       "25%                    1.000000    60.000000    41.000000    55.000000   \n",
       "50%                    1.000000    69.000000    60.000000    65.000000   \n",
       "75%                    2.000000    77.000000    70.000000    73.000000   \n",
       "max                    5.000000    96.000000    93.000000    93.000000   \n",
       "\n",
       "         dribbling    defending       physic  attacking_crossing  \\\n",
       "count  1583.000000  1583.000000  1583.000000         1583.000000   \n",
       "mean     67.363866    56.610234    64.701832           57.180670   \n",
       "std      13.470115    18.313579    12.832019           20.585248   \n",
       "min      33.000000    16.000000    35.000000            7.000000   \n",
       "25%      61.000000    40.000000    57.000000           46.000000   \n",
       "50%      71.000000    60.000000    67.000000           63.000000   \n",
       "75%      77.000000    73.000000    75.000000           73.000000   \n",
       "max      95.000000    91.000000    91.000000           94.000000   \n",
       "\n",
       "       attacking_finishing  attacking_heading_accuracy  \\\n",
       "count          1583.000000                 1583.000000   \n",
       "mean             51.972836                   57.411876   \n",
       "std              21.894469                   19.461971   \n",
       "min               5.000000                    8.000000   \n",
       "25%              35.000000                   49.000000   \n",
       "50%              57.000000                   61.000000   \n",
       "75%              69.000000                   71.000000   \n",
       "max              95.000000                   93.000000   \n",
       "\n",
       "       attacking_short_passing  attacking_volleys  skill_dribbling  \\\n",
       "count              1583.000000        1583.000000      1583.000000   \n",
       "mean                 67.205306          49.363234        63.965888   \n",
       "std                  15.653289          20.289064        20.537348   \n",
       "min                  11.000000           4.000000         6.000000   \n",
       "25%                  63.000000          35.000000        59.000000   \n",
       "50%                  72.000000          52.000000        70.000000   \n",
       "75%                  78.000000          65.000000        77.000000   \n",
       "max                  94.000000          90.000000        96.000000   \n",
       "\n",
       "       skill_curve  skill_fk_accuracy  skill_long_passing  skill_ball_control  \\\n",
       "count  1583.000000        1583.000000         1583.000000         1583.000000   \n",
       "mean     55.857233          48.341756           60.979154           67.006949   \n",
       "std      20.825470          19.738719           16.095525           18.286125   \n",
       "min       7.000000           5.000000           11.000000           10.000000   \n",
       "25%      43.000000          34.000000           53.000000           63.000000   \n",
       "50%      61.000000          48.000000           65.000000           72.000000   \n",
       "75%      72.000000          64.000000           73.000000           79.000000   \n",
       "max      93.000000          94.000000           93.000000           96.000000   \n",
       "\n",
       "       movement_acceleration  movement_sprint_speed  movement_agility  \\\n",
       "count            1583.000000            1583.000000       1583.000000   \n",
       "mean               67.050537              67.173089         66.701200   \n",
       "std                14.604866              14.304185         14.198958   \n",
       "min                13.000000              15.000000         20.000000   \n",
       "25%                60.000000              60.000000         59.000000   \n",
       "50%                69.000000              69.000000         69.000000   \n",
       "75%                77.000000              77.000000         77.000000   \n",
       "max                96.000000              96.000000         96.000000   \n",
       "\n",
       "       movement_reactions  movement_balance  power_shot_power  power_jumping  \\\n",
       "count         1583.000000       1583.000000       1583.000000    1583.000000   \n",
       "mean            70.781428         66.026532         65.702464      66.627922   \n",
       "std              9.806483         14.550294         13.425094      12.048990   \n",
       "min             35.000000         22.000000         24.000000      31.000000   \n",
       "25%             64.000000         57.500000         56.000000      59.000000   \n",
       "50%             72.000000         68.000000         68.000000      67.000000   \n",
       "75%             78.000000         76.500000         77.000000      75.000000   \n",
       "max             95.000000         95.000000         95.000000      95.000000   \n",
       "\n",
       "       power_stamina  power_strength  power_long_shots  mentality_aggression  \\\n",
       "count    1583.000000     1583.000000       1583.000000           1583.000000   \n",
       "mean       65.884397       66.926721         54.065698             61.503474   \n",
       "std        16.031414       12.343777         21.490438             18.260991   \n",
       "min        16.000000       24.000000          5.000000             11.000000   \n",
       "25%        58.000000       59.000000         39.000000             50.000000   \n",
       "50%        68.000000       68.000000         60.000000             66.000000   \n",
       "75%        77.000000       76.000000         71.000000             76.000000   \n",
       "max        96.000000       95.000000         94.000000             93.000000   \n",
       "\n",
       "       mentality_interceptions  mentality_positioning  mentality_vision  \\\n",
       "count              1583.000000            1583.000000       1583.000000   \n",
       "mean                 53.308275              57.042956         61.941251   \n",
       "std                  23.486359              22.200345         15.310762   \n",
       "min                   6.000000               4.000000         14.000000   \n",
       "25%                  30.000000              45.000000         52.000000   \n",
       "50%                  60.000000              64.000000         64.000000   \n",
       "75%                  74.000000              74.000000         74.000000   \n",
       "max                  91.000000              95.000000         95.000000   \n",
       "\n",
       "       mentality_penalties  mentality_composure  defending_marking_awareness  \\\n",
       "count          1583.000000          1583.000000                  1583.000000   \n",
       "mean             52.694251            67.384081                    53.367025   \n",
       "std              17.080164            12.527908                    22.552142   \n",
       "min               8.000000            23.000000                     5.000000   \n",
       "25%              42.000000            60.000000                    34.000000   \n",
       "50%              54.000000            69.000000                    60.000000   \n",
       "75%              65.000000            76.000000                    72.000000   \n",
       "max              92.000000            96.000000                    94.000000   \n",
       "\n",
       "       defending_standing_tackle  defending_sliding_tackle  \\\n",
       "count                1583.000000               1583.000000   \n",
       "mean                   54.289956                 51.726469   \n",
       "std                    24.205503                 24.019384   \n",
       "min                     7.000000                  8.000000   \n",
       "25%                    31.000000                 27.000000   \n",
       "50%                    63.000000                 60.000000   \n",
       "75%                    75.000000                 73.000000   \n",
       "max                    93.000000                 90.000000   \n",
       "\n",
       "       goalkeeping_diving  goalkeeping_handling  goalkeeping_kicking  \\\n",
       "count         1583.000000           1583.000000          1583.000000   \n",
       "mean            16.958939             16.698042            16.543272   \n",
       "std             19.864527             18.995203            18.492879   \n",
       "min              2.000000              2.000000             2.000000   \n",
       "25%              8.000000              8.000000             8.000000   \n",
       "50%             11.000000             11.000000            11.000000   \n",
       "75%             14.000000             14.000000            14.000000   \n",
       "max             90.000000             92.000000            93.000000   \n",
       "\n",
       "       goalkeeping_positioning  goalkeeping_reflexes           ls  \\\n",
       "count              1583.000000           1583.000000  1583.000000   \n",
       "mean                 16.833860             17.230575    63.322173   \n",
       "std                  19.350668             20.292346    14.915389   \n",
       "min                   2.000000              2.000000    21.000000   \n",
       "25%                   8.000000              8.000000    57.000000   \n",
       "50%                  11.000000             11.000000    67.000000   \n",
       "75%                  14.000000             14.000000    74.000000   \n",
       "max                  91.000000             90.000000    92.000000   \n",
       "\n",
       "                st           rs           lw           lf           cf  \\\n",
       "count  1583.000000  1583.000000  1583.000000  1583.000000  1583.000000   \n",
       "mean     63.322173    63.322173    62.700569    62.799116    62.799116   \n",
       "std      14.915389    14.915389    16.161403    15.720861    15.720861   \n",
       "min      21.000000    21.000000    17.000000    18.000000    18.000000   \n",
       "25%      57.000000    57.000000    56.000000    56.000000    56.000000   \n",
       "50%      67.000000    67.000000    67.000000    67.000000    67.000000   \n",
       "75%      74.000000    74.000000    74.000000    74.000000    74.000000   \n",
       "max      92.000000    92.000000    92.000000    93.000000    93.000000   \n",
       "\n",
       "                rf           rw          lam          cam          ram  \\\n",
       "count  1583.000000  1583.000000  1583.000000  1583.000000  1583.000000   \n",
       "mean     62.799116    62.700569    65.315224    65.315224    65.315224   \n",
       "std      15.720861    16.161403    15.483928    15.483928    15.483928   \n",
       "min      18.000000    17.000000    21.000000    21.000000    21.000000   \n",
       "25%      56.000000    56.000000    59.000000    59.000000    59.000000   \n",
       "50%      67.000000    67.000000    69.000000    69.000000    69.000000   \n",
       "75%      74.000000    74.000000    76.000000    76.000000    76.000000   \n",
       "max      93.000000    92.000000    93.000000    93.000000    93.000000   \n",
       "\n",
       "                lm          lcm           cm          rcm           rm  \\\n",
       "count  1583.000000  1583.000000  1583.000000  1583.000000  1583.000000   \n",
       "mean     65.477574    64.916614    64.916614    64.916614    65.477574   \n",
       "std      15.543035    14.841280    14.841280    14.841280    15.543035   \n",
       "min      20.000000    21.000000    21.000000    21.000000    20.000000   \n",
       "25%      60.000000    59.000000    59.000000    59.000000    60.000000   \n",
       "50%      70.000000    69.000000    69.000000    69.000000    70.000000   \n",
       "75%      76.000000    75.000000    75.000000    75.000000    76.000000   \n",
       "max      93.000000    91.000000    91.000000    91.000000    93.000000   \n",
       "\n",
       "               lwb          ldm          cdm          rdm          rwb  \\\n",
       "count  1583.000000  1583.000000  1583.000000  1583.000000  1583.000000   \n",
       "mean     62.720152    62.756791    62.756791    62.756791    62.720152   \n",
       "std      15.423254    15.608504    15.608504    15.608504    15.423254   \n",
       "min      18.000000    21.000000    21.000000    21.000000    18.000000   \n",
       "25%      56.000000    54.500000    54.500000    54.500000    56.000000   \n",
       "50%      66.000000    66.000000    66.000000    66.000000    66.000000   \n",
       "75%      74.000000    75.000000    75.000000    75.000000    74.000000   \n",
       "max      88.000000    89.000000    89.000000    89.000000    88.000000   \n",
       "\n",
       "                lb           rb          lcb           cb          rcb  \\\n",
       "count  1583.000000  1583.000000  1583.000000  1583.000000  1583.000000   \n",
       "mean     61.833228    61.833228    60.468730    60.468730    60.468730   \n",
       "std      15.750865    15.750865    16.741286    16.741286    16.741286   \n",
       "min      18.000000    18.000000    20.000000    20.000000    20.000000   \n",
       "25%      54.000000    54.000000    48.000000    48.000000    48.000000   \n",
       "50%      65.000000    65.000000    64.000000    64.000000    64.000000   \n",
       "75%      74.000000    74.000000    74.000000    74.000000    74.000000   \n",
       "max      87.000000    87.000000    91.000000    91.000000    91.000000   \n",
       "\n",
       "                gk  \n",
       "count  1583.000000  \n",
       "mean     24.924826  \n",
       "std      17.113735  \n",
       "min      11.000000  \n",
       "25%      18.000000  \n",
       "50%      19.000000  \n",
       "75%      21.000000  \n",
       "max      92.000000  "
      ]
     },
     "execution_count": 20,
     "metadata": {},
     "output_type": "execute_result"
    }
   ],
   "source": [
    "df_train.describe()"
   ]
  },
  {
   "cell_type": "markdown",
   "metadata": {},
   "source": [
    "After keeping the necessary features, we see that we have only numerical features and hence we do not need to perform any one-hot encoding as there is no categorical features unlike the  [Explainerdashboard Tutorial](https://github.com/PacktPublishing/Applied-Machine-Learning-Explainability-Techniques/blob/main/Chapter09/Explainer_dashboard_example.ipynb) and the [H2O AutoML Expainer Tutorial](https://github.com/PacktPublishing/Applied-Machine-Learning-Explainability-Techniques/blob/main/Chapter09/H2o_AutoML_explain_example.ipynb). Data Scaling or normalization would have definitely helped, but we will skip that for this tutorial as our interest is in the model explainability and not getting a highly efficient model. But you can try it out yourself! Also you can perform outlier detection and removal and further advanced feature engineering to get a better model, but we will skip these steps for this tutorial!"
   ]
  },
  {
   "cell_type": "markdown",
   "metadata": {},
   "source": [
    "### Training the model"
   ]
  },
  {
   "cell_type": "markdown",
   "metadata": {},
   "source": [
    "For this tutorial we will use a model trained on `RandomForestRegressor` algorithm will minimal hyper-parameter tuning as our black-box model. But please feel free to explore more algorithms or different hyper-parameter tuning settings."
   ]
  },
  {
   "cell_type": "code",
   "execution_count": 23,
   "metadata": {},
   "outputs": [],
   "source": [
    "x_train,x_valid,y_train,y_valid = train_test_split(df_train,labels,test_size=0.2,random_state=123)"
   ]
  },
  {
   "cell_type": "code",
   "execution_count": 75,
   "metadata": {},
   "outputs": [],
   "source": [
    "model = RandomForestRegressor(n_estimators=790, min_samples_split = 3, random_state=123).fit(x_train, y_train)"
   ]
  },
  {
   "cell_type": "code",
   "execution_count": 76,
   "metadata": {},
   "outputs": [
    {
     "name": "stdout",
     "output_type": "stream",
     "text": [
      "R^2 score is:\n"
     ]
    },
    {
     "data": {
      "text/plain": [
       "0.9362439187667068"
      ]
     },
     "execution_count": 76,
     "metadata": {},
     "output_type": "execute_result"
    }
   ],
   "source": [
    "y_pred = model.predict(x_valid)\n",
    "print('R^2 score is:')\n",
    "r2_score(y_valid, y_pred)"
   ]
  },
  {
   "cell_type": "code",
   "execution_count": 77,
   "metadata": {},
   "outputs": [
    {
     "data": {
      "text/plain": [
       "0.9362439187667068"
      ]
     },
     "execution_count": 77,
     "metadata": {},
     "output_type": "execute_result"
    }
   ],
   "source": [
    "model.score(x_valid, y_valid) # 790 best so far, mss = 3 - 0.9364"
   ]
  },
  {
   "cell_type": "markdown",
   "metadata": {},
   "source": [
    "$R^2$ score of 93.6% seems to be very good. Now, let's check this on the unseen test data from 2022-2023 season."
   ]
  },
  {
   "cell_type": "markdown",
   "metadata": {},
   "source": [
    "### Model evaluation on unseen data"
   ]
  },
  {
   "cell_type": "code",
   "execution_count": 99,
   "metadata": {},
   "outputs": [],
   "source": [
    "df_test = pd.read_csv('datasets/fifa_league_22_test.csv')\n",
    "\n",
    "def predict_player_valuation(df_test, model, player_name):\n",
    "    '''\n",
    "    Predict club position from player quality\n",
    "    '''\n",
    "    \n",
    "    df_test = df_test[df_test['short_name'] == player_name]\n",
    "    display.display(df_test)\n",
    "    print(f'Original Valuation for the 2022-2023 season for {player_name} is EUR. {df_test[target_variable].values[0]}')\n",
    "    df_test.drop(columns=['short_name', \n",
    "                          'club_name', \n",
    "                          'league_name', \n",
    "                          'preferred_foot', \n",
    "                          'wage_eur', \n",
    "                          'club_position'], inplace=True)\n",
    "    df_test.drop(columns=['goalkeeping_speed'], inplace=True)\n",
    "    df_test.drop(columns=[target_variable], inplace=True)\n",
    "    for features in ['pace', 'shooting', 'passing', 'dribbling', 'defending', 'physic']:\n",
    "            df_test[features].fillna(40, inplace=True)\n",
    "    \n",
    "    pred = model.predict(df_test)\n",
    "    print(f'Predicted Valuation for the 2022-2023 season for {player_name} is EUR. {round(pred[0], 1)}')"
   ]
  },
  {
   "cell_type": "markdown",
   "metadata": {},
   "source": [
    "Now, let's apply the model for a young and promising player `Jadon Sancho` who has joined `Manchester United` from `Borussia Dortmund` for the `2022-2023` season for a whooping 85M EUR. "
   ]
  },
  {
   "cell_type": "code",
   "execution_count": 108,
   "metadata": {},
   "outputs": [
    {
     "data": {
      "text/html": [
       "<div>\n",
       "<style scoped>\n",
       "    .dataframe tbody tr th:only-of-type {\n",
       "        vertical-align: middle;\n",
       "    }\n",
       "\n",
       "    .dataframe tbody tr th {\n",
       "        vertical-align: top;\n",
       "    }\n",
       "\n",
       "    .dataframe thead th {\n",
       "        text-align: right;\n",
       "    }\n",
       "</style>\n",
       "<table border=\"1\" class=\"dataframe\">\n",
       "  <thead>\n",
       "    <tr style=\"text-align: right;\">\n",
       "      <th></th>\n",
       "      <th>short_name</th>\n",
       "      <th>overall</th>\n",
       "      <th>potential</th>\n",
       "      <th>value_eur</th>\n",
       "      <th>wage_eur</th>\n",
       "      <th>age</th>\n",
       "      <th>club_name</th>\n",
       "      <th>league_name</th>\n",
       "      <th>club_position</th>\n",
       "      <th>preferred_foot</th>\n",
       "      <th>weak_foot</th>\n",
       "      <th>skill_moves</th>\n",
       "      <th>international_reputation</th>\n",
       "      <th>pace</th>\n",
       "      <th>shooting</th>\n",
       "      <th>passing</th>\n",
       "      <th>dribbling</th>\n",
       "      <th>defending</th>\n",
       "      <th>physic</th>\n",
       "      <th>attacking_crossing</th>\n",
       "      <th>attacking_finishing</th>\n",
       "      <th>attacking_heading_accuracy</th>\n",
       "      <th>attacking_short_passing</th>\n",
       "      <th>attacking_volleys</th>\n",
       "      <th>skill_dribbling</th>\n",
       "      <th>skill_curve</th>\n",
       "      <th>skill_fk_accuracy</th>\n",
       "      <th>skill_long_passing</th>\n",
       "      <th>skill_ball_control</th>\n",
       "      <th>movement_acceleration</th>\n",
       "      <th>movement_sprint_speed</th>\n",
       "      <th>movement_agility</th>\n",
       "      <th>movement_reactions</th>\n",
       "      <th>movement_balance</th>\n",
       "      <th>power_shot_power</th>\n",
       "      <th>power_jumping</th>\n",
       "      <th>power_stamina</th>\n",
       "      <th>power_strength</th>\n",
       "      <th>power_long_shots</th>\n",
       "      <th>mentality_aggression</th>\n",
       "      <th>mentality_interceptions</th>\n",
       "      <th>mentality_positioning</th>\n",
       "      <th>mentality_vision</th>\n",
       "      <th>mentality_penalties</th>\n",
       "      <th>mentality_composure</th>\n",
       "      <th>defending_marking_awareness</th>\n",
       "      <th>defending_standing_tackle</th>\n",
       "      <th>defending_sliding_tackle</th>\n",
       "      <th>goalkeeping_diving</th>\n",
       "      <th>goalkeeping_handling</th>\n",
       "      <th>goalkeeping_kicking</th>\n",
       "      <th>goalkeeping_positioning</th>\n",
       "      <th>goalkeeping_reflexes</th>\n",
       "      <th>goalkeeping_speed</th>\n",
       "      <th>ls</th>\n",
       "      <th>st</th>\n",
       "      <th>rs</th>\n",
       "      <th>lw</th>\n",
       "      <th>lf</th>\n",
       "      <th>cf</th>\n",
       "      <th>rf</th>\n",
       "      <th>rw</th>\n",
       "      <th>lam</th>\n",
       "      <th>cam</th>\n",
       "      <th>ram</th>\n",
       "      <th>lm</th>\n",
       "      <th>lcm</th>\n",
       "      <th>cm</th>\n",
       "      <th>rcm</th>\n",
       "      <th>rm</th>\n",
       "      <th>lwb</th>\n",
       "      <th>ldm</th>\n",
       "      <th>cdm</th>\n",
       "      <th>rdm</th>\n",
       "      <th>rwb</th>\n",
       "      <th>lb</th>\n",
       "      <th>rb</th>\n",
       "      <th>lcb</th>\n",
       "      <th>cb</th>\n",
       "      <th>rcb</th>\n",
       "      <th>gk</th>\n",
       "    </tr>\n",
       "  </thead>\n",
       "  <tbody>\n",
       "    <tr>\n",
       "      <th>45</th>\n",
       "      <td>J. Sancho</td>\n",
       "      <td>87</td>\n",
       "      <td>91</td>\n",
       "      <td>116500000.0</td>\n",
       "      <td>150000.0</td>\n",
       "      <td>21</td>\n",
       "      <td>Manchester United</td>\n",
       "      <td>English Premier League</td>\n",
       "      <td>LM</td>\n",
       "      <td>Right</td>\n",
       "      <td>3</td>\n",
       "      <td>5</td>\n",
       "      <td>3</td>\n",
       "      <td>81.0</td>\n",
       "      <td>76.0</td>\n",
       "      <td>82.0</td>\n",
       "      <td>91.0</td>\n",
       "      <td>36.0</td>\n",
       "      <td>65.0</td>\n",
       "      <td>82</td>\n",
       "      <td>83</td>\n",
       "      <td>38</td>\n",
       "      <td>87</td>\n",
       "      <td>83</td>\n",
       "      <td>92</td>\n",
       "      <td>84</td>\n",
       "      <td>65</td>\n",
       "      <td>70</td>\n",
       "      <td>90</td>\n",
       "      <td>85</td>\n",
       "      <td>78</td>\n",
       "      <td>91</td>\n",
       "      <td>85</td>\n",
       "      <td>90</td>\n",
       "      <td>73</td>\n",
       "      <td>51</td>\n",
       "      <td>77</td>\n",
       "      <td>68</td>\n",
       "      <td>65</td>\n",
       "      <td>44</td>\n",
       "      <td>39</td>\n",
       "      <td>83</td>\n",
       "      <td>87</td>\n",
       "      <td>62</td>\n",
       "      <td>86</td>\n",
       "      <td>32</td>\n",
       "      <td>39</td>\n",
       "      <td>32</td>\n",
       "      <td>7</td>\n",
       "      <td>11</td>\n",
       "      <td>10</td>\n",
       "      <td>11</td>\n",
       "      <td>13</td>\n",
       "      <td>NaN</td>\n",
       "      <td>81</td>\n",
       "      <td>81</td>\n",
       "      <td>81</td>\n",
       "      <td>85</td>\n",
       "      <td>84</td>\n",
       "      <td>84</td>\n",
       "      <td>84</td>\n",
       "      <td>85</td>\n",
       "      <td>88</td>\n",
       "      <td>88</td>\n",
       "      <td>88</td>\n",
       "      <td>88</td>\n",
       "      <td>82</td>\n",
       "      <td>82</td>\n",
       "      <td>82</td>\n",
       "      <td>88</td>\n",
       "      <td>69</td>\n",
       "      <td>65</td>\n",
       "      <td>65</td>\n",
       "      <td>65</td>\n",
       "      <td>69</td>\n",
       "      <td>63</td>\n",
       "      <td>63</td>\n",
       "      <td>51</td>\n",
       "      <td>51</td>\n",
       "      <td>51</td>\n",
       "      <td>22</td>\n",
       "    </tr>\n",
       "  </tbody>\n",
       "</table>\n",
       "</div>"
      ],
      "text/plain": [
       "   short_name  overall  potential    value_eur  wage_eur  age  \\\n",
       "45  J. Sancho       87         91  116500000.0  150000.0   21   \n",
       "\n",
       "            club_name             league_name club_position preferred_foot  \\\n",
       "45  Manchester United  English Premier League            LM          Right   \n",
       "\n",
       "    weak_foot  skill_moves  international_reputation  pace  shooting  passing  \\\n",
       "45          3            5                         3  81.0      76.0     82.0   \n",
       "\n",
       "    dribbling  defending  physic  attacking_crossing  attacking_finishing  \\\n",
       "45       91.0       36.0    65.0                  82                   83   \n",
       "\n",
       "    attacking_heading_accuracy  attacking_short_passing  attacking_volleys  \\\n",
       "45                          38                       87                 83   \n",
       "\n",
       "    skill_dribbling  skill_curve  skill_fk_accuracy  skill_long_passing  \\\n",
       "45               92           84                 65                  70   \n",
       "\n",
       "    skill_ball_control  movement_acceleration  movement_sprint_speed  \\\n",
       "45                  90                     85                     78   \n",
       "\n",
       "    movement_agility  movement_reactions  movement_balance  power_shot_power  \\\n",
       "45                91                  85                90                73   \n",
       "\n",
       "    power_jumping  power_stamina  power_strength  power_long_shots  \\\n",
       "45             51             77              68                65   \n",
       "\n",
       "    mentality_aggression  mentality_interceptions  mentality_positioning  \\\n",
       "45                    44                       39                     83   \n",
       "\n",
       "    mentality_vision  mentality_penalties  mentality_composure  \\\n",
       "45                87                   62                   86   \n",
       "\n",
       "    defending_marking_awareness  defending_standing_tackle  \\\n",
       "45                           32                         39   \n",
       "\n",
       "    defending_sliding_tackle  goalkeeping_diving  goalkeeping_handling  \\\n",
       "45                        32                   7                    11   \n",
       "\n",
       "    goalkeeping_kicking  goalkeeping_positioning  goalkeeping_reflexes  \\\n",
       "45                   10                       11                    13   \n",
       "\n",
       "    goalkeeping_speed  ls  st  rs  lw  lf  cf  rf  rw  lam  cam  ram  lm  lcm  \\\n",
       "45                NaN  81  81  81  85  84  84  84  85   88   88   88  88   82   \n",
       "\n",
       "    cm  rcm  rm  lwb  ldm  cdm  rdm  rwb  lb  rb  lcb  cb  rcb  gk  \n",
       "45  82   82  88   69   65   65   65   69  63  63   51  51   51  22  "
      ]
     },
     "metadata": {},
     "output_type": "display_data"
    },
    {
     "name": "stdout",
     "output_type": "stream",
     "text": [
      "Original Valuation for the 2022-2023 season for J. Sancho is EUR. 116500000.0\n",
      "Predicted Valuation for the 2022-2023 season for J. Sancho is EUR. 112242909.9\n"
     ]
    }
   ],
   "source": [
    "predict_player_valuation(df_test, model, player_name = 'J. Sancho')"
   ]
  },
  {
   "cell_type": "markdown",
   "metadata": {},
   "source": [
    "Interestingly the model was very close! The original valuation in Euros for `Jadon Sancho` was around 116M EUR, but the model predicted it to be 112.25M EUR which is quite close! Now, let's try DALEX for model explainability and decipher why the model was prediction was close!"
   ]
  },
  {
   "cell_type": "markdown",
   "metadata": {},
   "source": [
    "### Model Explainability using DALEX"
   ]
  },
  {
   "cell_type": "markdown",
   "metadata": {},
   "source": [
    "- doc string"
   ]
  },
  {
   "cell_type": "code",
   "execution_count": 109,
   "metadata": {},
   "outputs": [
    {
     "name": "stdout",
     "output_type": "stream",
     "text": [
      "Preparation of a new explainer is initiated\n",
      "\n",
      "  -> data              : 317 rows 73 cols\n",
      "  -> target variable   : Parameter 'y' was a pandas.Series. Converted to a numpy.ndarray.\n",
      "  -> target variable   : 317 values\n",
      "  -> model_class       : sklearn.ensemble._forest.RandomForestRegressor (default)\n",
      "  -> label             : Random Forest\n",
      "  -> predict function  : <function yhat_default at 0x0000022801C365E8> will be used (default)\n",
      "  -> predict function  : Accepts pandas.DataFrame and numpy.ndarray.\n",
      "  -> predicted values  : min = 2.83e+05, mean = 1.35e+07, max = 1.07e+08\n",
      "  -> model type        : regression will be used\n",
      "  -> residual function : difference between y and yhat (default)\n",
      "  -> residuals         : min = -4.17e+07, mean = -5.39e+05, max = 1.08e+07\n",
      "  -> model_info        : package sklearn\n",
      "\n",
      "A new explainer has been created!\n"
     ]
    }
   ],
   "source": [
    "# Create DALEX Explainer object \n",
    "explainer = dx.Explainer(model, \n",
    "                         x_valid, y_valid, \n",
    "                         model_type = 'regression',\n",
    "                         label='Random Forest')"
   ]
  },
  {
   "cell_type": "code",
   "execution_count": 110,
   "metadata": {},
   "outputs": [],
   "source": [
    "# Model Level Explanation"
   ]
  },
  {
   "cell_type": "code",
   "execution_count": 113,
   "metadata": {},
   "outputs": [
    {
     "data": {
      "text/html": [
       "<div>\n",
       "<style scoped>\n",
       "    .dataframe tbody tr th:only-of-type {\n",
       "        vertical-align: middle;\n",
       "    }\n",
       "\n",
       "    .dataframe tbody tr th {\n",
       "        vertical-align: top;\n",
       "    }\n",
       "\n",
       "    .dataframe thead th {\n",
       "        text-align: right;\n",
       "    }\n",
       "</style>\n",
       "<table border=\"1\" class=\"dataframe\">\n",
       "  <thead>\n",
       "    <tr style=\"text-align: right;\">\n",
       "      <th></th>\n",
       "      <th>mse</th>\n",
       "      <th>rmse</th>\n",
       "      <th>r2</th>\n",
       "      <th>mae</th>\n",
       "      <th>mad</th>\n",
       "    </tr>\n",
       "  </thead>\n",
       "  <tbody>\n",
       "    <tr>\n",
       "      <th>Random Forest</th>\n",
       "      <td>1.766635e+13</td>\n",
       "      <td>4.203136e+06</td>\n",
       "      <td>0.936244</td>\n",
       "      <td>1.313286e+06</td>\n",
       "      <td>272801.687764</td>\n",
       "    </tr>\n",
       "  </tbody>\n",
       "</table>\n",
       "</div>"
      ],
      "text/plain": [
       "                        mse          rmse        r2           mae  \\\n",
       "Random Forest  1.766635e+13  4.203136e+06  0.936244  1.313286e+06   \n",
       "\n",
       "                         mad  \n",
       "Random Forest  272801.687764  "
      ]
     },
     "metadata": {},
     "output_type": "display_data"
    }
   ],
   "source": [
    "model_performance = explainer.model_performance(\"regression\")\n",
    "display.display(model_performance.result)"
   ]
  },
  {
   "cell_type": "code",
   "execution_count": 114,
   "metadata": {},
   "outputs": [],
   "source": [
    "# Feature Importance"
   ]
  },
  {
   "cell_type": "code",
   "execution_count": 146,
   "metadata": {},
   "outputs": [],
   "source": [
    "variable_groups = {\n",
    "    'international_reputation' : ['international_reputation'],\n",
    "    'age': ['age'],\n",
    "    'attacking': ['attacking_crossing',\n",
    "       'attacking_finishing', 'attacking_heading_accuracy',\n",
    "       'attacking_short_passing', 'attacking_volleys'],\n",
    "    'skill': ['skill_dribbling', 'skill_moves',\n",
    "       'skill_curve', 'skill_fk_accuracy', 'skill_long_passing',\n",
    "       'skill_ball_control'],\n",
    "    'movement': ['movement_acceleration', 'movement_sprint_speed',\n",
    "       'movement_agility', 'movement_reactions', 'movement_balance'],\n",
    "    'power': ['power_shot_power', 'power_jumping', 'power_stamina', 'power_strength',\n",
    "       'power_long_shots'],\n",
    "    'mentality': ['mentality_aggression', 'mentality_interceptions',\n",
    "       'mentality_positioning', 'mentality_vision', 'mentality_penalties',\n",
    "       'mentality_composure'],\n",
    "    'defending': ['defending_marking_awareness', 'defending_standing_tackle',\n",
    "       'defending_sliding_tackle'],\n",
    "    'goalkeeping' : ['goalkeeping_diving',\n",
    "       'goalkeeping_handling', 'goalkeeping_kicking',\n",
    "       'goalkeeping_positioning', 'goalkeeping_reflexes'],\n",
    "    'abilities': ['overall', 'potential', 'pace', 'shooting', \n",
    "                  'passing','dribbling','defending','physic', 'weak_foot'],\n",
    "}"
   ]
  },
  {
   "cell_type": "code",
   "execution_count": 149,
   "metadata": {},
   "outputs": [
    {
     "data": {
      "application/vnd.plotly.v1+json": {
       "config": {
        "displaylogo": false,
        "modeBarButtonsToRemove": [
         "sendDataToCloud",
         "lasso2d",
         "autoScale2d",
         "select2d",
         "zoom2d",
         "pan2d",
         "zoomIn2d",
         "zoomOut2d",
         "resetScale2d",
         "toggleSpikelines",
         "hoverCompareCartesian",
         "hoverClosestCartesian"
        ],
        "plotlyServerURL": "https://plot.ly",
        "staticPlot": false,
        "toImageButtonOptions": {
         "height": null,
         "width": null
        }
       },
       "data": [
        {
         "base": 4203135.805511208,
         "hoverinfo": "text",
         "hoverlabel": {
          "bgcolor": "rgba(0,0,0,0.8)"
         },
         "hovertext": [
          "Model: Random Forest loss after<br>variable: abilities is permuted: 23422766.0<br>Drop-out loss change: +19219630.0",
          "Model: Random Forest loss after<br>variable: age is permuted: 6002594.0<br>Drop-out loss change: +1799459.0",
          "Model: Random Forest loss after<br>variable: goalkeeping is permuted: 4298643.0<br>Drop-out loss change: +95507.0",
          "Model: Random Forest loss after<br>variable: defending is permuted: 4230556.0<br>Drop-out loss change: +27420.0",
          "Model: Random Forest loss after<br>variable: attacking is permuted: 4219991.0<br>Drop-out loss change: +16856.0",
          "Model: Random Forest loss after<br>variable: movement is permuted: 4206305.0<br>Drop-out loss change: +3170.0",
          "Model: Random Forest loss after<br>variable: international_reputation is permuted: 4201099.0<br>Drop-out loss change: -2037.0",
          "Model: Random Forest loss after<br>variable: power is permuted: 4198706.0<br>Drop-out loss change: -4430.0",
          "Model: Random Forest loss after<br>variable: skill is permuted: 4098012.0<br>Drop-out loss change: -105123.0",
          "Model: Random Forest loss after<br>variable: mentality is permuted: 3731265.0<br>Drop-out loss change: -471871.0"
         ],
         "marker": {
          "color": "#46bac2"
         },
         "orientation": "h",
         "showlegend": false,
         "text": [
          "+19219630.0",
          "+1799459.0",
          "+95507.0",
          "+27420.0",
          "+16856.0",
          "+3170.0",
          "2037.0",
          "4430.0",
          "105123.0",
          "471871.0"
         ],
         "textposition": "outside",
         "type": "bar",
         "x": [
          19219630.09891142,
          1799458.6183252716,
          95507.42734411824,
          27420.096273940057,
          16855.512369157746,
          3169.6616433896124,
          -2036.6353347012773,
          -4429.5603487426415,
          -105123.46944360295,
          -471870.8493866585
         ],
         "xaxis": "x",
         "y": [
          "abilities",
          "age",
          "goalkeeping",
          "defending",
          "attacking",
          "movement",
          "international_reputation",
          "power",
          "skill",
          "mentality"
         ],
         "yaxis": "y"
        }
       ],
       "layout": {
        "annotations": [
         {
          "font": {
           "size": 16
          },
          "showarrow": false,
          "text": "Random Forest",
          "x": 0.5,
          "xanchor": "center",
          "xref": "paper",
          "y": 1,
          "yanchor": "bottom",
          "yref": "paper"
         },
         {
          "font": {
           "size": 16
          },
          "showarrow": false,
          "text": "drop-out loss",
          "x": 0.5,
          "xanchor": "center",
          "xref": "paper",
          "y": 0,
          "yanchor": "top",
          "yref": "paper",
          "yshift": -30
         }
        ],
        "font": {
         "color": "#371ea3"
        },
        "height": 383,
        "margin": {
         "b": 71,
         "r": 30,
         "t": 78
        },
        "shapes": [
         {
          "line": {
           "color": "#371ea3",
           "dash": "dot",
           "width": 1.5
          },
          "type": "line",
          "x0": 4203135.805511208,
          "x1": 4203135.805511208,
          "xref": "x",
          "y0": -1,
          "y1": 10,
          "yref": "y"
         }
        ],
        "template": {
         "data": {
          "scatter": [
           {
            "type": "scatter"
           }
          ]
         }
        },
        "title": {
         "text": "Feature Importance",
         "x": 0.15
        },
        "xaxis": {
         "anchor": "y",
         "automargin": true,
         "domain": [
          0,
          1
         ],
         "fixedrange": true,
         "gridwidth": 2,
         "range": [
          777539.8138798377,
          26376491.04666734
         ],
         "tickcolor": "white",
         "ticklen": 3,
         "ticks": "outside",
         "type": "linear",
         "zeroline": false
        },
        "yaxis": {
         "anchor": "x",
         "automargin": true,
         "autorange": "reversed",
         "domain": [
          0,
          1
         ],
         "fixedrange": true,
         "gridwidth": 2,
         "tickcolor": "white",
         "ticklen": 10,
         "ticks": "outside",
         "type": "category"
        }
       }
      },
      "text/html": [
       "<div>                            <div id=\"ffe3f688-4aa5-4d66-8627-2890cbeddbc5\" class=\"plotly-graph-div\" style=\"height:383.0px; width:100%;\"></div>            <script type=\"text/javascript\">                require([\"plotly\"], function(Plotly) {                    window.PLOTLYENV=window.PLOTLYENV || {};                                    if (document.getElementById(\"ffe3f688-4aa5-4d66-8627-2890cbeddbc5\")) {                    Plotly.newPlot(                        \"ffe3f688-4aa5-4d66-8627-2890cbeddbc5\",                        [{\"base\":4203135.805511208,\"hoverinfo\":\"text\",\"hoverlabel\":{\"bgcolor\":\"rgba(0,0,0,0.8)\"},\"hovertext\":[\"Model: Random Forest loss after<br>variable: abilities is permuted: 23422766.0<br>Drop-out loss change: +19219630.0\",\"Model: Random Forest loss after<br>variable: age is permuted: 6002594.0<br>Drop-out loss change: +1799459.0\",\"Model: Random Forest loss after<br>variable: goalkeeping is permuted: 4298643.0<br>Drop-out loss change: +95507.0\",\"Model: Random Forest loss after<br>variable: defending is permuted: 4230556.0<br>Drop-out loss change: +27420.0\",\"Model: Random Forest loss after<br>variable: attacking is permuted: 4219991.0<br>Drop-out loss change: +16856.0\",\"Model: Random Forest loss after<br>variable: movement is permuted: 4206305.0<br>Drop-out loss change: +3170.0\",\"Model: Random Forest loss after<br>variable: international_reputation is permuted: 4201099.0<br>Drop-out loss change: -2037.0\",\"Model: Random Forest loss after<br>variable: power is permuted: 4198706.0<br>Drop-out loss change: -4430.0\",\"Model: Random Forest loss after<br>variable: skill is permuted: 4098012.0<br>Drop-out loss change: -105123.0\",\"Model: Random Forest loss after<br>variable: mentality is permuted: 3731265.0<br>Drop-out loss change: -471871.0\"],\"marker\":{\"color\":\"#46bac2\"},\"orientation\":\"h\",\"showlegend\":false,\"text\":[\"+19219630.0\",\"+1799459.0\",\"+95507.0\",\"+27420.0\",\"+16856.0\",\"+3170.0\",\"2037.0\",\"4430.0\",\"105123.0\",\"471871.0\"],\"textposition\":\"outside\",\"x\":[19219630.09891142,1799458.6183252716,95507.42734411824,27420.096273940057,16855.512369157746,3169.6616433896124,-2036.6353347012773,-4429.5603487426415,-105123.46944360295,-471870.8493866585],\"y\":[\"abilities\",\"age\",\"goalkeeping\",\"defending\",\"attacking\",\"movement\",\"international_reputation\",\"power\",\"skill\",\"mentality\"],\"type\":\"bar\",\"xaxis\":\"x\",\"yaxis\":\"y\"}],                        {\"template\":{\"data\":{\"scatter\":[{\"type\":\"scatter\"}]}},\"xaxis\":{\"anchor\":\"y\",\"domain\":[0.0,1.0],\"type\":\"linear\",\"gridwidth\":2,\"zeroline\":false,\"automargin\":true,\"ticks\":\"outside\",\"tickcolor\":\"white\",\"ticklen\":3,\"fixedrange\":true,\"range\":[777539.8138798377,26376491.04666734]},\"yaxis\":{\"anchor\":\"x\",\"domain\":[0.0,1.0],\"type\":\"category\",\"autorange\":\"reversed\",\"gridwidth\":2,\"automargin\":true,\"ticks\":\"outside\",\"tickcolor\":\"white\",\"ticklen\":10,\"fixedrange\":true},\"annotations\":[{\"font\":{\"size\":16},\"showarrow\":false,\"text\":\"Random Forest\",\"x\":0.5,\"xanchor\":\"center\",\"xref\":\"paper\",\"y\":1.0,\"yanchor\":\"bottom\",\"yref\":\"paper\"},{\"font\":{\"size\":16},\"showarrow\":false,\"text\":\"drop-out loss\",\"x\":0.5,\"xanchor\":\"center\",\"xref\":\"paper\",\"y\":0,\"yanchor\":\"top\",\"yref\":\"paper\",\"yshift\":-30}],\"shapes\":[{\"line\":{\"color\":\"#371ea3\",\"dash\":\"dot\",\"width\":1.5},\"type\":\"line\",\"x0\":4203135.805511208,\"x1\":4203135.805511208,\"xref\":\"x\",\"y0\":-1,\"y1\":10,\"yref\":\"y\"}],\"title\":{\"text\":\"Feature Importance\",\"x\":0.15},\"font\":{\"color\":\"#371ea3\"},\"margin\":{\"t\":78,\"b\":71,\"r\":30},\"height\":383.0},                        {\"displaylogo\": false, \"staticPlot\": false, \"toImageButtonOptions\": {\"height\": null, \"width\": null}, \"modeBarButtonsToRemove\": [\"sendDataToCloud\", \"lasso2d\", \"autoScale2d\", \"select2d\", \"zoom2d\", \"pan2d\", \"zoomIn2d\", \"zoomOut2d\", \"resetScale2d\", \"toggleSpikelines\", \"hoverCompareCartesian\", \"hoverClosestCartesian\"], \"responsive\": true}                    ).then(function(){\n",
       "                            \n",
       "var gd = document.getElementById('ffe3f688-4aa5-4d66-8627-2890cbeddbc5');\n",
       "var x = new MutationObserver(function (mutations, observer) {{\n",
       "        var display = window.getComputedStyle(gd).display;\n",
       "        if (!display || display === 'none') {{\n",
       "            console.log([gd, 'removed!']);\n",
       "            Plotly.purge(gd);\n",
       "            observer.disconnect();\n",
       "        }}\n",
       "}});\n",
       "\n",
       "// Listen for the removal of the full notebook cells\n",
       "var notebookContainer = gd.closest('#notebook-container');\n",
       "if (notebookContainer) {{\n",
       "    x.observe(notebookContainer, {childList: true});\n",
       "}}\n",
       "\n",
       "// Listen for the clearing of the current output cell\n",
       "var outputEl = gd.closest('.output');\n",
       "if (outputEl) {{\n",
       "    x.observe(outputEl, {childList: true});\n",
       "}}\n",
       "\n",
       "                        })                };                });            </script>        </div>"
      ]
     },
     "metadata": {},
     "output_type": "display_data"
    }
   ],
   "source": [
    "Var_Importance = explainer.model_parts(variable_groups=variable_groups, B=15, random_state=123)\n",
    "Var_Importance.plot(max_vars=10, \n",
    "                    rounding_function=np.rint, \n",
    "                    digits=None, \n",
    "                    vertical_spacing=0.15,\n",
    "                    title = 'Feature Importance' )"
   ]
  },
  {
   "cell_type": "code",
   "execution_count": 150,
   "metadata": {},
   "outputs": [],
   "source": [
    "# Partial Dependence Plots"
   ]
  },
  {
   "cell_type": "code",
   "execution_count": 155,
   "metadata": {},
   "outputs": [
    {
     "name": "stderr",
     "output_type": "stream",
     "text": [
      "Calculating ceteris paribus: 100%|███████████████████████████████████████████| 73/73 [01:15<00:00,  1.03s/it]\n"
     ]
    },
    {
     "data": {
      "application/vnd.plotly.v1+json": {
       "config": {
        "displaylogo": false,
        "modeBarButtonsToRemove": [
         "sendDataToCloud",
         "lasso2d",
         "autoScale2d",
         "select2d",
         "zoom2d",
         "pan2d",
         "zoomIn2d",
         "zoomOut2d",
         "resetScale2d",
         "toggleSpikelines",
         "hoverCompareCartesian",
         "hoverClosestCartesian"
        ],
        "plotlyServerURL": "https://plot.ly",
        "staticPlot": false,
        "toImageButtonOptions": {
         "height": null,
         "width": null
        }
       },
       "data": [
        {
         "customdata": [
          [
           13521218.082081366,
           "Random Forest",
           "mentality_aggression"
          ],
          [
           13521218.082081366,
           "Random Forest",
           "mentality_aggression"
          ],
          [
           13521218.082081366,
           "Random Forest",
           "mentality_aggression"
          ],
          [
           13521218.082081366,
           "Random Forest",
           "mentality_aggression"
          ],
          [
           13521218.082081366,
           "Random Forest",
           "mentality_aggression"
          ],
          [
           13521218.082081366,
           "Random Forest",
           "mentality_aggression"
          ],
          [
           13521218.082081366,
           "Random Forest",
           "mentality_aggression"
          ],
          [
           13521218.082081366,
           "Random Forest",
           "mentality_aggression"
          ],
          [
           13521218.082081366,
           "Random Forest",
           "mentality_aggression"
          ],
          [
           13521218.082081366,
           "Random Forest",
           "mentality_aggression"
          ],
          [
           13521218.082081366,
           "Random Forest",
           "mentality_aggression"
          ],
          [
           13521218.082081366,
           "Random Forest",
           "mentality_aggression"
          ],
          [
           13521218.082081366,
           "Random Forest",
           "mentality_aggression"
          ],
          [
           13521218.082081366,
           "Random Forest",
           "mentality_aggression"
          ],
          [
           13521218.082081366,
           "Random Forest",
           "mentality_aggression"
          ],
          [
           13521218.082081366,
           "Random Forest",
           "mentality_aggression"
          ],
          [
           13521218.082081366,
           "Random Forest",
           "mentality_aggression"
          ],
          [
           13521218.082081366,
           "Random Forest",
           "mentality_aggression"
          ],
          [
           13521218.082081366,
           "Random Forest",
           "mentality_aggression"
          ],
          [
           13521218.082081366,
           "Random Forest",
           "mentality_aggression"
          ],
          [
           13521218.082081366,
           "Random Forest",
           "mentality_aggression"
          ],
          [
           13521218.082081366,
           "Random Forest",
           "mentality_aggression"
          ],
          [
           13521218.082081366,
           "Random Forest",
           "mentality_aggression"
          ],
          [
           13521218.082081366,
           "Random Forest",
           "mentality_aggression"
          ],
          [
           13521218.082081366,
           "Random Forest",
           "mentality_aggression"
          ],
          [
           13521218.082081366,
           "Random Forest",
           "mentality_aggression"
          ],
          [
           13521218.082081366,
           "Random Forest",
           "mentality_aggression"
          ],
          [
           13521218.082081366,
           "Random Forest",
           "mentality_aggression"
          ],
          [
           13521218.082081366,
           "Random Forest",
           "mentality_aggression"
          ],
          [
           13521218.082081366,
           "Random Forest",
           "mentality_aggression"
          ],
          [
           13521218.082081366,
           "Random Forest",
           "mentality_aggression"
          ],
          [
           13521218.082081366,
           "Random Forest",
           "mentality_aggression"
          ],
          [
           13521218.082081366,
           "Random Forest",
           "mentality_aggression"
          ],
          [
           13521218.082081366,
           "Random Forest",
           "mentality_aggression"
          ],
          [
           13521218.082081366,
           "Random Forest",
           "mentality_aggression"
          ],
          [
           13521218.082081366,
           "Random Forest",
           "mentality_aggression"
          ],
          [
           13521218.082081366,
           "Random Forest",
           "mentality_aggression"
          ],
          [
           13521218.082081366,
           "Random Forest",
           "mentality_aggression"
          ],
          [
           13521218.082081366,
           "Random Forest",
           "mentality_aggression"
          ],
          [
           13521218.082081366,
           "Random Forest",
           "mentality_aggression"
          ],
          [
           13521218.082081366,
           "Random Forest",
           "mentality_aggression"
          ],
          [
           13521218.082081366,
           "Random Forest",
           "mentality_aggression"
          ],
          [
           13521218.082081366,
           "Random Forest",
           "mentality_aggression"
          ],
          [
           13521218.082081366,
           "Random Forest",
           "mentality_aggression"
          ],
          [
           13521218.082081366,
           "Random Forest",
           "mentality_aggression"
          ],
          [
           13521218.082081366,
           "Random Forest",
           "mentality_aggression"
          ],
          [
           13521218.082081366,
           "Random Forest",
           "mentality_aggression"
          ],
          [
           13521218.082081366,
           "Random Forest",
           "mentality_aggression"
          ],
          [
           13521218.082081366,
           "Random Forest",
           "mentality_aggression"
          ],
          [
           13521218.082081366,
           "Random Forest",
           "mentality_aggression"
          ],
          [
           13521218.082081366,
           "Random Forest",
           "mentality_aggression"
          ],
          [
           13521218.082081366,
           "Random Forest",
           "mentality_aggression"
          ],
          [
           13521218.082081366,
           "Random Forest",
           "mentality_aggression"
          ],
          [
           13521218.082081366,
           "Random Forest",
           "mentality_aggression"
          ],
          [
           13521218.082081366,
           "Random Forest",
           "mentality_aggression"
          ],
          [
           13521218.082081366,
           "Random Forest",
           "mentality_aggression"
          ],
          [
           13521218.082081366,
           "Random Forest",
           "mentality_aggression"
          ],
          [
           13521218.082081366,
           "Random Forest",
           "mentality_aggression"
          ],
          [
           13521218.082081366,
           "Random Forest",
           "mentality_aggression"
          ],
          [
           13521218.082081366,
           "Random Forest",
           "mentality_aggression"
          ],
          [
           13521218.082081366,
           "Random Forest",
           "mentality_aggression"
          ],
          [
           13521218.082081366,
           "Random Forest",
           "mentality_aggression"
          ],
          [
           13521218.082081366,
           "Random Forest",
           "mentality_aggression"
          ],
          [
           13521218.082081366,
           "Random Forest",
           "mentality_aggression"
          ],
          [
           13521218.082081366,
           "Random Forest",
           "mentality_aggression"
          ],
          [
           13521218.082081366,
           "Random Forest",
           "mentality_aggression"
          ],
          [
           13521218.082081366,
           "Random Forest",
           "mentality_aggression"
          ],
          [
           13521218.082081366,
           "Random Forest",
           "mentality_aggression"
          ],
          [
           13521218.082081366,
           "Random Forest",
           "mentality_aggression"
          ],
          [
           13521218.082081366,
           "Random Forest",
           "mentality_aggression"
          ],
          [
           13521218.082081366,
           "Random Forest",
           "mentality_aggression"
          ],
          [
           13521218.082081366,
           "Random Forest",
           "mentality_aggression"
          ],
          [
           13521218.082081366,
           "Random Forest",
           "mentality_aggression"
          ],
          [
           13521218.082081366,
           "Random Forest",
           "mentality_aggression"
          ],
          [
           13521218.082081366,
           "Random Forest",
           "mentality_aggression"
          ],
          [
           13521218.082081366,
           "Random Forest",
           "mentality_aggression"
          ],
          [
           13521218.082081366,
           "Random Forest",
           "mentality_aggression"
          ],
          [
           13521218.082081366,
           "Random Forest",
           "mentality_aggression"
          ],
          [
           13521218.082081366,
           "Random Forest",
           "mentality_aggression"
          ],
          [
           13521218.082081366,
           "Random Forest",
           "mentality_aggression"
          ],
          [
           13521218.082081366,
           "Random Forest",
           "mentality_aggression"
          ],
          [
           13521218.082081366,
           "Random Forest",
           "mentality_aggression"
          ],
          [
           13521218.082081366,
           "Random Forest",
           "mentality_aggression"
          ],
          [
           13521218.082081366,
           "Random Forest",
           "mentality_aggression"
          ],
          [
           13521218.082081366,
           "Random Forest",
           "mentality_aggression"
          ],
          [
           13521218.082081366,
           "Random Forest",
           "mentality_aggression"
          ],
          [
           13521218.082081366,
           "Random Forest",
           "mentality_aggression"
          ],
          [
           13521218.082081366,
           "Random Forest",
           "mentality_aggression"
          ],
          [
           13521218.082081366,
           "Random Forest",
           "mentality_aggression"
          ],
          [
           13521218.082081366,
           "Random Forest",
           "mentality_aggression"
          ],
          [
           13521218.082081366,
           "Random Forest",
           "mentality_aggression"
          ],
          [
           13521218.082081366,
           "Random Forest",
           "mentality_aggression"
          ],
          [
           13521218.082081366,
           "Random Forest",
           "mentality_aggression"
          ],
          [
           13521218.082081366,
           "Random Forest",
           "mentality_aggression"
          ],
          [
           13521218.082081366,
           "Random Forest",
           "mentality_aggression"
          ],
          [
           13521218.082081366,
           "Random Forest",
           "mentality_aggression"
          ],
          [
           13521218.082081366,
           "Random Forest",
           "mentality_aggression"
          ],
          [
           13521218.082081366,
           "Random Forest",
           "mentality_aggression"
          ],
          [
           13521218.082081366,
           "Random Forest",
           "mentality_aggression"
          ],
          [
           13521218.082081366,
           "Random Forest",
           "mentality_aggression"
          ],
          [
           13521218.082081366,
           "Random Forest",
           "mentality_aggression"
          ]
         ],
         "hovertemplate": "<b>%{hovertext}</b><br><br>prediction=%{y:.3f}<br>mean_prediction=%{customdata[0]:.3f}<extra></extra>",
         "hovertext": [
          "Random Forest",
          "Random Forest",
          "Random Forest",
          "Random Forest",
          "Random Forest",
          "Random Forest",
          "Random Forest",
          "Random Forest",
          "Random Forest",
          "Random Forest",
          "Random Forest",
          "Random Forest",
          "Random Forest",
          "Random Forest",
          "Random Forest",
          "Random Forest",
          "Random Forest",
          "Random Forest",
          "Random Forest",
          "Random Forest",
          "Random Forest",
          "Random Forest",
          "Random Forest",
          "Random Forest",
          "Random Forest",
          "Random Forest",
          "Random Forest",
          "Random Forest",
          "Random Forest",
          "Random Forest",
          "Random Forest",
          "Random Forest",
          "Random Forest",
          "Random Forest",
          "Random Forest",
          "Random Forest",
          "Random Forest",
          "Random Forest",
          "Random Forest",
          "Random Forest",
          "Random Forest",
          "Random Forest",
          "Random Forest",
          "Random Forest",
          "Random Forest",
          "Random Forest",
          "Random Forest",
          "Random Forest",
          "Random Forest",
          "Random Forest",
          "Random Forest",
          "Random Forest",
          "Random Forest",
          "Random Forest",
          "Random Forest",
          "Random Forest",
          "Random Forest",
          "Random Forest",
          "Random Forest",
          "Random Forest",
          "Random Forest",
          "Random Forest",
          "Random Forest",
          "Random Forest",
          "Random Forest",
          "Random Forest",
          "Random Forest",
          "Random Forest",
          "Random Forest",
          "Random Forest",
          "Random Forest",
          "Random Forest",
          "Random Forest",
          "Random Forest",
          "Random Forest",
          "Random Forest",
          "Random Forest",
          "Random Forest",
          "Random Forest",
          "Random Forest",
          "Random Forest",
          "Random Forest",
          "Random Forest",
          "Random Forest",
          "Random Forest",
          "Random Forest",
          "Random Forest",
          "Random Forest",
          "Random Forest",
          "Random Forest",
          "Random Forest",
          "Random Forest",
          "Random Forest",
          "Random Forest",
          "Random Forest",
          "Random Forest",
          "Random Forest",
          "Random Forest",
          "Random Forest",
          "Random Forest",
          "Random Forest"
         ],
         "legendgroup": "Random Forest",
         "line": {
          "color": "#46bac2",
          "dash": "solid",
          "width": 2
         },
         "marker": {
          "symbol": "circle"
         },
         "mode": "lines",
         "name": "Random Forest",
         "opacity": 1,
         "orientation": "v",
         "showlegend": true,
         "type": "scatter",
         "x": [
          11,
          11.82,
          12.64,
          13.46,
          14.28,
          15.1,
          15.92,
          16.74,
          17.56,
          18.38,
          19.2,
          20.02,
          20.84,
          21.66,
          22.479999999999997,
          23.299999999999997,
          24.119999999999997,
          24.939999999999998,
          25.759999999999998,
          26.58,
          27.4,
          28.22,
          29.04,
          29.86,
          30.68,
          31.5,
          32.32,
          33.14,
          33.959999999999994,
          34.78,
          35.599999999999994,
          36.42,
          37.239999999999995,
          38.06,
          38.879999999999995,
          39.7,
          40.519999999999996,
          41.34,
          42.16,
          42.98,
          43.8,
          44.62,
          45.44,
          46.26,
          47.08,
          47.9,
          48.72,
          49.54,
          50.36,
          51.18,
          52,
          52.82,
          53.64,
          54.46,
          55.279999999999994,
          56.099999999999994,
          56.919999999999995,
          57.739999999999995,
          58.559999999999995,
          59.379999999999995,
          60.199999999999996,
          61.019999999999996,
          61.839999999999996,
          62.66,
          63.48,
          64.3,
          65.12,
          65.94,
          66.75999999999999,
          67.58,
          68.4,
          69.22,
          70.03999999999999,
          70.86,
          71.68,
          72.5,
          73.32,
          74.13999999999999,
          74.96,
          75.78,
          76.6,
          77.42,
          78.24,
          79.06,
          79.88,
          80.7,
          81.52,
          82.33999999999999,
          83.16,
          83.97999999999999,
          84.8,
          85.61999999999999,
          86.44,
          87.25999999999999,
          88.08,
          88.89999999999999,
          89.72,
          90.53999999999999,
          91.36,
          92.17999999999999,
          93
         ],
         "xaxis": "x3",
         "y": [
          13509149.996490164,
          13509149.996490164,
          13509149.996490164,
          13509149.996490164,
          13509149.996490164,
          13509601.73616459,
          13509601.73616459,
          13509824.03547644,
          13509790.659549702,
          13509796.649247423,
          13510233.38805667,
          13510001.505941527,
          13510024.34998311,
          13509256.410838436,
          13508797.167403812,
          13509100.112528672,
          13509645.873819254,
          13509763.90913185,
          13511346.6734439,
          13511846.24085462,
          13511849.531860756,
          13511873.290995045,
          13511756.19240462,
          13512144.762159878,
          13512774.678703424,
          13512777.374067398,
          13512533.158404054,
          13515297.656800145,
          13516809.11708845,
          13524966.536327358,
          13525832.506858045,
          13525948.174576238,
          13526045.274231497,
          13526085.258791387,
          13526018.174176924,
          13527916.181271387,
          13528403.503077881,
          13528398.312006524,
          13528558.128788326,
          13528126.943759907,
          13529750.602495454,
          13529552.84597001,
          13529764.58178441,
          13530282.374514248,
          13529450.44875988,
          13529957.044082591,
          13529837.133661848,
          13530139.819708515,
          13529551.398459729,
          13529297.926098857,
          13528379.503167251,
          13528688.714656822,
          13528439.050745416,
          13529244.36227625,
          13528196.57280747,
          13527660.124070726,
          13526882.86096327,
          13526915.617954578,
          13526866.785280112,
          13526735.377967356,
          13526460.840647737,
          13527610.940254193,
          13527325.963747118,
          13526968.94448691,
          13526656.58491997,
          13526718.791258402,
          13526978.178445773,
          13527223.822604487,
          13527256.612871893,
          13527433.668336494,
          13526885.943756105,
          13526678.094590003,
          13526658.92090208,
          13526462.032882806,
          13524994.324008737,
          13525367.964680115,
          13524369.876154285,
          13524209.844741648,
          13524136.830326442,
          13525301.081148362,
          13524503.579517832,
          13525374.997345835,
          13524691.83904478,
          13523818.403259093,
          13522719.160623092,
          13522101.649409048,
          13520812.258589828,
          13520895.952731144,
          13520763.4339967,
          13519500.37122657,
          13518997.509482104,
          13518601.390806226,
          13519164.156183112,
          13518677.093930187,
          13519068.820161069,
          13519160.961677661,
          13519926.644702857,
          13519736.305419758,
          13519736.305419758,
          13519736.305419758,
          13519736.305419758
         ],
         "yaxis": "y3"
        },
        {
         "customdata": [
          [
           13521218.082081366,
           "Random Forest",
           "power_stamina"
          ],
          [
           13521218.082081366,
           "Random Forest",
           "power_stamina"
          ],
          [
           13521218.082081366,
           "Random Forest",
           "power_stamina"
          ],
          [
           13521218.082081366,
           "Random Forest",
           "power_stamina"
          ],
          [
           13521218.082081366,
           "Random Forest",
           "power_stamina"
          ],
          [
           13521218.082081366,
           "Random Forest",
           "power_stamina"
          ],
          [
           13521218.082081366,
           "Random Forest",
           "power_stamina"
          ],
          [
           13521218.082081366,
           "Random Forest",
           "power_stamina"
          ],
          [
           13521218.082081366,
           "Random Forest",
           "power_stamina"
          ],
          [
           13521218.082081366,
           "Random Forest",
           "power_stamina"
          ],
          [
           13521218.082081366,
           "Random Forest",
           "power_stamina"
          ],
          [
           13521218.082081366,
           "Random Forest",
           "power_stamina"
          ],
          [
           13521218.082081366,
           "Random Forest",
           "power_stamina"
          ],
          [
           13521218.082081366,
           "Random Forest",
           "power_stamina"
          ],
          [
           13521218.082081366,
           "Random Forest",
           "power_stamina"
          ],
          [
           13521218.082081366,
           "Random Forest",
           "power_stamina"
          ],
          [
           13521218.082081366,
           "Random Forest",
           "power_stamina"
          ],
          [
           13521218.082081366,
           "Random Forest",
           "power_stamina"
          ],
          [
           13521218.082081366,
           "Random Forest",
           "power_stamina"
          ],
          [
           13521218.082081366,
           "Random Forest",
           "power_stamina"
          ],
          [
           13521218.082081366,
           "Random Forest",
           "power_stamina"
          ],
          [
           13521218.082081366,
           "Random Forest",
           "power_stamina"
          ],
          [
           13521218.082081366,
           "Random Forest",
           "power_stamina"
          ],
          [
           13521218.082081366,
           "Random Forest",
           "power_stamina"
          ],
          [
           13521218.082081366,
           "Random Forest",
           "power_stamina"
          ],
          [
           13521218.082081366,
           "Random Forest",
           "power_stamina"
          ],
          [
           13521218.082081366,
           "Random Forest",
           "power_stamina"
          ],
          [
           13521218.082081366,
           "Random Forest",
           "power_stamina"
          ],
          [
           13521218.082081366,
           "Random Forest",
           "power_stamina"
          ],
          [
           13521218.082081366,
           "Random Forest",
           "power_stamina"
          ],
          [
           13521218.082081366,
           "Random Forest",
           "power_stamina"
          ],
          [
           13521218.082081366,
           "Random Forest",
           "power_stamina"
          ],
          [
           13521218.082081366,
           "Random Forest",
           "power_stamina"
          ],
          [
           13521218.082081366,
           "Random Forest",
           "power_stamina"
          ],
          [
           13521218.082081366,
           "Random Forest",
           "power_stamina"
          ],
          [
           13521218.082081366,
           "Random Forest",
           "power_stamina"
          ],
          [
           13521218.082081366,
           "Random Forest",
           "power_stamina"
          ],
          [
           13521218.082081366,
           "Random Forest",
           "power_stamina"
          ],
          [
           13521218.082081366,
           "Random Forest",
           "power_stamina"
          ],
          [
           13521218.082081366,
           "Random Forest",
           "power_stamina"
          ],
          [
           13521218.082081366,
           "Random Forest",
           "power_stamina"
          ],
          [
           13521218.082081366,
           "Random Forest",
           "power_stamina"
          ],
          [
           13521218.082081366,
           "Random Forest",
           "power_stamina"
          ],
          [
           13521218.082081366,
           "Random Forest",
           "power_stamina"
          ],
          [
           13521218.082081366,
           "Random Forest",
           "power_stamina"
          ],
          [
           13521218.082081366,
           "Random Forest",
           "power_stamina"
          ],
          [
           13521218.082081366,
           "Random Forest",
           "power_stamina"
          ],
          [
           13521218.082081366,
           "Random Forest",
           "power_stamina"
          ],
          [
           13521218.082081366,
           "Random Forest",
           "power_stamina"
          ],
          [
           13521218.082081366,
           "Random Forest",
           "power_stamina"
          ],
          [
           13521218.082081366,
           "Random Forest",
           "power_stamina"
          ],
          [
           13521218.082081366,
           "Random Forest",
           "power_stamina"
          ],
          [
           13521218.082081366,
           "Random Forest",
           "power_stamina"
          ],
          [
           13521218.082081366,
           "Random Forest",
           "power_stamina"
          ],
          [
           13521218.082081366,
           "Random Forest",
           "power_stamina"
          ],
          [
           13521218.082081366,
           "Random Forest",
           "power_stamina"
          ],
          [
           13521218.082081366,
           "Random Forest",
           "power_stamina"
          ],
          [
           13521218.082081366,
           "Random Forest",
           "power_stamina"
          ],
          [
           13521218.082081366,
           "Random Forest",
           "power_stamina"
          ],
          [
           13521218.082081366,
           "Random Forest",
           "power_stamina"
          ],
          [
           13521218.082081366,
           "Random Forest",
           "power_stamina"
          ],
          [
           13521218.082081366,
           "Random Forest",
           "power_stamina"
          ],
          [
           13521218.082081366,
           "Random Forest",
           "power_stamina"
          ],
          [
           13521218.082081366,
           "Random Forest",
           "power_stamina"
          ],
          [
           13521218.082081366,
           "Random Forest",
           "power_stamina"
          ],
          [
           13521218.082081366,
           "Random Forest",
           "power_stamina"
          ],
          [
           13521218.082081366,
           "Random Forest",
           "power_stamina"
          ],
          [
           13521218.082081366,
           "Random Forest",
           "power_stamina"
          ],
          [
           13521218.082081366,
           "Random Forest",
           "power_stamina"
          ],
          [
           13521218.082081366,
           "Random Forest",
           "power_stamina"
          ],
          [
           13521218.082081366,
           "Random Forest",
           "power_stamina"
          ],
          [
           13521218.082081366,
           "Random Forest",
           "power_stamina"
          ],
          [
           13521218.082081366,
           "Random Forest",
           "power_stamina"
          ],
          [
           13521218.082081366,
           "Random Forest",
           "power_stamina"
          ],
          [
           13521218.082081366,
           "Random Forest",
           "power_stamina"
          ],
          [
           13521218.082081366,
           "Random Forest",
           "power_stamina"
          ],
          [
           13521218.082081366,
           "Random Forest",
           "power_stamina"
          ],
          [
           13521218.082081366,
           "Random Forest",
           "power_stamina"
          ],
          [
           13521218.082081366,
           "Random Forest",
           "power_stamina"
          ],
          [
           13521218.082081366,
           "Random Forest",
           "power_stamina"
          ],
          [
           13521218.082081366,
           "Random Forest",
           "power_stamina"
          ],
          [
           13521218.082081366,
           "Random Forest",
           "power_stamina"
          ],
          [
           13521218.082081366,
           "Random Forest",
           "power_stamina"
          ],
          [
           13521218.082081366,
           "Random Forest",
           "power_stamina"
          ],
          [
           13521218.082081366,
           "Random Forest",
           "power_stamina"
          ],
          [
           13521218.082081366,
           "Random Forest",
           "power_stamina"
          ],
          [
           13521218.082081366,
           "Random Forest",
           "power_stamina"
          ],
          [
           13521218.082081366,
           "Random Forest",
           "power_stamina"
          ],
          [
           13521218.082081366,
           "Random Forest",
           "power_stamina"
          ],
          [
           13521218.082081366,
           "Random Forest",
           "power_stamina"
          ],
          [
           13521218.082081366,
           "Random Forest",
           "power_stamina"
          ],
          [
           13521218.082081366,
           "Random Forest",
           "power_stamina"
          ],
          [
           13521218.082081366,
           "Random Forest",
           "power_stamina"
          ],
          [
           13521218.082081366,
           "Random Forest",
           "power_stamina"
          ],
          [
           13521218.082081366,
           "Random Forest",
           "power_stamina"
          ],
          [
           13521218.082081366,
           "Random Forest",
           "power_stamina"
          ],
          [
           13521218.082081366,
           "Random Forest",
           "power_stamina"
          ],
          [
           13521218.082081366,
           "Random Forest",
           "power_stamina"
          ],
          [
           13521218.082081366,
           "Random Forest",
           "power_stamina"
          ],
          [
           13521218.082081366,
           "Random Forest",
           "power_stamina"
          ],
          [
           13521218.082081366,
           "Random Forest",
           "power_stamina"
          ]
         ],
         "hovertemplate": "<b>%{hovertext}</b><br><br>prediction=%{y:.3f}<br>mean_prediction=%{customdata[0]:.3f}<extra></extra>",
         "hovertext": [
          "Random Forest",
          "Random Forest",
          "Random Forest",
          "Random Forest",
          "Random Forest",
          "Random Forest",
          "Random Forest",
          "Random Forest",
          "Random Forest",
          "Random Forest",
          "Random Forest",
          "Random Forest",
          "Random Forest",
          "Random Forest",
          "Random Forest",
          "Random Forest",
          "Random Forest",
          "Random Forest",
          "Random Forest",
          "Random Forest",
          "Random Forest",
          "Random Forest",
          "Random Forest",
          "Random Forest",
          "Random Forest",
          "Random Forest",
          "Random Forest",
          "Random Forest",
          "Random Forest",
          "Random Forest",
          "Random Forest",
          "Random Forest",
          "Random Forest",
          "Random Forest",
          "Random Forest",
          "Random Forest",
          "Random Forest",
          "Random Forest",
          "Random Forest",
          "Random Forest",
          "Random Forest",
          "Random Forest",
          "Random Forest",
          "Random Forest",
          "Random Forest",
          "Random Forest",
          "Random Forest",
          "Random Forest",
          "Random Forest",
          "Random Forest",
          "Random Forest",
          "Random Forest",
          "Random Forest",
          "Random Forest",
          "Random Forest",
          "Random Forest",
          "Random Forest",
          "Random Forest",
          "Random Forest",
          "Random Forest",
          "Random Forest",
          "Random Forest",
          "Random Forest",
          "Random Forest",
          "Random Forest",
          "Random Forest",
          "Random Forest",
          "Random Forest",
          "Random Forest",
          "Random Forest",
          "Random Forest",
          "Random Forest",
          "Random Forest",
          "Random Forest",
          "Random Forest",
          "Random Forest",
          "Random Forest",
          "Random Forest",
          "Random Forest",
          "Random Forest",
          "Random Forest",
          "Random Forest",
          "Random Forest",
          "Random Forest",
          "Random Forest",
          "Random Forest",
          "Random Forest",
          "Random Forest",
          "Random Forest",
          "Random Forest",
          "Random Forest",
          "Random Forest",
          "Random Forest",
          "Random Forest",
          "Random Forest",
          "Random Forest",
          "Random Forest",
          "Random Forest",
          "Random Forest",
          "Random Forest",
          "Random Forest"
         ],
         "legendgroup": "Random Forest",
         "line": {
          "color": "#46bac2",
          "dash": "solid",
          "width": 2
         },
         "marker": {
          "symbol": "circle"
         },
         "mode": "lines",
         "name": "Random Forest",
         "opacity": 1,
         "orientation": "v",
         "showlegend": false,
         "type": "scatter",
         "x": [
          18,
          18.76,
          19.52,
          20.28,
          21.04,
          21.8,
          22.560000000000002,
          23.32,
          24.08,
          24.84,
          25.6,
          26.36,
          27.12,
          27.880000000000003,
          28.64,
          29.4,
          30.16,
          30.92,
          31.68,
          32.44,
          33.2,
          33.96,
          34.72,
          35.480000000000004,
          36.24,
          37,
          37.760000000000005,
          38.519999999999996,
          39.28,
          40.04,
          40.8,
          41.56,
          42.32,
          43.08,
          43.84,
          44.6,
          45.36,
          46.120000000000005,
          46.879999999999995,
          47.64,
          48.4,
          49.16,
          49.92,
          50.68,
          51.44,
          52.2,
          52.96,
          53.72,
          54.480000000000004,
          55.24,
          56,
          56.76,
          57.52,
          58.28,
          59.04,
          59.8,
          60.56,
          61.32,
          62.08,
          62.84,
          63.6,
          64.36,
          65.12,
          65.88,
          66.64,
          67.4,
          68.16,
          68.92,
          69.68,
          70.44,
          71.2,
          71.96000000000001,
          72.72,
          73.48,
          74.24000000000001,
          75,
          75.75999999999999,
          76.52000000000001,
          77.28,
          78.03999999999999,
          78.8,
          79.56,
          80.32,
          81.08,
          81.84,
          82.6,
          83.36,
          84.12,
          84.88,
          85.64,
          86.4,
          87.16,
          87.92,
          88.68,
          89.44,
          90.2,
          90.96000000000001,
          91.72,
          92.48,
          93.24,
          94
         ],
         "xaxis": "x4",
         "y": [
          13412209.03454788,
          13412209.03454788,
          13412209.03454788,
          13412209.03454788,
          13412217.020811507,
          13412213.726477759,
          13412158.135427698,
          13412345.474870523,
          13412259.256499456,
          13412261.203151215,
          13412262.347849002,
          13412261.632412884,
          13412322.67741548,
          13412337.182466792,
          13412321.146714952,
          13412334.673448969,
          13413186.541569136,
          13413253.519700084,
          13413325.609039754,
          13413345.288524374,
          13420060.856081508,
          13420173.3126562,
          13420440.586278902,
          13421160.71432533,
          13424553.012905104,
          13427257.288218234,
          13430002.998929145,
          13430024.278994098,
          13431135.367921144,
          13436944.935464969,
          13437476.002030477,
          13446873.852964964,
          13455620.073750926,
          13462569.817810193,
          13462635.218654074,
          13464803.688885277,
          13464883.052380066,
          13465000.435481131,
          13465049.65083073,
          13465251.383849937,
          13466099.401925514,
          13466895.075747494,
          13466896.140582643,
          13467723.28289786,
          13467756.708738746,
          13467891.553472472,
          13468762.156036062,
          13469200.136043783,
          13469082.438483587,
          13469252.745555421,
          13469467.907144157,
          13470540.028333806,
          13470833.466952715,
          13470491.738059744,
          13470969.406470077,
          13470914.086620219,
          13471873.927360812,
          13471932.899262475,
          13475398.990918161,
          13476205.610199664,
          13478562.81842057,
          13478608.00451002,
          13478204.625464834,
          13483087.23642161,
          13485181.624074847,
          13486411.774882125,
          13489139.4233268,
          13486451.427631775,
          13496206.528857665,
          13496654.65142019,
          13500178.484712644,
          13502906.625643576,
          13507784.236153498,
          13508412.30920119,
          13514875.41432704,
          13520997.038466854,
          13526181.938533975,
          13531620.624470355,
          13532424.142419484,
          13534614.432263808,
          13535165.437867504,
          13542649.798101233,
          13543425.297575472,
          13550872.262129772,
          13555734.389746461,
          13557782.433777394,
          13558198.158730477,
          13559956.234839568,
          13561234.569437394,
          13567127.823516568,
          13571164.646847105,
          13577937.911118273,
          13578757.651165394,
          13577749.318830343,
          13578298.607387356,
          13578329.920195991,
          13578552.370914092,
          13580197.14190798,
          13581566.453358954,
          13583961.947394924,
          13584037.816899378
         ],
         "yaxis": "y4"
        },
        {
         "customdata": [
          [
           13521218.082081366,
           "Random Forest",
           "age"
          ],
          [
           13521218.082081366,
           "Random Forest",
           "age"
          ],
          [
           13521218.082081366,
           "Random Forest",
           "age"
          ],
          [
           13521218.082081366,
           "Random Forest",
           "age"
          ],
          [
           13521218.082081366,
           "Random Forest",
           "age"
          ],
          [
           13521218.082081366,
           "Random Forest",
           "age"
          ],
          [
           13521218.082081366,
           "Random Forest",
           "age"
          ],
          [
           13521218.082081366,
           "Random Forest",
           "age"
          ],
          [
           13521218.082081366,
           "Random Forest",
           "age"
          ],
          [
           13521218.082081366,
           "Random Forest",
           "age"
          ],
          [
           13521218.082081366,
           "Random Forest",
           "age"
          ],
          [
           13521218.082081366,
           "Random Forest",
           "age"
          ],
          [
           13521218.082081366,
           "Random Forest",
           "age"
          ],
          [
           13521218.082081366,
           "Random Forest",
           "age"
          ],
          [
           13521218.082081366,
           "Random Forest",
           "age"
          ],
          [
           13521218.082081366,
           "Random Forest",
           "age"
          ],
          [
           13521218.082081366,
           "Random Forest",
           "age"
          ],
          [
           13521218.082081366,
           "Random Forest",
           "age"
          ],
          [
           13521218.082081366,
           "Random Forest",
           "age"
          ],
          [
           13521218.082081366,
           "Random Forest",
           "age"
          ],
          [
           13521218.082081366,
           "Random Forest",
           "age"
          ],
          [
           13521218.082081366,
           "Random Forest",
           "age"
          ],
          [
           13521218.082081366,
           "Random Forest",
           "age"
          ],
          [
           13521218.082081366,
           "Random Forest",
           "age"
          ],
          [
           13521218.082081366,
           "Random Forest",
           "age"
          ],
          [
           13521218.082081366,
           "Random Forest",
           "age"
          ],
          [
           13521218.082081366,
           "Random Forest",
           "age"
          ],
          [
           13521218.082081366,
           "Random Forest",
           "age"
          ],
          [
           13521218.082081366,
           "Random Forest",
           "age"
          ],
          [
           13521218.082081366,
           "Random Forest",
           "age"
          ],
          [
           13521218.082081366,
           "Random Forest",
           "age"
          ],
          [
           13521218.082081366,
           "Random Forest",
           "age"
          ],
          [
           13521218.082081366,
           "Random Forest",
           "age"
          ],
          [
           13521218.082081366,
           "Random Forest",
           "age"
          ],
          [
           13521218.082081366,
           "Random Forest",
           "age"
          ],
          [
           13521218.082081366,
           "Random Forest",
           "age"
          ],
          [
           13521218.082081366,
           "Random Forest",
           "age"
          ],
          [
           13521218.082081366,
           "Random Forest",
           "age"
          ],
          [
           13521218.082081366,
           "Random Forest",
           "age"
          ],
          [
           13521218.082081366,
           "Random Forest",
           "age"
          ],
          [
           13521218.082081366,
           "Random Forest",
           "age"
          ],
          [
           13521218.082081366,
           "Random Forest",
           "age"
          ],
          [
           13521218.082081366,
           "Random Forest",
           "age"
          ],
          [
           13521218.082081366,
           "Random Forest",
           "age"
          ],
          [
           13521218.082081366,
           "Random Forest",
           "age"
          ],
          [
           13521218.082081366,
           "Random Forest",
           "age"
          ],
          [
           13521218.082081366,
           "Random Forest",
           "age"
          ],
          [
           13521218.082081366,
           "Random Forest",
           "age"
          ],
          [
           13521218.082081366,
           "Random Forest",
           "age"
          ],
          [
           13521218.082081366,
           "Random Forest",
           "age"
          ],
          [
           13521218.082081366,
           "Random Forest",
           "age"
          ],
          [
           13521218.082081366,
           "Random Forest",
           "age"
          ],
          [
           13521218.082081366,
           "Random Forest",
           "age"
          ],
          [
           13521218.082081366,
           "Random Forest",
           "age"
          ],
          [
           13521218.082081366,
           "Random Forest",
           "age"
          ],
          [
           13521218.082081366,
           "Random Forest",
           "age"
          ],
          [
           13521218.082081366,
           "Random Forest",
           "age"
          ],
          [
           13521218.082081366,
           "Random Forest",
           "age"
          ],
          [
           13521218.082081366,
           "Random Forest",
           "age"
          ],
          [
           13521218.082081366,
           "Random Forest",
           "age"
          ],
          [
           13521218.082081366,
           "Random Forest",
           "age"
          ],
          [
           13521218.082081366,
           "Random Forest",
           "age"
          ],
          [
           13521218.082081366,
           "Random Forest",
           "age"
          ],
          [
           13521218.082081366,
           "Random Forest",
           "age"
          ],
          [
           13521218.082081366,
           "Random Forest",
           "age"
          ],
          [
           13521218.082081366,
           "Random Forest",
           "age"
          ],
          [
           13521218.082081366,
           "Random Forest",
           "age"
          ],
          [
           13521218.082081366,
           "Random Forest",
           "age"
          ],
          [
           13521218.082081366,
           "Random Forest",
           "age"
          ],
          [
           13521218.082081366,
           "Random Forest",
           "age"
          ],
          [
           13521218.082081366,
           "Random Forest",
           "age"
          ],
          [
           13521218.082081366,
           "Random Forest",
           "age"
          ],
          [
           13521218.082081366,
           "Random Forest",
           "age"
          ],
          [
           13521218.082081366,
           "Random Forest",
           "age"
          ],
          [
           13521218.082081366,
           "Random Forest",
           "age"
          ],
          [
           13521218.082081366,
           "Random Forest",
           "age"
          ],
          [
           13521218.082081366,
           "Random Forest",
           "age"
          ],
          [
           13521218.082081366,
           "Random Forest",
           "age"
          ],
          [
           13521218.082081366,
           "Random Forest",
           "age"
          ],
          [
           13521218.082081366,
           "Random Forest",
           "age"
          ],
          [
           13521218.082081366,
           "Random Forest",
           "age"
          ],
          [
           13521218.082081366,
           "Random Forest",
           "age"
          ],
          [
           13521218.082081366,
           "Random Forest",
           "age"
          ],
          [
           13521218.082081366,
           "Random Forest",
           "age"
          ],
          [
           13521218.082081366,
           "Random Forest",
           "age"
          ],
          [
           13521218.082081366,
           "Random Forest",
           "age"
          ],
          [
           13521218.082081366,
           "Random Forest",
           "age"
          ],
          [
           13521218.082081366,
           "Random Forest",
           "age"
          ],
          [
           13521218.082081366,
           "Random Forest",
           "age"
          ],
          [
           13521218.082081366,
           "Random Forest",
           "age"
          ],
          [
           13521218.082081366,
           "Random Forest",
           "age"
          ],
          [
           13521218.082081366,
           "Random Forest",
           "age"
          ],
          [
           13521218.082081366,
           "Random Forest",
           "age"
          ],
          [
           13521218.082081366,
           "Random Forest",
           "age"
          ],
          [
           13521218.082081366,
           "Random Forest",
           "age"
          ],
          [
           13521218.082081366,
           "Random Forest",
           "age"
          ],
          [
           13521218.082081366,
           "Random Forest",
           "age"
          ],
          [
           13521218.082081366,
           "Random Forest",
           "age"
          ],
          [
           13521218.082081366,
           "Random Forest",
           "age"
          ],
          [
           13521218.082081366,
           "Random Forest",
           "age"
          ],
          [
           13521218.082081366,
           "Random Forest",
           "age"
          ]
         ],
         "hovertemplate": "<b>%{hovertext}</b><br><br>prediction=%{y:.3f}<br>mean_prediction=%{customdata[0]:.3f}<extra></extra>",
         "hovertext": [
          "Random Forest",
          "Random Forest",
          "Random Forest",
          "Random Forest",
          "Random Forest",
          "Random Forest",
          "Random Forest",
          "Random Forest",
          "Random Forest",
          "Random Forest",
          "Random Forest",
          "Random Forest",
          "Random Forest",
          "Random Forest",
          "Random Forest",
          "Random Forest",
          "Random Forest",
          "Random Forest",
          "Random Forest",
          "Random Forest",
          "Random Forest",
          "Random Forest",
          "Random Forest",
          "Random Forest",
          "Random Forest",
          "Random Forest",
          "Random Forest",
          "Random Forest",
          "Random Forest",
          "Random Forest",
          "Random Forest",
          "Random Forest",
          "Random Forest",
          "Random Forest",
          "Random Forest",
          "Random Forest",
          "Random Forest",
          "Random Forest",
          "Random Forest",
          "Random Forest",
          "Random Forest",
          "Random Forest",
          "Random Forest",
          "Random Forest",
          "Random Forest",
          "Random Forest",
          "Random Forest",
          "Random Forest",
          "Random Forest",
          "Random Forest",
          "Random Forest",
          "Random Forest",
          "Random Forest",
          "Random Forest",
          "Random Forest",
          "Random Forest",
          "Random Forest",
          "Random Forest",
          "Random Forest",
          "Random Forest",
          "Random Forest",
          "Random Forest",
          "Random Forest",
          "Random Forest",
          "Random Forest",
          "Random Forest",
          "Random Forest",
          "Random Forest",
          "Random Forest",
          "Random Forest",
          "Random Forest",
          "Random Forest",
          "Random Forest",
          "Random Forest",
          "Random Forest",
          "Random Forest",
          "Random Forest",
          "Random Forest",
          "Random Forest",
          "Random Forest",
          "Random Forest",
          "Random Forest",
          "Random Forest",
          "Random Forest",
          "Random Forest",
          "Random Forest",
          "Random Forest",
          "Random Forest",
          "Random Forest",
          "Random Forest",
          "Random Forest",
          "Random Forest",
          "Random Forest",
          "Random Forest",
          "Random Forest",
          "Random Forest",
          "Random Forest",
          "Random Forest",
          "Random Forest",
          "Random Forest",
          "Random Forest"
         ],
         "legendgroup": "Random Forest",
         "line": {
          "color": "#46bac2",
          "dash": "solid",
          "width": 2
         },
         "marker": {
          "symbol": "circle"
         },
         "mode": "lines",
         "name": "Random Forest",
         "opacity": 1,
         "orientation": "v",
         "showlegend": false,
         "type": "scatter",
         "x": [
          17,
          17.21,
          17.42,
          17.63,
          17.84,
          18.05,
          18.26,
          18.47,
          18.68,
          18.89,
          19.1,
          19.31,
          19.52,
          19.73,
          19.94,
          20.15,
          20.36,
          20.57,
          20.78,
          20.99,
          21.2,
          21.41,
          21.62,
          21.83,
          22.04,
          22.25,
          22.46,
          22.67,
          22.88,
          23.09,
          23.3,
          23.509999999999998,
          23.72,
          23.93,
          24.14,
          24.35,
          24.56,
          24.77,
          24.98,
          25.189999999999998,
          25.4,
          25.61,
          25.82,
          26.03,
          26.240000000000002,
          26.45,
          26.66,
          26.869999999999997,
          27.08,
          27.29,
          27.5,
          27.71,
          27.92,
          28.13,
          28.34,
          28.549999999999997,
          28.759999999999998,
          28.97,
          29.18,
          29.39,
          29.6,
          29.81,
          30.02,
          30.229999999999997,
          30.439999999999998,
          30.65,
          30.86,
          31.07,
          31.28,
          31.490000000000002,
          31.7,
          31.91,
          32.12,
          32.33,
          32.54,
          32.75,
          32.96,
          33.17,
          33.379999999999995,
          33.59,
          33.8,
          34.01,
          34.22,
          34.43,
          34.64,
          34.849999999999994,
          35.06,
          35.269999999999996,
          35.480000000000004,
          35.69,
          35.9,
          36.11,
          36.32,
          36.53,
          36.739999999999995,
          36.95,
          37.16,
          37.370000000000005,
          37.58,
          37.79,
          38
         ],
         "xaxis": "x",
         "y": [
          14241905.748295471,
          14241377.285822354,
          14241377.285822354,
          14237903.177954553,
          14237903.177954553,
          14237131.139194556,
          14237131.139194556,
          14237131.139194556,
          14236839.647227405,
          14236839.647227405,
          14236323.734597128,
          14236323.734597128,
          14232660.724735994,
          14232660.724735994,
          14232660.724735994,
          14232230.577921847,
          14232230.577921847,
          14209435.259203376,
          14209435.259203376,
          14209435.259203376,
          14208651.340876233,
          14208651.340876233,
          14197014.773391353,
          14197014.773391353,
          14188561.71265582,
          14188561.71265582,
          14188561.71265582,
          14171887.838148544,
          14171887.838148544,
          14167598.76202614,
          14167598.76202614,
          14155297.752144089,
          14155297.752144089,
          14155297.752144089,
          14152998.019351158,
          14152998.019351158,
          14141377.70486351,
          14141377.70486351,
          14141377.70486351,
          14141692.144028144,
          14141692.144028144,
          14124116.125256622,
          14124116.125256622,
          14123415.961205455,
          14123415.961205455,
          14123415.961205455,
          14053604.98394349,
          14053604.98394349,
          14048248.803240966,
          14048248.803240966,
          14048248.803240966,
          13956886.44047318,
          13956886.44047318,
          13954424.69942968,
          13954424.69942968,
          13909582.59147441,
          13909582.59147441,
          13909582.59147441,
          13907646.361789469,
          13907646.361789469,
          13839667.130828626,
          13839667.130828626,
          13814405.939411197,
          13814405.939411197,
          13814405.939411197,
          13502821.394019747,
          13502821.394019747,
          13454442.541550756,
          13454442.541550756,
          13454442.541550756,
          12772059.71393489,
          12772059.71393489,
          12618597.832545483,
          12618597.832545483,
          11754647.568285722,
          11754647.568285722,
          11754647.568285722,
          11722312.260015946,
          11722312.260015946,
          11148370.115821421,
          11148370.115821421,
          11093558.260545827,
          11093558.260545827,
          11093558.260545827,
          10986525.589359319,
          10986525.589359319,
          10972456.207267944,
          10972456.207267944,
          10972456.207267944,
          10962974.123119345,
          10962974.123119345,
          10962834.193797778,
          10962834.193797778,
          10961735.032133618,
          10961735.032133618,
          10961735.032133618,
          10961558.435879176,
          10961558.435879176,
          10959585.09003403,
          10959585.09003403,
          10959585.09003403
         ],
         "yaxis": "y"
        },
        {
         "customdata": [
          [
           13521218.082081366,
           "Random Forest",
           "skill_ball_control"
          ],
          [
           13521218.082081366,
           "Random Forest",
           "skill_ball_control"
          ],
          [
           13521218.082081366,
           "Random Forest",
           "skill_ball_control"
          ],
          [
           13521218.082081366,
           "Random Forest",
           "skill_ball_control"
          ],
          [
           13521218.082081366,
           "Random Forest",
           "skill_ball_control"
          ],
          [
           13521218.082081366,
           "Random Forest",
           "skill_ball_control"
          ],
          [
           13521218.082081366,
           "Random Forest",
           "skill_ball_control"
          ],
          [
           13521218.082081366,
           "Random Forest",
           "skill_ball_control"
          ],
          [
           13521218.082081366,
           "Random Forest",
           "skill_ball_control"
          ],
          [
           13521218.082081366,
           "Random Forest",
           "skill_ball_control"
          ],
          [
           13521218.082081366,
           "Random Forest",
           "skill_ball_control"
          ],
          [
           13521218.082081366,
           "Random Forest",
           "skill_ball_control"
          ],
          [
           13521218.082081366,
           "Random Forest",
           "skill_ball_control"
          ],
          [
           13521218.082081366,
           "Random Forest",
           "skill_ball_control"
          ],
          [
           13521218.082081366,
           "Random Forest",
           "skill_ball_control"
          ],
          [
           13521218.082081366,
           "Random Forest",
           "skill_ball_control"
          ],
          [
           13521218.082081366,
           "Random Forest",
           "skill_ball_control"
          ],
          [
           13521218.082081366,
           "Random Forest",
           "skill_ball_control"
          ],
          [
           13521218.082081366,
           "Random Forest",
           "skill_ball_control"
          ],
          [
           13521218.082081366,
           "Random Forest",
           "skill_ball_control"
          ],
          [
           13521218.082081366,
           "Random Forest",
           "skill_ball_control"
          ],
          [
           13521218.082081366,
           "Random Forest",
           "skill_ball_control"
          ],
          [
           13521218.082081366,
           "Random Forest",
           "skill_ball_control"
          ],
          [
           13521218.082081366,
           "Random Forest",
           "skill_ball_control"
          ],
          [
           13521218.082081366,
           "Random Forest",
           "skill_ball_control"
          ],
          [
           13521218.082081366,
           "Random Forest",
           "skill_ball_control"
          ],
          [
           13521218.082081366,
           "Random Forest",
           "skill_ball_control"
          ],
          [
           13521218.082081366,
           "Random Forest",
           "skill_ball_control"
          ],
          [
           13521218.082081366,
           "Random Forest",
           "skill_ball_control"
          ],
          [
           13521218.082081366,
           "Random Forest",
           "skill_ball_control"
          ],
          [
           13521218.082081366,
           "Random Forest",
           "skill_ball_control"
          ],
          [
           13521218.082081366,
           "Random Forest",
           "skill_ball_control"
          ],
          [
           13521218.082081366,
           "Random Forest",
           "skill_ball_control"
          ],
          [
           13521218.082081366,
           "Random Forest",
           "skill_ball_control"
          ],
          [
           13521218.082081366,
           "Random Forest",
           "skill_ball_control"
          ],
          [
           13521218.082081366,
           "Random Forest",
           "skill_ball_control"
          ],
          [
           13521218.082081366,
           "Random Forest",
           "skill_ball_control"
          ],
          [
           13521218.082081366,
           "Random Forest",
           "skill_ball_control"
          ],
          [
           13521218.082081366,
           "Random Forest",
           "skill_ball_control"
          ],
          [
           13521218.082081366,
           "Random Forest",
           "skill_ball_control"
          ],
          [
           13521218.082081366,
           "Random Forest",
           "skill_ball_control"
          ],
          [
           13521218.082081366,
           "Random Forest",
           "skill_ball_control"
          ],
          [
           13521218.082081366,
           "Random Forest",
           "skill_ball_control"
          ],
          [
           13521218.082081366,
           "Random Forest",
           "skill_ball_control"
          ],
          [
           13521218.082081366,
           "Random Forest",
           "skill_ball_control"
          ],
          [
           13521218.082081366,
           "Random Forest",
           "skill_ball_control"
          ],
          [
           13521218.082081366,
           "Random Forest",
           "skill_ball_control"
          ],
          [
           13521218.082081366,
           "Random Forest",
           "skill_ball_control"
          ],
          [
           13521218.082081366,
           "Random Forest",
           "skill_ball_control"
          ],
          [
           13521218.082081366,
           "Random Forest",
           "skill_ball_control"
          ],
          [
           13521218.082081366,
           "Random Forest",
           "skill_ball_control"
          ],
          [
           13521218.082081366,
           "Random Forest",
           "skill_ball_control"
          ],
          [
           13521218.082081366,
           "Random Forest",
           "skill_ball_control"
          ],
          [
           13521218.082081366,
           "Random Forest",
           "skill_ball_control"
          ],
          [
           13521218.082081366,
           "Random Forest",
           "skill_ball_control"
          ],
          [
           13521218.082081366,
           "Random Forest",
           "skill_ball_control"
          ],
          [
           13521218.082081366,
           "Random Forest",
           "skill_ball_control"
          ],
          [
           13521218.082081366,
           "Random Forest",
           "skill_ball_control"
          ],
          [
           13521218.082081366,
           "Random Forest",
           "skill_ball_control"
          ],
          [
           13521218.082081366,
           "Random Forest",
           "skill_ball_control"
          ],
          [
           13521218.082081366,
           "Random Forest",
           "skill_ball_control"
          ],
          [
           13521218.082081366,
           "Random Forest",
           "skill_ball_control"
          ],
          [
           13521218.082081366,
           "Random Forest",
           "skill_ball_control"
          ],
          [
           13521218.082081366,
           "Random Forest",
           "skill_ball_control"
          ],
          [
           13521218.082081366,
           "Random Forest",
           "skill_ball_control"
          ],
          [
           13521218.082081366,
           "Random Forest",
           "skill_ball_control"
          ],
          [
           13521218.082081366,
           "Random Forest",
           "skill_ball_control"
          ],
          [
           13521218.082081366,
           "Random Forest",
           "skill_ball_control"
          ],
          [
           13521218.082081366,
           "Random Forest",
           "skill_ball_control"
          ],
          [
           13521218.082081366,
           "Random Forest",
           "skill_ball_control"
          ],
          [
           13521218.082081366,
           "Random Forest",
           "skill_ball_control"
          ],
          [
           13521218.082081366,
           "Random Forest",
           "skill_ball_control"
          ],
          [
           13521218.082081366,
           "Random Forest",
           "skill_ball_control"
          ],
          [
           13521218.082081366,
           "Random Forest",
           "skill_ball_control"
          ],
          [
           13521218.082081366,
           "Random Forest",
           "skill_ball_control"
          ],
          [
           13521218.082081366,
           "Random Forest",
           "skill_ball_control"
          ],
          [
           13521218.082081366,
           "Random Forest",
           "skill_ball_control"
          ],
          [
           13521218.082081366,
           "Random Forest",
           "skill_ball_control"
          ],
          [
           13521218.082081366,
           "Random Forest",
           "skill_ball_control"
          ],
          [
           13521218.082081366,
           "Random Forest",
           "skill_ball_control"
          ],
          [
           13521218.082081366,
           "Random Forest",
           "skill_ball_control"
          ],
          [
           13521218.082081366,
           "Random Forest",
           "skill_ball_control"
          ],
          [
           13521218.082081366,
           "Random Forest",
           "skill_ball_control"
          ],
          [
           13521218.082081366,
           "Random Forest",
           "skill_ball_control"
          ],
          [
           13521218.082081366,
           "Random Forest",
           "skill_ball_control"
          ],
          [
           13521218.082081366,
           "Random Forest",
           "skill_ball_control"
          ],
          [
           13521218.082081366,
           "Random Forest",
           "skill_ball_control"
          ],
          [
           13521218.082081366,
           "Random Forest",
           "skill_ball_control"
          ],
          [
           13521218.082081366,
           "Random Forest",
           "skill_ball_control"
          ],
          [
           13521218.082081366,
           "Random Forest",
           "skill_ball_control"
          ],
          [
           13521218.082081366,
           "Random Forest",
           "skill_ball_control"
          ],
          [
           13521218.082081366,
           "Random Forest",
           "skill_ball_control"
          ],
          [
           13521218.082081366,
           "Random Forest",
           "skill_ball_control"
          ],
          [
           13521218.082081366,
           "Random Forest",
           "skill_ball_control"
          ],
          [
           13521218.082081366,
           "Random Forest",
           "skill_ball_control"
          ],
          [
           13521218.082081366,
           "Random Forest",
           "skill_ball_control"
          ],
          [
           13521218.082081366,
           "Random Forest",
           "skill_ball_control"
          ],
          [
           13521218.082081366,
           "Random Forest",
           "skill_ball_control"
          ],
          [
           13521218.082081366,
           "Random Forest",
           "skill_ball_control"
          ],
          [
           13521218.082081366,
           "Random Forest",
           "skill_ball_control"
          ],
          [
           13521218.082081366,
           "Random Forest",
           "skill_ball_control"
          ]
         ],
         "hovertemplate": "<b>%{hovertext}</b><br><br>prediction=%{y:.3f}<br>mean_prediction=%{customdata[0]:.3f}<extra></extra>",
         "hovertext": [
          "Random Forest",
          "Random Forest",
          "Random Forest",
          "Random Forest",
          "Random Forest",
          "Random Forest",
          "Random Forest",
          "Random Forest",
          "Random Forest",
          "Random Forest",
          "Random Forest",
          "Random Forest",
          "Random Forest",
          "Random Forest",
          "Random Forest",
          "Random Forest",
          "Random Forest",
          "Random Forest",
          "Random Forest",
          "Random Forest",
          "Random Forest",
          "Random Forest",
          "Random Forest",
          "Random Forest",
          "Random Forest",
          "Random Forest",
          "Random Forest",
          "Random Forest",
          "Random Forest",
          "Random Forest",
          "Random Forest",
          "Random Forest",
          "Random Forest",
          "Random Forest",
          "Random Forest",
          "Random Forest",
          "Random Forest",
          "Random Forest",
          "Random Forest",
          "Random Forest",
          "Random Forest",
          "Random Forest",
          "Random Forest",
          "Random Forest",
          "Random Forest",
          "Random Forest",
          "Random Forest",
          "Random Forest",
          "Random Forest",
          "Random Forest",
          "Random Forest",
          "Random Forest",
          "Random Forest",
          "Random Forest",
          "Random Forest",
          "Random Forest",
          "Random Forest",
          "Random Forest",
          "Random Forest",
          "Random Forest",
          "Random Forest",
          "Random Forest",
          "Random Forest",
          "Random Forest",
          "Random Forest",
          "Random Forest",
          "Random Forest",
          "Random Forest",
          "Random Forest",
          "Random Forest",
          "Random Forest",
          "Random Forest",
          "Random Forest",
          "Random Forest",
          "Random Forest",
          "Random Forest",
          "Random Forest",
          "Random Forest",
          "Random Forest",
          "Random Forest",
          "Random Forest",
          "Random Forest",
          "Random Forest",
          "Random Forest",
          "Random Forest",
          "Random Forest",
          "Random Forest",
          "Random Forest",
          "Random Forest",
          "Random Forest",
          "Random Forest",
          "Random Forest",
          "Random Forest",
          "Random Forest",
          "Random Forest",
          "Random Forest",
          "Random Forest",
          "Random Forest",
          "Random Forest",
          "Random Forest",
          "Random Forest"
         ],
         "legendgroup": "Random Forest",
         "line": {
          "color": "#46bac2",
          "dash": "solid",
          "width": 2
         },
         "marker": {
          "symbol": "circle"
         },
         "mode": "lines",
         "name": "Random Forest",
         "opacity": 1,
         "orientation": "v",
         "showlegend": false,
         "type": "scatter",
         "x": [
          11,
          11.8,
          12.6,
          13.4,
          14.2,
          15,
          15.8,
          16.6,
          17.4,
          18.2,
          19,
          19.8,
          20.6,
          21.4,
          22.200000000000003,
          23,
          23.8,
          24.6,
          25.4,
          26.200000000000003,
          27,
          27.8,
          28.6,
          29.400000000000002,
          30.200000000000003,
          31,
          31.8,
          32.6,
          33.400000000000006,
          34.2,
          35,
          35.8,
          36.6,
          37.400000000000006,
          38.2,
          39,
          39.8,
          40.6,
          41.400000000000006,
          42.2,
          43,
          43.800000000000004,
          44.6,
          45.4,
          46.2,
          47,
          47.800000000000004,
          48.6,
          49.400000000000006,
          50.2,
          51,
          51.800000000000004,
          52.6,
          53.400000000000006,
          54.2,
          55,
          55.800000000000004,
          56.6,
          57.400000000000006,
          58.2,
          59,
          59.800000000000004,
          60.6,
          61.400000000000006,
          62.2,
          63,
          63.800000000000004,
          64.6,
          65.4,
          66.2,
          67,
          67.80000000000001,
          68.6,
          69.4,
          70.2,
          71,
          71.80000000000001,
          72.6,
          73.4,
          74.2,
          75,
          75.8,
          76.60000000000001,
          77.4,
          78.2,
          79,
          79.8,
          80.60000000000001,
          81.4,
          82.2,
          83,
          83.8,
          84.60000000000001,
          85.4,
          86.2,
          87,
          87.80000000000001,
          88.60000000000001,
          89.4,
          90.2,
          91
         ],
         "xaxis": "x2",
         "y": [
          13448011.988704825,
          13448010.3914521,
          13447994.418924846,
          13447994.418924846,
          13447994.418924846,
          13448028.833065858,
          13448039.135345936,
          13448089.94794826,
          13448326.391265754,
          13448342.962762779,
          13448443.802651502,
          13448708.580566823,
          13449155.18241165,
          13449203.70894601,
          13449914.399890918,
          13451741.339934994,
          13452367.178825436,
          13452418.88988242,
          13452447.174566096,
          13452461.150527442,
          13452470.654181158,
          13452469.908796553,
          13452271.050832253,
          13452269.802978558,
          13452269.802978558,
          13452269.802978558,
          13452306.000718448,
          13452404.76417863,
          13452457.57334686,
          13452730.969771676,
          13452927.332028594,
          13452932.32344336,
          13453483.808222873,
          13453433.328381535,
          13453489.21891648,
          13453514.076162018,
          13453515.274101561,
          13453571.55729447,
          13453567.204780793,
          13453627.575942395,
          13454382.277855106,
          13454397.600832917,
          13454440.427171614,
          13454479.79778749,
          13454666.060748529,
          13454683.251180984,
          13454771.03352868,
          13454808.968280906,
          13454820.947676346,
          13455008.11741107,
          13455152.354323579,
          13455229.55819958,
          13455458.16499589,
          13455632.115800506,
          13455638.74606312,
          13455634.736293258,
          13455683.617218068,
          13455689.14105041,
          13455719.122815108,
          13455729.879313929,
          13455733.569633247,
          13455735.080368116,
          13456010.277029859,
          13456996.005148923,
          13459308.058417302,
          13460084.905573526,
          13467565.63514723,
          13468127.159325643,
          13469047.8790211,
          13470268.624339154,
          13471062.039664794,
          13471819.70481407,
          13472011.880937804,
          13472197.920948984,
          13474417.138181059,
          13477408.230169505,
          13481542.795859376,
          13483075.45302239,
          13483489.307858737,
          13484622.54250467,
          13485396.844039364,
          13488808.019674415,
          13491466.766629651,
          13492699.745905297,
          13495932.532179572,
          13503538.076357871,
          13513397.098839203,
          13522364.27909868,
          13522688.52140192,
          13531797.030955963,
          13535179.465549413,
          13536466.402018687,
          13539438.903601678,
          13539409.687187245,
          13552502.919209119,
          13564802.739708338,
          13573705.641003823,
          13607554.249967834,
          13608346.05473031,
          13617928.724918537,
          13618514.750288235
         ],
         "yaxis": "y2"
        }
       ],
       "layout": {
        "annotations": [
         {
          "font": {
           "size": 13
          },
          "showarrow": false,
          "text": "age",
          "x": 0.2375,
          "xanchor": "center",
          "xref": "paper",
          "y": 0.425,
          "yanchor": "bottom",
          "yref": "paper"
         },
         {
          "font": {
           "size": 13
          },
          "showarrow": false,
          "text": "skill_ball_control",
          "x": 0.7625,
          "xanchor": "center",
          "xref": "paper",
          "y": 0.425,
          "yanchor": "bottom",
          "yref": "paper"
         },
         {
          "font": {
           "size": 13
          },
          "showarrow": false,
          "text": "mentality_aggression",
          "x": 0.2375,
          "xanchor": "center",
          "xref": "paper",
          "y": 1,
          "yanchor": "bottom",
          "yref": "paper"
         },
         {
          "font": {
           "size": 13
          },
          "showarrow": false,
          "text": "power_stamina",
          "x": 0.7625,
          "xanchor": "center",
          "xref": "paper",
          "y": 1,
          "yanchor": "bottom",
          "yref": "paper"
         },
         {
          "font": {
           "size": 13
          },
          "showarrow": false,
          "text": "prediction",
          "textangle": -90,
          "x": -0.07,
          "xref": "paper",
          "y": 0.5,
          "yref": "paper"
         }
        ],
        "font": {
         "color": "#371ea3"
        },
        "height": 829,
        "hovermode": "x unified",
        "legend": {
         "font": {
          "size": 11
         },
         "itemsizing": "constant",
         "orientation": "h",
         "title": {
          "font": {
           "size": 12
          },
          "text": "label"
         },
         "tracegroupgap": 0,
         "x": 1,
         "xanchor": "right",
         "y": 1.0361881785283473,
         "yanchor": "bottom"
        },
        "margin": {
         "b": 71,
         "r": 30,
         "t": 78
        },
        "template": {
         "data": {
          "scatter": [
           {
            "type": "scatter"
           }
          ]
         }
        },
        "title": {
         "font": {
          "size": 16
         },
         "text": "Aggregated Profiles",
         "x": 0.15
        },
        "xaxis": {
         "anchor": "y",
         "automargin": true,
         "domain": [
          0,
          0.475
         ],
         "fixedrange": true,
         "gridwidth": 2,
         "showticklabels": true,
         "tickcolor": "white",
         "ticklen": 3,
         "ticks": "outside",
         "title": {
          "text": ""
         },
         "type": "linear",
         "zeroline": false
        },
        "xaxis2": {
         "anchor": "y2",
         "automargin": true,
         "domain": [
          0.525,
          1
         ],
         "fixedrange": true,
         "gridwidth": 2,
         "showticklabels": true,
         "tickcolor": "white",
         "ticklen": 3,
         "ticks": "outside",
         "title": {
          "text": ""
         },
         "type": "linear",
         "zeroline": false
        },
        "xaxis3": {
         "anchor": "y3",
         "automargin": true,
         "domain": [
          0,
          0.475
         ],
         "fixedrange": true,
         "gridwidth": 2,
         "showticklabels": true,
         "tickcolor": "white",
         "ticklen": 3,
         "ticks": "outside",
         "title": {
          "text": ""
         },
         "type": "linear",
         "zeroline": false
        },
        "xaxis4": {
         "anchor": "y4",
         "automargin": true,
         "domain": [
          0.525,
          1
         ],
         "fixedrange": true,
         "gridwidth": 2,
         "showticklabels": true,
         "tickcolor": "white",
         "ticklen": 3,
         "ticks": "outside",
         "title": {
          "text": ""
         },
         "type": "linear",
         "zeroline": false
        },
        "yaxis": {
         "anchor": "x",
         "automargin": true,
         "domain": [
          0,
          0.425
         ],
         "fixedrange": true,
         "gridwidth": 2,
         "range": [
          10631353.024207886,
          14570137.814121615
         ],
         "tickcolor": "white",
         "ticklen": 3,
         "ticks": "outside",
         "title": {
          "text": ""
         },
         "type": "linear",
         "zeroline": false
        },
        "yaxis2": {
         "anchor": "x2",
         "automargin": true,
         "domain": [
          0,
          0.425
         ],
         "fixedrange": true,
         "gridwidth": 2,
         "matches": "y",
         "showticklabels": false,
         "tickcolor": "white",
         "ticklen": 3,
         "ticks": "outside",
         "title": {
          "text": ""
         },
         "type": "linear",
         "zeroline": false
        },
        "yaxis3": {
         "anchor": "x3",
         "automargin": true,
         "domain": [
          0.575,
          1
         ],
         "fixedrange": true,
         "gridwidth": 2,
         "matches": "y",
         "range": [
          10631353.024207886,
          14570137.814121615
         ],
         "tickcolor": "white",
         "ticklen": 3,
         "ticks": "outside",
         "title": {
          "text": ""
         },
         "type": "linear",
         "zeroline": false
        },
        "yaxis4": {
         "anchor": "x4",
         "automargin": true,
         "domain": [
          0.575,
          1
         ],
         "fixedrange": true,
         "gridwidth": 2,
         "matches": "y",
         "showticklabels": false,
         "tickcolor": "white",
         "ticklen": 3,
         "ticks": "outside",
         "title": {
          "text": ""
         },
         "type": "linear",
         "zeroline": false
        }
       }
      },
      "text/html": [
       "<div>                            <div id=\"c97f91dd-60a2-47ba-93b4-e13fcc91c90e\" class=\"plotly-graph-div\" style=\"height:829px; width:100%;\"></div>            <script type=\"text/javascript\">                require([\"plotly\"], function(Plotly) {                    window.PLOTLYENV=window.PLOTLYENV || {};                                    if (document.getElementById(\"c97f91dd-60a2-47ba-93b4-e13fcc91c90e\")) {                    Plotly.newPlot(                        \"c97f91dd-60a2-47ba-93b4-e13fcc91c90e\",                        [{\"customdata\":[[13521218.082081366,\"Random Forest\",\"mentality_aggression\"],[13521218.082081366,\"Random Forest\",\"mentality_aggression\"],[13521218.082081366,\"Random Forest\",\"mentality_aggression\"],[13521218.082081366,\"Random Forest\",\"mentality_aggression\"],[13521218.082081366,\"Random Forest\",\"mentality_aggression\"],[13521218.082081366,\"Random Forest\",\"mentality_aggression\"],[13521218.082081366,\"Random Forest\",\"mentality_aggression\"],[13521218.082081366,\"Random Forest\",\"mentality_aggression\"],[13521218.082081366,\"Random Forest\",\"mentality_aggression\"],[13521218.082081366,\"Random Forest\",\"mentality_aggression\"],[13521218.082081366,\"Random Forest\",\"mentality_aggression\"],[13521218.082081366,\"Random Forest\",\"mentality_aggression\"],[13521218.082081366,\"Random Forest\",\"mentality_aggression\"],[13521218.082081366,\"Random Forest\",\"mentality_aggression\"],[13521218.082081366,\"Random Forest\",\"mentality_aggression\"],[13521218.082081366,\"Random Forest\",\"mentality_aggression\"],[13521218.082081366,\"Random Forest\",\"mentality_aggression\"],[13521218.082081366,\"Random Forest\",\"mentality_aggression\"],[13521218.082081366,\"Random Forest\",\"mentality_aggression\"],[13521218.082081366,\"Random Forest\",\"mentality_aggression\"],[13521218.082081366,\"Random Forest\",\"mentality_aggression\"],[13521218.082081366,\"Random Forest\",\"mentality_aggression\"],[13521218.082081366,\"Random Forest\",\"mentality_aggression\"],[13521218.082081366,\"Random Forest\",\"mentality_aggression\"],[13521218.082081366,\"Random Forest\",\"mentality_aggression\"],[13521218.082081366,\"Random Forest\",\"mentality_aggression\"],[13521218.082081366,\"Random Forest\",\"mentality_aggression\"],[13521218.082081366,\"Random Forest\",\"mentality_aggression\"],[13521218.082081366,\"Random Forest\",\"mentality_aggression\"],[13521218.082081366,\"Random Forest\",\"mentality_aggression\"],[13521218.082081366,\"Random Forest\",\"mentality_aggression\"],[13521218.082081366,\"Random Forest\",\"mentality_aggression\"],[13521218.082081366,\"Random Forest\",\"mentality_aggression\"],[13521218.082081366,\"Random Forest\",\"mentality_aggression\"],[13521218.082081366,\"Random Forest\",\"mentality_aggression\"],[13521218.082081366,\"Random Forest\",\"mentality_aggression\"],[13521218.082081366,\"Random Forest\",\"mentality_aggression\"],[13521218.082081366,\"Random Forest\",\"mentality_aggression\"],[13521218.082081366,\"Random Forest\",\"mentality_aggression\"],[13521218.082081366,\"Random Forest\",\"mentality_aggression\"],[13521218.082081366,\"Random Forest\",\"mentality_aggression\"],[13521218.082081366,\"Random Forest\",\"mentality_aggression\"],[13521218.082081366,\"Random Forest\",\"mentality_aggression\"],[13521218.082081366,\"Random Forest\",\"mentality_aggression\"],[13521218.082081366,\"Random Forest\",\"mentality_aggression\"],[13521218.082081366,\"Random Forest\",\"mentality_aggression\"],[13521218.082081366,\"Random Forest\",\"mentality_aggression\"],[13521218.082081366,\"Random Forest\",\"mentality_aggression\"],[13521218.082081366,\"Random Forest\",\"mentality_aggression\"],[13521218.082081366,\"Random Forest\",\"mentality_aggression\"],[13521218.082081366,\"Random Forest\",\"mentality_aggression\"],[13521218.082081366,\"Random Forest\",\"mentality_aggression\"],[13521218.082081366,\"Random Forest\",\"mentality_aggression\"],[13521218.082081366,\"Random Forest\",\"mentality_aggression\"],[13521218.082081366,\"Random Forest\",\"mentality_aggression\"],[13521218.082081366,\"Random Forest\",\"mentality_aggression\"],[13521218.082081366,\"Random Forest\",\"mentality_aggression\"],[13521218.082081366,\"Random Forest\",\"mentality_aggression\"],[13521218.082081366,\"Random Forest\",\"mentality_aggression\"],[13521218.082081366,\"Random Forest\",\"mentality_aggression\"],[13521218.082081366,\"Random Forest\",\"mentality_aggression\"],[13521218.082081366,\"Random Forest\",\"mentality_aggression\"],[13521218.082081366,\"Random Forest\",\"mentality_aggression\"],[13521218.082081366,\"Random Forest\",\"mentality_aggression\"],[13521218.082081366,\"Random Forest\",\"mentality_aggression\"],[13521218.082081366,\"Random Forest\",\"mentality_aggression\"],[13521218.082081366,\"Random Forest\",\"mentality_aggression\"],[13521218.082081366,\"Random Forest\",\"mentality_aggression\"],[13521218.082081366,\"Random Forest\",\"mentality_aggression\"],[13521218.082081366,\"Random Forest\",\"mentality_aggression\"],[13521218.082081366,\"Random Forest\",\"mentality_aggression\"],[13521218.082081366,\"Random Forest\",\"mentality_aggression\"],[13521218.082081366,\"Random Forest\",\"mentality_aggression\"],[13521218.082081366,\"Random Forest\",\"mentality_aggression\"],[13521218.082081366,\"Random Forest\",\"mentality_aggression\"],[13521218.082081366,\"Random Forest\",\"mentality_aggression\"],[13521218.082081366,\"Random Forest\",\"mentality_aggression\"],[13521218.082081366,\"Random Forest\",\"mentality_aggression\"],[13521218.082081366,\"Random Forest\",\"mentality_aggression\"],[13521218.082081366,\"Random Forest\",\"mentality_aggression\"],[13521218.082081366,\"Random Forest\",\"mentality_aggression\"],[13521218.082081366,\"Random Forest\",\"mentality_aggression\"],[13521218.082081366,\"Random Forest\",\"mentality_aggression\"],[13521218.082081366,\"Random Forest\",\"mentality_aggression\"],[13521218.082081366,\"Random Forest\",\"mentality_aggression\"],[13521218.082081366,\"Random Forest\",\"mentality_aggression\"],[13521218.082081366,\"Random Forest\",\"mentality_aggression\"],[13521218.082081366,\"Random Forest\",\"mentality_aggression\"],[13521218.082081366,\"Random Forest\",\"mentality_aggression\"],[13521218.082081366,\"Random Forest\",\"mentality_aggression\"],[13521218.082081366,\"Random Forest\",\"mentality_aggression\"],[13521218.082081366,\"Random Forest\",\"mentality_aggression\"],[13521218.082081366,\"Random Forest\",\"mentality_aggression\"],[13521218.082081366,\"Random Forest\",\"mentality_aggression\"],[13521218.082081366,\"Random Forest\",\"mentality_aggression\"],[13521218.082081366,\"Random Forest\",\"mentality_aggression\"],[13521218.082081366,\"Random Forest\",\"mentality_aggression\"],[13521218.082081366,\"Random Forest\",\"mentality_aggression\"],[13521218.082081366,\"Random Forest\",\"mentality_aggression\"],[13521218.082081366,\"Random Forest\",\"mentality_aggression\"],[13521218.082081366,\"Random Forest\",\"mentality_aggression\"]],\"hovertemplate\":\"<b>%{hovertext}</b><br><br>prediction=%{y:.3f}<br>mean_prediction=%{customdata[0]:.3f}<extra></extra>\",\"hovertext\":[\"Random Forest\",\"Random Forest\",\"Random Forest\",\"Random Forest\",\"Random Forest\",\"Random Forest\",\"Random Forest\",\"Random Forest\",\"Random Forest\",\"Random Forest\",\"Random Forest\",\"Random Forest\",\"Random Forest\",\"Random Forest\",\"Random Forest\",\"Random Forest\",\"Random Forest\",\"Random Forest\",\"Random Forest\",\"Random Forest\",\"Random Forest\",\"Random Forest\",\"Random Forest\",\"Random Forest\",\"Random Forest\",\"Random Forest\",\"Random Forest\",\"Random Forest\",\"Random Forest\",\"Random Forest\",\"Random Forest\",\"Random Forest\",\"Random Forest\",\"Random Forest\",\"Random Forest\",\"Random Forest\",\"Random Forest\",\"Random Forest\",\"Random Forest\",\"Random Forest\",\"Random Forest\",\"Random Forest\",\"Random Forest\",\"Random Forest\",\"Random Forest\",\"Random Forest\",\"Random Forest\",\"Random Forest\",\"Random Forest\",\"Random Forest\",\"Random Forest\",\"Random Forest\",\"Random Forest\",\"Random Forest\",\"Random Forest\",\"Random Forest\",\"Random Forest\",\"Random Forest\",\"Random Forest\",\"Random Forest\",\"Random Forest\",\"Random Forest\",\"Random Forest\",\"Random Forest\",\"Random Forest\",\"Random Forest\",\"Random Forest\",\"Random Forest\",\"Random Forest\",\"Random Forest\",\"Random Forest\",\"Random Forest\",\"Random Forest\",\"Random Forest\",\"Random Forest\",\"Random Forest\",\"Random Forest\",\"Random Forest\",\"Random Forest\",\"Random Forest\",\"Random Forest\",\"Random Forest\",\"Random Forest\",\"Random Forest\",\"Random Forest\",\"Random Forest\",\"Random Forest\",\"Random Forest\",\"Random Forest\",\"Random Forest\",\"Random Forest\",\"Random Forest\",\"Random Forest\",\"Random Forest\",\"Random Forest\",\"Random Forest\",\"Random Forest\",\"Random Forest\",\"Random Forest\",\"Random Forest\",\"Random Forest\"],\"legendgroup\":\"Random Forest\",\"line\":{\"color\":\"#46bac2\",\"dash\":\"solid\",\"width\":2},\"marker\":{\"symbol\":\"circle\"},\"mode\":\"lines\",\"name\":\"Random Forest\",\"orientation\":\"v\",\"showlegend\":true,\"x\":[11.0,11.82,12.64,13.46,14.28,15.1,15.92,16.74,17.56,18.38,19.2,20.02,20.84,21.66,22.479999999999997,23.299999999999997,24.119999999999997,24.939999999999998,25.759999999999998,26.58,27.4,28.22,29.04,29.86,30.68,31.5,32.32,33.14,33.959999999999994,34.78,35.599999999999994,36.42,37.239999999999995,38.06,38.879999999999995,39.7,40.519999999999996,41.34,42.16,42.98,43.8,44.62,45.44,46.26,47.08,47.9,48.72,49.54,50.36,51.18,52.0,52.82,53.64,54.46,55.279999999999994,56.099999999999994,56.919999999999995,57.739999999999995,58.559999999999995,59.379999999999995,60.199999999999996,61.019999999999996,61.839999999999996,62.66,63.48,64.3,65.12,65.94,66.75999999999999,67.58,68.4,69.22,70.03999999999999,70.86,71.68,72.5,73.32,74.13999999999999,74.96,75.78,76.6,77.42,78.24,79.06,79.88,80.7,81.52,82.33999999999999,83.16,83.97999999999999,84.8,85.61999999999999,86.44,87.25999999999999,88.08,88.89999999999999,89.72,90.53999999999999,91.36,92.17999999999999,93.0],\"xaxis\":\"x3\",\"y\":[13509149.996490164,13509149.996490164,13509149.996490164,13509149.996490164,13509149.996490164,13509601.73616459,13509601.73616459,13509824.03547644,13509790.659549702,13509796.649247423,13510233.38805667,13510001.505941527,13510024.34998311,13509256.410838436,13508797.167403812,13509100.112528672,13509645.873819254,13509763.90913185,13511346.6734439,13511846.24085462,13511849.531860756,13511873.290995045,13511756.19240462,13512144.762159878,13512774.678703424,13512777.374067398,13512533.158404054,13515297.656800145,13516809.11708845,13524966.536327358,13525832.506858045,13525948.174576238,13526045.274231497,13526085.258791387,13526018.174176924,13527916.181271387,13528403.503077881,13528398.312006524,13528558.128788326,13528126.943759907,13529750.602495454,13529552.84597001,13529764.58178441,13530282.374514248,13529450.44875988,13529957.044082591,13529837.133661848,13530139.819708515,13529551.398459729,13529297.926098857,13528379.503167251,13528688.714656822,13528439.050745416,13529244.36227625,13528196.57280747,13527660.124070726,13526882.86096327,13526915.617954578,13526866.785280112,13526735.377967356,13526460.840647737,13527610.940254193,13527325.963747118,13526968.94448691,13526656.58491997,13526718.791258402,13526978.178445773,13527223.822604487,13527256.612871893,13527433.668336494,13526885.943756105,13526678.094590003,13526658.92090208,13526462.032882806,13524994.324008737,13525367.964680115,13524369.876154285,13524209.844741648,13524136.830326442,13525301.081148362,13524503.579517832,13525374.997345835,13524691.83904478,13523818.403259093,13522719.160623092,13522101.649409048,13520812.258589828,13520895.952731144,13520763.4339967,13519500.37122657,13518997.509482104,13518601.390806226,13519164.156183112,13518677.093930187,13519068.820161069,13519160.961677661,13519926.644702857,13519736.305419758,13519736.305419758,13519736.305419758,13519736.305419758],\"yaxis\":\"y3\",\"type\":\"scatter\",\"opacity\":1},{\"customdata\":[[13521218.082081366,\"Random Forest\",\"power_stamina\"],[13521218.082081366,\"Random Forest\",\"power_stamina\"],[13521218.082081366,\"Random Forest\",\"power_stamina\"],[13521218.082081366,\"Random Forest\",\"power_stamina\"],[13521218.082081366,\"Random Forest\",\"power_stamina\"],[13521218.082081366,\"Random Forest\",\"power_stamina\"],[13521218.082081366,\"Random Forest\",\"power_stamina\"],[13521218.082081366,\"Random Forest\",\"power_stamina\"],[13521218.082081366,\"Random Forest\",\"power_stamina\"],[13521218.082081366,\"Random Forest\",\"power_stamina\"],[13521218.082081366,\"Random Forest\",\"power_stamina\"],[13521218.082081366,\"Random Forest\",\"power_stamina\"],[13521218.082081366,\"Random Forest\",\"power_stamina\"],[13521218.082081366,\"Random Forest\",\"power_stamina\"],[13521218.082081366,\"Random Forest\",\"power_stamina\"],[13521218.082081366,\"Random Forest\",\"power_stamina\"],[13521218.082081366,\"Random Forest\",\"power_stamina\"],[13521218.082081366,\"Random Forest\",\"power_stamina\"],[13521218.082081366,\"Random Forest\",\"power_stamina\"],[13521218.082081366,\"Random Forest\",\"power_stamina\"],[13521218.082081366,\"Random Forest\",\"power_stamina\"],[13521218.082081366,\"Random Forest\",\"power_stamina\"],[13521218.082081366,\"Random Forest\",\"power_stamina\"],[13521218.082081366,\"Random Forest\",\"power_stamina\"],[13521218.082081366,\"Random Forest\",\"power_stamina\"],[13521218.082081366,\"Random Forest\",\"power_stamina\"],[13521218.082081366,\"Random Forest\",\"power_stamina\"],[13521218.082081366,\"Random Forest\",\"power_stamina\"],[13521218.082081366,\"Random Forest\",\"power_stamina\"],[13521218.082081366,\"Random Forest\",\"power_stamina\"],[13521218.082081366,\"Random Forest\",\"power_stamina\"],[13521218.082081366,\"Random Forest\",\"power_stamina\"],[13521218.082081366,\"Random Forest\",\"power_stamina\"],[13521218.082081366,\"Random Forest\",\"power_stamina\"],[13521218.082081366,\"Random Forest\",\"power_stamina\"],[13521218.082081366,\"Random Forest\",\"power_stamina\"],[13521218.082081366,\"Random Forest\",\"power_stamina\"],[13521218.082081366,\"Random Forest\",\"power_stamina\"],[13521218.082081366,\"Random Forest\",\"power_stamina\"],[13521218.082081366,\"Random Forest\",\"power_stamina\"],[13521218.082081366,\"Random Forest\",\"power_stamina\"],[13521218.082081366,\"Random Forest\",\"power_stamina\"],[13521218.082081366,\"Random Forest\",\"power_stamina\"],[13521218.082081366,\"Random Forest\",\"power_stamina\"],[13521218.082081366,\"Random Forest\",\"power_stamina\"],[13521218.082081366,\"Random Forest\",\"power_stamina\"],[13521218.082081366,\"Random Forest\",\"power_stamina\"],[13521218.082081366,\"Random Forest\",\"power_stamina\"],[13521218.082081366,\"Random Forest\",\"power_stamina\"],[13521218.082081366,\"Random Forest\",\"power_stamina\"],[13521218.082081366,\"Random Forest\",\"power_stamina\"],[13521218.082081366,\"Random Forest\",\"power_stamina\"],[13521218.082081366,\"Random Forest\",\"power_stamina\"],[13521218.082081366,\"Random Forest\",\"power_stamina\"],[13521218.082081366,\"Random Forest\",\"power_stamina\"],[13521218.082081366,\"Random Forest\",\"power_stamina\"],[13521218.082081366,\"Random Forest\",\"power_stamina\"],[13521218.082081366,\"Random Forest\",\"power_stamina\"],[13521218.082081366,\"Random Forest\",\"power_stamina\"],[13521218.082081366,\"Random Forest\",\"power_stamina\"],[13521218.082081366,\"Random Forest\",\"power_stamina\"],[13521218.082081366,\"Random Forest\",\"power_stamina\"],[13521218.082081366,\"Random Forest\",\"power_stamina\"],[13521218.082081366,\"Random Forest\",\"power_stamina\"],[13521218.082081366,\"Random Forest\",\"power_stamina\"],[13521218.082081366,\"Random Forest\",\"power_stamina\"],[13521218.082081366,\"Random Forest\",\"power_stamina\"],[13521218.082081366,\"Random Forest\",\"power_stamina\"],[13521218.082081366,\"Random Forest\",\"power_stamina\"],[13521218.082081366,\"Random Forest\",\"power_stamina\"],[13521218.082081366,\"Random Forest\",\"power_stamina\"],[13521218.082081366,\"Random Forest\",\"power_stamina\"],[13521218.082081366,\"Random Forest\",\"power_stamina\"],[13521218.082081366,\"Random Forest\",\"power_stamina\"],[13521218.082081366,\"Random Forest\",\"power_stamina\"],[13521218.082081366,\"Random Forest\",\"power_stamina\"],[13521218.082081366,\"Random Forest\",\"power_stamina\"],[13521218.082081366,\"Random Forest\",\"power_stamina\"],[13521218.082081366,\"Random Forest\",\"power_stamina\"],[13521218.082081366,\"Random Forest\",\"power_stamina\"],[13521218.082081366,\"Random Forest\",\"power_stamina\"],[13521218.082081366,\"Random Forest\",\"power_stamina\"],[13521218.082081366,\"Random Forest\",\"power_stamina\"],[13521218.082081366,\"Random Forest\",\"power_stamina\"],[13521218.082081366,\"Random Forest\",\"power_stamina\"],[13521218.082081366,\"Random Forest\",\"power_stamina\"],[13521218.082081366,\"Random Forest\",\"power_stamina\"],[13521218.082081366,\"Random Forest\",\"power_stamina\"],[13521218.082081366,\"Random Forest\",\"power_stamina\"],[13521218.082081366,\"Random Forest\",\"power_stamina\"],[13521218.082081366,\"Random Forest\",\"power_stamina\"],[13521218.082081366,\"Random Forest\",\"power_stamina\"],[13521218.082081366,\"Random Forest\",\"power_stamina\"],[13521218.082081366,\"Random Forest\",\"power_stamina\"],[13521218.082081366,\"Random Forest\",\"power_stamina\"],[13521218.082081366,\"Random Forest\",\"power_stamina\"],[13521218.082081366,\"Random Forest\",\"power_stamina\"],[13521218.082081366,\"Random Forest\",\"power_stamina\"],[13521218.082081366,\"Random Forest\",\"power_stamina\"],[13521218.082081366,\"Random Forest\",\"power_stamina\"],[13521218.082081366,\"Random Forest\",\"power_stamina\"]],\"hovertemplate\":\"<b>%{hovertext}</b><br><br>prediction=%{y:.3f}<br>mean_prediction=%{customdata[0]:.3f}<extra></extra>\",\"hovertext\":[\"Random Forest\",\"Random Forest\",\"Random Forest\",\"Random Forest\",\"Random Forest\",\"Random Forest\",\"Random Forest\",\"Random Forest\",\"Random Forest\",\"Random Forest\",\"Random Forest\",\"Random Forest\",\"Random Forest\",\"Random Forest\",\"Random Forest\",\"Random Forest\",\"Random Forest\",\"Random Forest\",\"Random Forest\",\"Random Forest\",\"Random Forest\",\"Random Forest\",\"Random Forest\",\"Random Forest\",\"Random Forest\",\"Random Forest\",\"Random Forest\",\"Random Forest\",\"Random Forest\",\"Random Forest\",\"Random Forest\",\"Random Forest\",\"Random Forest\",\"Random Forest\",\"Random Forest\",\"Random Forest\",\"Random Forest\",\"Random Forest\",\"Random Forest\",\"Random Forest\",\"Random Forest\",\"Random Forest\",\"Random Forest\",\"Random Forest\",\"Random Forest\",\"Random Forest\",\"Random Forest\",\"Random Forest\",\"Random Forest\",\"Random Forest\",\"Random Forest\",\"Random Forest\",\"Random Forest\",\"Random Forest\",\"Random Forest\",\"Random Forest\",\"Random Forest\",\"Random Forest\",\"Random Forest\",\"Random Forest\",\"Random Forest\",\"Random Forest\",\"Random Forest\",\"Random Forest\",\"Random Forest\",\"Random Forest\",\"Random Forest\",\"Random Forest\",\"Random Forest\",\"Random Forest\",\"Random Forest\",\"Random Forest\",\"Random Forest\",\"Random Forest\",\"Random Forest\",\"Random Forest\",\"Random Forest\",\"Random Forest\",\"Random Forest\",\"Random Forest\",\"Random Forest\",\"Random Forest\",\"Random Forest\",\"Random Forest\",\"Random Forest\",\"Random Forest\",\"Random Forest\",\"Random Forest\",\"Random Forest\",\"Random Forest\",\"Random Forest\",\"Random Forest\",\"Random Forest\",\"Random Forest\",\"Random Forest\",\"Random Forest\",\"Random Forest\",\"Random Forest\",\"Random Forest\",\"Random Forest\",\"Random Forest\"],\"legendgroup\":\"Random Forest\",\"line\":{\"color\":\"#46bac2\",\"dash\":\"solid\",\"width\":2},\"marker\":{\"symbol\":\"circle\"},\"mode\":\"lines\",\"name\":\"Random Forest\",\"orientation\":\"v\",\"showlegend\":false,\"x\":[18.0,18.76,19.52,20.28,21.04,21.8,22.560000000000002,23.32,24.08,24.84,25.6,26.36,27.12,27.880000000000003,28.64,29.4,30.16,30.92,31.68,32.44,33.2,33.96,34.72,35.480000000000004,36.24,37.0,37.760000000000005,38.519999999999996,39.28,40.04,40.8,41.56,42.32,43.08,43.84,44.6,45.36,46.120000000000005,46.879999999999995,47.64,48.4,49.16,49.92,50.68,51.44,52.2,52.96,53.72,54.480000000000004,55.24,56.0,56.76,57.52,58.28,59.04,59.8,60.56,61.32,62.08,62.84,63.6,64.36,65.12,65.88,66.64,67.4,68.16,68.92,69.68,70.44,71.2,71.96000000000001,72.72,73.48,74.24000000000001,75.0,75.75999999999999,76.52000000000001,77.28,78.03999999999999,78.8,79.56,80.32,81.08,81.84,82.6,83.36,84.12,84.88,85.64,86.4,87.16,87.92,88.68,89.44,90.2,90.96000000000001,91.72,92.48,93.24,94.0],\"xaxis\":\"x4\",\"y\":[13412209.03454788,13412209.03454788,13412209.03454788,13412209.03454788,13412217.020811507,13412213.726477759,13412158.135427698,13412345.474870523,13412259.256499456,13412261.203151215,13412262.347849002,13412261.632412884,13412322.67741548,13412337.182466792,13412321.146714952,13412334.673448969,13413186.541569136,13413253.519700084,13413325.609039754,13413345.288524374,13420060.856081508,13420173.3126562,13420440.586278902,13421160.71432533,13424553.012905104,13427257.288218234,13430002.998929145,13430024.278994098,13431135.367921144,13436944.935464969,13437476.002030477,13446873.852964964,13455620.073750926,13462569.817810193,13462635.218654074,13464803.688885277,13464883.052380066,13465000.435481131,13465049.65083073,13465251.383849937,13466099.401925514,13466895.075747494,13466896.140582643,13467723.28289786,13467756.708738746,13467891.553472472,13468762.156036062,13469200.136043783,13469082.438483587,13469252.745555421,13469467.907144157,13470540.028333806,13470833.466952715,13470491.738059744,13470969.406470077,13470914.086620219,13471873.927360812,13471932.899262475,13475398.990918161,13476205.610199664,13478562.81842057,13478608.00451002,13478204.625464834,13483087.23642161,13485181.624074847,13486411.774882125,13489139.4233268,13486451.427631775,13496206.528857665,13496654.65142019,13500178.484712644,13502906.625643576,13507784.236153498,13508412.30920119,13514875.41432704,13520997.038466854,13526181.938533975,13531620.624470355,13532424.142419484,13534614.432263808,13535165.437867504,13542649.798101233,13543425.297575472,13550872.262129772,13555734.389746461,13557782.433777394,13558198.158730477,13559956.234839568,13561234.569437394,13567127.823516568,13571164.646847105,13577937.911118273,13578757.651165394,13577749.318830343,13578298.607387356,13578329.920195991,13578552.370914092,13580197.14190798,13581566.453358954,13583961.947394924,13584037.816899378],\"yaxis\":\"y4\",\"type\":\"scatter\",\"opacity\":1},{\"customdata\":[[13521218.082081366,\"Random Forest\",\"age\"],[13521218.082081366,\"Random Forest\",\"age\"],[13521218.082081366,\"Random Forest\",\"age\"],[13521218.082081366,\"Random Forest\",\"age\"],[13521218.082081366,\"Random Forest\",\"age\"],[13521218.082081366,\"Random Forest\",\"age\"],[13521218.082081366,\"Random Forest\",\"age\"],[13521218.082081366,\"Random Forest\",\"age\"],[13521218.082081366,\"Random Forest\",\"age\"],[13521218.082081366,\"Random Forest\",\"age\"],[13521218.082081366,\"Random Forest\",\"age\"],[13521218.082081366,\"Random Forest\",\"age\"],[13521218.082081366,\"Random Forest\",\"age\"],[13521218.082081366,\"Random Forest\",\"age\"],[13521218.082081366,\"Random Forest\",\"age\"],[13521218.082081366,\"Random Forest\",\"age\"],[13521218.082081366,\"Random Forest\",\"age\"],[13521218.082081366,\"Random Forest\",\"age\"],[13521218.082081366,\"Random Forest\",\"age\"],[13521218.082081366,\"Random Forest\",\"age\"],[13521218.082081366,\"Random Forest\",\"age\"],[13521218.082081366,\"Random Forest\",\"age\"],[13521218.082081366,\"Random Forest\",\"age\"],[13521218.082081366,\"Random Forest\",\"age\"],[13521218.082081366,\"Random Forest\",\"age\"],[13521218.082081366,\"Random Forest\",\"age\"],[13521218.082081366,\"Random Forest\",\"age\"],[13521218.082081366,\"Random Forest\",\"age\"],[13521218.082081366,\"Random Forest\",\"age\"],[13521218.082081366,\"Random Forest\",\"age\"],[13521218.082081366,\"Random Forest\",\"age\"],[13521218.082081366,\"Random Forest\",\"age\"],[13521218.082081366,\"Random Forest\",\"age\"],[13521218.082081366,\"Random Forest\",\"age\"],[13521218.082081366,\"Random Forest\",\"age\"],[13521218.082081366,\"Random Forest\",\"age\"],[13521218.082081366,\"Random Forest\",\"age\"],[13521218.082081366,\"Random Forest\",\"age\"],[13521218.082081366,\"Random Forest\",\"age\"],[13521218.082081366,\"Random Forest\",\"age\"],[13521218.082081366,\"Random Forest\",\"age\"],[13521218.082081366,\"Random Forest\",\"age\"],[13521218.082081366,\"Random Forest\",\"age\"],[13521218.082081366,\"Random Forest\",\"age\"],[13521218.082081366,\"Random Forest\",\"age\"],[13521218.082081366,\"Random Forest\",\"age\"],[13521218.082081366,\"Random Forest\",\"age\"],[13521218.082081366,\"Random Forest\",\"age\"],[13521218.082081366,\"Random Forest\",\"age\"],[13521218.082081366,\"Random Forest\",\"age\"],[13521218.082081366,\"Random Forest\",\"age\"],[13521218.082081366,\"Random Forest\",\"age\"],[13521218.082081366,\"Random Forest\",\"age\"],[13521218.082081366,\"Random Forest\",\"age\"],[13521218.082081366,\"Random Forest\",\"age\"],[13521218.082081366,\"Random Forest\",\"age\"],[13521218.082081366,\"Random Forest\",\"age\"],[13521218.082081366,\"Random Forest\",\"age\"],[13521218.082081366,\"Random Forest\",\"age\"],[13521218.082081366,\"Random Forest\",\"age\"],[13521218.082081366,\"Random Forest\",\"age\"],[13521218.082081366,\"Random Forest\",\"age\"],[13521218.082081366,\"Random Forest\",\"age\"],[13521218.082081366,\"Random Forest\",\"age\"],[13521218.082081366,\"Random Forest\",\"age\"],[13521218.082081366,\"Random Forest\",\"age\"],[13521218.082081366,\"Random Forest\",\"age\"],[13521218.082081366,\"Random Forest\",\"age\"],[13521218.082081366,\"Random Forest\",\"age\"],[13521218.082081366,\"Random Forest\",\"age\"],[13521218.082081366,\"Random Forest\",\"age\"],[13521218.082081366,\"Random Forest\",\"age\"],[13521218.082081366,\"Random Forest\",\"age\"],[13521218.082081366,\"Random Forest\",\"age\"],[13521218.082081366,\"Random Forest\",\"age\"],[13521218.082081366,\"Random Forest\",\"age\"],[13521218.082081366,\"Random Forest\",\"age\"],[13521218.082081366,\"Random Forest\",\"age\"],[13521218.082081366,\"Random Forest\",\"age\"],[13521218.082081366,\"Random Forest\",\"age\"],[13521218.082081366,\"Random Forest\",\"age\"],[13521218.082081366,\"Random Forest\",\"age\"],[13521218.082081366,\"Random Forest\",\"age\"],[13521218.082081366,\"Random Forest\",\"age\"],[13521218.082081366,\"Random Forest\",\"age\"],[13521218.082081366,\"Random Forest\",\"age\"],[13521218.082081366,\"Random Forest\",\"age\"],[13521218.082081366,\"Random Forest\",\"age\"],[13521218.082081366,\"Random Forest\",\"age\"],[13521218.082081366,\"Random Forest\",\"age\"],[13521218.082081366,\"Random Forest\",\"age\"],[13521218.082081366,\"Random Forest\",\"age\"],[13521218.082081366,\"Random Forest\",\"age\"],[13521218.082081366,\"Random Forest\",\"age\"],[13521218.082081366,\"Random Forest\",\"age\"],[13521218.082081366,\"Random Forest\",\"age\"],[13521218.082081366,\"Random Forest\",\"age\"],[13521218.082081366,\"Random Forest\",\"age\"],[13521218.082081366,\"Random Forest\",\"age\"],[13521218.082081366,\"Random Forest\",\"age\"],[13521218.082081366,\"Random Forest\",\"age\"]],\"hovertemplate\":\"<b>%{hovertext}</b><br><br>prediction=%{y:.3f}<br>mean_prediction=%{customdata[0]:.3f}<extra></extra>\",\"hovertext\":[\"Random Forest\",\"Random Forest\",\"Random Forest\",\"Random Forest\",\"Random Forest\",\"Random Forest\",\"Random Forest\",\"Random Forest\",\"Random Forest\",\"Random Forest\",\"Random Forest\",\"Random Forest\",\"Random Forest\",\"Random Forest\",\"Random Forest\",\"Random Forest\",\"Random Forest\",\"Random Forest\",\"Random Forest\",\"Random Forest\",\"Random Forest\",\"Random Forest\",\"Random Forest\",\"Random Forest\",\"Random Forest\",\"Random Forest\",\"Random Forest\",\"Random Forest\",\"Random Forest\",\"Random Forest\",\"Random Forest\",\"Random Forest\",\"Random Forest\",\"Random Forest\",\"Random Forest\",\"Random Forest\",\"Random Forest\",\"Random Forest\",\"Random Forest\",\"Random Forest\",\"Random Forest\",\"Random Forest\",\"Random Forest\",\"Random Forest\",\"Random Forest\",\"Random Forest\",\"Random Forest\",\"Random Forest\",\"Random Forest\",\"Random Forest\",\"Random Forest\",\"Random Forest\",\"Random Forest\",\"Random Forest\",\"Random Forest\",\"Random Forest\",\"Random Forest\",\"Random Forest\",\"Random Forest\",\"Random Forest\",\"Random Forest\",\"Random Forest\",\"Random Forest\",\"Random Forest\",\"Random Forest\",\"Random Forest\",\"Random Forest\",\"Random Forest\",\"Random Forest\",\"Random Forest\",\"Random Forest\",\"Random Forest\",\"Random Forest\",\"Random Forest\",\"Random Forest\",\"Random Forest\",\"Random Forest\",\"Random Forest\",\"Random Forest\",\"Random Forest\",\"Random Forest\",\"Random Forest\",\"Random Forest\",\"Random Forest\",\"Random Forest\",\"Random Forest\",\"Random Forest\",\"Random Forest\",\"Random Forest\",\"Random Forest\",\"Random Forest\",\"Random Forest\",\"Random Forest\",\"Random Forest\",\"Random Forest\",\"Random Forest\",\"Random Forest\",\"Random Forest\",\"Random Forest\",\"Random Forest\",\"Random Forest\"],\"legendgroup\":\"Random Forest\",\"line\":{\"color\":\"#46bac2\",\"dash\":\"solid\",\"width\":2},\"marker\":{\"symbol\":\"circle\"},\"mode\":\"lines\",\"name\":\"Random Forest\",\"orientation\":\"v\",\"showlegend\":false,\"x\":[17.0,17.21,17.42,17.63,17.84,18.05,18.26,18.47,18.68,18.89,19.1,19.31,19.52,19.73,19.94,20.15,20.36,20.57,20.78,20.99,21.2,21.41,21.62,21.83,22.04,22.25,22.46,22.67,22.88,23.09,23.3,23.509999999999998,23.72,23.93,24.14,24.35,24.56,24.77,24.98,25.189999999999998,25.4,25.61,25.82,26.03,26.240000000000002,26.45,26.66,26.869999999999997,27.08,27.29,27.5,27.71,27.92,28.13,28.34,28.549999999999997,28.759999999999998,28.97,29.18,29.39,29.6,29.81,30.02,30.229999999999997,30.439999999999998,30.65,30.86,31.07,31.28,31.490000000000002,31.7,31.91,32.12,32.33,32.54,32.75,32.96,33.17,33.379999999999995,33.59,33.8,34.01,34.22,34.43,34.64,34.849999999999994,35.06,35.269999999999996,35.480000000000004,35.69,35.9,36.11,36.32,36.53,36.739999999999995,36.95,37.16,37.370000000000005,37.58,37.79,38.0],\"xaxis\":\"x\",\"y\":[14241905.748295471,14241377.285822354,14241377.285822354,14237903.177954553,14237903.177954553,14237131.139194556,14237131.139194556,14237131.139194556,14236839.647227405,14236839.647227405,14236323.734597128,14236323.734597128,14232660.724735994,14232660.724735994,14232660.724735994,14232230.577921847,14232230.577921847,14209435.259203376,14209435.259203376,14209435.259203376,14208651.340876233,14208651.340876233,14197014.773391353,14197014.773391353,14188561.71265582,14188561.71265582,14188561.71265582,14171887.838148544,14171887.838148544,14167598.76202614,14167598.76202614,14155297.752144089,14155297.752144089,14155297.752144089,14152998.019351158,14152998.019351158,14141377.70486351,14141377.70486351,14141377.70486351,14141692.144028144,14141692.144028144,14124116.125256622,14124116.125256622,14123415.961205455,14123415.961205455,14123415.961205455,14053604.98394349,14053604.98394349,14048248.803240966,14048248.803240966,14048248.803240966,13956886.44047318,13956886.44047318,13954424.69942968,13954424.69942968,13909582.59147441,13909582.59147441,13909582.59147441,13907646.361789469,13907646.361789469,13839667.130828626,13839667.130828626,13814405.939411197,13814405.939411197,13814405.939411197,13502821.394019747,13502821.394019747,13454442.541550756,13454442.541550756,13454442.541550756,12772059.71393489,12772059.71393489,12618597.832545483,12618597.832545483,11754647.568285722,11754647.568285722,11754647.568285722,11722312.260015946,11722312.260015946,11148370.115821421,11148370.115821421,11093558.260545827,11093558.260545827,11093558.260545827,10986525.589359319,10986525.589359319,10972456.207267944,10972456.207267944,10972456.207267944,10962974.123119345,10962974.123119345,10962834.193797778,10962834.193797778,10961735.032133618,10961735.032133618,10961735.032133618,10961558.435879176,10961558.435879176,10959585.09003403,10959585.09003403,10959585.09003403],\"yaxis\":\"y\",\"type\":\"scatter\",\"opacity\":1},{\"customdata\":[[13521218.082081366,\"Random Forest\",\"skill_ball_control\"],[13521218.082081366,\"Random Forest\",\"skill_ball_control\"],[13521218.082081366,\"Random Forest\",\"skill_ball_control\"],[13521218.082081366,\"Random Forest\",\"skill_ball_control\"],[13521218.082081366,\"Random Forest\",\"skill_ball_control\"],[13521218.082081366,\"Random Forest\",\"skill_ball_control\"],[13521218.082081366,\"Random Forest\",\"skill_ball_control\"],[13521218.082081366,\"Random Forest\",\"skill_ball_control\"],[13521218.082081366,\"Random Forest\",\"skill_ball_control\"],[13521218.082081366,\"Random Forest\",\"skill_ball_control\"],[13521218.082081366,\"Random Forest\",\"skill_ball_control\"],[13521218.082081366,\"Random Forest\",\"skill_ball_control\"],[13521218.082081366,\"Random Forest\",\"skill_ball_control\"],[13521218.082081366,\"Random Forest\",\"skill_ball_control\"],[13521218.082081366,\"Random Forest\",\"skill_ball_control\"],[13521218.082081366,\"Random Forest\",\"skill_ball_control\"],[13521218.082081366,\"Random Forest\",\"skill_ball_control\"],[13521218.082081366,\"Random Forest\",\"skill_ball_control\"],[13521218.082081366,\"Random Forest\",\"skill_ball_control\"],[13521218.082081366,\"Random Forest\",\"skill_ball_control\"],[13521218.082081366,\"Random Forest\",\"skill_ball_control\"],[13521218.082081366,\"Random Forest\",\"skill_ball_control\"],[13521218.082081366,\"Random Forest\",\"skill_ball_control\"],[13521218.082081366,\"Random Forest\",\"skill_ball_control\"],[13521218.082081366,\"Random Forest\",\"skill_ball_control\"],[13521218.082081366,\"Random Forest\",\"skill_ball_control\"],[13521218.082081366,\"Random Forest\",\"skill_ball_control\"],[13521218.082081366,\"Random Forest\",\"skill_ball_control\"],[13521218.082081366,\"Random Forest\",\"skill_ball_control\"],[13521218.082081366,\"Random Forest\",\"skill_ball_control\"],[13521218.082081366,\"Random Forest\",\"skill_ball_control\"],[13521218.082081366,\"Random Forest\",\"skill_ball_control\"],[13521218.082081366,\"Random Forest\",\"skill_ball_control\"],[13521218.082081366,\"Random Forest\",\"skill_ball_control\"],[13521218.082081366,\"Random Forest\",\"skill_ball_control\"],[13521218.082081366,\"Random Forest\",\"skill_ball_control\"],[13521218.082081366,\"Random Forest\",\"skill_ball_control\"],[13521218.082081366,\"Random Forest\",\"skill_ball_control\"],[13521218.082081366,\"Random Forest\",\"skill_ball_control\"],[13521218.082081366,\"Random Forest\",\"skill_ball_control\"],[13521218.082081366,\"Random Forest\",\"skill_ball_control\"],[13521218.082081366,\"Random Forest\",\"skill_ball_control\"],[13521218.082081366,\"Random Forest\",\"skill_ball_control\"],[13521218.082081366,\"Random Forest\",\"skill_ball_control\"],[13521218.082081366,\"Random Forest\",\"skill_ball_control\"],[13521218.082081366,\"Random Forest\",\"skill_ball_control\"],[13521218.082081366,\"Random Forest\",\"skill_ball_control\"],[13521218.082081366,\"Random Forest\",\"skill_ball_control\"],[13521218.082081366,\"Random Forest\",\"skill_ball_control\"],[13521218.082081366,\"Random Forest\",\"skill_ball_control\"],[13521218.082081366,\"Random Forest\",\"skill_ball_control\"],[13521218.082081366,\"Random Forest\",\"skill_ball_control\"],[13521218.082081366,\"Random Forest\",\"skill_ball_control\"],[13521218.082081366,\"Random Forest\",\"skill_ball_control\"],[13521218.082081366,\"Random Forest\",\"skill_ball_control\"],[13521218.082081366,\"Random Forest\",\"skill_ball_control\"],[13521218.082081366,\"Random Forest\",\"skill_ball_control\"],[13521218.082081366,\"Random Forest\",\"skill_ball_control\"],[13521218.082081366,\"Random Forest\",\"skill_ball_control\"],[13521218.082081366,\"Random Forest\",\"skill_ball_control\"],[13521218.082081366,\"Random Forest\",\"skill_ball_control\"],[13521218.082081366,\"Random Forest\",\"skill_ball_control\"],[13521218.082081366,\"Random Forest\",\"skill_ball_control\"],[13521218.082081366,\"Random Forest\",\"skill_ball_control\"],[13521218.082081366,\"Random Forest\",\"skill_ball_control\"],[13521218.082081366,\"Random Forest\",\"skill_ball_control\"],[13521218.082081366,\"Random Forest\",\"skill_ball_control\"],[13521218.082081366,\"Random Forest\",\"skill_ball_control\"],[13521218.082081366,\"Random Forest\",\"skill_ball_control\"],[13521218.082081366,\"Random Forest\",\"skill_ball_control\"],[13521218.082081366,\"Random Forest\",\"skill_ball_control\"],[13521218.082081366,\"Random Forest\",\"skill_ball_control\"],[13521218.082081366,\"Random Forest\",\"skill_ball_control\"],[13521218.082081366,\"Random Forest\",\"skill_ball_control\"],[13521218.082081366,\"Random Forest\",\"skill_ball_control\"],[13521218.082081366,\"Random Forest\",\"skill_ball_control\"],[13521218.082081366,\"Random Forest\",\"skill_ball_control\"],[13521218.082081366,\"Random Forest\",\"skill_ball_control\"],[13521218.082081366,\"Random Forest\",\"skill_ball_control\"],[13521218.082081366,\"Random Forest\",\"skill_ball_control\"],[13521218.082081366,\"Random Forest\",\"skill_ball_control\"],[13521218.082081366,\"Random Forest\",\"skill_ball_control\"],[13521218.082081366,\"Random Forest\",\"skill_ball_control\"],[13521218.082081366,\"Random Forest\",\"skill_ball_control\"],[13521218.082081366,\"Random Forest\",\"skill_ball_control\"],[13521218.082081366,\"Random Forest\",\"skill_ball_control\"],[13521218.082081366,\"Random Forest\",\"skill_ball_control\"],[13521218.082081366,\"Random Forest\",\"skill_ball_control\"],[13521218.082081366,\"Random Forest\",\"skill_ball_control\"],[13521218.082081366,\"Random Forest\",\"skill_ball_control\"],[13521218.082081366,\"Random Forest\",\"skill_ball_control\"],[13521218.082081366,\"Random Forest\",\"skill_ball_control\"],[13521218.082081366,\"Random Forest\",\"skill_ball_control\"],[13521218.082081366,\"Random Forest\",\"skill_ball_control\"],[13521218.082081366,\"Random Forest\",\"skill_ball_control\"],[13521218.082081366,\"Random Forest\",\"skill_ball_control\"],[13521218.082081366,\"Random Forest\",\"skill_ball_control\"],[13521218.082081366,\"Random Forest\",\"skill_ball_control\"],[13521218.082081366,\"Random Forest\",\"skill_ball_control\"],[13521218.082081366,\"Random Forest\",\"skill_ball_control\"],[13521218.082081366,\"Random Forest\",\"skill_ball_control\"]],\"hovertemplate\":\"<b>%{hovertext}</b><br><br>prediction=%{y:.3f}<br>mean_prediction=%{customdata[0]:.3f}<extra></extra>\",\"hovertext\":[\"Random Forest\",\"Random Forest\",\"Random Forest\",\"Random Forest\",\"Random Forest\",\"Random Forest\",\"Random Forest\",\"Random Forest\",\"Random Forest\",\"Random Forest\",\"Random Forest\",\"Random Forest\",\"Random Forest\",\"Random Forest\",\"Random Forest\",\"Random Forest\",\"Random Forest\",\"Random Forest\",\"Random Forest\",\"Random Forest\",\"Random Forest\",\"Random Forest\",\"Random Forest\",\"Random Forest\",\"Random Forest\",\"Random Forest\",\"Random Forest\",\"Random Forest\",\"Random Forest\",\"Random Forest\",\"Random Forest\",\"Random Forest\",\"Random Forest\",\"Random Forest\",\"Random Forest\",\"Random Forest\",\"Random Forest\",\"Random Forest\",\"Random Forest\",\"Random Forest\",\"Random Forest\",\"Random Forest\",\"Random Forest\",\"Random Forest\",\"Random Forest\",\"Random Forest\",\"Random Forest\",\"Random Forest\",\"Random Forest\",\"Random Forest\",\"Random Forest\",\"Random Forest\",\"Random Forest\",\"Random Forest\",\"Random Forest\",\"Random Forest\",\"Random Forest\",\"Random Forest\",\"Random Forest\",\"Random Forest\",\"Random Forest\",\"Random Forest\",\"Random Forest\",\"Random Forest\",\"Random Forest\",\"Random Forest\",\"Random Forest\",\"Random Forest\",\"Random Forest\",\"Random Forest\",\"Random Forest\",\"Random Forest\",\"Random Forest\",\"Random Forest\",\"Random Forest\",\"Random Forest\",\"Random Forest\",\"Random Forest\",\"Random Forest\",\"Random Forest\",\"Random Forest\",\"Random Forest\",\"Random Forest\",\"Random Forest\",\"Random Forest\",\"Random Forest\",\"Random Forest\",\"Random Forest\",\"Random Forest\",\"Random Forest\",\"Random Forest\",\"Random Forest\",\"Random Forest\",\"Random Forest\",\"Random Forest\",\"Random Forest\",\"Random Forest\",\"Random Forest\",\"Random Forest\",\"Random Forest\",\"Random Forest\"],\"legendgroup\":\"Random Forest\",\"line\":{\"color\":\"#46bac2\",\"dash\":\"solid\",\"width\":2},\"marker\":{\"symbol\":\"circle\"},\"mode\":\"lines\",\"name\":\"Random Forest\",\"orientation\":\"v\",\"showlegend\":false,\"x\":[11.0,11.8,12.6,13.4,14.2,15.0,15.8,16.6,17.4,18.2,19.0,19.8,20.6,21.4,22.200000000000003,23.0,23.8,24.6,25.4,26.200000000000003,27.0,27.8,28.6,29.400000000000002,30.200000000000003,31.0,31.8,32.6,33.400000000000006,34.2,35.0,35.8,36.6,37.400000000000006,38.2,39.0,39.8,40.6,41.400000000000006,42.2,43.0,43.800000000000004,44.6,45.4,46.2,47.0,47.800000000000004,48.6,49.400000000000006,50.2,51.0,51.800000000000004,52.6,53.400000000000006,54.2,55.0,55.800000000000004,56.6,57.400000000000006,58.2,59.0,59.800000000000004,60.6,61.400000000000006,62.2,63.0,63.800000000000004,64.6,65.4,66.2,67.0,67.80000000000001,68.6,69.4,70.2,71.0,71.80000000000001,72.6,73.4,74.2,75.0,75.8,76.60000000000001,77.4,78.2,79.0,79.8,80.60000000000001,81.4,82.2,83.0,83.8,84.60000000000001,85.4,86.2,87.0,87.80000000000001,88.60000000000001,89.4,90.2,91.0],\"xaxis\":\"x2\",\"y\":[13448011.988704825,13448010.3914521,13447994.418924846,13447994.418924846,13447994.418924846,13448028.833065858,13448039.135345936,13448089.94794826,13448326.391265754,13448342.962762779,13448443.802651502,13448708.580566823,13449155.18241165,13449203.70894601,13449914.399890918,13451741.339934994,13452367.178825436,13452418.88988242,13452447.174566096,13452461.150527442,13452470.654181158,13452469.908796553,13452271.050832253,13452269.802978558,13452269.802978558,13452269.802978558,13452306.000718448,13452404.76417863,13452457.57334686,13452730.969771676,13452927.332028594,13452932.32344336,13453483.808222873,13453433.328381535,13453489.21891648,13453514.076162018,13453515.274101561,13453571.55729447,13453567.204780793,13453627.575942395,13454382.277855106,13454397.600832917,13454440.427171614,13454479.79778749,13454666.060748529,13454683.251180984,13454771.03352868,13454808.968280906,13454820.947676346,13455008.11741107,13455152.354323579,13455229.55819958,13455458.16499589,13455632.115800506,13455638.74606312,13455634.736293258,13455683.617218068,13455689.14105041,13455719.122815108,13455729.879313929,13455733.569633247,13455735.080368116,13456010.277029859,13456996.005148923,13459308.058417302,13460084.905573526,13467565.63514723,13468127.159325643,13469047.8790211,13470268.624339154,13471062.039664794,13471819.70481407,13472011.880937804,13472197.920948984,13474417.138181059,13477408.230169505,13481542.795859376,13483075.45302239,13483489.307858737,13484622.54250467,13485396.844039364,13488808.019674415,13491466.766629651,13492699.745905297,13495932.532179572,13503538.076357871,13513397.098839203,13522364.27909868,13522688.52140192,13531797.030955963,13535179.465549413,13536466.402018687,13539438.903601678,13539409.687187245,13552502.919209119,13564802.739708338,13573705.641003823,13607554.249967834,13608346.05473031,13617928.724918537,13618514.750288235],\"yaxis\":\"y2\",\"type\":\"scatter\",\"opacity\":1}],                        {\"template\":{\"data\":{\"scatter\":[{\"type\":\"scatter\"}]}},\"xaxis\":{\"anchor\":\"y\",\"domain\":[0.0,0.475],\"title\":{\"text\":\"\"},\"showticklabels\":true,\"type\":\"linear\",\"gridwidth\":2,\"zeroline\":false,\"automargin\":true,\"ticks\":\"outside\",\"tickcolor\":\"white\",\"ticklen\":3,\"fixedrange\":true},\"yaxis\":{\"anchor\":\"x\",\"domain\":[0.0,0.425],\"title\":{\"text\":\"\"},\"range\":[10631353.024207886,14570137.814121615],\"type\":\"linear\",\"gridwidth\":2,\"zeroline\":false,\"automargin\":true,\"ticks\":\"outside\",\"tickcolor\":\"white\",\"ticklen\":3,\"fixedrange\":true},\"xaxis2\":{\"anchor\":\"y2\",\"domain\":[0.525,1.0],\"title\":{\"text\":\"\"},\"showticklabels\":true,\"type\":\"linear\",\"gridwidth\":2,\"zeroline\":false,\"automargin\":true,\"ticks\":\"outside\",\"tickcolor\":\"white\",\"ticklen\":3,\"fixedrange\":true},\"yaxis2\":{\"anchor\":\"x2\",\"domain\":[0.0,0.425],\"matches\":\"y\",\"showticklabels\":false,\"type\":\"linear\",\"gridwidth\":2,\"zeroline\":false,\"automargin\":true,\"ticks\":\"outside\",\"tickcolor\":\"white\",\"ticklen\":3,\"fixedrange\":true,\"title\":{\"text\":\"\"}},\"xaxis3\":{\"anchor\":\"y3\",\"domain\":[0.0,0.475],\"showticklabels\":true,\"type\":\"linear\",\"gridwidth\":2,\"zeroline\":false,\"automargin\":true,\"ticks\":\"outside\",\"tickcolor\":\"white\",\"ticklen\":3,\"fixedrange\":true,\"title\":{\"text\":\"\"}},\"yaxis3\":{\"anchor\":\"x3\",\"domain\":[0.575,1.0],\"matches\":\"y\",\"title\":{\"text\":\"\"},\"range\":[10631353.024207886,14570137.814121615],\"type\":\"linear\",\"gridwidth\":2,\"zeroline\":false,\"automargin\":true,\"ticks\":\"outside\",\"tickcolor\":\"white\",\"ticklen\":3,\"fixedrange\":true},\"xaxis4\":{\"anchor\":\"y4\",\"domain\":[0.525,1.0],\"showticklabels\":true,\"type\":\"linear\",\"gridwidth\":2,\"zeroline\":false,\"automargin\":true,\"ticks\":\"outside\",\"tickcolor\":\"white\",\"ticklen\":3,\"fixedrange\":true,\"title\":{\"text\":\"\"}},\"yaxis4\":{\"anchor\":\"x4\",\"domain\":[0.575,1.0],\"matches\":\"y\",\"showticklabels\":false,\"type\":\"linear\",\"gridwidth\":2,\"zeroline\":false,\"automargin\":true,\"ticks\":\"outside\",\"tickcolor\":\"white\",\"ticklen\":3,\"fixedrange\":true,\"title\":{\"text\":\"\"}},\"annotations\":[{\"font\":{\"size\":13},\"showarrow\":false,\"text\":\"age\",\"x\":0.2375,\"xanchor\":\"center\",\"xref\":\"paper\",\"y\":0.425,\"yanchor\":\"bottom\",\"yref\":\"paper\"},{\"font\":{\"size\":13},\"showarrow\":false,\"text\":\"skill_ball_control\",\"x\":0.7625,\"xanchor\":\"center\",\"xref\":\"paper\",\"y\":0.425,\"yanchor\":\"bottom\",\"yref\":\"paper\"},{\"font\":{\"size\":13},\"showarrow\":false,\"text\":\"mentality_aggression\",\"x\":0.2375,\"xanchor\":\"center\",\"xref\":\"paper\",\"y\":1.0,\"yanchor\":\"bottom\",\"yref\":\"paper\"},{\"font\":{\"size\":13},\"showarrow\":false,\"text\":\"power_stamina\",\"x\":0.7625,\"xanchor\":\"center\",\"xref\":\"paper\",\"y\":1.0,\"yanchor\":\"bottom\",\"yref\":\"paper\"},{\"font\":{\"size\":13},\"showarrow\":false,\"text\":\"prediction\",\"textangle\":-90,\"x\":-0.07,\"xref\":\"paper\",\"y\":0.5,\"yref\":\"paper\"}],\"legend\":{\"title\":{\"text\":\"label\",\"font\":{\"size\":12}},\"tracegroupgap\":0,\"font\":{\"size\":11},\"orientation\":\"h\",\"yanchor\":\"bottom\",\"y\":1.0361881785283473,\"xanchor\":\"right\",\"x\":1,\"itemsizing\":\"constant\"},\"margin\":{\"t\":78,\"b\":71,\"r\":30},\"font\":{\"color\":\"#371ea3\"},\"title\":{\"font\":{\"size\":16},\"text\":\"Aggregated Profiles\",\"x\":0.15},\"hovermode\":\"x unified\",\"height\":829},                        {\"displaylogo\": false, \"staticPlot\": false, \"toImageButtonOptions\": {\"height\": null, \"width\": null}, \"modeBarButtonsToRemove\": [\"sendDataToCloud\", \"lasso2d\", \"autoScale2d\", \"select2d\", \"zoom2d\", \"pan2d\", \"zoomIn2d\", \"zoomOut2d\", \"resetScale2d\", \"toggleSpikelines\", \"hoverCompareCartesian\", \"hoverClosestCartesian\"], \"responsive\": true}                    ).then(function(){\n",
       "                            \n",
       "var gd = document.getElementById('c97f91dd-60a2-47ba-93b4-e13fcc91c90e');\n",
       "var x = new MutationObserver(function (mutations, observer) {{\n",
       "        var display = window.getComputedStyle(gd).display;\n",
       "        if (!display || display === 'none') {{\n",
       "            console.log([gd, 'removed!']);\n",
       "            Plotly.purge(gd);\n",
       "            observer.disconnect();\n",
       "        }}\n",
       "}});\n",
       "\n",
       "// Listen for the removal of the full notebook cells\n",
       "var notebookContainer = gd.closest('#notebook-container');\n",
       "if (notebookContainer) {{\n",
       "    x.observe(notebookContainer, {childList: true});\n",
       "}}\n",
       "\n",
       "// Listen for the clearing of the current output cell\n",
       "var outputEl = gd.closest('.output');\n",
       "if (outputEl) {{\n",
       "    x.observe(outputEl, {childList: true});\n",
       "}}\n",
       "\n",
       "                        })                };                });            </script>        </div>"
      ]
     },
     "metadata": {},
     "output_type": "display_data"
    }
   ],
   "source": [
    "pdp = explainer.model_profile(type = 'partial', N=800)\n",
    "\n",
    "pdp.plot(variables = ['mentality_aggression', 'power_stamina',\n",
    "                       'age', 'skill_ball_control'])"
   ]
  },
  {
   "cell_type": "code",
   "execution_count": null,
   "metadata": {},
   "outputs": [],
   "source": [
    "# Accumulated Local Dependence Profile"
   ]
  },
  {
   "cell_type": "code",
   "execution_count": 154,
   "metadata": {},
   "outputs": [
    {
     "name": "stderr",
     "output_type": "stream",
     "text": [
      "Calculating ceteris paribus: 100%|███████████████████████████████████████████| 73/73 [01:12<00:00,  1.01it/s]\n",
      "Calculating accumulated dependency: 100%|████████████████████████████████████| 73/73 [00:08<00:00,  8.82it/s]\n"
     ]
    },
    {
     "data": {
      "application/vnd.plotly.v1+json": {
       "config": {
        "displaylogo": false,
        "modeBarButtonsToRemove": [
         "sendDataToCloud",
         "lasso2d",
         "autoScale2d",
         "select2d",
         "zoom2d",
         "pan2d",
         "zoomIn2d",
         "zoomOut2d",
         "resetScale2d",
         "toggleSpikelines",
         "hoverCompareCartesian",
         "hoverClosestCartesian"
        ],
        "plotlyServerURL": "https://plot.ly",
        "staticPlot": false,
        "toImageButtonOptions": {
         "height": null,
         "width": null
        }
       },
       "data": [
        {
         "customdata": [
          [
           13521218.082081364,
           "Random Forest",
           "age"
          ],
          [
           13521218.082081364,
           "Random Forest",
           "age"
          ],
          [
           13521218.082081364,
           "Random Forest",
           "age"
          ],
          [
           13521218.082081364,
           "Random Forest",
           "age"
          ],
          [
           13521218.082081364,
           "Random Forest",
           "age"
          ],
          [
           13521218.082081364,
           "Random Forest",
           "age"
          ],
          [
           13521218.082081364,
           "Random Forest",
           "age"
          ],
          [
           13521218.082081364,
           "Random Forest",
           "age"
          ],
          [
           13521218.082081364,
           "Random Forest",
           "age"
          ],
          [
           13521218.082081364,
           "Random Forest",
           "age"
          ],
          [
           13521218.082081364,
           "Random Forest",
           "age"
          ],
          [
           13521218.082081364,
           "Random Forest",
           "age"
          ],
          [
           13521218.082081364,
           "Random Forest",
           "age"
          ],
          [
           13521218.082081364,
           "Random Forest",
           "age"
          ],
          [
           13521218.082081364,
           "Random Forest",
           "age"
          ],
          [
           13521218.082081364,
           "Random Forest",
           "age"
          ],
          [
           13521218.082081364,
           "Random Forest",
           "age"
          ],
          [
           13521218.082081364,
           "Random Forest",
           "age"
          ],
          [
           13521218.082081364,
           "Random Forest",
           "age"
          ],
          [
           13521218.082081364,
           "Random Forest",
           "age"
          ],
          [
           13521218.082081364,
           "Random Forest",
           "age"
          ],
          [
           13521218.082081364,
           "Random Forest",
           "age"
          ],
          [
           13521218.082081364,
           "Random Forest",
           "age"
          ],
          [
           13521218.082081364,
           "Random Forest",
           "age"
          ],
          [
           13521218.082081364,
           "Random Forest",
           "age"
          ],
          [
           13521218.082081364,
           "Random Forest",
           "age"
          ],
          [
           13521218.082081364,
           "Random Forest",
           "age"
          ],
          [
           13521218.082081364,
           "Random Forest",
           "age"
          ],
          [
           13521218.082081364,
           "Random Forest",
           "age"
          ],
          [
           13521218.082081364,
           "Random Forest",
           "age"
          ],
          [
           13521218.082081364,
           "Random Forest",
           "age"
          ],
          [
           13521218.082081364,
           "Random Forest",
           "age"
          ],
          [
           13521218.082081364,
           "Random Forest",
           "age"
          ],
          [
           13521218.082081364,
           "Random Forest",
           "age"
          ],
          [
           13521218.082081364,
           "Random Forest",
           "age"
          ],
          [
           13521218.082081364,
           "Random Forest",
           "age"
          ],
          [
           13521218.082081364,
           "Random Forest",
           "age"
          ],
          [
           13521218.082081364,
           "Random Forest",
           "age"
          ],
          [
           13521218.082081364,
           "Random Forest",
           "age"
          ],
          [
           13521218.082081364,
           "Random Forest",
           "age"
          ],
          [
           13521218.082081364,
           "Random Forest",
           "age"
          ],
          [
           13521218.082081364,
           "Random Forest",
           "age"
          ],
          [
           13521218.082081364,
           "Random Forest",
           "age"
          ],
          [
           13521218.082081364,
           "Random Forest",
           "age"
          ],
          [
           13521218.082081364,
           "Random Forest",
           "age"
          ],
          [
           13521218.082081364,
           "Random Forest",
           "age"
          ],
          [
           13521218.082081364,
           "Random Forest",
           "age"
          ],
          [
           13521218.082081364,
           "Random Forest",
           "age"
          ],
          [
           13521218.082081364,
           "Random Forest",
           "age"
          ],
          [
           13521218.082081364,
           "Random Forest",
           "age"
          ],
          [
           13521218.082081364,
           "Random Forest",
           "age"
          ],
          [
           13521218.082081364,
           "Random Forest",
           "age"
          ],
          [
           13521218.082081364,
           "Random Forest",
           "age"
          ],
          [
           13521218.082081364,
           "Random Forest",
           "age"
          ],
          [
           13521218.082081364,
           "Random Forest",
           "age"
          ],
          [
           13521218.082081364,
           "Random Forest",
           "age"
          ],
          [
           13521218.082081364,
           "Random Forest",
           "age"
          ],
          [
           13521218.082081364,
           "Random Forest",
           "age"
          ],
          [
           13521218.082081364,
           "Random Forest",
           "age"
          ],
          [
           13521218.082081364,
           "Random Forest",
           "age"
          ],
          [
           13521218.082081364,
           "Random Forest",
           "age"
          ],
          [
           13521218.082081364,
           "Random Forest",
           "age"
          ],
          [
           13521218.082081364,
           "Random Forest",
           "age"
          ],
          [
           13521218.082081364,
           "Random Forest",
           "age"
          ],
          [
           13521218.082081364,
           "Random Forest",
           "age"
          ],
          [
           13521218.082081364,
           "Random Forest",
           "age"
          ],
          [
           13521218.082081364,
           "Random Forest",
           "age"
          ],
          [
           13521218.082081364,
           "Random Forest",
           "age"
          ],
          [
           13521218.082081364,
           "Random Forest",
           "age"
          ],
          [
           13521218.082081364,
           "Random Forest",
           "age"
          ],
          [
           13521218.082081364,
           "Random Forest",
           "age"
          ],
          [
           13521218.082081364,
           "Random Forest",
           "age"
          ],
          [
           13521218.082081364,
           "Random Forest",
           "age"
          ],
          [
           13521218.082081364,
           "Random Forest",
           "age"
          ],
          [
           13521218.082081364,
           "Random Forest",
           "age"
          ],
          [
           13521218.082081364,
           "Random Forest",
           "age"
          ],
          [
           13521218.082081364,
           "Random Forest",
           "age"
          ],
          [
           13521218.082081364,
           "Random Forest",
           "age"
          ],
          [
           13521218.082081364,
           "Random Forest",
           "age"
          ],
          [
           13521218.082081364,
           "Random Forest",
           "age"
          ],
          [
           13521218.082081364,
           "Random Forest",
           "age"
          ],
          [
           13521218.082081364,
           "Random Forest",
           "age"
          ],
          [
           13521218.082081364,
           "Random Forest",
           "age"
          ],
          [
           13521218.082081364,
           "Random Forest",
           "age"
          ],
          [
           13521218.082081364,
           "Random Forest",
           "age"
          ],
          [
           13521218.082081364,
           "Random Forest",
           "age"
          ],
          [
           13521218.082081364,
           "Random Forest",
           "age"
          ],
          [
           13521218.082081364,
           "Random Forest",
           "age"
          ],
          [
           13521218.082081364,
           "Random Forest",
           "age"
          ],
          [
           13521218.082081364,
           "Random Forest",
           "age"
          ],
          [
           13521218.082081364,
           "Random Forest",
           "age"
          ],
          [
           13521218.082081364,
           "Random Forest",
           "age"
          ],
          [
           13521218.082081364,
           "Random Forest",
           "age"
          ],
          [
           13521218.082081364,
           "Random Forest",
           "age"
          ],
          [
           13521218.082081364,
           "Random Forest",
           "age"
          ],
          [
           13521218.082081364,
           "Random Forest",
           "age"
          ],
          [
           13521218.082081364,
           "Random Forest",
           "age"
          ],
          [
           13521218.082081364,
           "Random Forest",
           "age"
          ],
          [
           13521218.082081364,
           "Random Forest",
           "age"
          ],
          [
           13521218.082081364,
           "Random Forest",
           "age"
          ],
          [
           13521218.082081364,
           "Random Forest",
           "age"
          ]
         ],
         "hovertemplate": "<b>%{hovertext}</b><br><br>prediction=%{y:.3f}<br>mean_prediction=%{customdata[0]:.3f}<extra></extra>",
         "hovertext": [
          "Random Forest",
          "Random Forest",
          "Random Forest",
          "Random Forest",
          "Random Forest",
          "Random Forest",
          "Random Forest",
          "Random Forest",
          "Random Forest",
          "Random Forest",
          "Random Forest",
          "Random Forest",
          "Random Forest",
          "Random Forest",
          "Random Forest",
          "Random Forest",
          "Random Forest",
          "Random Forest",
          "Random Forest",
          "Random Forest",
          "Random Forest",
          "Random Forest",
          "Random Forest",
          "Random Forest",
          "Random Forest",
          "Random Forest",
          "Random Forest",
          "Random Forest",
          "Random Forest",
          "Random Forest",
          "Random Forest",
          "Random Forest",
          "Random Forest",
          "Random Forest",
          "Random Forest",
          "Random Forest",
          "Random Forest",
          "Random Forest",
          "Random Forest",
          "Random Forest",
          "Random Forest",
          "Random Forest",
          "Random Forest",
          "Random Forest",
          "Random Forest",
          "Random Forest",
          "Random Forest",
          "Random Forest",
          "Random Forest",
          "Random Forest",
          "Random Forest",
          "Random Forest",
          "Random Forest",
          "Random Forest",
          "Random Forest",
          "Random Forest",
          "Random Forest",
          "Random Forest",
          "Random Forest",
          "Random Forest",
          "Random Forest",
          "Random Forest",
          "Random Forest",
          "Random Forest",
          "Random Forest",
          "Random Forest",
          "Random Forest",
          "Random Forest",
          "Random Forest",
          "Random Forest",
          "Random Forest",
          "Random Forest",
          "Random Forest",
          "Random Forest",
          "Random Forest",
          "Random Forest",
          "Random Forest",
          "Random Forest",
          "Random Forest",
          "Random Forest",
          "Random Forest",
          "Random Forest",
          "Random Forest",
          "Random Forest",
          "Random Forest",
          "Random Forest",
          "Random Forest",
          "Random Forest",
          "Random Forest",
          "Random Forest",
          "Random Forest",
          "Random Forest",
          "Random Forest",
          "Random Forest",
          "Random Forest",
          "Random Forest",
          "Random Forest",
          "Random Forest",
          "Random Forest",
          "Random Forest",
          "Random Forest"
         ],
         "legendgroup": "Random Forest",
         "line": {
          "color": "#46bac2",
          "dash": "solid",
          "width": 2
         },
         "marker": {
          "symbol": "circle"
         },
         "mode": "lines",
         "name": "Random Forest",
         "opacity": 1,
         "orientation": "v",
         "showlegend": true,
         "type": "scatter",
         "x": [
          17,
          17.21,
          17.42,
          17.63,
          17.84,
          18.05,
          18.26,
          18.47,
          18.68,
          18.89,
          19.1,
          19.31,
          19.52,
          19.73,
          19.94,
          20.15,
          20.36,
          20.57,
          20.78,
          20.99,
          21.2,
          21.41,
          21.62,
          21.83,
          22.04,
          22.25,
          22.46,
          22.67,
          22.88,
          23.09,
          23.3,
          23.509999999999998,
          23.72,
          23.93,
          24.14,
          24.35,
          24.56,
          24.77,
          24.98,
          25.189999999999998,
          25.4,
          25.61,
          25.82,
          26.03,
          26.240000000000002,
          26.45,
          26.66,
          26.869999999999997,
          27.08,
          27.29,
          27.5,
          27.71,
          27.92,
          28.13,
          28.34,
          28.549999999999997,
          28.759999999999998,
          28.97,
          29.18,
          29.39,
          29.6,
          29.81,
          30.02,
          30.229999999999997,
          30.439999999999998,
          30.65,
          30.86,
          31.07,
          31.28,
          31.490000000000002,
          31.7,
          31.91,
          32.12,
          32.33,
          32.54,
          32.75,
          32.96,
          33.17,
          33.379999999999995,
          33.59,
          33.8,
          34.01,
          34.22,
          34.43,
          34.64,
          34.849999999999994,
          35.06,
          35.269999999999996,
          35.480000000000004,
          35.69,
          35.9,
          36.11,
          36.32,
          36.53,
          36.739999999999995,
          36.95,
          37.16,
          37.370000000000005,
          37.58,
          37.79,
          38
         ],
         "xaxis": "x",
         "y": [
          13326943.591135286,
          13326069.31941869,
          13326069.31941869,
          13321279.299479619,
          13321279.299479619,
          13320283.594859391,
          13320283.594859391,
          13320283.594859391,
          13319856.688046865,
          13319856.688046865,
          13319124.874255745,
          13319124.874255745,
          13314072.622816611,
          13314072.622816611,
          13314072.622816611,
          13313477.640142724,
          13313477.640142724,
          13284295.522600416,
          13284295.522600416,
          13284295.522600416,
          13283268.845796254,
          13283268.845796254,
          13270247.13050914,
          13270247.13050914,
          13263107.663295902,
          13263107.663295902,
          13263107.663295902,
          13244384.842503997,
          13244384.842503997,
          13242111.651331745,
          13242111.651331745,
          13228711.097479437,
          13228711.097479437,
          13228711.097479437,
          13226219.071365882,
          13226219.071365882,
          13213431.110815356,
          13213431.110815356,
          13213431.110815356,
          13213510.379773365,
          13213510.379773365,
          13192843.53656754,
          13192843.53656754,
          13192381.259813217,
          13192381.259813217,
          13192381.259813217,
          13119114.873408994,
          13119114.873408994,
          13114006.417245965,
          13114006.417245965,
          13114006.417245965,
          12995955.376510149,
          12995955.376510149,
          12993247.870067423,
          12993247.870067423,
          12931449.577601828,
          12931449.577601828,
          12931449.577601828,
          12928753.608578833,
          12928753.608578833,
          12824871.090965444,
          12824871.090965444,
          12785845.575690566,
          12785845.575690566,
          12785845.575690566,
          12263680.887298644,
          12263680.887298644,
          12184155.668400403,
          12184155.668400403,
          12184155.668400403,
          10926185.614352103,
          10926185.614352103,
          10652473.82607609,
          10652473.82607609,
          8980459.391295265,
          8980459.391295265,
          8980459.391295265,
          8922380.010682233,
          8922380.010682233,
          7790886.23331012,
          7790886.23331012,
          7692095.0716615105,
          7692095.0716615105,
          7692095.0716615105,
          7481120.7690202175,
          7481120.7690202175,
          7457323.302779966,
          7457323.302779966,
          7457323.302779966,
          7433774.884483234,
          7433774.884483234,
          7433388.880738785,
          7433388.880738785,
          7430405.418568336,
          7430405.418568336,
          7430405.418568336,
          7429821.097611909,
          7429821.097611909,
          7426498.234307752,
          7426498.234307752,
          7426498.234307752
         ],
         "yaxis": "y"
        },
        {
         "customdata": [
          [
           13521218.082081364,
           "Random Forest",
           "movement_reactions"
          ],
          [
           13521218.082081364,
           "Random Forest",
           "movement_reactions"
          ],
          [
           13521218.082081364,
           "Random Forest",
           "movement_reactions"
          ],
          [
           13521218.082081364,
           "Random Forest",
           "movement_reactions"
          ],
          [
           13521218.082081364,
           "Random Forest",
           "movement_reactions"
          ],
          [
           13521218.082081364,
           "Random Forest",
           "movement_reactions"
          ],
          [
           13521218.082081364,
           "Random Forest",
           "movement_reactions"
          ],
          [
           13521218.082081364,
           "Random Forest",
           "movement_reactions"
          ],
          [
           13521218.082081364,
           "Random Forest",
           "movement_reactions"
          ],
          [
           13521218.082081364,
           "Random Forest",
           "movement_reactions"
          ],
          [
           13521218.082081364,
           "Random Forest",
           "movement_reactions"
          ],
          [
           13521218.082081364,
           "Random Forest",
           "movement_reactions"
          ],
          [
           13521218.082081364,
           "Random Forest",
           "movement_reactions"
          ],
          [
           13521218.082081364,
           "Random Forest",
           "movement_reactions"
          ],
          [
           13521218.082081364,
           "Random Forest",
           "movement_reactions"
          ],
          [
           13521218.082081364,
           "Random Forest",
           "movement_reactions"
          ],
          [
           13521218.082081364,
           "Random Forest",
           "movement_reactions"
          ],
          [
           13521218.082081364,
           "Random Forest",
           "movement_reactions"
          ],
          [
           13521218.082081364,
           "Random Forest",
           "movement_reactions"
          ],
          [
           13521218.082081364,
           "Random Forest",
           "movement_reactions"
          ],
          [
           13521218.082081364,
           "Random Forest",
           "movement_reactions"
          ],
          [
           13521218.082081364,
           "Random Forest",
           "movement_reactions"
          ],
          [
           13521218.082081364,
           "Random Forest",
           "movement_reactions"
          ],
          [
           13521218.082081364,
           "Random Forest",
           "movement_reactions"
          ],
          [
           13521218.082081364,
           "Random Forest",
           "movement_reactions"
          ],
          [
           13521218.082081364,
           "Random Forest",
           "movement_reactions"
          ],
          [
           13521218.082081364,
           "Random Forest",
           "movement_reactions"
          ],
          [
           13521218.082081364,
           "Random Forest",
           "movement_reactions"
          ],
          [
           13521218.082081364,
           "Random Forest",
           "movement_reactions"
          ],
          [
           13521218.082081364,
           "Random Forest",
           "movement_reactions"
          ],
          [
           13521218.082081364,
           "Random Forest",
           "movement_reactions"
          ],
          [
           13521218.082081364,
           "Random Forest",
           "movement_reactions"
          ],
          [
           13521218.082081364,
           "Random Forest",
           "movement_reactions"
          ],
          [
           13521218.082081364,
           "Random Forest",
           "movement_reactions"
          ],
          [
           13521218.082081364,
           "Random Forest",
           "movement_reactions"
          ],
          [
           13521218.082081364,
           "Random Forest",
           "movement_reactions"
          ],
          [
           13521218.082081364,
           "Random Forest",
           "movement_reactions"
          ],
          [
           13521218.082081364,
           "Random Forest",
           "movement_reactions"
          ],
          [
           13521218.082081364,
           "Random Forest",
           "movement_reactions"
          ],
          [
           13521218.082081364,
           "Random Forest",
           "movement_reactions"
          ],
          [
           13521218.082081364,
           "Random Forest",
           "movement_reactions"
          ],
          [
           13521218.082081364,
           "Random Forest",
           "movement_reactions"
          ],
          [
           13521218.082081364,
           "Random Forest",
           "movement_reactions"
          ],
          [
           13521218.082081364,
           "Random Forest",
           "movement_reactions"
          ],
          [
           13521218.082081364,
           "Random Forest",
           "movement_reactions"
          ],
          [
           13521218.082081364,
           "Random Forest",
           "movement_reactions"
          ],
          [
           13521218.082081364,
           "Random Forest",
           "movement_reactions"
          ],
          [
           13521218.082081364,
           "Random Forest",
           "movement_reactions"
          ],
          [
           13521218.082081364,
           "Random Forest",
           "movement_reactions"
          ],
          [
           13521218.082081364,
           "Random Forest",
           "movement_reactions"
          ],
          [
           13521218.082081364,
           "Random Forest",
           "movement_reactions"
          ],
          [
           13521218.082081364,
           "Random Forest",
           "movement_reactions"
          ],
          [
           13521218.082081364,
           "Random Forest",
           "movement_reactions"
          ],
          [
           13521218.082081364,
           "Random Forest",
           "movement_reactions"
          ],
          [
           13521218.082081364,
           "Random Forest",
           "movement_reactions"
          ],
          [
           13521218.082081364,
           "Random Forest",
           "movement_reactions"
          ],
          [
           13521218.082081364,
           "Random Forest",
           "movement_reactions"
          ],
          [
           13521218.082081364,
           "Random Forest",
           "movement_reactions"
          ],
          [
           13521218.082081364,
           "Random Forest",
           "movement_reactions"
          ],
          [
           13521218.082081364,
           "Random Forest",
           "movement_reactions"
          ],
          [
           13521218.082081364,
           "Random Forest",
           "movement_reactions"
          ],
          [
           13521218.082081364,
           "Random Forest",
           "movement_reactions"
          ],
          [
           13521218.082081364,
           "Random Forest",
           "movement_reactions"
          ],
          [
           13521218.082081364,
           "Random Forest",
           "movement_reactions"
          ],
          [
           13521218.082081364,
           "Random Forest",
           "movement_reactions"
          ],
          [
           13521218.082081364,
           "Random Forest",
           "movement_reactions"
          ],
          [
           13521218.082081364,
           "Random Forest",
           "movement_reactions"
          ],
          [
           13521218.082081364,
           "Random Forest",
           "movement_reactions"
          ],
          [
           13521218.082081364,
           "Random Forest",
           "movement_reactions"
          ],
          [
           13521218.082081364,
           "Random Forest",
           "movement_reactions"
          ],
          [
           13521218.082081364,
           "Random Forest",
           "movement_reactions"
          ],
          [
           13521218.082081364,
           "Random Forest",
           "movement_reactions"
          ],
          [
           13521218.082081364,
           "Random Forest",
           "movement_reactions"
          ],
          [
           13521218.082081364,
           "Random Forest",
           "movement_reactions"
          ],
          [
           13521218.082081364,
           "Random Forest",
           "movement_reactions"
          ],
          [
           13521218.082081364,
           "Random Forest",
           "movement_reactions"
          ],
          [
           13521218.082081364,
           "Random Forest",
           "movement_reactions"
          ],
          [
           13521218.082081364,
           "Random Forest",
           "movement_reactions"
          ],
          [
           13521218.082081364,
           "Random Forest",
           "movement_reactions"
          ],
          [
           13521218.082081364,
           "Random Forest",
           "movement_reactions"
          ],
          [
           13521218.082081364,
           "Random Forest",
           "movement_reactions"
          ],
          [
           13521218.082081364,
           "Random Forest",
           "movement_reactions"
          ],
          [
           13521218.082081364,
           "Random Forest",
           "movement_reactions"
          ],
          [
           13521218.082081364,
           "Random Forest",
           "movement_reactions"
          ],
          [
           13521218.082081364,
           "Random Forest",
           "movement_reactions"
          ],
          [
           13521218.082081364,
           "Random Forest",
           "movement_reactions"
          ],
          [
           13521218.082081364,
           "Random Forest",
           "movement_reactions"
          ],
          [
           13521218.082081364,
           "Random Forest",
           "movement_reactions"
          ],
          [
           13521218.082081364,
           "Random Forest",
           "movement_reactions"
          ],
          [
           13521218.082081364,
           "Random Forest",
           "movement_reactions"
          ],
          [
           13521218.082081364,
           "Random Forest",
           "movement_reactions"
          ],
          [
           13521218.082081364,
           "Random Forest",
           "movement_reactions"
          ],
          [
           13521218.082081364,
           "Random Forest",
           "movement_reactions"
          ],
          [
           13521218.082081364,
           "Random Forest",
           "movement_reactions"
          ],
          [
           13521218.082081364,
           "Random Forest",
           "movement_reactions"
          ],
          [
           13521218.082081364,
           "Random Forest",
           "movement_reactions"
          ],
          [
           13521218.082081364,
           "Random Forest",
           "movement_reactions"
          ],
          [
           13521218.082081364,
           "Random Forest",
           "movement_reactions"
          ],
          [
           13521218.082081364,
           "Random Forest",
           "movement_reactions"
          ],
          [
           13521218.082081364,
           "Random Forest",
           "movement_reactions"
          ],
          [
           13521218.082081364,
           "Random Forest",
           "movement_reactions"
          ]
         ],
         "hovertemplate": "<b>%{hovertext}</b><br><br>prediction=%{y:.3f}<br>mean_prediction=%{customdata[0]:.3f}<extra></extra>",
         "hovertext": [
          "Random Forest",
          "Random Forest",
          "Random Forest",
          "Random Forest",
          "Random Forest",
          "Random Forest",
          "Random Forest",
          "Random Forest",
          "Random Forest",
          "Random Forest",
          "Random Forest",
          "Random Forest",
          "Random Forest",
          "Random Forest",
          "Random Forest",
          "Random Forest",
          "Random Forest",
          "Random Forest",
          "Random Forest",
          "Random Forest",
          "Random Forest",
          "Random Forest",
          "Random Forest",
          "Random Forest",
          "Random Forest",
          "Random Forest",
          "Random Forest",
          "Random Forest",
          "Random Forest",
          "Random Forest",
          "Random Forest",
          "Random Forest",
          "Random Forest",
          "Random Forest",
          "Random Forest",
          "Random Forest",
          "Random Forest",
          "Random Forest",
          "Random Forest",
          "Random Forest",
          "Random Forest",
          "Random Forest",
          "Random Forest",
          "Random Forest",
          "Random Forest",
          "Random Forest",
          "Random Forest",
          "Random Forest",
          "Random Forest",
          "Random Forest",
          "Random Forest",
          "Random Forest",
          "Random Forest",
          "Random Forest",
          "Random Forest",
          "Random Forest",
          "Random Forest",
          "Random Forest",
          "Random Forest",
          "Random Forest",
          "Random Forest",
          "Random Forest",
          "Random Forest",
          "Random Forest",
          "Random Forest",
          "Random Forest",
          "Random Forest",
          "Random Forest",
          "Random Forest",
          "Random Forest",
          "Random Forest",
          "Random Forest",
          "Random Forest",
          "Random Forest",
          "Random Forest",
          "Random Forest",
          "Random Forest",
          "Random Forest",
          "Random Forest",
          "Random Forest",
          "Random Forest",
          "Random Forest",
          "Random Forest",
          "Random Forest",
          "Random Forest",
          "Random Forest",
          "Random Forest",
          "Random Forest",
          "Random Forest",
          "Random Forest",
          "Random Forest",
          "Random Forest",
          "Random Forest",
          "Random Forest",
          "Random Forest",
          "Random Forest",
          "Random Forest",
          "Random Forest",
          "Random Forest",
          "Random Forest",
          "Random Forest"
         ],
         "legendgroup": "Random Forest",
         "line": {
          "color": "#46bac2",
          "dash": "solid",
          "width": 2
         },
         "marker": {
          "symbol": "circle"
         },
         "mode": "lines",
         "name": "Random Forest",
         "opacity": 1,
         "orientation": "v",
         "showlegend": false,
         "type": "scatter",
         "x": [
          35,
          35.57,
          36.14,
          36.71,
          37.28,
          37.85,
          38.42,
          38.99,
          39.56,
          40.13,
          40.7,
          41.269999999999996,
          41.84,
          42.41,
          42.98,
          43.55,
          44.12,
          44.69,
          45.26,
          45.83,
          46.4,
          46.97,
          47.54,
          48.11,
          48.68,
          49.25,
          49.82,
          50.39,
          50.96,
          51.53,
          52.099999999999994,
          52.67,
          53.239999999999995,
          53.81,
          54.379999999999995,
          54.95,
          55.519999999999996,
          56.09,
          56.66,
          57.23,
          57.8,
          58.37,
          58.94,
          59.51,
          60.08,
          60.65,
          61.22,
          61.79,
          62.36,
          62.92999999999999,
          63.5,
          64.07,
          64.64,
          65.21,
          65.78,
          66.35,
          66.92,
          67.49,
          68.06,
          68.63,
          69.19999999999999,
          69.77,
          70.34,
          70.91,
          71.47999999999999,
          72.05,
          72.62,
          73.19,
          73.75999999999999,
          74.33,
          74.9,
          75.47,
          76.03999999999999,
          76.61,
          77.18,
          77.75,
          78.32,
          78.88999999999999,
          79.46,
          80.03,
          80.6,
          81.16999999999999,
          81.74,
          82.31,
          82.88,
          83.44999999999999,
          84.02,
          84.59,
          85.16,
          85.72999999999999,
          86.3,
          86.87,
          87.44,
          88.00999999999999,
          88.58,
          89.15,
          89.72,
          90.28999999999999,
          90.85999999999999,
          91.42999999999999,
          92
         ],
         "xaxis": "x2",
         "y": [
          13326943.591135286,
          13326943.591135286,
          13326943.591135286,
          13326943.591135286,
          13326943.591135286,
          13326943.591135286,
          13326943.591135286,
          13326943.591135286,
          13326943.591135286,
          13326943.591135286,
          13326943.591135286,
          13326943.591135286,
          13326943.997947585,
          13326943.997947585,
          13326947.3016205,
          13326957.34268044,
          13326957.34268044,
          13326995.172099821,
          13326995.172099821,
          13326995.172099821,
          13326980.485038422,
          13326993.930251576,
          13326991.66256803,
          13326990.871647239,
          13327013.020818051,
          13327008.271849371,
          13327036.60611483,
          13327052.151203468,
          13327066.497565031,
          13327088.404477095,
          13327096.7051867,
          13327112.788886422,
          13327102.18071159,
          13327117.353158649,
          13327117.35834222,
          13327142.392651843,
          13327114.852035517,
          13327142.662060227,
          13327176.68153356,
          13327214.415167337,
          13327112.497531258,
          13326998.47971056,
          13326953.825910104,
          13326942.56792118,
          13326869.4506244,
          13326922.92845118,
          13326924.127229083,
          13326945.665785411,
          13326933.254946012,
          13327240.360843081,
          13327375.153925594,
          13327471.252160871,
          13327923.163614675,
          13327923.443339732,
          13327560.318507487,
          13327611.866956323,
          13327466.755802868,
          13327588.270379957,
          13329004.01889831,
          13329460.870784096,
          13330140.711288337,
          13332911.318509169,
          13332966.931344735,
          13334691.315309426,
          13334867.367836155,
          13336095.382597817,
          13337803.87401661,
          13338243.645616405,
          13339052.274024066,
          13338848.425372072,
          13342880.472504867,
          13343060.961422749,
          13350052.656122018,
          13352373.21366011,
          13353151.433034005,
          13360179.363171954,
          13361991.057752812,
          13364771.462825023,
          13367147.869534124,
          13384971.770508328,
          13390233.539353464,
          13391445.317310635,
          13395471.273678634,
          13402757.654137414,
          13430207.89495173,
          13435835.524148796,
          13450591.537377708,
          13465235.0140114,
          13467348.535721894,
          13483127.748946665,
          13484272.107585594,
          13513225.706406975,
          13515146.098186133,
          13542235.323660215,
          13550457.561943594,
          13550939.180931745,
          13549274.472394628,
          13546029.178476453,
          13545274.70707794,
          13544455.114882734,
          13544419.552671773
         ],
         "yaxis": "y2"
        }
       ],
       "layout": {
        "annotations": [
         {
          "font": {
           "size": 13
          },
          "showarrow": false,
          "text": "age",
          "x": 0.2375,
          "xanchor": "center",
          "xref": "paper",
          "y": 1,
          "yanchor": "bottom",
          "yref": "paper"
         },
         {
          "font": {
           "size": 13
          },
          "showarrow": false,
          "text": "movement_reactions",
          "x": 0.7625,
          "xanchor": "center",
          "xref": "paper",
          "y": 1,
          "yanchor": "bottom",
          "yref": "paper"
         },
         {
          "font": {
           "size": 13
          },
          "showarrow": false,
          "text": "prediction",
          "textangle": -90,
          "x": -0.07,
          "xref": "paper",
          "y": 0.5,
          "yref": "paper"
         }
        ],
        "font": {
         "color": "#371ea3"
        },
        "height": 489,
        "hovermode": "x unified",
        "legend": {
         "font": {
          "size": 11
         },
         "itemsizing": "constant",
         "orientation": "h",
         "title": {
          "font": {
           "size": 12
          },
          "text": "label"
         },
         "tracegroupgap": 0,
         "x": 1,
         "xanchor": "right",
         "y": 1.0613496932515338,
         "yanchor": "bottom"
        },
        "margin": {
         "b": 71,
         "r": 30,
         "t": 78
        },
        "template": {
         "data": {
          "scatter": [
           {
            "type": "scatter"
           }
          ]
         }
        },
        "title": {
         "font": {
          "size": 16
         },
         "text": "Aggregated Profiles",
         "x": 0.15
        },
        "xaxis": {
         "anchor": "y",
         "automargin": true,
         "domain": [
          0,
          0.475
         ],
         "fixedrange": true,
         "gridwidth": 2,
         "showticklabels": true,
         "tickcolor": "white",
         "ticklen": 3,
         "ticks": "outside",
         "title": {
          "text": ""
         },
         "type": "linear",
         "zeroline": false
        },
        "xaxis2": {
         "anchor": "y2",
         "automargin": true,
         "domain": [
          0.525,
          1
         ],
         "fixedrange": true,
         "gridwidth": 2,
         "showticklabels": true,
         "tickcolor": "white",
         "ticklen": 3,
         "ticks": "outside",
         "title": {
          "text": ""
         },
         "type": "linear",
         "zeroline": false
        },
        "yaxis": {
         "anchor": "x",
         "automargin": true,
         "domain": [
          0,
          1
         ],
         "fixedrange": true,
         "gridwidth": 2,
         "range": [
          6814054.139645353,
          14163383.275594145
         ],
         "tickcolor": "white",
         "ticklen": 3,
         "ticks": "outside",
         "title": {
          "text": ""
         },
         "type": "linear",
         "zeroline": false
        },
        "yaxis2": {
         "anchor": "x2",
         "automargin": true,
         "domain": [
          0,
          1
         ],
         "fixedrange": true,
         "gridwidth": 2,
         "matches": "y",
         "showticklabels": false,
         "tickcolor": "white",
         "ticklen": 3,
         "ticks": "outside",
         "title": {
          "text": ""
         },
         "type": "linear",
         "zeroline": false
        }
       }
      },
      "text/html": [
       "<div>                            <div id=\"8c6250e7-2eec-4500-b9a5-90f0d1339dbf\" class=\"plotly-graph-div\" style=\"height:489px; width:100%;\"></div>            <script type=\"text/javascript\">                require([\"plotly\"], function(Plotly) {                    window.PLOTLYENV=window.PLOTLYENV || {};                                    if (document.getElementById(\"8c6250e7-2eec-4500-b9a5-90f0d1339dbf\")) {                    Plotly.newPlot(                        \"8c6250e7-2eec-4500-b9a5-90f0d1339dbf\",                        [{\"customdata\":[[13521218.082081364,\"Random Forest\",\"age\"],[13521218.082081364,\"Random Forest\",\"age\"],[13521218.082081364,\"Random Forest\",\"age\"],[13521218.082081364,\"Random Forest\",\"age\"],[13521218.082081364,\"Random Forest\",\"age\"],[13521218.082081364,\"Random Forest\",\"age\"],[13521218.082081364,\"Random Forest\",\"age\"],[13521218.082081364,\"Random Forest\",\"age\"],[13521218.082081364,\"Random Forest\",\"age\"],[13521218.082081364,\"Random Forest\",\"age\"],[13521218.082081364,\"Random Forest\",\"age\"],[13521218.082081364,\"Random Forest\",\"age\"],[13521218.082081364,\"Random Forest\",\"age\"],[13521218.082081364,\"Random Forest\",\"age\"],[13521218.082081364,\"Random Forest\",\"age\"],[13521218.082081364,\"Random Forest\",\"age\"],[13521218.082081364,\"Random Forest\",\"age\"],[13521218.082081364,\"Random Forest\",\"age\"],[13521218.082081364,\"Random Forest\",\"age\"],[13521218.082081364,\"Random Forest\",\"age\"],[13521218.082081364,\"Random Forest\",\"age\"],[13521218.082081364,\"Random Forest\",\"age\"],[13521218.082081364,\"Random Forest\",\"age\"],[13521218.082081364,\"Random Forest\",\"age\"],[13521218.082081364,\"Random Forest\",\"age\"],[13521218.082081364,\"Random Forest\",\"age\"],[13521218.082081364,\"Random Forest\",\"age\"],[13521218.082081364,\"Random Forest\",\"age\"],[13521218.082081364,\"Random Forest\",\"age\"],[13521218.082081364,\"Random Forest\",\"age\"],[13521218.082081364,\"Random Forest\",\"age\"],[13521218.082081364,\"Random Forest\",\"age\"],[13521218.082081364,\"Random Forest\",\"age\"],[13521218.082081364,\"Random Forest\",\"age\"],[13521218.082081364,\"Random Forest\",\"age\"],[13521218.082081364,\"Random Forest\",\"age\"],[13521218.082081364,\"Random Forest\",\"age\"],[13521218.082081364,\"Random Forest\",\"age\"],[13521218.082081364,\"Random Forest\",\"age\"],[13521218.082081364,\"Random Forest\",\"age\"],[13521218.082081364,\"Random Forest\",\"age\"],[13521218.082081364,\"Random Forest\",\"age\"],[13521218.082081364,\"Random Forest\",\"age\"],[13521218.082081364,\"Random Forest\",\"age\"],[13521218.082081364,\"Random Forest\",\"age\"],[13521218.082081364,\"Random Forest\",\"age\"],[13521218.082081364,\"Random Forest\",\"age\"],[13521218.082081364,\"Random Forest\",\"age\"],[13521218.082081364,\"Random Forest\",\"age\"],[13521218.082081364,\"Random Forest\",\"age\"],[13521218.082081364,\"Random Forest\",\"age\"],[13521218.082081364,\"Random Forest\",\"age\"],[13521218.082081364,\"Random Forest\",\"age\"],[13521218.082081364,\"Random Forest\",\"age\"],[13521218.082081364,\"Random Forest\",\"age\"],[13521218.082081364,\"Random Forest\",\"age\"],[13521218.082081364,\"Random Forest\",\"age\"],[13521218.082081364,\"Random Forest\",\"age\"],[13521218.082081364,\"Random Forest\",\"age\"],[13521218.082081364,\"Random Forest\",\"age\"],[13521218.082081364,\"Random Forest\",\"age\"],[13521218.082081364,\"Random Forest\",\"age\"],[13521218.082081364,\"Random Forest\",\"age\"],[13521218.082081364,\"Random Forest\",\"age\"],[13521218.082081364,\"Random Forest\",\"age\"],[13521218.082081364,\"Random Forest\",\"age\"],[13521218.082081364,\"Random Forest\",\"age\"],[13521218.082081364,\"Random Forest\",\"age\"],[13521218.082081364,\"Random Forest\",\"age\"],[13521218.082081364,\"Random Forest\",\"age\"],[13521218.082081364,\"Random Forest\",\"age\"],[13521218.082081364,\"Random Forest\",\"age\"],[13521218.082081364,\"Random Forest\",\"age\"],[13521218.082081364,\"Random Forest\",\"age\"],[13521218.082081364,\"Random Forest\",\"age\"],[13521218.082081364,\"Random Forest\",\"age\"],[13521218.082081364,\"Random Forest\",\"age\"],[13521218.082081364,\"Random Forest\",\"age\"],[13521218.082081364,\"Random Forest\",\"age\"],[13521218.082081364,\"Random Forest\",\"age\"],[13521218.082081364,\"Random Forest\",\"age\"],[13521218.082081364,\"Random Forest\",\"age\"],[13521218.082081364,\"Random Forest\",\"age\"],[13521218.082081364,\"Random Forest\",\"age\"],[13521218.082081364,\"Random Forest\",\"age\"],[13521218.082081364,\"Random Forest\",\"age\"],[13521218.082081364,\"Random Forest\",\"age\"],[13521218.082081364,\"Random Forest\",\"age\"],[13521218.082081364,\"Random Forest\",\"age\"],[13521218.082081364,\"Random Forest\",\"age\"],[13521218.082081364,\"Random Forest\",\"age\"],[13521218.082081364,\"Random Forest\",\"age\"],[13521218.082081364,\"Random Forest\",\"age\"],[13521218.082081364,\"Random Forest\",\"age\"],[13521218.082081364,\"Random Forest\",\"age\"],[13521218.082081364,\"Random Forest\",\"age\"],[13521218.082081364,\"Random Forest\",\"age\"],[13521218.082081364,\"Random Forest\",\"age\"],[13521218.082081364,\"Random Forest\",\"age\"],[13521218.082081364,\"Random Forest\",\"age\"],[13521218.082081364,\"Random Forest\",\"age\"]],\"hovertemplate\":\"<b>%{hovertext}</b><br><br>prediction=%{y:.3f}<br>mean_prediction=%{customdata[0]:.3f}<extra></extra>\",\"hovertext\":[\"Random Forest\",\"Random Forest\",\"Random Forest\",\"Random Forest\",\"Random Forest\",\"Random Forest\",\"Random Forest\",\"Random Forest\",\"Random Forest\",\"Random Forest\",\"Random Forest\",\"Random Forest\",\"Random Forest\",\"Random Forest\",\"Random Forest\",\"Random Forest\",\"Random Forest\",\"Random Forest\",\"Random Forest\",\"Random Forest\",\"Random Forest\",\"Random Forest\",\"Random Forest\",\"Random Forest\",\"Random Forest\",\"Random Forest\",\"Random Forest\",\"Random Forest\",\"Random Forest\",\"Random Forest\",\"Random Forest\",\"Random Forest\",\"Random Forest\",\"Random Forest\",\"Random Forest\",\"Random Forest\",\"Random Forest\",\"Random Forest\",\"Random Forest\",\"Random Forest\",\"Random Forest\",\"Random Forest\",\"Random Forest\",\"Random Forest\",\"Random Forest\",\"Random Forest\",\"Random Forest\",\"Random Forest\",\"Random Forest\",\"Random Forest\",\"Random Forest\",\"Random Forest\",\"Random Forest\",\"Random Forest\",\"Random Forest\",\"Random Forest\",\"Random Forest\",\"Random Forest\",\"Random Forest\",\"Random Forest\",\"Random Forest\",\"Random Forest\",\"Random Forest\",\"Random Forest\",\"Random Forest\",\"Random Forest\",\"Random Forest\",\"Random Forest\",\"Random Forest\",\"Random Forest\",\"Random Forest\",\"Random Forest\",\"Random Forest\",\"Random Forest\",\"Random Forest\",\"Random Forest\",\"Random Forest\",\"Random Forest\",\"Random Forest\",\"Random Forest\",\"Random Forest\",\"Random Forest\",\"Random Forest\",\"Random Forest\",\"Random Forest\",\"Random Forest\",\"Random Forest\",\"Random Forest\",\"Random Forest\",\"Random Forest\",\"Random Forest\",\"Random Forest\",\"Random Forest\",\"Random Forest\",\"Random Forest\",\"Random Forest\",\"Random Forest\",\"Random Forest\",\"Random Forest\",\"Random Forest\",\"Random Forest\"],\"legendgroup\":\"Random Forest\",\"line\":{\"color\":\"#46bac2\",\"dash\":\"solid\",\"width\":2},\"marker\":{\"symbol\":\"circle\"},\"mode\":\"lines\",\"name\":\"Random Forest\",\"orientation\":\"v\",\"showlegend\":true,\"x\":[17.0,17.21,17.42,17.63,17.84,18.05,18.26,18.47,18.68,18.89,19.1,19.31,19.52,19.73,19.94,20.15,20.36,20.57,20.78,20.99,21.2,21.41,21.62,21.83,22.04,22.25,22.46,22.67,22.88,23.09,23.3,23.509999999999998,23.72,23.93,24.14,24.35,24.56,24.77,24.98,25.189999999999998,25.4,25.61,25.82,26.03,26.240000000000002,26.45,26.66,26.869999999999997,27.08,27.29,27.5,27.71,27.92,28.13,28.34,28.549999999999997,28.759999999999998,28.97,29.18,29.39,29.6,29.81,30.02,30.229999999999997,30.439999999999998,30.65,30.86,31.07,31.28,31.490000000000002,31.7,31.91,32.12,32.33,32.54,32.75,32.96,33.17,33.379999999999995,33.59,33.8,34.01,34.22,34.43,34.64,34.849999999999994,35.06,35.269999999999996,35.480000000000004,35.69,35.9,36.11,36.32,36.53,36.739999999999995,36.95,37.16,37.370000000000005,37.58,37.79,38.0],\"xaxis\":\"x\",\"y\":[13326943.591135286,13326069.31941869,13326069.31941869,13321279.299479619,13321279.299479619,13320283.594859391,13320283.594859391,13320283.594859391,13319856.688046865,13319856.688046865,13319124.874255745,13319124.874255745,13314072.622816611,13314072.622816611,13314072.622816611,13313477.640142724,13313477.640142724,13284295.522600416,13284295.522600416,13284295.522600416,13283268.845796254,13283268.845796254,13270247.13050914,13270247.13050914,13263107.663295902,13263107.663295902,13263107.663295902,13244384.842503997,13244384.842503997,13242111.651331745,13242111.651331745,13228711.097479437,13228711.097479437,13228711.097479437,13226219.071365882,13226219.071365882,13213431.110815356,13213431.110815356,13213431.110815356,13213510.379773365,13213510.379773365,13192843.53656754,13192843.53656754,13192381.259813217,13192381.259813217,13192381.259813217,13119114.873408994,13119114.873408994,13114006.417245965,13114006.417245965,13114006.417245965,12995955.376510149,12995955.376510149,12993247.870067423,12993247.870067423,12931449.577601828,12931449.577601828,12931449.577601828,12928753.608578833,12928753.608578833,12824871.090965444,12824871.090965444,12785845.575690566,12785845.575690566,12785845.575690566,12263680.887298644,12263680.887298644,12184155.668400403,12184155.668400403,12184155.668400403,10926185.614352103,10926185.614352103,10652473.82607609,10652473.82607609,8980459.391295265,8980459.391295265,8980459.391295265,8922380.010682233,8922380.010682233,7790886.23331012,7790886.23331012,7692095.0716615105,7692095.0716615105,7692095.0716615105,7481120.7690202175,7481120.7690202175,7457323.302779966,7457323.302779966,7457323.302779966,7433774.884483234,7433774.884483234,7433388.880738785,7433388.880738785,7430405.418568336,7430405.418568336,7430405.418568336,7429821.097611909,7429821.097611909,7426498.234307752,7426498.234307752,7426498.234307752],\"yaxis\":\"y\",\"type\":\"scatter\",\"opacity\":1},{\"customdata\":[[13521218.082081364,\"Random Forest\",\"movement_reactions\"],[13521218.082081364,\"Random Forest\",\"movement_reactions\"],[13521218.082081364,\"Random Forest\",\"movement_reactions\"],[13521218.082081364,\"Random Forest\",\"movement_reactions\"],[13521218.082081364,\"Random Forest\",\"movement_reactions\"],[13521218.082081364,\"Random Forest\",\"movement_reactions\"],[13521218.082081364,\"Random Forest\",\"movement_reactions\"],[13521218.082081364,\"Random Forest\",\"movement_reactions\"],[13521218.082081364,\"Random Forest\",\"movement_reactions\"],[13521218.082081364,\"Random Forest\",\"movement_reactions\"],[13521218.082081364,\"Random Forest\",\"movement_reactions\"],[13521218.082081364,\"Random Forest\",\"movement_reactions\"],[13521218.082081364,\"Random Forest\",\"movement_reactions\"],[13521218.082081364,\"Random Forest\",\"movement_reactions\"],[13521218.082081364,\"Random Forest\",\"movement_reactions\"],[13521218.082081364,\"Random Forest\",\"movement_reactions\"],[13521218.082081364,\"Random Forest\",\"movement_reactions\"],[13521218.082081364,\"Random Forest\",\"movement_reactions\"],[13521218.082081364,\"Random Forest\",\"movement_reactions\"],[13521218.082081364,\"Random Forest\",\"movement_reactions\"],[13521218.082081364,\"Random Forest\",\"movement_reactions\"],[13521218.082081364,\"Random Forest\",\"movement_reactions\"],[13521218.082081364,\"Random Forest\",\"movement_reactions\"],[13521218.082081364,\"Random Forest\",\"movement_reactions\"],[13521218.082081364,\"Random Forest\",\"movement_reactions\"],[13521218.082081364,\"Random Forest\",\"movement_reactions\"],[13521218.082081364,\"Random Forest\",\"movement_reactions\"],[13521218.082081364,\"Random Forest\",\"movement_reactions\"],[13521218.082081364,\"Random Forest\",\"movement_reactions\"],[13521218.082081364,\"Random Forest\",\"movement_reactions\"],[13521218.082081364,\"Random Forest\",\"movement_reactions\"],[13521218.082081364,\"Random Forest\",\"movement_reactions\"],[13521218.082081364,\"Random Forest\",\"movement_reactions\"],[13521218.082081364,\"Random Forest\",\"movement_reactions\"],[13521218.082081364,\"Random Forest\",\"movement_reactions\"],[13521218.082081364,\"Random Forest\",\"movement_reactions\"],[13521218.082081364,\"Random Forest\",\"movement_reactions\"],[13521218.082081364,\"Random Forest\",\"movement_reactions\"],[13521218.082081364,\"Random Forest\",\"movement_reactions\"],[13521218.082081364,\"Random Forest\",\"movement_reactions\"],[13521218.082081364,\"Random Forest\",\"movement_reactions\"],[13521218.082081364,\"Random Forest\",\"movement_reactions\"],[13521218.082081364,\"Random Forest\",\"movement_reactions\"],[13521218.082081364,\"Random Forest\",\"movement_reactions\"],[13521218.082081364,\"Random Forest\",\"movement_reactions\"],[13521218.082081364,\"Random Forest\",\"movement_reactions\"],[13521218.082081364,\"Random Forest\",\"movement_reactions\"],[13521218.082081364,\"Random Forest\",\"movement_reactions\"],[13521218.082081364,\"Random Forest\",\"movement_reactions\"],[13521218.082081364,\"Random Forest\",\"movement_reactions\"],[13521218.082081364,\"Random Forest\",\"movement_reactions\"],[13521218.082081364,\"Random Forest\",\"movement_reactions\"],[13521218.082081364,\"Random Forest\",\"movement_reactions\"],[13521218.082081364,\"Random Forest\",\"movement_reactions\"],[13521218.082081364,\"Random Forest\",\"movement_reactions\"],[13521218.082081364,\"Random Forest\",\"movement_reactions\"],[13521218.082081364,\"Random Forest\",\"movement_reactions\"],[13521218.082081364,\"Random Forest\",\"movement_reactions\"],[13521218.082081364,\"Random Forest\",\"movement_reactions\"],[13521218.082081364,\"Random Forest\",\"movement_reactions\"],[13521218.082081364,\"Random Forest\",\"movement_reactions\"],[13521218.082081364,\"Random Forest\",\"movement_reactions\"],[13521218.082081364,\"Random Forest\",\"movement_reactions\"],[13521218.082081364,\"Random Forest\",\"movement_reactions\"],[13521218.082081364,\"Random Forest\",\"movement_reactions\"],[13521218.082081364,\"Random Forest\",\"movement_reactions\"],[13521218.082081364,\"Random Forest\",\"movement_reactions\"],[13521218.082081364,\"Random Forest\",\"movement_reactions\"],[13521218.082081364,\"Random Forest\",\"movement_reactions\"],[13521218.082081364,\"Random Forest\",\"movement_reactions\"],[13521218.082081364,\"Random Forest\",\"movement_reactions\"],[13521218.082081364,\"Random Forest\",\"movement_reactions\"],[13521218.082081364,\"Random Forest\",\"movement_reactions\"],[13521218.082081364,\"Random Forest\",\"movement_reactions\"],[13521218.082081364,\"Random Forest\",\"movement_reactions\"],[13521218.082081364,\"Random Forest\",\"movement_reactions\"],[13521218.082081364,\"Random Forest\",\"movement_reactions\"],[13521218.082081364,\"Random Forest\",\"movement_reactions\"],[13521218.082081364,\"Random Forest\",\"movement_reactions\"],[13521218.082081364,\"Random Forest\",\"movement_reactions\"],[13521218.082081364,\"Random Forest\",\"movement_reactions\"],[13521218.082081364,\"Random Forest\",\"movement_reactions\"],[13521218.082081364,\"Random Forest\",\"movement_reactions\"],[13521218.082081364,\"Random Forest\",\"movement_reactions\"],[13521218.082081364,\"Random Forest\",\"movement_reactions\"],[13521218.082081364,\"Random Forest\",\"movement_reactions\"],[13521218.082081364,\"Random Forest\",\"movement_reactions\"],[13521218.082081364,\"Random Forest\",\"movement_reactions\"],[13521218.082081364,\"Random Forest\",\"movement_reactions\"],[13521218.082081364,\"Random Forest\",\"movement_reactions\"],[13521218.082081364,\"Random Forest\",\"movement_reactions\"],[13521218.082081364,\"Random Forest\",\"movement_reactions\"],[13521218.082081364,\"Random Forest\",\"movement_reactions\"],[13521218.082081364,\"Random Forest\",\"movement_reactions\"],[13521218.082081364,\"Random Forest\",\"movement_reactions\"],[13521218.082081364,\"Random Forest\",\"movement_reactions\"],[13521218.082081364,\"Random Forest\",\"movement_reactions\"],[13521218.082081364,\"Random Forest\",\"movement_reactions\"],[13521218.082081364,\"Random Forest\",\"movement_reactions\"],[13521218.082081364,\"Random Forest\",\"movement_reactions\"],[13521218.082081364,\"Random Forest\",\"movement_reactions\"]],\"hovertemplate\":\"<b>%{hovertext}</b><br><br>prediction=%{y:.3f}<br>mean_prediction=%{customdata[0]:.3f}<extra></extra>\",\"hovertext\":[\"Random Forest\",\"Random Forest\",\"Random Forest\",\"Random Forest\",\"Random Forest\",\"Random Forest\",\"Random Forest\",\"Random Forest\",\"Random Forest\",\"Random Forest\",\"Random Forest\",\"Random Forest\",\"Random Forest\",\"Random Forest\",\"Random Forest\",\"Random Forest\",\"Random Forest\",\"Random Forest\",\"Random Forest\",\"Random Forest\",\"Random Forest\",\"Random Forest\",\"Random Forest\",\"Random Forest\",\"Random Forest\",\"Random Forest\",\"Random Forest\",\"Random Forest\",\"Random Forest\",\"Random Forest\",\"Random Forest\",\"Random Forest\",\"Random Forest\",\"Random Forest\",\"Random Forest\",\"Random Forest\",\"Random Forest\",\"Random Forest\",\"Random Forest\",\"Random Forest\",\"Random Forest\",\"Random Forest\",\"Random Forest\",\"Random Forest\",\"Random Forest\",\"Random Forest\",\"Random Forest\",\"Random Forest\",\"Random Forest\",\"Random Forest\",\"Random Forest\",\"Random Forest\",\"Random Forest\",\"Random Forest\",\"Random Forest\",\"Random Forest\",\"Random Forest\",\"Random Forest\",\"Random Forest\",\"Random Forest\",\"Random Forest\",\"Random Forest\",\"Random Forest\",\"Random Forest\",\"Random Forest\",\"Random Forest\",\"Random Forest\",\"Random Forest\",\"Random Forest\",\"Random Forest\",\"Random Forest\",\"Random Forest\",\"Random Forest\",\"Random Forest\",\"Random Forest\",\"Random Forest\",\"Random Forest\",\"Random Forest\",\"Random Forest\",\"Random Forest\",\"Random Forest\",\"Random Forest\",\"Random Forest\",\"Random Forest\",\"Random Forest\",\"Random Forest\",\"Random Forest\",\"Random Forest\",\"Random Forest\",\"Random Forest\",\"Random Forest\",\"Random Forest\",\"Random Forest\",\"Random Forest\",\"Random Forest\",\"Random Forest\",\"Random Forest\",\"Random Forest\",\"Random Forest\",\"Random Forest\",\"Random Forest\"],\"legendgroup\":\"Random Forest\",\"line\":{\"color\":\"#46bac2\",\"dash\":\"solid\",\"width\":2},\"marker\":{\"symbol\":\"circle\"},\"mode\":\"lines\",\"name\":\"Random Forest\",\"orientation\":\"v\",\"showlegend\":false,\"x\":[35.0,35.57,36.14,36.71,37.28,37.85,38.42,38.99,39.56,40.13,40.7,41.269999999999996,41.84,42.41,42.98,43.55,44.12,44.69,45.26,45.83,46.4,46.97,47.54,48.11,48.68,49.25,49.82,50.39,50.96,51.53,52.099999999999994,52.67,53.239999999999995,53.81,54.379999999999995,54.95,55.519999999999996,56.09,56.66,57.23,57.8,58.37,58.94,59.51,60.08,60.65,61.22,61.79,62.36,62.92999999999999,63.5,64.07,64.64,65.21,65.78,66.35,66.92,67.49,68.06,68.63,69.19999999999999,69.77,70.34,70.91,71.47999999999999,72.05,72.62,73.19,73.75999999999999,74.33,74.9,75.47,76.03999999999999,76.61,77.18,77.75,78.32,78.88999999999999,79.46,80.03,80.6,81.16999999999999,81.74,82.31,82.88,83.44999999999999,84.02,84.59,85.16,85.72999999999999,86.3,86.87,87.44,88.00999999999999,88.58,89.15,89.72,90.28999999999999,90.85999999999999,91.42999999999999,92.0],\"xaxis\":\"x2\",\"y\":[13326943.591135286,13326943.591135286,13326943.591135286,13326943.591135286,13326943.591135286,13326943.591135286,13326943.591135286,13326943.591135286,13326943.591135286,13326943.591135286,13326943.591135286,13326943.591135286,13326943.997947585,13326943.997947585,13326947.3016205,13326957.34268044,13326957.34268044,13326995.172099821,13326995.172099821,13326995.172099821,13326980.485038422,13326993.930251576,13326991.66256803,13326990.871647239,13327013.020818051,13327008.271849371,13327036.60611483,13327052.151203468,13327066.497565031,13327088.404477095,13327096.7051867,13327112.788886422,13327102.18071159,13327117.353158649,13327117.35834222,13327142.392651843,13327114.852035517,13327142.662060227,13327176.68153356,13327214.415167337,13327112.497531258,13326998.47971056,13326953.825910104,13326942.56792118,13326869.4506244,13326922.92845118,13326924.127229083,13326945.665785411,13326933.254946012,13327240.360843081,13327375.153925594,13327471.252160871,13327923.163614675,13327923.443339732,13327560.318507487,13327611.866956323,13327466.755802868,13327588.270379957,13329004.01889831,13329460.870784096,13330140.711288337,13332911.318509169,13332966.931344735,13334691.315309426,13334867.367836155,13336095.382597817,13337803.87401661,13338243.645616405,13339052.274024066,13338848.425372072,13342880.472504867,13343060.961422749,13350052.656122018,13352373.21366011,13353151.433034005,13360179.363171954,13361991.057752812,13364771.462825023,13367147.869534124,13384971.770508328,13390233.539353464,13391445.317310635,13395471.273678634,13402757.654137414,13430207.89495173,13435835.524148796,13450591.537377708,13465235.0140114,13467348.535721894,13483127.748946665,13484272.107585594,13513225.706406975,13515146.098186133,13542235.323660215,13550457.561943594,13550939.180931745,13549274.472394628,13546029.178476453,13545274.70707794,13544455.114882734,13544419.552671773],\"yaxis\":\"y2\",\"type\":\"scatter\",\"opacity\":1}],                        {\"template\":{\"data\":{\"scatter\":[{\"type\":\"scatter\"}]}},\"xaxis\":{\"anchor\":\"y\",\"domain\":[0.0,0.475],\"title\":{\"text\":\"\"},\"showticklabels\":true,\"type\":\"linear\",\"gridwidth\":2,\"zeroline\":false,\"automargin\":true,\"ticks\":\"outside\",\"tickcolor\":\"white\",\"ticklen\":3,\"fixedrange\":true},\"yaxis\":{\"anchor\":\"x\",\"domain\":[0.0,1.0],\"title\":{\"text\":\"\"},\"range\":[6814054.139645353,14163383.275594145],\"type\":\"linear\",\"gridwidth\":2,\"zeroline\":false,\"automargin\":true,\"ticks\":\"outside\",\"tickcolor\":\"white\",\"ticklen\":3,\"fixedrange\":true},\"xaxis2\":{\"anchor\":\"y2\",\"domain\":[0.525,1.0],\"title\":{\"text\":\"\"},\"showticklabels\":true,\"type\":\"linear\",\"gridwidth\":2,\"zeroline\":false,\"automargin\":true,\"ticks\":\"outside\",\"tickcolor\":\"white\",\"ticklen\":3,\"fixedrange\":true},\"yaxis2\":{\"anchor\":\"x2\",\"domain\":[0.0,1.0],\"matches\":\"y\",\"showticklabels\":false,\"type\":\"linear\",\"gridwidth\":2,\"zeroline\":false,\"automargin\":true,\"ticks\":\"outside\",\"tickcolor\":\"white\",\"ticklen\":3,\"fixedrange\":true,\"title\":{\"text\":\"\"}},\"annotations\":[{\"font\":{\"size\":13},\"showarrow\":false,\"text\":\"age\",\"x\":0.2375,\"xanchor\":\"center\",\"xref\":\"paper\",\"y\":1.0,\"yanchor\":\"bottom\",\"yref\":\"paper\"},{\"font\":{\"size\":13},\"showarrow\":false,\"text\":\"movement_reactions\",\"x\":0.7625,\"xanchor\":\"center\",\"xref\":\"paper\",\"y\":1.0,\"yanchor\":\"bottom\",\"yref\":\"paper\"},{\"font\":{\"size\":13},\"showarrow\":false,\"text\":\"prediction\",\"textangle\":-90,\"x\":-0.07,\"xref\":\"paper\",\"y\":0.5,\"yref\":\"paper\"}],\"legend\":{\"title\":{\"text\":\"label\",\"font\":{\"size\":12}},\"tracegroupgap\":0,\"font\":{\"size\":11},\"orientation\":\"h\",\"yanchor\":\"bottom\",\"y\":1.0613496932515338,\"xanchor\":\"right\",\"x\":1,\"itemsizing\":\"constant\"},\"margin\":{\"t\":78,\"b\":71,\"r\":30},\"font\":{\"color\":\"#371ea3\"},\"title\":{\"font\":{\"size\":16},\"text\":\"Aggregated Profiles\",\"x\":0.15},\"hovermode\":\"x unified\",\"height\":489},                        {\"displaylogo\": false, \"staticPlot\": false, \"toImageButtonOptions\": {\"height\": null, \"width\": null}, \"modeBarButtonsToRemove\": [\"sendDataToCloud\", \"lasso2d\", \"autoScale2d\", \"select2d\", \"zoom2d\", \"pan2d\", \"zoomIn2d\", \"zoomOut2d\", \"resetScale2d\", \"toggleSpikelines\", \"hoverCompareCartesian\", \"hoverClosestCartesian\"], \"responsive\": true}                    ).then(function(){\n",
       "                            \n",
       "var gd = document.getElementById('8c6250e7-2eec-4500-b9a5-90f0d1339dbf');\n",
       "var x = new MutationObserver(function (mutations, observer) {{\n",
       "        var display = window.getComputedStyle(gd).display;\n",
       "        if (!display || display === 'none') {{\n",
       "            console.log([gd, 'removed!']);\n",
       "            Plotly.purge(gd);\n",
       "            observer.disconnect();\n",
       "        }}\n",
       "}});\n",
       "\n",
       "// Listen for the removal of the full notebook cells\n",
       "var notebookContainer = gd.closest('#notebook-container');\n",
       "if (notebookContainer) {{\n",
       "    x.observe(notebookContainer, {childList: true});\n",
       "}}\n",
       "\n",
       "// Listen for the clearing of the current output cell\n",
       "var outputEl = gd.closest('.output');\n",
       "if (outputEl) {{\n",
       "    x.observe(outputEl, {childList: true});\n",
       "}}\n",
       "\n",
       "                        })                };                });            </script>        </div>"
      ]
     },
     "metadata": {},
     "output_type": "display_data"
    }
   ],
   "source": [
    "ald = explainer.model_profile(type = 'accumulated', N=800)\n",
    "\n",
    "ald.plot(variables = ['age', 'movement_reactions'])"
   ]
  },
  {
   "cell_type": "code",
   "execution_count": null,
   "metadata": {},
   "outputs": [],
   "source": [
    "# Predict-level explanations"
   ]
  },
  {
   "cell_type": "code",
   "execution_count": 157,
   "metadata": {},
   "outputs": [
    {
     "data": {
      "application/vnd.plotly.v1+json": {
       "config": {
        "displaylogo": false,
        "modeBarButtonsToRemove": [
         "sendDataToCloud",
         "lasso2d",
         "autoScale2d",
         "select2d",
         "zoom2d",
         "pan2d",
         "zoomIn2d",
         "zoomOut2d",
         "resetScale2d",
         "toggleSpikelines",
         "hoverCompareCartesian",
         "hoverClosestCartesian"
        ],
        "plotlyServerURL": "https://plot.ly",
        "staticPlot": false,
        "toImageButtonOptions": {
         "height": null,
         "width": null
        }
       },
       "data": [
        {
         "base": 13521218.08208136,
         "connector": {
          "line": {
           "color": "#371ea3",
           "dash": "solid",
           "width": 1
          },
          "mode": "spanning"
         },
         "decreasing": {
          "marker": {
           "color": "#f05a71"
          }
         },
         "hoverinfo": "text+delta",
         "hoverlabel": {
          "bgcolor": "rgba(0,0,0,0.8)"
         },
         "hovertext": [
          "Average response: 13521218<br>Prediction: 106914554",
          "potential:overall = 93.0:93.0<br>increases average response by",
          "age = 34.0<br>decreases average response by",
          "ram = 93.0<br>increases average response by",
          "lm = 93.0<br>increases average response by",
          "rm = 93.0<br>increases average response by",
          "cam = 93.0<br>increases average response by",
          "lam = 93.0<br>increases average response by",
          "mentality_composure = 96.0<br>decreases average response by",
          "skill_ball_control = 96.0<br>increases average response by",
          "movement_reactions = 94.0<br>increases average response by",
          "+ all other factors<br>increases average response by",
          "Average response: 13521218<br>Prediction: 106914554"
         ],
         "increasing": {
          "marker": {
           "color": "#8bdcbe"
          }
         },
         "measure": [
          "relative",
          "relative",
          "relative",
          "relative",
          "relative",
          "relative",
          "relative",
          "relative",
          "relative",
          "relative",
          "relative",
          "relative",
          "total"
         ],
         "orientation": "h",
         "showlegend": false,
         "text": [
          "13521218",
          "+87119051",
          "-3356766",
          "+1030574",
          "+62434",
          "+277644",
          "+744622",
          "+1282084",
          "-185547",
          "+912258",
          "+1981965",
          "+3525016",
          "106914554"
         ],
         "textposition": "outside",
         "totals": {
          "marker": {
           "color": "#371ea3"
          }
         },
         "type": "waterfall",
         "x": [
          0,
          87119051,
          -3356766,
          1030574,
          62434,
          277644,
          744622,
          1282084,
          -185547,
          912258,
          1981965,
          3525016,
          93393336
         ],
         "xaxis": "x",
         "y": [
          "intercept",
          "potential:overall = 93.0:93.0",
          "age = 34.0",
          "ram = 93.0",
          "lm = 93.0",
          "rm = 93.0",
          "cam = 93.0",
          "lam = 93.0",
          "mentality_composure = 96.0",
          "skill_ball_control = 96.0",
          "movement_reactions = 94.0",
          "+ all other factors",
          "prediction"
         ],
         "yaxis": "y"
        },
        {
         "base": 13521218.08208136,
         "connector": {
          "line": {
           "color": "#371ea3",
           "dash": "solid",
           "width": 1
          },
          "mode": "spanning"
         },
         "decreasing": {
          "marker": {
           "color": "#f05a71"
          }
         },
         "hoverinfo": "text+delta",
         "hoverlabel": {
          "bgcolor": "rgba(0,0,0,0.8)"
         },
         "hovertext": [
          "Average response: 13521218<br>Prediction: 106088145",
          "potential:overall = 92.0:92.0<br>increases average response by",
          "age = 32.0<br>decreases average response by",
          "ram = 89.0<br>increases average response by",
          "cam = 89.0<br>increases average response by",
          "lam = 89.0<br>increases average response by",
          "lm = 87.0<br>decreases average response by",
          "rm = 87.0<br>decreases average response by",
          "mentality_composure = 88.0<br>increases average response by",
          "movement_reactions = 93.0<br>increases average response by",
          "rs = 92.0<br>increases average response by",
          "+ all other factors<br>increases average response by",
          "Average response: 13521218<br>Prediction: 106088145"
         ],
         "increasing": {
          "marker": {
           "color": "#8bdcbe"
          }
         },
         "measure": [
          "relative",
          "relative",
          "relative",
          "relative",
          "relative",
          "relative",
          "relative",
          "relative",
          "relative",
          "relative",
          "relative",
          "relative",
          "total"
         ],
         "orientation": "h",
         "showlegend": false,
         "text": [
          "13521218",
          "+86045936",
          "-1049557",
          "+977520",
          "+711620",
          "+1179737",
          "-58769",
          "-52184",
          "+83459",
          "+2289833",
          "+300223",
          "+2139108",
          "106088145"
         ],
         "textposition": "outside",
         "totals": {
          "marker": {
           "color": "#371ea3"
          }
         },
         "type": "waterfall",
         "x": [
          0,
          86045936,
          -1049557,
          977520,
          711620,
          1179737,
          -58769,
          -52184,
          83459,
          2289833,
          300223,
          2139108,
          92566927
         ],
         "xaxis": "x2",
         "y": [
          "intercept",
          "potential:overall = 92.0:92.0",
          "age = 32.0",
          "ram = 89.0",
          "cam = 89.0",
          "lam = 89.0",
          "lm = 87.0",
          "rm = 87.0",
          "mentality_composure = 88.0",
          "movement_reactions = 93.0",
          "rs = 92.0",
          "+ all other factors",
          "prediction"
         ],
         "yaxis": "y2"
        },
        {
         "base": 13521218.08208136,
         "connector": {
          "line": {
           "color": "#371ea3",
           "dash": "solid",
           "width": 1
          },
          "mode": "spanning"
         },
         "decreasing": {
          "marker": {
           "color": "#f05a71"
          }
         },
         "hoverinfo": "text+delta",
         "hoverlabel": {
          "bgcolor": "rgba(0,0,0,0.8)"
         },
         "hovertext": [
          "Average response: 13521218<br>Prediction: 89304718",
          "potential:overall = 91.0:91.0<br>increases average response by",
          "age = 36.0<br>decreases average response by",
          "ram = 89.0<br>increases average response by",
          "lm = 89.0<br>increases average response by",
          "rm = 89.0<br>increases average response by",
          "cam = 89.0<br>increases average response by",
          "lam = 89.0<br>increases average response by",
          "mentality_composure = 95.0<br>decreases average response by",
          "movement_reactions = 94.0<br>increases average response by",
          "rs = 91.0<br>increases average response by",
          "+ all other factors<br>decreases average response by",
          "Average response: 13521218<br>Prediction: 89304718"
         ],
         "increasing": {
          "marker": {
           "color": "#8bdcbe"
          }
         },
         "measure": [
          "relative",
          "relative",
          "relative",
          "relative",
          "relative",
          "relative",
          "relative",
          "relative",
          "relative",
          "relative",
          "relative",
          "relative",
          "total"
         ],
         "orientation": "h",
         "showlegend": false,
         "text": [
          "13521218",
          "+85569932",
          "-3541775",
          "+1101773",
          "+125012",
          "+246806",
          "+795687",
          "+1177032",
          "-166327",
          "+2349410",
          "+449359",
          "-12323408",
          "89304718"
         ],
         "textposition": "outside",
         "totals": {
          "marker": {
           "color": "#371ea3"
          }
         },
         "type": "waterfall",
         "x": [
          0,
          85569932,
          -3541775,
          1101773,
          125012,
          246806,
          795687,
          1177032,
          -166327,
          2349410,
          449359,
          -12323408,
          75783500
         ],
         "xaxis": "x3",
         "y": [
          "intercept",
          "potential:overall = 91.0:91.0",
          "age = 36.0",
          "ram = 89.0",
          "lm = 89.0",
          "rm = 89.0",
          "cam = 89.0",
          "lam = 89.0",
          "mentality_composure = 95.0",
          "movement_reactions = 94.0",
          "rs = 91.0",
          "+ all other factors",
          "prediction"
         ],
         "yaxis": "y3"
        }
       ],
       "layout": {
        "annotations": [
         {
          "font": {
           "size": 16
          },
          "showarrow": false,
          "text": "L. Messi",
          "x": 0.5,
          "xanchor": "center",
          "xref": "paper",
          "y": 1,
          "yanchor": "bottom",
          "yref": "paper"
         },
         {
          "font": {
           "size": 16
          },
          "showarrow": false,
          "text": "R. Lewandowski",
          "x": 0.5,
          "xanchor": "center",
          "xref": "paper",
          "y": 0.6444444444444445,
          "yanchor": "bottom",
          "yref": "paper"
         },
         {
          "font": {
           "size": 16
          },
          "showarrow": false,
          "text": "Cristiano Ronaldo",
          "x": 0.5,
          "xanchor": "center",
          "xref": "paper",
          "y": 0.2888888888888889,
          "yanchor": "bottom",
          "yref": "paper"
         },
         {
          "font": {
           "size": 16
          },
          "showarrow": false,
          "text": "contribution",
          "x": 0.5,
          "xanchor": "center",
          "xref": "paper",
          "y": 0,
          "yanchor": "top",
          "yref": "paper",
          "yshift": -30
         }
        ],
        "font": {
         "color": "#371ea3"
        },
        "height": 1081,
        "margin": {
         "b": 71,
         "r": 30,
         "t": 78
        },
        "shapes": [
         {
          "line": {
           "color": "#371ea3",
           "dash": "dot",
           "width": 1.5
          },
          "type": "line",
          "x0": 13521218.08208136,
          "x1": 13521218.08208136,
          "xref": "x",
          "y0": -1,
          "y1": 13,
          "yref": "y"
         },
         {
          "line": {
           "color": "#371ea3",
           "dash": "dot",
           "width": 1.5
          },
          "type": "line",
          "x0": 13521218.08208136,
          "x1": 13521218.08208136,
          "xref": "x2",
          "y0": -1,
          "y1": 13,
          "yref": "y2"
         },
         {
          "line": {
           "color": "#371ea3",
           "dash": "dot",
           "width": 1.5
          },
          "type": "line",
          "x0": 13521218.08208136,
          "x1": 13521218.08208136,
          "xref": "x3",
          "y0": -1,
          "y1": 13,
          "yref": "y3"
         }
        ],
        "template": {
         "data": {
          "scatter": [
           {
            "type": "scatter"
           }
          ]
         }
        },
        "title": {
         "text": "Break Down",
         "x": 0.15
        },
        "xaxis": {
         "anchor": "y",
         "automargin": true,
         "domain": [
          0,
          1
         ],
         "fixedrange": true,
         "gridwidth": 2,
         "matches": "x3",
         "range": [
          -487782.4000000004,
          120923554.4
         ],
         "showticklabels": false,
         "tickcolor": "white",
         "ticklen": 3,
         "ticks": "outside",
         "type": "linear",
         "zeroline": false
        },
        "xaxis2": {
         "anchor": "y2",
         "automargin": true,
         "domain": [
          0,
          1
         ],
         "fixedrange": true,
         "gridwidth": 2,
         "matches": "x3",
         "range": [
          -487782.4000000004,
          120923554.4
         ],
         "showticklabels": false,
         "tickcolor": "white",
         "ticklen": 3,
         "ticks": "outside",
         "type": "linear",
         "zeroline": false
        },
        "xaxis3": {
         "anchor": "y3",
         "automargin": true,
         "domain": [
          0,
          1
         ],
         "fixedrange": true,
         "gridwidth": 2,
         "range": [
          -487782.4000000004,
          120923554.4
         ],
         "tickcolor": "white",
         "ticklen": 3,
         "ticks": "outside",
         "type": "linear",
         "zeroline": false
        },
        "yaxis": {
         "anchor": "x",
         "automargin": true,
         "autorange": "reversed",
         "domain": [
          0.7111111111111111,
          1
         ],
         "fixedrange": true,
         "gridwidth": 2,
         "tickcolor": "white",
         "ticklen": 10,
         "ticks": "outside",
         "type": "category"
        },
        "yaxis2": {
         "anchor": "x2",
         "automargin": true,
         "autorange": "reversed",
         "domain": [
          0.35555555555555557,
          0.6444444444444445
         ],
         "fixedrange": true,
         "gridwidth": 2,
         "tickcolor": "white",
         "ticklen": 10,
         "ticks": "outside",
         "type": "category"
        },
        "yaxis3": {
         "anchor": "x3",
         "automargin": true,
         "autorange": "reversed",
         "domain": [
          0,
          0.2888888888888889
         ],
         "fixedrange": true,
         "gridwidth": 2,
         "tickcolor": "white",
         "ticklen": 10,
         "ticks": "outside",
         "type": "category"
        }
       }
      },
      "text/html": [
       "<div>                            <div id=\"2b3a4548-cf1c-41b1-8c5e-e53a18e3c015\" class=\"plotly-graph-div\" style=\"height:1081.0px; width:100%;\"></div>            <script type=\"text/javascript\">                require([\"plotly\"], function(Plotly) {                    window.PLOTLYENV=window.PLOTLYENV || {};                                    if (document.getElementById(\"2b3a4548-cf1c-41b1-8c5e-e53a18e3c015\")) {                    Plotly.newPlot(                        \"2b3a4548-cf1c-41b1-8c5e-e53a18e3c015\",                        [{\"base\":13521218.08208136,\"connector\":{\"line\":{\"color\":\"#371ea3\",\"dash\":\"solid\",\"width\":1},\"mode\":\"spanning\"},\"decreasing\":{\"marker\":{\"color\":\"#f05a71\"}},\"hoverinfo\":\"text+delta\",\"hoverlabel\":{\"bgcolor\":\"rgba(0,0,0,0.8)\"},\"hovertext\":[\"Average response: 13521218<br>Prediction: 106914554\",\"potential:overall = 93.0:93.0<br>increases average response by\",\"age = 34.0<br>decreases average response by\",\"ram = 93.0<br>increases average response by\",\"lm = 93.0<br>increases average response by\",\"rm = 93.0<br>increases average response by\",\"cam = 93.0<br>increases average response by\",\"lam = 93.0<br>increases average response by\",\"mentality_composure = 96.0<br>decreases average response by\",\"skill_ball_control = 96.0<br>increases average response by\",\"movement_reactions = 94.0<br>increases average response by\",\"+ all other factors<br>increases average response by\",\"Average response: 13521218<br>Prediction: 106914554\"],\"increasing\":{\"marker\":{\"color\":\"#8bdcbe\"}},\"measure\":[\"relative\",\"relative\",\"relative\",\"relative\",\"relative\",\"relative\",\"relative\",\"relative\",\"relative\",\"relative\",\"relative\",\"relative\",\"total\"],\"orientation\":\"h\",\"showlegend\":false,\"text\":[\"13521218\",\"+87119051\",\"-3356766\",\"+1030574\",\"+62434\",\"+277644\",\"+744622\",\"+1282084\",\"-185547\",\"+912258\",\"+1981965\",\"+3525016\",\"106914554\"],\"textposition\":\"outside\",\"totals\":{\"marker\":{\"color\":\"#371ea3\"}},\"x\":[0,87119051,-3356766,1030574,62434,277644,744622,1282084,-185547,912258,1981965,3525016,93393336],\"y\":[\"intercept\",\"potential:overall = 93.0:93.0\",\"age = 34.0\",\"ram = 93.0\",\"lm = 93.0\",\"rm = 93.0\",\"cam = 93.0\",\"lam = 93.0\",\"mentality_composure = 96.0\",\"skill_ball_control = 96.0\",\"movement_reactions = 94.0\",\"+ all other factors\",\"prediction\"],\"type\":\"waterfall\",\"xaxis\":\"x\",\"yaxis\":\"y\"},{\"base\":13521218.08208136,\"connector\":{\"line\":{\"color\":\"#371ea3\",\"dash\":\"solid\",\"width\":1},\"mode\":\"spanning\"},\"decreasing\":{\"marker\":{\"color\":\"#f05a71\"}},\"hoverinfo\":\"text+delta\",\"hoverlabel\":{\"bgcolor\":\"rgba(0,0,0,0.8)\"},\"hovertext\":[\"Average response: 13521218<br>Prediction: 106088145\",\"potential:overall = 92.0:92.0<br>increases average response by\",\"age = 32.0<br>decreases average response by\",\"ram = 89.0<br>increases average response by\",\"cam = 89.0<br>increases average response by\",\"lam = 89.0<br>increases average response by\",\"lm = 87.0<br>decreases average response by\",\"rm = 87.0<br>decreases average response by\",\"mentality_composure = 88.0<br>increases average response by\",\"movement_reactions = 93.0<br>increases average response by\",\"rs = 92.0<br>increases average response by\",\"+ all other factors<br>increases average response by\",\"Average response: 13521218<br>Prediction: 106088145\"],\"increasing\":{\"marker\":{\"color\":\"#8bdcbe\"}},\"measure\":[\"relative\",\"relative\",\"relative\",\"relative\",\"relative\",\"relative\",\"relative\",\"relative\",\"relative\",\"relative\",\"relative\",\"relative\",\"total\"],\"orientation\":\"h\",\"showlegend\":false,\"text\":[\"13521218\",\"+86045936\",\"-1049557\",\"+977520\",\"+711620\",\"+1179737\",\"-58769\",\"-52184\",\"+83459\",\"+2289833\",\"+300223\",\"+2139108\",\"106088145\"],\"textposition\":\"outside\",\"totals\":{\"marker\":{\"color\":\"#371ea3\"}},\"x\":[0,86045936,-1049557,977520,711620,1179737,-58769,-52184,83459,2289833,300223,2139108,92566927],\"y\":[\"intercept\",\"potential:overall = 92.0:92.0\",\"age = 32.0\",\"ram = 89.0\",\"cam = 89.0\",\"lam = 89.0\",\"lm = 87.0\",\"rm = 87.0\",\"mentality_composure = 88.0\",\"movement_reactions = 93.0\",\"rs = 92.0\",\"+ all other factors\",\"prediction\"],\"type\":\"waterfall\",\"xaxis\":\"x2\",\"yaxis\":\"y2\"},{\"base\":13521218.08208136,\"connector\":{\"line\":{\"color\":\"#371ea3\",\"dash\":\"solid\",\"width\":1},\"mode\":\"spanning\"},\"decreasing\":{\"marker\":{\"color\":\"#f05a71\"}},\"hoverinfo\":\"text+delta\",\"hoverlabel\":{\"bgcolor\":\"rgba(0,0,0,0.8)\"},\"hovertext\":[\"Average response: 13521218<br>Prediction: 89304718\",\"potential:overall = 91.0:91.0<br>increases average response by\",\"age = 36.0<br>decreases average response by\",\"ram = 89.0<br>increases average response by\",\"lm = 89.0<br>increases average response by\",\"rm = 89.0<br>increases average response by\",\"cam = 89.0<br>increases average response by\",\"lam = 89.0<br>increases average response by\",\"mentality_composure = 95.0<br>decreases average response by\",\"movement_reactions = 94.0<br>increases average response by\",\"rs = 91.0<br>increases average response by\",\"+ all other factors<br>decreases average response by\",\"Average response: 13521218<br>Prediction: 89304718\"],\"increasing\":{\"marker\":{\"color\":\"#8bdcbe\"}},\"measure\":[\"relative\",\"relative\",\"relative\",\"relative\",\"relative\",\"relative\",\"relative\",\"relative\",\"relative\",\"relative\",\"relative\",\"relative\",\"total\"],\"orientation\":\"h\",\"showlegend\":false,\"text\":[\"13521218\",\"+85569932\",\"-3541775\",\"+1101773\",\"+125012\",\"+246806\",\"+795687\",\"+1177032\",\"-166327\",\"+2349410\",\"+449359\",\"-12323408\",\"89304718\"],\"textposition\":\"outside\",\"totals\":{\"marker\":{\"color\":\"#371ea3\"}},\"x\":[0,85569932,-3541775,1101773,125012,246806,795687,1177032,-166327,2349410,449359,-12323408,75783500],\"y\":[\"intercept\",\"potential:overall = 91.0:91.0\",\"age = 36.0\",\"ram = 89.0\",\"lm = 89.0\",\"rm = 89.0\",\"cam = 89.0\",\"lam = 89.0\",\"mentality_composure = 95.0\",\"movement_reactions = 94.0\",\"rs = 91.0\",\"+ all other factors\",\"prediction\"],\"type\":\"waterfall\",\"xaxis\":\"x3\",\"yaxis\":\"y3\"}],                        {\"template\":{\"data\":{\"scatter\":[{\"type\":\"scatter\"}]}},\"xaxis\":{\"anchor\":\"y\",\"domain\":[0.0,1.0],\"matches\":\"x3\",\"showticklabels\":false,\"type\":\"linear\",\"gridwidth\":2,\"zeroline\":false,\"automargin\":true,\"ticks\":\"outside\",\"tickcolor\":\"white\",\"ticklen\":3,\"fixedrange\":true,\"range\":[-487782.4000000004,120923554.4]},\"yaxis\":{\"anchor\":\"x\",\"domain\":[0.7111111111111111,1.0],\"type\":\"category\",\"autorange\":\"reversed\",\"gridwidth\":2,\"automargin\":true,\"ticks\":\"outside\",\"tickcolor\":\"white\",\"ticklen\":10,\"fixedrange\":true},\"xaxis2\":{\"anchor\":\"y2\",\"domain\":[0.0,1.0],\"matches\":\"x3\",\"showticklabels\":false,\"type\":\"linear\",\"gridwidth\":2,\"zeroline\":false,\"automargin\":true,\"ticks\":\"outside\",\"tickcolor\":\"white\",\"ticklen\":3,\"fixedrange\":true,\"range\":[-487782.4000000004,120923554.4]},\"yaxis2\":{\"anchor\":\"x2\",\"domain\":[0.35555555555555557,0.6444444444444445],\"type\":\"category\",\"autorange\":\"reversed\",\"gridwidth\":2,\"automargin\":true,\"ticks\":\"outside\",\"tickcolor\":\"white\",\"ticklen\":10,\"fixedrange\":true},\"xaxis3\":{\"anchor\":\"y3\",\"domain\":[0.0,1.0],\"type\":\"linear\",\"gridwidth\":2,\"zeroline\":false,\"automargin\":true,\"ticks\":\"outside\",\"tickcolor\":\"white\",\"ticklen\":3,\"fixedrange\":true,\"range\":[-487782.4000000004,120923554.4]},\"yaxis3\":{\"anchor\":\"x3\",\"domain\":[0.0,0.2888888888888889],\"type\":\"category\",\"autorange\":\"reversed\",\"gridwidth\":2,\"automargin\":true,\"ticks\":\"outside\",\"tickcolor\":\"white\",\"ticklen\":10,\"fixedrange\":true},\"annotations\":[{\"font\":{\"size\":16},\"showarrow\":false,\"text\":\"L. Messi\",\"x\":0.5,\"xanchor\":\"center\",\"xref\":\"paper\",\"y\":1.0,\"yanchor\":\"bottom\",\"yref\":\"paper\"},{\"font\":{\"size\":16},\"showarrow\":false,\"text\":\"R. Lewandowski\",\"x\":0.5,\"xanchor\":\"center\",\"xref\":\"paper\",\"y\":0.6444444444444445,\"yanchor\":\"bottom\",\"yref\":\"paper\"},{\"font\":{\"size\":16},\"showarrow\":false,\"text\":\"Cristiano Ronaldo\",\"x\":0.5,\"xanchor\":\"center\",\"xref\":\"paper\",\"y\":0.2888888888888889,\"yanchor\":\"bottom\",\"yref\":\"paper\"},{\"font\":{\"size\":16},\"showarrow\":false,\"text\":\"contribution\",\"x\":0.5,\"xanchor\":\"center\",\"xref\":\"paper\",\"y\":0,\"yanchor\":\"top\",\"yref\":\"paper\",\"yshift\":-30}],\"shapes\":[{\"line\":{\"color\":\"#371ea3\",\"dash\":\"dot\",\"width\":1.5},\"type\":\"line\",\"x0\":13521218.08208136,\"x1\":13521218.08208136,\"xref\":\"x\",\"y0\":-1,\"y1\":13,\"yref\":\"y\"},{\"line\":{\"color\":\"#371ea3\",\"dash\":\"dot\",\"width\":1.5},\"type\":\"line\",\"x0\":13521218.08208136,\"x1\":13521218.08208136,\"xref\":\"x2\",\"y0\":-1,\"y1\":13,\"yref\":\"y2\"},{\"line\":{\"color\":\"#371ea3\",\"dash\":\"dot\",\"width\":1.5},\"type\":\"line\",\"x0\":13521218.08208136,\"x1\":13521218.08208136,\"xref\":\"x3\",\"y0\":-1,\"y1\":13,\"yref\":\"y3\"}],\"title\":{\"text\":\"Break Down\",\"x\":0.15},\"font\":{\"color\":\"#371ea3\"},\"margin\":{\"t\":78,\"b\":71,\"r\":30},\"height\":1081.0},                        {\"displaylogo\": false, \"staticPlot\": false, \"toImageButtonOptions\": {\"height\": null, \"width\": null}, \"modeBarButtonsToRemove\": [\"sendDataToCloud\", \"lasso2d\", \"autoScale2d\", \"select2d\", \"zoom2d\", \"pan2d\", \"zoomIn2d\", \"zoomOut2d\", \"resetScale2d\", \"toggleSpikelines\", \"hoverCompareCartesian\", \"hoverClosestCartesian\"], \"responsive\": true}                    ).then(function(){\n",
       "                            \n",
       "var gd = document.getElementById('2b3a4548-cf1c-41b1-8c5e-e53a18e3c015');\n",
       "var x = new MutationObserver(function (mutations, observer) {{\n",
       "        var display = window.getComputedStyle(gd).display;\n",
       "        if (!display || display === 'none') {{\n",
       "            console.log([gd, 'removed!']);\n",
       "            Plotly.purge(gd);\n",
       "            observer.disconnect();\n",
       "        }}\n",
       "}});\n",
       "\n",
       "// Listen for the removal of the full notebook cells\n",
       "var notebookContainer = gd.closest('#notebook-container');\n",
       "if (notebookContainer) {{\n",
       "    x.observe(notebookContainer, {childList: true});\n",
       "}}\n",
       "\n",
       "// Listen for the clearing of the current output cell\n",
       "var outputEl = gd.closest('.output');\n",
       "if (outputEl) {{\n",
       "    x.observe(outputEl, {childList: true});\n",
       "}}\n",
       "\n",
       "                        })                };                });            </script>        </div>"
      ]
     },
     "metadata": {},
     "output_type": "display_data"
    }
   ],
   "source": [
    "va = {'ibd':[], 'sh':[]}\n",
    "\n",
    "for name in df_test['short_name'].values[0:3]:\n",
    "    player = df_test[df_test['short_name'] == name].copy()\n",
    "    player.drop(columns=['short_name', \n",
    "                          'club_name', \n",
    "                          'league_name', \n",
    "                          'preferred_foot', \n",
    "                          'wage_eur', \n",
    "                          'club_position'], inplace=True)\n",
    "    player.drop(columns=['goalkeeping_speed'], inplace=True)\n",
    "    player.drop(columns=[target_variable], inplace=True)\n",
    "    for features in ['pace', 'shooting', 'passing', 'dribbling', 'defending', 'physic']:\n",
    "            player[features].fillna(40, inplace=True)\n",
    "            \n",
    "    ibd = explainer.predict_parts(player, type='break_down_interactions', label=name)\n",
    "    sh = explainer.predict_parts(player, type='shap', B=10, label=name)\n",
    "    \n",
    "    va['ibd'].append(ibd)\n",
    "    va['sh'].append(sh)"
   ]
  },
  {
   "cell_type": "code",
   "execution_count": null,
   "metadata": {},
   "outputs": [],
   "source": [
    "# break_down_interactions"
   ]
  },
  {
   "cell_type": "code",
   "execution_count": 158,
   "metadata": {},
   "outputs": [
    {
     "data": {
      "application/vnd.plotly.v1+json": {
       "config": {
        "displaylogo": false,
        "modeBarButtonsToRemove": [
         "sendDataToCloud",
         "lasso2d",
         "autoScale2d",
         "select2d",
         "zoom2d",
         "pan2d",
         "zoomIn2d",
         "zoomOut2d",
         "resetScale2d",
         "toggleSpikelines",
         "hoverCompareCartesian",
         "hoverClosestCartesian"
        ],
        "plotlyServerURL": "https://plot.ly",
        "staticPlot": false,
        "toImageButtonOptions": {
         "height": null,
         "width": null
        }
       },
       "data": [
        {
         "base": 13521218.08208136,
         "connector": {
          "line": {
           "color": "#371ea3",
           "dash": "solid",
           "width": 1
          },
          "mode": "spanning"
         },
         "decreasing": {
          "marker": {
           "color": "#f05a71"
          }
         },
         "hoverinfo": "text+delta",
         "hoverlabel": {
          "bgcolor": "rgba(0,0,0,0.8)"
         },
         "hovertext": [
          "Average response: 13521218<br>Prediction: 106914554",
          "potential:overall = 93.0:93.0<br>increases average response by",
          "age = 34.0<br>decreases average response by",
          "ram = 93.0<br>increases average response by",
          "lm = 93.0<br>increases average response by",
          "rm = 93.0<br>increases average response by",
          "cam = 93.0<br>increases average response by",
          "lam = 93.0<br>increases average response by",
          "mentality_composure = 96.0<br>decreases average response by",
          "skill_ball_control = 96.0<br>increases average response by",
          "movement_reactions = 94.0<br>increases average response by",
          "+ all other factors<br>increases average response by",
          "Average response: 13521218<br>Prediction: 106914554"
         ],
         "increasing": {
          "marker": {
           "color": "#8bdcbe"
          }
         },
         "measure": [
          "relative",
          "relative",
          "relative",
          "relative",
          "relative",
          "relative",
          "relative",
          "relative",
          "relative",
          "relative",
          "relative",
          "relative",
          "total"
         ],
         "orientation": "h",
         "showlegend": false,
         "text": [
          "13521218",
          "+87119051",
          "-3356766",
          "+1030574",
          "+62434",
          "+277644",
          "+744622",
          "+1282084",
          "-185547",
          "+912258",
          "+1981965",
          "+3525016",
          "106914554"
         ],
         "textposition": "outside",
         "totals": {
          "marker": {
           "color": "#371ea3"
          }
         },
         "type": "waterfall",
         "x": [
          0,
          87119051,
          -3356766,
          1030574,
          62434,
          277644,
          744622,
          1282084,
          -185547,
          912258,
          1981965,
          3525016,
          93393336
         ],
         "xaxis": "x",
         "y": [
          "intercept",
          "potential:overall = 93.0:93.0",
          "age = 34.0",
          "ram = 93.0",
          "lm = 93.0",
          "rm = 93.0",
          "cam = 93.0",
          "lam = 93.0",
          "mentality_composure = 96.0",
          "skill_ball_control = 96.0",
          "movement_reactions = 94.0",
          "+ all other factors",
          "prediction"
         ],
         "yaxis": "y"
        },
        {
         "base": 13521218.08208136,
         "connector": {
          "line": {
           "color": "#371ea3",
           "dash": "solid",
           "width": 1
          },
          "mode": "spanning"
         },
         "decreasing": {
          "marker": {
           "color": "#f05a71"
          }
         },
         "hoverinfo": "text+delta",
         "hoverlabel": {
          "bgcolor": "rgba(0,0,0,0.8)"
         },
         "hovertext": [
          "Average response: 13521218<br>Prediction: 106088145",
          "potential:overall = 92.0:92.0<br>increases average response by",
          "age = 32.0<br>decreases average response by",
          "ram = 89.0<br>increases average response by",
          "cam = 89.0<br>increases average response by",
          "lam = 89.0<br>increases average response by",
          "lm = 87.0<br>decreases average response by",
          "rm = 87.0<br>decreases average response by",
          "mentality_composure = 88.0<br>increases average response by",
          "movement_reactions = 93.0<br>increases average response by",
          "rs = 92.0<br>increases average response by",
          "+ all other factors<br>increases average response by",
          "Average response: 13521218<br>Prediction: 106088145"
         ],
         "increasing": {
          "marker": {
           "color": "#8bdcbe"
          }
         },
         "measure": [
          "relative",
          "relative",
          "relative",
          "relative",
          "relative",
          "relative",
          "relative",
          "relative",
          "relative",
          "relative",
          "relative",
          "relative",
          "total"
         ],
         "orientation": "h",
         "showlegend": false,
         "text": [
          "13521218",
          "+86045936",
          "-1049557",
          "+977520",
          "+711620",
          "+1179737",
          "-58769",
          "-52184",
          "+83459",
          "+2289833",
          "+300223",
          "+2139108",
          "106088145"
         ],
         "textposition": "outside",
         "totals": {
          "marker": {
           "color": "#371ea3"
          }
         },
         "type": "waterfall",
         "x": [
          0,
          86045936,
          -1049557,
          977520,
          711620,
          1179737,
          -58769,
          -52184,
          83459,
          2289833,
          300223,
          2139108,
          92566927
         ],
         "xaxis": "x2",
         "y": [
          "intercept",
          "potential:overall = 92.0:92.0",
          "age = 32.0",
          "ram = 89.0",
          "cam = 89.0",
          "lam = 89.0",
          "lm = 87.0",
          "rm = 87.0",
          "mentality_composure = 88.0",
          "movement_reactions = 93.0",
          "rs = 92.0",
          "+ all other factors",
          "prediction"
         ],
         "yaxis": "y2"
        },
        {
         "base": 13521218.08208136,
         "connector": {
          "line": {
           "color": "#371ea3",
           "dash": "solid",
           "width": 1
          },
          "mode": "spanning"
         },
         "decreasing": {
          "marker": {
           "color": "#f05a71"
          }
         },
         "hoverinfo": "text+delta",
         "hoverlabel": {
          "bgcolor": "rgba(0,0,0,0.8)"
         },
         "hovertext": [
          "Average response: 13521218<br>Prediction: 89304718",
          "potential:overall = 91.0:91.0<br>increases average response by",
          "age = 36.0<br>decreases average response by",
          "ram = 89.0<br>increases average response by",
          "lm = 89.0<br>increases average response by",
          "rm = 89.0<br>increases average response by",
          "cam = 89.0<br>increases average response by",
          "lam = 89.0<br>increases average response by",
          "mentality_composure = 95.0<br>decreases average response by",
          "movement_reactions = 94.0<br>increases average response by",
          "rs = 91.0<br>increases average response by",
          "+ all other factors<br>decreases average response by",
          "Average response: 13521218<br>Prediction: 89304718"
         ],
         "increasing": {
          "marker": {
           "color": "#8bdcbe"
          }
         },
         "measure": [
          "relative",
          "relative",
          "relative",
          "relative",
          "relative",
          "relative",
          "relative",
          "relative",
          "relative",
          "relative",
          "relative",
          "relative",
          "total"
         ],
         "orientation": "h",
         "showlegend": false,
         "text": [
          "13521218",
          "+85569932",
          "-3541775",
          "+1101773",
          "+125012",
          "+246806",
          "+795687",
          "+1177032",
          "-166327",
          "+2349410",
          "+449359",
          "-12323408",
          "89304718"
         ],
         "textposition": "outside",
         "totals": {
          "marker": {
           "color": "#371ea3"
          }
         },
         "type": "waterfall",
         "x": [
          0,
          85569932,
          -3541775,
          1101773,
          125012,
          246806,
          795687,
          1177032,
          -166327,
          2349410,
          449359,
          -12323408,
          75783500
         ],
         "xaxis": "x3",
         "y": [
          "intercept",
          "potential:overall = 91.0:91.0",
          "age = 36.0",
          "ram = 89.0",
          "lm = 89.0",
          "rm = 89.0",
          "cam = 89.0",
          "lam = 89.0",
          "mentality_composure = 95.0",
          "movement_reactions = 94.0",
          "rs = 91.0",
          "+ all other factors",
          "prediction"
         ],
         "yaxis": "y3"
        }
       ],
       "layout": {
        "annotations": [
         {
          "font": {
           "size": 16
          },
          "showarrow": false,
          "text": "L. Messi",
          "x": 0.5,
          "xanchor": "center",
          "xref": "paper",
          "y": 1,
          "yanchor": "bottom",
          "yref": "paper"
         },
         {
          "font": {
           "size": 16
          },
          "showarrow": false,
          "text": "R. Lewandowski",
          "x": 0.5,
          "xanchor": "center",
          "xref": "paper",
          "y": 0.6444444444444445,
          "yanchor": "bottom",
          "yref": "paper"
         },
         {
          "font": {
           "size": 16
          },
          "showarrow": false,
          "text": "Cristiano Ronaldo",
          "x": 0.5,
          "xanchor": "center",
          "xref": "paper",
          "y": 0.2888888888888889,
          "yanchor": "bottom",
          "yref": "paper"
         },
         {
          "font": {
           "size": 16
          },
          "showarrow": false,
          "text": "contribution",
          "x": 0.5,
          "xanchor": "center",
          "xref": "paper",
          "y": 0,
          "yanchor": "top",
          "yref": "paper",
          "yshift": -30
         }
        ],
        "font": {
         "color": "#371ea3"
        },
        "height": 1081,
        "margin": {
         "b": 71,
         "r": 30,
         "t": 78
        },
        "shapes": [
         {
          "line": {
           "color": "#371ea3",
           "dash": "dot",
           "width": 1.5
          },
          "type": "line",
          "x0": 13521218.08208136,
          "x1": 13521218.08208136,
          "xref": "x",
          "y0": -1,
          "y1": 13,
          "yref": "y"
         },
         {
          "line": {
           "color": "#371ea3",
           "dash": "dot",
           "width": 1.5
          },
          "type": "line",
          "x0": 13521218.08208136,
          "x1": 13521218.08208136,
          "xref": "x2",
          "y0": -1,
          "y1": 13,
          "yref": "y2"
         },
         {
          "line": {
           "color": "#371ea3",
           "dash": "dot",
           "width": 1.5
          },
          "type": "line",
          "x0": 13521218.08208136,
          "x1": 13521218.08208136,
          "xref": "x3",
          "y0": -1,
          "y1": 13,
          "yref": "y3"
         }
        ],
        "template": {
         "data": {
          "scatter": [
           {
            "type": "scatter"
           }
          ]
         }
        },
        "title": {
         "text": "Break Down",
         "x": 0.15
        },
        "xaxis": {
         "anchor": "y",
         "automargin": true,
         "domain": [
          0,
          1
         ],
         "fixedrange": true,
         "gridwidth": 2,
         "matches": "x3",
         "range": [
          -487782.4000000004,
          120923554.4
         ],
         "showticklabels": false,
         "tickcolor": "white",
         "ticklen": 3,
         "ticks": "outside",
         "type": "linear",
         "zeroline": false
        },
        "xaxis2": {
         "anchor": "y2",
         "automargin": true,
         "domain": [
          0,
          1
         ],
         "fixedrange": true,
         "gridwidth": 2,
         "matches": "x3",
         "range": [
          -487782.4000000004,
          120923554.4
         ],
         "showticklabels": false,
         "tickcolor": "white",
         "ticklen": 3,
         "ticks": "outside",
         "type": "linear",
         "zeroline": false
        },
        "xaxis3": {
         "anchor": "y3",
         "automargin": true,
         "domain": [
          0,
          1
         ],
         "fixedrange": true,
         "gridwidth": 2,
         "range": [
          -487782.4000000004,
          120923554.4
         ],
         "tickcolor": "white",
         "ticklen": 3,
         "ticks": "outside",
         "type": "linear",
         "zeroline": false
        },
        "yaxis": {
         "anchor": "x",
         "automargin": true,
         "autorange": "reversed",
         "domain": [
          0.7111111111111111,
          1
         ],
         "fixedrange": true,
         "gridwidth": 2,
         "tickcolor": "white",
         "ticklen": 10,
         "ticks": "outside",
         "type": "category"
        },
        "yaxis2": {
         "anchor": "x2",
         "automargin": true,
         "autorange": "reversed",
         "domain": [
          0.35555555555555557,
          0.6444444444444445
         ],
         "fixedrange": true,
         "gridwidth": 2,
         "tickcolor": "white",
         "ticklen": 10,
         "ticks": "outside",
         "type": "category"
        },
        "yaxis3": {
         "anchor": "x3",
         "automargin": true,
         "autorange": "reversed",
         "domain": [
          0,
          0.2888888888888889
         ],
         "fixedrange": true,
         "gridwidth": 2,
         "tickcolor": "white",
         "ticklen": 10,
         "ticks": "outside",
         "type": "category"
        }
       }
      },
      "text/html": [
       "<div>                            <div id=\"92aeb207-3b34-4a3b-9798-3dd7326bd445\" class=\"plotly-graph-div\" style=\"height:1081.0px; width:100%;\"></div>            <script type=\"text/javascript\">                require([\"plotly\"], function(Plotly) {                    window.PLOTLYENV=window.PLOTLYENV || {};                                    if (document.getElementById(\"92aeb207-3b34-4a3b-9798-3dd7326bd445\")) {                    Plotly.newPlot(                        \"92aeb207-3b34-4a3b-9798-3dd7326bd445\",                        [{\"base\":13521218.08208136,\"connector\":{\"line\":{\"color\":\"#371ea3\",\"dash\":\"solid\",\"width\":1},\"mode\":\"spanning\"},\"decreasing\":{\"marker\":{\"color\":\"#f05a71\"}},\"hoverinfo\":\"text+delta\",\"hoverlabel\":{\"bgcolor\":\"rgba(0,0,0,0.8)\"},\"hovertext\":[\"Average response: 13521218<br>Prediction: 106914554\",\"potential:overall = 93.0:93.0<br>increases average response by\",\"age = 34.0<br>decreases average response by\",\"ram = 93.0<br>increases average response by\",\"lm = 93.0<br>increases average response by\",\"rm = 93.0<br>increases average response by\",\"cam = 93.0<br>increases average response by\",\"lam = 93.0<br>increases average response by\",\"mentality_composure = 96.0<br>decreases average response by\",\"skill_ball_control = 96.0<br>increases average response by\",\"movement_reactions = 94.0<br>increases average response by\",\"+ all other factors<br>increases average response by\",\"Average response: 13521218<br>Prediction: 106914554\"],\"increasing\":{\"marker\":{\"color\":\"#8bdcbe\"}},\"measure\":[\"relative\",\"relative\",\"relative\",\"relative\",\"relative\",\"relative\",\"relative\",\"relative\",\"relative\",\"relative\",\"relative\",\"relative\",\"total\"],\"orientation\":\"h\",\"showlegend\":false,\"text\":[\"13521218\",\"+87119051\",\"-3356766\",\"+1030574\",\"+62434\",\"+277644\",\"+744622\",\"+1282084\",\"-185547\",\"+912258\",\"+1981965\",\"+3525016\",\"106914554\"],\"textposition\":\"outside\",\"totals\":{\"marker\":{\"color\":\"#371ea3\"}},\"x\":[0,87119051,-3356766,1030574,62434,277644,744622,1282084,-185547,912258,1981965,3525016,93393336],\"y\":[\"intercept\",\"potential:overall = 93.0:93.0\",\"age = 34.0\",\"ram = 93.0\",\"lm = 93.0\",\"rm = 93.0\",\"cam = 93.0\",\"lam = 93.0\",\"mentality_composure = 96.0\",\"skill_ball_control = 96.0\",\"movement_reactions = 94.0\",\"+ all other factors\",\"prediction\"],\"type\":\"waterfall\",\"xaxis\":\"x\",\"yaxis\":\"y\"},{\"base\":13521218.08208136,\"connector\":{\"line\":{\"color\":\"#371ea3\",\"dash\":\"solid\",\"width\":1},\"mode\":\"spanning\"},\"decreasing\":{\"marker\":{\"color\":\"#f05a71\"}},\"hoverinfo\":\"text+delta\",\"hoverlabel\":{\"bgcolor\":\"rgba(0,0,0,0.8)\"},\"hovertext\":[\"Average response: 13521218<br>Prediction: 106088145\",\"potential:overall = 92.0:92.0<br>increases average response by\",\"age = 32.0<br>decreases average response by\",\"ram = 89.0<br>increases average response by\",\"cam = 89.0<br>increases average response by\",\"lam = 89.0<br>increases average response by\",\"lm = 87.0<br>decreases average response by\",\"rm = 87.0<br>decreases average response by\",\"mentality_composure = 88.0<br>increases average response by\",\"movement_reactions = 93.0<br>increases average response by\",\"rs = 92.0<br>increases average response by\",\"+ all other factors<br>increases average response by\",\"Average response: 13521218<br>Prediction: 106088145\"],\"increasing\":{\"marker\":{\"color\":\"#8bdcbe\"}},\"measure\":[\"relative\",\"relative\",\"relative\",\"relative\",\"relative\",\"relative\",\"relative\",\"relative\",\"relative\",\"relative\",\"relative\",\"relative\",\"total\"],\"orientation\":\"h\",\"showlegend\":false,\"text\":[\"13521218\",\"+86045936\",\"-1049557\",\"+977520\",\"+711620\",\"+1179737\",\"-58769\",\"-52184\",\"+83459\",\"+2289833\",\"+300223\",\"+2139108\",\"106088145\"],\"textposition\":\"outside\",\"totals\":{\"marker\":{\"color\":\"#371ea3\"}},\"x\":[0,86045936,-1049557,977520,711620,1179737,-58769,-52184,83459,2289833,300223,2139108,92566927],\"y\":[\"intercept\",\"potential:overall = 92.0:92.0\",\"age = 32.0\",\"ram = 89.0\",\"cam = 89.0\",\"lam = 89.0\",\"lm = 87.0\",\"rm = 87.0\",\"mentality_composure = 88.0\",\"movement_reactions = 93.0\",\"rs = 92.0\",\"+ all other factors\",\"prediction\"],\"type\":\"waterfall\",\"xaxis\":\"x2\",\"yaxis\":\"y2\"},{\"base\":13521218.08208136,\"connector\":{\"line\":{\"color\":\"#371ea3\",\"dash\":\"solid\",\"width\":1},\"mode\":\"spanning\"},\"decreasing\":{\"marker\":{\"color\":\"#f05a71\"}},\"hoverinfo\":\"text+delta\",\"hoverlabel\":{\"bgcolor\":\"rgba(0,0,0,0.8)\"},\"hovertext\":[\"Average response: 13521218<br>Prediction: 89304718\",\"potential:overall = 91.0:91.0<br>increases average response by\",\"age = 36.0<br>decreases average response by\",\"ram = 89.0<br>increases average response by\",\"lm = 89.0<br>increases average response by\",\"rm = 89.0<br>increases average response by\",\"cam = 89.0<br>increases average response by\",\"lam = 89.0<br>increases average response by\",\"mentality_composure = 95.0<br>decreases average response by\",\"movement_reactions = 94.0<br>increases average response by\",\"rs = 91.0<br>increases average response by\",\"+ all other factors<br>decreases average response by\",\"Average response: 13521218<br>Prediction: 89304718\"],\"increasing\":{\"marker\":{\"color\":\"#8bdcbe\"}},\"measure\":[\"relative\",\"relative\",\"relative\",\"relative\",\"relative\",\"relative\",\"relative\",\"relative\",\"relative\",\"relative\",\"relative\",\"relative\",\"total\"],\"orientation\":\"h\",\"showlegend\":false,\"text\":[\"13521218\",\"+85569932\",\"-3541775\",\"+1101773\",\"+125012\",\"+246806\",\"+795687\",\"+1177032\",\"-166327\",\"+2349410\",\"+449359\",\"-12323408\",\"89304718\"],\"textposition\":\"outside\",\"totals\":{\"marker\":{\"color\":\"#371ea3\"}},\"x\":[0,85569932,-3541775,1101773,125012,246806,795687,1177032,-166327,2349410,449359,-12323408,75783500],\"y\":[\"intercept\",\"potential:overall = 91.0:91.0\",\"age = 36.0\",\"ram = 89.0\",\"lm = 89.0\",\"rm = 89.0\",\"cam = 89.0\",\"lam = 89.0\",\"mentality_composure = 95.0\",\"movement_reactions = 94.0\",\"rs = 91.0\",\"+ all other factors\",\"prediction\"],\"type\":\"waterfall\",\"xaxis\":\"x3\",\"yaxis\":\"y3\"}],                        {\"template\":{\"data\":{\"scatter\":[{\"type\":\"scatter\"}]}},\"xaxis\":{\"anchor\":\"y\",\"domain\":[0.0,1.0],\"matches\":\"x3\",\"showticklabels\":false,\"type\":\"linear\",\"gridwidth\":2,\"zeroline\":false,\"automargin\":true,\"ticks\":\"outside\",\"tickcolor\":\"white\",\"ticklen\":3,\"fixedrange\":true,\"range\":[-487782.4000000004,120923554.4]},\"yaxis\":{\"anchor\":\"x\",\"domain\":[0.7111111111111111,1.0],\"type\":\"category\",\"autorange\":\"reversed\",\"gridwidth\":2,\"automargin\":true,\"ticks\":\"outside\",\"tickcolor\":\"white\",\"ticklen\":10,\"fixedrange\":true},\"xaxis2\":{\"anchor\":\"y2\",\"domain\":[0.0,1.0],\"matches\":\"x3\",\"showticklabels\":false,\"type\":\"linear\",\"gridwidth\":2,\"zeroline\":false,\"automargin\":true,\"ticks\":\"outside\",\"tickcolor\":\"white\",\"ticklen\":3,\"fixedrange\":true,\"range\":[-487782.4000000004,120923554.4]},\"yaxis2\":{\"anchor\":\"x2\",\"domain\":[0.35555555555555557,0.6444444444444445],\"type\":\"category\",\"autorange\":\"reversed\",\"gridwidth\":2,\"automargin\":true,\"ticks\":\"outside\",\"tickcolor\":\"white\",\"ticklen\":10,\"fixedrange\":true},\"xaxis3\":{\"anchor\":\"y3\",\"domain\":[0.0,1.0],\"type\":\"linear\",\"gridwidth\":2,\"zeroline\":false,\"automargin\":true,\"ticks\":\"outside\",\"tickcolor\":\"white\",\"ticklen\":3,\"fixedrange\":true,\"range\":[-487782.4000000004,120923554.4]},\"yaxis3\":{\"anchor\":\"x3\",\"domain\":[0.0,0.2888888888888889],\"type\":\"category\",\"autorange\":\"reversed\",\"gridwidth\":2,\"automargin\":true,\"ticks\":\"outside\",\"tickcolor\":\"white\",\"ticklen\":10,\"fixedrange\":true},\"annotations\":[{\"font\":{\"size\":16},\"showarrow\":false,\"text\":\"L. Messi\",\"x\":0.5,\"xanchor\":\"center\",\"xref\":\"paper\",\"y\":1.0,\"yanchor\":\"bottom\",\"yref\":\"paper\"},{\"font\":{\"size\":16},\"showarrow\":false,\"text\":\"R. Lewandowski\",\"x\":0.5,\"xanchor\":\"center\",\"xref\":\"paper\",\"y\":0.6444444444444445,\"yanchor\":\"bottom\",\"yref\":\"paper\"},{\"font\":{\"size\":16},\"showarrow\":false,\"text\":\"Cristiano Ronaldo\",\"x\":0.5,\"xanchor\":\"center\",\"xref\":\"paper\",\"y\":0.2888888888888889,\"yanchor\":\"bottom\",\"yref\":\"paper\"},{\"font\":{\"size\":16},\"showarrow\":false,\"text\":\"contribution\",\"x\":0.5,\"xanchor\":\"center\",\"xref\":\"paper\",\"y\":0,\"yanchor\":\"top\",\"yref\":\"paper\",\"yshift\":-30}],\"shapes\":[{\"line\":{\"color\":\"#371ea3\",\"dash\":\"dot\",\"width\":1.5},\"type\":\"line\",\"x0\":13521218.08208136,\"x1\":13521218.08208136,\"xref\":\"x\",\"y0\":-1,\"y1\":13,\"yref\":\"y\"},{\"line\":{\"color\":\"#371ea3\",\"dash\":\"dot\",\"width\":1.5},\"type\":\"line\",\"x0\":13521218.08208136,\"x1\":13521218.08208136,\"xref\":\"x2\",\"y0\":-1,\"y1\":13,\"yref\":\"y2\"},{\"line\":{\"color\":\"#371ea3\",\"dash\":\"dot\",\"width\":1.5},\"type\":\"line\",\"x0\":13521218.08208136,\"x1\":13521218.08208136,\"xref\":\"x3\",\"y0\":-1,\"y1\":13,\"yref\":\"y3\"}],\"title\":{\"text\":\"Break Down\",\"x\":0.15},\"font\":{\"color\":\"#371ea3\"},\"margin\":{\"t\":78,\"b\":71,\"r\":30},\"height\":1081.0},                        {\"displaylogo\": false, \"staticPlot\": false, \"toImageButtonOptions\": {\"height\": null, \"width\": null}, \"modeBarButtonsToRemove\": [\"sendDataToCloud\", \"lasso2d\", \"autoScale2d\", \"select2d\", \"zoom2d\", \"pan2d\", \"zoomIn2d\", \"zoomOut2d\", \"resetScale2d\", \"toggleSpikelines\", \"hoverCompareCartesian\", \"hoverClosestCartesian\"], \"responsive\": true}                    ).then(function(){\n",
       "                            \n",
       "var gd = document.getElementById('92aeb207-3b34-4a3b-9798-3dd7326bd445');\n",
       "var x = new MutationObserver(function (mutations, observer) {{\n",
       "        var display = window.getComputedStyle(gd).display;\n",
       "        if (!display || display === 'none') {{\n",
       "            console.log([gd, 'removed!']);\n",
       "            Plotly.purge(gd);\n",
       "            observer.disconnect();\n",
       "        }}\n",
       "}});\n",
       "\n",
       "// Listen for the removal of the full notebook cells\n",
       "var notebookContainer = gd.closest('#notebook-container');\n",
       "if (notebookContainer) {{\n",
       "    x.observe(notebookContainer, {childList: true});\n",
       "}}\n",
       "\n",
       "// Listen for the clearing of the current output cell\n",
       "var outputEl = gd.closest('.output');\n",
       "if (outputEl) {{\n",
       "    x.observe(outputEl, {childList: true});\n",
       "}}\n",
       "\n",
       "                        })                };                });            </script>        </div>"
      ]
     },
     "metadata": {},
     "output_type": "display_data"
    }
   ],
   "source": [
    "va['ibd'][0].plot(va['ibd'][1:3],\n",
    "                  rounding_function=lambda x, digits: np.rint(x, digits).astype(np.int),\n",
    "                  digits=None, max_vars=10)"
   ]
  },
  {
   "cell_type": "code",
   "execution_count": null,
   "metadata": {},
   "outputs": [],
   "source": [
    "# shap"
   ]
  },
  {
   "cell_type": "code",
   "execution_count": 160,
   "metadata": {},
   "outputs": [
    {
     "data": {
      "application/vnd.plotly.v1+json": {
       "config": {
        "displaylogo": false,
        "modeBarButtonsToRemove": [
         "sendDataToCloud",
         "lasso2d",
         "autoScale2d",
         "select2d",
         "zoom2d",
         "pan2d",
         "zoomIn2d",
         "zoomOut2d",
         "resetScale2d",
         "toggleSpikelines",
         "hoverCompareCartesian",
         "hoverClosestCartesian"
        ],
        "plotlyServerURL": "https://plot.ly",
        "staticPlot": false,
        "toImageButtonOptions": {
         "height": null,
         "width": null
        }
       },
       "data": [
        {
         "base": 13521218.08208136,
         "hoverinfo": "text",
         "hoverlabel": {
          "bgcolor": "rgba(0,0,0,0.8)"
         },
         "hovertext": [
          "Average response: 13521218<br>Prediction: 106914554<br>potential = 93.0<br>increases average response <br>by 46586503",
          "Average response: 13521218<br>Prediction: 106914554<br>overall = 93.0<br>increases average response <br>by 43954103",
          "Average response: 13521218<br>Prediction: 106914554<br>age = 34.0<br>decreases average response <br>by 4025126",
          "Average response: 13521218<br>Prediction: 106914554<br>ram = 93.0<br>increases average response <br>by 1287837",
          "Average response: 13521218<br>Prediction: 106914554<br>lam = 93.0<br>increases average response <br>by 570966",
          "Average response: 13521218<br>Prediction: 106914554<br>skill_ball_control = 96.0<br>increases average response <br>by 543832",
          "Average response: 13521218<br>Prediction: 106914554<br>cam = 93.0<br>increases average response <br>by 506036",
          "Average response: 13521218<br>Prediction: 106914554<br>attacking_short_passing = 91.0<br>increases average response <br>by 415524",
          "Average response: 13521218<br>Prediction: 106914554<br>skill_dribbling = 96.0<br>increases average response <br>by 375585",
          "Average response: 13521218<br>Prediction: 106914554<br>+ all other factors<br>increases average response <br>by 3178076"
         ],
         "marker": {
          "color": [
           "#8bdcbe",
           "#8bdcbe",
           "#f05a71",
           "#8bdcbe",
           "#8bdcbe",
           "#8bdcbe",
           "#8bdcbe",
           "#8bdcbe",
           "#8bdcbe",
           "#8bdcbe"
          ]
         },
         "orientation": "h",
         "showlegend": false,
         "text": [
          "+46586503",
          "+43954103",
          "-4025126",
          "+1287837",
          "+570966",
          "+543832",
          "+506036",
          "+415524",
          "+375585",
          "+3178076"
         ],
         "textposition": "outside",
         "type": "bar",
         "x": [
          46586503,
          43954103,
          -4025126,
          1287837,
          570966,
          543832,
          506036,
          415524,
          375585,
          3178076
         ],
         "xaxis": "x",
         "y": [
          "potential = 93.0",
          "overall = 93.0",
          "age = 34.0",
          "ram = 93.0",
          "lam = 93.0",
          "skill_ball_control = 96.0",
          "cam = 93.0",
          "attacking_short_passing = 91.0",
          "skill_dribbling = 96.0",
          "+ all other factors"
         ],
         "yaxis": "y"
        },
        {
         "base": 13521218.08208136,
         "hoverinfo": "text",
         "hoverlabel": {
          "bgcolor": "rgba(0,0,0,0.8)"
         },
         "hovertext": [
          "Average response: 13521218<br>Prediction: 106088145<br>overall = 92.0<br>increases average response <br>by 55256183",
          "Average response: 13521218<br>Prediction: 106088145<br>potential = 92.0<br>increases average response <br>by 32384790",
          "Average response: 13521218<br>Prediction: 106088145<br>ram = 89.0<br>increases average response <br>by 800378",
          "Average response: 13521218<br>Prediction: 106088145<br>age = 32.0<br>decreases average response <br>by 772090",
          "Average response: 13521218<br>Prediction: 106088145<br>movement_reactions = 93.0<br>increases average response <br>by 709329",
          "Average response: 13521218<br>Prediction: 106088145<br>lam = 89.0<br>increases average response <br>by 630730",
          "Average response: 13521218<br>Prediction: 106088145<br>mentality_composure = 88.0<br>increases average response <br>by 538728",
          "Average response: 13521218<br>Prediction: 106088145<br>attacking_short_passing = 85.0<br>increases average response <br>by 464302",
          "Average response: 13521218<br>Prediction: 106088145<br>cam = 89.0<br>increases average response <br>by 413749",
          "Average response: 13521218<br>Prediction: 106088145<br>+ all other factors<br>increases average response <br>by 2140827"
         ],
         "marker": {
          "color": [
           "#8bdcbe",
           "#8bdcbe",
           "#8bdcbe",
           "#f05a71",
           "#8bdcbe",
           "#8bdcbe",
           "#8bdcbe",
           "#8bdcbe",
           "#8bdcbe",
           "#8bdcbe"
          ]
         },
         "orientation": "h",
         "showlegend": false,
         "text": [
          "+55256183",
          "+32384790",
          "+800378",
          "-772090",
          "+709329",
          "+630730",
          "+538728",
          "+464302",
          "+413749",
          "+2140827"
         ],
         "textposition": "outside",
         "type": "bar",
         "x": [
          55256183,
          32384790,
          800378,
          -772090,
          709329,
          630730,
          538728,
          464302,
          413749,
          2140827
         ],
         "xaxis": "x2",
         "y": [
          "overall = 92.0",
          "potential = 92.0",
          "ram = 89.0",
          "age = 32.0",
          "movement_reactions = 93.0",
          "lam = 89.0",
          "mentality_composure = 88.0",
          "attacking_short_passing = 85.0",
          "cam = 89.0",
          "+ all other factors"
         ],
         "yaxis": "y2"
        },
        {
         "base": 13521218.08208136,
         "hoverinfo": "text",
         "hoverlabel": {
          "bgcolor": "rgba(0,0,0,0.8)"
         },
         "hovertext": [
          "Average response: 13521218<br>Prediction: 89304718<br>overall = 91.0<br>increases average response <br>by 54554199",
          "Average response: 13521218<br>Prediction: 89304718<br>potential = 91.0<br>increases average response <br>by 23043043",
          "Average response: 13521218<br>Prediction: 89304718<br>age = 36.0<br>decreases average response <br>by 2367914",
          "Average response: 13521218<br>Prediction: 89304718<br>ram = 89.0<br>increases average response <br>by 840005",
          "Average response: 13521218<br>Prediction: 89304718<br>lam = 89.0<br>increases average response <br>by 629934",
          "Average response: 13521218<br>Prediction: 89304718<br>movement_reactions = 94.0<br>increases average response <br>by 605605",
          "Average response: 13521218<br>Prediction: 89304718<br>mentality_positioning = 95.0<br>decreases average response <br>by 582211",
          "Average response: 13521218<br>Prediction: 89304718<br>power_shot_power = 94.0<br>decreases average response <br>by 579626",
          "Average response: 13521218<br>Prediction: 89304718<br>cam = 89.0<br>increases average response <br>by 486837",
          "Average response: 13521218<br>Prediction: 89304718<br>+ all other factors<br>decreases average response <br>by 846372"
         ],
         "marker": {
          "color": [
           "#8bdcbe",
           "#8bdcbe",
           "#f05a71",
           "#8bdcbe",
           "#8bdcbe",
           "#8bdcbe",
           "#f05a71",
           "#f05a71",
           "#8bdcbe",
           "#f05a71"
          ]
         },
         "orientation": "h",
         "showlegend": false,
         "text": [
          "+54554199",
          "+23043043",
          "-2367914",
          "+840005",
          "+629934",
          "+605605",
          "-582211",
          "-579626",
          "+486837",
          "-846372"
         ],
         "textposition": "outside",
         "type": "bar",
         "x": [
          54554199,
          23043043,
          -2367914,
          840005,
          629934,
          605605,
          -582211,
          -579626,
          486837,
          -846372
         ],
         "xaxis": "x3",
         "y": [
          "overall = 91.0",
          "potential = 91.0",
          "age = 36.0",
          "ram = 89.0",
          "lam = 89.0",
          "movement_reactions = 94.0",
          "mentality_positioning = 95.0",
          "power_shot_power = 94.0",
          "cam = 89.0",
          "+ all other factors"
         ],
         "yaxis": "y3"
        }
       ],
       "layout": {
        "annotations": [
         {
          "font": {
           "size": 16
          },
          "showarrow": false,
          "text": "L. Messi",
          "x": 0.5,
          "xanchor": "center",
          "xref": "paper",
          "y": 1,
          "yanchor": "bottom",
          "yref": "paper"
         },
         {
          "font": {
           "size": 16
          },
          "showarrow": false,
          "text": "R. Lewandowski",
          "x": 0.5,
          "xanchor": "center",
          "xref": "paper",
          "y": 0.6444444444444445,
          "yanchor": "bottom",
          "yref": "paper"
         },
         {
          "font": {
           "size": 16
          },
          "showarrow": false,
          "text": "Cristiano Ronaldo",
          "x": 0.5,
          "xanchor": "center",
          "xref": "paper",
          "y": 0.2888888888888889,
          "yanchor": "bottom",
          "yref": "paper"
         },
         {
          "font": {
           "size": 16
          },
          "showarrow": false,
          "text": "contribution",
          "x": 0.5,
          "xanchor": "center",
          "xref": "paper",
          "y": 0,
          "yanchor": "top",
          "yref": "paper",
          "yshift": -30
         }
        ],
        "font": {
         "color": "#371ea3"
        },
        "height": 961,
        "margin": {
         "b": 71,
         "r": 30,
         "t": 78
        },
        "shapes": [
         {
          "line": {
           "color": "#371ea3",
           "dash": "dot",
           "width": 1.5
          },
          "type": "line",
          "x0": 13521218.08208136,
          "x1": 13521218.08208136,
          "xref": "x",
          "y0": -1,
          "y1": 11,
          "yref": "y"
         },
         {
          "line": {
           "color": "#371ea3",
           "dash": "dot",
           "width": 1.5
          },
          "type": "line",
          "x0": 13521218.08208136,
          "x1": 13521218.08208136,
          "xref": "x2",
          "y0": -1,
          "y1": 11,
          "yref": "y2"
         },
         {
          "line": {
           "color": "#371ea3",
           "dash": "dot",
           "width": 1.5
          },
          "type": "line",
          "x0": 13521218.08208136,
          "x1": 13521218.08208136,
          "xref": "x3",
          "y0": -1,
          "y1": 11,
          "yref": "y3"
         }
        ],
        "template": {
         "data": {
          "scatter": [
           {
            "type": "scatter"
           }
          ]
         }
        },
        "title": {
         "text": "Shapley Values",
         "x": 0.15
        },
        "xaxis": {
         "anchor": "y",
         "automargin": true,
         "domain": [
          0,
          1
         ],
         "fixedrange": true,
         "gridwidth": 2,
         "matches": "x3",
         "range": [
          1904347.732081361,
          77181642.03208137
         ],
         "showticklabels": false,
         "tickcolor": "white",
         "ticklen": 3,
         "ticks": "outside",
         "type": "linear",
         "zeroline": false
        },
        "xaxis2": {
         "anchor": "y2",
         "automargin": true,
         "domain": [
          0,
          1
         ],
         "fixedrange": true,
         "gridwidth": 2,
         "matches": "x3",
         "range": [
          1904347.732081361,
          77181642.03208137
         ],
         "showticklabels": false,
         "tickcolor": "white",
         "ticklen": 3,
         "ticks": "outside",
         "type": "linear",
         "zeroline": false
        },
        "xaxis3": {
         "anchor": "y3",
         "automargin": true,
         "domain": [
          0,
          1
         ],
         "fixedrange": true,
         "gridwidth": 2,
         "range": [
          1904347.732081361,
          77181642.03208137
         ],
         "tickcolor": "white",
         "ticklen": 3,
         "ticks": "outside",
         "type": "linear",
         "zeroline": false
        },
        "yaxis": {
         "anchor": "x",
         "automargin": true,
         "autorange": "reversed",
         "domain": [
          0.7111111111111111,
          1
         ],
         "fixedrange": true,
         "gridwidth": 2,
         "tickcolor": "white",
         "ticklen": 10,
         "ticks": "outside",
         "type": "category"
        },
        "yaxis2": {
         "anchor": "x2",
         "automargin": true,
         "autorange": "reversed",
         "domain": [
          0.35555555555555557,
          0.6444444444444445
         ],
         "fixedrange": true,
         "gridwidth": 2,
         "tickcolor": "white",
         "ticklen": 10,
         "ticks": "outside",
         "type": "category"
        },
        "yaxis3": {
         "anchor": "x3",
         "automargin": true,
         "autorange": "reversed",
         "domain": [
          0,
          0.2888888888888889
         ],
         "fixedrange": true,
         "gridwidth": 2,
         "tickcolor": "white",
         "ticklen": 10,
         "ticks": "outside",
         "type": "category"
        }
       }
      },
      "text/html": [
       "<div>                            <div id=\"107a75b8-2dab-404a-b9e9-6e423f7f2805\" class=\"plotly-graph-div\" style=\"height:961.0px; width:100%;\"></div>            <script type=\"text/javascript\">                require([\"plotly\"], function(Plotly) {                    window.PLOTLYENV=window.PLOTLYENV || {};                                    if (document.getElementById(\"107a75b8-2dab-404a-b9e9-6e423f7f2805\")) {                    Plotly.newPlot(                        \"107a75b8-2dab-404a-b9e9-6e423f7f2805\",                        [{\"base\":13521218.08208136,\"hoverinfo\":\"text\",\"hoverlabel\":{\"bgcolor\":\"rgba(0,0,0,0.8)\"},\"hovertext\":[\"Average response: 13521218<br>Prediction: 106914554<br>potential = 93.0<br>increases average response <br>by 46586503\",\"Average response: 13521218<br>Prediction: 106914554<br>overall = 93.0<br>increases average response <br>by 43954103\",\"Average response: 13521218<br>Prediction: 106914554<br>age = 34.0<br>decreases average response <br>by 4025126\",\"Average response: 13521218<br>Prediction: 106914554<br>ram = 93.0<br>increases average response <br>by 1287837\",\"Average response: 13521218<br>Prediction: 106914554<br>lam = 93.0<br>increases average response <br>by 570966\",\"Average response: 13521218<br>Prediction: 106914554<br>skill_ball_control = 96.0<br>increases average response <br>by 543832\",\"Average response: 13521218<br>Prediction: 106914554<br>cam = 93.0<br>increases average response <br>by 506036\",\"Average response: 13521218<br>Prediction: 106914554<br>attacking_short_passing = 91.0<br>increases average response <br>by 415524\",\"Average response: 13521218<br>Prediction: 106914554<br>skill_dribbling = 96.0<br>increases average response <br>by 375585\",\"Average response: 13521218<br>Prediction: 106914554<br>+ all other factors<br>increases average response <br>by 3178076\"],\"marker\":{\"color\":[\"#8bdcbe\",\"#8bdcbe\",\"#f05a71\",\"#8bdcbe\",\"#8bdcbe\",\"#8bdcbe\",\"#8bdcbe\",\"#8bdcbe\",\"#8bdcbe\",\"#8bdcbe\"]},\"orientation\":\"h\",\"showlegend\":false,\"text\":[\"+46586503\",\"+43954103\",\"-4025126\",\"+1287837\",\"+570966\",\"+543832\",\"+506036\",\"+415524\",\"+375585\",\"+3178076\"],\"textposition\":\"outside\",\"x\":[46586503,43954103,-4025126,1287837,570966,543832,506036,415524,375585,3178076],\"y\":[\"potential = 93.0\",\"overall = 93.0\",\"age = 34.0\",\"ram = 93.0\",\"lam = 93.0\",\"skill_ball_control = 96.0\",\"cam = 93.0\",\"attacking_short_passing = 91.0\",\"skill_dribbling = 96.0\",\"+ all other factors\"],\"type\":\"bar\",\"xaxis\":\"x\",\"yaxis\":\"y\"},{\"base\":13521218.08208136,\"hoverinfo\":\"text\",\"hoverlabel\":{\"bgcolor\":\"rgba(0,0,0,0.8)\"},\"hovertext\":[\"Average response: 13521218<br>Prediction: 106088145<br>overall = 92.0<br>increases average response <br>by 55256183\",\"Average response: 13521218<br>Prediction: 106088145<br>potential = 92.0<br>increases average response <br>by 32384790\",\"Average response: 13521218<br>Prediction: 106088145<br>ram = 89.0<br>increases average response <br>by 800378\",\"Average response: 13521218<br>Prediction: 106088145<br>age = 32.0<br>decreases average response <br>by 772090\",\"Average response: 13521218<br>Prediction: 106088145<br>movement_reactions = 93.0<br>increases average response <br>by 709329\",\"Average response: 13521218<br>Prediction: 106088145<br>lam = 89.0<br>increases average response <br>by 630730\",\"Average response: 13521218<br>Prediction: 106088145<br>mentality_composure = 88.0<br>increases average response <br>by 538728\",\"Average response: 13521218<br>Prediction: 106088145<br>attacking_short_passing = 85.0<br>increases average response <br>by 464302\",\"Average response: 13521218<br>Prediction: 106088145<br>cam = 89.0<br>increases average response <br>by 413749\",\"Average response: 13521218<br>Prediction: 106088145<br>+ all other factors<br>increases average response <br>by 2140827\"],\"marker\":{\"color\":[\"#8bdcbe\",\"#8bdcbe\",\"#8bdcbe\",\"#f05a71\",\"#8bdcbe\",\"#8bdcbe\",\"#8bdcbe\",\"#8bdcbe\",\"#8bdcbe\",\"#8bdcbe\"]},\"orientation\":\"h\",\"showlegend\":false,\"text\":[\"+55256183\",\"+32384790\",\"+800378\",\"-772090\",\"+709329\",\"+630730\",\"+538728\",\"+464302\",\"+413749\",\"+2140827\"],\"textposition\":\"outside\",\"x\":[55256183,32384790,800378,-772090,709329,630730,538728,464302,413749,2140827],\"y\":[\"overall = 92.0\",\"potential = 92.0\",\"ram = 89.0\",\"age = 32.0\",\"movement_reactions = 93.0\",\"lam = 89.0\",\"mentality_composure = 88.0\",\"attacking_short_passing = 85.0\",\"cam = 89.0\",\"+ all other factors\"],\"type\":\"bar\",\"xaxis\":\"x2\",\"yaxis\":\"y2\"},{\"base\":13521218.08208136,\"hoverinfo\":\"text\",\"hoverlabel\":{\"bgcolor\":\"rgba(0,0,0,0.8)\"},\"hovertext\":[\"Average response: 13521218<br>Prediction: 89304718<br>overall = 91.0<br>increases average response <br>by 54554199\",\"Average response: 13521218<br>Prediction: 89304718<br>potential = 91.0<br>increases average response <br>by 23043043\",\"Average response: 13521218<br>Prediction: 89304718<br>age = 36.0<br>decreases average response <br>by 2367914\",\"Average response: 13521218<br>Prediction: 89304718<br>ram = 89.0<br>increases average response <br>by 840005\",\"Average response: 13521218<br>Prediction: 89304718<br>lam = 89.0<br>increases average response <br>by 629934\",\"Average response: 13521218<br>Prediction: 89304718<br>movement_reactions = 94.0<br>increases average response <br>by 605605\",\"Average response: 13521218<br>Prediction: 89304718<br>mentality_positioning = 95.0<br>decreases average response <br>by 582211\",\"Average response: 13521218<br>Prediction: 89304718<br>power_shot_power = 94.0<br>decreases average response <br>by 579626\",\"Average response: 13521218<br>Prediction: 89304718<br>cam = 89.0<br>increases average response <br>by 486837\",\"Average response: 13521218<br>Prediction: 89304718<br>+ all other factors<br>decreases average response <br>by 846372\"],\"marker\":{\"color\":[\"#8bdcbe\",\"#8bdcbe\",\"#f05a71\",\"#8bdcbe\",\"#8bdcbe\",\"#8bdcbe\",\"#f05a71\",\"#f05a71\",\"#8bdcbe\",\"#f05a71\"]},\"orientation\":\"h\",\"showlegend\":false,\"text\":[\"+54554199\",\"+23043043\",\"-2367914\",\"+840005\",\"+629934\",\"+605605\",\"-582211\",\"-579626\",\"+486837\",\"-846372\"],\"textposition\":\"outside\",\"x\":[54554199,23043043,-2367914,840005,629934,605605,-582211,-579626,486837,-846372],\"y\":[\"overall = 91.0\",\"potential = 91.0\",\"age = 36.0\",\"ram = 89.0\",\"lam = 89.0\",\"movement_reactions = 94.0\",\"mentality_positioning = 95.0\",\"power_shot_power = 94.0\",\"cam = 89.0\",\"+ all other factors\"],\"type\":\"bar\",\"xaxis\":\"x3\",\"yaxis\":\"y3\"}],                        {\"template\":{\"data\":{\"scatter\":[{\"type\":\"scatter\"}]}},\"xaxis\":{\"anchor\":\"y\",\"domain\":[0.0,1.0],\"matches\":\"x3\",\"showticklabels\":false,\"type\":\"linear\",\"gridwidth\":2,\"zeroline\":false,\"automargin\":true,\"ticks\":\"outside\",\"tickcolor\":\"white\",\"ticklen\":3,\"fixedrange\":true,\"range\":[1904347.732081361,77181642.03208137]},\"yaxis\":{\"anchor\":\"x\",\"domain\":[0.7111111111111111,1.0],\"type\":\"category\",\"autorange\":\"reversed\",\"gridwidth\":2,\"automargin\":true,\"ticks\":\"outside\",\"tickcolor\":\"white\",\"ticklen\":10,\"fixedrange\":true},\"xaxis2\":{\"anchor\":\"y2\",\"domain\":[0.0,1.0],\"matches\":\"x3\",\"showticklabels\":false,\"type\":\"linear\",\"gridwidth\":2,\"zeroline\":false,\"automargin\":true,\"ticks\":\"outside\",\"tickcolor\":\"white\",\"ticklen\":3,\"fixedrange\":true,\"range\":[1904347.732081361,77181642.03208137]},\"yaxis2\":{\"anchor\":\"x2\",\"domain\":[0.35555555555555557,0.6444444444444445],\"type\":\"category\",\"autorange\":\"reversed\",\"gridwidth\":2,\"automargin\":true,\"ticks\":\"outside\",\"tickcolor\":\"white\",\"ticklen\":10,\"fixedrange\":true},\"xaxis3\":{\"anchor\":\"y3\",\"domain\":[0.0,1.0],\"type\":\"linear\",\"gridwidth\":2,\"zeroline\":false,\"automargin\":true,\"ticks\":\"outside\",\"tickcolor\":\"white\",\"ticklen\":3,\"fixedrange\":true,\"range\":[1904347.732081361,77181642.03208137]},\"yaxis3\":{\"anchor\":\"x3\",\"domain\":[0.0,0.2888888888888889],\"type\":\"category\",\"autorange\":\"reversed\",\"gridwidth\":2,\"automargin\":true,\"ticks\":\"outside\",\"tickcolor\":\"white\",\"ticklen\":10,\"fixedrange\":true},\"annotations\":[{\"font\":{\"size\":16},\"showarrow\":false,\"text\":\"L. Messi\",\"x\":0.5,\"xanchor\":\"center\",\"xref\":\"paper\",\"y\":1.0,\"yanchor\":\"bottom\",\"yref\":\"paper\"},{\"font\":{\"size\":16},\"showarrow\":false,\"text\":\"R. Lewandowski\",\"x\":0.5,\"xanchor\":\"center\",\"xref\":\"paper\",\"y\":0.6444444444444445,\"yanchor\":\"bottom\",\"yref\":\"paper\"},{\"font\":{\"size\":16},\"showarrow\":false,\"text\":\"Cristiano Ronaldo\",\"x\":0.5,\"xanchor\":\"center\",\"xref\":\"paper\",\"y\":0.2888888888888889,\"yanchor\":\"bottom\",\"yref\":\"paper\"},{\"font\":{\"size\":16},\"showarrow\":false,\"text\":\"contribution\",\"x\":0.5,\"xanchor\":\"center\",\"xref\":\"paper\",\"y\":0,\"yanchor\":\"top\",\"yref\":\"paper\",\"yshift\":-30}],\"shapes\":[{\"line\":{\"color\":\"#371ea3\",\"dash\":\"dot\",\"width\":1.5},\"type\":\"line\",\"x0\":13521218.08208136,\"x1\":13521218.08208136,\"xref\":\"x\",\"y0\":-1,\"y1\":11,\"yref\":\"y\"},{\"line\":{\"color\":\"#371ea3\",\"dash\":\"dot\",\"width\":1.5},\"type\":\"line\",\"x0\":13521218.08208136,\"x1\":13521218.08208136,\"xref\":\"x2\",\"y0\":-1,\"y1\":11,\"yref\":\"y2\"},{\"line\":{\"color\":\"#371ea3\",\"dash\":\"dot\",\"width\":1.5},\"type\":\"line\",\"x0\":13521218.08208136,\"x1\":13521218.08208136,\"xref\":\"x3\",\"y0\":-1,\"y1\":11,\"yref\":\"y3\"}],\"title\":{\"text\":\"Shapley Values\",\"x\":0.15},\"font\":{\"color\":\"#371ea3\"},\"margin\":{\"t\":78,\"b\":71,\"r\":30},\"height\":961.0},                        {\"displaylogo\": false, \"staticPlot\": false, \"toImageButtonOptions\": {\"height\": null, \"width\": null}, \"modeBarButtonsToRemove\": [\"sendDataToCloud\", \"lasso2d\", \"autoScale2d\", \"select2d\", \"zoom2d\", \"pan2d\", \"zoomIn2d\", \"zoomOut2d\", \"resetScale2d\", \"toggleSpikelines\", \"hoverCompareCartesian\", \"hoverClosestCartesian\"], \"responsive\": true}                    ).then(function(){\n",
       "                            \n",
       "var gd = document.getElementById('107a75b8-2dab-404a-b9e9-6e423f7f2805');\n",
       "var x = new MutationObserver(function (mutations, observer) {{\n",
       "        var display = window.getComputedStyle(gd).display;\n",
       "        if (!display || display === 'none') {{\n",
       "            console.log([gd, 'removed!']);\n",
       "            Plotly.purge(gd);\n",
       "            observer.disconnect();\n",
       "        }}\n",
       "}});\n",
       "\n",
       "// Listen for the removal of the full notebook cells\n",
       "var notebookContainer = gd.closest('#notebook-container');\n",
       "if (notebookContainer) {{\n",
       "    x.observe(notebookContainer, {childList: true});\n",
       "}}\n",
       "\n",
       "// Listen for the clearing of the current output cell\n",
       "var outputEl = gd.closest('.output');\n",
       "if (outputEl) {{\n",
       "    x.observe(outputEl, {childList: true});\n",
       "}}\n",
       "\n",
       "                        })                };                });            </script>        </div>"
      ]
     },
     "metadata": {},
     "output_type": "display_data"
    }
   ],
   "source": [
    "va['sh'][0].plot(va['sh'][1:3],\n",
    "                 rounding_function=lambda x, digits: np.rint(x, digits).astype(np.int),\n",
    "                 digits=None, max_vars=10)"
   ]
  },
  {
   "cell_type": "code",
   "execution_count": null,
   "metadata": {},
   "outputs": [],
   "source": [
    "# Ceteris Paribus Profiles"
   ]
  },
  {
   "cell_type": "code",
   "execution_count": 163,
   "metadata": {},
   "outputs": [
    {
     "name": "stderr",
     "output_type": "stream",
     "text": [
      "Calculating ceteris paribus: 100%|█████████████████████████████████████████████| 2/2 [00:00<00:00, 15.33it/s]\n"
     ]
    },
    {
     "data": {
      "application/vnd.plotly.v1+json": {
       "config": {
        "displaylogo": false,
        "modeBarButtonsToRemove": [
         "sendDataToCloud",
         "lasso2d",
         "autoScale2d",
         "select2d",
         "zoom2d",
         "pan2d",
         "zoomIn2d",
         "zoomOut2d",
         "resetScale2d",
         "toggleSpikelines",
         "hoverCompareCartesian",
         "hoverClosestCartesian"
        ],
        "plotlyServerURL": "https://plot.ly",
        "staticPlot": false,
        "toImageButtonOptions": {
         "height": null,
         "width": null
        }
       },
       "data": [
        {
         "customdata": [
          [
           "</br>id: 2</br>prediction: 93839686.558</br>age: 17.0</br></br>overall: 91</br>potential: 91</br>weak_foot: 4</br>skill_moves: 5</br>international_reputation: 5</br>pace: 87.0</br>shooting: 94.0</br>passing: 80.0</br>dribbling: 88.0</br>defending: 34.0</br>physic: 75.0</br>attacking_crossing: 87</br>attacking_finishing: 95</br>attacking_heading_accuracy: 90</br>attacking_short_passing: 80</br>attacking_volleys: 86</br>skill_dribbling: 88</br>skill_curve: 81</br>skill_fk_accuracy: 84</br>skill_long_passing: 77</br>... too many variables"
          ],
          [
           "</br>id: 2</br>prediction: 93839686.558</br>age: 17.21</br></br>overall: 91</br>potential: 91</br>weak_foot: 4</br>skill_moves: 5</br>international_reputation: 5</br>pace: 87.0</br>shooting: 94.0</br>passing: 80.0</br>dribbling: 88.0</br>defending: 34.0</br>physic: 75.0</br>attacking_crossing: 87</br>attacking_finishing: 95</br>attacking_heading_accuracy: 90</br>attacking_short_passing: 80</br>attacking_volleys: 86</br>skill_dribbling: 88</br>skill_curve: 81</br>skill_fk_accuracy: 84</br>skill_long_passing: 77</br>... too many variables"
          ],
          [
           "</br>id: 2</br>prediction: 93839686.558</br>age: 17.42</br></br>overall: 91</br>potential: 91</br>weak_foot: 4</br>skill_moves: 5</br>international_reputation: 5</br>pace: 87.0</br>shooting: 94.0</br>passing: 80.0</br>dribbling: 88.0</br>defending: 34.0</br>physic: 75.0</br>attacking_crossing: 87</br>attacking_finishing: 95</br>attacking_heading_accuracy: 90</br>attacking_short_passing: 80</br>attacking_volleys: 86</br>skill_dribbling: 88</br>skill_curve: 81</br>skill_fk_accuracy: 84</br>skill_long_passing: 77</br>... too many variables"
          ],
          [
           "</br>id: 2</br>prediction: 93839686.558</br>age: 17.63</br></br>overall: 91</br>potential: 91</br>weak_foot: 4</br>skill_moves: 5</br>international_reputation: 5</br>pace: 87.0</br>shooting: 94.0</br>passing: 80.0</br>dribbling: 88.0</br>defending: 34.0</br>physic: 75.0</br>attacking_crossing: 87</br>attacking_finishing: 95</br>attacking_heading_accuracy: 90</br>attacking_short_passing: 80</br>attacking_volleys: 86</br>skill_dribbling: 88</br>skill_curve: 81</br>skill_fk_accuracy: 84</br>skill_long_passing: 77</br>... too many variables"
          ],
          [
           "</br>id: 2</br>prediction: 93839686.558</br>age: 17.84</br></br>overall: 91</br>potential: 91</br>weak_foot: 4</br>skill_moves: 5</br>international_reputation: 5</br>pace: 87.0</br>shooting: 94.0</br>passing: 80.0</br>dribbling: 88.0</br>defending: 34.0</br>physic: 75.0</br>attacking_crossing: 87</br>attacking_finishing: 95</br>attacking_heading_accuracy: 90</br>attacking_short_passing: 80</br>attacking_volleys: 86</br>skill_dribbling: 88</br>skill_curve: 81</br>skill_fk_accuracy: 84</br>skill_long_passing: 77</br>... too many variables"
          ],
          [
           "</br>id: 2</br>prediction: 93839686.558</br>age: 18.05</br></br>overall: 91</br>potential: 91</br>weak_foot: 4</br>skill_moves: 5</br>international_reputation: 5</br>pace: 87.0</br>shooting: 94.0</br>passing: 80.0</br>dribbling: 88.0</br>defending: 34.0</br>physic: 75.0</br>attacking_crossing: 87</br>attacking_finishing: 95</br>attacking_heading_accuracy: 90</br>attacking_short_passing: 80</br>attacking_volleys: 86</br>skill_dribbling: 88</br>skill_curve: 81</br>skill_fk_accuracy: 84</br>skill_long_passing: 77</br>... too many variables"
          ],
          [
           "</br>id: 2</br>prediction: 93839686.558</br>age: 18.26</br></br>overall: 91</br>potential: 91</br>weak_foot: 4</br>skill_moves: 5</br>international_reputation: 5</br>pace: 87.0</br>shooting: 94.0</br>passing: 80.0</br>dribbling: 88.0</br>defending: 34.0</br>physic: 75.0</br>attacking_crossing: 87</br>attacking_finishing: 95</br>attacking_heading_accuracy: 90</br>attacking_short_passing: 80</br>attacking_volleys: 86</br>skill_dribbling: 88</br>skill_curve: 81</br>skill_fk_accuracy: 84</br>skill_long_passing: 77</br>... too many variables"
          ],
          [
           "</br>id: 2</br>prediction: 93839686.558</br>age: 18.47</br></br>overall: 91</br>potential: 91</br>weak_foot: 4</br>skill_moves: 5</br>international_reputation: 5</br>pace: 87.0</br>shooting: 94.0</br>passing: 80.0</br>dribbling: 88.0</br>defending: 34.0</br>physic: 75.0</br>attacking_crossing: 87</br>attacking_finishing: 95</br>attacking_heading_accuracy: 90</br>attacking_short_passing: 80</br>attacking_volleys: 86</br>skill_dribbling: 88</br>skill_curve: 81</br>skill_fk_accuracy: 84</br>skill_long_passing: 77</br>... too many variables"
          ],
          [
           "</br>id: 2</br>prediction: 93839686.558</br>age: 18.68</br></br>overall: 91</br>potential: 91</br>weak_foot: 4</br>skill_moves: 5</br>international_reputation: 5</br>pace: 87.0</br>shooting: 94.0</br>passing: 80.0</br>dribbling: 88.0</br>defending: 34.0</br>physic: 75.0</br>attacking_crossing: 87</br>attacking_finishing: 95</br>attacking_heading_accuracy: 90</br>attacking_short_passing: 80</br>attacking_volleys: 86</br>skill_dribbling: 88</br>skill_curve: 81</br>skill_fk_accuracy: 84</br>skill_long_passing: 77</br>... too many variables"
          ],
          [
           "</br>id: 2</br>prediction: 93839686.558</br>age: 18.89</br></br>overall: 91</br>potential: 91</br>weak_foot: 4</br>skill_moves: 5</br>international_reputation: 5</br>pace: 87.0</br>shooting: 94.0</br>passing: 80.0</br>dribbling: 88.0</br>defending: 34.0</br>physic: 75.0</br>attacking_crossing: 87</br>attacking_finishing: 95</br>attacking_heading_accuracy: 90</br>attacking_short_passing: 80</br>attacking_volleys: 86</br>skill_dribbling: 88</br>skill_curve: 81</br>skill_fk_accuracy: 84</br>skill_long_passing: 77</br>... too many variables"
          ],
          [
           "</br>id: 2</br>prediction: 93839686.558</br>age: 19.1</br></br>overall: 91</br>potential: 91</br>weak_foot: 4</br>skill_moves: 5</br>international_reputation: 5</br>pace: 87.0</br>shooting: 94.0</br>passing: 80.0</br>dribbling: 88.0</br>defending: 34.0</br>physic: 75.0</br>attacking_crossing: 87</br>attacking_finishing: 95</br>attacking_heading_accuracy: 90</br>attacking_short_passing: 80</br>attacking_volleys: 86</br>skill_dribbling: 88</br>skill_curve: 81</br>skill_fk_accuracy: 84</br>skill_long_passing: 77</br>... too many variables"
          ],
          [
           "</br>id: 2</br>prediction: 93839686.558</br>age: 19.31</br></br>overall: 91</br>potential: 91</br>weak_foot: 4</br>skill_moves: 5</br>international_reputation: 5</br>pace: 87.0</br>shooting: 94.0</br>passing: 80.0</br>dribbling: 88.0</br>defending: 34.0</br>physic: 75.0</br>attacking_crossing: 87</br>attacking_finishing: 95</br>attacking_heading_accuracy: 90</br>attacking_short_passing: 80</br>attacking_volleys: 86</br>skill_dribbling: 88</br>skill_curve: 81</br>skill_fk_accuracy: 84</br>skill_long_passing: 77</br>... too many variables"
          ],
          [
           "</br>id: 2</br>prediction: 93839686.558</br>age: 19.52</br></br>overall: 91</br>potential: 91</br>weak_foot: 4</br>skill_moves: 5</br>international_reputation: 5</br>pace: 87.0</br>shooting: 94.0</br>passing: 80.0</br>dribbling: 88.0</br>defending: 34.0</br>physic: 75.0</br>attacking_crossing: 87</br>attacking_finishing: 95</br>attacking_heading_accuracy: 90</br>attacking_short_passing: 80</br>attacking_volleys: 86</br>skill_dribbling: 88</br>skill_curve: 81</br>skill_fk_accuracy: 84</br>skill_long_passing: 77</br>... too many variables"
          ],
          [
           "</br>id: 2</br>prediction: 93839686.558</br>age: 19.73</br></br>overall: 91</br>potential: 91</br>weak_foot: 4</br>skill_moves: 5</br>international_reputation: 5</br>pace: 87.0</br>shooting: 94.0</br>passing: 80.0</br>dribbling: 88.0</br>defending: 34.0</br>physic: 75.0</br>attacking_crossing: 87</br>attacking_finishing: 95</br>attacking_heading_accuracy: 90</br>attacking_short_passing: 80</br>attacking_volleys: 86</br>skill_dribbling: 88</br>skill_curve: 81</br>skill_fk_accuracy: 84</br>skill_long_passing: 77</br>... too many variables"
          ],
          [
           "</br>id: 2</br>prediction: 93839686.558</br>age: 19.94</br></br>overall: 91</br>potential: 91</br>weak_foot: 4</br>skill_moves: 5</br>international_reputation: 5</br>pace: 87.0</br>shooting: 94.0</br>passing: 80.0</br>dribbling: 88.0</br>defending: 34.0</br>physic: 75.0</br>attacking_crossing: 87</br>attacking_finishing: 95</br>attacking_heading_accuracy: 90</br>attacking_short_passing: 80</br>attacking_volleys: 86</br>skill_dribbling: 88</br>skill_curve: 81</br>skill_fk_accuracy: 84</br>skill_long_passing: 77</br>... too many variables"
          ],
          [
           "</br>id: 2</br>prediction: 93839686.558</br>age: 20.15</br></br>overall: 91</br>potential: 91</br>weak_foot: 4</br>skill_moves: 5</br>international_reputation: 5</br>pace: 87.0</br>shooting: 94.0</br>passing: 80.0</br>dribbling: 88.0</br>defending: 34.0</br>physic: 75.0</br>attacking_crossing: 87</br>attacking_finishing: 95</br>attacking_heading_accuracy: 90</br>attacking_short_passing: 80</br>attacking_volleys: 86</br>skill_dribbling: 88</br>skill_curve: 81</br>skill_fk_accuracy: 84</br>skill_long_passing: 77</br>... too many variables"
          ],
          [
           "</br>id: 2</br>prediction: 93839686.558</br>age: 20.36</br></br>overall: 91</br>potential: 91</br>weak_foot: 4</br>skill_moves: 5</br>international_reputation: 5</br>pace: 87.0</br>shooting: 94.0</br>passing: 80.0</br>dribbling: 88.0</br>defending: 34.0</br>physic: 75.0</br>attacking_crossing: 87</br>attacking_finishing: 95</br>attacking_heading_accuracy: 90</br>attacking_short_passing: 80</br>attacking_volleys: 86</br>skill_dribbling: 88</br>skill_curve: 81</br>skill_fk_accuracy: 84</br>skill_long_passing: 77</br>... too many variables"
          ],
          [
           "</br>id: 2</br>prediction: 93830825.799</br>age: 20.57</br></br>overall: 91</br>potential: 91</br>weak_foot: 4</br>skill_moves: 5</br>international_reputation: 5</br>pace: 87.0</br>shooting: 94.0</br>passing: 80.0</br>dribbling: 88.0</br>defending: 34.0</br>physic: 75.0</br>attacking_crossing: 87</br>attacking_finishing: 95</br>attacking_heading_accuracy: 90</br>attacking_short_passing: 80</br>attacking_volleys: 86</br>skill_dribbling: 88</br>skill_curve: 81</br>skill_fk_accuracy: 84</br>skill_long_passing: 77</br>... too many variables"
          ],
          [
           "</br>id: 2</br>prediction: 93830825.799</br>age: 20.78</br></br>overall: 91</br>potential: 91</br>weak_foot: 4</br>skill_moves: 5</br>international_reputation: 5</br>pace: 87.0</br>shooting: 94.0</br>passing: 80.0</br>dribbling: 88.0</br>defending: 34.0</br>physic: 75.0</br>attacking_crossing: 87</br>attacking_finishing: 95</br>attacking_heading_accuracy: 90</br>attacking_short_passing: 80</br>attacking_volleys: 86</br>skill_dribbling: 88</br>skill_curve: 81</br>skill_fk_accuracy: 84</br>skill_long_passing: 77</br>... too many variables"
          ],
          [
           "</br>id: 2</br>prediction: 93830825.799</br>age: 20.99</br></br>overall: 91</br>potential: 91</br>weak_foot: 4</br>skill_moves: 5</br>international_reputation: 5</br>pace: 87.0</br>shooting: 94.0</br>passing: 80.0</br>dribbling: 88.0</br>defending: 34.0</br>physic: 75.0</br>attacking_crossing: 87</br>attacking_finishing: 95</br>attacking_heading_accuracy: 90</br>attacking_short_passing: 80</br>attacking_volleys: 86</br>skill_dribbling: 88</br>skill_curve: 81</br>skill_fk_accuracy: 84</br>skill_long_passing: 77</br>... too many variables"
          ],
          [
           "</br>id: 2</br>prediction: 93830825.799</br>age: 21.2</br></br>overall: 91</br>potential: 91</br>weak_foot: 4</br>skill_moves: 5</br>international_reputation: 5</br>pace: 87.0</br>shooting: 94.0</br>passing: 80.0</br>dribbling: 88.0</br>defending: 34.0</br>physic: 75.0</br>attacking_crossing: 87</br>attacking_finishing: 95</br>attacking_heading_accuracy: 90</br>attacking_short_passing: 80</br>attacking_volleys: 86</br>skill_dribbling: 88</br>skill_curve: 81</br>skill_fk_accuracy: 84</br>skill_long_passing: 77</br>... too many variables"
          ],
          [
           "</br>id: 2</br>prediction: 93830825.799</br>age: 21.41</br></br>overall: 91</br>potential: 91</br>weak_foot: 4</br>skill_moves: 5</br>international_reputation: 5</br>pace: 87.0</br>shooting: 94.0</br>passing: 80.0</br>dribbling: 88.0</br>defending: 34.0</br>physic: 75.0</br>attacking_crossing: 87</br>attacking_finishing: 95</br>attacking_heading_accuracy: 90</br>attacking_short_passing: 80</br>attacking_volleys: 86</br>skill_dribbling: 88</br>skill_curve: 81</br>skill_fk_accuracy: 84</br>skill_long_passing: 77</br>... too many variables"
          ],
          [
           "</br>id: 2</br>prediction: 93818589.512</br>age: 21.62</br></br>overall: 91</br>potential: 91</br>weak_foot: 4</br>skill_moves: 5</br>international_reputation: 5</br>pace: 87.0</br>shooting: 94.0</br>passing: 80.0</br>dribbling: 88.0</br>defending: 34.0</br>physic: 75.0</br>attacking_crossing: 87</br>attacking_finishing: 95</br>attacking_heading_accuracy: 90</br>attacking_short_passing: 80</br>attacking_volleys: 86</br>skill_dribbling: 88</br>skill_curve: 81</br>skill_fk_accuracy: 84</br>skill_long_passing: 77</br>... too many variables"
          ],
          [
           "</br>id: 2</br>prediction: 93818589.512</br>age: 21.83</br></br>overall: 91</br>potential: 91</br>weak_foot: 4</br>skill_moves: 5</br>international_reputation: 5</br>pace: 87.0</br>shooting: 94.0</br>passing: 80.0</br>dribbling: 88.0</br>defending: 34.0</br>physic: 75.0</br>attacking_crossing: 87</br>attacking_finishing: 95</br>attacking_heading_accuracy: 90</br>attacking_short_passing: 80</br>attacking_volleys: 86</br>skill_dribbling: 88</br>skill_curve: 81</br>skill_fk_accuracy: 84</br>skill_long_passing: 77</br>... too many variables"
          ],
          [
           "</br>id: 2</br>prediction: 93677450.271</br>age: 22.04</br></br>overall: 91</br>potential: 91</br>weak_foot: 4</br>skill_moves: 5</br>international_reputation: 5</br>pace: 87.0</br>shooting: 94.0</br>passing: 80.0</br>dribbling: 88.0</br>defending: 34.0</br>physic: 75.0</br>attacking_crossing: 87</br>attacking_finishing: 95</br>attacking_heading_accuracy: 90</br>attacking_short_passing: 80</br>attacking_volleys: 86</br>skill_dribbling: 88</br>skill_curve: 81</br>skill_fk_accuracy: 84</br>skill_long_passing: 77</br>... too many variables"
          ],
          [
           "</br>id: 2</br>prediction: 93677450.271</br>age: 22.25</br></br>overall: 91</br>potential: 91</br>weak_foot: 4</br>skill_moves: 5</br>international_reputation: 5</br>pace: 87.0</br>shooting: 94.0</br>passing: 80.0</br>dribbling: 88.0</br>defending: 34.0</br>physic: 75.0</br>attacking_crossing: 87</br>attacking_finishing: 95</br>attacking_heading_accuracy: 90</br>attacking_short_passing: 80</br>attacking_volleys: 86</br>skill_dribbling: 88</br>skill_curve: 81</br>skill_fk_accuracy: 84</br>skill_long_passing: 77</br>... too many variables"
          ],
          [
           "</br>id: 2</br>prediction: 93677450.271</br>age: 22.46</br></br>overall: 91</br>potential: 91</br>weak_foot: 4</br>skill_moves: 5</br>international_reputation: 5</br>pace: 87.0</br>shooting: 94.0</br>passing: 80.0</br>dribbling: 88.0</br>defending: 34.0</br>physic: 75.0</br>attacking_crossing: 87</br>attacking_finishing: 95</br>attacking_heading_accuracy: 90</br>attacking_short_passing: 80</br>attacking_volleys: 86</br>skill_dribbling: 88</br>skill_curve: 81</br>skill_fk_accuracy: 84</br>skill_long_passing: 77</br>... too many variables"
          ],
          [
           "</br>id: 2</br>prediction: 93618536.769</br>age: 22.67</br></br>overall: 91</br>potential: 91</br>weak_foot: 4</br>skill_moves: 5</br>international_reputation: 5</br>pace: 87.0</br>shooting: 94.0</br>passing: 80.0</br>dribbling: 88.0</br>defending: 34.0</br>physic: 75.0</br>attacking_crossing: 87</br>attacking_finishing: 95</br>attacking_heading_accuracy: 90</br>attacking_short_passing: 80</br>attacking_volleys: 86</br>skill_dribbling: 88</br>skill_curve: 81</br>skill_fk_accuracy: 84</br>skill_long_passing: 77</br>... too many variables"
          ],
          [
           "</br>id: 2</br>prediction: 93618536.769</br>age: 22.88</br></br>overall: 91</br>potential: 91</br>weak_foot: 4</br>skill_moves: 5</br>international_reputation: 5</br>pace: 87.0</br>shooting: 94.0</br>passing: 80.0</br>dribbling: 88.0</br>defending: 34.0</br>physic: 75.0</br>attacking_crossing: 87</br>attacking_finishing: 95</br>attacking_heading_accuracy: 90</br>attacking_short_passing: 80</br>attacking_volleys: 86</br>skill_dribbling: 88</br>skill_curve: 81</br>skill_fk_accuracy: 84</br>skill_long_passing: 77</br>... too many variables"
          ],
          [
           "</br>id: 2</br>prediction: 93356300.482</br>age: 23.09</br></br>overall: 91</br>potential: 91</br>weak_foot: 4</br>skill_moves: 5</br>international_reputation: 5</br>pace: 87.0</br>shooting: 94.0</br>passing: 80.0</br>dribbling: 88.0</br>defending: 34.0</br>physic: 75.0</br>attacking_crossing: 87</br>attacking_finishing: 95</br>attacking_heading_accuracy: 90</br>attacking_short_passing: 80</br>attacking_volleys: 86</br>skill_dribbling: 88</br>skill_curve: 81</br>skill_fk_accuracy: 84</br>skill_long_passing: 77</br>... too many variables"
          ],
          [
           "</br>id: 2</br>prediction: 93356300.482</br>age: 23.3</br></br>overall: 91</br>potential: 91</br>weak_foot: 4</br>skill_moves: 5</br>international_reputation: 5</br>pace: 87.0</br>shooting: 94.0</br>passing: 80.0</br>dribbling: 88.0</br>defending: 34.0</br>physic: 75.0</br>attacking_crossing: 87</br>attacking_finishing: 95</br>attacking_heading_accuracy: 90</br>attacking_short_passing: 80</br>attacking_volleys: 86</br>skill_dribbling: 88</br>skill_curve: 81</br>skill_fk_accuracy: 84</br>skill_long_passing: 77</br>... too many variables"
          ],
          [
           "</br>id: 2</br>prediction: 93356300.482</br>age: 23.509999999999998</br></br>overall: 91</br>potential: 91</br>weak_foot: 4</br>skill_moves: 5</br>international_reputation: 5</br>pace: 87.0</br>shooting: 94.0</br>passing: 80.0</br>dribbling: 88.0</br>defending: 34.0</br>physic: 75.0</br>attacking_crossing: 87</br>attacking_finishing: 95</br>attacking_heading_accuracy: 90</br>attacking_short_passing: 80</br>attacking_volleys: 86</br>skill_dribbling: 88</br>skill_curve: 81</br>skill_fk_accuracy: 84</br>... too many variables"
          ],
          [
           "</br>id: 2</br>prediction: 93356300.482</br>age: 23.72</br></br>overall: 91</br>potential: 91</br>weak_foot: 4</br>skill_moves: 5</br>international_reputation: 5</br>pace: 87.0</br>shooting: 94.0</br>passing: 80.0</br>dribbling: 88.0</br>defending: 34.0</br>physic: 75.0</br>attacking_crossing: 87</br>attacking_finishing: 95</br>attacking_heading_accuracy: 90</br>attacking_short_passing: 80</br>attacking_volleys: 86</br>skill_dribbling: 88</br>skill_curve: 81</br>skill_fk_accuracy: 84</br>skill_long_passing: 77</br>... too many variables"
          ],
          [
           "</br>id: 2</br>prediction: 93356300.482</br>age: 23.93</br></br>overall: 91</br>potential: 91</br>weak_foot: 4</br>skill_moves: 5</br>international_reputation: 5</br>pace: 87.0</br>shooting: 94.0</br>passing: 80.0</br>dribbling: 88.0</br>defending: 34.0</br>physic: 75.0</br>attacking_crossing: 87</br>attacking_finishing: 95</br>attacking_heading_accuracy: 90</br>attacking_short_passing: 80</br>attacking_volleys: 86</br>skill_dribbling: 88</br>skill_curve: 81</br>skill_fk_accuracy: 84</br>skill_long_passing: 77</br>... too many variables"
          ],
          [
           "</br>id: 2</br>prediction: 93172703.436</br>age: 24.14</br></br>overall: 91</br>potential: 91</br>weak_foot: 4</br>skill_moves: 5</br>international_reputation: 5</br>pace: 87.0</br>shooting: 94.0</br>passing: 80.0</br>dribbling: 88.0</br>defending: 34.0</br>physic: 75.0</br>attacking_crossing: 87</br>attacking_finishing: 95</br>attacking_heading_accuracy: 90</br>attacking_short_passing: 80</br>attacking_volleys: 86</br>skill_dribbling: 88</br>skill_curve: 81</br>skill_fk_accuracy: 84</br>skill_long_passing: 77</br>... too many variables"
          ],
          [
           "</br>id: 2</br>prediction: 93172703.436</br>age: 24.35</br></br>overall: 91</br>potential: 91</br>weak_foot: 4</br>skill_moves: 5</br>international_reputation: 5</br>pace: 87.0</br>shooting: 94.0</br>passing: 80.0</br>dribbling: 88.0</br>defending: 34.0</br>physic: 75.0</br>attacking_crossing: 87</br>attacking_finishing: 95</br>attacking_heading_accuracy: 90</br>attacking_short_passing: 80</br>attacking_volleys: 86</br>skill_dribbling: 88</br>skill_curve: 81</br>skill_fk_accuracy: 84</br>skill_long_passing: 77</br>... too many variables"
          ],
          [
           "</br>id: 2</br>prediction: 93196754.069</br>age: 24.56</br></br>overall: 91</br>potential: 91</br>weak_foot: 4</br>skill_moves: 5</br>international_reputation: 5</br>pace: 87.0</br>shooting: 94.0</br>passing: 80.0</br>dribbling: 88.0</br>defending: 34.0</br>physic: 75.0</br>attacking_crossing: 87</br>attacking_finishing: 95</br>attacking_heading_accuracy: 90</br>attacking_short_passing: 80</br>attacking_volleys: 86</br>skill_dribbling: 88</br>skill_curve: 81</br>skill_fk_accuracy: 84</br>skill_long_passing: 77</br>... too many variables"
          ],
          [
           "</br>id: 2</br>prediction: 93196754.069</br>age: 24.77</br></br>overall: 91</br>potential: 91</br>weak_foot: 4</br>skill_moves: 5</br>international_reputation: 5</br>pace: 87.0</br>shooting: 94.0</br>passing: 80.0</br>dribbling: 88.0</br>defending: 34.0</br>physic: 75.0</br>attacking_crossing: 87</br>attacking_finishing: 95</br>attacking_heading_accuracy: 90</br>attacking_short_passing: 80</br>attacking_volleys: 86</br>skill_dribbling: 88</br>skill_curve: 81</br>skill_fk_accuracy: 84</br>skill_long_passing: 77</br>... too many variables"
          ],
          [
           "</br>id: 2</br>prediction: 93196754.069</br>age: 24.98</br></br>overall: 91</br>potential: 91</br>weak_foot: 4</br>skill_moves: 5</br>international_reputation: 5</br>pace: 87.0</br>shooting: 94.0</br>passing: 80.0</br>dribbling: 88.0</br>defending: 34.0</br>physic: 75.0</br>attacking_crossing: 87</br>attacking_finishing: 95</br>attacking_heading_accuracy: 90</br>attacking_short_passing: 80</br>attacking_volleys: 86</br>skill_dribbling: 88</br>skill_curve: 81</br>skill_fk_accuracy: 84</br>skill_long_passing: 77</br>... too many variables"
          ],
          [
           "</br>id: 2</br>prediction: 93196754.069</br>age: 25.189999999999998</br></br>overall: 91</br>potential: 91</br>weak_foot: 4</br>skill_moves: 5</br>international_reputation: 5</br>pace: 87.0</br>shooting: 94.0</br>passing: 80.0</br>dribbling: 88.0</br>defending: 34.0</br>physic: 75.0</br>attacking_crossing: 87</br>attacking_finishing: 95</br>attacking_heading_accuracy: 90</br>attacking_short_passing: 80</br>attacking_volleys: 86</br>skill_dribbling: 88</br>skill_curve: 81</br>skill_fk_accuracy: 84</br>... too many variables"
          ],
          [
           "</br>id: 2</br>prediction: 93196754.069</br>age: 25.4</br></br>overall: 91</br>potential: 91</br>weak_foot: 4</br>skill_moves: 5</br>international_reputation: 5</br>pace: 87.0</br>shooting: 94.0</br>passing: 80.0</br>dribbling: 88.0</br>defending: 34.0</br>physic: 75.0</br>attacking_crossing: 87</br>attacking_finishing: 95</br>attacking_heading_accuracy: 90</br>attacking_short_passing: 80</br>attacking_volleys: 86</br>skill_dribbling: 88</br>skill_curve: 81</br>skill_fk_accuracy: 84</br>skill_long_passing: 77</br>... too many variables"
          ],
          [
           "</br>id: 2</br>prediction: 93143273.056</br>age: 25.61</br></br>overall: 91</br>potential: 91</br>weak_foot: 4</br>skill_moves: 5</br>international_reputation: 5</br>pace: 87.0</br>shooting: 94.0</br>passing: 80.0</br>dribbling: 88.0</br>defending: 34.0</br>physic: 75.0</br>attacking_crossing: 87</br>attacking_finishing: 95</br>attacking_heading_accuracy: 90</br>attacking_short_passing: 80</br>attacking_volleys: 86</br>skill_dribbling: 88</br>skill_curve: 81</br>skill_fk_accuracy: 84</br>skill_long_passing: 77</br>... too many variables"
          ],
          [
           "</br>id: 2</br>prediction: 93143273.056</br>age: 25.82</br></br>overall: 91</br>potential: 91</br>weak_foot: 4</br>skill_moves: 5</br>international_reputation: 5</br>pace: 87.0</br>shooting: 94.0</br>passing: 80.0</br>dribbling: 88.0</br>defending: 34.0</br>physic: 75.0</br>attacking_crossing: 87</br>attacking_finishing: 95</br>attacking_heading_accuracy: 90</br>attacking_short_passing: 80</br>attacking_volleys: 86</br>skill_dribbling: 88</br>skill_curve: 81</br>skill_fk_accuracy: 84</br>skill_long_passing: 77</br>... too many variables"
          ],
          [
           "</br>id: 2</br>prediction: 93164792.043</br>age: 26.03</br></br>overall: 91</br>potential: 91</br>weak_foot: 4</br>skill_moves: 5</br>international_reputation: 5</br>pace: 87.0</br>shooting: 94.0</br>passing: 80.0</br>dribbling: 88.0</br>defending: 34.0</br>physic: 75.0</br>attacking_crossing: 87</br>attacking_finishing: 95</br>attacking_heading_accuracy: 90</br>attacking_short_passing: 80</br>attacking_volleys: 86</br>skill_dribbling: 88</br>skill_curve: 81</br>skill_fk_accuracy: 84</br>skill_long_passing: 77</br>... too many variables"
          ],
          [
           "</br>id: 2</br>prediction: 93164792.043</br>age: 26.240000000000002</br></br>overall: 91</br>potential: 91</br>weak_foot: 4</br>skill_moves: 5</br>international_reputation: 5</br>pace: 87.0</br>shooting: 94.0</br>passing: 80.0</br>dribbling: 88.0</br>defending: 34.0</br>physic: 75.0</br>attacking_crossing: 87</br>attacking_finishing: 95</br>attacking_heading_accuracy: 90</br>attacking_short_passing: 80</br>attacking_volleys: 86</br>skill_dribbling: 88</br>skill_curve: 81</br>skill_fk_accuracy: 84</br>... too many variables"
          ],
          [
           "</br>id: 2</br>prediction: 93164792.043</br>age: 26.45</br></br>overall: 91</br>potential: 91</br>weak_foot: 4</br>skill_moves: 5</br>international_reputation: 5</br>pace: 87.0</br>shooting: 94.0</br>passing: 80.0</br>dribbling: 88.0</br>defending: 34.0</br>physic: 75.0</br>attacking_crossing: 87</br>attacking_finishing: 95</br>attacking_heading_accuracy: 90</br>attacking_short_passing: 80</br>attacking_volleys: 86</br>skill_dribbling: 88</br>skill_curve: 81</br>skill_fk_accuracy: 84</br>skill_long_passing: 77</br>... too many variables"
          ],
          [
           "</br>id: 2</br>prediction: 93212007.233</br>age: 26.66</br></br>overall: 91</br>potential: 91</br>weak_foot: 4</br>skill_moves: 5</br>international_reputation: 5</br>pace: 87.0</br>shooting: 94.0</br>passing: 80.0</br>dribbling: 88.0</br>defending: 34.0</br>physic: 75.0</br>attacking_crossing: 87</br>attacking_finishing: 95</br>attacking_heading_accuracy: 90</br>attacking_short_passing: 80</br>attacking_volleys: 86</br>skill_dribbling: 88</br>skill_curve: 81</br>skill_fk_accuracy: 84</br>skill_long_passing: 77</br>... too many variables"
          ],
          [
           "</br>id: 2</br>prediction: 93212007.233</br>age: 26.869999999999997</br></br>overall: 91</br>potential: 91</br>weak_foot: 4</br>skill_moves: 5</br>international_reputation: 5</br>pace: 87.0</br>shooting: 94.0</br>passing: 80.0</br>dribbling: 88.0</br>defending: 34.0</br>physic: 75.0</br>attacking_crossing: 87</br>attacking_finishing: 95</br>attacking_heading_accuracy: 90</br>attacking_short_passing: 80</br>attacking_volleys: 86</br>skill_dribbling: 88</br>skill_curve: 81</br>skill_fk_accuracy: 84</br>... too many variables"
          ],
          [
           "</br>id: 2</br>prediction: 93212007.233</br>age: 27.08</br></br>overall: 91</br>potential: 91</br>weak_foot: 4</br>skill_moves: 5</br>international_reputation: 5</br>pace: 87.0</br>shooting: 94.0</br>passing: 80.0</br>dribbling: 88.0</br>defending: 34.0</br>physic: 75.0</br>attacking_crossing: 87</br>attacking_finishing: 95</br>attacking_heading_accuracy: 90</br>attacking_short_passing: 80</br>attacking_volleys: 86</br>skill_dribbling: 88</br>skill_curve: 81</br>skill_fk_accuracy: 84</br>skill_long_passing: 77</br>... too many variables"
          ],
          [
           "</br>id: 2</br>prediction: 93212007.233</br>age: 27.29</br></br>overall: 91</br>potential: 91</br>weak_foot: 4</br>skill_moves: 5</br>international_reputation: 5</br>pace: 87.0</br>shooting: 94.0</br>passing: 80.0</br>dribbling: 88.0</br>defending: 34.0</br>physic: 75.0</br>attacking_crossing: 87</br>attacking_finishing: 95</br>attacking_heading_accuracy: 90</br>attacking_short_passing: 80</br>attacking_volleys: 86</br>skill_dribbling: 88</br>skill_curve: 81</br>skill_fk_accuracy: 84</br>skill_long_passing: 77</br>... too many variables"
          ],
          [
           "</br>id: 2</br>prediction: 93212007.233</br>age: 27.5</br></br>overall: 91</br>potential: 91</br>weak_foot: 4</br>skill_moves: 5</br>international_reputation: 5</br>pace: 87.0</br>shooting: 94.0</br>passing: 80.0</br>dribbling: 88.0</br>defending: 34.0</br>physic: 75.0</br>attacking_crossing: 87</br>attacking_finishing: 95</br>attacking_heading_accuracy: 90</br>attacking_short_passing: 80</br>attacking_volleys: 86</br>skill_dribbling: 88</br>skill_curve: 81</br>skill_fk_accuracy: 84</br>skill_long_passing: 77</br>... too many variables"
          ],
          [
           "</br>id: 2</br>prediction: 93090488.246</br>age: 27.71</br></br>overall: 91</br>potential: 91</br>weak_foot: 4</br>skill_moves: 5</br>international_reputation: 5</br>pace: 87.0</br>shooting: 94.0</br>passing: 80.0</br>dribbling: 88.0</br>defending: 34.0</br>physic: 75.0</br>attacking_crossing: 87</br>attacking_finishing: 95</br>attacking_heading_accuracy: 90</br>attacking_short_passing: 80</br>attacking_volleys: 86</br>skill_dribbling: 88</br>skill_curve: 81</br>skill_fk_accuracy: 84</br>skill_long_passing: 77</br>... too many variables"
          ],
          [
           "</br>id: 2</br>prediction: 93090488.246</br>age: 27.92</br></br>overall: 91</br>potential: 91</br>weak_foot: 4</br>skill_moves: 5</br>international_reputation: 5</br>pace: 87.0</br>shooting: 94.0</br>passing: 80.0</br>dribbling: 88.0</br>defending: 34.0</br>physic: 75.0</br>attacking_crossing: 87</br>attacking_finishing: 95</br>attacking_heading_accuracy: 90</br>attacking_short_passing: 80</br>attacking_volleys: 86</br>skill_dribbling: 88</br>skill_curve: 81</br>skill_fk_accuracy: 84</br>skill_long_passing: 77</br>... too many variables"
          ],
          [
           "</br>id: 2</br>prediction: 93090488.246</br>age: 28.13</br></br>overall: 91</br>potential: 91</br>weak_foot: 4</br>skill_moves: 5</br>international_reputation: 5</br>pace: 87.0</br>shooting: 94.0</br>passing: 80.0</br>dribbling: 88.0</br>defending: 34.0</br>physic: 75.0</br>attacking_crossing: 87</br>attacking_finishing: 95</br>attacking_heading_accuracy: 90</br>attacking_short_passing: 80</br>attacking_volleys: 86</br>skill_dribbling: 88</br>skill_curve: 81</br>skill_fk_accuracy: 84</br>skill_long_passing: 77</br>... too many variables"
          ],
          [
           "</br>id: 2</br>prediction: 93090488.246</br>age: 28.34</br></br>overall: 91</br>potential: 91</br>weak_foot: 4</br>skill_moves: 5</br>international_reputation: 5</br>pace: 87.0</br>shooting: 94.0</br>passing: 80.0</br>dribbling: 88.0</br>defending: 34.0</br>physic: 75.0</br>attacking_crossing: 87</br>attacking_finishing: 95</br>attacking_heading_accuracy: 90</br>attacking_short_passing: 80</br>attacking_volleys: 86</br>skill_dribbling: 88</br>skill_curve: 81</br>skill_fk_accuracy: 84</br>skill_long_passing: 77</br>... too many variables"
          ],
          [
           "</br>id: 2</br>prediction: 92619581.073</br>age: 28.549999999999997</br></br>overall: 91</br>potential: 91</br>weak_foot: 4</br>skill_moves: 5</br>international_reputation: 5</br>pace: 87.0</br>shooting: 94.0</br>passing: 80.0</br>dribbling: 88.0</br>defending: 34.0</br>physic: 75.0</br>attacking_crossing: 87</br>attacking_finishing: 95</br>attacking_heading_accuracy: 90</br>attacking_short_passing: 80</br>attacking_volleys: 86</br>skill_dribbling: 88</br>skill_curve: 81</br>skill_fk_accuracy: 84</br>... too many variables"
          ],
          [
           "</br>id: 2</br>prediction: 92619581.073</br>age: 28.759999999999998</br></br>overall: 91</br>potential: 91</br>weak_foot: 4</br>skill_moves: 5</br>international_reputation: 5</br>pace: 87.0</br>shooting: 94.0</br>passing: 80.0</br>dribbling: 88.0</br>defending: 34.0</br>physic: 75.0</br>attacking_crossing: 87</br>attacking_finishing: 95</br>attacking_heading_accuracy: 90</br>attacking_short_passing: 80</br>attacking_volleys: 86</br>skill_dribbling: 88</br>skill_curve: 81</br>skill_fk_accuracy: 84</br>... too many variables"
          ],
          [
           "</br>id: 2</br>prediction: 92619581.073</br>age: 28.97</br></br>overall: 91</br>potential: 91</br>weak_foot: 4</br>skill_moves: 5</br>international_reputation: 5</br>pace: 87.0</br>shooting: 94.0</br>passing: 80.0</br>dribbling: 88.0</br>defending: 34.0</br>physic: 75.0</br>attacking_crossing: 87</br>attacking_finishing: 95</br>attacking_heading_accuracy: 90</br>attacking_short_passing: 80</br>attacking_volleys: 86</br>skill_dribbling: 88</br>skill_curve: 81</br>skill_fk_accuracy: 84</br>skill_long_passing: 77</br>... too many variables"
          ],
          [
           "</br>id: 2</br>prediction: 92619581.073</br>age: 29.18</br></br>overall: 91</br>potential: 91</br>weak_foot: 4</br>skill_moves: 5</br>international_reputation: 5</br>pace: 87.0</br>shooting: 94.0</br>passing: 80.0</br>dribbling: 88.0</br>defending: 34.0</br>physic: 75.0</br>attacking_crossing: 87</br>attacking_finishing: 95</br>attacking_heading_accuracy: 90</br>attacking_short_passing: 80</br>attacking_volleys: 86</br>skill_dribbling: 88</br>skill_curve: 81</br>skill_fk_accuracy: 84</br>skill_long_passing: 77</br>... too many variables"
          ],
          [
           "</br>id: 2</br>prediction: 92619581.073</br>age: 29.39</br></br>overall: 91</br>potential: 91</br>weak_foot: 4</br>skill_moves: 5</br>international_reputation: 5</br>pace: 87.0</br>shooting: 94.0</br>passing: 80.0</br>dribbling: 88.0</br>defending: 34.0</br>physic: 75.0</br>attacking_crossing: 87</br>attacking_finishing: 95</br>attacking_heading_accuracy: 90</br>attacking_short_passing: 80</br>attacking_volleys: 86</br>skill_dribbling: 88</br>skill_curve: 81</br>skill_fk_accuracy: 84</br>skill_long_passing: 77</br>... too many variables"
          ],
          [
           "</br>id: 2</br>prediction: 92547218.204</br>age: 29.6</br></br>overall: 91</br>potential: 91</br>weak_foot: 4</br>skill_moves: 5</br>international_reputation: 5</br>pace: 87.0</br>shooting: 94.0</br>passing: 80.0</br>dribbling: 88.0</br>defending: 34.0</br>physic: 75.0</br>attacking_crossing: 87</br>attacking_finishing: 95</br>attacking_heading_accuracy: 90</br>attacking_short_passing: 80</br>attacking_volleys: 86</br>skill_dribbling: 88</br>skill_curve: 81</br>skill_fk_accuracy: 84</br>skill_long_passing: 77</br>... too many variables"
          ],
          [
           "</br>id: 2</br>prediction: 92547218.204</br>age: 29.81</br></br>overall: 91</br>potential: 91</br>weak_foot: 4</br>skill_moves: 5</br>international_reputation: 5</br>pace: 87.0</br>shooting: 94.0</br>passing: 80.0</br>dribbling: 88.0</br>defending: 34.0</br>physic: 75.0</br>attacking_crossing: 87</br>attacking_finishing: 95</br>attacking_heading_accuracy: 90</br>attacking_short_passing: 80</br>attacking_volleys: 86</br>skill_dribbling: 88</br>skill_curve: 81</br>skill_fk_accuracy: 84</br>skill_long_passing: 77</br>... too many variables"
          ],
          [
           "</br>id: 2</br>prediction: 92547218.204</br>age: 30.02</br></br>overall: 91</br>potential: 91</br>weak_foot: 4</br>skill_moves: 5</br>international_reputation: 5</br>pace: 87.0</br>shooting: 94.0</br>passing: 80.0</br>dribbling: 88.0</br>defending: 34.0</br>physic: 75.0</br>attacking_crossing: 87</br>attacking_finishing: 95</br>attacking_heading_accuracy: 90</br>attacking_short_passing: 80</br>attacking_volleys: 86</br>skill_dribbling: 88</br>skill_curve: 81</br>skill_fk_accuracy: 84</br>skill_long_passing: 77</br>... too many variables"
          ],
          [
           "</br>id: 2</br>prediction: 92547218.204</br>age: 30.229999999999997</br></br>overall: 91</br>potential: 91</br>weak_foot: 4</br>skill_moves: 5</br>international_reputation: 5</br>pace: 87.0</br>shooting: 94.0</br>passing: 80.0</br>dribbling: 88.0</br>defending: 34.0</br>physic: 75.0</br>attacking_crossing: 87</br>attacking_finishing: 95</br>attacking_heading_accuracy: 90</br>attacking_short_passing: 80</br>attacking_volleys: 86</br>skill_dribbling: 88</br>skill_curve: 81</br>skill_fk_accuracy: 84</br>... too many variables"
          ],
          [
           "</br>id: 2</br>prediction: 92547218.204</br>age: 30.439999999999998</br></br>overall: 91</br>potential: 91</br>weak_foot: 4</br>skill_moves: 5</br>international_reputation: 5</br>pace: 87.0</br>shooting: 94.0</br>passing: 80.0</br>dribbling: 88.0</br>defending: 34.0</br>physic: 75.0</br>attacking_crossing: 87</br>attacking_finishing: 95</br>attacking_heading_accuracy: 90</br>attacking_short_passing: 80</br>attacking_volleys: 86</br>skill_dribbling: 88</br>skill_curve: 81</br>skill_fk_accuracy: 84</br>... too many variables"
          ],
          [
           "</br>id: 2</br>prediction: 92416838.457</br>age: 30.65</br></br>overall: 91</br>potential: 91</br>weak_foot: 4</br>skill_moves: 5</br>international_reputation: 5</br>pace: 87.0</br>shooting: 94.0</br>passing: 80.0</br>dribbling: 88.0</br>defending: 34.0</br>physic: 75.0</br>attacking_crossing: 87</br>attacking_finishing: 95</br>attacking_heading_accuracy: 90</br>attacking_short_passing: 80</br>attacking_volleys: 86</br>skill_dribbling: 88</br>skill_curve: 81</br>skill_fk_accuracy: 84</br>skill_long_passing: 77</br>... too many variables"
          ],
          [
           "</br>id: 2</br>prediction: 92416838.457</br>age: 30.86</br></br>overall: 91</br>potential: 91</br>weak_foot: 4</br>skill_moves: 5</br>international_reputation: 5</br>pace: 87.0</br>shooting: 94.0</br>passing: 80.0</br>dribbling: 88.0</br>defending: 34.0</br>physic: 75.0</br>attacking_crossing: 87</br>attacking_finishing: 95</br>attacking_heading_accuracy: 90</br>attacking_short_passing: 80</br>attacking_volleys: 86</br>skill_dribbling: 88</br>skill_curve: 81</br>skill_fk_accuracy: 84</br>skill_long_passing: 77</br>... too many variables"
          ],
          [
           "</br>id: 2</br>prediction: 92124169.681</br>age: 31.07</br></br>overall: 91</br>potential: 91</br>weak_foot: 4</br>skill_moves: 5</br>international_reputation: 5</br>pace: 87.0</br>shooting: 94.0</br>passing: 80.0</br>dribbling: 88.0</br>defending: 34.0</br>physic: 75.0</br>attacking_crossing: 87</br>attacking_finishing: 95</br>attacking_heading_accuracy: 90</br>attacking_short_passing: 80</br>attacking_volleys: 86</br>skill_dribbling: 88</br>skill_curve: 81</br>skill_fk_accuracy: 84</br>skill_long_passing: 77</br>... too many variables"
          ],
          [
           "</br>id: 2</br>prediction: 92124169.681</br>age: 31.28</br></br>overall: 91</br>potential: 91</br>weak_foot: 4</br>skill_moves: 5</br>international_reputation: 5</br>pace: 87.0</br>shooting: 94.0</br>passing: 80.0</br>dribbling: 88.0</br>defending: 34.0</br>physic: 75.0</br>attacking_crossing: 87</br>attacking_finishing: 95</br>attacking_heading_accuracy: 90</br>attacking_short_passing: 80</br>attacking_volleys: 86</br>skill_dribbling: 88</br>skill_curve: 81</br>skill_fk_accuracy: 84</br>skill_long_passing: 77</br>... too many variables"
          ],
          [
           "</br>id: 2</br>prediction: 92124169.681</br>age: 31.490000000000002</br></br>overall: 91</br>potential: 91</br>weak_foot: 4</br>skill_moves: 5</br>international_reputation: 5</br>pace: 87.0</br>shooting: 94.0</br>passing: 80.0</br>dribbling: 88.0</br>defending: 34.0</br>physic: 75.0</br>attacking_crossing: 87</br>attacking_finishing: 95</br>attacking_heading_accuracy: 90</br>attacking_short_passing: 80</br>attacking_volleys: 86</br>skill_dribbling: 88</br>skill_curve: 81</br>skill_fk_accuracy: 84</br>... too many variables"
          ],
          [
           "</br>id: 2</br>prediction: 91953072.634</br>age: 31.7</br></br>overall: 91</br>potential: 91</br>weak_foot: 4</br>skill_moves: 5</br>international_reputation: 5</br>pace: 87.0</br>shooting: 94.0</br>passing: 80.0</br>dribbling: 88.0</br>defending: 34.0</br>physic: 75.0</br>attacking_crossing: 87</br>attacking_finishing: 95</br>attacking_heading_accuracy: 90</br>attacking_short_passing: 80</br>attacking_volleys: 86</br>skill_dribbling: 88</br>skill_curve: 81</br>skill_fk_accuracy: 84</br>skill_long_passing: 77</br>... too many variables"
          ],
          [
           "</br>id: 2</br>prediction: 91953072.634</br>age: 31.91</br></br>overall: 91</br>potential: 91</br>weak_foot: 4</br>skill_moves: 5</br>international_reputation: 5</br>pace: 87.0</br>shooting: 94.0</br>passing: 80.0</br>dribbling: 88.0</br>defending: 34.0</br>physic: 75.0</br>attacking_crossing: 87</br>attacking_finishing: 95</br>attacking_heading_accuracy: 90</br>attacking_short_passing: 80</br>attacking_volleys: 86</br>skill_dribbling: 88</br>skill_curve: 81</br>skill_fk_accuracy: 84</br>skill_long_passing: 77</br>... too many variables"
          ],
          [
           "</br>id: 2</br>prediction: 91916522.001</br>age: 32.12</br></br>overall: 91</br>potential: 91</br>weak_foot: 4</br>skill_moves: 5</br>international_reputation: 5</br>pace: 87.0</br>shooting: 94.0</br>passing: 80.0</br>dribbling: 88.0</br>defending: 34.0</br>physic: 75.0</br>attacking_crossing: 87</br>attacking_finishing: 95</br>attacking_heading_accuracy: 90</br>attacking_short_passing: 80</br>attacking_volleys: 86</br>skill_dribbling: 88</br>skill_curve: 81</br>skill_fk_accuracy: 84</br>skill_long_passing: 77</br>... too many variables"
          ],
          [
           "</br>id: 2</br>prediction: 91916522.001</br>age: 32.33</br></br>overall: 91</br>potential: 91</br>weak_foot: 4</br>skill_moves: 5</br>international_reputation: 5</br>pace: 87.0</br>shooting: 94.0</br>passing: 80.0</br>dribbling: 88.0</br>defending: 34.0</br>physic: 75.0</br>attacking_crossing: 87</br>attacking_finishing: 95</br>attacking_heading_accuracy: 90</br>attacking_short_passing: 80</br>attacking_volleys: 86</br>skill_dribbling: 88</br>skill_curve: 81</br>skill_fk_accuracy: 84</br>skill_long_passing: 77</br>... too many variables"
          ],
          [
           "</br>id: 2</br>prediction: 91420614.828</br>age: 32.54</br></br>overall: 91</br>potential: 91</br>weak_foot: 4</br>skill_moves: 5</br>international_reputation: 5</br>pace: 87.0</br>shooting: 94.0</br>passing: 80.0</br>dribbling: 88.0</br>defending: 34.0</br>physic: 75.0</br>attacking_crossing: 87</br>attacking_finishing: 95</br>attacking_heading_accuracy: 90</br>attacking_short_passing: 80</br>attacking_volleys: 86</br>skill_dribbling: 88</br>skill_curve: 81</br>skill_fk_accuracy: 84</br>skill_long_passing: 77</br>... too many variables"
          ],
          [
           "</br>id: 2</br>prediction: 91420614.828</br>age: 32.75</br></br>overall: 91</br>potential: 91</br>weak_foot: 4</br>skill_moves: 5</br>international_reputation: 5</br>pace: 87.0</br>shooting: 94.0</br>passing: 80.0</br>dribbling: 88.0</br>defending: 34.0</br>physic: 75.0</br>attacking_crossing: 87</br>attacking_finishing: 95</br>attacking_heading_accuracy: 90</br>attacking_short_passing: 80</br>attacking_volleys: 86</br>skill_dribbling: 88</br>skill_curve: 81</br>skill_fk_accuracy: 84</br>skill_long_passing: 77</br>... too many variables"
          ],
          [
           "</br>id: 2</br>prediction: 91420614.828</br>age: 32.96</br></br>overall: 91</br>potential: 91</br>weak_foot: 4</br>skill_moves: 5</br>international_reputation: 5</br>pace: 87.0</br>shooting: 94.0</br>passing: 80.0</br>dribbling: 88.0</br>defending: 34.0</br>physic: 75.0</br>attacking_crossing: 87</br>attacking_finishing: 95</br>attacking_heading_accuracy: 90</br>attacking_short_passing: 80</br>attacking_volleys: 86</br>skill_dribbling: 88</br>skill_curve: 81</br>skill_fk_accuracy: 84</br>skill_long_passing: 77</br>... too many variables"
          ],
          [
           "</br>id: 2</br>prediction: 91080688.668</br>age: 33.17</br></br>overall: 91</br>potential: 91</br>weak_foot: 4</br>skill_moves: 5</br>international_reputation: 5</br>pace: 87.0</br>shooting: 94.0</br>passing: 80.0</br>dribbling: 88.0</br>defending: 34.0</br>physic: 75.0</br>attacking_crossing: 87</br>attacking_finishing: 95</br>attacking_heading_accuracy: 90</br>attacking_short_passing: 80</br>attacking_volleys: 86</br>skill_dribbling: 88</br>skill_curve: 81</br>skill_fk_accuracy: 84</br>skill_long_passing: 77</br>... too many variables"
          ],
          [
           "</br>id: 2</br>prediction: 91080688.668</br>age: 33.379999999999995</br></br>overall: 91</br>potential: 91</br>weak_foot: 4</br>skill_moves: 5</br>international_reputation: 5</br>pace: 87.0</br>shooting: 94.0</br>passing: 80.0</br>dribbling: 88.0</br>defending: 34.0</br>physic: 75.0</br>attacking_crossing: 87</br>attacking_finishing: 95</br>attacking_heading_accuracy: 90</br>attacking_short_passing: 80</br>attacking_volleys: 86</br>skill_dribbling: 88</br>skill_curve: 81</br>skill_fk_accuracy: 84</br>... too many variables"
          ],
          [
           "</br>id: 2</br>prediction: 89595119.048</br>age: 33.59</br></br>overall: 91</br>potential: 91</br>weak_foot: 4</br>skill_moves: 5</br>international_reputation: 5</br>pace: 87.0</br>shooting: 94.0</br>passing: 80.0</br>dribbling: 88.0</br>defending: 34.0</br>physic: 75.0</br>attacking_crossing: 87</br>attacking_finishing: 95</br>attacking_heading_accuracy: 90</br>attacking_short_passing: 80</br>attacking_volleys: 86</br>skill_dribbling: 88</br>skill_curve: 81</br>skill_fk_accuracy: 84</br>skill_long_passing: 77</br>... too many variables"
          ],
          [
           "</br>id: 2</br>prediction: 89595119.048</br>age: 33.8</br></br>overall: 91</br>potential: 91</br>weak_foot: 4</br>skill_moves: 5</br>international_reputation: 5</br>pace: 87.0</br>shooting: 94.0</br>passing: 80.0</br>dribbling: 88.0</br>defending: 34.0</br>physic: 75.0</br>attacking_crossing: 87</br>attacking_finishing: 95</br>attacking_heading_accuracy: 90</br>attacking_short_passing: 80</br>attacking_volleys: 86</br>skill_dribbling: 88</br>skill_curve: 81</br>skill_fk_accuracy: 84</br>skill_long_passing: 77</br>... too many variables"
          ],
          [
           "</br>id: 2</br>prediction: 89304718.204</br>age: 34.01</br></br>overall: 91</br>potential: 91</br>weak_foot: 4</br>skill_moves: 5</br>international_reputation: 5</br>pace: 87.0</br>shooting: 94.0</br>passing: 80.0</br>dribbling: 88.0</br>defending: 34.0</br>physic: 75.0</br>attacking_crossing: 87</br>attacking_finishing: 95</br>attacking_heading_accuracy: 90</br>attacking_short_passing: 80</br>attacking_volleys: 86</br>skill_dribbling: 88</br>skill_curve: 81</br>skill_fk_accuracy: 84</br>skill_long_passing: 77</br>... too many variables"
          ],
          [
           "</br>id: 2</br>prediction: 89304718.204</br>age: 34.22</br></br>overall: 91</br>potential: 91</br>weak_foot: 4</br>skill_moves: 5</br>international_reputation: 5</br>pace: 87.0</br>shooting: 94.0</br>passing: 80.0</br>dribbling: 88.0</br>defending: 34.0</br>physic: 75.0</br>attacking_crossing: 87</br>attacking_finishing: 95</br>attacking_heading_accuracy: 90</br>attacking_short_passing: 80</br>attacking_volleys: 86</br>skill_dribbling: 88</br>skill_curve: 81</br>skill_fk_accuracy: 84</br>skill_long_passing: 77</br>... too many variables"
          ],
          [
           "</br>id: 2</br>prediction: 89304718.204</br>age: 34.43</br></br>overall: 91</br>potential: 91</br>weak_foot: 4</br>skill_moves: 5</br>international_reputation: 5</br>pace: 87.0</br>shooting: 94.0</br>passing: 80.0</br>dribbling: 88.0</br>defending: 34.0</br>physic: 75.0</br>attacking_crossing: 87</br>attacking_finishing: 95</br>attacking_heading_accuracy: 90</br>attacking_short_passing: 80</br>attacking_volleys: 86</br>skill_dribbling: 88</br>skill_curve: 81</br>skill_fk_accuracy: 84</br>skill_long_passing: 77</br>... too many variables"
          ],
          [
           "</br>id: 2</br>prediction: 89304718.204</br>age: 34.64</br></br>overall: 91</br>potential: 91</br>weak_foot: 4</br>skill_moves: 5</br>international_reputation: 5</br>pace: 87.0</br>shooting: 94.0</br>passing: 80.0</br>dribbling: 88.0</br>defending: 34.0</br>physic: 75.0</br>attacking_crossing: 87</br>attacking_finishing: 95</br>attacking_heading_accuracy: 90</br>attacking_short_passing: 80</br>attacking_volleys: 86</br>skill_dribbling: 88</br>skill_curve: 81</br>skill_fk_accuracy: 84</br>skill_long_passing: 77</br>... too many variables"
          ],
          [
           "</br>id: 2</br>prediction: 89304718.204</br>age: 34.849999999999994</br></br>overall: 91</br>potential: 91</br>weak_foot: 4</br>skill_moves: 5</br>international_reputation: 5</br>pace: 87.0</br>shooting: 94.0</br>passing: 80.0</br>dribbling: 88.0</br>defending: 34.0</br>physic: 75.0</br>attacking_crossing: 87</br>attacking_finishing: 95</br>attacking_heading_accuracy: 90</br>attacking_short_passing: 80</br>attacking_volleys: 86</br>skill_dribbling: 88</br>skill_curve: 81</br>skill_fk_accuracy: 84</br>... too many variables"
          ],
          [
           "</br>id: 2</br>prediction: 89304718.204</br>age: 35.06</br></br>overall: 91</br>potential: 91</br>weak_foot: 4</br>skill_moves: 5</br>international_reputation: 5</br>pace: 87.0</br>shooting: 94.0</br>passing: 80.0</br>dribbling: 88.0</br>defending: 34.0</br>physic: 75.0</br>attacking_crossing: 87</br>attacking_finishing: 95</br>attacking_heading_accuracy: 90</br>attacking_short_passing: 80</br>attacking_volleys: 86</br>skill_dribbling: 88</br>skill_curve: 81</br>skill_fk_accuracy: 84</br>skill_long_passing: 77</br>... too many variables"
          ],
          [
           "</br>id: 2</br>prediction: 89304718.204</br>age: 35.269999999999996</br></br>overall: 91</br>potential: 91</br>weak_foot: 4</br>skill_moves: 5</br>international_reputation: 5</br>pace: 87.0</br>shooting: 94.0</br>passing: 80.0</br>dribbling: 88.0</br>defending: 34.0</br>physic: 75.0</br>attacking_crossing: 87</br>attacking_finishing: 95</br>attacking_heading_accuracy: 90</br>attacking_short_passing: 80</br>attacking_volleys: 86</br>skill_dribbling: 88</br>skill_curve: 81</br>skill_fk_accuracy: 84</br>... too many variables"
          ],
          [
           "</br>id: 2</br>prediction: 89304718.204</br>age: 35.480000000000004</br></br>overall: 91</br>potential: 91</br>weak_foot: 4</br>skill_moves: 5</br>international_reputation: 5</br>pace: 87.0</br>shooting: 94.0</br>passing: 80.0</br>dribbling: 88.0</br>defending: 34.0</br>physic: 75.0</br>attacking_crossing: 87</br>attacking_finishing: 95</br>attacking_heading_accuracy: 90</br>attacking_short_passing: 80</br>attacking_volleys: 86</br>skill_dribbling: 88</br>skill_curve: 81</br>skill_fk_accuracy: 84</br>... too many variables"
          ],
          [
           "</br>id: 2</br>prediction: 89304718.204</br>age: 35.69</br></br>overall: 91</br>potential: 91</br>weak_foot: 4</br>skill_moves: 5</br>international_reputation: 5</br>pace: 87.0</br>shooting: 94.0</br>passing: 80.0</br>dribbling: 88.0</br>defending: 34.0</br>physic: 75.0</br>attacking_crossing: 87</br>attacking_finishing: 95</br>attacking_heading_accuracy: 90</br>attacking_short_passing: 80</br>attacking_volleys: 86</br>skill_dribbling: 88</br>skill_curve: 81</br>skill_fk_accuracy: 84</br>skill_long_passing: 77</br>... too many variables"
          ],
          [
           "</br>id: 2</br>prediction: 89304718.204</br>age: 35.9</br></br>overall: 91</br>potential: 91</br>weak_foot: 4</br>skill_moves: 5</br>international_reputation: 5</br>pace: 87.0</br>shooting: 94.0</br>passing: 80.0</br>dribbling: 88.0</br>defending: 34.0</br>physic: 75.0</br>attacking_crossing: 87</br>attacking_finishing: 95</br>attacking_heading_accuracy: 90</br>attacking_short_passing: 80</br>attacking_volleys: 86</br>skill_dribbling: 88</br>skill_curve: 81</br>skill_fk_accuracy: 84</br>skill_long_passing: 77</br>... too many variables"
          ],
          [
           "</br>id: 2</br>prediction: 89304718.204</br>age: 36.0</br></br>overall: 91</br>potential: 91</br>weak_foot: 4</br>skill_moves: 5</br>international_reputation: 5</br>pace: 87.0</br>shooting: 94.0</br>passing: 80.0</br>dribbling: 88.0</br>defending: 34.0</br>physic: 75.0</br>attacking_crossing: 87</br>attacking_finishing: 95</br>attacking_heading_accuracy: 90</br>attacking_short_passing: 80</br>attacking_volleys: 86</br>skill_dribbling: 88</br>skill_curve: 81</br>skill_fk_accuracy: 84</br>skill_long_passing: 77</br>... too many variables"
          ],
          [
           "</br>id: 2</br>prediction: 89304718.204</br>age: 36.11</br></br>overall: 91</br>potential: 91</br>weak_foot: 4</br>skill_moves: 5</br>international_reputation: 5</br>pace: 87.0</br>shooting: 94.0</br>passing: 80.0</br>dribbling: 88.0</br>defending: 34.0</br>physic: 75.0</br>attacking_crossing: 87</br>attacking_finishing: 95</br>attacking_heading_accuracy: 90</br>attacking_short_passing: 80</br>attacking_volleys: 86</br>skill_dribbling: 88</br>skill_curve: 81</br>skill_fk_accuracy: 84</br>skill_long_passing: 77</br>... too many variables"
          ],
          [
           "</br>id: 2</br>prediction: 89304718.204</br>age: 36.32</br></br>overall: 91</br>potential: 91</br>weak_foot: 4</br>skill_moves: 5</br>international_reputation: 5</br>pace: 87.0</br>shooting: 94.0</br>passing: 80.0</br>dribbling: 88.0</br>defending: 34.0</br>physic: 75.0</br>attacking_crossing: 87</br>attacking_finishing: 95</br>attacking_heading_accuracy: 90</br>attacking_short_passing: 80</br>attacking_volleys: 86</br>skill_dribbling: 88</br>skill_curve: 81</br>skill_fk_accuracy: 84</br>skill_long_passing: 77</br>... too many variables"
          ],
          [
           "</br>id: 2</br>prediction: 89304718.204</br>age: 36.53</br></br>overall: 91</br>potential: 91</br>weak_foot: 4</br>skill_moves: 5</br>international_reputation: 5</br>pace: 87.0</br>shooting: 94.0</br>passing: 80.0</br>dribbling: 88.0</br>defending: 34.0</br>physic: 75.0</br>attacking_crossing: 87</br>attacking_finishing: 95</br>attacking_heading_accuracy: 90</br>attacking_short_passing: 80</br>attacking_volleys: 86</br>skill_dribbling: 88</br>skill_curve: 81</br>skill_fk_accuracy: 84</br>skill_long_passing: 77</br>... too many variables"
          ],
          [
           "</br>id: 2</br>prediction: 89304718.204</br>age: 36.739999999999995</br></br>overall: 91</br>potential: 91</br>weak_foot: 4</br>skill_moves: 5</br>international_reputation: 5</br>pace: 87.0</br>shooting: 94.0</br>passing: 80.0</br>dribbling: 88.0</br>defending: 34.0</br>physic: 75.0</br>attacking_crossing: 87</br>attacking_finishing: 95</br>attacking_heading_accuracy: 90</br>attacking_short_passing: 80</br>attacking_volleys: 86</br>skill_dribbling: 88</br>skill_curve: 81</br>skill_fk_accuracy: 84</br>... too many variables"
          ],
          [
           "</br>id: 2</br>prediction: 89304718.204</br>age: 36.95</br></br>overall: 91</br>potential: 91</br>weak_foot: 4</br>skill_moves: 5</br>international_reputation: 5</br>pace: 87.0</br>shooting: 94.0</br>passing: 80.0</br>dribbling: 88.0</br>defending: 34.0</br>physic: 75.0</br>attacking_crossing: 87</br>attacking_finishing: 95</br>attacking_heading_accuracy: 90</br>attacking_short_passing: 80</br>attacking_volleys: 86</br>skill_dribbling: 88</br>skill_curve: 81</br>skill_fk_accuracy: 84</br>skill_long_passing: 77</br>... too many variables"
          ],
          [
           "</br>id: 2</br>prediction: 89304718.204</br>age: 37.16</br></br>overall: 91</br>potential: 91</br>weak_foot: 4</br>skill_moves: 5</br>international_reputation: 5</br>pace: 87.0</br>shooting: 94.0</br>passing: 80.0</br>dribbling: 88.0</br>defending: 34.0</br>physic: 75.0</br>attacking_crossing: 87</br>attacking_finishing: 95</br>attacking_heading_accuracy: 90</br>attacking_short_passing: 80</br>attacking_volleys: 86</br>skill_dribbling: 88</br>skill_curve: 81</br>skill_fk_accuracy: 84</br>skill_long_passing: 77</br>... too many variables"
          ],
          [
           "</br>id: 2</br>prediction: 89304718.204</br>age: 37.370000000000005</br></br>overall: 91</br>potential: 91</br>weak_foot: 4</br>skill_moves: 5</br>international_reputation: 5</br>pace: 87.0</br>shooting: 94.0</br>passing: 80.0</br>dribbling: 88.0</br>defending: 34.0</br>physic: 75.0</br>attacking_crossing: 87</br>attacking_finishing: 95</br>attacking_heading_accuracy: 90</br>attacking_short_passing: 80</br>attacking_volleys: 86</br>skill_dribbling: 88</br>skill_curve: 81</br>skill_fk_accuracy: 84</br>... too many variables"
          ],
          [
           "</br>id: 2</br>prediction: 89304718.204</br>age: 37.58</br></br>overall: 91</br>potential: 91</br>weak_foot: 4</br>skill_moves: 5</br>international_reputation: 5</br>pace: 87.0</br>shooting: 94.0</br>passing: 80.0</br>dribbling: 88.0</br>defending: 34.0</br>physic: 75.0</br>attacking_crossing: 87</br>attacking_finishing: 95</br>attacking_heading_accuracy: 90</br>attacking_short_passing: 80</br>attacking_volleys: 86</br>skill_dribbling: 88</br>skill_curve: 81</br>skill_fk_accuracy: 84</br>skill_long_passing: 77</br>... too many variables"
          ],
          [
           "</br>id: 2</br>prediction: 89304718.204</br>age: 37.79</br></br>overall: 91</br>potential: 91</br>weak_foot: 4</br>skill_moves: 5</br>international_reputation: 5</br>pace: 87.0</br>shooting: 94.0</br>passing: 80.0</br>dribbling: 88.0</br>defending: 34.0</br>physic: 75.0</br>attacking_crossing: 87</br>attacking_finishing: 95</br>attacking_heading_accuracy: 90</br>attacking_short_passing: 80</br>attacking_volleys: 86</br>skill_dribbling: 88</br>skill_curve: 81</br>skill_fk_accuracy: 84</br>skill_long_passing: 77</br>... too many variables"
          ],
          [
           "</br>id: 2</br>prediction: 89304718.204</br>age: 38.0</br></br>overall: 91</br>potential: 91</br>weak_foot: 4</br>skill_moves: 5</br>international_reputation: 5</br>pace: 87.0</br>shooting: 94.0</br>passing: 80.0</br>dribbling: 88.0</br>defending: 34.0</br>physic: 75.0</br>attacking_crossing: 87</br>attacking_finishing: 95</br>attacking_heading_accuracy: 90</br>attacking_short_passing: 80</br>attacking_volleys: 86</br>skill_dribbling: 88</br>skill_curve: 81</br>skill_fk_accuracy: 84</br>skill_long_passing: 77</br>... too many variables"
          ]
         ],
         "hovertemplate": "%{customdata[0]}<extra></extra>",
         "legendgroup": "Cristiano Ronaldo",
         "line": {
          "color": "#46bac2",
          "dash": "solid",
          "width": 3
         },
         "marker": {
          "symbol": "circle"
         },
         "mode": "lines",
         "name": "Cristiano Ronaldo",
         "opacity": 1,
         "orientation": "v",
         "showlegend": true,
         "type": "scatter",
         "x": [
          17,
          17.21,
          17.42,
          17.63,
          17.84,
          18.05,
          18.26,
          18.47,
          18.68,
          18.89,
          19.1,
          19.31,
          19.52,
          19.73,
          19.94,
          20.15,
          20.36,
          20.57,
          20.78,
          20.99,
          21.2,
          21.41,
          21.62,
          21.83,
          22.04,
          22.25,
          22.46,
          22.67,
          22.88,
          23.09,
          23.3,
          23.509999999999998,
          23.72,
          23.93,
          24.14,
          24.35,
          24.56,
          24.77,
          24.98,
          25.189999999999998,
          25.4,
          25.61,
          25.82,
          26.03,
          26.240000000000002,
          26.45,
          26.66,
          26.869999999999997,
          27.08,
          27.29,
          27.5,
          27.71,
          27.92,
          28.13,
          28.34,
          28.549999999999997,
          28.759999999999998,
          28.97,
          29.18,
          29.39,
          29.6,
          29.81,
          30.02,
          30.229999999999997,
          30.439999999999998,
          30.65,
          30.86,
          31.07,
          31.28,
          31.490000000000002,
          31.7,
          31.91,
          32.12,
          32.33,
          32.54,
          32.75,
          32.96,
          33.17,
          33.379999999999995,
          33.59,
          33.8,
          34.01,
          34.22,
          34.43,
          34.64,
          34.849999999999994,
          35.06,
          35.269999999999996,
          35.480000000000004,
          35.69,
          35.9,
          36,
          36.11,
          36.32,
          36.53,
          36.739999999999995,
          36.95,
          37.16,
          37.370000000000005,
          37.58,
          37.79,
          38
         ],
         "xaxis": "x",
         "y": [
          93839686.5581676,
          93839686.5581676,
          93839686.5581676,
          93839686.5581676,
          93839686.5581676,
          93839686.5581676,
          93839686.5581676,
          93839686.5581676,
          93839686.5581676,
          93839686.5581676,
          93839686.5581676,
          93839686.5581676,
          93839686.5581676,
          93839686.5581676,
          93839686.5581676,
          93839686.5581676,
          93839686.5581676,
          93830825.79867393,
          93830825.79867393,
          93830825.79867393,
          93830825.79867393,
          93830825.79867393,
          93818589.5117541,
          93818589.5117541,
          93677450.27124777,
          93677450.27124777,
          93677450.27124777,
          93618536.76913805,
          93618536.76913805,
          93356300.48221822,
          93356300.48221822,
          93356300.48221822,
          93356300.48221822,
          93356300.48221822,
          93172703.43580472,
          93172703.43580472,
          93196754.06871612,
          93196754.06871612,
          93196754.06871612,
          93196754.06871612,
          93196754.06871612,
          93143273.0560579,
          93143273.0560579,
          93164792.04339966,
          93164792.04339966,
          93164792.04339966,
          93212007.23327309,
          93212007.23327309,
          93212007.23327309,
          93212007.23327309,
          93212007.23327309,
          93090488.24593131,
          93090488.24593131,
          93090488.24593131,
          93090488.24593131,
          92619581.07293552,
          92619581.07293552,
          92619581.07293552,
          92619581.07293552,
          92619581.07293552,
          92547218.20373723,
          92547218.20373723,
          92547218.20373723,
          92547218.20373723,
          92547218.20373723,
          92416838.45690179,
          92416838.45690179,
          92124169.68053047,
          92124169.68053047,
          92124169.68053047,
          91953072.63411698,
          91953072.63411698,
          91916522.00120558,
          91916522.00120558,
          91420614.82820982,
          91420614.82820982,
          91420614.82820982,
          91080688.66787225,
          91080688.66787225,
          89595119.04761904,
          89595119.04761904,
          89304718.2037372,
          89304718.2037372,
          89304718.2037372,
          89304718.2037372,
          89304718.2037372,
          89304718.2037372,
          89304718.2037372,
          89304718.2037372,
          89304718.2037372,
          89304718.2037372,
          89304718.2037372,
          89304718.2037372,
          89304718.2037372,
          89304718.2037372,
          89304718.2037372,
          89304718.2037372,
          89304718.2037372,
          89304718.2037372,
          89304718.2037372,
          89304718.2037372,
          89304718.2037372
         ],
         "yaxis": "y"
        },
        {
         "customdata": [
          [
           "</br>id: 2</br>prediction: 88626250.753</br>movement_reactions: 35.0</br></br>overall: 91</br>potential: 91</br>age: 36.0</br>weak_foot: 4</br>skill_moves: 5</br>international_reputation: 5</br>pace: 87.0</br>shooting: 94.0</br>passing: 80.0</br>dribbling: 88.0</br>defending: 34.0</br>physic: 75.0</br>attacking_crossing: 87</br>attacking_finishing: 95</br>attacking_heading_accuracy: 90</br>attacking_short_passing: 80</br>attacking_volleys: 86</br>skill_dribbling: 88</br>skill_curve: 81</br>skill_fk_accuracy: 84</br>... too many variables"
          ],
          [
           "</br>id: 2</br>prediction: 88626250.753</br>movement_reactions: 35.57</br></br>overall: 91</br>potential: 91</br>age: 36.0</br>weak_foot: 4</br>skill_moves: 5</br>international_reputation: 5</br>pace: 87.0</br>shooting: 94.0</br>passing: 80.0</br>dribbling: 88.0</br>defending: 34.0</br>physic: 75.0</br>attacking_crossing: 87</br>attacking_finishing: 95</br>attacking_heading_accuracy: 90</br>attacking_short_passing: 80</br>attacking_volleys: 86</br>skill_dribbling: 88</br>skill_curve: 81</br>skill_fk_accuracy: 84</br>... too many variables"
          ],
          [
           "</br>id: 2</br>prediction: 88626250.753</br>movement_reactions: 36.14</br></br>overall: 91</br>potential: 91</br>age: 36.0</br>weak_foot: 4</br>skill_moves: 5</br>international_reputation: 5</br>pace: 87.0</br>shooting: 94.0</br>passing: 80.0</br>dribbling: 88.0</br>defending: 34.0</br>physic: 75.0</br>attacking_crossing: 87</br>attacking_finishing: 95</br>attacking_heading_accuracy: 90</br>attacking_short_passing: 80</br>attacking_volleys: 86</br>skill_dribbling: 88</br>skill_curve: 81</br>skill_fk_accuracy: 84</br>... too many variables"
          ],
          [
           "</br>id: 2</br>prediction: 88626250.753</br>movement_reactions: 36.71</br></br>overall: 91</br>potential: 91</br>age: 36.0</br>weak_foot: 4</br>skill_moves: 5</br>international_reputation: 5</br>pace: 87.0</br>shooting: 94.0</br>passing: 80.0</br>dribbling: 88.0</br>defending: 34.0</br>physic: 75.0</br>attacking_crossing: 87</br>attacking_finishing: 95</br>attacking_heading_accuracy: 90</br>attacking_short_passing: 80</br>attacking_volleys: 86</br>skill_dribbling: 88</br>skill_curve: 81</br>skill_fk_accuracy: 84</br>... too many variables"
          ],
          [
           "</br>id: 2</br>prediction: 88626250.753</br>movement_reactions: 37.28</br></br>overall: 91</br>potential: 91</br>age: 36.0</br>weak_foot: 4</br>skill_moves: 5</br>international_reputation: 5</br>pace: 87.0</br>shooting: 94.0</br>passing: 80.0</br>dribbling: 88.0</br>defending: 34.0</br>physic: 75.0</br>attacking_crossing: 87</br>attacking_finishing: 95</br>attacking_heading_accuracy: 90</br>attacking_short_passing: 80</br>attacking_volleys: 86</br>skill_dribbling: 88</br>skill_curve: 81</br>skill_fk_accuracy: 84</br>... too many variables"
          ],
          [
           "</br>id: 2</br>prediction: 88626250.753</br>movement_reactions: 37.85</br></br>overall: 91</br>potential: 91</br>age: 36.0</br>weak_foot: 4</br>skill_moves: 5</br>international_reputation: 5</br>pace: 87.0</br>shooting: 94.0</br>passing: 80.0</br>dribbling: 88.0</br>defending: 34.0</br>physic: 75.0</br>attacking_crossing: 87</br>attacking_finishing: 95</br>attacking_heading_accuracy: 90</br>attacking_short_passing: 80</br>attacking_volleys: 86</br>skill_dribbling: 88</br>skill_curve: 81</br>skill_fk_accuracy: 84</br>... too many variables"
          ],
          [
           "</br>id: 2</br>prediction: 88626250.753</br>movement_reactions: 38.42</br></br>overall: 91</br>potential: 91</br>age: 36.0</br>weak_foot: 4</br>skill_moves: 5</br>international_reputation: 5</br>pace: 87.0</br>shooting: 94.0</br>passing: 80.0</br>dribbling: 88.0</br>defending: 34.0</br>physic: 75.0</br>attacking_crossing: 87</br>attacking_finishing: 95</br>attacking_heading_accuracy: 90</br>attacking_short_passing: 80</br>attacking_volleys: 86</br>skill_dribbling: 88</br>skill_curve: 81</br>skill_fk_accuracy: 84</br>... too many variables"
          ],
          [
           "</br>id: 2</br>prediction: 88626250.753</br>movement_reactions: 38.99</br></br>overall: 91</br>potential: 91</br>age: 36.0</br>weak_foot: 4</br>skill_moves: 5</br>international_reputation: 5</br>pace: 87.0</br>shooting: 94.0</br>passing: 80.0</br>dribbling: 88.0</br>defending: 34.0</br>physic: 75.0</br>attacking_crossing: 87</br>attacking_finishing: 95</br>attacking_heading_accuracy: 90</br>attacking_short_passing: 80</br>attacking_volleys: 86</br>skill_dribbling: 88</br>skill_curve: 81</br>skill_fk_accuracy: 84</br>... too many variables"
          ],
          [
           "</br>id: 2</br>prediction: 88626250.753</br>movement_reactions: 39.56</br></br>overall: 91</br>potential: 91</br>age: 36.0</br>weak_foot: 4</br>skill_moves: 5</br>international_reputation: 5</br>pace: 87.0</br>shooting: 94.0</br>passing: 80.0</br>dribbling: 88.0</br>defending: 34.0</br>physic: 75.0</br>attacking_crossing: 87</br>attacking_finishing: 95</br>attacking_heading_accuracy: 90</br>attacking_short_passing: 80</br>attacking_volleys: 86</br>skill_dribbling: 88</br>skill_curve: 81</br>skill_fk_accuracy: 84</br>... too many variables"
          ],
          [
           "</br>id: 2</br>prediction: 88626250.753</br>movement_reactions: 40.13</br></br>overall: 91</br>potential: 91</br>age: 36.0</br>weak_foot: 4</br>skill_moves: 5</br>international_reputation: 5</br>pace: 87.0</br>shooting: 94.0</br>passing: 80.0</br>dribbling: 88.0</br>defending: 34.0</br>physic: 75.0</br>attacking_crossing: 87</br>attacking_finishing: 95</br>attacking_heading_accuracy: 90</br>attacking_short_passing: 80</br>attacking_volleys: 86</br>skill_dribbling: 88</br>skill_curve: 81</br>skill_fk_accuracy: 84</br>... too many variables"
          ],
          [
           "</br>id: 2</br>prediction: 88626250.753</br>movement_reactions: 40.7</br></br>overall: 91</br>potential: 91</br>age: 36.0</br>weak_foot: 4</br>skill_moves: 5</br>international_reputation: 5</br>pace: 87.0</br>shooting: 94.0</br>passing: 80.0</br>dribbling: 88.0</br>defending: 34.0</br>physic: 75.0</br>attacking_crossing: 87</br>attacking_finishing: 95</br>attacking_heading_accuracy: 90</br>attacking_short_passing: 80</br>attacking_volleys: 86</br>skill_dribbling: 88</br>skill_curve: 81</br>skill_fk_accuracy: 84</br>... too many variables"
          ],
          [
           "</br>id: 2</br>prediction: 88626250.753</br>movement_reactions: 41.269999999999996</br></br>overall: 91</br>potential: 91</br>age: 36.0</br>weak_foot: 4</br>skill_moves: 5</br>international_reputation: 5</br>pace: 87.0</br>shooting: 94.0</br>passing: 80.0</br>dribbling: 88.0</br>defending: 34.0</br>physic: 75.0</br>attacking_crossing: 87</br>attacking_finishing: 95</br>attacking_heading_accuracy: 90</br>attacking_short_passing: 80</br>attacking_volleys: 86</br>skill_dribbling: 88</br>skill_curve: 81</br>... too many variables"
          ],
          [
           "</br>id: 2</br>prediction: 88626250.753</br>movement_reactions: 41.84</br></br>overall: 91</br>potential: 91</br>age: 36.0</br>weak_foot: 4</br>skill_moves: 5</br>international_reputation: 5</br>pace: 87.0</br>shooting: 94.0</br>passing: 80.0</br>dribbling: 88.0</br>defending: 34.0</br>physic: 75.0</br>attacking_crossing: 87</br>attacking_finishing: 95</br>attacking_heading_accuracy: 90</br>attacking_short_passing: 80</br>attacking_volleys: 86</br>skill_dribbling: 88</br>skill_curve: 81</br>skill_fk_accuracy: 84</br>... too many variables"
          ],
          [
           "</br>id: 2</br>prediction: 88626250.753</br>movement_reactions: 42.41</br></br>overall: 91</br>potential: 91</br>age: 36.0</br>weak_foot: 4</br>skill_moves: 5</br>international_reputation: 5</br>pace: 87.0</br>shooting: 94.0</br>passing: 80.0</br>dribbling: 88.0</br>defending: 34.0</br>physic: 75.0</br>attacking_crossing: 87</br>attacking_finishing: 95</br>attacking_heading_accuracy: 90</br>attacking_short_passing: 80</br>attacking_volleys: 86</br>skill_dribbling: 88</br>skill_curve: 81</br>skill_fk_accuracy: 84</br>... too many variables"
          ],
          [
           "</br>id: 2</br>prediction: 88626250.753</br>movement_reactions: 42.98</br></br>overall: 91</br>potential: 91</br>age: 36.0</br>weak_foot: 4</br>skill_moves: 5</br>international_reputation: 5</br>pace: 87.0</br>shooting: 94.0</br>passing: 80.0</br>dribbling: 88.0</br>defending: 34.0</br>physic: 75.0</br>attacking_crossing: 87</br>attacking_finishing: 95</br>attacking_heading_accuracy: 90</br>attacking_short_passing: 80</br>attacking_volleys: 86</br>skill_dribbling: 88</br>skill_curve: 81</br>skill_fk_accuracy: 84</br>... too many variables"
          ],
          [
           "</br>id: 2</br>prediction: 88626250.753</br>movement_reactions: 43.55</br></br>overall: 91</br>potential: 91</br>age: 36.0</br>weak_foot: 4</br>skill_moves: 5</br>international_reputation: 5</br>pace: 87.0</br>shooting: 94.0</br>passing: 80.0</br>dribbling: 88.0</br>defending: 34.0</br>physic: 75.0</br>attacking_crossing: 87</br>attacking_finishing: 95</br>attacking_heading_accuracy: 90</br>attacking_short_passing: 80</br>attacking_volleys: 86</br>skill_dribbling: 88</br>skill_curve: 81</br>skill_fk_accuracy: 84</br>... too many variables"
          ],
          [
           "</br>id: 2</br>prediction: 88626250.753</br>movement_reactions: 44.12</br></br>overall: 91</br>potential: 91</br>age: 36.0</br>weak_foot: 4</br>skill_moves: 5</br>international_reputation: 5</br>pace: 87.0</br>shooting: 94.0</br>passing: 80.0</br>dribbling: 88.0</br>defending: 34.0</br>physic: 75.0</br>attacking_crossing: 87</br>attacking_finishing: 95</br>attacking_heading_accuracy: 90</br>attacking_short_passing: 80</br>attacking_volleys: 86</br>skill_dribbling: 88</br>skill_curve: 81</br>skill_fk_accuracy: 84</br>... too many variables"
          ],
          [
           "</br>id: 2</br>prediction: 88626250.753</br>movement_reactions: 44.69</br></br>overall: 91</br>potential: 91</br>age: 36.0</br>weak_foot: 4</br>skill_moves: 5</br>international_reputation: 5</br>pace: 87.0</br>shooting: 94.0</br>passing: 80.0</br>dribbling: 88.0</br>defending: 34.0</br>physic: 75.0</br>attacking_crossing: 87</br>attacking_finishing: 95</br>attacking_heading_accuracy: 90</br>attacking_short_passing: 80</br>attacking_volleys: 86</br>skill_dribbling: 88</br>skill_curve: 81</br>skill_fk_accuracy: 84</br>... too many variables"
          ],
          [
           "</br>id: 2</br>prediction: 88626250.753</br>movement_reactions: 45.26</br></br>overall: 91</br>potential: 91</br>age: 36.0</br>weak_foot: 4</br>skill_moves: 5</br>international_reputation: 5</br>pace: 87.0</br>shooting: 94.0</br>passing: 80.0</br>dribbling: 88.0</br>defending: 34.0</br>physic: 75.0</br>attacking_crossing: 87</br>attacking_finishing: 95</br>attacking_heading_accuracy: 90</br>attacking_short_passing: 80</br>attacking_volleys: 86</br>skill_dribbling: 88</br>skill_curve: 81</br>skill_fk_accuracy: 84</br>... too many variables"
          ],
          [
           "</br>id: 2</br>prediction: 88626250.753</br>movement_reactions: 45.83</br></br>overall: 91</br>potential: 91</br>age: 36.0</br>weak_foot: 4</br>skill_moves: 5</br>international_reputation: 5</br>pace: 87.0</br>shooting: 94.0</br>passing: 80.0</br>dribbling: 88.0</br>defending: 34.0</br>physic: 75.0</br>attacking_crossing: 87</br>attacking_finishing: 95</br>attacking_heading_accuracy: 90</br>attacking_short_passing: 80</br>attacking_volleys: 86</br>skill_dribbling: 88</br>skill_curve: 81</br>skill_fk_accuracy: 84</br>... too many variables"
          ],
          [
           "</br>id: 2</br>prediction: 88626250.753</br>movement_reactions: 46.4</br></br>overall: 91</br>potential: 91</br>age: 36.0</br>weak_foot: 4</br>skill_moves: 5</br>international_reputation: 5</br>pace: 87.0</br>shooting: 94.0</br>passing: 80.0</br>dribbling: 88.0</br>defending: 34.0</br>physic: 75.0</br>attacking_crossing: 87</br>attacking_finishing: 95</br>attacking_heading_accuracy: 90</br>attacking_short_passing: 80</br>attacking_volleys: 86</br>skill_dribbling: 88</br>skill_curve: 81</br>skill_fk_accuracy: 84</br>... too many variables"
          ],
          [
           "</br>id: 2</br>prediction: 88626250.753</br>movement_reactions: 46.97</br></br>overall: 91</br>potential: 91</br>age: 36.0</br>weak_foot: 4</br>skill_moves: 5</br>international_reputation: 5</br>pace: 87.0</br>shooting: 94.0</br>passing: 80.0</br>dribbling: 88.0</br>defending: 34.0</br>physic: 75.0</br>attacking_crossing: 87</br>attacking_finishing: 95</br>attacking_heading_accuracy: 90</br>attacking_short_passing: 80</br>attacking_volleys: 86</br>skill_dribbling: 88</br>skill_curve: 81</br>skill_fk_accuracy: 84</br>... too many variables"
          ],
          [
           "</br>id: 2</br>prediction: 88626250.753</br>movement_reactions: 47.54</br></br>overall: 91</br>potential: 91</br>age: 36.0</br>weak_foot: 4</br>skill_moves: 5</br>international_reputation: 5</br>pace: 87.0</br>shooting: 94.0</br>passing: 80.0</br>dribbling: 88.0</br>defending: 34.0</br>physic: 75.0</br>attacking_crossing: 87</br>attacking_finishing: 95</br>attacking_heading_accuracy: 90</br>attacking_short_passing: 80</br>attacking_volleys: 86</br>skill_dribbling: 88</br>skill_curve: 81</br>skill_fk_accuracy: 84</br>... too many variables"
          ],
          [
           "</br>id: 2</br>prediction: 88626250.753</br>movement_reactions: 48.11</br></br>overall: 91</br>potential: 91</br>age: 36.0</br>weak_foot: 4</br>skill_moves: 5</br>international_reputation: 5</br>pace: 87.0</br>shooting: 94.0</br>passing: 80.0</br>dribbling: 88.0</br>defending: 34.0</br>physic: 75.0</br>attacking_crossing: 87</br>attacking_finishing: 95</br>attacking_heading_accuracy: 90</br>attacking_short_passing: 80</br>attacking_volleys: 86</br>skill_dribbling: 88</br>skill_curve: 81</br>skill_fk_accuracy: 84</br>... too many variables"
          ],
          [
           "</br>id: 2</br>prediction: 88626250.753</br>movement_reactions: 48.68</br></br>overall: 91</br>potential: 91</br>age: 36.0</br>weak_foot: 4</br>skill_moves: 5</br>international_reputation: 5</br>pace: 87.0</br>shooting: 94.0</br>passing: 80.0</br>dribbling: 88.0</br>defending: 34.0</br>physic: 75.0</br>attacking_crossing: 87</br>attacking_finishing: 95</br>attacking_heading_accuracy: 90</br>attacking_short_passing: 80</br>attacking_volleys: 86</br>skill_dribbling: 88</br>skill_curve: 81</br>skill_fk_accuracy: 84</br>... too many variables"
          ],
          [
           "</br>id: 2</br>prediction: 88626250.753</br>movement_reactions: 49.25</br></br>overall: 91</br>potential: 91</br>age: 36.0</br>weak_foot: 4</br>skill_moves: 5</br>international_reputation: 5</br>pace: 87.0</br>shooting: 94.0</br>passing: 80.0</br>dribbling: 88.0</br>defending: 34.0</br>physic: 75.0</br>attacking_crossing: 87</br>attacking_finishing: 95</br>attacking_heading_accuracy: 90</br>attacking_short_passing: 80</br>attacking_volleys: 86</br>skill_dribbling: 88</br>skill_curve: 81</br>skill_fk_accuracy: 84</br>... too many variables"
          ],
          [
           "</br>id: 2</br>prediction: 88626250.753</br>movement_reactions: 49.82</br></br>overall: 91</br>potential: 91</br>age: 36.0</br>weak_foot: 4</br>skill_moves: 5</br>international_reputation: 5</br>pace: 87.0</br>shooting: 94.0</br>passing: 80.0</br>dribbling: 88.0</br>defending: 34.0</br>physic: 75.0</br>attacking_crossing: 87</br>attacking_finishing: 95</br>attacking_heading_accuracy: 90</br>attacking_short_passing: 80</br>attacking_volleys: 86</br>skill_dribbling: 88</br>skill_curve: 81</br>skill_fk_accuracy: 84</br>... too many variables"
          ],
          [
           "</br>id: 2</br>prediction: 88626250.753</br>movement_reactions: 50.39</br></br>overall: 91</br>potential: 91</br>age: 36.0</br>weak_foot: 4</br>skill_moves: 5</br>international_reputation: 5</br>pace: 87.0</br>shooting: 94.0</br>passing: 80.0</br>dribbling: 88.0</br>defending: 34.0</br>physic: 75.0</br>attacking_crossing: 87</br>attacking_finishing: 95</br>attacking_heading_accuracy: 90</br>attacking_short_passing: 80</br>attacking_volleys: 86</br>skill_dribbling: 88</br>skill_curve: 81</br>skill_fk_accuracy: 84</br>... too many variables"
          ],
          [
           "</br>id: 2</br>prediction: 88626250.753</br>movement_reactions: 50.96</br></br>overall: 91</br>potential: 91</br>age: 36.0</br>weak_foot: 4</br>skill_moves: 5</br>international_reputation: 5</br>pace: 87.0</br>shooting: 94.0</br>passing: 80.0</br>dribbling: 88.0</br>defending: 34.0</br>physic: 75.0</br>attacking_crossing: 87</br>attacking_finishing: 95</br>attacking_heading_accuracy: 90</br>attacking_short_passing: 80</br>attacking_volleys: 86</br>skill_dribbling: 88</br>skill_curve: 81</br>skill_fk_accuracy: 84</br>... too many variables"
          ],
          [
           "</br>id: 2</br>prediction: 88626250.753</br>movement_reactions: 51.53</br></br>overall: 91</br>potential: 91</br>age: 36.0</br>weak_foot: 4</br>skill_moves: 5</br>international_reputation: 5</br>pace: 87.0</br>shooting: 94.0</br>passing: 80.0</br>dribbling: 88.0</br>defending: 34.0</br>physic: 75.0</br>attacking_crossing: 87</br>attacking_finishing: 95</br>attacking_heading_accuracy: 90</br>attacking_short_passing: 80</br>attacking_volleys: 86</br>skill_dribbling: 88</br>skill_curve: 81</br>skill_fk_accuracy: 84</br>... too many variables"
          ],
          [
           "</br>id: 2</br>prediction: 88626250.753</br>movement_reactions: 52.099999999999994</br></br>overall: 91</br>potential: 91</br>age: 36.0</br>weak_foot: 4</br>skill_moves: 5</br>international_reputation: 5</br>pace: 87.0</br>shooting: 94.0</br>passing: 80.0</br>dribbling: 88.0</br>defending: 34.0</br>physic: 75.0</br>attacking_crossing: 87</br>attacking_finishing: 95</br>attacking_heading_accuracy: 90</br>attacking_short_passing: 80</br>attacking_volleys: 86</br>skill_dribbling: 88</br>skill_curve: 81</br>... too many variables"
          ],
          [
           "</br>id: 2</br>prediction: 88626250.753</br>movement_reactions: 52.67</br></br>overall: 91</br>potential: 91</br>age: 36.0</br>weak_foot: 4</br>skill_moves: 5</br>international_reputation: 5</br>pace: 87.0</br>shooting: 94.0</br>passing: 80.0</br>dribbling: 88.0</br>defending: 34.0</br>physic: 75.0</br>attacking_crossing: 87</br>attacking_finishing: 95</br>attacking_heading_accuracy: 90</br>attacking_short_passing: 80</br>attacking_volleys: 86</br>skill_dribbling: 88</br>skill_curve: 81</br>skill_fk_accuracy: 84</br>... too many variables"
          ],
          [
           "</br>id: 2</br>prediction: 88626250.753</br>movement_reactions: 53.239999999999995</br></br>overall: 91</br>potential: 91</br>age: 36.0</br>weak_foot: 4</br>skill_moves: 5</br>international_reputation: 5</br>pace: 87.0</br>shooting: 94.0</br>passing: 80.0</br>dribbling: 88.0</br>defending: 34.0</br>physic: 75.0</br>attacking_crossing: 87</br>attacking_finishing: 95</br>attacking_heading_accuracy: 90</br>attacking_short_passing: 80</br>attacking_volleys: 86</br>skill_dribbling: 88</br>skill_curve: 81</br>... too many variables"
          ],
          [
           "</br>id: 2</br>prediction: 88626250.753</br>movement_reactions: 53.81</br></br>overall: 91</br>potential: 91</br>age: 36.0</br>weak_foot: 4</br>skill_moves: 5</br>international_reputation: 5</br>pace: 87.0</br>shooting: 94.0</br>passing: 80.0</br>dribbling: 88.0</br>defending: 34.0</br>physic: 75.0</br>attacking_crossing: 87</br>attacking_finishing: 95</br>attacking_heading_accuracy: 90</br>attacking_short_passing: 80</br>attacking_volleys: 86</br>skill_dribbling: 88</br>skill_curve: 81</br>skill_fk_accuracy: 84</br>... too many variables"
          ],
          [
           "</br>id: 2</br>prediction: 88626250.753</br>movement_reactions: 54.379999999999995</br></br>overall: 91</br>potential: 91</br>age: 36.0</br>weak_foot: 4</br>skill_moves: 5</br>international_reputation: 5</br>pace: 87.0</br>shooting: 94.0</br>passing: 80.0</br>dribbling: 88.0</br>defending: 34.0</br>physic: 75.0</br>attacking_crossing: 87</br>attacking_finishing: 95</br>attacking_heading_accuracy: 90</br>attacking_short_passing: 80</br>attacking_volleys: 86</br>skill_dribbling: 88</br>skill_curve: 81</br>... too many variables"
          ],
          [
           "</br>id: 2</br>prediction: 88626250.753</br>movement_reactions: 54.95</br></br>overall: 91</br>potential: 91</br>age: 36.0</br>weak_foot: 4</br>skill_moves: 5</br>international_reputation: 5</br>pace: 87.0</br>shooting: 94.0</br>passing: 80.0</br>dribbling: 88.0</br>defending: 34.0</br>physic: 75.0</br>attacking_crossing: 87</br>attacking_finishing: 95</br>attacking_heading_accuracy: 90</br>attacking_short_passing: 80</br>attacking_volleys: 86</br>skill_dribbling: 88</br>skill_curve: 81</br>skill_fk_accuracy: 84</br>... too many variables"
          ],
          [
           "</br>id: 2</br>prediction: 88626250.753</br>movement_reactions: 55.519999999999996</br></br>overall: 91</br>potential: 91</br>age: 36.0</br>weak_foot: 4</br>skill_moves: 5</br>international_reputation: 5</br>pace: 87.0</br>shooting: 94.0</br>passing: 80.0</br>dribbling: 88.0</br>defending: 34.0</br>physic: 75.0</br>attacking_crossing: 87</br>attacking_finishing: 95</br>attacking_heading_accuracy: 90</br>attacking_short_passing: 80</br>attacking_volleys: 86</br>skill_dribbling: 88</br>skill_curve: 81</br>... too many variables"
          ],
          [
           "</br>id: 2</br>prediction: 88626250.753</br>movement_reactions: 56.09</br></br>overall: 91</br>potential: 91</br>age: 36.0</br>weak_foot: 4</br>skill_moves: 5</br>international_reputation: 5</br>pace: 87.0</br>shooting: 94.0</br>passing: 80.0</br>dribbling: 88.0</br>defending: 34.0</br>physic: 75.0</br>attacking_crossing: 87</br>attacking_finishing: 95</br>attacking_heading_accuracy: 90</br>attacking_short_passing: 80</br>attacking_volleys: 86</br>skill_dribbling: 88</br>skill_curve: 81</br>skill_fk_accuracy: 84</br>... too many variables"
          ],
          [
           "</br>id: 2</br>prediction: 88626250.753</br>movement_reactions: 56.66</br></br>overall: 91</br>potential: 91</br>age: 36.0</br>weak_foot: 4</br>skill_moves: 5</br>international_reputation: 5</br>pace: 87.0</br>shooting: 94.0</br>passing: 80.0</br>dribbling: 88.0</br>defending: 34.0</br>physic: 75.0</br>attacking_crossing: 87</br>attacking_finishing: 95</br>attacking_heading_accuracy: 90</br>attacking_short_passing: 80</br>attacking_volleys: 86</br>skill_dribbling: 88</br>skill_curve: 81</br>skill_fk_accuracy: 84</br>... too many variables"
          ],
          [
           "</br>id: 2</br>prediction: 88626250.753</br>movement_reactions: 57.23</br></br>overall: 91</br>potential: 91</br>age: 36.0</br>weak_foot: 4</br>skill_moves: 5</br>international_reputation: 5</br>pace: 87.0</br>shooting: 94.0</br>passing: 80.0</br>dribbling: 88.0</br>defending: 34.0</br>physic: 75.0</br>attacking_crossing: 87</br>attacking_finishing: 95</br>attacking_heading_accuracy: 90</br>attacking_short_passing: 80</br>attacking_volleys: 86</br>skill_dribbling: 88</br>skill_curve: 81</br>skill_fk_accuracy: 84</br>... too many variables"
          ],
          [
           "</br>id: 2</br>prediction: 88626250.753</br>movement_reactions: 57.8</br></br>overall: 91</br>potential: 91</br>age: 36.0</br>weak_foot: 4</br>skill_moves: 5</br>international_reputation: 5</br>pace: 87.0</br>shooting: 94.0</br>passing: 80.0</br>dribbling: 88.0</br>defending: 34.0</br>physic: 75.0</br>attacking_crossing: 87</br>attacking_finishing: 95</br>attacking_heading_accuracy: 90</br>attacking_short_passing: 80</br>attacking_volleys: 86</br>skill_dribbling: 88</br>skill_curve: 81</br>skill_fk_accuracy: 84</br>... too many variables"
          ],
          [
           "</br>id: 2</br>prediction: 88626250.753</br>movement_reactions: 58.37</br></br>overall: 91</br>potential: 91</br>age: 36.0</br>weak_foot: 4</br>skill_moves: 5</br>international_reputation: 5</br>pace: 87.0</br>shooting: 94.0</br>passing: 80.0</br>dribbling: 88.0</br>defending: 34.0</br>physic: 75.0</br>attacking_crossing: 87</br>attacking_finishing: 95</br>attacking_heading_accuracy: 90</br>attacking_short_passing: 80</br>attacking_volleys: 86</br>skill_dribbling: 88</br>skill_curve: 81</br>skill_fk_accuracy: 84</br>... too many variables"
          ],
          [
           "</br>id: 2</br>prediction: 88626250.753</br>movement_reactions: 58.94</br></br>overall: 91</br>potential: 91</br>age: 36.0</br>weak_foot: 4</br>skill_moves: 5</br>international_reputation: 5</br>pace: 87.0</br>shooting: 94.0</br>passing: 80.0</br>dribbling: 88.0</br>defending: 34.0</br>physic: 75.0</br>attacking_crossing: 87</br>attacking_finishing: 95</br>attacking_heading_accuracy: 90</br>attacking_short_passing: 80</br>attacking_volleys: 86</br>skill_dribbling: 88</br>skill_curve: 81</br>skill_fk_accuracy: 84</br>... too many variables"
          ],
          [
           "</br>id: 2</br>prediction: 88626250.753</br>movement_reactions: 59.51</br></br>overall: 91</br>potential: 91</br>age: 36.0</br>weak_foot: 4</br>skill_moves: 5</br>international_reputation: 5</br>pace: 87.0</br>shooting: 94.0</br>passing: 80.0</br>dribbling: 88.0</br>defending: 34.0</br>physic: 75.0</br>attacking_crossing: 87</br>attacking_finishing: 95</br>attacking_heading_accuracy: 90</br>attacking_short_passing: 80</br>attacking_volleys: 86</br>skill_dribbling: 88</br>skill_curve: 81</br>skill_fk_accuracy: 84</br>... too many variables"
          ],
          [
           "</br>id: 2</br>prediction: 88626250.753</br>movement_reactions: 60.08</br></br>overall: 91</br>potential: 91</br>age: 36.0</br>weak_foot: 4</br>skill_moves: 5</br>international_reputation: 5</br>pace: 87.0</br>shooting: 94.0</br>passing: 80.0</br>dribbling: 88.0</br>defending: 34.0</br>physic: 75.0</br>attacking_crossing: 87</br>attacking_finishing: 95</br>attacking_heading_accuracy: 90</br>attacking_short_passing: 80</br>attacking_volleys: 86</br>skill_dribbling: 88</br>skill_curve: 81</br>skill_fk_accuracy: 84</br>... too many variables"
          ],
          [
           "</br>id: 2</br>prediction: 88626250.753</br>movement_reactions: 60.65</br></br>overall: 91</br>potential: 91</br>age: 36.0</br>weak_foot: 4</br>skill_moves: 5</br>international_reputation: 5</br>pace: 87.0</br>shooting: 94.0</br>passing: 80.0</br>dribbling: 88.0</br>defending: 34.0</br>physic: 75.0</br>attacking_crossing: 87</br>attacking_finishing: 95</br>attacking_heading_accuracy: 90</br>attacking_short_passing: 80</br>attacking_volleys: 86</br>skill_dribbling: 88</br>skill_curve: 81</br>skill_fk_accuracy: 84</br>... too many variables"
          ],
          [
           "</br>id: 2</br>prediction: 88626250.753</br>movement_reactions: 61.22</br></br>overall: 91</br>potential: 91</br>age: 36.0</br>weak_foot: 4</br>skill_moves: 5</br>international_reputation: 5</br>pace: 87.0</br>shooting: 94.0</br>passing: 80.0</br>dribbling: 88.0</br>defending: 34.0</br>physic: 75.0</br>attacking_crossing: 87</br>attacking_finishing: 95</br>attacking_heading_accuracy: 90</br>attacking_short_passing: 80</br>attacking_volleys: 86</br>skill_dribbling: 88</br>skill_curve: 81</br>skill_fk_accuracy: 84</br>... too many variables"
          ],
          [
           "</br>id: 2</br>prediction: 88626250.753</br>movement_reactions: 61.79</br></br>overall: 91</br>potential: 91</br>age: 36.0</br>weak_foot: 4</br>skill_moves: 5</br>international_reputation: 5</br>pace: 87.0</br>shooting: 94.0</br>passing: 80.0</br>dribbling: 88.0</br>defending: 34.0</br>physic: 75.0</br>attacking_crossing: 87</br>attacking_finishing: 95</br>attacking_heading_accuracy: 90</br>attacking_short_passing: 80</br>attacking_volleys: 86</br>skill_dribbling: 88</br>skill_curve: 81</br>skill_fk_accuracy: 84</br>... too many variables"
          ],
          [
           "</br>id: 2</br>prediction: 88626250.753</br>movement_reactions: 62.36</br></br>overall: 91</br>potential: 91</br>age: 36.0</br>weak_foot: 4</br>skill_moves: 5</br>international_reputation: 5</br>pace: 87.0</br>shooting: 94.0</br>passing: 80.0</br>dribbling: 88.0</br>defending: 34.0</br>physic: 75.0</br>attacking_crossing: 87</br>attacking_finishing: 95</br>attacking_heading_accuracy: 90</br>attacking_short_passing: 80</br>attacking_volleys: 86</br>skill_dribbling: 88</br>skill_curve: 81</br>skill_fk_accuracy: 84</br>... too many variables"
          ],
          [
           "</br>id: 2</br>prediction: 88626250.753</br>movement_reactions: 62.92999999999999</br></br>overall: 91</br>potential: 91</br>age: 36.0</br>weak_foot: 4</br>skill_moves: 5</br>international_reputation: 5</br>pace: 87.0</br>shooting: 94.0</br>passing: 80.0</br>dribbling: 88.0</br>defending: 34.0</br>physic: 75.0</br>attacking_crossing: 87</br>attacking_finishing: 95</br>attacking_heading_accuracy: 90</br>attacking_short_passing: 80</br>attacking_volleys: 86</br>skill_dribbling: 88</br>skill_curve: 81</br>... too many variables"
          ],
          [
           "</br>id: 2</br>prediction: 88626250.753</br>movement_reactions: 63.5</br></br>overall: 91</br>potential: 91</br>age: 36.0</br>weak_foot: 4</br>skill_moves: 5</br>international_reputation: 5</br>pace: 87.0</br>shooting: 94.0</br>passing: 80.0</br>dribbling: 88.0</br>defending: 34.0</br>physic: 75.0</br>attacking_crossing: 87</br>attacking_finishing: 95</br>attacking_heading_accuracy: 90</br>attacking_short_passing: 80</br>attacking_volleys: 86</br>skill_dribbling: 88</br>skill_curve: 81</br>skill_fk_accuracy: 84</br>... too many variables"
          ],
          [
           "</br>id: 2</br>prediction: 88626250.753</br>movement_reactions: 64.07</br></br>overall: 91</br>potential: 91</br>age: 36.0</br>weak_foot: 4</br>skill_moves: 5</br>international_reputation: 5</br>pace: 87.0</br>shooting: 94.0</br>passing: 80.0</br>dribbling: 88.0</br>defending: 34.0</br>physic: 75.0</br>attacking_crossing: 87</br>attacking_finishing: 95</br>attacking_heading_accuracy: 90</br>attacking_short_passing: 80</br>attacking_volleys: 86</br>skill_dribbling: 88</br>skill_curve: 81</br>skill_fk_accuracy: 84</br>... too many variables"
          ],
          [
           "</br>id: 2</br>prediction: 88626250.753</br>movement_reactions: 64.64</br></br>overall: 91</br>potential: 91</br>age: 36.0</br>weak_foot: 4</br>skill_moves: 5</br>international_reputation: 5</br>pace: 87.0</br>shooting: 94.0</br>passing: 80.0</br>dribbling: 88.0</br>defending: 34.0</br>physic: 75.0</br>attacking_crossing: 87</br>attacking_finishing: 95</br>attacking_heading_accuracy: 90</br>attacking_short_passing: 80</br>attacking_volleys: 86</br>skill_dribbling: 88</br>skill_curve: 81</br>skill_fk_accuracy: 84</br>... too many variables"
          ],
          [
           "</br>id: 2</br>prediction: 88626250.753</br>movement_reactions: 65.21</br></br>overall: 91</br>potential: 91</br>age: 36.0</br>weak_foot: 4</br>skill_moves: 5</br>international_reputation: 5</br>pace: 87.0</br>shooting: 94.0</br>passing: 80.0</br>dribbling: 88.0</br>defending: 34.0</br>physic: 75.0</br>attacking_crossing: 87</br>attacking_finishing: 95</br>attacking_heading_accuracy: 90</br>attacking_short_passing: 80</br>attacking_volleys: 86</br>skill_dribbling: 88</br>skill_curve: 81</br>skill_fk_accuracy: 84</br>... too many variables"
          ],
          [
           "</br>id: 2</br>prediction: 88626250.753</br>movement_reactions: 65.78</br></br>overall: 91</br>potential: 91</br>age: 36.0</br>weak_foot: 4</br>skill_moves: 5</br>international_reputation: 5</br>pace: 87.0</br>shooting: 94.0</br>passing: 80.0</br>dribbling: 88.0</br>defending: 34.0</br>physic: 75.0</br>attacking_crossing: 87</br>attacking_finishing: 95</br>attacking_heading_accuracy: 90</br>attacking_short_passing: 80</br>attacking_volleys: 86</br>skill_dribbling: 88</br>skill_curve: 81</br>skill_fk_accuracy: 84</br>... too many variables"
          ],
          [
           "</br>id: 2</br>prediction: 88626250.753</br>movement_reactions: 66.35</br></br>overall: 91</br>potential: 91</br>age: 36.0</br>weak_foot: 4</br>skill_moves: 5</br>international_reputation: 5</br>pace: 87.0</br>shooting: 94.0</br>passing: 80.0</br>dribbling: 88.0</br>defending: 34.0</br>physic: 75.0</br>attacking_crossing: 87</br>attacking_finishing: 95</br>attacking_heading_accuracy: 90</br>attacking_short_passing: 80</br>attacking_volleys: 86</br>skill_dribbling: 88</br>skill_curve: 81</br>skill_fk_accuracy: 84</br>... too many variables"
          ],
          [
           "</br>id: 2</br>prediction: 88626250.753</br>movement_reactions: 66.92</br></br>overall: 91</br>potential: 91</br>age: 36.0</br>weak_foot: 4</br>skill_moves: 5</br>international_reputation: 5</br>pace: 87.0</br>shooting: 94.0</br>passing: 80.0</br>dribbling: 88.0</br>defending: 34.0</br>physic: 75.0</br>attacking_crossing: 87</br>attacking_finishing: 95</br>attacking_heading_accuracy: 90</br>attacking_short_passing: 80</br>attacking_volleys: 86</br>skill_dribbling: 88</br>skill_curve: 81</br>skill_fk_accuracy: 84</br>... too many variables"
          ],
          [
           "</br>id: 2</br>prediction: 88626250.753</br>movement_reactions: 67.49</br></br>overall: 91</br>potential: 91</br>age: 36.0</br>weak_foot: 4</br>skill_moves: 5</br>international_reputation: 5</br>pace: 87.0</br>shooting: 94.0</br>passing: 80.0</br>dribbling: 88.0</br>defending: 34.0</br>physic: 75.0</br>attacking_crossing: 87</br>attacking_finishing: 95</br>attacking_heading_accuracy: 90</br>attacking_short_passing: 80</br>attacking_volleys: 86</br>skill_dribbling: 88</br>skill_curve: 81</br>skill_fk_accuracy: 84</br>... too many variables"
          ],
          [
           "</br>id: 2</br>prediction: 88626250.753</br>movement_reactions: 68.06</br></br>overall: 91</br>potential: 91</br>age: 36.0</br>weak_foot: 4</br>skill_moves: 5</br>international_reputation: 5</br>pace: 87.0</br>shooting: 94.0</br>passing: 80.0</br>dribbling: 88.0</br>defending: 34.0</br>physic: 75.0</br>attacking_crossing: 87</br>attacking_finishing: 95</br>attacking_heading_accuracy: 90</br>attacking_short_passing: 80</br>attacking_volleys: 86</br>skill_dribbling: 88</br>skill_curve: 81</br>skill_fk_accuracy: 84</br>... too many variables"
          ],
          [
           "</br>id: 2</br>prediction: 88626250.753</br>movement_reactions: 68.63</br></br>overall: 91</br>potential: 91</br>age: 36.0</br>weak_foot: 4</br>skill_moves: 5</br>international_reputation: 5</br>pace: 87.0</br>shooting: 94.0</br>passing: 80.0</br>dribbling: 88.0</br>defending: 34.0</br>physic: 75.0</br>attacking_crossing: 87</br>attacking_finishing: 95</br>attacking_heading_accuracy: 90</br>attacking_short_passing: 80</br>attacking_volleys: 86</br>skill_dribbling: 88</br>skill_curve: 81</br>skill_fk_accuracy: 84</br>... too many variables"
          ],
          [
           "</br>id: 2</br>prediction: 88626250.753</br>movement_reactions: 69.19999999999999</br></br>overall: 91</br>potential: 91</br>age: 36.0</br>weak_foot: 4</br>skill_moves: 5</br>international_reputation: 5</br>pace: 87.0</br>shooting: 94.0</br>passing: 80.0</br>dribbling: 88.0</br>defending: 34.0</br>physic: 75.0</br>attacking_crossing: 87</br>attacking_finishing: 95</br>attacking_heading_accuracy: 90</br>attacking_short_passing: 80</br>attacking_volleys: 86</br>skill_dribbling: 88</br>skill_curve: 81</br>... too many variables"
          ],
          [
           "</br>id: 2</br>prediction: 88626250.753</br>movement_reactions: 69.77</br></br>overall: 91</br>potential: 91</br>age: 36.0</br>weak_foot: 4</br>skill_moves: 5</br>international_reputation: 5</br>pace: 87.0</br>shooting: 94.0</br>passing: 80.0</br>dribbling: 88.0</br>defending: 34.0</br>physic: 75.0</br>attacking_crossing: 87</br>attacking_finishing: 95</br>attacking_heading_accuracy: 90</br>attacking_short_passing: 80</br>attacking_volleys: 86</br>skill_dribbling: 88</br>skill_curve: 81</br>skill_fk_accuracy: 84</br>... too many variables"
          ],
          [
           "</br>id: 2</br>prediction: 88626250.753</br>movement_reactions: 70.34</br></br>overall: 91</br>potential: 91</br>age: 36.0</br>weak_foot: 4</br>skill_moves: 5</br>international_reputation: 5</br>pace: 87.0</br>shooting: 94.0</br>passing: 80.0</br>dribbling: 88.0</br>defending: 34.0</br>physic: 75.0</br>attacking_crossing: 87</br>attacking_finishing: 95</br>attacking_heading_accuracy: 90</br>attacking_short_passing: 80</br>attacking_volleys: 86</br>skill_dribbling: 88</br>skill_curve: 81</br>skill_fk_accuracy: 84</br>... too many variables"
          ],
          [
           "</br>id: 2</br>prediction: 88626250.753</br>movement_reactions: 70.91</br></br>overall: 91</br>potential: 91</br>age: 36.0</br>weak_foot: 4</br>skill_moves: 5</br>international_reputation: 5</br>pace: 87.0</br>shooting: 94.0</br>passing: 80.0</br>dribbling: 88.0</br>defending: 34.0</br>physic: 75.0</br>attacking_crossing: 87</br>attacking_finishing: 95</br>attacking_heading_accuracy: 90</br>attacking_short_passing: 80</br>attacking_volleys: 86</br>skill_dribbling: 88</br>skill_curve: 81</br>skill_fk_accuracy: 84</br>... too many variables"
          ],
          [
           "</br>id: 2</br>prediction: 88626250.753</br>movement_reactions: 71.47999999999999</br></br>overall: 91</br>potential: 91</br>age: 36.0</br>weak_foot: 4</br>skill_moves: 5</br>international_reputation: 5</br>pace: 87.0</br>shooting: 94.0</br>passing: 80.0</br>dribbling: 88.0</br>defending: 34.0</br>physic: 75.0</br>attacking_crossing: 87</br>attacking_finishing: 95</br>attacking_heading_accuracy: 90</br>attacking_short_passing: 80</br>attacking_volleys: 86</br>skill_dribbling: 88</br>skill_curve: 81</br>... too many variables"
          ],
          [
           "</br>id: 2</br>prediction: 88626250.753</br>movement_reactions: 72.05</br></br>overall: 91</br>potential: 91</br>age: 36.0</br>weak_foot: 4</br>skill_moves: 5</br>international_reputation: 5</br>pace: 87.0</br>shooting: 94.0</br>passing: 80.0</br>dribbling: 88.0</br>defending: 34.0</br>physic: 75.0</br>attacking_crossing: 87</br>attacking_finishing: 95</br>attacking_heading_accuracy: 90</br>attacking_short_passing: 80</br>attacking_volleys: 86</br>skill_dribbling: 88</br>skill_curve: 81</br>skill_fk_accuracy: 84</br>... too many variables"
          ],
          [
           "</br>id: 2</br>prediction: 88626250.753</br>movement_reactions: 72.62</br></br>overall: 91</br>potential: 91</br>age: 36.0</br>weak_foot: 4</br>skill_moves: 5</br>international_reputation: 5</br>pace: 87.0</br>shooting: 94.0</br>passing: 80.0</br>dribbling: 88.0</br>defending: 34.0</br>physic: 75.0</br>attacking_crossing: 87</br>attacking_finishing: 95</br>attacking_heading_accuracy: 90</br>attacking_short_passing: 80</br>attacking_volleys: 86</br>skill_dribbling: 88</br>skill_curve: 81</br>skill_fk_accuracy: 84</br>... too many variables"
          ],
          [
           "</br>id: 2</br>prediction: 88626250.753</br>movement_reactions: 73.19</br></br>overall: 91</br>potential: 91</br>age: 36.0</br>weak_foot: 4</br>skill_moves: 5</br>international_reputation: 5</br>pace: 87.0</br>shooting: 94.0</br>passing: 80.0</br>dribbling: 88.0</br>defending: 34.0</br>physic: 75.0</br>attacking_crossing: 87</br>attacking_finishing: 95</br>attacking_heading_accuracy: 90</br>attacking_short_passing: 80</br>attacking_volleys: 86</br>skill_dribbling: 88</br>skill_curve: 81</br>skill_fk_accuracy: 84</br>... too many variables"
          ],
          [
           "</br>id: 2</br>prediction: 88626250.753</br>movement_reactions: 73.75999999999999</br></br>overall: 91</br>potential: 91</br>age: 36.0</br>weak_foot: 4</br>skill_moves: 5</br>international_reputation: 5</br>pace: 87.0</br>shooting: 94.0</br>passing: 80.0</br>dribbling: 88.0</br>defending: 34.0</br>physic: 75.0</br>attacking_crossing: 87</br>attacking_finishing: 95</br>attacking_heading_accuracy: 90</br>attacking_short_passing: 80</br>attacking_volleys: 86</br>skill_dribbling: 88</br>skill_curve: 81</br>... too many variables"
          ],
          [
           "</br>id: 2</br>prediction: 88626250.753</br>movement_reactions: 74.33</br></br>overall: 91</br>potential: 91</br>age: 36.0</br>weak_foot: 4</br>skill_moves: 5</br>international_reputation: 5</br>pace: 87.0</br>shooting: 94.0</br>passing: 80.0</br>dribbling: 88.0</br>defending: 34.0</br>physic: 75.0</br>attacking_crossing: 87</br>attacking_finishing: 95</br>attacking_heading_accuracy: 90</br>attacking_short_passing: 80</br>attacking_volleys: 86</br>skill_dribbling: 88</br>skill_curve: 81</br>skill_fk_accuracy: 84</br>... too many variables"
          ],
          [
           "</br>id: 2</br>prediction: 88626250.753</br>movement_reactions: 74.9</br></br>overall: 91</br>potential: 91</br>age: 36.0</br>weak_foot: 4</br>skill_moves: 5</br>international_reputation: 5</br>pace: 87.0</br>shooting: 94.0</br>passing: 80.0</br>dribbling: 88.0</br>defending: 34.0</br>physic: 75.0</br>attacking_crossing: 87</br>attacking_finishing: 95</br>attacking_heading_accuracy: 90</br>attacking_short_passing: 80</br>attacking_volleys: 86</br>skill_dribbling: 88</br>skill_curve: 81</br>skill_fk_accuracy: 84</br>... too many variables"
          ],
          [
           "</br>id: 2</br>prediction: 88626250.753</br>movement_reactions: 75.47</br></br>overall: 91</br>potential: 91</br>age: 36.0</br>weak_foot: 4</br>skill_moves: 5</br>international_reputation: 5</br>pace: 87.0</br>shooting: 94.0</br>passing: 80.0</br>dribbling: 88.0</br>defending: 34.0</br>physic: 75.0</br>attacking_crossing: 87</br>attacking_finishing: 95</br>attacking_heading_accuracy: 90</br>attacking_short_passing: 80</br>attacking_volleys: 86</br>skill_dribbling: 88</br>skill_curve: 81</br>skill_fk_accuracy: 84</br>... too many variables"
          ],
          [
           "</br>id: 2</br>prediction: 88626250.753</br>movement_reactions: 76.03999999999999</br></br>overall: 91</br>potential: 91</br>age: 36.0</br>weak_foot: 4</br>skill_moves: 5</br>international_reputation: 5</br>pace: 87.0</br>shooting: 94.0</br>passing: 80.0</br>dribbling: 88.0</br>defending: 34.0</br>physic: 75.0</br>attacking_crossing: 87</br>attacking_finishing: 95</br>attacking_heading_accuracy: 90</br>attacking_short_passing: 80</br>attacking_volleys: 86</br>skill_dribbling: 88</br>skill_curve: 81</br>... too many variables"
          ],
          [
           "</br>id: 2</br>prediction: 88626250.753</br>movement_reactions: 76.61</br></br>overall: 91</br>potential: 91</br>age: 36.0</br>weak_foot: 4</br>skill_moves: 5</br>international_reputation: 5</br>pace: 87.0</br>shooting: 94.0</br>passing: 80.0</br>dribbling: 88.0</br>defending: 34.0</br>physic: 75.0</br>attacking_crossing: 87</br>attacking_finishing: 95</br>attacking_heading_accuracy: 90</br>attacking_short_passing: 80</br>attacking_volleys: 86</br>skill_dribbling: 88</br>skill_curve: 81</br>skill_fk_accuracy: 84</br>... too many variables"
          ],
          [
           "</br>id: 2</br>prediction: 88626250.753</br>movement_reactions: 77.18</br></br>overall: 91</br>potential: 91</br>age: 36.0</br>weak_foot: 4</br>skill_moves: 5</br>international_reputation: 5</br>pace: 87.0</br>shooting: 94.0</br>passing: 80.0</br>dribbling: 88.0</br>defending: 34.0</br>physic: 75.0</br>attacking_crossing: 87</br>attacking_finishing: 95</br>attacking_heading_accuracy: 90</br>attacking_short_passing: 80</br>attacking_volleys: 86</br>skill_dribbling: 88</br>skill_curve: 81</br>skill_fk_accuracy: 84</br>... too many variables"
          ],
          [
           "</br>id: 2</br>prediction: 88626250.753</br>movement_reactions: 77.75</br></br>overall: 91</br>potential: 91</br>age: 36.0</br>weak_foot: 4</br>skill_moves: 5</br>international_reputation: 5</br>pace: 87.0</br>shooting: 94.0</br>passing: 80.0</br>dribbling: 88.0</br>defending: 34.0</br>physic: 75.0</br>attacking_crossing: 87</br>attacking_finishing: 95</br>attacking_heading_accuracy: 90</br>attacking_short_passing: 80</br>attacking_volleys: 86</br>skill_dribbling: 88</br>skill_curve: 81</br>skill_fk_accuracy: 84</br>... too many variables"
          ],
          [
           "</br>id: 2</br>prediction: 88626250.753</br>movement_reactions: 78.32</br></br>overall: 91</br>potential: 91</br>age: 36.0</br>weak_foot: 4</br>skill_moves: 5</br>international_reputation: 5</br>pace: 87.0</br>shooting: 94.0</br>passing: 80.0</br>dribbling: 88.0</br>defending: 34.0</br>physic: 75.0</br>attacking_crossing: 87</br>attacking_finishing: 95</br>attacking_heading_accuracy: 90</br>attacking_short_passing: 80</br>attacking_volleys: 86</br>skill_dribbling: 88</br>skill_curve: 81</br>skill_fk_accuracy: 84</br>... too many variables"
          ],
          [
           "</br>id: 2</br>prediction: 88626250.753</br>movement_reactions: 78.88999999999999</br></br>overall: 91</br>potential: 91</br>age: 36.0</br>weak_foot: 4</br>skill_moves: 5</br>international_reputation: 5</br>pace: 87.0</br>shooting: 94.0</br>passing: 80.0</br>dribbling: 88.0</br>defending: 34.0</br>physic: 75.0</br>attacking_crossing: 87</br>attacking_finishing: 95</br>attacking_heading_accuracy: 90</br>attacking_short_passing: 80</br>attacking_volleys: 86</br>skill_dribbling: 88</br>skill_curve: 81</br>... too many variables"
          ],
          [
           "</br>id: 2</br>prediction: 88626250.753</br>movement_reactions: 79.46</br></br>overall: 91</br>potential: 91</br>age: 36.0</br>weak_foot: 4</br>skill_moves: 5</br>international_reputation: 5</br>pace: 87.0</br>shooting: 94.0</br>passing: 80.0</br>dribbling: 88.0</br>defending: 34.0</br>physic: 75.0</br>attacking_crossing: 87</br>attacking_finishing: 95</br>attacking_heading_accuracy: 90</br>attacking_short_passing: 80</br>attacking_volleys: 86</br>skill_dribbling: 88</br>skill_curve: 81</br>skill_fk_accuracy: 84</br>... too many variables"
          ],
          [
           "</br>id: 2</br>prediction: 88582105.184</br>movement_reactions: 80.03</br></br>overall: 91</br>potential: 91</br>age: 36.0</br>weak_foot: 4</br>skill_moves: 5</br>international_reputation: 5</br>pace: 87.0</br>shooting: 94.0</br>passing: 80.0</br>dribbling: 88.0</br>defending: 34.0</br>physic: 75.0</br>attacking_crossing: 87</br>attacking_finishing: 95</br>attacking_heading_accuracy: 90</br>attacking_short_passing: 80</br>attacking_volleys: 86</br>skill_dribbling: 88</br>skill_curve: 81</br>skill_fk_accuracy: 84</br>... too many variables"
          ],
          [
           "</br>id: 2</br>prediction: 88582105.184</br>movement_reactions: 80.6</br></br>overall: 91</br>potential: 91</br>age: 36.0</br>weak_foot: 4</br>skill_moves: 5</br>international_reputation: 5</br>pace: 87.0</br>shooting: 94.0</br>passing: 80.0</br>dribbling: 88.0</br>defending: 34.0</br>physic: 75.0</br>attacking_crossing: 87</br>attacking_finishing: 95</br>attacking_heading_accuracy: 90</br>attacking_short_passing: 80</br>attacking_volleys: 86</br>skill_dribbling: 88</br>skill_curve: 81</br>skill_fk_accuracy: 84</br>... too many variables"
          ],
          [
           "</br>id: 2</br>prediction: 88582105.184</br>movement_reactions: 81.16999999999999</br></br>overall: 91</br>potential: 91</br>age: 36.0</br>weak_foot: 4</br>skill_moves: 5</br>international_reputation: 5</br>pace: 87.0</br>shooting: 94.0</br>passing: 80.0</br>dribbling: 88.0</br>defending: 34.0</br>physic: 75.0</br>attacking_crossing: 87</br>attacking_finishing: 95</br>attacking_heading_accuracy: 90</br>attacking_short_passing: 80</br>attacking_volleys: 86</br>skill_dribbling: 88</br>skill_curve: 81</br>... too many variables"
          ],
          [
           "</br>id: 2</br>prediction: 88582105.184</br>movement_reactions: 81.74</br></br>overall: 91</br>potential: 91</br>age: 36.0</br>weak_foot: 4</br>skill_moves: 5</br>international_reputation: 5</br>pace: 87.0</br>shooting: 94.0</br>passing: 80.0</br>dribbling: 88.0</br>defending: 34.0</br>physic: 75.0</br>attacking_crossing: 87</br>attacking_finishing: 95</br>attacking_heading_accuracy: 90</br>attacking_short_passing: 80</br>attacking_volleys: 86</br>skill_dribbling: 88</br>skill_curve: 81</br>skill_fk_accuracy: 84</br>... too many variables"
          ],
          [
           "</br>id: 2</br>prediction: 88840164.256</br>movement_reactions: 82.31</br></br>overall: 91</br>potential: 91</br>age: 36.0</br>weak_foot: 4</br>skill_moves: 5</br>international_reputation: 5</br>pace: 87.0</br>shooting: 94.0</br>passing: 80.0</br>dribbling: 88.0</br>defending: 34.0</br>physic: 75.0</br>attacking_crossing: 87</br>attacking_finishing: 95</br>attacking_heading_accuracy: 90</br>attacking_short_passing: 80</br>attacking_volleys: 86</br>skill_dribbling: 88</br>skill_curve: 81</br>skill_fk_accuracy: 84</br>... too many variables"
          ],
          [
           "</br>id: 2</br>prediction: 88840164.256</br>movement_reactions: 82.88</br></br>overall: 91</br>potential: 91</br>age: 36.0</br>weak_foot: 4</br>skill_moves: 5</br>international_reputation: 5</br>pace: 87.0</br>shooting: 94.0</br>passing: 80.0</br>dribbling: 88.0</br>defending: 34.0</br>physic: 75.0</br>attacking_crossing: 87</br>attacking_finishing: 95</br>attacking_heading_accuracy: 90</br>attacking_short_passing: 80</br>attacking_volleys: 86</br>skill_dribbling: 88</br>skill_curve: 81</br>skill_fk_accuracy: 84</br>... too many variables"
          ],
          [
           "</br>id: 2</br>prediction: 88869278.18</br>movement_reactions: 83.44999999999999</br></br>overall: 91</br>potential: 91</br>age: 36.0</br>weak_foot: 4</br>skill_moves: 5</br>international_reputation: 5</br>pace: 87.0</br>shooting: 94.0</br>passing: 80.0</br>dribbling: 88.0</br>defending: 34.0</br>physic: 75.0</br>attacking_crossing: 87</br>attacking_finishing: 95</br>attacking_heading_accuracy: 90</br>attacking_short_passing: 80</br>attacking_volleys: 86</br>skill_dribbling: 88</br>skill_curve: 81</br>... too many variables"
          ],
          [
           "</br>id: 2</br>prediction: 88889003.918</br>movement_reactions: 84.02</br></br>overall: 91</br>potential: 91</br>age: 36.0</br>weak_foot: 4</br>skill_moves: 5</br>international_reputation: 5</br>pace: 87.0</br>shooting: 94.0</br>passing: 80.0</br>dribbling: 88.0</br>defending: 34.0</br>physic: 75.0</br>attacking_crossing: 87</br>attacking_finishing: 95</br>attacking_heading_accuracy: 90</br>attacking_short_passing: 80</br>attacking_volleys: 86</br>skill_dribbling: 88</br>skill_curve: 81</br>skill_fk_accuracy: 84</br>... too many variables"
          ],
          [
           "</br>id: 2</br>prediction: 89227503.014</br>movement_reactions: 84.59</br></br>overall: 91</br>potential: 91</br>age: 36.0</br>weak_foot: 4</br>skill_moves: 5</br>international_reputation: 5</br>pace: 87.0</br>shooting: 94.0</br>passing: 80.0</br>dribbling: 88.0</br>defending: 34.0</br>physic: 75.0</br>attacking_crossing: 87</br>attacking_finishing: 95</br>attacking_heading_accuracy: 90</br>attacking_short_passing: 80</br>attacking_volleys: 86</br>skill_dribbling: 88</br>skill_curve: 81</br>skill_fk_accuracy: 84</br>... too many variables"
          ],
          [
           "</br>id: 2</br>prediction: 89339686.558</br>movement_reactions: 85.16</br></br>overall: 91</br>potential: 91</br>age: 36.0</br>weak_foot: 4</br>skill_moves: 5</br>international_reputation: 5</br>pace: 87.0</br>shooting: 94.0</br>passing: 80.0</br>dribbling: 88.0</br>defending: 34.0</br>physic: 75.0</br>attacking_crossing: 87</br>attacking_finishing: 95</br>attacking_heading_accuracy: 90</br>attacking_short_passing: 80</br>attacking_volleys: 86</br>skill_dribbling: 88</br>skill_curve: 81</br>skill_fk_accuracy: 84</br>... too many variables"
          ],
          [
           "</br>id: 2</br>prediction: 89361205.546</br>movement_reactions: 85.72999999999999</br></br>overall: 91</br>potential: 91</br>age: 36.0</br>weak_foot: 4</br>skill_moves: 5</br>international_reputation: 5</br>pace: 87.0</br>shooting: 94.0</br>passing: 80.0</br>dribbling: 88.0</br>defending: 34.0</br>physic: 75.0</br>attacking_crossing: 87</br>attacking_finishing: 95</br>attacking_heading_accuracy: 90</br>attacking_short_passing: 80</br>attacking_volleys: 86</br>skill_dribbling: 88</br>skill_curve: 81</br>... too many variables"
          ],
          [
           "</br>id: 2</br>prediction: 89361205.546</br>movement_reactions: 86.3</br></br>overall: 91</br>potential: 91</br>age: 36.0</br>weak_foot: 4</br>skill_moves: 5</br>international_reputation: 5</br>pace: 87.0</br>shooting: 94.0</br>passing: 80.0</br>dribbling: 88.0</br>defending: 34.0</br>physic: 75.0</br>attacking_crossing: 87</br>attacking_finishing: 95</br>attacking_heading_accuracy: 90</br>attacking_short_passing: 80</br>attacking_volleys: 86</br>skill_dribbling: 88</br>skill_curve: 81</br>skill_fk_accuracy: 84</br>... too many variables"
          ],
          [
           "</br>id: 2</br>prediction: 89361943.942</br>movement_reactions: 86.87</br></br>overall: 91</br>potential: 91</br>age: 36.0</br>weak_foot: 4</br>skill_moves: 5</br>international_reputation: 5</br>pace: 87.0</br>shooting: 94.0</br>passing: 80.0</br>dribbling: 88.0</br>defending: 34.0</br>physic: 75.0</br>attacking_crossing: 87</br>attacking_finishing: 95</br>attacking_heading_accuracy: 90</br>attacking_short_passing: 80</br>attacking_volleys: 86</br>skill_dribbling: 88</br>skill_curve: 81</br>skill_fk_accuracy: 84</br>... too many variables"
          ],
          [
           "</br>id: 2</br>prediction: 89315741.41</br>movement_reactions: 87.44</br></br>overall: 91</br>potential: 91</br>age: 36.0</br>weak_foot: 4</br>skill_moves: 5</br>international_reputation: 5</br>pace: 87.0</br>shooting: 94.0</br>passing: 80.0</br>dribbling: 88.0</br>defending: 34.0</br>physic: 75.0</br>attacking_crossing: 87</br>attacking_finishing: 95</br>attacking_heading_accuracy: 90</br>attacking_short_passing: 80</br>attacking_volleys: 86</br>skill_dribbling: 88</br>skill_curve: 81</br>skill_fk_accuracy: 84</br>... too many variables"
          ],
          [
           "</br>id: 2</br>prediction: 89260055.756</br>movement_reactions: 88.00999999999999</br></br>overall: 91</br>potential: 91</br>age: 36.0</br>weak_foot: 4</br>skill_moves: 5</br>international_reputation: 5</br>pace: 87.0</br>shooting: 94.0</br>passing: 80.0</br>dribbling: 88.0</br>defending: 34.0</br>physic: 75.0</br>attacking_crossing: 87</br>attacking_finishing: 95</br>attacking_heading_accuracy: 90</br>attacking_short_passing: 80</br>attacking_volleys: 86</br>skill_dribbling: 88</br>skill_curve: 81</br>... too many variables"
          ],
          [
           "</br>id: 2</br>prediction: 89424549.427</br>movement_reactions: 88.58</br></br>overall: 91</br>potential: 91</br>age: 36.0</br>weak_foot: 4</br>skill_moves: 5</br>international_reputation: 5</br>pace: 87.0</br>shooting: 94.0</br>passing: 80.0</br>dribbling: 88.0</br>defending: 34.0</br>physic: 75.0</br>attacking_crossing: 87</br>attacking_finishing: 95</br>attacking_heading_accuracy: 90</br>attacking_short_passing: 80</br>attacking_volleys: 86</br>skill_dribbling: 88</br>skill_curve: 81</br>skill_fk_accuracy: 84</br>... too many variables"
          ],
          [
           "</br>id: 2</br>prediction: 89415688.668</br>movement_reactions: 89.15</br></br>overall: 91</br>potential: 91</br>age: 36.0</br>weak_foot: 4</br>skill_moves: 5</br>international_reputation: 5</br>pace: 87.0</br>shooting: 94.0</br>passing: 80.0</br>dribbling: 88.0</br>defending: 34.0</br>physic: 75.0</br>attacking_crossing: 87</br>attacking_finishing: 95</br>attacking_heading_accuracy: 90</br>attacking_short_passing: 80</br>attacking_volleys: 86</br>skill_dribbling: 88</br>skill_curve: 81</br>skill_fk_accuracy: 84</br>... too many variables"
          ],
          [
           "</br>id: 2</br>prediction: 89417270.946</br>movement_reactions: 89.72</br></br>overall: 91</br>potential: 91</br>age: 36.0</br>weak_foot: 4</br>skill_moves: 5</br>international_reputation: 5</br>pace: 87.0</br>shooting: 94.0</br>passing: 80.0</br>dribbling: 88.0</br>defending: 34.0</br>physic: 75.0</br>attacking_crossing: 87</br>attacking_finishing: 95</br>attacking_heading_accuracy: 90</br>attacking_short_passing: 80</br>attacking_volleys: 86</br>skill_dribbling: 88</br>skill_curve: 81</br>skill_fk_accuracy: 84</br>... too many variables"
          ],
          [
           "</br>id: 2</br>prediction: 89417270.946</br>movement_reactions: 90.28999999999999</br></br>overall: 91</br>potential: 91</br>age: 36.0</br>weak_foot: 4</br>skill_moves: 5</br>international_reputation: 5</br>pace: 87.0</br>shooting: 94.0</br>passing: 80.0</br>dribbling: 88.0</br>defending: 34.0</br>physic: 75.0</br>attacking_crossing: 87</br>attacking_finishing: 95</br>attacking_heading_accuracy: 90</br>attacking_short_passing: 80</br>attacking_volleys: 86</br>skill_dribbling: 88</br>skill_curve: 81</br>... too many variables"
          ],
          [
           "</br>id: 2</br>prediction: 89363473.478</br>movement_reactions: 90.85999999999999</br></br>overall: 91</br>potential: 91</br>age: 36.0</br>weak_foot: 4</br>skill_moves: 5</br>international_reputation: 5</br>pace: 87.0</br>shooting: 94.0</br>passing: 80.0</br>dribbling: 88.0</br>defending: 34.0</br>physic: 75.0</br>attacking_crossing: 87</br>attacking_finishing: 95</br>attacking_heading_accuracy: 90</br>attacking_short_passing: 80</br>attacking_volleys: 86</br>skill_dribbling: 88</br>skill_curve: 81</br>... too many variables"
          ],
          [
           "</br>id: 2</br>prediction: 89373389.09</br>movement_reactions: 91.42999999999999</br></br>overall: 91</br>potential: 91</br>age: 36.0</br>weak_foot: 4</br>skill_moves: 5</br>international_reputation: 5</br>pace: 87.0</br>shooting: 94.0</br>passing: 80.0</br>dribbling: 88.0</br>defending: 34.0</br>physic: 75.0</br>attacking_crossing: 87</br>attacking_finishing: 95</br>attacking_heading_accuracy: 90</br>attacking_short_passing: 80</br>attacking_volleys: 86</br>skill_dribbling: 88</br>skill_curve: 81</br>... too many variables"
          ],
          [
           "</br>id: 2</br>prediction: 89378452.381</br>movement_reactions: 92.0</br></br>overall: 91</br>potential: 91</br>age: 36.0</br>weak_foot: 4</br>skill_moves: 5</br>international_reputation: 5</br>pace: 87.0</br>shooting: 94.0</br>passing: 80.0</br>dribbling: 88.0</br>defending: 34.0</br>physic: 75.0</br>attacking_crossing: 87</br>attacking_finishing: 95</br>attacking_heading_accuracy: 90</br>attacking_short_passing: 80</br>attacking_volleys: 86</br>skill_dribbling: 88</br>skill_curve: 81</br>skill_fk_accuracy: 84</br>... too many variables"
          ],
          [
           "</br>id: 2</br>prediction: 89304718.204</br>movement_reactions: 94.0</br></br>overall: 91</br>potential: 91</br>age: 36.0</br>weak_foot: 4</br>skill_moves: 5</br>international_reputation: 5</br>pace: 87.0</br>shooting: 94.0</br>passing: 80.0</br>dribbling: 88.0</br>defending: 34.0</br>physic: 75.0</br>attacking_crossing: 87</br>attacking_finishing: 95</br>attacking_heading_accuracy: 90</br>attacking_short_passing: 80</br>attacking_volleys: 86</br>skill_dribbling: 88</br>skill_curve: 81</br>skill_fk_accuracy: 84</br>... too many variables"
          ]
         ],
         "hovertemplate": "%{customdata[0]}<extra></extra>",
         "legendgroup": "Cristiano Ronaldo",
         "line": {
          "color": "#46bac2",
          "dash": "solid",
          "width": 3
         },
         "marker": {
          "symbol": "circle"
         },
         "mode": "lines",
         "name": "Cristiano Ronaldo",
         "opacity": 1,
         "orientation": "v",
         "showlegend": false,
         "type": "scatter",
         "x": [
          35,
          35.57,
          36.14,
          36.71,
          37.28,
          37.85,
          38.42,
          38.99,
          39.56,
          40.13,
          40.7,
          41.269999999999996,
          41.84,
          42.41,
          42.98,
          43.55,
          44.12,
          44.69,
          45.26,
          45.83,
          46.4,
          46.97,
          47.54,
          48.11,
          48.68,
          49.25,
          49.82,
          50.39,
          50.96,
          51.53,
          52.099999999999994,
          52.67,
          53.239999999999995,
          53.81,
          54.379999999999995,
          54.95,
          55.519999999999996,
          56.09,
          56.66,
          57.23,
          57.8,
          58.37,
          58.94,
          59.51,
          60.08,
          60.65,
          61.22,
          61.79,
          62.36,
          62.92999999999999,
          63.5,
          64.07,
          64.64,
          65.21,
          65.78,
          66.35,
          66.92,
          67.49,
          68.06,
          68.63,
          69.19999999999999,
          69.77,
          70.34,
          70.91,
          71.47999999999999,
          72.05,
          72.62,
          73.19,
          73.75999999999999,
          74.33,
          74.9,
          75.47,
          76.03999999999999,
          76.61,
          77.18,
          77.75,
          78.32,
          78.88999999999999,
          79.46,
          80.03,
          80.6,
          81.16999999999999,
          81.74,
          82.31,
          82.88,
          83.44999999999999,
          84.02,
          84.59,
          85.16,
          85.72999999999999,
          86.3,
          86.87,
          87.44,
          88.00999999999999,
          88.58,
          89.15,
          89.72,
          90.28999999999999,
          90.85999999999999,
          91.42999999999999,
          92,
          94
         ],
         "xaxis": "x2",
         "y": [
          88626250.75346597,
          88626250.75346597,
          88626250.75346597,
          88626250.75346597,
          88626250.75346597,
          88626250.75346597,
          88626250.75346597,
          88626250.75346597,
          88626250.75346597,
          88626250.75346597,
          88626250.75346597,
          88626250.75346597,
          88626250.75346597,
          88626250.75346597,
          88626250.75346597,
          88626250.75346597,
          88626250.75346597,
          88626250.75346597,
          88626250.75346597,
          88626250.75346597,
          88626250.75346597,
          88626250.75346597,
          88626250.75346597,
          88626250.75346597,
          88626250.75346597,
          88626250.75346597,
          88626250.75346597,
          88626250.75346597,
          88626250.75346597,
          88626250.75346597,
          88626250.75346597,
          88626250.75346597,
          88626250.75346597,
          88626250.75346597,
          88626250.75346597,
          88626250.75346597,
          88626250.75346597,
          88626250.75346597,
          88626250.75346597,
          88626250.75346597,
          88626250.75346597,
          88626250.75346597,
          88626250.75346597,
          88626250.75346597,
          88626250.75346597,
          88626250.75346597,
          88626250.75346597,
          88626250.75346597,
          88626250.75346597,
          88626250.75346597,
          88626250.75346597,
          88626250.75346597,
          88626250.75346597,
          88626250.75346597,
          88626250.75346597,
          88626250.75346597,
          88626250.75346597,
          88626250.75346597,
          88626250.75346597,
          88626250.75346597,
          88626250.75346597,
          88626250.75346597,
          88626250.75346597,
          88626250.75346597,
          88626250.75346597,
          88626250.75346597,
          88626250.75346597,
          88626250.75346597,
          88626250.75346597,
          88626250.75346597,
          88626250.75346597,
          88626250.75346597,
          88626250.75346597,
          88626250.75346597,
          88626250.75346597,
          88626250.75346597,
          88626250.75346597,
          88626250.75346597,
          88626250.75346597,
          88582105.18384571,
          88582105.18384571,
          88582105.18384571,
          88582105.18384571,
          88840164.25557566,
          88840164.25557566,
          88869278.17962629,
          88889003.91802293,
          89227503.01386379,
          89339686.55816759,
          89361205.54550935,
          89361205.54550935,
          89361943.94213384,
          89315741.41048828,
          89260055.75647983,
          89424549.4273659,
          89415688.66787224,
          89417270.94635324,
          89417270.94635324,
          89363473.47799882,
          89373389.08981316,
          89378452.3809524,
          89304718.2037372
         ],
         "yaxis": "y2"
        },
        {
         "customdata": [
          [
           "</br>id: 2</br>prediction: 89304718.204</br>age: 36.0</br></br>overall: 91</br>potential: 91</br>weak_foot: 4</br>skill_moves: 5</br>international_reputation: 5</br>pace: 87.0</br>shooting: 94.0</br>passing: 80.0</br>dribbling: 88.0</br>defending: 34.0</br>physic: 75.0</br>attacking_crossing: 87</br>attacking_finishing: 95</br>attacking_heading_accuracy: 90</br>attacking_short_passing: 80</br>attacking_volleys: 86</br>skill_dribbling: 88</br>skill_curve: 81</br>skill_fk_accuracy: 84</br>skill_long_passing: 77</br>... too many variables"
          ]
         ],
         "hovertemplate": "%{customdata[0]}<extra></extra>",
         "legendgroup": "",
         "marker": {
          "color": "#371ea3",
          "size": 15,
          "symbol": "circle"
         },
         "mode": "markers",
         "name": "",
         "opacity": 1,
         "orientation": "v",
         "showlegend": false,
         "type": "scatter",
         "x": [
          36
         ],
         "xaxis": "x",
         "y": [
          89304718.2037372
         ],
         "yaxis": "y"
        },
        {
         "customdata": [
          [
           "</br>id: 2</br>prediction: 89304718.204</br>movement_reactions: 94.0</br></br>overall: 91</br>potential: 91</br>age: 36.0</br>weak_foot: 4</br>skill_moves: 5</br>international_reputation: 5</br>pace: 87.0</br>shooting: 94.0</br>passing: 80.0</br>dribbling: 88.0</br>defending: 34.0</br>physic: 75.0</br>attacking_crossing: 87</br>attacking_finishing: 95</br>attacking_heading_accuracy: 90</br>attacking_short_passing: 80</br>attacking_volleys: 86</br>skill_dribbling: 88</br>skill_curve: 81</br>skill_fk_accuracy: 84</br>... too many variables"
          ]
         ],
         "hovertemplate": "%{customdata[0]}<extra></extra>",
         "legendgroup": "",
         "marker": {
          "color": "#371ea3",
          "size": 15,
          "symbol": "circle"
         },
         "mode": "markers",
         "name": "",
         "opacity": 1,
         "orientation": "v",
         "showlegend": false,
         "type": "scatter",
         "x": [
          94
         ],
         "xaxis": "x2",
         "y": [
          89304718.2037372
         ],
         "yaxis": "y2"
        }
       ],
       "layout": {
        "annotations": [
         {
          "font": {
           "size": 13
          },
          "showarrow": false,
          "text": "age",
          "x": 0.2375,
          "xanchor": "center",
          "xref": "paper",
          "y": 1,
          "yanchor": "bottom",
          "yref": "paper"
         },
         {
          "font": {
           "size": 13
          },
          "showarrow": false,
          "text": "movement_reactions",
          "x": 0.7625,
          "xanchor": "center",
          "xref": "paper",
          "y": 1,
          "yanchor": "bottom",
          "yref": "paper"
         },
         {
          "font": {
           "size": 13
          },
          "showarrow": false,
          "text": "prediction",
          "textangle": -90,
          "x": -0.07,
          "xref": "paper",
          "y": 0.5,
          "yref": "paper"
         }
        ],
        "font": {
         "color": "#371ea3"
        },
        "height": 489,
        "hoverlabel": {
         "bgcolor": "rgba(0,0,0,0.8)"
        },
        "hovermode": "closest",
        "legend": {
         "font": {
          "size": 11
         },
         "itemsizing": "constant",
         "orientation": "h",
         "title": {
          "font": {
           "size": 12
          },
          "text": "label"
         },
         "tracegroupgap": 0,
         "x": 1,
         "xanchor": "right",
         "y": 1.0613496932515338,
         "yanchor": "bottom"
        },
        "margin": {
         "b": 71,
         "r": 30,
         "t": 78
        },
        "template": {
         "data": {
          "scatter": [
           {
            "type": "scatter"
           }
          ]
         }
        },
        "title": {
         "font": {
          "size": 16
         },
         "text": "What If? Cristiano Ronaldo",
         "x": 0.15
        },
        "xaxis": {
         "anchor": "y",
         "automargin": true,
         "domain": [
          0,
          0.475
         ],
         "fixedrange": true,
         "gridwidth": 2,
         "showticklabels": true,
         "tickcolor": "white",
         "ticklen": 3,
         "ticks": "outside",
         "title": {
          "text": ""
         },
         "type": "linear",
         "zeroline": false
        },
        "xaxis2": {
         "anchor": "y2",
         "automargin": true,
         "domain": [
          0.525,
          1
         ],
         "fixedrange": true,
         "gridwidth": 2,
         "showticklabels": true,
         "tickcolor": "white",
         "ticklen": 3,
         "ticks": "outside",
         "title": {
          "text": ""
         },
         "type": "linear",
         "zeroline": false
        },
        "yaxis": {
         "anchor": "x",
         "automargin": true,
         "domain": [
          0,
          1
         ],
         "fixedrange": true,
         "gridwidth": 2,
         "range": [
          88056347.04641353,
          94365444.6955998
         ],
         "tickcolor": "white",
         "ticklen": 3,
         "ticks": "outside",
         "title": {
          "text": ""
         },
         "type": "linear",
         "zeroline": false
        },
        "yaxis2": {
         "anchor": "x2",
         "automargin": true,
         "domain": [
          0,
          1
         ],
         "fixedrange": true,
         "gridwidth": 2,
         "matches": "y",
         "range": [
          88056347.04641353,
          94365444.6955998
         ],
         "showticklabels": false,
         "tickcolor": "white",
         "ticklen": 3,
         "ticks": "outside",
         "title": {
          "text": ""
         },
         "type": "linear",
         "zeroline": false
        }
       }
      },
      "text/html": [
       "<div>                            <div id=\"0e15b3a7-27ad-4cc9-8d72-1d721199c53f\" class=\"plotly-graph-div\" style=\"height:489px; width:100%;\"></div>            <script type=\"text/javascript\">                require([\"plotly\"], function(Plotly) {                    window.PLOTLYENV=window.PLOTLYENV || {};                                    if (document.getElementById(\"0e15b3a7-27ad-4cc9-8d72-1d721199c53f\")) {                    Plotly.newPlot(                        \"0e15b3a7-27ad-4cc9-8d72-1d721199c53f\",                        [{\"customdata\":[[\"</br>id: 2</br>prediction: 93839686.558</br>age: 17.0</br></br>overall: 91</br>potential: 91</br>weak_foot: 4</br>skill_moves: 5</br>international_reputation: 5</br>pace: 87.0</br>shooting: 94.0</br>passing: 80.0</br>dribbling: 88.0</br>defending: 34.0</br>physic: 75.0</br>attacking_crossing: 87</br>attacking_finishing: 95</br>attacking_heading_accuracy: 90</br>attacking_short_passing: 80</br>attacking_volleys: 86</br>skill_dribbling: 88</br>skill_curve: 81</br>skill_fk_accuracy: 84</br>skill_long_passing: 77</br>... too many variables\"],[\"</br>id: 2</br>prediction: 93839686.558</br>age: 17.21</br></br>overall: 91</br>potential: 91</br>weak_foot: 4</br>skill_moves: 5</br>international_reputation: 5</br>pace: 87.0</br>shooting: 94.0</br>passing: 80.0</br>dribbling: 88.0</br>defending: 34.0</br>physic: 75.0</br>attacking_crossing: 87</br>attacking_finishing: 95</br>attacking_heading_accuracy: 90</br>attacking_short_passing: 80</br>attacking_volleys: 86</br>skill_dribbling: 88</br>skill_curve: 81</br>skill_fk_accuracy: 84</br>skill_long_passing: 77</br>... too many variables\"],[\"</br>id: 2</br>prediction: 93839686.558</br>age: 17.42</br></br>overall: 91</br>potential: 91</br>weak_foot: 4</br>skill_moves: 5</br>international_reputation: 5</br>pace: 87.0</br>shooting: 94.0</br>passing: 80.0</br>dribbling: 88.0</br>defending: 34.0</br>physic: 75.0</br>attacking_crossing: 87</br>attacking_finishing: 95</br>attacking_heading_accuracy: 90</br>attacking_short_passing: 80</br>attacking_volleys: 86</br>skill_dribbling: 88</br>skill_curve: 81</br>skill_fk_accuracy: 84</br>skill_long_passing: 77</br>... too many variables\"],[\"</br>id: 2</br>prediction: 93839686.558</br>age: 17.63</br></br>overall: 91</br>potential: 91</br>weak_foot: 4</br>skill_moves: 5</br>international_reputation: 5</br>pace: 87.0</br>shooting: 94.0</br>passing: 80.0</br>dribbling: 88.0</br>defending: 34.0</br>physic: 75.0</br>attacking_crossing: 87</br>attacking_finishing: 95</br>attacking_heading_accuracy: 90</br>attacking_short_passing: 80</br>attacking_volleys: 86</br>skill_dribbling: 88</br>skill_curve: 81</br>skill_fk_accuracy: 84</br>skill_long_passing: 77</br>... too many variables\"],[\"</br>id: 2</br>prediction: 93839686.558</br>age: 17.84</br></br>overall: 91</br>potential: 91</br>weak_foot: 4</br>skill_moves: 5</br>international_reputation: 5</br>pace: 87.0</br>shooting: 94.0</br>passing: 80.0</br>dribbling: 88.0</br>defending: 34.0</br>physic: 75.0</br>attacking_crossing: 87</br>attacking_finishing: 95</br>attacking_heading_accuracy: 90</br>attacking_short_passing: 80</br>attacking_volleys: 86</br>skill_dribbling: 88</br>skill_curve: 81</br>skill_fk_accuracy: 84</br>skill_long_passing: 77</br>... too many variables\"],[\"</br>id: 2</br>prediction: 93839686.558</br>age: 18.05</br></br>overall: 91</br>potential: 91</br>weak_foot: 4</br>skill_moves: 5</br>international_reputation: 5</br>pace: 87.0</br>shooting: 94.0</br>passing: 80.0</br>dribbling: 88.0</br>defending: 34.0</br>physic: 75.0</br>attacking_crossing: 87</br>attacking_finishing: 95</br>attacking_heading_accuracy: 90</br>attacking_short_passing: 80</br>attacking_volleys: 86</br>skill_dribbling: 88</br>skill_curve: 81</br>skill_fk_accuracy: 84</br>skill_long_passing: 77</br>... too many variables\"],[\"</br>id: 2</br>prediction: 93839686.558</br>age: 18.26</br></br>overall: 91</br>potential: 91</br>weak_foot: 4</br>skill_moves: 5</br>international_reputation: 5</br>pace: 87.0</br>shooting: 94.0</br>passing: 80.0</br>dribbling: 88.0</br>defending: 34.0</br>physic: 75.0</br>attacking_crossing: 87</br>attacking_finishing: 95</br>attacking_heading_accuracy: 90</br>attacking_short_passing: 80</br>attacking_volleys: 86</br>skill_dribbling: 88</br>skill_curve: 81</br>skill_fk_accuracy: 84</br>skill_long_passing: 77</br>... too many variables\"],[\"</br>id: 2</br>prediction: 93839686.558</br>age: 18.47</br></br>overall: 91</br>potential: 91</br>weak_foot: 4</br>skill_moves: 5</br>international_reputation: 5</br>pace: 87.0</br>shooting: 94.0</br>passing: 80.0</br>dribbling: 88.0</br>defending: 34.0</br>physic: 75.0</br>attacking_crossing: 87</br>attacking_finishing: 95</br>attacking_heading_accuracy: 90</br>attacking_short_passing: 80</br>attacking_volleys: 86</br>skill_dribbling: 88</br>skill_curve: 81</br>skill_fk_accuracy: 84</br>skill_long_passing: 77</br>... too many variables\"],[\"</br>id: 2</br>prediction: 93839686.558</br>age: 18.68</br></br>overall: 91</br>potential: 91</br>weak_foot: 4</br>skill_moves: 5</br>international_reputation: 5</br>pace: 87.0</br>shooting: 94.0</br>passing: 80.0</br>dribbling: 88.0</br>defending: 34.0</br>physic: 75.0</br>attacking_crossing: 87</br>attacking_finishing: 95</br>attacking_heading_accuracy: 90</br>attacking_short_passing: 80</br>attacking_volleys: 86</br>skill_dribbling: 88</br>skill_curve: 81</br>skill_fk_accuracy: 84</br>skill_long_passing: 77</br>... too many variables\"],[\"</br>id: 2</br>prediction: 93839686.558</br>age: 18.89</br></br>overall: 91</br>potential: 91</br>weak_foot: 4</br>skill_moves: 5</br>international_reputation: 5</br>pace: 87.0</br>shooting: 94.0</br>passing: 80.0</br>dribbling: 88.0</br>defending: 34.0</br>physic: 75.0</br>attacking_crossing: 87</br>attacking_finishing: 95</br>attacking_heading_accuracy: 90</br>attacking_short_passing: 80</br>attacking_volleys: 86</br>skill_dribbling: 88</br>skill_curve: 81</br>skill_fk_accuracy: 84</br>skill_long_passing: 77</br>... too many variables\"],[\"</br>id: 2</br>prediction: 93839686.558</br>age: 19.1</br></br>overall: 91</br>potential: 91</br>weak_foot: 4</br>skill_moves: 5</br>international_reputation: 5</br>pace: 87.0</br>shooting: 94.0</br>passing: 80.0</br>dribbling: 88.0</br>defending: 34.0</br>physic: 75.0</br>attacking_crossing: 87</br>attacking_finishing: 95</br>attacking_heading_accuracy: 90</br>attacking_short_passing: 80</br>attacking_volleys: 86</br>skill_dribbling: 88</br>skill_curve: 81</br>skill_fk_accuracy: 84</br>skill_long_passing: 77</br>... too many variables\"],[\"</br>id: 2</br>prediction: 93839686.558</br>age: 19.31</br></br>overall: 91</br>potential: 91</br>weak_foot: 4</br>skill_moves: 5</br>international_reputation: 5</br>pace: 87.0</br>shooting: 94.0</br>passing: 80.0</br>dribbling: 88.0</br>defending: 34.0</br>physic: 75.0</br>attacking_crossing: 87</br>attacking_finishing: 95</br>attacking_heading_accuracy: 90</br>attacking_short_passing: 80</br>attacking_volleys: 86</br>skill_dribbling: 88</br>skill_curve: 81</br>skill_fk_accuracy: 84</br>skill_long_passing: 77</br>... too many variables\"],[\"</br>id: 2</br>prediction: 93839686.558</br>age: 19.52</br></br>overall: 91</br>potential: 91</br>weak_foot: 4</br>skill_moves: 5</br>international_reputation: 5</br>pace: 87.0</br>shooting: 94.0</br>passing: 80.0</br>dribbling: 88.0</br>defending: 34.0</br>physic: 75.0</br>attacking_crossing: 87</br>attacking_finishing: 95</br>attacking_heading_accuracy: 90</br>attacking_short_passing: 80</br>attacking_volleys: 86</br>skill_dribbling: 88</br>skill_curve: 81</br>skill_fk_accuracy: 84</br>skill_long_passing: 77</br>... too many variables\"],[\"</br>id: 2</br>prediction: 93839686.558</br>age: 19.73</br></br>overall: 91</br>potential: 91</br>weak_foot: 4</br>skill_moves: 5</br>international_reputation: 5</br>pace: 87.0</br>shooting: 94.0</br>passing: 80.0</br>dribbling: 88.0</br>defending: 34.0</br>physic: 75.0</br>attacking_crossing: 87</br>attacking_finishing: 95</br>attacking_heading_accuracy: 90</br>attacking_short_passing: 80</br>attacking_volleys: 86</br>skill_dribbling: 88</br>skill_curve: 81</br>skill_fk_accuracy: 84</br>skill_long_passing: 77</br>... too many variables\"],[\"</br>id: 2</br>prediction: 93839686.558</br>age: 19.94</br></br>overall: 91</br>potential: 91</br>weak_foot: 4</br>skill_moves: 5</br>international_reputation: 5</br>pace: 87.0</br>shooting: 94.0</br>passing: 80.0</br>dribbling: 88.0</br>defending: 34.0</br>physic: 75.0</br>attacking_crossing: 87</br>attacking_finishing: 95</br>attacking_heading_accuracy: 90</br>attacking_short_passing: 80</br>attacking_volleys: 86</br>skill_dribbling: 88</br>skill_curve: 81</br>skill_fk_accuracy: 84</br>skill_long_passing: 77</br>... too many variables\"],[\"</br>id: 2</br>prediction: 93839686.558</br>age: 20.15</br></br>overall: 91</br>potential: 91</br>weak_foot: 4</br>skill_moves: 5</br>international_reputation: 5</br>pace: 87.0</br>shooting: 94.0</br>passing: 80.0</br>dribbling: 88.0</br>defending: 34.0</br>physic: 75.0</br>attacking_crossing: 87</br>attacking_finishing: 95</br>attacking_heading_accuracy: 90</br>attacking_short_passing: 80</br>attacking_volleys: 86</br>skill_dribbling: 88</br>skill_curve: 81</br>skill_fk_accuracy: 84</br>skill_long_passing: 77</br>... too many variables\"],[\"</br>id: 2</br>prediction: 93839686.558</br>age: 20.36</br></br>overall: 91</br>potential: 91</br>weak_foot: 4</br>skill_moves: 5</br>international_reputation: 5</br>pace: 87.0</br>shooting: 94.0</br>passing: 80.0</br>dribbling: 88.0</br>defending: 34.0</br>physic: 75.0</br>attacking_crossing: 87</br>attacking_finishing: 95</br>attacking_heading_accuracy: 90</br>attacking_short_passing: 80</br>attacking_volleys: 86</br>skill_dribbling: 88</br>skill_curve: 81</br>skill_fk_accuracy: 84</br>skill_long_passing: 77</br>... too many variables\"],[\"</br>id: 2</br>prediction: 93830825.799</br>age: 20.57</br></br>overall: 91</br>potential: 91</br>weak_foot: 4</br>skill_moves: 5</br>international_reputation: 5</br>pace: 87.0</br>shooting: 94.0</br>passing: 80.0</br>dribbling: 88.0</br>defending: 34.0</br>physic: 75.0</br>attacking_crossing: 87</br>attacking_finishing: 95</br>attacking_heading_accuracy: 90</br>attacking_short_passing: 80</br>attacking_volleys: 86</br>skill_dribbling: 88</br>skill_curve: 81</br>skill_fk_accuracy: 84</br>skill_long_passing: 77</br>... too many variables\"],[\"</br>id: 2</br>prediction: 93830825.799</br>age: 20.78</br></br>overall: 91</br>potential: 91</br>weak_foot: 4</br>skill_moves: 5</br>international_reputation: 5</br>pace: 87.0</br>shooting: 94.0</br>passing: 80.0</br>dribbling: 88.0</br>defending: 34.0</br>physic: 75.0</br>attacking_crossing: 87</br>attacking_finishing: 95</br>attacking_heading_accuracy: 90</br>attacking_short_passing: 80</br>attacking_volleys: 86</br>skill_dribbling: 88</br>skill_curve: 81</br>skill_fk_accuracy: 84</br>skill_long_passing: 77</br>... too many variables\"],[\"</br>id: 2</br>prediction: 93830825.799</br>age: 20.99</br></br>overall: 91</br>potential: 91</br>weak_foot: 4</br>skill_moves: 5</br>international_reputation: 5</br>pace: 87.0</br>shooting: 94.0</br>passing: 80.0</br>dribbling: 88.0</br>defending: 34.0</br>physic: 75.0</br>attacking_crossing: 87</br>attacking_finishing: 95</br>attacking_heading_accuracy: 90</br>attacking_short_passing: 80</br>attacking_volleys: 86</br>skill_dribbling: 88</br>skill_curve: 81</br>skill_fk_accuracy: 84</br>skill_long_passing: 77</br>... too many variables\"],[\"</br>id: 2</br>prediction: 93830825.799</br>age: 21.2</br></br>overall: 91</br>potential: 91</br>weak_foot: 4</br>skill_moves: 5</br>international_reputation: 5</br>pace: 87.0</br>shooting: 94.0</br>passing: 80.0</br>dribbling: 88.0</br>defending: 34.0</br>physic: 75.0</br>attacking_crossing: 87</br>attacking_finishing: 95</br>attacking_heading_accuracy: 90</br>attacking_short_passing: 80</br>attacking_volleys: 86</br>skill_dribbling: 88</br>skill_curve: 81</br>skill_fk_accuracy: 84</br>skill_long_passing: 77</br>... too many variables\"],[\"</br>id: 2</br>prediction: 93830825.799</br>age: 21.41</br></br>overall: 91</br>potential: 91</br>weak_foot: 4</br>skill_moves: 5</br>international_reputation: 5</br>pace: 87.0</br>shooting: 94.0</br>passing: 80.0</br>dribbling: 88.0</br>defending: 34.0</br>physic: 75.0</br>attacking_crossing: 87</br>attacking_finishing: 95</br>attacking_heading_accuracy: 90</br>attacking_short_passing: 80</br>attacking_volleys: 86</br>skill_dribbling: 88</br>skill_curve: 81</br>skill_fk_accuracy: 84</br>skill_long_passing: 77</br>... too many variables\"],[\"</br>id: 2</br>prediction: 93818589.512</br>age: 21.62</br></br>overall: 91</br>potential: 91</br>weak_foot: 4</br>skill_moves: 5</br>international_reputation: 5</br>pace: 87.0</br>shooting: 94.0</br>passing: 80.0</br>dribbling: 88.0</br>defending: 34.0</br>physic: 75.0</br>attacking_crossing: 87</br>attacking_finishing: 95</br>attacking_heading_accuracy: 90</br>attacking_short_passing: 80</br>attacking_volleys: 86</br>skill_dribbling: 88</br>skill_curve: 81</br>skill_fk_accuracy: 84</br>skill_long_passing: 77</br>... too many variables\"],[\"</br>id: 2</br>prediction: 93818589.512</br>age: 21.83</br></br>overall: 91</br>potential: 91</br>weak_foot: 4</br>skill_moves: 5</br>international_reputation: 5</br>pace: 87.0</br>shooting: 94.0</br>passing: 80.0</br>dribbling: 88.0</br>defending: 34.0</br>physic: 75.0</br>attacking_crossing: 87</br>attacking_finishing: 95</br>attacking_heading_accuracy: 90</br>attacking_short_passing: 80</br>attacking_volleys: 86</br>skill_dribbling: 88</br>skill_curve: 81</br>skill_fk_accuracy: 84</br>skill_long_passing: 77</br>... too many variables\"],[\"</br>id: 2</br>prediction: 93677450.271</br>age: 22.04</br></br>overall: 91</br>potential: 91</br>weak_foot: 4</br>skill_moves: 5</br>international_reputation: 5</br>pace: 87.0</br>shooting: 94.0</br>passing: 80.0</br>dribbling: 88.0</br>defending: 34.0</br>physic: 75.0</br>attacking_crossing: 87</br>attacking_finishing: 95</br>attacking_heading_accuracy: 90</br>attacking_short_passing: 80</br>attacking_volleys: 86</br>skill_dribbling: 88</br>skill_curve: 81</br>skill_fk_accuracy: 84</br>skill_long_passing: 77</br>... too many variables\"],[\"</br>id: 2</br>prediction: 93677450.271</br>age: 22.25</br></br>overall: 91</br>potential: 91</br>weak_foot: 4</br>skill_moves: 5</br>international_reputation: 5</br>pace: 87.0</br>shooting: 94.0</br>passing: 80.0</br>dribbling: 88.0</br>defending: 34.0</br>physic: 75.0</br>attacking_crossing: 87</br>attacking_finishing: 95</br>attacking_heading_accuracy: 90</br>attacking_short_passing: 80</br>attacking_volleys: 86</br>skill_dribbling: 88</br>skill_curve: 81</br>skill_fk_accuracy: 84</br>skill_long_passing: 77</br>... too many variables\"],[\"</br>id: 2</br>prediction: 93677450.271</br>age: 22.46</br></br>overall: 91</br>potential: 91</br>weak_foot: 4</br>skill_moves: 5</br>international_reputation: 5</br>pace: 87.0</br>shooting: 94.0</br>passing: 80.0</br>dribbling: 88.0</br>defending: 34.0</br>physic: 75.0</br>attacking_crossing: 87</br>attacking_finishing: 95</br>attacking_heading_accuracy: 90</br>attacking_short_passing: 80</br>attacking_volleys: 86</br>skill_dribbling: 88</br>skill_curve: 81</br>skill_fk_accuracy: 84</br>skill_long_passing: 77</br>... too many variables\"],[\"</br>id: 2</br>prediction: 93618536.769</br>age: 22.67</br></br>overall: 91</br>potential: 91</br>weak_foot: 4</br>skill_moves: 5</br>international_reputation: 5</br>pace: 87.0</br>shooting: 94.0</br>passing: 80.0</br>dribbling: 88.0</br>defending: 34.0</br>physic: 75.0</br>attacking_crossing: 87</br>attacking_finishing: 95</br>attacking_heading_accuracy: 90</br>attacking_short_passing: 80</br>attacking_volleys: 86</br>skill_dribbling: 88</br>skill_curve: 81</br>skill_fk_accuracy: 84</br>skill_long_passing: 77</br>... too many variables\"],[\"</br>id: 2</br>prediction: 93618536.769</br>age: 22.88</br></br>overall: 91</br>potential: 91</br>weak_foot: 4</br>skill_moves: 5</br>international_reputation: 5</br>pace: 87.0</br>shooting: 94.0</br>passing: 80.0</br>dribbling: 88.0</br>defending: 34.0</br>physic: 75.0</br>attacking_crossing: 87</br>attacking_finishing: 95</br>attacking_heading_accuracy: 90</br>attacking_short_passing: 80</br>attacking_volleys: 86</br>skill_dribbling: 88</br>skill_curve: 81</br>skill_fk_accuracy: 84</br>skill_long_passing: 77</br>... too many variables\"],[\"</br>id: 2</br>prediction: 93356300.482</br>age: 23.09</br></br>overall: 91</br>potential: 91</br>weak_foot: 4</br>skill_moves: 5</br>international_reputation: 5</br>pace: 87.0</br>shooting: 94.0</br>passing: 80.0</br>dribbling: 88.0</br>defending: 34.0</br>physic: 75.0</br>attacking_crossing: 87</br>attacking_finishing: 95</br>attacking_heading_accuracy: 90</br>attacking_short_passing: 80</br>attacking_volleys: 86</br>skill_dribbling: 88</br>skill_curve: 81</br>skill_fk_accuracy: 84</br>skill_long_passing: 77</br>... too many variables\"],[\"</br>id: 2</br>prediction: 93356300.482</br>age: 23.3</br></br>overall: 91</br>potential: 91</br>weak_foot: 4</br>skill_moves: 5</br>international_reputation: 5</br>pace: 87.0</br>shooting: 94.0</br>passing: 80.0</br>dribbling: 88.0</br>defending: 34.0</br>physic: 75.0</br>attacking_crossing: 87</br>attacking_finishing: 95</br>attacking_heading_accuracy: 90</br>attacking_short_passing: 80</br>attacking_volleys: 86</br>skill_dribbling: 88</br>skill_curve: 81</br>skill_fk_accuracy: 84</br>skill_long_passing: 77</br>... too many variables\"],[\"</br>id: 2</br>prediction: 93356300.482</br>age: 23.509999999999998</br></br>overall: 91</br>potential: 91</br>weak_foot: 4</br>skill_moves: 5</br>international_reputation: 5</br>pace: 87.0</br>shooting: 94.0</br>passing: 80.0</br>dribbling: 88.0</br>defending: 34.0</br>physic: 75.0</br>attacking_crossing: 87</br>attacking_finishing: 95</br>attacking_heading_accuracy: 90</br>attacking_short_passing: 80</br>attacking_volleys: 86</br>skill_dribbling: 88</br>skill_curve: 81</br>skill_fk_accuracy: 84</br>... too many variables\"],[\"</br>id: 2</br>prediction: 93356300.482</br>age: 23.72</br></br>overall: 91</br>potential: 91</br>weak_foot: 4</br>skill_moves: 5</br>international_reputation: 5</br>pace: 87.0</br>shooting: 94.0</br>passing: 80.0</br>dribbling: 88.0</br>defending: 34.0</br>physic: 75.0</br>attacking_crossing: 87</br>attacking_finishing: 95</br>attacking_heading_accuracy: 90</br>attacking_short_passing: 80</br>attacking_volleys: 86</br>skill_dribbling: 88</br>skill_curve: 81</br>skill_fk_accuracy: 84</br>skill_long_passing: 77</br>... too many variables\"],[\"</br>id: 2</br>prediction: 93356300.482</br>age: 23.93</br></br>overall: 91</br>potential: 91</br>weak_foot: 4</br>skill_moves: 5</br>international_reputation: 5</br>pace: 87.0</br>shooting: 94.0</br>passing: 80.0</br>dribbling: 88.0</br>defending: 34.0</br>physic: 75.0</br>attacking_crossing: 87</br>attacking_finishing: 95</br>attacking_heading_accuracy: 90</br>attacking_short_passing: 80</br>attacking_volleys: 86</br>skill_dribbling: 88</br>skill_curve: 81</br>skill_fk_accuracy: 84</br>skill_long_passing: 77</br>... too many variables\"],[\"</br>id: 2</br>prediction: 93172703.436</br>age: 24.14</br></br>overall: 91</br>potential: 91</br>weak_foot: 4</br>skill_moves: 5</br>international_reputation: 5</br>pace: 87.0</br>shooting: 94.0</br>passing: 80.0</br>dribbling: 88.0</br>defending: 34.0</br>physic: 75.0</br>attacking_crossing: 87</br>attacking_finishing: 95</br>attacking_heading_accuracy: 90</br>attacking_short_passing: 80</br>attacking_volleys: 86</br>skill_dribbling: 88</br>skill_curve: 81</br>skill_fk_accuracy: 84</br>skill_long_passing: 77</br>... too many variables\"],[\"</br>id: 2</br>prediction: 93172703.436</br>age: 24.35</br></br>overall: 91</br>potential: 91</br>weak_foot: 4</br>skill_moves: 5</br>international_reputation: 5</br>pace: 87.0</br>shooting: 94.0</br>passing: 80.0</br>dribbling: 88.0</br>defending: 34.0</br>physic: 75.0</br>attacking_crossing: 87</br>attacking_finishing: 95</br>attacking_heading_accuracy: 90</br>attacking_short_passing: 80</br>attacking_volleys: 86</br>skill_dribbling: 88</br>skill_curve: 81</br>skill_fk_accuracy: 84</br>skill_long_passing: 77</br>... too many variables\"],[\"</br>id: 2</br>prediction: 93196754.069</br>age: 24.56</br></br>overall: 91</br>potential: 91</br>weak_foot: 4</br>skill_moves: 5</br>international_reputation: 5</br>pace: 87.0</br>shooting: 94.0</br>passing: 80.0</br>dribbling: 88.0</br>defending: 34.0</br>physic: 75.0</br>attacking_crossing: 87</br>attacking_finishing: 95</br>attacking_heading_accuracy: 90</br>attacking_short_passing: 80</br>attacking_volleys: 86</br>skill_dribbling: 88</br>skill_curve: 81</br>skill_fk_accuracy: 84</br>skill_long_passing: 77</br>... too many variables\"],[\"</br>id: 2</br>prediction: 93196754.069</br>age: 24.77</br></br>overall: 91</br>potential: 91</br>weak_foot: 4</br>skill_moves: 5</br>international_reputation: 5</br>pace: 87.0</br>shooting: 94.0</br>passing: 80.0</br>dribbling: 88.0</br>defending: 34.0</br>physic: 75.0</br>attacking_crossing: 87</br>attacking_finishing: 95</br>attacking_heading_accuracy: 90</br>attacking_short_passing: 80</br>attacking_volleys: 86</br>skill_dribbling: 88</br>skill_curve: 81</br>skill_fk_accuracy: 84</br>skill_long_passing: 77</br>... too many variables\"],[\"</br>id: 2</br>prediction: 93196754.069</br>age: 24.98</br></br>overall: 91</br>potential: 91</br>weak_foot: 4</br>skill_moves: 5</br>international_reputation: 5</br>pace: 87.0</br>shooting: 94.0</br>passing: 80.0</br>dribbling: 88.0</br>defending: 34.0</br>physic: 75.0</br>attacking_crossing: 87</br>attacking_finishing: 95</br>attacking_heading_accuracy: 90</br>attacking_short_passing: 80</br>attacking_volleys: 86</br>skill_dribbling: 88</br>skill_curve: 81</br>skill_fk_accuracy: 84</br>skill_long_passing: 77</br>... too many variables\"],[\"</br>id: 2</br>prediction: 93196754.069</br>age: 25.189999999999998</br></br>overall: 91</br>potential: 91</br>weak_foot: 4</br>skill_moves: 5</br>international_reputation: 5</br>pace: 87.0</br>shooting: 94.0</br>passing: 80.0</br>dribbling: 88.0</br>defending: 34.0</br>physic: 75.0</br>attacking_crossing: 87</br>attacking_finishing: 95</br>attacking_heading_accuracy: 90</br>attacking_short_passing: 80</br>attacking_volleys: 86</br>skill_dribbling: 88</br>skill_curve: 81</br>skill_fk_accuracy: 84</br>... too many variables\"],[\"</br>id: 2</br>prediction: 93196754.069</br>age: 25.4</br></br>overall: 91</br>potential: 91</br>weak_foot: 4</br>skill_moves: 5</br>international_reputation: 5</br>pace: 87.0</br>shooting: 94.0</br>passing: 80.0</br>dribbling: 88.0</br>defending: 34.0</br>physic: 75.0</br>attacking_crossing: 87</br>attacking_finishing: 95</br>attacking_heading_accuracy: 90</br>attacking_short_passing: 80</br>attacking_volleys: 86</br>skill_dribbling: 88</br>skill_curve: 81</br>skill_fk_accuracy: 84</br>skill_long_passing: 77</br>... too many variables\"],[\"</br>id: 2</br>prediction: 93143273.056</br>age: 25.61</br></br>overall: 91</br>potential: 91</br>weak_foot: 4</br>skill_moves: 5</br>international_reputation: 5</br>pace: 87.0</br>shooting: 94.0</br>passing: 80.0</br>dribbling: 88.0</br>defending: 34.0</br>physic: 75.0</br>attacking_crossing: 87</br>attacking_finishing: 95</br>attacking_heading_accuracy: 90</br>attacking_short_passing: 80</br>attacking_volleys: 86</br>skill_dribbling: 88</br>skill_curve: 81</br>skill_fk_accuracy: 84</br>skill_long_passing: 77</br>... too many variables\"],[\"</br>id: 2</br>prediction: 93143273.056</br>age: 25.82</br></br>overall: 91</br>potential: 91</br>weak_foot: 4</br>skill_moves: 5</br>international_reputation: 5</br>pace: 87.0</br>shooting: 94.0</br>passing: 80.0</br>dribbling: 88.0</br>defending: 34.0</br>physic: 75.0</br>attacking_crossing: 87</br>attacking_finishing: 95</br>attacking_heading_accuracy: 90</br>attacking_short_passing: 80</br>attacking_volleys: 86</br>skill_dribbling: 88</br>skill_curve: 81</br>skill_fk_accuracy: 84</br>skill_long_passing: 77</br>... too many variables\"],[\"</br>id: 2</br>prediction: 93164792.043</br>age: 26.03</br></br>overall: 91</br>potential: 91</br>weak_foot: 4</br>skill_moves: 5</br>international_reputation: 5</br>pace: 87.0</br>shooting: 94.0</br>passing: 80.0</br>dribbling: 88.0</br>defending: 34.0</br>physic: 75.0</br>attacking_crossing: 87</br>attacking_finishing: 95</br>attacking_heading_accuracy: 90</br>attacking_short_passing: 80</br>attacking_volleys: 86</br>skill_dribbling: 88</br>skill_curve: 81</br>skill_fk_accuracy: 84</br>skill_long_passing: 77</br>... too many variables\"],[\"</br>id: 2</br>prediction: 93164792.043</br>age: 26.240000000000002</br></br>overall: 91</br>potential: 91</br>weak_foot: 4</br>skill_moves: 5</br>international_reputation: 5</br>pace: 87.0</br>shooting: 94.0</br>passing: 80.0</br>dribbling: 88.0</br>defending: 34.0</br>physic: 75.0</br>attacking_crossing: 87</br>attacking_finishing: 95</br>attacking_heading_accuracy: 90</br>attacking_short_passing: 80</br>attacking_volleys: 86</br>skill_dribbling: 88</br>skill_curve: 81</br>skill_fk_accuracy: 84</br>... too many variables\"],[\"</br>id: 2</br>prediction: 93164792.043</br>age: 26.45</br></br>overall: 91</br>potential: 91</br>weak_foot: 4</br>skill_moves: 5</br>international_reputation: 5</br>pace: 87.0</br>shooting: 94.0</br>passing: 80.0</br>dribbling: 88.0</br>defending: 34.0</br>physic: 75.0</br>attacking_crossing: 87</br>attacking_finishing: 95</br>attacking_heading_accuracy: 90</br>attacking_short_passing: 80</br>attacking_volleys: 86</br>skill_dribbling: 88</br>skill_curve: 81</br>skill_fk_accuracy: 84</br>skill_long_passing: 77</br>... too many variables\"],[\"</br>id: 2</br>prediction: 93212007.233</br>age: 26.66</br></br>overall: 91</br>potential: 91</br>weak_foot: 4</br>skill_moves: 5</br>international_reputation: 5</br>pace: 87.0</br>shooting: 94.0</br>passing: 80.0</br>dribbling: 88.0</br>defending: 34.0</br>physic: 75.0</br>attacking_crossing: 87</br>attacking_finishing: 95</br>attacking_heading_accuracy: 90</br>attacking_short_passing: 80</br>attacking_volleys: 86</br>skill_dribbling: 88</br>skill_curve: 81</br>skill_fk_accuracy: 84</br>skill_long_passing: 77</br>... too many variables\"],[\"</br>id: 2</br>prediction: 93212007.233</br>age: 26.869999999999997</br></br>overall: 91</br>potential: 91</br>weak_foot: 4</br>skill_moves: 5</br>international_reputation: 5</br>pace: 87.0</br>shooting: 94.0</br>passing: 80.0</br>dribbling: 88.0</br>defending: 34.0</br>physic: 75.0</br>attacking_crossing: 87</br>attacking_finishing: 95</br>attacking_heading_accuracy: 90</br>attacking_short_passing: 80</br>attacking_volleys: 86</br>skill_dribbling: 88</br>skill_curve: 81</br>skill_fk_accuracy: 84</br>... too many variables\"],[\"</br>id: 2</br>prediction: 93212007.233</br>age: 27.08</br></br>overall: 91</br>potential: 91</br>weak_foot: 4</br>skill_moves: 5</br>international_reputation: 5</br>pace: 87.0</br>shooting: 94.0</br>passing: 80.0</br>dribbling: 88.0</br>defending: 34.0</br>physic: 75.0</br>attacking_crossing: 87</br>attacking_finishing: 95</br>attacking_heading_accuracy: 90</br>attacking_short_passing: 80</br>attacking_volleys: 86</br>skill_dribbling: 88</br>skill_curve: 81</br>skill_fk_accuracy: 84</br>skill_long_passing: 77</br>... too many variables\"],[\"</br>id: 2</br>prediction: 93212007.233</br>age: 27.29</br></br>overall: 91</br>potential: 91</br>weak_foot: 4</br>skill_moves: 5</br>international_reputation: 5</br>pace: 87.0</br>shooting: 94.0</br>passing: 80.0</br>dribbling: 88.0</br>defending: 34.0</br>physic: 75.0</br>attacking_crossing: 87</br>attacking_finishing: 95</br>attacking_heading_accuracy: 90</br>attacking_short_passing: 80</br>attacking_volleys: 86</br>skill_dribbling: 88</br>skill_curve: 81</br>skill_fk_accuracy: 84</br>skill_long_passing: 77</br>... too many variables\"],[\"</br>id: 2</br>prediction: 93212007.233</br>age: 27.5</br></br>overall: 91</br>potential: 91</br>weak_foot: 4</br>skill_moves: 5</br>international_reputation: 5</br>pace: 87.0</br>shooting: 94.0</br>passing: 80.0</br>dribbling: 88.0</br>defending: 34.0</br>physic: 75.0</br>attacking_crossing: 87</br>attacking_finishing: 95</br>attacking_heading_accuracy: 90</br>attacking_short_passing: 80</br>attacking_volleys: 86</br>skill_dribbling: 88</br>skill_curve: 81</br>skill_fk_accuracy: 84</br>skill_long_passing: 77</br>... too many variables\"],[\"</br>id: 2</br>prediction: 93090488.246</br>age: 27.71</br></br>overall: 91</br>potential: 91</br>weak_foot: 4</br>skill_moves: 5</br>international_reputation: 5</br>pace: 87.0</br>shooting: 94.0</br>passing: 80.0</br>dribbling: 88.0</br>defending: 34.0</br>physic: 75.0</br>attacking_crossing: 87</br>attacking_finishing: 95</br>attacking_heading_accuracy: 90</br>attacking_short_passing: 80</br>attacking_volleys: 86</br>skill_dribbling: 88</br>skill_curve: 81</br>skill_fk_accuracy: 84</br>skill_long_passing: 77</br>... too many variables\"],[\"</br>id: 2</br>prediction: 93090488.246</br>age: 27.92</br></br>overall: 91</br>potential: 91</br>weak_foot: 4</br>skill_moves: 5</br>international_reputation: 5</br>pace: 87.0</br>shooting: 94.0</br>passing: 80.0</br>dribbling: 88.0</br>defending: 34.0</br>physic: 75.0</br>attacking_crossing: 87</br>attacking_finishing: 95</br>attacking_heading_accuracy: 90</br>attacking_short_passing: 80</br>attacking_volleys: 86</br>skill_dribbling: 88</br>skill_curve: 81</br>skill_fk_accuracy: 84</br>skill_long_passing: 77</br>... too many variables\"],[\"</br>id: 2</br>prediction: 93090488.246</br>age: 28.13</br></br>overall: 91</br>potential: 91</br>weak_foot: 4</br>skill_moves: 5</br>international_reputation: 5</br>pace: 87.0</br>shooting: 94.0</br>passing: 80.0</br>dribbling: 88.0</br>defending: 34.0</br>physic: 75.0</br>attacking_crossing: 87</br>attacking_finishing: 95</br>attacking_heading_accuracy: 90</br>attacking_short_passing: 80</br>attacking_volleys: 86</br>skill_dribbling: 88</br>skill_curve: 81</br>skill_fk_accuracy: 84</br>skill_long_passing: 77</br>... too many variables\"],[\"</br>id: 2</br>prediction: 93090488.246</br>age: 28.34</br></br>overall: 91</br>potential: 91</br>weak_foot: 4</br>skill_moves: 5</br>international_reputation: 5</br>pace: 87.0</br>shooting: 94.0</br>passing: 80.0</br>dribbling: 88.0</br>defending: 34.0</br>physic: 75.0</br>attacking_crossing: 87</br>attacking_finishing: 95</br>attacking_heading_accuracy: 90</br>attacking_short_passing: 80</br>attacking_volleys: 86</br>skill_dribbling: 88</br>skill_curve: 81</br>skill_fk_accuracy: 84</br>skill_long_passing: 77</br>... too many variables\"],[\"</br>id: 2</br>prediction: 92619581.073</br>age: 28.549999999999997</br></br>overall: 91</br>potential: 91</br>weak_foot: 4</br>skill_moves: 5</br>international_reputation: 5</br>pace: 87.0</br>shooting: 94.0</br>passing: 80.0</br>dribbling: 88.0</br>defending: 34.0</br>physic: 75.0</br>attacking_crossing: 87</br>attacking_finishing: 95</br>attacking_heading_accuracy: 90</br>attacking_short_passing: 80</br>attacking_volleys: 86</br>skill_dribbling: 88</br>skill_curve: 81</br>skill_fk_accuracy: 84</br>... too many variables\"],[\"</br>id: 2</br>prediction: 92619581.073</br>age: 28.759999999999998</br></br>overall: 91</br>potential: 91</br>weak_foot: 4</br>skill_moves: 5</br>international_reputation: 5</br>pace: 87.0</br>shooting: 94.0</br>passing: 80.0</br>dribbling: 88.0</br>defending: 34.0</br>physic: 75.0</br>attacking_crossing: 87</br>attacking_finishing: 95</br>attacking_heading_accuracy: 90</br>attacking_short_passing: 80</br>attacking_volleys: 86</br>skill_dribbling: 88</br>skill_curve: 81</br>skill_fk_accuracy: 84</br>... too many variables\"],[\"</br>id: 2</br>prediction: 92619581.073</br>age: 28.97</br></br>overall: 91</br>potential: 91</br>weak_foot: 4</br>skill_moves: 5</br>international_reputation: 5</br>pace: 87.0</br>shooting: 94.0</br>passing: 80.0</br>dribbling: 88.0</br>defending: 34.0</br>physic: 75.0</br>attacking_crossing: 87</br>attacking_finishing: 95</br>attacking_heading_accuracy: 90</br>attacking_short_passing: 80</br>attacking_volleys: 86</br>skill_dribbling: 88</br>skill_curve: 81</br>skill_fk_accuracy: 84</br>skill_long_passing: 77</br>... too many variables\"],[\"</br>id: 2</br>prediction: 92619581.073</br>age: 29.18</br></br>overall: 91</br>potential: 91</br>weak_foot: 4</br>skill_moves: 5</br>international_reputation: 5</br>pace: 87.0</br>shooting: 94.0</br>passing: 80.0</br>dribbling: 88.0</br>defending: 34.0</br>physic: 75.0</br>attacking_crossing: 87</br>attacking_finishing: 95</br>attacking_heading_accuracy: 90</br>attacking_short_passing: 80</br>attacking_volleys: 86</br>skill_dribbling: 88</br>skill_curve: 81</br>skill_fk_accuracy: 84</br>skill_long_passing: 77</br>... too many variables\"],[\"</br>id: 2</br>prediction: 92619581.073</br>age: 29.39</br></br>overall: 91</br>potential: 91</br>weak_foot: 4</br>skill_moves: 5</br>international_reputation: 5</br>pace: 87.0</br>shooting: 94.0</br>passing: 80.0</br>dribbling: 88.0</br>defending: 34.0</br>physic: 75.0</br>attacking_crossing: 87</br>attacking_finishing: 95</br>attacking_heading_accuracy: 90</br>attacking_short_passing: 80</br>attacking_volleys: 86</br>skill_dribbling: 88</br>skill_curve: 81</br>skill_fk_accuracy: 84</br>skill_long_passing: 77</br>... too many variables\"],[\"</br>id: 2</br>prediction: 92547218.204</br>age: 29.6</br></br>overall: 91</br>potential: 91</br>weak_foot: 4</br>skill_moves: 5</br>international_reputation: 5</br>pace: 87.0</br>shooting: 94.0</br>passing: 80.0</br>dribbling: 88.0</br>defending: 34.0</br>physic: 75.0</br>attacking_crossing: 87</br>attacking_finishing: 95</br>attacking_heading_accuracy: 90</br>attacking_short_passing: 80</br>attacking_volleys: 86</br>skill_dribbling: 88</br>skill_curve: 81</br>skill_fk_accuracy: 84</br>skill_long_passing: 77</br>... too many variables\"],[\"</br>id: 2</br>prediction: 92547218.204</br>age: 29.81</br></br>overall: 91</br>potential: 91</br>weak_foot: 4</br>skill_moves: 5</br>international_reputation: 5</br>pace: 87.0</br>shooting: 94.0</br>passing: 80.0</br>dribbling: 88.0</br>defending: 34.0</br>physic: 75.0</br>attacking_crossing: 87</br>attacking_finishing: 95</br>attacking_heading_accuracy: 90</br>attacking_short_passing: 80</br>attacking_volleys: 86</br>skill_dribbling: 88</br>skill_curve: 81</br>skill_fk_accuracy: 84</br>skill_long_passing: 77</br>... too many variables\"],[\"</br>id: 2</br>prediction: 92547218.204</br>age: 30.02</br></br>overall: 91</br>potential: 91</br>weak_foot: 4</br>skill_moves: 5</br>international_reputation: 5</br>pace: 87.0</br>shooting: 94.0</br>passing: 80.0</br>dribbling: 88.0</br>defending: 34.0</br>physic: 75.0</br>attacking_crossing: 87</br>attacking_finishing: 95</br>attacking_heading_accuracy: 90</br>attacking_short_passing: 80</br>attacking_volleys: 86</br>skill_dribbling: 88</br>skill_curve: 81</br>skill_fk_accuracy: 84</br>skill_long_passing: 77</br>... too many variables\"],[\"</br>id: 2</br>prediction: 92547218.204</br>age: 30.229999999999997</br></br>overall: 91</br>potential: 91</br>weak_foot: 4</br>skill_moves: 5</br>international_reputation: 5</br>pace: 87.0</br>shooting: 94.0</br>passing: 80.0</br>dribbling: 88.0</br>defending: 34.0</br>physic: 75.0</br>attacking_crossing: 87</br>attacking_finishing: 95</br>attacking_heading_accuracy: 90</br>attacking_short_passing: 80</br>attacking_volleys: 86</br>skill_dribbling: 88</br>skill_curve: 81</br>skill_fk_accuracy: 84</br>... too many variables\"],[\"</br>id: 2</br>prediction: 92547218.204</br>age: 30.439999999999998</br></br>overall: 91</br>potential: 91</br>weak_foot: 4</br>skill_moves: 5</br>international_reputation: 5</br>pace: 87.0</br>shooting: 94.0</br>passing: 80.0</br>dribbling: 88.0</br>defending: 34.0</br>physic: 75.0</br>attacking_crossing: 87</br>attacking_finishing: 95</br>attacking_heading_accuracy: 90</br>attacking_short_passing: 80</br>attacking_volleys: 86</br>skill_dribbling: 88</br>skill_curve: 81</br>skill_fk_accuracy: 84</br>... too many variables\"],[\"</br>id: 2</br>prediction: 92416838.457</br>age: 30.65</br></br>overall: 91</br>potential: 91</br>weak_foot: 4</br>skill_moves: 5</br>international_reputation: 5</br>pace: 87.0</br>shooting: 94.0</br>passing: 80.0</br>dribbling: 88.0</br>defending: 34.0</br>physic: 75.0</br>attacking_crossing: 87</br>attacking_finishing: 95</br>attacking_heading_accuracy: 90</br>attacking_short_passing: 80</br>attacking_volleys: 86</br>skill_dribbling: 88</br>skill_curve: 81</br>skill_fk_accuracy: 84</br>skill_long_passing: 77</br>... too many variables\"],[\"</br>id: 2</br>prediction: 92416838.457</br>age: 30.86</br></br>overall: 91</br>potential: 91</br>weak_foot: 4</br>skill_moves: 5</br>international_reputation: 5</br>pace: 87.0</br>shooting: 94.0</br>passing: 80.0</br>dribbling: 88.0</br>defending: 34.0</br>physic: 75.0</br>attacking_crossing: 87</br>attacking_finishing: 95</br>attacking_heading_accuracy: 90</br>attacking_short_passing: 80</br>attacking_volleys: 86</br>skill_dribbling: 88</br>skill_curve: 81</br>skill_fk_accuracy: 84</br>skill_long_passing: 77</br>... too many variables\"],[\"</br>id: 2</br>prediction: 92124169.681</br>age: 31.07</br></br>overall: 91</br>potential: 91</br>weak_foot: 4</br>skill_moves: 5</br>international_reputation: 5</br>pace: 87.0</br>shooting: 94.0</br>passing: 80.0</br>dribbling: 88.0</br>defending: 34.0</br>physic: 75.0</br>attacking_crossing: 87</br>attacking_finishing: 95</br>attacking_heading_accuracy: 90</br>attacking_short_passing: 80</br>attacking_volleys: 86</br>skill_dribbling: 88</br>skill_curve: 81</br>skill_fk_accuracy: 84</br>skill_long_passing: 77</br>... too many variables\"],[\"</br>id: 2</br>prediction: 92124169.681</br>age: 31.28</br></br>overall: 91</br>potential: 91</br>weak_foot: 4</br>skill_moves: 5</br>international_reputation: 5</br>pace: 87.0</br>shooting: 94.0</br>passing: 80.0</br>dribbling: 88.0</br>defending: 34.0</br>physic: 75.0</br>attacking_crossing: 87</br>attacking_finishing: 95</br>attacking_heading_accuracy: 90</br>attacking_short_passing: 80</br>attacking_volleys: 86</br>skill_dribbling: 88</br>skill_curve: 81</br>skill_fk_accuracy: 84</br>skill_long_passing: 77</br>... too many variables\"],[\"</br>id: 2</br>prediction: 92124169.681</br>age: 31.490000000000002</br></br>overall: 91</br>potential: 91</br>weak_foot: 4</br>skill_moves: 5</br>international_reputation: 5</br>pace: 87.0</br>shooting: 94.0</br>passing: 80.0</br>dribbling: 88.0</br>defending: 34.0</br>physic: 75.0</br>attacking_crossing: 87</br>attacking_finishing: 95</br>attacking_heading_accuracy: 90</br>attacking_short_passing: 80</br>attacking_volleys: 86</br>skill_dribbling: 88</br>skill_curve: 81</br>skill_fk_accuracy: 84</br>... too many variables\"],[\"</br>id: 2</br>prediction: 91953072.634</br>age: 31.7</br></br>overall: 91</br>potential: 91</br>weak_foot: 4</br>skill_moves: 5</br>international_reputation: 5</br>pace: 87.0</br>shooting: 94.0</br>passing: 80.0</br>dribbling: 88.0</br>defending: 34.0</br>physic: 75.0</br>attacking_crossing: 87</br>attacking_finishing: 95</br>attacking_heading_accuracy: 90</br>attacking_short_passing: 80</br>attacking_volleys: 86</br>skill_dribbling: 88</br>skill_curve: 81</br>skill_fk_accuracy: 84</br>skill_long_passing: 77</br>... too many variables\"],[\"</br>id: 2</br>prediction: 91953072.634</br>age: 31.91</br></br>overall: 91</br>potential: 91</br>weak_foot: 4</br>skill_moves: 5</br>international_reputation: 5</br>pace: 87.0</br>shooting: 94.0</br>passing: 80.0</br>dribbling: 88.0</br>defending: 34.0</br>physic: 75.0</br>attacking_crossing: 87</br>attacking_finishing: 95</br>attacking_heading_accuracy: 90</br>attacking_short_passing: 80</br>attacking_volleys: 86</br>skill_dribbling: 88</br>skill_curve: 81</br>skill_fk_accuracy: 84</br>skill_long_passing: 77</br>... too many variables\"],[\"</br>id: 2</br>prediction: 91916522.001</br>age: 32.12</br></br>overall: 91</br>potential: 91</br>weak_foot: 4</br>skill_moves: 5</br>international_reputation: 5</br>pace: 87.0</br>shooting: 94.0</br>passing: 80.0</br>dribbling: 88.0</br>defending: 34.0</br>physic: 75.0</br>attacking_crossing: 87</br>attacking_finishing: 95</br>attacking_heading_accuracy: 90</br>attacking_short_passing: 80</br>attacking_volleys: 86</br>skill_dribbling: 88</br>skill_curve: 81</br>skill_fk_accuracy: 84</br>skill_long_passing: 77</br>... too many variables\"],[\"</br>id: 2</br>prediction: 91916522.001</br>age: 32.33</br></br>overall: 91</br>potential: 91</br>weak_foot: 4</br>skill_moves: 5</br>international_reputation: 5</br>pace: 87.0</br>shooting: 94.0</br>passing: 80.0</br>dribbling: 88.0</br>defending: 34.0</br>physic: 75.0</br>attacking_crossing: 87</br>attacking_finishing: 95</br>attacking_heading_accuracy: 90</br>attacking_short_passing: 80</br>attacking_volleys: 86</br>skill_dribbling: 88</br>skill_curve: 81</br>skill_fk_accuracy: 84</br>skill_long_passing: 77</br>... too many variables\"],[\"</br>id: 2</br>prediction: 91420614.828</br>age: 32.54</br></br>overall: 91</br>potential: 91</br>weak_foot: 4</br>skill_moves: 5</br>international_reputation: 5</br>pace: 87.0</br>shooting: 94.0</br>passing: 80.0</br>dribbling: 88.0</br>defending: 34.0</br>physic: 75.0</br>attacking_crossing: 87</br>attacking_finishing: 95</br>attacking_heading_accuracy: 90</br>attacking_short_passing: 80</br>attacking_volleys: 86</br>skill_dribbling: 88</br>skill_curve: 81</br>skill_fk_accuracy: 84</br>skill_long_passing: 77</br>... too many variables\"],[\"</br>id: 2</br>prediction: 91420614.828</br>age: 32.75</br></br>overall: 91</br>potential: 91</br>weak_foot: 4</br>skill_moves: 5</br>international_reputation: 5</br>pace: 87.0</br>shooting: 94.0</br>passing: 80.0</br>dribbling: 88.0</br>defending: 34.0</br>physic: 75.0</br>attacking_crossing: 87</br>attacking_finishing: 95</br>attacking_heading_accuracy: 90</br>attacking_short_passing: 80</br>attacking_volleys: 86</br>skill_dribbling: 88</br>skill_curve: 81</br>skill_fk_accuracy: 84</br>skill_long_passing: 77</br>... too many variables\"],[\"</br>id: 2</br>prediction: 91420614.828</br>age: 32.96</br></br>overall: 91</br>potential: 91</br>weak_foot: 4</br>skill_moves: 5</br>international_reputation: 5</br>pace: 87.0</br>shooting: 94.0</br>passing: 80.0</br>dribbling: 88.0</br>defending: 34.0</br>physic: 75.0</br>attacking_crossing: 87</br>attacking_finishing: 95</br>attacking_heading_accuracy: 90</br>attacking_short_passing: 80</br>attacking_volleys: 86</br>skill_dribbling: 88</br>skill_curve: 81</br>skill_fk_accuracy: 84</br>skill_long_passing: 77</br>... too many variables\"],[\"</br>id: 2</br>prediction: 91080688.668</br>age: 33.17</br></br>overall: 91</br>potential: 91</br>weak_foot: 4</br>skill_moves: 5</br>international_reputation: 5</br>pace: 87.0</br>shooting: 94.0</br>passing: 80.0</br>dribbling: 88.0</br>defending: 34.0</br>physic: 75.0</br>attacking_crossing: 87</br>attacking_finishing: 95</br>attacking_heading_accuracy: 90</br>attacking_short_passing: 80</br>attacking_volleys: 86</br>skill_dribbling: 88</br>skill_curve: 81</br>skill_fk_accuracy: 84</br>skill_long_passing: 77</br>... too many variables\"],[\"</br>id: 2</br>prediction: 91080688.668</br>age: 33.379999999999995</br></br>overall: 91</br>potential: 91</br>weak_foot: 4</br>skill_moves: 5</br>international_reputation: 5</br>pace: 87.0</br>shooting: 94.0</br>passing: 80.0</br>dribbling: 88.0</br>defending: 34.0</br>physic: 75.0</br>attacking_crossing: 87</br>attacking_finishing: 95</br>attacking_heading_accuracy: 90</br>attacking_short_passing: 80</br>attacking_volleys: 86</br>skill_dribbling: 88</br>skill_curve: 81</br>skill_fk_accuracy: 84</br>... too many variables\"],[\"</br>id: 2</br>prediction: 89595119.048</br>age: 33.59</br></br>overall: 91</br>potential: 91</br>weak_foot: 4</br>skill_moves: 5</br>international_reputation: 5</br>pace: 87.0</br>shooting: 94.0</br>passing: 80.0</br>dribbling: 88.0</br>defending: 34.0</br>physic: 75.0</br>attacking_crossing: 87</br>attacking_finishing: 95</br>attacking_heading_accuracy: 90</br>attacking_short_passing: 80</br>attacking_volleys: 86</br>skill_dribbling: 88</br>skill_curve: 81</br>skill_fk_accuracy: 84</br>skill_long_passing: 77</br>... too many variables\"],[\"</br>id: 2</br>prediction: 89595119.048</br>age: 33.8</br></br>overall: 91</br>potential: 91</br>weak_foot: 4</br>skill_moves: 5</br>international_reputation: 5</br>pace: 87.0</br>shooting: 94.0</br>passing: 80.0</br>dribbling: 88.0</br>defending: 34.0</br>physic: 75.0</br>attacking_crossing: 87</br>attacking_finishing: 95</br>attacking_heading_accuracy: 90</br>attacking_short_passing: 80</br>attacking_volleys: 86</br>skill_dribbling: 88</br>skill_curve: 81</br>skill_fk_accuracy: 84</br>skill_long_passing: 77</br>... too many variables\"],[\"</br>id: 2</br>prediction: 89304718.204</br>age: 34.01</br></br>overall: 91</br>potential: 91</br>weak_foot: 4</br>skill_moves: 5</br>international_reputation: 5</br>pace: 87.0</br>shooting: 94.0</br>passing: 80.0</br>dribbling: 88.0</br>defending: 34.0</br>physic: 75.0</br>attacking_crossing: 87</br>attacking_finishing: 95</br>attacking_heading_accuracy: 90</br>attacking_short_passing: 80</br>attacking_volleys: 86</br>skill_dribbling: 88</br>skill_curve: 81</br>skill_fk_accuracy: 84</br>skill_long_passing: 77</br>... too many variables\"],[\"</br>id: 2</br>prediction: 89304718.204</br>age: 34.22</br></br>overall: 91</br>potential: 91</br>weak_foot: 4</br>skill_moves: 5</br>international_reputation: 5</br>pace: 87.0</br>shooting: 94.0</br>passing: 80.0</br>dribbling: 88.0</br>defending: 34.0</br>physic: 75.0</br>attacking_crossing: 87</br>attacking_finishing: 95</br>attacking_heading_accuracy: 90</br>attacking_short_passing: 80</br>attacking_volleys: 86</br>skill_dribbling: 88</br>skill_curve: 81</br>skill_fk_accuracy: 84</br>skill_long_passing: 77</br>... too many variables\"],[\"</br>id: 2</br>prediction: 89304718.204</br>age: 34.43</br></br>overall: 91</br>potential: 91</br>weak_foot: 4</br>skill_moves: 5</br>international_reputation: 5</br>pace: 87.0</br>shooting: 94.0</br>passing: 80.0</br>dribbling: 88.0</br>defending: 34.0</br>physic: 75.0</br>attacking_crossing: 87</br>attacking_finishing: 95</br>attacking_heading_accuracy: 90</br>attacking_short_passing: 80</br>attacking_volleys: 86</br>skill_dribbling: 88</br>skill_curve: 81</br>skill_fk_accuracy: 84</br>skill_long_passing: 77</br>... too many variables\"],[\"</br>id: 2</br>prediction: 89304718.204</br>age: 34.64</br></br>overall: 91</br>potential: 91</br>weak_foot: 4</br>skill_moves: 5</br>international_reputation: 5</br>pace: 87.0</br>shooting: 94.0</br>passing: 80.0</br>dribbling: 88.0</br>defending: 34.0</br>physic: 75.0</br>attacking_crossing: 87</br>attacking_finishing: 95</br>attacking_heading_accuracy: 90</br>attacking_short_passing: 80</br>attacking_volleys: 86</br>skill_dribbling: 88</br>skill_curve: 81</br>skill_fk_accuracy: 84</br>skill_long_passing: 77</br>... too many variables\"],[\"</br>id: 2</br>prediction: 89304718.204</br>age: 34.849999999999994</br></br>overall: 91</br>potential: 91</br>weak_foot: 4</br>skill_moves: 5</br>international_reputation: 5</br>pace: 87.0</br>shooting: 94.0</br>passing: 80.0</br>dribbling: 88.0</br>defending: 34.0</br>physic: 75.0</br>attacking_crossing: 87</br>attacking_finishing: 95</br>attacking_heading_accuracy: 90</br>attacking_short_passing: 80</br>attacking_volleys: 86</br>skill_dribbling: 88</br>skill_curve: 81</br>skill_fk_accuracy: 84</br>... too many variables\"],[\"</br>id: 2</br>prediction: 89304718.204</br>age: 35.06</br></br>overall: 91</br>potential: 91</br>weak_foot: 4</br>skill_moves: 5</br>international_reputation: 5</br>pace: 87.0</br>shooting: 94.0</br>passing: 80.0</br>dribbling: 88.0</br>defending: 34.0</br>physic: 75.0</br>attacking_crossing: 87</br>attacking_finishing: 95</br>attacking_heading_accuracy: 90</br>attacking_short_passing: 80</br>attacking_volleys: 86</br>skill_dribbling: 88</br>skill_curve: 81</br>skill_fk_accuracy: 84</br>skill_long_passing: 77</br>... too many variables\"],[\"</br>id: 2</br>prediction: 89304718.204</br>age: 35.269999999999996</br></br>overall: 91</br>potential: 91</br>weak_foot: 4</br>skill_moves: 5</br>international_reputation: 5</br>pace: 87.0</br>shooting: 94.0</br>passing: 80.0</br>dribbling: 88.0</br>defending: 34.0</br>physic: 75.0</br>attacking_crossing: 87</br>attacking_finishing: 95</br>attacking_heading_accuracy: 90</br>attacking_short_passing: 80</br>attacking_volleys: 86</br>skill_dribbling: 88</br>skill_curve: 81</br>skill_fk_accuracy: 84</br>... too many variables\"],[\"</br>id: 2</br>prediction: 89304718.204</br>age: 35.480000000000004</br></br>overall: 91</br>potential: 91</br>weak_foot: 4</br>skill_moves: 5</br>international_reputation: 5</br>pace: 87.0</br>shooting: 94.0</br>passing: 80.0</br>dribbling: 88.0</br>defending: 34.0</br>physic: 75.0</br>attacking_crossing: 87</br>attacking_finishing: 95</br>attacking_heading_accuracy: 90</br>attacking_short_passing: 80</br>attacking_volleys: 86</br>skill_dribbling: 88</br>skill_curve: 81</br>skill_fk_accuracy: 84</br>... too many variables\"],[\"</br>id: 2</br>prediction: 89304718.204</br>age: 35.69</br></br>overall: 91</br>potential: 91</br>weak_foot: 4</br>skill_moves: 5</br>international_reputation: 5</br>pace: 87.0</br>shooting: 94.0</br>passing: 80.0</br>dribbling: 88.0</br>defending: 34.0</br>physic: 75.0</br>attacking_crossing: 87</br>attacking_finishing: 95</br>attacking_heading_accuracy: 90</br>attacking_short_passing: 80</br>attacking_volleys: 86</br>skill_dribbling: 88</br>skill_curve: 81</br>skill_fk_accuracy: 84</br>skill_long_passing: 77</br>... too many variables\"],[\"</br>id: 2</br>prediction: 89304718.204</br>age: 35.9</br></br>overall: 91</br>potential: 91</br>weak_foot: 4</br>skill_moves: 5</br>international_reputation: 5</br>pace: 87.0</br>shooting: 94.0</br>passing: 80.0</br>dribbling: 88.0</br>defending: 34.0</br>physic: 75.0</br>attacking_crossing: 87</br>attacking_finishing: 95</br>attacking_heading_accuracy: 90</br>attacking_short_passing: 80</br>attacking_volleys: 86</br>skill_dribbling: 88</br>skill_curve: 81</br>skill_fk_accuracy: 84</br>skill_long_passing: 77</br>... too many variables\"],[\"</br>id: 2</br>prediction: 89304718.204</br>age: 36.0</br></br>overall: 91</br>potential: 91</br>weak_foot: 4</br>skill_moves: 5</br>international_reputation: 5</br>pace: 87.0</br>shooting: 94.0</br>passing: 80.0</br>dribbling: 88.0</br>defending: 34.0</br>physic: 75.0</br>attacking_crossing: 87</br>attacking_finishing: 95</br>attacking_heading_accuracy: 90</br>attacking_short_passing: 80</br>attacking_volleys: 86</br>skill_dribbling: 88</br>skill_curve: 81</br>skill_fk_accuracy: 84</br>skill_long_passing: 77</br>... too many variables\"],[\"</br>id: 2</br>prediction: 89304718.204</br>age: 36.11</br></br>overall: 91</br>potential: 91</br>weak_foot: 4</br>skill_moves: 5</br>international_reputation: 5</br>pace: 87.0</br>shooting: 94.0</br>passing: 80.0</br>dribbling: 88.0</br>defending: 34.0</br>physic: 75.0</br>attacking_crossing: 87</br>attacking_finishing: 95</br>attacking_heading_accuracy: 90</br>attacking_short_passing: 80</br>attacking_volleys: 86</br>skill_dribbling: 88</br>skill_curve: 81</br>skill_fk_accuracy: 84</br>skill_long_passing: 77</br>... too many variables\"],[\"</br>id: 2</br>prediction: 89304718.204</br>age: 36.32</br></br>overall: 91</br>potential: 91</br>weak_foot: 4</br>skill_moves: 5</br>international_reputation: 5</br>pace: 87.0</br>shooting: 94.0</br>passing: 80.0</br>dribbling: 88.0</br>defending: 34.0</br>physic: 75.0</br>attacking_crossing: 87</br>attacking_finishing: 95</br>attacking_heading_accuracy: 90</br>attacking_short_passing: 80</br>attacking_volleys: 86</br>skill_dribbling: 88</br>skill_curve: 81</br>skill_fk_accuracy: 84</br>skill_long_passing: 77</br>... too many variables\"],[\"</br>id: 2</br>prediction: 89304718.204</br>age: 36.53</br></br>overall: 91</br>potential: 91</br>weak_foot: 4</br>skill_moves: 5</br>international_reputation: 5</br>pace: 87.0</br>shooting: 94.0</br>passing: 80.0</br>dribbling: 88.0</br>defending: 34.0</br>physic: 75.0</br>attacking_crossing: 87</br>attacking_finishing: 95</br>attacking_heading_accuracy: 90</br>attacking_short_passing: 80</br>attacking_volleys: 86</br>skill_dribbling: 88</br>skill_curve: 81</br>skill_fk_accuracy: 84</br>skill_long_passing: 77</br>... too many variables\"],[\"</br>id: 2</br>prediction: 89304718.204</br>age: 36.739999999999995</br></br>overall: 91</br>potential: 91</br>weak_foot: 4</br>skill_moves: 5</br>international_reputation: 5</br>pace: 87.0</br>shooting: 94.0</br>passing: 80.0</br>dribbling: 88.0</br>defending: 34.0</br>physic: 75.0</br>attacking_crossing: 87</br>attacking_finishing: 95</br>attacking_heading_accuracy: 90</br>attacking_short_passing: 80</br>attacking_volleys: 86</br>skill_dribbling: 88</br>skill_curve: 81</br>skill_fk_accuracy: 84</br>... too many variables\"],[\"</br>id: 2</br>prediction: 89304718.204</br>age: 36.95</br></br>overall: 91</br>potential: 91</br>weak_foot: 4</br>skill_moves: 5</br>international_reputation: 5</br>pace: 87.0</br>shooting: 94.0</br>passing: 80.0</br>dribbling: 88.0</br>defending: 34.0</br>physic: 75.0</br>attacking_crossing: 87</br>attacking_finishing: 95</br>attacking_heading_accuracy: 90</br>attacking_short_passing: 80</br>attacking_volleys: 86</br>skill_dribbling: 88</br>skill_curve: 81</br>skill_fk_accuracy: 84</br>skill_long_passing: 77</br>... too many variables\"],[\"</br>id: 2</br>prediction: 89304718.204</br>age: 37.16</br></br>overall: 91</br>potential: 91</br>weak_foot: 4</br>skill_moves: 5</br>international_reputation: 5</br>pace: 87.0</br>shooting: 94.0</br>passing: 80.0</br>dribbling: 88.0</br>defending: 34.0</br>physic: 75.0</br>attacking_crossing: 87</br>attacking_finishing: 95</br>attacking_heading_accuracy: 90</br>attacking_short_passing: 80</br>attacking_volleys: 86</br>skill_dribbling: 88</br>skill_curve: 81</br>skill_fk_accuracy: 84</br>skill_long_passing: 77</br>... too many variables\"],[\"</br>id: 2</br>prediction: 89304718.204</br>age: 37.370000000000005</br></br>overall: 91</br>potential: 91</br>weak_foot: 4</br>skill_moves: 5</br>international_reputation: 5</br>pace: 87.0</br>shooting: 94.0</br>passing: 80.0</br>dribbling: 88.0</br>defending: 34.0</br>physic: 75.0</br>attacking_crossing: 87</br>attacking_finishing: 95</br>attacking_heading_accuracy: 90</br>attacking_short_passing: 80</br>attacking_volleys: 86</br>skill_dribbling: 88</br>skill_curve: 81</br>skill_fk_accuracy: 84</br>... too many variables\"],[\"</br>id: 2</br>prediction: 89304718.204</br>age: 37.58</br></br>overall: 91</br>potential: 91</br>weak_foot: 4</br>skill_moves: 5</br>international_reputation: 5</br>pace: 87.0</br>shooting: 94.0</br>passing: 80.0</br>dribbling: 88.0</br>defending: 34.0</br>physic: 75.0</br>attacking_crossing: 87</br>attacking_finishing: 95</br>attacking_heading_accuracy: 90</br>attacking_short_passing: 80</br>attacking_volleys: 86</br>skill_dribbling: 88</br>skill_curve: 81</br>skill_fk_accuracy: 84</br>skill_long_passing: 77</br>... too many variables\"],[\"</br>id: 2</br>prediction: 89304718.204</br>age: 37.79</br></br>overall: 91</br>potential: 91</br>weak_foot: 4</br>skill_moves: 5</br>international_reputation: 5</br>pace: 87.0</br>shooting: 94.0</br>passing: 80.0</br>dribbling: 88.0</br>defending: 34.0</br>physic: 75.0</br>attacking_crossing: 87</br>attacking_finishing: 95</br>attacking_heading_accuracy: 90</br>attacking_short_passing: 80</br>attacking_volleys: 86</br>skill_dribbling: 88</br>skill_curve: 81</br>skill_fk_accuracy: 84</br>skill_long_passing: 77</br>... too many variables\"],[\"</br>id: 2</br>prediction: 89304718.204</br>age: 38.0</br></br>overall: 91</br>potential: 91</br>weak_foot: 4</br>skill_moves: 5</br>international_reputation: 5</br>pace: 87.0</br>shooting: 94.0</br>passing: 80.0</br>dribbling: 88.0</br>defending: 34.0</br>physic: 75.0</br>attacking_crossing: 87</br>attacking_finishing: 95</br>attacking_heading_accuracy: 90</br>attacking_short_passing: 80</br>attacking_volleys: 86</br>skill_dribbling: 88</br>skill_curve: 81</br>skill_fk_accuracy: 84</br>skill_long_passing: 77</br>... too many variables\"]],\"hovertemplate\":\"%{customdata[0]}<extra></extra>\",\"legendgroup\":\"Cristiano Ronaldo\",\"line\":{\"color\":\"#46bac2\",\"dash\":\"solid\",\"width\":3},\"marker\":{\"symbol\":\"circle\"},\"mode\":\"lines\",\"name\":\"Cristiano Ronaldo\",\"orientation\":\"v\",\"showlegend\":true,\"x\":[17.0,17.21,17.42,17.63,17.84,18.05,18.26,18.47,18.68,18.89,19.1,19.31,19.52,19.73,19.94,20.15,20.36,20.57,20.78,20.99,21.2,21.41,21.62,21.83,22.04,22.25,22.46,22.67,22.88,23.09,23.3,23.509999999999998,23.72,23.93,24.14,24.35,24.56,24.77,24.98,25.189999999999998,25.4,25.61,25.82,26.03,26.240000000000002,26.45,26.66,26.869999999999997,27.08,27.29,27.5,27.71,27.92,28.13,28.34,28.549999999999997,28.759999999999998,28.97,29.18,29.39,29.6,29.81,30.02,30.229999999999997,30.439999999999998,30.65,30.86,31.07,31.28,31.490000000000002,31.7,31.91,32.12,32.33,32.54,32.75,32.96,33.17,33.379999999999995,33.59,33.8,34.01,34.22,34.43,34.64,34.849999999999994,35.06,35.269999999999996,35.480000000000004,35.69,35.9,36.0,36.11,36.32,36.53,36.739999999999995,36.95,37.16,37.370000000000005,37.58,37.79,38.0],\"xaxis\":\"x\",\"y\":[93839686.5581676,93839686.5581676,93839686.5581676,93839686.5581676,93839686.5581676,93839686.5581676,93839686.5581676,93839686.5581676,93839686.5581676,93839686.5581676,93839686.5581676,93839686.5581676,93839686.5581676,93839686.5581676,93839686.5581676,93839686.5581676,93839686.5581676,93830825.79867393,93830825.79867393,93830825.79867393,93830825.79867393,93830825.79867393,93818589.5117541,93818589.5117541,93677450.27124777,93677450.27124777,93677450.27124777,93618536.76913805,93618536.76913805,93356300.48221822,93356300.48221822,93356300.48221822,93356300.48221822,93356300.48221822,93172703.43580472,93172703.43580472,93196754.06871612,93196754.06871612,93196754.06871612,93196754.06871612,93196754.06871612,93143273.0560579,93143273.0560579,93164792.04339966,93164792.04339966,93164792.04339966,93212007.23327309,93212007.23327309,93212007.23327309,93212007.23327309,93212007.23327309,93090488.24593131,93090488.24593131,93090488.24593131,93090488.24593131,92619581.07293552,92619581.07293552,92619581.07293552,92619581.07293552,92619581.07293552,92547218.20373723,92547218.20373723,92547218.20373723,92547218.20373723,92547218.20373723,92416838.45690179,92416838.45690179,92124169.68053047,92124169.68053047,92124169.68053047,91953072.63411698,91953072.63411698,91916522.00120558,91916522.00120558,91420614.82820982,91420614.82820982,91420614.82820982,91080688.66787225,91080688.66787225,89595119.04761904,89595119.04761904,89304718.2037372,89304718.2037372,89304718.2037372,89304718.2037372,89304718.2037372,89304718.2037372,89304718.2037372,89304718.2037372,89304718.2037372,89304718.2037372,89304718.2037372,89304718.2037372,89304718.2037372,89304718.2037372,89304718.2037372,89304718.2037372,89304718.2037372,89304718.2037372,89304718.2037372,89304718.2037372,89304718.2037372],\"yaxis\":\"y\",\"type\":\"scatter\",\"opacity\":1},{\"customdata\":[[\"</br>id: 2</br>prediction: 88626250.753</br>movement_reactions: 35.0</br></br>overall: 91</br>potential: 91</br>age: 36.0</br>weak_foot: 4</br>skill_moves: 5</br>international_reputation: 5</br>pace: 87.0</br>shooting: 94.0</br>passing: 80.0</br>dribbling: 88.0</br>defending: 34.0</br>physic: 75.0</br>attacking_crossing: 87</br>attacking_finishing: 95</br>attacking_heading_accuracy: 90</br>attacking_short_passing: 80</br>attacking_volleys: 86</br>skill_dribbling: 88</br>skill_curve: 81</br>skill_fk_accuracy: 84</br>... too many variables\"],[\"</br>id: 2</br>prediction: 88626250.753</br>movement_reactions: 35.57</br></br>overall: 91</br>potential: 91</br>age: 36.0</br>weak_foot: 4</br>skill_moves: 5</br>international_reputation: 5</br>pace: 87.0</br>shooting: 94.0</br>passing: 80.0</br>dribbling: 88.0</br>defending: 34.0</br>physic: 75.0</br>attacking_crossing: 87</br>attacking_finishing: 95</br>attacking_heading_accuracy: 90</br>attacking_short_passing: 80</br>attacking_volleys: 86</br>skill_dribbling: 88</br>skill_curve: 81</br>skill_fk_accuracy: 84</br>... too many variables\"],[\"</br>id: 2</br>prediction: 88626250.753</br>movement_reactions: 36.14</br></br>overall: 91</br>potential: 91</br>age: 36.0</br>weak_foot: 4</br>skill_moves: 5</br>international_reputation: 5</br>pace: 87.0</br>shooting: 94.0</br>passing: 80.0</br>dribbling: 88.0</br>defending: 34.0</br>physic: 75.0</br>attacking_crossing: 87</br>attacking_finishing: 95</br>attacking_heading_accuracy: 90</br>attacking_short_passing: 80</br>attacking_volleys: 86</br>skill_dribbling: 88</br>skill_curve: 81</br>skill_fk_accuracy: 84</br>... too many variables\"],[\"</br>id: 2</br>prediction: 88626250.753</br>movement_reactions: 36.71</br></br>overall: 91</br>potential: 91</br>age: 36.0</br>weak_foot: 4</br>skill_moves: 5</br>international_reputation: 5</br>pace: 87.0</br>shooting: 94.0</br>passing: 80.0</br>dribbling: 88.0</br>defending: 34.0</br>physic: 75.0</br>attacking_crossing: 87</br>attacking_finishing: 95</br>attacking_heading_accuracy: 90</br>attacking_short_passing: 80</br>attacking_volleys: 86</br>skill_dribbling: 88</br>skill_curve: 81</br>skill_fk_accuracy: 84</br>... too many variables\"],[\"</br>id: 2</br>prediction: 88626250.753</br>movement_reactions: 37.28</br></br>overall: 91</br>potential: 91</br>age: 36.0</br>weak_foot: 4</br>skill_moves: 5</br>international_reputation: 5</br>pace: 87.0</br>shooting: 94.0</br>passing: 80.0</br>dribbling: 88.0</br>defending: 34.0</br>physic: 75.0</br>attacking_crossing: 87</br>attacking_finishing: 95</br>attacking_heading_accuracy: 90</br>attacking_short_passing: 80</br>attacking_volleys: 86</br>skill_dribbling: 88</br>skill_curve: 81</br>skill_fk_accuracy: 84</br>... too many variables\"],[\"</br>id: 2</br>prediction: 88626250.753</br>movement_reactions: 37.85</br></br>overall: 91</br>potential: 91</br>age: 36.0</br>weak_foot: 4</br>skill_moves: 5</br>international_reputation: 5</br>pace: 87.0</br>shooting: 94.0</br>passing: 80.0</br>dribbling: 88.0</br>defending: 34.0</br>physic: 75.0</br>attacking_crossing: 87</br>attacking_finishing: 95</br>attacking_heading_accuracy: 90</br>attacking_short_passing: 80</br>attacking_volleys: 86</br>skill_dribbling: 88</br>skill_curve: 81</br>skill_fk_accuracy: 84</br>... too many variables\"],[\"</br>id: 2</br>prediction: 88626250.753</br>movement_reactions: 38.42</br></br>overall: 91</br>potential: 91</br>age: 36.0</br>weak_foot: 4</br>skill_moves: 5</br>international_reputation: 5</br>pace: 87.0</br>shooting: 94.0</br>passing: 80.0</br>dribbling: 88.0</br>defending: 34.0</br>physic: 75.0</br>attacking_crossing: 87</br>attacking_finishing: 95</br>attacking_heading_accuracy: 90</br>attacking_short_passing: 80</br>attacking_volleys: 86</br>skill_dribbling: 88</br>skill_curve: 81</br>skill_fk_accuracy: 84</br>... too many variables\"],[\"</br>id: 2</br>prediction: 88626250.753</br>movement_reactions: 38.99</br></br>overall: 91</br>potential: 91</br>age: 36.0</br>weak_foot: 4</br>skill_moves: 5</br>international_reputation: 5</br>pace: 87.0</br>shooting: 94.0</br>passing: 80.0</br>dribbling: 88.0</br>defending: 34.0</br>physic: 75.0</br>attacking_crossing: 87</br>attacking_finishing: 95</br>attacking_heading_accuracy: 90</br>attacking_short_passing: 80</br>attacking_volleys: 86</br>skill_dribbling: 88</br>skill_curve: 81</br>skill_fk_accuracy: 84</br>... too many variables\"],[\"</br>id: 2</br>prediction: 88626250.753</br>movement_reactions: 39.56</br></br>overall: 91</br>potential: 91</br>age: 36.0</br>weak_foot: 4</br>skill_moves: 5</br>international_reputation: 5</br>pace: 87.0</br>shooting: 94.0</br>passing: 80.0</br>dribbling: 88.0</br>defending: 34.0</br>physic: 75.0</br>attacking_crossing: 87</br>attacking_finishing: 95</br>attacking_heading_accuracy: 90</br>attacking_short_passing: 80</br>attacking_volleys: 86</br>skill_dribbling: 88</br>skill_curve: 81</br>skill_fk_accuracy: 84</br>... too many variables\"],[\"</br>id: 2</br>prediction: 88626250.753</br>movement_reactions: 40.13</br></br>overall: 91</br>potential: 91</br>age: 36.0</br>weak_foot: 4</br>skill_moves: 5</br>international_reputation: 5</br>pace: 87.0</br>shooting: 94.0</br>passing: 80.0</br>dribbling: 88.0</br>defending: 34.0</br>physic: 75.0</br>attacking_crossing: 87</br>attacking_finishing: 95</br>attacking_heading_accuracy: 90</br>attacking_short_passing: 80</br>attacking_volleys: 86</br>skill_dribbling: 88</br>skill_curve: 81</br>skill_fk_accuracy: 84</br>... too many variables\"],[\"</br>id: 2</br>prediction: 88626250.753</br>movement_reactions: 40.7</br></br>overall: 91</br>potential: 91</br>age: 36.0</br>weak_foot: 4</br>skill_moves: 5</br>international_reputation: 5</br>pace: 87.0</br>shooting: 94.0</br>passing: 80.0</br>dribbling: 88.0</br>defending: 34.0</br>physic: 75.0</br>attacking_crossing: 87</br>attacking_finishing: 95</br>attacking_heading_accuracy: 90</br>attacking_short_passing: 80</br>attacking_volleys: 86</br>skill_dribbling: 88</br>skill_curve: 81</br>skill_fk_accuracy: 84</br>... too many variables\"],[\"</br>id: 2</br>prediction: 88626250.753</br>movement_reactions: 41.269999999999996</br></br>overall: 91</br>potential: 91</br>age: 36.0</br>weak_foot: 4</br>skill_moves: 5</br>international_reputation: 5</br>pace: 87.0</br>shooting: 94.0</br>passing: 80.0</br>dribbling: 88.0</br>defending: 34.0</br>physic: 75.0</br>attacking_crossing: 87</br>attacking_finishing: 95</br>attacking_heading_accuracy: 90</br>attacking_short_passing: 80</br>attacking_volleys: 86</br>skill_dribbling: 88</br>skill_curve: 81</br>... too many variables\"],[\"</br>id: 2</br>prediction: 88626250.753</br>movement_reactions: 41.84</br></br>overall: 91</br>potential: 91</br>age: 36.0</br>weak_foot: 4</br>skill_moves: 5</br>international_reputation: 5</br>pace: 87.0</br>shooting: 94.0</br>passing: 80.0</br>dribbling: 88.0</br>defending: 34.0</br>physic: 75.0</br>attacking_crossing: 87</br>attacking_finishing: 95</br>attacking_heading_accuracy: 90</br>attacking_short_passing: 80</br>attacking_volleys: 86</br>skill_dribbling: 88</br>skill_curve: 81</br>skill_fk_accuracy: 84</br>... too many variables\"],[\"</br>id: 2</br>prediction: 88626250.753</br>movement_reactions: 42.41</br></br>overall: 91</br>potential: 91</br>age: 36.0</br>weak_foot: 4</br>skill_moves: 5</br>international_reputation: 5</br>pace: 87.0</br>shooting: 94.0</br>passing: 80.0</br>dribbling: 88.0</br>defending: 34.0</br>physic: 75.0</br>attacking_crossing: 87</br>attacking_finishing: 95</br>attacking_heading_accuracy: 90</br>attacking_short_passing: 80</br>attacking_volleys: 86</br>skill_dribbling: 88</br>skill_curve: 81</br>skill_fk_accuracy: 84</br>... too many variables\"],[\"</br>id: 2</br>prediction: 88626250.753</br>movement_reactions: 42.98</br></br>overall: 91</br>potential: 91</br>age: 36.0</br>weak_foot: 4</br>skill_moves: 5</br>international_reputation: 5</br>pace: 87.0</br>shooting: 94.0</br>passing: 80.0</br>dribbling: 88.0</br>defending: 34.0</br>physic: 75.0</br>attacking_crossing: 87</br>attacking_finishing: 95</br>attacking_heading_accuracy: 90</br>attacking_short_passing: 80</br>attacking_volleys: 86</br>skill_dribbling: 88</br>skill_curve: 81</br>skill_fk_accuracy: 84</br>... too many variables\"],[\"</br>id: 2</br>prediction: 88626250.753</br>movement_reactions: 43.55</br></br>overall: 91</br>potential: 91</br>age: 36.0</br>weak_foot: 4</br>skill_moves: 5</br>international_reputation: 5</br>pace: 87.0</br>shooting: 94.0</br>passing: 80.0</br>dribbling: 88.0</br>defending: 34.0</br>physic: 75.0</br>attacking_crossing: 87</br>attacking_finishing: 95</br>attacking_heading_accuracy: 90</br>attacking_short_passing: 80</br>attacking_volleys: 86</br>skill_dribbling: 88</br>skill_curve: 81</br>skill_fk_accuracy: 84</br>... too many variables\"],[\"</br>id: 2</br>prediction: 88626250.753</br>movement_reactions: 44.12</br></br>overall: 91</br>potential: 91</br>age: 36.0</br>weak_foot: 4</br>skill_moves: 5</br>international_reputation: 5</br>pace: 87.0</br>shooting: 94.0</br>passing: 80.0</br>dribbling: 88.0</br>defending: 34.0</br>physic: 75.0</br>attacking_crossing: 87</br>attacking_finishing: 95</br>attacking_heading_accuracy: 90</br>attacking_short_passing: 80</br>attacking_volleys: 86</br>skill_dribbling: 88</br>skill_curve: 81</br>skill_fk_accuracy: 84</br>... too many variables\"],[\"</br>id: 2</br>prediction: 88626250.753</br>movement_reactions: 44.69</br></br>overall: 91</br>potential: 91</br>age: 36.0</br>weak_foot: 4</br>skill_moves: 5</br>international_reputation: 5</br>pace: 87.0</br>shooting: 94.0</br>passing: 80.0</br>dribbling: 88.0</br>defending: 34.0</br>physic: 75.0</br>attacking_crossing: 87</br>attacking_finishing: 95</br>attacking_heading_accuracy: 90</br>attacking_short_passing: 80</br>attacking_volleys: 86</br>skill_dribbling: 88</br>skill_curve: 81</br>skill_fk_accuracy: 84</br>... too many variables\"],[\"</br>id: 2</br>prediction: 88626250.753</br>movement_reactions: 45.26</br></br>overall: 91</br>potential: 91</br>age: 36.0</br>weak_foot: 4</br>skill_moves: 5</br>international_reputation: 5</br>pace: 87.0</br>shooting: 94.0</br>passing: 80.0</br>dribbling: 88.0</br>defending: 34.0</br>physic: 75.0</br>attacking_crossing: 87</br>attacking_finishing: 95</br>attacking_heading_accuracy: 90</br>attacking_short_passing: 80</br>attacking_volleys: 86</br>skill_dribbling: 88</br>skill_curve: 81</br>skill_fk_accuracy: 84</br>... too many variables\"],[\"</br>id: 2</br>prediction: 88626250.753</br>movement_reactions: 45.83</br></br>overall: 91</br>potential: 91</br>age: 36.0</br>weak_foot: 4</br>skill_moves: 5</br>international_reputation: 5</br>pace: 87.0</br>shooting: 94.0</br>passing: 80.0</br>dribbling: 88.0</br>defending: 34.0</br>physic: 75.0</br>attacking_crossing: 87</br>attacking_finishing: 95</br>attacking_heading_accuracy: 90</br>attacking_short_passing: 80</br>attacking_volleys: 86</br>skill_dribbling: 88</br>skill_curve: 81</br>skill_fk_accuracy: 84</br>... too many variables\"],[\"</br>id: 2</br>prediction: 88626250.753</br>movement_reactions: 46.4</br></br>overall: 91</br>potential: 91</br>age: 36.0</br>weak_foot: 4</br>skill_moves: 5</br>international_reputation: 5</br>pace: 87.0</br>shooting: 94.0</br>passing: 80.0</br>dribbling: 88.0</br>defending: 34.0</br>physic: 75.0</br>attacking_crossing: 87</br>attacking_finishing: 95</br>attacking_heading_accuracy: 90</br>attacking_short_passing: 80</br>attacking_volleys: 86</br>skill_dribbling: 88</br>skill_curve: 81</br>skill_fk_accuracy: 84</br>... too many variables\"],[\"</br>id: 2</br>prediction: 88626250.753</br>movement_reactions: 46.97</br></br>overall: 91</br>potential: 91</br>age: 36.0</br>weak_foot: 4</br>skill_moves: 5</br>international_reputation: 5</br>pace: 87.0</br>shooting: 94.0</br>passing: 80.0</br>dribbling: 88.0</br>defending: 34.0</br>physic: 75.0</br>attacking_crossing: 87</br>attacking_finishing: 95</br>attacking_heading_accuracy: 90</br>attacking_short_passing: 80</br>attacking_volleys: 86</br>skill_dribbling: 88</br>skill_curve: 81</br>skill_fk_accuracy: 84</br>... too many variables\"],[\"</br>id: 2</br>prediction: 88626250.753</br>movement_reactions: 47.54</br></br>overall: 91</br>potential: 91</br>age: 36.0</br>weak_foot: 4</br>skill_moves: 5</br>international_reputation: 5</br>pace: 87.0</br>shooting: 94.0</br>passing: 80.0</br>dribbling: 88.0</br>defending: 34.0</br>physic: 75.0</br>attacking_crossing: 87</br>attacking_finishing: 95</br>attacking_heading_accuracy: 90</br>attacking_short_passing: 80</br>attacking_volleys: 86</br>skill_dribbling: 88</br>skill_curve: 81</br>skill_fk_accuracy: 84</br>... too many variables\"],[\"</br>id: 2</br>prediction: 88626250.753</br>movement_reactions: 48.11</br></br>overall: 91</br>potential: 91</br>age: 36.0</br>weak_foot: 4</br>skill_moves: 5</br>international_reputation: 5</br>pace: 87.0</br>shooting: 94.0</br>passing: 80.0</br>dribbling: 88.0</br>defending: 34.0</br>physic: 75.0</br>attacking_crossing: 87</br>attacking_finishing: 95</br>attacking_heading_accuracy: 90</br>attacking_short_passing: 80</br>attacking_volleys: 86</br>skill_dribbling: 88</br>skill_curve: 81</br>skill_fk_accuracy: 84</br>... too many variables\"],[\"</br>id: 2</br>prediction: 88626250.753</br>movement_reactions: 48.68</br></br>overall: 91</br>potential: 91</br>age: 36.0</br>weak_foot: 4</br>skill_moves: 5</br>international_reputation: 5</br>pace: 87.0</br>shooting: 94.0</br>passing: 80.0</br>dribbling: 88.0</br>defending: 34.0</br>physic: 75.0</br>attacking_crossing: 87</br>attacking_finishing: 95</br>attacking_heading_accuracy: 90</br>attacking_short_passing: 80</br>attacking_volleys: 86</br>skill_dribbling: 88</br>skill_curve: 81</br>skill_fk_accuracy: 84</br>... too many variables\"],[\"</br>id: 2</br>prediction: 88626250.753</br>movement_reactions: 49.25</br></br>overall: 91</br>potential: 91</br>age: 36.0</br>weak_foot: 4</br>skill_moves: 5</br>international_reputation: 5</br>pace: 87.0</br>shooting: 94.0</br>passing: 80.0</br>dribbling: 88.0</br>defending: 34.0</br>physic: 75.0</br>attacking_crossing: 87</br>attacking_finishing: 95</br>attacking_heading_accuracy: 90</br>attacking_short_passing: 80</br>attacking_volleys: 86</br>skill_dribbling: 88</br>skill_curve: 81</br>skill_fk_accuracy: 84</br>... too many variables\"],[\"</br>id: 2</br>prediction: 88626250.753</br>movement_reactions: 49.82</br></br>overall: 91</br>potential: 91</br>age: 36.0</br>weak_foot: 4</br>skill_moves: 5</br>international_reputation: 5</br>pace: 87.0</br>shooting: 94.0</br>passing: 80.0</br>dribbling: 88.0</br>defending: 34.0</br>physic: 75.0</br>attacking_crossing: 87</br>attacking_finishing: 95</br>attacking_heading_accuracy: 90</br>attacking_short_passing: 80</br>attacking_volleys: 86</br>skill_dribbling: 88</br>skill_curve: 81</br>skill_fk_accuracy: 84</br>... too many variables\"],[\"</br>id: 2</br>prediction: 88626250.753</br>movement_reactions: 50.39</br></br>overall: 91</br>potential: 91</br>age: 36.0</br>weak_foot: 4</br>skill_moves: 5</br>international_reputation: 5</br>pace: 87.0</br>shooting: 94.0</br>passing: 80.0</br>dribbling: 88.0</br>defending: 34.0</br>physic: 75.0</br>attacking_crossing: 87</br>attacking_finishing: 95</br>attacking_heading_accuracy: 90</br>attacking_short_passing: 80</br>attacking_volleys: 86</br>skill_dribbling: 88</br>skill_curve: 81</br>skill_fk_accuracy: 84</br>... too many variables\"],[\"</br>id: 2</br>prediction: 88626250.753</br>movement_reactions: 50.96</br></br>overall: 91</br>potential: 91</br>age: 36.0</br>weak_foot: 4</br>skill_moves: 5</br>international_reputation: 5</br>pace: 87.0</br>shooting: 94.0</br>passing: 80.0</br>dribbling: 88.0</br>defending: 34.0</br>physic: 75.0</br>attacking_crossing: 87</br>attacking_finishing: 95</br>attacking_heading_accuracy: 90</br>attacking_short_passing: 80</br>attacking_volleys: 86</br>skill_dribbling: 88</br>skill_curve: 81</br>skill_fk_accuracy: 84</br>... too many variables\"],[\"</br>id: 2</br>prediction: 88626250.753</br>movement_reactions: 51.53</br></br>overall: 91</br>potential: 91</br>age: 36.0</br>weak_foot: 4</br>skill_moves: 5</br>international_reputation: 5</br>pace: 87.0</br>shooting: 94.0</br>passing: 80.0</br>dribbling: 88.0</br>defending: 34.0</br>physic: 75.0</br>attacking_crossing: 87</br>attacking_finishing: 95</br>attacking_heading_accuracy: 90</br>attacking_short_passing: 80</br>attacking_volleys: 86</br>skill_dribbling: 88</br>skill_curve: 81</br>skill_fk_accuracy: 84</br>... too many variables\"],[\"</br>id: 2</br>prediction: 88626250.753</br>movement_reactions: 52.099999999999994</br></br>overall: 91</br>potential: 91</br>age: 36.0</br>weak_foot: 4</br>skill_moves: 5</br>international_reputation: 5</br>pace: 87.0</br>shooting: 94.0</br>passing: 80.0</br>dribbling: 88.0</br>defending: 34.0</br>physic: 75.0</br>attacking_crossing: 87</br>attacking_finishing: 95</br>attacking_heading_accuracy: 90</br>attacking_short_passing: 80</br>attacking_volleys: 86</br>skill_dribbling: 88</br>skill_curve: 81</br>... too many variables\"],[\"</br>id: 2</br>prediction: 88626250.753</br>movement_reactions: 52.67</br></br>overall: 91</br>potential: 91</br>age: 36.0</br>weak_foot: 4</br>skill_moves: 5</br>international_reputation: 5</br>pace: 87.0</br>shooting: 94.0</br>passing: 80.0</br>dribbling: 88.0</br>defending: 34.0</br>physic: 75.0</br>attacking_crossing: 87</br>attacking_finishing: 95</br>attacking_heading_accuracy: 90</br>attacking_short_passing: 80</br>attacking_volleys: 86</br>skill_dribbling: 88</br>skill_curve: 81</br>skill_fk_accuracy: 84</br>... too many variables\"],[\"</br>id: 2</br>prediction: 88626250.753</br>movement_reactions: 53.239999999999995</br></br>overall: 91</br>potential: 91</br>age: 36.0</br>weak_foot: 4</br>skill_moves: 5</br>international_reputation: 5</br>pace: 87.0</br>shooting: 94.0</br>passing: 80.0</br>dribbling: 88.0</br>defending: 34.0</br>physic: 75.0</br>attacking_crossing: 87</br>attacking_finishing: 95</br>attacking_heading_accuracy: 90</br>attacking_short_passing: 80</br>attacking_volleys: 86</br>skill_dribbling: 88</br>skill_curve: 81</br>... too many variables\"],[\"</br>id: 2</br>prediction: 88626250.753</br>movement_reactions: 53.81</br></br>overall: 91</br>potential: 91</br>age: 36.0</br>weak_foot: 4</br>skill_moves: 5</br>international_reputation: 5</br>pace: 87.0</br>shooting: 94.0</br>passing: 80.0</br>dribbling: 88.0</br>defending: 34.0</br>physic: 75.0</br>attacking_crossing: 87</br>attacking_finishing: 95</br>attacking_heading_accuracy: 90</br>attacking_short_passing: 80</br>attacking_volleys: 86</br>skill_dribbling: 88</br>skill_curve: 81</br>skill_fk_accuracy: 84</br>... too many variables\"],[\"</br>id: 2</br>prediction: 88626250.753</br>movement_reactions: 54.379999999999995</br></br>overall: 91</br>potential: 91</br>age: 36.0</br>weak_foot: 4</br>skill_moves: 5</br>international_reputation: 5</br>pace: 87.0</br>shooting: 94.0</br>passing: 80.0</br>dribbling: 88.0</br>defending: 34.0</br>physic: 75.0</br>attacking_crossing: 87</br>attacking_finishing: 95</br>attacking_heading_accuracy: 90</br>attacking_short_passing: 80</br>attacking_volleys: 86</br>skill_dribbling: 88</br>skill_curve: 81</br>... too many variables\"],[\"</br>id: 2</br>prediction: 88626250.753</br>movement_reactions: 54.95</br></br>overall: 91</br>potential: 91</br>age: 36.0</br>weak_foot: 4</br>skill_moves: 5</br>international_reputation: 5</br>pace: 87.0</br>shooting: 94.0</br>passing: 80.0</br>dribbling: 88.0</br>defending: 34.0</br>physic: 75.0</br>attacking_crossing: 87</br>attacking_finishing: 95</br>attacking_heading_accuracy: 90</br>attacking_short_passing: 80</br>attacking_volleys: 86</br>skill_dribbling: 88</br>skill_curve: 81</br>skill_fk_accuracy: 84</br>... too many variables\"],[\"</br>id: 2</br>prediction: 88626250.753</br>movement_reactions: 55.519999999999996</br></br>overall: 91</br>potential: 91</br>age: 36.0</br>weak_foot: 4</br>skill_moves: 5</br>international_reputation: 5</br>pace: 87.0</br>shooting: 94.0</br>passing: 80.0</br>dribbling: 88.0</br>defending: 34.0</br>physic: 75.0</br>attacking_crossing: 87</br>attacking_finishing: 95</br>attacking_heading_accuracy: 90</br>attacking_short_passing: 80</br>attacking_volleys: 86</br>skill_dribbling: 88</br>skill_curve: 81</br>... too many variables\"],[\"</br>id: 2</br>prediction: 88626250.753</br>movement_reactions: 56.09</br></br>overall: 91</br>potential: 91</br>age: 36.0</br>weak_foot: 4</br>skill_moves: 5</br>international_reputation: 5</br>pace: 87.0</br>shooting: 94.0</br>passing: 80.0</br>dribbling: 88.0</br>defending: 34.0</br>physic: 75.0</br>attacking_crossing: 87</br>attacking_finishing: 95</br>attacking_heading_accuracy: 90</br>attacking_short_passing: 80</br>attacking_volleys: 86</br>skill_dribbling: 88</br>skill_curve: 81</br>skill_fk_accuracy: 84</br>... too many variables\"],[\"</br>id: 2</br>prediction: 88626250.753</br>movement_reactions: 56.66</br></br>overall: 91</br>potential: 91</br>age: 36.0</br>weak_foot: 4</br>skill_moves: 5</br>international_reputation: 5</br>pace: 87.0</br>shooting: 94.0</br>passing: 80.0</br>dribbling: 88.0</br>defending: 34.0</br>physic: 75.0</br>attacking_crossing: 87</br>attacking_finishing: 95</br>attacking_heading_accuracy: 90</br>attacking_short_passing: 80</br>attacking_volleys: 86</br>skill_dribbling: 88</br>skill_curve: 81</br>skill_fk_accuracy: 84</br>... too many variables\"],[\"</br>id: 2</br>prediction: 88626250.753</br>movement_reactions: 57.23</br></br>overall: 91</br>potential: 91</br>age: 36.0</br>weak_foot: 4</br>skill_moves: 5</br>international_reputation: 5</br>pace: 87.0</br>shooting: 94.0</br>passing: 80.0</br>dribbling: 88.0</br>defending: 34.0</br>physic: 75.0</br>attacking_crossing: 87</br>attacking_finishing: 95</br>attacking_heading_accuracy: 90</br>attacking_short_passing: 80</br>attacking_volleys: 86</br>skill_dribbling: 88</br>skill_curve: 81</br>skill_fk_accuracy: 84</br>... too many variables\"],[\"</br>id: 2</br>prediction: 88626250.753</br>movement_reactions: 57.8</br></br>overall: 91</br>potential: 91</br>age: 36.0</br>weak_foot: 4</br>skill_moves: 5</br>international_reputation: 5</br>pace: 87.0</br>shooting: 94.0</br>passing: 80.0</br>dribbling: 88.0</br>defending: 34.0</br>physic: 75.0</br>attacking_crossing: 87</br>attacking_finishing: 95</br>attacking_heading_accuracy: 90</br>attacking_short_passing: 80</br>attacking_volleys: 86</br>skill_dribbling: 88</br>skill_curve: 81</br>skill_fk_accuracy: 84</br>... too many variables\"],[\"</br>id: 2</br>prediction: 88626250.753</br>movement_reactions: 58.37</br></br>overall: 91</br>potential: 91</br>age: 36.0</br>weak_foot: 4</br>skill_moves: 5</br>international_reputation: 5</br>pace: 87.0</br>shooting: 94.0</br>passing: 80.0</br>dribbling: 88.0</br>defending: 34.0</br>physic: 75.0</br>attacking_crossing: 87</br>attacking_finishing: 95</br>attacking_heading_accuracy: 90</br>attacking_short_passing: 80</br>attacking_volleys: 86</br>skill_dribbling: 88</br>skill_curve: 81</br>skill_fk_accuracy: 84</br>... too many variables\"],[\"</br>id: 2</br>prediction: 88626250.753</br>movement_reactions: 58.94</br></br>overall: 91</br>potential: 91</br>age: 36.0</br>weak_foot: 4</br>skill_moves: 5</br>international_reputation: 5</br>pace: 87.0</br>shooting: 94.0</br>passing: 80.0</br>dribbling: 88.0</br>defending: 34.0</br>physic: 75.0</br>attacking_crossing: 87</br>attacking_finishing: 95</br>attacking_heading_accuracy: 90</br>attacking_short_passing: 80</br>attacking_volleys: 86</br>skill_dribbling: 88</br>skill_curve: 81</br>skill_fk_accuracy: 84</br>... too many variables\"],[\"</br>id: 2</br>prediction: 88626250.753</br>movement_reactions: 59.51</br></br>overall: 91</br>potential: 91</br>age: 36.0</br>weak_foot: 4</br>skill_moves: 5</br>international_reputation: 5</br>pace: 87.0</br>shooting: 94.0</br>passing: 80.0</br>dribbling: 88.0</br>defending: 34.0</br>physic: 75.0</br>attacking_crossing: 87</br>attacking_finishing: 95</br>attacking_heading_accuracy: 90</br>attacking_short_passing: 80</br>attacking_volleys: 86</br>skill_dribbling: 88</br>skill_curve: 81</br>skill_fk_accuracy: 84</br>... too many variables\"],[\"</br>id: 2</br>prediction: 88626250.753</br>movement_reactions: 60.08</br></br>overall: 91</br>potential: 91</br>age: 36.0</br>weak_foot: 4</br>skill_moves: 5</br>international_reputation: 5</br>pace: 87.0</br>shooting: 94.0</br>passing: 80.0</br>dribbling: 88.0</br>defending: 34.0</br>physic: 75.0</br>attacking_crossing: 87</br>attacking_finishing: 95</br>attacking_heading_accuracy: 90</br>attacking_short_passing: 80</br>attacking_volleys: 86</br>skill_dribbling: 88</br>skill_curve: 81</br>skill_fk_accuracy: 84</br>... too many variables\"],[\"</br>id: 2</br>prediction: 88626250.753</br>movement_reactions: 60.65</br></br>overall: 91</br>potential: 91</br>age: 36.0</br>weak_foot: 4</br>skill_moves: 5</br>international_reputation: 5</br>pace: 87.0</br>shooting: 94.0</br>passing: 80.0</br>dribbling: 88.0</br>defending: 34.0</br>physic: 75.0</br>attacking_crossing: 87</br>attacking_finishing: 95</br>attacking_heading_accuracy: 90</br>attacking_short_passing: 80</br>attacking_volleys: 86</br>skill_dribbling: 88</br>skill_curve: 81</br>skill_fk_accuracy: 84</br>... too many variables\"],[\"</br>id: 2</br>prediction: 88626250.753</br>movement_reactions: 61.22</br></br>overall: 91</br>potential: 91</br>age: 36.0</br>weak_foot: 4</br>skill_moves: 5</br>international_reputation: 5</br>pace: 87.0</br>shooting: 94.0</br>passing: 80.0</br>dribbling: 88.0</br>defending: 34.0</br>physic: 75.0</br>attacking_crossing: 87</br>attacking_finishing: 95</br>attacking_heading_accuracy: 90</br>attacking_short_passing: 80</br>attacking_volleys: 86</br>skill_dribbling: 88</br>skill_curve: 81</br>skill_fk_accuracy: 84</br>... too many variables\"],[\"</br>id: 2</br>prediction: 88626250.753</br>movement_reactions: 61.79</br></br>overall: 91</br>potential: 91</br>age: 36.0</br>weak_foot: 4</br>skill_moves: 5</br>international_reputation: 5</br>pace: 87.0</br>shooting: 94.0</br>passing: 80.0</br>dribbling: 88.0</br>defending: 34.0</br>physic: 75.0</br>attacking_crossing: 87</br>attacking_finishing: 95</br>attacking_heading_accuracy: 90</br>attacking_short_passing: 80</br>attacking_volleys: 86</br>skill_dribbling: 88</br>skill_curve: 81</br>skill_fk_accuracy: 84</br>... too many variables\"],[\"</br>id: 2</br>prediction: 88626250.753</br>movement_reactions: 62.36</br></br>overall: 91</br>potential: 91</br>age: 36.0</br>weak_foot: 4</br>skill_moves: 5</br>international_reputation: 5</br>pace: 87.0</br>shooting: 94.0</br>passing: 80.0</br>dribbling: 88.0</br>defending: 34.0</br>physic: 75.0</br>attacking_crossing: 87</br>attacking_finishing: 95</br>attacking_heading_accuracy: 90</br>attacking_short_passing: 80</br>attacking_volleys: 86</br>skill_dribbling: 88</br>skill_curve: 81</br>skill_fk_accuracy: 84</br>... too many variables\"],[\"</br>id: 2</br>prediction: 88626250.753</br>movement_reactions: 62.92999999999999</br></br>overall: 91</br>potential: 91</br>age: 36.0</br>weak_foot: 4</br>skill_moves: 5</br>international_reputation: 5</br>pace: 87.0</br>shooting: 94.0</br>passing: 80.0</br>dribbling: 88.0</br>defending: 34.0</br>physic: 75.0</br>attacking_crossing: 87</br>attacking_finishing: 95</br>attacking_heading_accuracy: 90</br>attacking_short_passing: 80</br>attacking_volleys: 86</br>skill_dribbling: 88</br>skill_curve: 81</br>... too many variables\"],[\"</br>id: 2</br>prediction: 88626250.753</br>movement_reactions: 63.5</br></br>overall: 91</br>potential: 91</br>age: 36.0</br>weak_foot: 4</br>skill_moves: 5</br>international_reputation: 5</br>pace: 87.0</br>shooting: 94.0</br>passing: 80.0</br>dribbling: 88.0</br>defending: 34.0</br>physic: 75.0</br>attacking_crossing: 87</br>attacking_finishing: 95</br>attacking_heading_accuracy: 90</br>attacking_short_passing: 80</br>attacking_volleys: 86</br>skill_dribbling: 88</br>skill_curve: 81</br>skill_fk_accuracy: 84</br>... too many variables\"],[\"</br>id: 2</br>prediction: 88626250.753</br>movement_reactions: 64.07</br></br>overall: 91</br>potential: 91</br>age: 36.0</br>weak_foot: 4</br>skill_moves: 5</br>international_reputation: 5</br>pace: 87.0</br>shooting: 94.0</br>passing: 80.0</br>dribbling: 88.0</br>defending: 34.0</br>physic: 75.0</br>attacking_crossing: 87</br>attacking_finishing: 95</br>attacking_heading_accuracy: 90</br>attacking_short_passing: 80</br>attacking_volleys: 86</br>skill_dribbling: 88</br>skill_curve: 81</br>skill_fk_accuracy: 84</br>... too many variables\"],[\"</br>id: 2</br>prediction: 88626250.753</br>movement_reactions: 64.64</br></br>overall: 91</br>potential: 91</br>age: 36.0</br>weak_foot: 4</br>skill_moves: 5</br>international_reputation: 5</br>pace: 87.0</br>shooting: 94.0</br>passing: 80.0</br>dribbling: 88.0</br>defending: 34.0</br>physic: 75.0</br>attacking_crossing: 87</br>attacking_finishing: 95</br>attacking_heading_accuracy: 90</br>attacking_short_passing: 80</br>attacking_volleys: 86</br>skill_dribbling: 88</br>skill_curve: 81</br>skill_fk_accuracy: 84</br>... too many variables\"],[\"</br>id: 2</br>prediction: 88626250.753</br>movement_reactions: 65.21</br></br>overall: 91</br>potential: 91</br>age: 36.0</br>weak_foot: 4</br>skill_moves: 5</br>international_reputation: 5</br>pace: 87.0</br>shooting: 94.0</br>passing: 80.0</br>dribbling: 88.0</br>defending: 34.0</br>physic: 75.0</br>attacking_crossing: 87</br>attacking_finishing: 95</br>attacking_heading_accuracy: 90</br>attacking_short_passing: 80</br>attacking_volleys: 86</br>skill_dribbling: 88</br>skill_curve: 81</br>skill_fk_accuracy: 84</br>... too many variables\"],[\"</br>id: 2</br>prediction: 88626250.753</br>movement_reactions: 65.78</br></br>overall: 91</br>potential: 91</br>age: 36.0</br>weak_foot: 4</br>skill_moves: 5</br>international_reputation: 5</br>pace: 87.0</br>shooting: 94.0</br>passing: 80.0</br>dribbling: 88.0</br>defending: 34.0</br>physic: 75.0</br>attacking_crossing: 87</br>attacking_finishing: 95</br>attacking_heading_accuracy: 90</br>attacking_short_passing: 80</br>attacking_volleys: 86</br>skill_dribbling: 88</br>skill_curve: 81</br>skill_fk_accuracy: 84</br>... too many variables\"],[\"</br>id: 2</br>prediction: 88626250.753</br>movement_reactions: 66.35</br></br>overall: 91</br>potential: 91</br>age: 36.0</br>weak_foot: 4</br>skill_moves: 5</br>international_reputation: 5</br>pace: 87.0</br>shooting: 94.0</br>passing: 80.0</br>dribbling: 88.0</br>defending: 34.0</br>physic: 75.0</br>attacking_crossing: 87</br>attacking_finishing: 95</br>attacking_heading_accuracy: 90</br>attacking_short_passing: 80</br>attacking_volleys: 86</br>skill_dribbling: 88</br>skill_curve: 81</br>skill_fk_accuracy: 84</br>... too many variables\"],[\"</br>id: 2</br>prediction: 88626250.753</br>movement_reactions: 66.92</br></br>overall: 91</br>potential: 91</br>age: 36.0</br>weak_foot: 4</br>skill_moves: 5</br>international_reputation: 5</br>pace: 87.0</br>shooting: 94.0</br>passing: 80.0</br>dribbling: 88.0</br>defending: 34.0</br>physic: 75.0</br>attacking_crossing: 87</br>attacking_finishing: 95</br>attacking_heading_accuracy: 90</br>attacking_short_passing: 80</br>attacking_volleys: 86</br>skill_dribbling: 88</br>skill_curve: 81</br>skill_fk_accuracy: 84</br>... too many variables\"],[\"</br>id: 2</br>prediction: 88626250.753</br>movement_reactions: 67.49</br></br>overall: 91</br>potential: 91</br>age: 36.0</br>weak_foot: 4</br>skill_moves: 5</br>international_reputation: 5</br>pace: 87.0</br>shooting: 94.0</br>passing: 80.0</br>dribbling: 88.0</br>defending: 34.0</br>physic: 75.0</br>attacking_crossing: 87</br>attacking_finishing: 95</br>attacking_heading_accuracy: 90</br>attacking_short_passing: 80</br>attacking_volleys: 86</br>skill_dribbling: 88</br>skill_curve: 81</br>skill_fk_accuracy: 84</br>... too many variables\"],[\"</br>id: 2</br>prediction: 88626250.753</br>movement_reactions: 68.06</br></br>overall: 91</br>potential: 91</br>age: 36.0</br>weak_foot: 4</br>skill_moves: 5</br>international_reputation: 5</br>pace: 87.0</br>shooting: 94.0</br>passing: 80.0</br>dribbling: 88.0</br>defending: 34.0</br>physic: 75.0</br>attacking_crossing: 87</br>attacking_finishing: 95</br>attacking_heading_accuracy: 90</br>attacking_short_passing: 80</br>attacking_volleys: 86</br>skill_dribbling: 88</br>skill_curve: 81</br>skill_fk_accuracy: 84</br>... too many variables\"],[\"</br>id: 2</br>prediction: 88626250.753</br>movement_reactions: 68.63</br></br>overall: 91</br>potential: 91</br>age: 36.0</br>weak_foot: 4</br>skill_moves: 5</br>international_reputation: 5</br>pace: 87.0</br>shooting: 94.0</br>passing: 80.0</br>dribbling: 88.0</br>defending: 34.0</br>physic: 75.0</br>attacking_crossing: 87</br>attacking_finishing: 95</br>attacking_heading_accuracy: 90</br>attacking_short_passing: 80</br>attacking_volleys: 86</br>skill_dribbling: 88</br>skill_curve: 81</br>skill_fk_accuracy: 84</br>... too many variables\"],[\"</br>id: 2</br>prediction: 88626250.753</br>movement_reactions: 69.19999999999999</br></br>overall: 91</br>potential: 91</br>age: 36.0</br>weak_foot: 4</br>skill_moves: 5</br>international_reputation: 5</br>pace: 87.0</br>shooting: 94.0</br>passing: 80.0</br>dribbling: 88.0</br>defending: 34.0</br>physic: 75.0</br>attacking_crossing: 87</br>attacking_finishing: 95</br>attacking_heading_accuracy: 90</br>attacking_short_passing: 80</br>attacking_volleys: 86</br>skill_dribbling: 88</br>skill_curve: 81</br>... too many variables\"],[\"</br>id: 2</br>prediction: 88626250.753</br>movement_reactions: 69.77</br></br>overall: 91</br>potential: 91</br>age: 36.0</br>weak_foot: 4</br>skill_moves: 5</br>international_reputation: 5</br>pace: 87.0</br>shooting: 94.0</br>passing: 80.0</br>dribbling: 88.0</br>defending: 34.0</br>physic: 75.0</br>attacking_crossing: 87</br>attacking_finishing: 95</br>attacking_heading_accuracy: 90</br>attacking_short_passing: 80</br>attacking_volleys: 86</br>skill_dribbling: 88</br>skill_curve: 81</br>skill_fk_accuracy: 84</br>... too many variables\"],[\"</br>id: 2</br>prediction: 88626250.753</br>movement_reactions: 70.34</br></br>overall: 91</br>potential: 91</br>age: 36.0</br>weak_foot: 4</br>skill_moves: 5</br>international_reputation: 5</br>pace: 87.0</br>shooting: 94.0</br>passing: 80.0</br>dribbling: 88.0</br>defending: 34.0</br>physic: 75.0</br>attacking_crossing: 87</br>attacking_finishing: 95</br>attacking_heading_accuracy: 90</br>attacking_short_passing: 80</br>attacking_volleys: 86</br>skill_dribbling: 88</br>skill_curve: 81</br>skill_fk_accuracy: 84</br>... too many variables\"],[\"</br>id: 2</br>prediction: 88626250.753</br>movement_reactions: 70.91</br></br>overall: 91</br>potential: 91</br>age: 36.0</br>weak_foot: 4</br>skill_moves: 5</br>international_reputation: 5</br>pace: 87.0</br>shooting: 94.0</br>passing: 80.0</br>dribbling: 88.0</br>defending: 34.0</br>physic: 75.0</br>attacking_crossing: 87</br>attacking_finishing: 95</br>attacking_heading_accuracy: 90</br>attacking_short_passing: 80</br>attacking_volleys: 86</br>skill_dribbling: 88</br>skill_curve: 81</br>skill_fk_accuracy: 84</br>... too many variables\"],[\"</br>id: 2</br>prediction: 88626250.753</br>movement_reactions: 71.47999999999999</br></br>overall: 91</br>potential: 91</br>age: 36.0</br>weak_foot: 4</br>skill_moves: 5</br>international_reputation: 5</br>pace: 87.0</br>shooting: 94.0</br>passing: 80.0</br>dribbling: 88.0</br>defending: 34.0</br>physic: 75.0</br>attacking_crossing: 87</br>attacking_finishing: 95</br>attacking_heading_accuracy: 90</br>attacking_short_passing: 80</br>attacking_volleys: 86</br>skill_dribbling: 88</br>skill_curve: 81</br>... too many variables\"],[\"</br>id: 2</br>prediction: 88626250.753</br>movement_reactions: 72.05</br></br>overall: 91</br>potential: 91</br>age: 36.0</br>weak_foot: 4</br>skill_moves: 5</br>international_reputation: 5</br>pace: 87.0</br>shooting: 94.0</br>passing: 80.0</br>dribbling: 88.0</br>defending: 34.0</br>physic: 75.0</br>attacking_crossing: 87</br>attacking_finishing: 95</br>attacking_heading_accuracy: 90</br>attacking_short_passing: 80</br>attacking_volleys: 86</br>skill_dribbling: 88</br>skill_curve: 81</br>skill_fk_accuracy: 84</br>... too many variables\"],[\"</br>id: 2</br>prediction: 88626250.753</br>movement_reactions: 72.62</br></br>overall: 91</br>potential: 91</br>age: 36.0</br>weak_foot: 4</br>skill_moves: 5</br>international_reputation: 5</br>pace: 87.0</br>shooting: 94.0</br>passing: 80.0</br>dribbling: 88.0</br>defending: 34.0</br>physic: 75.0</br>attacking_crossing: 87</br>attacking_finishing: 95</br>attacking_heading_accuracy: 90</br>attacking_short_passing: 80</br>attacking_volleys: 86</br>skill_dribbling: 88</br>skill_curve: 81</br>skill_fk_accuracy: 84</br>... too many variables\"],[\"</br>id: 2</br>prediction: 88626250.753</br>movement_reactions: 73.19</br></br>overall: 91</br>potential: 91</br>age: 36.0</br>weak_foot: 4</br>skill_moves: 5</br>international_reputation: 5</br>pace: 87.0</br>shooting: 94.0</br>passing: 80.0</br>dribbling: 88.0</br>defending: 34.0</br>physic: 75.0</br>attacking_crossing: 87</br>attacking_finishing: 95</br>attacking_heading_accuracy: 90</br>attacking_short_passing: 80</br>attacking_volleys: 86</br>skill_dribbling: 88</br>skill_curve: 81</br>skill_fk_accuracy: 84</br>... too many variables\"],[\"</br>id: 2</br>prediction: 88626250.753</br>movement_reactions: 73.75999999999999</br></br>overall: 91</br>potential: 91</br>age: 36.0</br>weak_foot: 4</br>skill_moves: 5</br>international_reputation: 5</br>pace: 87.0</br>shooting: 94.0</br>passing: 80.0</br>dribbling: 88.0</br>defending: 34.0</br>physic: 75.0</br>attacking_crossing: 87</br>attacking_finishing: 95</br>attacking_heading_accuracy: 90</br>attacking_short_passing: 80</br>attacking_volleys: 86</br>skill_dribbling: 88</br>skill_curve: 81</br>... too many variables\"],[\"</br>id: 2</br>prediction: 88626250.753</br>movement_reactions: 74.33</br></br>overall: 91</br>potential: 91</br>age: 36.0</br>weak_foot: 4</br>skill_moves: 5</br>international_reputation: 5</br>pace: 87.0</br>shooting: 94.0</br>passing: 80.0</br>dribbling: 88.0</br>defending: 34.0</br>physic: 75.0</br>attacking_crossing: 87</br>attacking_finishing: 95</br>attacking_heading_accuracy: 90</br>attacking_short_passing: 80</br>attacking_volleys: 86</br>skill_dribbling: 88</br>skill_curve: 81</br>skill_fk_accuracy: 84</br>... too many variables\"],[\"</br>id: 2</br>prediction: 88626250.753</br>movement_reactions: 74.9</br></br>overall: 91</br>potential: 91</br>age: 36.0</br>weak_foot: 4</br>skill_moves: 5</br>international_reputation: 5</br>pace: 87.0</br>shooting: 94.0</br>passing: 80.0</br>dribbling: 88.0</br>defending: 34.0</br>physic: 75.0</br>attacking_crossing: 87</br>attacking_finishing: 95</br>attacking_heading_accuracy: 90</br>attacking_short_passing: 80</br>attacking_volleys: 86</br>skill_dribbling: 88</br>skill_curve: 81</br>skill_fk_accuracy: 84</br>... too many variables\"],[\"</br>id: 2</br>prediction: 88626250.753</br>movement_reactions: 75.47</br></br>overall: 91</br>potential: 91</br>age: 36.0</br>weak_foot: 4</br>skill_moves: 5</br>international_reputation: 5</br>pace: 87.0</br>shooting: 94.0</br>passing: 80.0</br>dribbling: 88.0</br>defending: 34.0</br>physic: 75.0</br>attacking_crossing: 87</br>attacking_finishing: 95</br>attacking_heading_accuracy: 90</br>attacking_short_passing: 80</br>attacking_volleys: 86</br>skill_dribbling: 88</br>skill_curve: 81</br>skill_fk_accuracy: 84</br>... too many variables\"],[\"</br>id: 2</br>prediction: 88626250.753</br>movement_reactions: 76.03999999999999</br></br>overall: 91</br>potential: 91</br>age: 36.0</br>weak_foot: 4</br>skill_moves: 5</br>international_reputation: 5</br>pace: 87.0</br>shooting: 94.0</br>passing: 80.0</br>dribbling: 88.0</br>defending: 34.0</br>physic: 75.0</br>attacking_crossing: 87</br>attacking_finishing: 95</br>attacking_heading_accuracy: 90</br>attacking_short_passing: 80</br>attacking_volleys: 86</br>skill_dribbling: 88</br>skill_curve: 81</br>... too many variables\"],[\"</br>id: 2</br>prediction: 88626250.753</br>movement_reactions: 76.61</br></br>overall: 91</br>potential: 91</br>age: 36.0</br>weak_foot: 4</br>skill_moves: 5</br>international_reputation: 5</br>pace: 87.0</br>shooting: 94.0</br>passing: 80.0</br>dribbling: 88.0</br>defending: 34.0</br>physic: 75.0</br>attacking_crossing: 87</br>attacking_finishing: 95</br>attacking_heading_accuracy: 90</br>attacking_short_passing: 80</br>attacking_volleys: 86</br>skill_dribbling: 88</br>skill_curve: 81</br>skill_fk_accuracy: 84</br>... too many variables\"],[\"</br>id: 2</br>prediction: 88626250.753</br>movement_reactions: 77.18</br></br>overall: 91</br>potential: 91</br>age: 36.0</br>weak_foot: 4</br>skill_moves: 5</br>international_reputation: 5</br>pace: 87.0</br>shooting: 94.0</br>passing: 80.0</br>dribbling: 88.0</br>defending: 34.0</br>physic: 75.0</br>attacking_crossing: 87</br>attacking_finishing: 95</br>attacking_heading_accuracy: 90</br>attacking_short_passing: 80</br>attacking_volleys: 86</br>skill_dribbling: 88</br>skill_curve: 81</br>skill_fk_accuracy: 84</br>... too many variables\"],[\"</br>id: 2</br>prediction: 88626250.753</br>movement_reactions: 77.75</br></br>overall: 91</br>potential: 91</br>age: 36.0</br>weak_foot: 4</br>skill_moves: 5</br>international_reputation: 5</br>pace: 87.0</br>shooting: 94.0</br>passing: 80.0</br>dribbling: 88.0</br>defending: 34.0</br>physic: 75.0</br>attacking_crossing: 87</br>attacking_finishing: 95</br>attacking_heading_accuracy: 90</br>attacking_short_passing: 80</br>attacking_volleys: 86</br>skill_dribbling: 88</br>skill_curve: 81</br>skill_fk_accuracy: 84</br>... too many variables\"],[\"</br>id: 2</br>prediction: 88626250.753</br>movement_reactions: 78.32</br></br>overall: 91</br>potential: 91</br>age: 36.0</br>weak_foot: 4</br>skill_moves: 5</br>international_reputation: 5</br>pace: 87.0</br>shooting: 94.0</br>passing: 80.0</br>dribbling: 88.0</br>defending: 34.0</br>physic: 75.0</br>attacking_crossing: 87</br>attacking_finishing: 95</br>attacking_heading_accuracy: 90</br>attacking_short_passing: 80</br>attacking_volleys: 86</br>skill_dribbling: 88</br>skill_curve: 81</br>skill_fk_accuracy: 84</br>... too many variables\"],[\"</br>id: 2</br>prediction: 88626250.753</br>movement_reactions: 78.88999999999999</br></br>overall: 91</br>potential: 91</br>age: 36.0</br>weak_foot: 4</br>skill_moves: 5</br>international_reputation: 5</br>pace: 87.0</br>shooting: 94.0</br>passing: 80.0</br>dribbling: 88.0</br>defending: 34.0</br>physic: 75.0</br>attacking_crossing: 87</br>attacking_finishing: 95</br>attacking_heading_accuracy: 90</br>attacking_short_passing: 80</br>attacking_volleys: 86</br>skill_dribbling: 88</br>skill_curve: 81</br>... too many variables\"],[\"</br>id: 2</br>prediction: 88626250.753</br>movement_reactions: 79.46</br></br>overall: 91</br>potential: 91</br>age: 36.0</br>weak_foot: 4</br>skill_moves: 5</br>international_reputation: 5</br>pace: 87.0</br>shooting: 94.0</br>passing: 80.0</br>dribbling: 88.0</br>defending: 34.0</br>physic: 75.0</br>attacking_crossing: 87</br>attacking_finishing: 95</br>attacking_heading_accuracy: 90</br>attacking_short_passing: 80</br>attacking_volleys: 86</br>skill_dribbling: 88</br>skill_curve: 81</br>skill_fk_accuracy: 84</br>... too many variables\"],[\"</br>id: 2</br>prediction: 88582105.184</br>movement_reactions: 80.03</br></br>overall: 91</br>potential: 91</br>age: 36.0</br>weak_foot: 4</br>skill_moves: 5</br>international_reputation: 5</br>pace: 87.0</br>shooting: 94.0</br>passing: 80.0</br>dribbling: 88.0</br>defending: 34.0</br>physic: 75.0</br>attacking_crossing: 87</br>attacking_finishing: 95</br>attacking_heading_accuracy: 90</br>attacking_short_passing: 80</br>attacking_volleys: 86</br>skill_dribbling: 88</br>skill_curve: 81</br>skill_fk_accuracy: 84</br>... too many variables\"],[\"</br>id: 2</br>prediction: 88582105.184</br>movement_reactions: 80.6</br></br>overall: 91</br>potential: 91</br>age: 36.0</br>weak_foot: 4</br>skill_moves: 5</br>international_reputation: 5</br>pace: 87.0</br>shooting: 94.0</br>passing: 80.0</br>dribbling: 88.0</br>defending: 34.0</br>physic: 75.0</br>attacking_crossing: 87</br>attacking_finishing: 95</br>attacking_heading_accuracy: 90</br>attacking_short_passing: 80</br>attacking_volleys: 86</br>skill_dribbling: 88</br>skill_curve: 81</br>skill_fk_accuracy: 84</br>... too many variables\"],[\"</br>id: 2</br>prediction: 88582105.184</br>movement_reactions: 81.16999999999999</br></br>overall: 91</br>potential: 91</br>age: 36.0</br>weak_foot: 4</br>skill_moves: 5</br>international_reputation: 5</br>pace: 87.0</br>shooting: 94.0</br>passing: 80.0</br>dribbling: 88.0</br>defending: 34.0</br>physic: 75.0</br>attacking_crossing: 87</br>attacking_finishing: 95</br>attacking_heading_accuracy: 90</br>attacking_short_passing: 80</br>attacking_volleys: 86</br>skill_dribbling: 88</br>skill_curve: 81</br>... too many variables\"],[\"</br>id: 2</br>prediction: 88582105.184</br>movement_reactions: 81.74</br></br>overall: 91</br>potential: 91</br>age: 36.0</br>weak_foot: 4</br>skill_moves: 5</br>international_reputation: 5</br>pace: 87.0</br>shooting: 94.0</br>passing: 80.0</br>dribbling: 88.0</br>defending: 34.0</br>physic: 75.0</br>attacking_crossing: 87</br>attacking_finishing: 95</br>attacking_heading_accuracy: 90</br>attacking_short_passing: 80</br>attacking_volleys: 86</br>skill_dribbling: 88</br>skill_curve: 81</br>skill_fk_accuracy: 84</br>... too many variables\"],[\"</br>id: 2</br>prediction: 88840164.256</br>movement_reactions: 82.31</br></br>overall: 91</br>potential: 91</br>age: 36.0</br>weak_foot: 4</br>skill_moves: 5</br>international_reputation: 5</br>pace: 87.0</br>shooting: 94.0</br>passing: 80.0</br>dribbling: 88.0</br>defending: 34.0</br>physic: 75.0</br>attacking_crossing: 87</br>attacking_finishing: 95</br>attacking_heading_accuracy: 90</br>attacking_short_passing: 80</br>attacking_volleys: 86</br>skill_dribbling: 88</br>skill_curve: 81</br>skill_fk_accuracy: 84</br>... too many variables\"],[\"</br>id: 2</br>prediction: 88840164.256</br>movement_reactions: 82.88</br></br>overall: 91</br>potential: 91</br>age: 36.0</br>weak_foot: 4</br>skill_moves: 5</br>international_reputation: 5</br>pace: 87.0</br>shooting: 94.0</br>passing: 80.0</br>dribbling: 88.0</br>defending: 34.0</br>physic: 75.0</br>attacking_crossing: 87</br>attacking_finishing: 95</br>attacking_heading_accuracy: 90</br>attacking_short_passing: 80</br>attacking_volleys: 86</br>skill_dribbling: 88</br>skill_curve: 81</br>skill_fk_accuracy: 84</br>... too many variables\"],[\"</br>id: 2</br>prediction: 88869278.18</br>movement_reactions: 83.44999999999999</br></br>overall: 91</br>potential: 91</br>age: 36.0</br>weak_foot: 4</br>skill_moves: 5</br>international_reputation: 5</br>pace: 87.0</br>shooting: 94.0</br>passing: 80.0</br>dribbling: 88.0</br>defending: 34.0</br>physic: 75.0</br>attacking_crossing: 87</br>attacking_finishing: 95</br>attacking_heading_accuracy: 90</br>attacking_short_passing: 80</br>attacking_volleys: 86</br>skill_dribbling: 88</br>skill_curve: 81</br>... too many variables\"],[\"</br>id: 2</br>prediction: 88889003.918</br>movement_reactions: 84.02</br></br>overall: 91</br>potential: 91</br>age: 36.0</br>weak_foot: 4</br>skill_moves: 5</br>international_reputation: 5</br>pace: 87.0</br>shooting: 94.0</br>passing: 80.0</br>dribbling: 88.0</br>defending: 34.0</br>physic: 75.0</br>attacking_crossing: 87</br>attacking_finishing: 95</br>attacking_heading_accuracy: 90</br>attacking_short_passing: 80</br>attacking_volleys: 86</br>skill_dribbling: 88</br>skill_curve: 81</br>skill_fk_accuracy: 84</br>... too many variables\"],[\"</br>id: 2</br>prediction: 89227503.014</br>movement_reactions: 84.59</br></br>overall: 91</br>potential: 91</br>age: 36.0</br>weak_foot: 4</br>skill_moves: 5</br>international_reputation: 5</br>pace: 87.0</br>shooting: 94.0</br>passing: 80.0</br>dribbling: 88.0</br>defending: 34.0</br>physic: 75.0</br>attacking_crossing: 87</br>attacking_finishing: 95</br>attacking_heading_accuracy: 90</br>attacking_short_passing: 80</br>attacking_volleys: 86</br>skill_dribbling: 88</br>skill_curve: 81</br>skill_fk_accuracy: 84</br>... too many variables\"],[\"</br>id: 2</br>prediction: 89339686.558</br>movement_reactions: 85.16</br></br>overall: 91</br>potential: 91</br>age: 36.0</br>weak_foot: 4</br>skill_moves: 5</br>international_reputation: 5</br>pace: 87.0</br>shooting: 94.0</br>passing: 80.0</br>dribbling: 88.0</br>defending: 34.0</br>physic: 75.0</br>attacking_crossing: 87</br>attacking_finishing: 95</br>attacking_heading_accuracy: 90</br>attacking_short_passing: 80</br>attacking_volleys: 86</br>skill_dribbling: 88</br>skill_curve: 81</br>skill_fk_accuracy: 84</br>... too many variables\"],[\"</br>id: 2</br>prediction: 89361205.546</br>movement_reactions: 85.72999999999999</br></br>overall: 91</br>potential: 91</br>age: 36.0</br>weak_foot: 4</br>skill_moves: 5</br>international_reputation: 5</br>pace: 87.0</br>shooting: 94.0</br>passing: 80.0</br>dribbling: 88.0</br>defending: 34.0</br>physic: 75.0</br>attacking_crossing: 87</br>attacking_finishing: 95</br>attacking_heading_accuracy: 90</br>attacking_short_passing: 80</br>attacking_volleys: 86</br>skill_dribbling: 88</br>skill_curve: 81</br>... too many variables\"],[\"</br>id: 2</br>prediction: 89361205.546</br>movement_reactions: 86.3</br></br>overall: 91</br>potential: 91</br>age: 36.0</br>weak_foot: 4</br>skill_moves: 5</br>international_reputation: 5</br>pace: 87.0</br>shooting: 94.0</br>passing: 80.0</br>dribbling: 88.0</br>defending: 34.0</br>physic: 75.0</br>attacking_crossing: 87</br>attacking_finishing: 95</br>attacking_heading_accuracy: 90</br>attacking_short_passing: 80</br>attacking_volleys: 86</br>skill_dribbling: 88</br>skill_curve: 81</br>skill_fk_accuracy: 84</br>... too many variables\"],[\"</br>id: 2</br>prediction: 89361943.942</br>movement_reactions: 86.87</br></br>overall: 91</br>potential: 91</br>age: 36.0</br>weak_foot: 4</br>skill_moves: 5</br>international_reputation: 5</br>pace: 87.0</br>shooting: 94.0</br>passing: 80.0</br>dribbling: 88.0</br>defending: 34.0</br>physic: 75.0</br>attacking_crossing: 87</br>attacking_finishing: 95</br>attacking_heading_accuracy: 90</br>attacking_short_passing: 80</br>attacking_volleys: 86</br>skill_dribbling: 88</br>skill_curve: 81</br>skill_fk_accuracy: 84</br>... too many variables\"],[\"</br>id: 2</br>prediction: 89315741.41</br>movement_reactions: 87.44</br></br>overall: 91</br>potential: 91</br>age: 36.0</br>weak_foot: 4</br>skill_moves: 5</br>international_reputation: 5</br>pace: 87.0</br>shooting: 94.0</br>passing: 80.0</br>dribbling: 88.0</br>defending: 34.0</br>physic: 75.0</br>attacking_crossing: 87</br>attacking_finishing: 95</br>attacking_heading_accuracy: 90</br>attacking_short_passing: 80</br>attacking_volleys: 86</br>skill_dribbling: 88</br>skill_curve: 81</br>skill_fk_accuracy: 84</br>... too many variables\"],[\"</br>id: 2</br>prediction: 89260055.756</br>movement_reactions: 88.00999999999999</br></br>overall: 91</br>potential: 91</br>age: 36.0</br>weak_foot: 4</br>skill_moves: 5</br>international_reputation: 5</br>pace: 87.0</br>shooting: 94.0</br>passing: 80.0</br>dribbling: 88.0</br>defending: 34.0</br>physic: 75.0</br>attacking_crossing: 87</br>attacking_finishing: 95</br>attacking_heading_accuracy: 90</br>attacking_short_passing: 80</br>attacking_volleys: 86</br>skill_dribbling: 88</br>skill_curve: 81</br>... too many variables\"],[\"</br>id: 2</br>prediction: 89424549.427</br>movement_reactions: 88.58</br></br>overall: 91</br>potential: 91</br>age: 36.0</br>weak_foot: 4</br>skill_moves: 5</br>international_reputation: 5</br>pace: 87.0</br>shooting: 94.0</br>passing: 80.0</br>dribbling: 88.0</br>defending: 34.0</br>physic: 75.0</br>attacking_crossing: 87</br>attacking_finishing: 95</br>attacking_heading_accuracy: 90</br>attacking_short_passing: 80</br>attacking_volleys: 86</br>skill_dribbling: 88</br>skill_curve: 81</br>skill_fk_accuracy: 84</br>... too many variables\"],[\"</br>id: 2</br>prediction: 89415688.668</br>movement_reactions: 89.15</br></br>overall: 91</br>potential: 91</br>age: 36.0</br>weak_foot: 4</br>skill_moves: 5</br>international_reputation: 5</br>pace: 87.0</br>shooting: 94.0</br>passing: 80.0</br>dribbling: 88.0</br>defending: 34.0</br>physic: 75.0</br>attacking_crossing: 87</br>attacking_finishing: 95</br>attacking_heading_accuracy: 90</br>attacking_short_passing: 80</br>attacking_volleys: 86</br>skill_dribbling: 88</br>skill_curve: 81</br>skill_fk_accuracy: 84</br>... too many variables\"],[\"</br>id: 2</br>prediction: 89417270.946</br>movement_reactions: 89.72</br></br>overall: 91</br>potential: 91</br>age: 36.0</br>weak_foot: 4</br>skill_moves: 5</br>international_reputation: 5</br>pace: 87.0</br>shooting: 94.0</br>passing: 80.0</br>dribbling: 88.0</br>defending: 34.0</br>physic: 75.0</br>attacking_crossing: 87</br>attacking_finishing: 95</br>attacking_heading_accuracy: 90</br>attacking_short_passing: 80</br>attacking_volleys: 86</br>skill_dribbling: 88</br>skill_curve: 81</br>skill_fk_accuracy: 84</br>... too many variables\"],[\"</br>id: 2</br>prediction: 89417270.946</br>movement_reactions: 90.28999999999999</br></br>overall: 91</br>potential: 91</br>age: 36.0</br>weak_foot: 4</br>skill_moves: 5</br>international_reputation: 5</br>pace: 87.0</br>shooting: 94.0</br>passing: 80.0</br>dribbling: 88.0</br>defending: 34.0</br>physic: 75.0</br>attacking_crossing: 87</br>attacking_finishing: 95</br>attacking_heading_accuracy: 90</br>attacking_short_passing: 80</br>attacking_volleys: 86</br>skill_dribbling: 88</br>skill_curve: 81</br>... too many variables\"],[\"</br>id: 2</br>prediction: 89363473.478</br>movement_reactions: 90.85999999999999</br></br>overall: 91</br>potential: 91</br>age: 36.0</br>weak_foot: 4</br>skill_moves: 5</br>international_reputation: 5</br>pace: 87.0</br>shooting: 94.0</br>passing: 80.0</br>dribbling: 88.0</br>defending: 34.0</br>physic: 75.0</br>attacking_crossing: 87</br>attacking_finishing: 95</br>attacking_heading_accuracy: 90</br>attacking_short_passing: 80</br>attacking_volleys: 86</br>skill_dribbling: 88</br>skill_curve: 81</br>... too many variables\"],[\"</br>id: 2</br>prediction: 89373389.09</br>movement_reactions: 91.42999999999999</br></br>overall: 91</br>potential: 91</br>age: 36.0</br>weak_foot: 4</br>skill_moves: 5</br>international_reputation: 5</br>pace: 87.0</br>shooting: 94.0</br>passing: 80.0</br>dribbling: 88.0</br>defending: 34.0</br>physic: 75.0</br>attacking_crossing: 87</br>attacking_finishing: 95</br>attacking_heading_accuracy: 90</br>attacking_short_passing: 80</br>attacking_volleys: 86</br>skill_dribbling: 88</br>skill_curve: 81</br>... too many variables\"],[\"</br>id: 2</br>prediction: 89378452.381</br>movement_reactions: 92.0</br></br>overall: 91</br>potential: 91</br>age: 36.0</br>weak_foot: 4</br>skill_moves: 5</br>international_reputation: 5</br>pace: 87.0</br>shooting: 94.0</br>passing: 80.0</br>dribbling: 88.0</br>defending: 34.0</br>physic: 75.0</br>attacking_crossing: 87</br>attacking_finishing: 95</br>attacking_heading_accuracy: 90</br>attacking_short_passing: 80</br>attacking_volleys: 86</br>skill_dribbling: 88</br>skill_curve: 81</br>skill_fk_accuracy: 84</br>... too many variables\"],[\"</br>id: 2</br>prediction: 89304718.204</br>movement_reactions: 94.0</br></br>overall: 91</br>potential: 91</br>age: 36.0</br>weak_foot: 4</br>skill_moves: 5</br>international_reputation: 5</br>pace: 87.0</br>shooting: 94.0</br>passing: 80.0</br>dribbling: 88.0</br>defending: 34.0</br>physic: 75.0</br>attacking_crossing: 87</br>attacking_finishing: 95</br>attacking_heading_accuracy: 90</br>attacking_short_passing: 80</br>attacking_volleys: 86</br>skill_dribbling: 88</br>skill_curve: 81</br>skill_fk_accuracy: 84</br>... too many variables\"]],\"hovertemplate\":\"%{customdata[0]}<extra></extra>\",\"legendgroup\":\"Cristiano Ronaldo\",\"line\":{\"color\":\"#46bac2\",\"dash\":\"solid\",\"width\":3},\"marker\":{\"symbol\":\"circle\"},\"mode\":\"lines\",\"name\":\"Cristiano Ronaldo\",\"orientation\":\"v\",\"showlegend\":false,\"x\":[35.0,35.57,36.14,36.71,37.28,37.85,38.42,38.99,39.56,40.13,40.7,41.269999999999996,41.84,42.41,42.98,43.55,44.12,44.69,45.26,45.83,46.4,46.97,47.54,48.11,48.68,49.25,49.82,50.39,50.96,51.53,52.099999999999994,52.67,53.239999999999995,53.81,54.379999999999995,54.95,55.519999999999996,56.09,56.66,57.23,57.8,58.37,58.94,59.51,60.08,60.65,61.22,61.79,62.36,62.92999999999999,63.5,64.07,64.64,65.21,65.78,66.35,66.92,67.49,68.06,68.63,69.19999999999999,69.77,70.34,70.91,71.47999999999999,72.05,72.62,73.19,73.75999999999999,74.33,74.9,75.47,76.03999999999999,76.61,77.18,77.75,78.32,78.88999999999999,79.46,80.03,80.6,81.16999999999999,81.74,82.31,82.88,83.44999999999999,84.02,84.59,85.16,85.72999999999999,86.3,86.87,87.44,88.00999999999999,88.58,89.15,89.72,90.28999999999999,90.85999999999999,91.42999999999999,92.0,94.0],\"xaxis\":\"x2\",\"y\":[88626250.75346597,88626250.75346597,88626250.75346597,88626250.75346597,88626250.75346597,88626250.75346597,88626250.75346597,88626250.75346597,88626250.75346597,88626250.75346597,88626250.75346597,88626250.75346597,88626250.75346597,88626250.75346597,88626250.75346597,88626250.75346597,88626250.75346597,88626250.75346597,88626250.75346597,88626250.75346597,88626250.75346597,88626250.75346597,88626250.75346597,88626250.75346597,88626250.75346597,88626250.75346597,88626250.75346597,88626250.75346597,88626250.75346597,88626250.75346597,88626250.75346597,88626250.75346597,88626250.75346597,88626250.75346597,88626250.75346597,88626250.75346597,88626250.75346597,88626250.75346597,88626250.75346597,88626250.75346597,88626250.75346597,88626250.75346597,88626250.75346597,88626250.75346597,88626250.75346597,88626250.75346597,88626250.75346597,88626250.75346597,88626250.75346597,88626250.75346597,88626250.75346597,88626250.75346597,88626250.75346597,88626250.75346597,88626250.75346597,88626250.75346597,88626250.75346597,88626250.75346597,88626250.75346597,88626250.75346597,88626250.75346597,88626250.75346597,88626250.75346597,88626250.75346597,88626250.75346597,88626250.75346597,88626250.75346597,88626250.75346597,88626250.75346597,88626250.75346597,88626250.75346597,88626250.75346597,88626250.75346597,88626250.75346597,88626250.75346597,88626250.75346597,88626250.75346597,88626250.75346597,88626250.75346597,88582105.18384571,88582105.18384571,88582105.18384571,88582105.18384571,88840164.25557566,88840164.25557566,88869278.17962629,88889003.91802293,89227503.01386379,89339686.55816759,89361205.54550935,89361205.54550935,89361943.94213384,89315741.41048828,89260055.75647983,89424549.4273659,89415688.66787224,89417270.94635324,89417270.94635324,89363473.47799882,89373389.08981316,89378452.3809524,89304718.2037372],\"yaxis\":\"y2\",\"type\":\"scatter\",\"opacity\":1},{\"customdata\":[[\"</br>id: 2</br>prediction: 89304718.204</br>age: 36.0</br></br>overall: 91</br>potential: 91</br>weak_foot: 4</br>skill_moves: 5</br>international_reputation: 5</br>pace: 87.0</br>shooting: 94.0</br>passing: 80.0</br>dribbling: 88.0</br>defending: 34.0</br>physic: 75.0</br>attacking_crossing: 87</br>attacking_finishing: 95</br>attacking_heading_accuracy: 90</br>attacking_short_passing: 80</br>attacking_volleys: 86</br>skill_dribbling: 88</br>skill_curve: 81</br>skill_fk_accuracy: 84</br>skill_long_passing: 77</br>... too many variables\"]],\"hovertemplate\":\"%{customdata[0]}<extra></extra>\",\"legendgroup\":\"\",\"marker\":{\"color\":\"#371ea3\",\"size\":15,\"symbol\":\"circle\"},\"mode\":\"markers\",\"name\":\"\",\"opacity\":1,\"orientation\":\"v\",\"showlegend\":false,\"x\":[36],\"xaxis\":\"x\",\"y\":[89304718.2037372],\"yaxis\":\"y\",\"type\":\"scatter\"},{\"customdata\":[[\"</br>id: 2</br>prediction: 89304718.204</br>movement_reactions: 94.0</br></br>overall: 91</br>potential: 91</br>age: 36.0</br>weak_foot: 4</br>skill_moves: 5</br>international_reputation: 5</br>pace: 87.0</br>shooting: 94.0</br>passing: 80.0</br>dribbling: 88.0</br>defending: 34.0</br>physic: 75.0</br>attacking_crossing: 87</br>attacking_finishing: 95</br>attacking_heading_accuracy: 90</br>attacking_short_passing: 80</br>attacking_volleys: 86</br>skill_dribbling: 88</br>skill_curve: 81</br>skill_fk_accuracy: 84</br>... too many variables\"]],\"hovertemplate\":\"%{customdata[0]}<extra></extra>\",\"legendgroup\":\"\",\"marker\":{\"color\":\"#371ea3\",\"size\":15,\"symbol\":\"circle\"},\"mode\":\"markers\",\"name\":\"\",\"opacity\":1,\"orientation\":\"v\",\"showlegend\":false,\"x\":[94],\"xaxis\":\"x2\",\"y\":[89304718.2037372],\"yaxis\":\"y2\",\"type\":\"scatter\"}],                        {\"template\":{\"data\":{\"scatter\":[{\"type\":\"scatter\"}]}},\"xaxis\":{\"anchor\":\"y\",\"domain\":[0.0,0.475],\"title\":{\"text\":\"\"},\"showticklabels\":true,\"type\":\"linear\",\"gridwidth\":2,\"zeroline\":false,\"automargin\":true,\"ticks\":\"outside\",\"tickcolor\":\"white\",\"ticklen\":3,\"fixedrange\":true},\"yaxis\":{\"anchor\":\"x\",\"domain\":[0.0,1.0],\"title\":{\"text\":\"\"},\"type\":\"linear\",\"gridwidth\":2,\"zeroline\":false,\"automargin\":true,\"ticks\":\"outside\",\"tickcolor\":\"white\",\"ticklen\":3,\"fixedrange\":true,\"range\":[88056347.04641353,94365444.6955998]},\"xaxis2\":{\"anchor\":\"y2\",\"domain\":[0.525,1.0],\"title\":{\"text\":\"\"},\"showticklabels\":true,\"type\":\"linear\",\"gridwidth\":2,\"zeroline\":false,\"automargin\":true,\"ticks\":\"outside\",\"tickcolor\":\"white\",\"ticklen\":3,\"fixedrange\":true},\"yaxis2\":{\"anchor\":\"x2\",\"domain\":[0.0,1.0],\"matches\":\"y\",\"showticklabels\":false,\"type\":\"linear\",\"gridwidth\":2,\"zeroline\":false,\"automargin\":true,\"ticks\":\"outside\",\"tickcolor\":\"white\",\"ticklen\":3,\"fixedrange\":true,\"range\":[88056347.04641353,94365444.6955998],\"title\":{\"text\":\"\"}},\"annotations\":[{\"font\":{\"size\":13},\"showarrow\":false,\"text\":\"age\",\"x\":0.2375,\"xanchor\":\"center\",\"xref\":\"paper\",\"y\":1.0,\"yanchor\":\"bottom\",\"yref\":\"paper\"},{\"font\":{\"size\":13},\"showarrow\":false,\"text\":\"movement_reactions\",\"x\":0.7625,\"xanchor\":\"center\",\"xref\":\"paper\",\"y\":1.0,\"yanchor\":\"bottom\",\"yref\":\"paper\"},{\"font\":{\"size\":13},\"showarrow\":false,\"text\":\"prediction\",\"textangle\":-90,\"x\":-0.07,\"xref\":\"paper\",\"y\":0.5,\"yref\":\"paper\"}],\"legend\":{\"title\":{\"text\":\"label\",\"font\":{\"size\":12}},\"tracegroupgap\":0,\"font\":{\"size\":11},\"orientation\":\"h\",\"yanchor\":\"bottom\",\"y\":1.0613496932515338,\"xanchor\":\"right\",\"x\":1,\"itemsizing\":\"constant\"},\"margin\":{\"t\":78,\"b\":71,\"r\":30},\"font\":{\"color\":\"#371ea3\"},\"title\":{\"font\":{\"size\":16},\"text\":\"What If? Cristiano Ronaldo\",\"x\":0.15},\"hovermode\":\"closest\",\"height\":489,\"hoverlabel\":{\"bgcolor\":\"rgba(0,0,0,0.8)\"}},                        {\"displaylogo\": false, \"staticPlot\": false, \"toImageButtonOptions\": {\"height\": null, \"width\": null}, \"modeBarButtonsToRemove\": [\"sendDataToCloud\", \"lasso2d\", \"autoScale2d\", \"select2d\", \"zoom2d\", \"pan2d\", \"zoomIn2d\", \"zoomOut2d\", \"resetScale2d\", \"toggleSpikelines\", \"hoverCompareCartesian\", \"hoverClosestCartesian\"], \"responsive\": true}                    ).then(function(){\n",
       "                            \n",
       "var gd = document.getElementById('0e15b3a7-27ad-4cc9-8d72-1d721199c53f');\n",
       "var x = new MutationObserver(function (mutations, observer) {{\n",
       "        var display = window.getComputedStyle(gd).display;\n",
       "        if (!display || display === 'none') {{\n",
       "            console.log([gd, 'removed!']);\n",
       "            Plotly.purge(gd);\n",
       "            observer.disconnect();\n",
       "        }}\n",
       "}});\n",
       "\n",
       "// Listen for the removal of the full notebook cells\n",
       "var notebookContainer = gd.closest('#notebook-container');\n",
       "if (notebookContainer) {{\n",
       "    x.observe(notebookContainer, {childList: true});\n",
       "}}\n",
       "\n",
       "// Listen for the clearing of the current output cell\n",
       "var outputEl = gd.closest('.output');\n",
       "if (outputEl) {{\n",
       "    x.observe(outputEl, {childList: true});\n",
       "}}\n",
       "\n",
       "                        })                };                });            </script>        </div>"
      ]
     },
     "metadata": {},
     "output_type": "display_data"
    }
   ],
   "source": [
    "ceteris_paribus_profile = explainer.predict_profile(player,\n",
    "                               variables=['age', 'movement_reactions'],\n",
    "                               label=name) # variables to calculate \n",
    "\n",
    "ceteris_paribus_profile.plot(size=3, title= f\"What If? {name}\") # larger width of the line and dot size & change title"
   ]
  },
  {
   "cell_type": "code",
   "execution_count": null,
   "metadata": {},
   "outputs": [],
   "source": [
    "# Model Fairness check"
   ]
  },
  {
   "cell_type": "code",
   "execution_count": null,
   "metadata": {},
   "outputs": [],
   "source": [
    "# https://dalex.drwhy.ai/python-dalex-fairness.html"
   ]
  },
  {
   "cell_type": "code",
   "execution_count": null,
   "metadata": {},
   "outputs": [],
   "source": [
    "# Aspect and Arena from Dalex"
   ]
  },
  {
   "cell_type": "code",
   "execution_count": null,
   "metadata": {},
   "outputs": [],
   "source": [
    "# https://dalex.drwhy.ai/python-dalex-arena.html"
   ]
  },
  {
   "cell_type": "code",
   "execution_count": null,
   "metadata": {},
   "outputs": [],
   "source": [
    "# https://dalex.drwhy.ai/python-dalex-aspect.html"
   ]
  },
  {
   "cell_type": "markdown",
   "metadata": {},
   "source": [
    "- description"
   ]
  },
  {
   "cell_type": "markdown",
   "metadata": {},
   "source": [
    "## Final Thoughts"
   ]
  },
  {
   "cell_type": "markdown",
   "metadata": {},
   "source": [
    "- description"
   ]
  },
  {
   "cell_type": "markdown",
   "metadata": {},
   "source": [
    "## Reference"
   ]
  },
  {
   "cell_type": "markdown",
   "metadata": {},
   "source": [
    "1. Dataset link - [FIFA Club Position Prediction Dataset](https://github.com/PacktPublishing/Applied-Machine-Learning-Explainability-Techniques/tree/main/Chapter09/datasets)\n",
    "2. DALEX Github project - https://github.com/ModelOriented/DALEX\n",
    "3. Explanatory Model Analysis ebook -https://ema.drwhy.ai/\n",
    "4. dalex: Responsible Machine Learning with Interactive Explainability and Fairness in Python- http://jmlr.org/papers/v22/20-1473.html\n",
    "5. DALEX Resources - https://pbiecek.github.io/ema/\n",
    "6. DrWhy.AI Universe - https://github.com/ModelOriented/DrWhy/blob/master/README.md\n",
    "7. Other notebook examples: https://dalex.drwhy.ai/python-dalex-fifa.html\n",
    "8. Some of the utility functions and code are taken from the GitHub Repository of the author - Aditya Bhattacharya https://github.com/adib0073\n",
    "9. Want to connect with the author of this chapter? You can reach out by any means mentioned here: https://aditya-bhattacharya.net/contact-me/"
   ]
  },
  {
   "cell_type": "code",
   "execution_count": null,
   "metadata": {},
   "outputs": [],
   "source": []
  }
 ],
 "metadata": {
  "kernelspec": {
   "display_name": "Python 3",
   "language": "python",
   "name": "python3"
  },
  "language_info": {
   "codemirror_mode": {
    "name": "ipython",
    "version": 3
   },
   "file_extension": ".py",
   "mimetype": "text/x-python",
   "name": "python",
   "nbconvert_exporter": "python",
   "pygments_lexer": "ipython3",
   "version": "3.7.7"
  }
 },
 "nbformat": 4,
 "nbformat_minor": 4
}
