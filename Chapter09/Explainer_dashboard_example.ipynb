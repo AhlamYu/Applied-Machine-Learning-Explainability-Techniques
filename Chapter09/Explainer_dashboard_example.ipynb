{
 "cells": [
  {
   "cell_type": "markdown",
   "metadata": {},
   "source": [
    "# Exploring Explainer Dashboards\n",
    "## CHAPTER 09 - *Other popular XAI frameworks*\n",
    "\n",
    "From **Applied Machine Learning Explainability Techniques** by [**Aditya Bhattacharya**](https://www.linkedin.com/in/aditya-bhattacharya-b59155b6/), published by **Packt**"
   ]
  },
  {
   "cell_type": "markdown",
   "metadata": {},
   "source": [
    "### Objective\n",
    "\n",
    "In this notebook, we will explore the application of Explainer Dashboards https://github.com/oegedijk/explainerdashboard for explaining ML models"
   ]
  },
  {
   "cell_type": "markdown",
   "metadata": {},
   "source": [
    "### Installing the modules"
   ]
  },
  {
   "cell_type": "markdown",
   "metadata": {},
   "source": [
    "Install the following libraries in Google Colab or your local environment, if not already installed."
   ]
  },
  {
   "cell_type": "code",
   "execution_count": null,
   "metadata": {},
   "outputs": [],
   "source": [
    "!pip install --upgrade pandas numpy matplotlib seaborn scikit-learn lime"
   ]
  },
  {
   "cell_type": "markdown",
   "metadata": {},
   "source": [
    "### Loading the modules"
   ]
  },
  {
   "cell_type": "code",
   "execution_count": 25,
   "metadata": {},
   "outputs": [],
   "source": [
    "import warnings\n",
    "warnings.filterwarnings('ignore')\n",
    "\n",
    "import pandas as pd\n",
    "pd.set_option('display.max_columns', None)\n",
    "\n",
    "import numpy as np\n",
    "\n",
    "import sklearn\n",
    "from sklearn import datasets\n",
    "from sklearn.model_selection import train_test_split\n",
    "from sklearn.ensemble import GradientBoostingRegressor\n",
    "from sklearn.metrics import mean_squared_error, mean_absolute_percentage_error\n",
    "\n",
    "import matplotlib.pyplot as plt\n",
    "import seaborn as sns\n",
    "\n",
    "np.random.seed(123)"
   ]
  },
  {
   "cell_type": "markdown",
   "metadata": {},
   "source": [
    "### About the data"
   ]
  },
  {
   "cell_type": "markdown",
   "metadata": {},
   "source": [
    "**Fifa club position dataset - [Source](link)**\n",
    "\n",
    "\n"
   ]
  },
  {
   "cell_type": "markdown",
   "metadata": {},
   "source": [
    "### Loading the data"
   ]
  },
  {
   "cell_type": "code",
   "execution_count": 6,
   "metadata": {},
   "outputs": [],
   "source": [
    "# We will read the training data\n",
    "df_train = pd.read_csv('datasets/fifa_league_21_train.csv')\n",
    "df_test = pd.read_csv('datasets/fifa_league_22_test.csv')"
   ]
  },
  {
   "cell_type": "code",
   "execution_count": 10,
   "metadata": {},
   "outputs": [
    {
     "data": {
      "text/html": [
       "<div>\n",
       "<style scoped>\n",
       "    .dataframe tbody tr th:only-of-type {\n",
       "        vertical-align: middle;\n",
       "    }\n",
       "\n",
       "    .dataframe tbody tr th {\n",
       "        vertical-align: top;\n",
       "    }\n",
       "\n",
       "    .dataframe thead th {\n",
       "        text-align: right;\n",
       "    }\n",
       "</style>\n",
       "<table border=\"1\" class=\"dataframe\">\n",
       "  <thead>\n",
       "    <tr style=\"text-align: right;\">\n",
       "      <th></th>\n",
       "      <th>short_name</th>\n",
       "      <th>overall</th>\n",
       "      <th>potential</th>\n",
       "      <th>value_eur</th>\n",
       "      <th>wage_eur</th>\n",
       "      <th>age</th>\n",
       "      <th>club_name</th>\n",
       "      <th>league_name</th>\n",
       "      <th>club_position</th>\n",
       "      <th>preferred_foot</th>\n",
       "      <th>weak_foot</th>\n",
       "      <th>skill_moves</th>\n",
       "      <th>international_reputation</th>\n",
       "      <th>pace</th>\n",
       "      <th>shooting</th>\n",
       "      <th>passing</th>\n",
       "      <th>dribbling</th>\n",
       "      <th>defending</th>\n",
       "      <th>physic</th>\n",
       "      <th>attacking_crossing</th>\n",
       "      <th>attacking_finishing</th>\n",
       "      <th>attacking_heading_accuracy</th>\n",
       "      <th>attacking_short_passing</th>\n",
       "      <th>attacking_volleys</th>\n",
       "      <th>skill_dribbling</th>\n",
       "      <th>skill_curve</th>\n",
       "      <th>skill_fk_accuracy</th>\n",
       "      <th>skill_long_passing</th>\n",
       "      <th>skill_ball_control</th>\n",
       "      <th>movement_acceleration</th>\n",
       "      <th>movement_sprint_speed</th>\n",
       "      <th>movement_agility</th>\n",
       "      <th>movement_reactions</th>\n",
       "      <th>movement_balance</th>\n",
       "      <th>power_shot_power</th>\n",
       "      <th>power_jumping</th>\n",
       "      <th>power_stamina</th>\n",
       "      <th>power_strength</th>\n",
       "      <th>power_long_shots</th>\n",
       "      <th>mentality_aggression</th>\n",
       "      <th>mentality_interceptions</th>\n",
       "      <th>mentality_positioning</th>\n",
       "      <th>mentality_vision</th>\n",
       "      <th>mentality_penalties</th>\n",
       "      <th>mentality_composure</th>\n",
       "      <th>defending_marking_awareness</th>\n",
       "      <th>defending_standing_tackle</th>\n",
       "      <th>defending_sliding_tackle</th>\n",
       "      <th>goalkeeping_diving</th>\n",
       "      <th>goalkeeping_handling</th>\n",
       "      <th>goalkeeping_kicking</th>\n",
       "      <th>goalkeeping_positioning</th>\n",
       "      <th>goalkeeping_reflexes</th>\n",
       "      <th>goalkeeping_speed</th>\n",
       "      <th>ls</th>\n",
       "      <th>st</th>\n",
       "      <th>rs</th>\n",
       "      <th>lw</th>\n",
       "      <th>lf</th>\n",
       "      <th>cf</th>\n",
       "      <th>rf</th>\n",
       "      <th>rw</th>\n",
       "      <th>lam</th>\n",
       "      <th>cam</th>\n",
       "      <th>ram</th>\n",
       "      <th>lm</th>\n",
       "      <th>lcm</th>\n",
       "      <th>cm</th>\n",
       "      <th>rcm</th>\n",
       "      <th>rm</th>\n",
       "      <th>lwb</th>\n",
       "      <th>ldm</th>\n",
       "      <th>cdm</th>\n",
       "      <th>rdm</th>\n",
       "      <th>rwb</th>\n",
       "      <th>lb</th>\n",
       "      <th>rb</th>\n",
       "      <th>lcb</th>\n",
       "      <th>cb</th>\n",
       "      <th>rcb</th>\n",
       "      <th>gk</th>\n",
       "      <th>position</th>\n",
       "    </tr>\n",
       "  </thead>\n",
       "  <tbody>\n",
       "    <tr>\n",
       "      <th>0</th>\n",
       "      <td>L. Messi</td>\n",
       "      <td>93</td>\n",
       "      <td>93</td>\n",
       "      <td>103500000.0</td>\n",
       "      <td>560000.0</td>\n",
       "      <td>33</td>\n",
       "      <td>FC Barcelona</td>\n",
       "      <td>Spain Primera Division</td>\n",
       "      <td>CAM</td>\n",
       "      <td>Left</td>\n",
       "      <td>4</td>\n",
       "      <td>4</td>\n",
       "      <td>5</td>\n",
       "      <td>85.0</td>\n",
       "      <td>92.0</td>\n",
       "      <td>91.0</td>\n",
       "      <td>95.0</td>\n",
       "      <td>38.0</td>\n",
       "      <td>65.0</td>\n",
       "      <td>85</td>\n",
       "      <td>95</td>\n",
       "      <td>70</td>\n",
       "      <td>91</td>\n",
       "      <td>88</td>\n",
       "      <td>96</td>\n",
       "      <td>93</td>\n",
       "      <td>94</td>\n",
       "      <td>91</td>\n",
       "      <td>96</td>\n",
       "      <td>91</td>\n",
       "      <td>80</td>\n",
       "      <td>91</td>\n",
       "      <td>94</td>\n",
       "      <td>95</td>\n",
       "      <td>86</td>\n",
       "      <td>68</td>\n",
       "      <td>72</td>\n",
       "      <td>69</td>\n",
       "      <td>94</td>\n",
       "      <td>44</td>\n",
       "      <td>40</td>\n",
       "      <td>93</td>\n",
       "      <td>95</td>\n",
       "      <td>75</td>\n",
       "      <td>96</td>\n",
       "      <td>32</td>\n",
       "      <td>35</td>\n",
       "      <td>24</td>\n",
       "      <td>6</td>\n",
       "      <td>11</td>\n",
       "      <td>15</td>\n",
       "      <td>14</td>\n",
       "      <td>8</td>\n",
       "      <td>NaN</td>\n",
       "      <td>92</td>\n",
       "      <td>92</td>\n",
       "      <td>92</td>\n",
       "      <td>92</td>\n",
       "      <td>93</td>\n",
       "      <td>93</td>\n",
       "      <td>93</td>\n",
       "      <td>92</td>\n",
       "      <td>93</td>\n",
       "      <td>93</td>\n",
       "      <td>93</td>\n",
       "      <td>93</td>\n",
       "      <td>90</td>\n",
       "      <td>90</td>\n",
       "      <td>90</td>\n",
       "      <td>93</td>\n",
       "      <td>69</td>\n",
       "      <td>68</td>\n",
       "      <td>68</td>\n",
       "      <td>68</td>\n",
       "      <td>69</td>\n",
       "      <td>65</td>\n",
       "      <td>65</td>\n",
       "      <td>55</td>\n",
       "      <td>55</td>\n",
       "      <td>55</td>\n",
       "      <td>22</td>\n",
       "      <td>3</td>\n",
       "    </tr>\n",
       "    <tr>\n",
       "      <th>1</th>\n",
       "      <td>Cristiano Ronaldo</td>\n",
       "      <td>92</td>\n",
       "      <td>92</td>\n",
       "      <td>63000000.0</td>\n",
       "      <td>220000.0</td>\n",
       "      <td>35</td>\n",
       "      <td>Juventus</td>\n",
       "      <td>Italian Serie A</td>\n",
       "      <td>LS</td>\n",
       "      <td>Right</td>\n",
       "      <td>4</td>\n",
       "      <td>5</td>\n",
       "      <td>5</td>\n",
       "      <td>89.0</td>\n",
       "      <td>93.0</td>\n",
       "      <td>81.0</td>\n",
       "      <td>89.0</td>\n",
       "      <td>35.0</td>\n",
       "      <td>77.0</td>\n",
       "      <td>84</td>\n",
       "      <td>95</td>\n",
       "      <td>90</td>\n",
       "      <td>82</td>\n",
       "      <td>86</td>\n",
       "      <td>88</td>\n",
       "      <td>81</td>\n",
       "      <td>76</td>\n",
       "      <td>77</td>\n",
       "      <td>92</td>\n",
       "      <td>87</td>\n",
       "      <td>91</td>\n",
       "      <td>87</td>\n",
       "      <td>95</td>\n",
       "      <td>71</td>\n",
       "      <td>94</td>\n",
       "      <td>95</td>\n",
       "      <td>84</td>\n",
       "      <td>78</td>\n",
       "      <td>93</td>\n",
       "      <td>63</td>\n",
       "      <td>29</td>\n",
       "      <td>95</td>\n",
       "      <td>82</td>\n",
       "      <td>84</td>\n",
       "      <td>95</td>\n",
       "      <td>28</td>\n",
       "      <td>32</td>\n",
       "      <td>24</td>\n",
       "      <td>7</td>\n",
       "      <td>11</td>\n",
       "      <td>15</td>\n",
       "      <td>14</td>\n",
       "      <td>11</td>\n",
       "      <td>NaN</td>\n",
       "      <td>92</td>\n",
       "      <td>92</td>\n",
       "      <td>92</td>\n",
       "      <td>89</td>\n",
       "      <td>91</td>\n",
       "      <td>91</td>\n",
       "      <td>91</td>\n",
       "      <td>89</td>\n",
       "      <td>91</td>\n",
       "      <td>91</td>\n",
       "      <td>91</td>\n",
       "      <td>91</td>\n",
       "      <td>84</td>\n",
       "      <td>84</td>\n",
       "      <td>84</td>\n",
       "      <td>91</td>\n",
       "      <td>68</td>\n",
       "      <td>64</td>\n",
       "      <td>64</td>\n",
       "      <td>64</td>\n",
       "      <td>68</td>\n",
       "      <td>64</td>\n",
       "      <td>64</td>\n",
       "      <td>57</td>\n",
       "      <td>57</td>\n",
       "      <td>57</td>\n",
       "      <td>23</td>\n",
       "      <td>4</td>\n",
       "    </tr>\n",
       "    <tr>\n",
       "      <th>2</th>\n",
       "      <td>R. Lewandowski</td>\n",
       "      <td>91</td>\n",
       "      <td>91</td>\n",
       "      <td>111000000.0</td>\n",
       "      <td>240000.0</td>\n",
       "      <td>31</td>\n",
       "      <td>FC Bayern München</td>\n",
       "      <td>German 1. Bundesliga</td>\n",
       "      <td>ST</td>\n",
       "      <td>Right</td>\n",
       "      <td>4</td>\n",
       "      <td>4</td>\n",
       "      <td>4</td>\n",
       "      <td>78.0</td>\n",
       "      <td>91.0</td>\n",
       "      <td>78.0</td>\n",
       "      <td>85.0</td>\n",
       "      <td>43.0</td>\n",
       "      <td>82.0</td>\n",
       "      <td>71</td>\n",
       "      <td>94</td>\n",
       "      <td>85</td>\n",
       "      <td>84</td>\n",
       "      <td>89</td>\n",
       "      <td>85</td>\n",
       "      <td>79</td>\n",
       "      <td>85</td>\n",
       "      <td>70</td>\n",
       "      <td>88</td>\n",
       "      <td>77</td>\n",
       "      <td>78</td>\n",
       "      <td>77</td>\n",
       "      <td>93</td>\n",
       "      <td>82</td>\n",
       "      <td>89</td>\n",
       "      <td>84</td>\n",
       "      <td>76</td>\n",
       "      <td>86</td>\n",
       "      <td>85</td>\n",
       "      <td>81</td>\n",
       "      <td>49</td>\n",
       "      <td>94</td>\n",
       "      <td>79</td>\n",
       "      <td>88</td>\n",
       "      <td>88</td>\n",
       "      <td>35</td>\n",
       "      <td>42</td>\n",
       "      <td>19</td>\n",
       "      <td>15</td>\n",
       "      <td>6</td>\n",
       "      <td>12</td>\n",
       "      <td>8</td>\n",
       "      <td>10</td>\n",
       "      <td>NaN</td>\n",
       "      <td>91</td>\n",
       "      <td>91</td>\n",
       "      <td>91</td>\n",
       "      <td>85</td>\n",
       "      <td>87</td>\n",
       "      <td>87</td>\n",
       "      <td>87</td>\n",
       "      <td>85</td>\n",
       "      <td>88</td>\n",
       "      <td>88</td>\n",
       "      <td>88</td>\n",
       "      <td>86</td>\n",
       "      <td>82</td>\n",
       "      <td>82</td>\n",
       "      <td>82</td>\n",
       "      <td>86</td>\n",
       "      <td>67</td>\n",
       "      <td>68</td>\n",
       "      <td>68</td>\n",
       "      <td>68</td>\n",
       "      <td>67</td>\n",
       "      <td>64</td>\n",
       "      <td>64</td>\n",
       "      <td>63</td>\n",
       "      <td>63</td>\n",
       "      <td>63</td>\n",
       "      <td>22</td>\n",
       "      <td>1</td>\n",
       "    </tr>\n",
       "    <tr>\n",
       "      <th>3</th>\n",
       "      <td>Neymar Jr</td>\n",
       "      <td>91</td>\n",
       "      <td>91</td>\n",
       "      <td>132000000.0</td>\n",
       "      <td>270000.0</td>\n",
       "      <td>28</td>\n",
       "      <td>Paris Saint-Germain</td>\n",
       "      <td>French Ligue 1</td>\n",
       "      <td>LW</td>\n",
       "      <td>Right</td>\n",
       "      <td>5</td>\n",
       "      <td>5</td>\n",
       "      <td>5</td>\n",
       "      <td>91.0</td>\n",
       "      <td>85.0</td>\n",
       "      <td>86.0</td>\n",
       "      <td>94.0</td>\n",
       "      <td>36.0</td>\n",
       "      <td>59.0</td>\n",
       "      <td>85</td>\n",
       "      <td>87</td>\n",
       "      <td>62</td>\n",
       "      <td>87</td>\n",
       "      <td>87</td>\n",
       "      <td>95</td>\n",
       "      <td>88</td>\n",
       "      <td>89</td>\n",
       "      <td>81</td>\n",
       "      <td>95</td>\n",
       "      <td>94</td>\n",
       "      <td>89</td>\n",
       "      <td>96</td>\n",
       "      <td>91</td>\n",
       "      <td>83</td>\n",
       "      <td>80</td>\n",
       "      <td>62</td>\n",
       "      <td>81</td>\n",
       "      <td>50</td>\n",
       "      <td>84</td>\n",
       "      <td>51</td>\n",
       "      <td>36</td>\n",
       "      <td>87</td>\n",
       "      <td>90</td>\n",
       "      <td>92</td>\n",
       "      <td>93</td>\n",
       "      <td>35</td>\n",
       "      <td>30</td>\n",
       "      <td>29</td>\n",
       "      <td>9</td>\n",
       "      <td>9</td>\n",
       "      <td>15</td>\n",
       "      <td>15</td>\n",
       "      <td>11</td>\n",
       "      <td>NaN</td>\n",
       "      <td>87</td>\n",
       "      <td>87</td>\n",
       "      <td>87</td>\n",
       "      <td>90</td>\n",
       "      <td>89</td>\n",
       "      <td>89</td>\n",
       "      <td>89</td>\n",
       "      <td>90</td>\n",
       "      <td>91</td>\n",
       "      <td>91</td>\n",
       "      <td>91</td>\n",
       "      <td>91</td>\n",
       "      <td>86</td>\n",
       "      <td>86</td>\n",
       "      <td>86</td>\n",
       "      <td>91</td>\n",
       "      <td>70</td>\n",
       "      <td>65</td>\n",
       "      <td>65</td>\n",
       "      <td>65</td>\n",
       "      <td>70</td>\n",
       "      <td>65</td>\n",
       "      <td>65</td>\n",
       "      <td>52</td>\n",
       "      <td>52</td>\n",
       "      <td>52</td>\n",
       "      <td>23</td>\n",
       "      <td>2</td>\n",
       "    </tr>\n",
       "    <tr>\n",
       "      <th>4</th>\n",
       "      <td>K. De Bruyne</td>\n",
       "      <td>91</td>\n",
       "      <td>91</td>\n",
       "      <td>129000000.0</td>\n",
       "      <td>370000.0</td>\n",
       "      <td>29</td>\n",
       "      <td>Manchester City</td>\n",
       "      <td>English Premier League</td>\n",
       "      <td>RCM</td>\n",
       "      <td>Right</td>\n",
       "      <td>5</td>\n",
       "      <td>4</td>\n",
       "      <td>4</td>\n",
       "      <td>76.0</td>\n",
       "      <td>86.0</td>\n",
       "      <td>93.0</td>\n",
       "      <td>88.0</td>\n",
       "      <td>64.0</td>\n",
       "      <td>78.0</td>\n",
       "      <td>94</td>\n",
       "      <td>82</td>\n",
       "      <td>55</td>\n",
       "      <td>94</td>\n",
       "      <td>82</td>\n",
       "      <td>88</td>\n",
       "      <td>85</td>\n",
       "      <td>83</td>\n",
       "      <td>93</td>\n",
       "      <td>92</td>\n",
       "      <td>77</td>\n",
       "      <td>76</td>\n",
       "      <td>78</td>\n",
       "      <td>91</td>\n",
       "      <td>76</td>\n",
       "      <td>91</td>\n",
       "      <td>63</td>\n",
       "      <td>89</td>\n",
       "      <td>74</td>\n",
       "      <td>91</td>\n",
       "      <td>76</td>\n",
       "      <td>66</td>\n",
       "      <td>88</td>\n",
       "      <td>94</td>\n",
       "      <td>84</td>\n",
       "      <td>91</td>\n",
       "      <td>68</td>\n",
       "      <td>65</td>\n",
       "      <td>53</td>\n",
       "      <td>15</td>\n",
       "      <td>13</td>\n",
       "      <td>5</td>\n",
       "      <td>10</td>\n",
       "      <td>13</td>\n",
       "      <td>NaN</td>\n",
       "      <td>86</td>\n",
       "      <td>86</td>\n",
       "      <td>86</td>\n",
       "      <td>88</td>\n",
       "      <td>88</td>\n",
       "      <td>88</td>\n",
       "      <td>88</td>\n",
       "      <td>88</td>\n",
       "      <td>91</td>\n",
       "      <td>91</td>\n",
       "      <td>91</td>\n",
       "      <td>91</td>\n",
       "      <td>91</td>\n",
       "      <td>91</td>\n",
       "      <td>91</td>\n",
       "      <td>91</td>\n",
       "      <td>82</td>\n",
       "      <td>83</td>\n",
       "      <td>83</td>\n",
       "      <td>83</td>\n",
       "      <td>82</td>\n",
       "      <td>78</td>\n",
       "      <td>78</td>\n",
       "      <td>72</td>\n",
       "      <td>72</td>\n",
       "      <td>72</td>\n",
       "      <td>24</td>\n",
       "      <td>1</td>\n",
       "    </tr>\n",
       "  </tbody>\n",
       "</table>\n",
       "</div>"
      ],
      "text/plain": [
       "          short_name  overall  potential    value_eur  wage_eur  age  \\\n",
       "0           L. Messi       93         93  103500000.0  560000.0   33   \n",
       "1  Cristiano Ronaldo       92         92   63000000.0  220000.0   35   \n",
       "2     R. Lewandowski       91         91  111000000.0  240000.0   31   \n",
       "3          Neymar Jr       91         91  132000000.0  270000.0   28   \n",
       "4       K. De Bruyne       91         91  129000000.0  370000.0   29   \n",
       "\n",
       "             club_name             league_name club_position preferred_foot  \\\n",
       "0         FC Barcelona  Spain Primera Division           CAM           Left   \n",
       "1             Juventus         Italian Serie A            LS          Right   \n",
       "2    FC Bayern München    German 1. Bundesliga            ST          Right   \n",
       "3  Paris Saint-Germain          French Ligue 1            LW          Right   \n",
       "4      Manchester City  English Premier League           RCM          Right   \n",
       "\n",
       "   weak_foot  skill_moves  international_reputation  pace  shooting  passing  \\\n",
       "0          4            4                         5  85.0      92.0     91.0   \n",
       "1          4            5                         5  89.0      93.0     81.0   \n",
       "2          4            4                         4  78.0      91.0     78.0   \n",
       "3          5            5                         5  91.0      85.0     86.0   \n",
       "4          5            4                         4  76.0      86.0     93.0   \n",
       "\n",
       "   dribbling  defending  physic  attacking_crossing  attacking_finishing  \\\n",
       "0       95.0       38.0    65.0                  85                   95   \n",
       "1       89.0       35.0    77.0                  84                   95   \n",
       "2       85.0       43.0    82.0                  71                   94   \n",
       "3       94.0       36.0    59.0                  85                   87   \n",
       "4       88.0       64.0    78.0                  94                   82   \n",
       "\n",
       "   attacking_heading_accuracy  attacking_short_passing  attacking_volleys  \\\n",
       "0                          70                       91                 88   \n",
       "1                          90                       82                 86   \n",
       "2                          85                       84                 89   \n",
       "3                          62                       87                 87   \n",
       "4                          55                       94                 82   \n",
       "\n",
       "   skill_dribbling  skill_curve  skill_fk_accuracy  skill_long_passing  \\\n",
       "0               96           93                 94                  91   \n",
       "1               88           81                 76                  77   \n",
       "2               85           79                 85                  70   \n",
       "3               95           88                 89                  81   \n",
       "4               88           85                 83                  93   \n",
       "\n",
       "   skill_ball_control  movement_acceleration  movement_sprint_speed  \\\n",
       "0                  96                     91                     80   \n",
       "1                  92                     87                     91   \n",
       "2                  88                     77                     78   \n",
       "3                  95                     94                     89   \n",
       "4                  92                     77                     76   \n",
       "\n",
       "   movement_agility  movement_reactions  movement_balance  power_shot_power  \\\n",
       "0                91                  94                95                86   \n",
       "1                87                  95                71                94   \n",
       "2                77                  93                82                89   \n",
       "3                96                  91                83                80   \n",
       "4                78                  91                76                91   \n",
       "\n",
       "   power_jumping  power_stamina  power_strength  power_long_shots  \\\n",
       "0             68             72              69                94   \n",
       "1             95             84              78                93   \n",
       "2             84             76              86                85   \n",
       "3             62             81              50                84   \n",
       "4             63             89              74                91   \n",
       "\n",
       "   mentality_aggression  mentality_interceptions  mentality_positioning  \\\n",
       "0                    44                       40                     93   \n",
       "1                    63                       29                     95   \n",
       "2                    81                       49                     94   \n",
       "3                    51                       36                     87   \n",
       "4                    76                       66                     88   \n",
       "\n",
       "   mentality_vision  mentality_penalties  mentality_composure  \\\n",
       "0                95                   75                   96   \n",
       "1                82                   84                   95   \n",
       "2                79                   88                   88   \n",
       "3                90                   92                   93   \n",
       "4                94                   84                   91   \n",
       "\n",
       "   defending_marking_awareness  defending_standing_tackle  \\\n",
       "0                           32                         35   \n",
       "1                           28                         32   \n",
       "2                           35                         42   \n",
       "3                           35                         30   \n",
       "4                           68                         65   \n",
       "\n",
       "   defending_sliding_tackle  goalkeeping_diving  goalkeeping_handling  \\\n",
       "0                        24                   6                    11   \n",
       "1                        24                   7                    11   \n",
       "2                        19                  15                     6   \n",
       "3                        29                   9                     9   \n",
       "4                        53                  15                    13   \n",
       "\n",
       "   goalkeeping_kicking  goalkeeping_positioning  goalkeeping_reflexes  \\\n",
       "0                   15                       14                     8   \n",
       "1                   15                       14                    11   \n",
       "2                   12                        8                    10   \n",
       "3                   15                       15                    11   \n",
       "4                    5                       10                    13   \n",
       "\n",
       "   goalkeeping_speed  ls  st  rs  lw  lf  cf  rf  rw  lam  cam  ram  lm  lcm  \\\n",
       "0                NaN  92  92  92  92  93  93  93  92   93   93   93  93   90   \n",
       "1                NaN  92  92  92  89  91  91  91  89   91   91   91  91   84   \n",
       "2                NaN  91  91  91  85  87  87  87  85   88   88   88  86   82   \n",
       "3                NaN  87  87  87  90  89  89  89  90   91   91   91  91   86   \n",
       "4                NaN  86  86  86  88  88  88  88  88   91   91   91  91   91   \n",
       "\n",
       "   cm  rcm  rm  lwb  ldm  cdm  rdm  rwb  lb  rb  lcb  cb  rcb  gk  position  \n",
       "0  90   90  93   69   68   68   68   69  65  65   55  55   55  22         3  \n",
       "1  84   84  91   68   64   64   64   68  64  64   57  57   57  23         4  \n",
       "2  82   82  86   67   68   68   68   67  64  64   63  63   63  22         1  \n",
       "3  86   86  91   70   65   65   65   70  65  65   52  52   52  23         2  \n",
       "4  91   91  91   82   83   83   83   82  78  78   72  72   72  24         1  "
      ]
     },
     "execution_count": 10,
     "metadata": {},
     "output_type": "execute_result"
    }
   ],
   "source": [
    "df_train.head()"
   ]
  },
  {
   "cell_type": "code",
   "execution_count": 11,
   "metadata": {},
   "outputs": [
    {
     "name": "stdout",
     "output_type": "stream",
     "text": [
      "Fifa Club Position Prediction dataset.\n",
      "--------------------------------------\n",
      "The dataset is prepared from the Kaggle Fifa 22 Player dataset: https://www.kaggle.com/stefanoleone992/fifa-22-complete-player-dataset. Original dataset acknowledgement is provided to the website sofifa.com as the data is scrapped from the publicly available website.\n",
      "\n",
      "The training data is for top 10 clubs for the 2021-22 season from English Premier League, La Liga, Serie A, Bundesliga 1, French League 1.\n",
      "\n",
      "The test data is unlabeled and contains the player information of the same teams for 2022-2023 season.\n",
      "\n",
      "The datasets contains the following features:\n",
      "\n",
      "- Players available in FIFA 21, and also FIFA 22 for the selected clubs and leagues\n",
      "\n",
      "- 80+ attributes\n",
      "\n",
      "- The club `position` is the target variable that the model needs to predict.\n",
      "\n",
      "- Player positions, with the role in the club\n",
      "\n",
      "- Player attributes with statistics as Attacking, Skills, Defense, Mentality, GK Skills, etc.\n",
      "\n",
      "- Player ratings out of 100 in different football formation position like ST, RW, LW, CAM, CB, LB, RB etc.\n",
      "\n",
      "- Other Player information like Wage, Salary, etc.\n",
      "\n",
      "The credit to compiling this datasets goes to Aditya Bhattacharya: https://github.com/adib0073. Reach out to Aditya in Linkedin: https://www.linkedin.com/in/aditya-bhattacharya-b59155b6/\n",
      "\n",
      "\n"
     ]
    }
   ],
   "source": [
    "# Reading the dataset description\n",
    "with open('datasets/data_description.txt') as f:\n",
    "    contents = f.read()\n",
    "    print(contents)"
   ]
  },
  {
   "cell_type": "code",
   "execution_count": 13,
   "metadata": {},
   "outputs": [
    {
     "name": "stdout",
     "output_type": "stream",
     "text": [
      "(1584, 82)\n",
      "(1515, 81)\n"
     ]
    }
   ],
   "source": [
    "# Check dataset dimensions\n",
    "print(df_train.shape)\n",
    "print(df_test.shape)"
   ]
  },
  {
   "cell_type": "code",
   "execution_count": 14,
   "metadata": {},
   "outputs": [
    {
     "data": {
      "text/plain": [
       "Index(['short_name', 'overall', 'potential', 'value_eur', 'wage_eur', 'age',\n",
       "       'club_name', 'league_name', 'club_position', 'preferred_foot',\n",
       "       'weak_foot', 'skill_moves', 'international_reputation', 'pace',\n",
       "       'shooting', 'passing', 'dribbling', 'defending', 'physic',\n",
       "       'attacking_crossing', 'attacking_finishing',\n",
       "       'attacking_heading_accuracy', 'attacking_short_passing',\n",
       "       'attacking_volleys', 'skill_dribbling', 'skill_curve',\n",
       "       'skill_fk_accuracy', 'skill_long_passing', 'skill_ball_control',\n",
       "       'movement_acceleration', 'movement_sprint_speed', 'movement_agility',\n",
       "       'movement_reactions', 'movement_balance', 'power_shot_power',\n",
       "       'power_jumping', 'power_stamina', 'power_strength', 'power_long_shots',\n",
       "       'mentality_aggression', 'mentality_interceptions',\n",
       "       'mentality_positioning', 'mentality_vision', 'mentality_penalties',\n",
       "       'mentality_composure', 'defending_marking_awareness',\n",
       "       'defending_standing_tackle', 'defending_sliding_tackle',\n",
       "       'goalkeeping_diving', 'goalkeeping_handling', 'goalkeeping_kicking',\n",
       "       'goalkeeping_positioning', 'goalkeeping_reflexes', 'goalkeeping_speed',\n",
       "       'ls', 'st', 'rs', 'lw', 'lf', 'cf', 'rf', 'rw', 'lam', 'cam', 'ram',\n",
       "       'lm', 'lcm', 'cm', 'rcm', 'rm', 'lwb', 'ldm', 'cdm', 'rdm', 'rwb', 'lb',\n",
       "       'rb', 'lcb', 'cb', 'rcb', 'gk', 'position'],\n",
       "      dtype='object')"
      ]
     },
     "execution_count": 14,
     "metadata": {},
     "output_type": "execute_result"
    }
   ],
   "source": [
    "df_train.columns"
   ]
  },
  {
   "cell_type": "code",
   "execution_count": 15,
   "metadata": {},
   "outputs": [
    {
     "name": "stdout",
     "output_type": "stream",
     "text": [
      "<class 'pandas.core.frame.DataFrame'>\n",
      "RangeIndex: 1584 entries, 0 to 1583\n",
      "Data columns (total 82 columns):\n",
      " #   Column                       Non-Null Count  Dtype  \n",
      "---  ------                       --------------  -----  \n",
      " 0   short_name                   1584 non-null   object \n",
      " 1   overall                      1584 non-null   int64  \n",
      " 2   potential                    1584 non-null   int64  \n",
      " 3   value_eur                    1583 non-null   float64\n",
      " 4   wage_eur                     1584 non-null   float64\n",
      " 5   age                          1584 non-null   int64  \n",
      " 6   club_name                    1584 non-null   object \n",
      " 7   league_name                  1584 non-null   object \n",
      " 8   club_position                1584 non-null   object \n",
      " 9   preferred_foot               1584 non-null   object \n",
      " 10  weak_foot                    1584 non-null   int64  \n",
      " 11  skill_moves                  1584 non-null   int64  \n",
      " 12  international_reputation     1584 non-null   int64  \n",
      " 13  pace                         1414 non-null   float64\n",
      " 14  shooting                     1414 non-null   float64\n",
      " 15  passing                      1414 non-null   float64\n",
      " 16  dribbling                    1414 non-null   float64\n",
      " 17  defending                    1414 non-null   float64\n",
      " 18  physic                       1414 non-null   float64\n",
      " 19  attacking_crossing           1584 non-null   int64  \n",
      " 20  attacking_finishing          1584 non-null   int64  \n",
      " 21  attacking_heading_accuracy   1584 non-null   int64  \n",
      " 22  attacking_short_passing      1584 non-null   int64  \n",
      " 23  attacking_volleys            1584 non-null   int64  \n",
      " 24  skill_dribbling              1584 non-null   int64  \n",
      " 25  skill_curve                  1584 non-null   int64  \n",
      " 26  skill_fk_accuracy            1584 non-null   int64  \n",
      " 27  skill_long_passing           1584 non-null   int64  \n",
      " 28  skill_ball_control           1584 non-null   int64  \n",
      " 29  movement_acceleration        1584 non-null   int64  \n",
      " 30  movement_sprint_speed        1584 non-null   int64  \n",
      " 31  movement_agility             1584 non-null   int64  \n",
      " 32  movement_reactions           1584 non-null   int64  \n",
      " 33  movement_balance             1584 non-null   int64  \n",
      " 34  power_shot_power             1584 non-null   int64  \n",
      " 35  power_jumping                1584 non-null   int64  \n",
      " 36  power_stamina                1584 non-null   int64  \n",
      " 37  power_strength               1584 non-null   int64  \n",
      " 38  power_long_shots             1584 non-null   int64  \n",
      " 39  mentality_aggression         1584 non-null   int64  \n",
      " 40  mentality_interceptions      1584 non-null   int64  \n",
      " 41  mentality_positioning        1584 non-null   int64  \n",
      " 42  mentality_vision             1584 non-null   int64  \n",
      " 43  mentality_penalties          1584 non-null   int64  \n",
      " 44  mentality_composure          1584 non-null   int64  \n",
      " 45  defending_marking_awareness  1584 non-null   int64  \n",
      " 46  defending_standing_tackle    1584 non-null   int64  \n",
      " 47  defending_sliding_tackle     1584 non-null   int64  \n",
      " 48  goalkeeping_diving           1584 non-null   int64  \n",
      " 49  goalkeeping_handling         1584 non-null   int64  \n",
      " 50  goalkeeping_kicking          1584 non-null   int64  \n",
      " 51  goalkeeping_positioning      1584 non-null   int64  \n",
      " 52  goalkeeping_reflexes         1584 non-null   int64  \n",
      " 53  goalkeeping_speed            170 non-null    float64\n",
      " 54  ls                           1584 non-null   int64  \n",
      " 55  st                           1584 non-null   int64  \n",
      " 56  rs                           1584 non-null   int64  \n",
      " 57  lw                           1584 non-null   int64  \n",
      " 58  lf                           1584 non-null   int64  \n",
      " 59  cf                           1584 non-null   int64  \n",
      " 60  rf                           1584 non-null   int64  \n",
      " 61  rw                           1584 non-null   int64  \n",
      " 62  lam                          1584 non-null   int64  \n",
      " 63  cam                          1584 non-null   int64  \n",
      " 64  ram                          1584 non-null   int64  \n",
      " 65  lm                           1584 non-null   int64  \n",
      " 66  lcm                          1584 non-null   int64  \n",
      " 67  cm                           1584 non-null   int64  \n",
      " 68  rcm                          1584 non-null   int64  \n",
      " 69  rm                           1584 non-null   int64  \n",
      " 70  lwb                          1584 non-null   int64  \n",
      " 71  ldm                          1584 non-null   int64  \n",
      " 72  cdm                          1584 non-null   int64  \n",
      " 73  rdm                          1584 non-null   int64  \n",
      " 74  rwb                          1584 non-null   int64  \n",
      " 75  lb                           1584 non-null   int64  \n",
      " 76  rb                           1584 non-null   int64  \n",
      " 77  lcb                          1584 non-null   int64  \n",
      " 78  cb                           1584 non-null   int64  \n",
      " 79  rcb                          1584 non-null   int64  \n",
      " 80  gk                           1584 non-null   int64  \n",
      " 81  position                     1584 non-null   int64  \n",
      "dtypes: float64(9), int64(68), object(5)\n",
      "memory usage: 1014.9+ KB\n"
     ]
    }
   ],
   "source": [
    "df_train.info()"
   ]
  },
  {
   "cell_type": "markdown",
   "metadata": {},
   "source": [
    "As we can see, the dataset contains close to 81 features, out of which input values like the name of the player, name of the club, name of the league and preferred foot might not be helpful to decide the team's position in the next season. The basic intuition is that the team's position is decided by the quality of the players and strength of the players in different playing positions. So, the player's playing position can be an important feature, as it also gives some indication about the depth of the squad in terms of reserves and substitutes, which can be a deciding factor for predicting the club's position. Let's do some data preprocessing based on this intuitions."
   ]
  },
  {
   "cell_type": "markdown",
   "metadata": {},
   "source": [
    "### Data Pre-processing"
   ]
  },
  {
   "cell_type": "code",
   "execution_count": 18,
   "metadata": {},
   "outputs": [],
   "source": [
    "# Drop un-necessary features\n",
    "features_to_drop = ['short_name', 'club_name', 'league_name', 'preferred_foot']"
   ]
  },
  {
   "cell_type": "code",
   "execution_count": 19,
   "metadata": {},
   "outputs": [],
   "source": [
    "df_train.drop(columns=features_to_drop, inplace=True)\n",
    "df_test.drop(columns=features_to_drop, inplace=True)"
   ]
  },
  {
   "cell_type": "code",
   "execution_count": 21,
   "metadata": {},
   "outputs": [],
   "source": [
    "label = df_train['position']\n",
    "df_train.drop(columns=['position'], inplace=True)"
   ]
  },
  {
   "cell_type": "code",
   "execution_count": 22,
   "metadata": {},
   "outputs": [
    {
     "name": "stdout",
     "output_type": "stream",
     "text": [
      "(1584, 77)\n",
      "(1515, 77)\n"
     ]
    }
   ],
   "source": [
    "print(df_train.shape)\n",
    "print(df_test.shape)"
   ]
  },
  {
   "cell_type": "code",
   "execution_count": 27,
   "metadata": {
    "scrolled": true
   },
   "outputs": [
    {
     "data": {
      "image/png": "[encoded data removed]",
      "text/plain": [
       "<Figure size 1141.25x720 with 1 Axes>"
      ]
     },
     "metadata": {
      "needs_background": "light"
     },
     "output_type": "display_data"
    }
   ],
   "source": [
    "# Let's check missing values\n",
    "\n",
    "sns.displot(\n",
    "    data=df_train.isna().melt(value_name=\"missing\"),\n",
    "    y=\"variable\",\n",
    "    hue=\"missing\",\n",
    "    multiple=\"fill\",\n",
    "    height=10,\n",
    "    aspect=1.5\n",
    ")\n",
    "plt.show()"
   ]
  },
  {
   "cell_type": "markdown",
   "metadata": {},
   "source": [
    "As we analyze the missing values, we can see that goalkeeping speed has high percentage of missing values. Hence we can also drop the feature. But for the other missing values related to pace, shooting, passing, dribbling, defending and physic, mostly this data is not available for goal keepers. So, instead of dropping the records related to goal keepers, we will keep a constant value of 40 for all the goal keepers, as the intuitively thinking since these goal keepers are professional players, almost all of them would have a score of atleast 40. There is one missing value under value_eur. It is highly possible that the player has decided to retire and hence no value is assigned. So, we will just drop this record as an outlier."
   ]
  },
  {
   "cell_type": "code",
   "execution_count": 30,
   "metadata": {},
   "outputs": [],
   "source": [
    "# dropping the feature 'goalkeeping_speed'\n",
    "df_train.drop(columns=['goalkeeping_speed'], inplace=True)\n",
    "df_test.drop(columns=['goalkeeping_speed'], inplace=True)"
   ]
  },
  {
   "cell_type": "code",
   "execution_count": null,
   "metadata": {},
   "outputs": [],
   "source": [
    "# data imputation for the features 'pace', 'shooting', 'passing', 'dribbling', 'defending' and 'physic'"
   ]
  },
  {
   "cell_type": "code",
   "execution_count": null,
   "metadata": {},
   "outputs": [],
   "source": []
  },
  {
   "cell_type": "code",
   "execution_count": 31,
   "metadata": {},
   "outputs": [
    {
     "name": "stdout",
     "output_type": "stream",
     "text": [
      "(1584, 76)\n",
      "(1515, 76)\n"
     ]
    }
   ],
   "source": [
    "print(df_train.shape)\n",
    "print(df_test.shape)"
   ]
  },
  {
   "cell_type": "code",
   "execution_count": null,
   "metadata": {},
   "outputs": [],
   "source": [
    "len(df_train['club_position'].value_counts())"
   ]
  },
  {
   "cell_type": "markdown",
   "metadata": {},
   "source": [
    "### Training the model"
   ]
  },
  {
   "cell_type": "markdown",
   "metadata": {},
   "source": []
  },
  {
   "cell_type": "code",
   "execution_count": 7,
   "metadata": {},
   "outputs": [],
   "source": [
    "x_train,x_test,y_train,y_test = train_test_split(features,labels,test_size=0.2,random_state=123)"
   ]
  },
  {
   "cell_type": "code",
   "execution_count": 8,
   "metadata": {},
   "outputs": [
    {
     "data": {
      "text/plain": [
       "GradientBoostingRegressor(learning_rate=0.01, max_depth=2, min_samples_split=5,\n",
       "                          n_estimators=900)"
      ]
     },
     "execution_count": 8,
     "metadata": {},
     "output_type": "execute_result"
    }
   ],
   "source": [
    "model = GradientBoostingRegressor(n_estimators = 900, max_depth = 2, min_samples_split= 5, learning_rate = 0.01)\n",
    "model.fit(x_train, y_train)"
   ]
  },
  {
   "cell_type": "code",
   "execution_count": 9,
   "metadata": {},
   "outputs": [
    {
     "name": "stdout",
     "output_type": "stream",
     "text": [
      "The R^2 score for the model is:\n"
     ]
    },
    {
     "data": {
      "text/plain": [
       "0.5970059790097703"
      ]
     },
     "execution_count": 9,
     "metadata": {},
     "output_type": "execute_result"
    }
   ],
   "source": [
    "print('The R^2 score for the model is:')\n",
    "model.score(x_test, y_test)"
   ]
  },
  {
   "cell_type": "code",
   "execution_count": 10,
   "metadata": {},
   "outputs": [
    {
     "name": "stdout",
     "output_type": "stream",
     "text": [
      "The mean square error for the model is:\n"
     ]
    },
    {
     "data": {
      "text/plain": [
       "2538.9297946891274"
      ]
     },
     "execution_count": 10,
     "metadata": {},
     "output_type": "execute_result"
    }
   ],
   "source": [
    "print('The mean square error for the model is:')\n",
    "mean_squared_error(y_test, model.predict(x_test))"
   ]
  },
  {
   "cell_type": "code",
   "execution_count": 9,
   "metadata": {},
   "outputs": [
    {
     "name": "stdout",
     "output_type": "stream",
     "text": [
      "The mean absolute percentage error for the model is:\n"
     ]
    },
    {
     "data": {
      "text/plain": [
       "0.3766039297492052"
      ]
     },
     "execution_count": 9,
     "metadata": {},
     "output_type": "execute_result"
    }
   ],
   "source": [
    "print('The mean absolute percentage error for the model is:')\n",
    "mean_absolute_percentage_error(y_test, model.predict(x_test))"
   ]
  },
  {
   "cell_type": "markdown",
   "metadata": {},
   "source": []
  },
  {
   "cell_type": "markdown",
   "metadata": {},
   "source": [
    "### Model Explainability using Explainer Dashboards"
   ]
  },
  {
   "cell_type": "markdown",
   "metadata": {},
   "source": []
  },
  {
   "cell_type": "markdown",
   "metadata": {},
   "source": [
    "## Final Thoughts"
   ]
  },
  {
   "cell_type": "markdown",
   "metadata": {},
   "source": []
  },
  {
   "cell_type": "markdown",
   "metadata": {},
   "source": [
    "## Reference"
   ]
  },
  {
   "cell_type": "markdown",
   "metadata": {},
   "source": [
    "1. Dataset link -\n",
    "2. Explainer Dashboard Github project - \n",
    "3. Explainer Dashboard Documentation -\n",
    "4. \n",
    "5. Some of the utility functions and code are taken from the GitHub Repository of the author - Aditya Bhattacharya https://github.com/adib0073\n",
    "6. Want to connect with the author of this chapter? You can reach out by any means mentioned here: https://aditya-bhattacharya.net/contact-me/"
   ]
  },
  {
   "cell_type": "code",
   "execution_count": null,
   "metadata": {},
   "outputs": [],
   "source": []
  }
 ],
 "metadata": {
  "kernelspec": {
   "display_name": "Python 3",
   "language": "python",
   "name": "python3"
  },
  "language_info": {
   "codemirror_mode": {
    "name": "ipython",
    "version": 3
   },
   "file_extension": ".py",
   "mimetype": "text/x-python",
   "name": "python",
   "nbconvert_exporter": "python",
   "pygments_lexer": "ipython3",
   "version": "3.7.7"
  }
 },
 "nbformat": 4,
 "nbformat_minor": 4
}
