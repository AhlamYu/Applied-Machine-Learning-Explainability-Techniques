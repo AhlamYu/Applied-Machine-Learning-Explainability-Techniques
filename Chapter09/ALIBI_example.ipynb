{
 "cells": [
  {
   "cell_type": "markdown",
   "metadata": {},
   "source": [
    "# Exploring  ALIBI (Algorithms for explaining machine learning models)\n",
    "## CHAPTER 09 - *Other popular XAI frameworks*\n",
    "\n",
    "From **Applied Machine Learning Explainability Techniques** by [**Aditya Bhattacharya**](https://www.linkedin.com/in/aditya-bhattacharya-b59155b6/), published by **Packt**"
   ]
  },
  {
   "cell_type": "markdown",
   "metadata": {},
   "source": [
    "### Objective\n",
    "\n",
    "Previously, in [chapter 2](https://github.com/PacktPublishing/Applied-Machine-Learning-Explainability-Techniques/tree/main/Chapter02), we have covered the [Counterfactual Explanation Tutorial](https://github.com/PacktPublishing/Applied-Machine-Learning-Explainability-Techniques/blob/main/Chapter02/Counterfactual_structured_data.ipynb), where you have received some exposure on the [ALIBI framework](https://github.com/SeldonIO/alibiE). In this tutorial, you will get a deeper exposure to the ALIBI framework on a different problem. We will use the same Occupancy Detection Dataset used in the [DiCE tutorial](https://github.com/PacktPublishing/Applied-Machine-Learning-Explainability-Techniques/blob/main/Chapter09/DiCE_example.ipynb). So, the initial part of the tutorial might look same, but the model explainabilty part will be different as we will be using various components from the ALIBI framework."
   ]
  },
  {
   "cell_type": "markdown",
   "metadata": {},
   "source": [
    "### Installing the modules"
   ]
  },
  {
   "cell_type": "markdown",
   "metadata": {},
   "source": [
    "Install the following libraries in Google Colab or your local environment, if not already installed."
   ]
  },
  {
   "cell_type": "code",
   "execution_count": null,
   "metadata": {},
   "outputs": [],
   "source": [
    "!pip install --upgrade pandas numpy matplotlib seaborn scikit-learn alibi"
   ]
  },
  {
   "cell_type": "markdown",
   "metadata": {},
   "source": [
    "### Loading the modules"
   ]
  },
  {
   "cell_type": "code",
   "execution_count": 1,
   "metadata": {},
   "outputs": [],
   "source": [
    "import warnings\n",
    "warnings.filterwarnings('ignore')\n",
    "\n",
    "import pandas as pd\n",
    "pd.set_option('display.max_columns', None)\n",
    "\n",
    "import numpy as np\n",
    "\n",
    "import sklearn\n",
    "from sklearn.model_selection import train_test_split\n",
    "from sklearn.base import BaseEstimator, TransformerMixin\n",
    "from sklearn.pipeline import Pipeline\n",
    "from sklearn.compose import ColumnTransformer\n",
    "from sklearn.preprocessing import StandardScaler, OneHotEncoder\n",
    "from sklearn.ensemble import RandomForestClassifier\n",
    "from sklearn.metrics import accuracy_score, roc_auc_score\n",
    "\n",
    "import alibi\n",
    "\n",
    "import matplotlib.pyplot as plt\n",
    "import seaborn as sns\n",
    "sns.set(style=\"whitegrid\")\n",
    "\n",
    "from IPython import display\n",
    "\n",
    "np.random.seed(123)"
   ]
  },
  {
   "cell_type": "markdown",
   "metadata": {},
   "source": [
    "### About the data"
   ]
  },
  {
   "cell_type": "markdown",
   "metadata": {},
   "source": [
    "**Occupancy Detection dataset | [UCI Machine Learning Repository](https://archive.ics.uci.edu/ml/datasets/Occupancy+Detection+#)**\n",
    "\n",
    "Original Source: https://archive.ics.uci.edu/ml/datasets/Occupancy+Detection+#\n",
    "\n",
    "Discovered from : https://code.datasciencedojo.com/datasciencedojo/datasets/tree/master/Occupancy%20Detection\n",
    "\n",
    "- This data set has 20560 rows and 7 attributes which are divided into 3 data sets for training, validation  and testing.\n",
    "\n",
    "- The data set provides experimental data used for binary classification (room occupancy of an office room) from Temperature, Humidity, Light and CO2. \n",
    "\n",
    "- Ground-truth occupancy was obtained from time stamped pictures that were taken every minute.This dataset is recommended for classification based problems.\n",
    "\n",
    "This data set has been sourced from the Machine Learning Repository of University of California, Irvine [Occupancy Detection Data Set (UC Irvine)](https://archive.ics.uci.edu/ml/datasets/Occupancy+Detection+#). The UCI page mentions the following publication [Accurate occupancy detection of an office room from light, temperature, humidity and CO2 measurements using statistical learning models. Luis M. Candanedo, VÃ©ronique Feldheim. Energy and Buildings. Volume 112, 15 January 2016, Pages 28-39](https://www.researchgate.net/profile/Luis_Candanedo_Ibarra/publication/285627413_Accurate_occupancy_detection_of_an_office_room_from_light_temperature_humidity_and_CO2_measurements_using_statistical_learning_models/links/5b1d843ea6fdcca67b690c28/Accurate-occupancy-detection-of-an-office-room-from-light-temperature-humidity-and-CO2-measurements-using-statistical-learning-models.pdf?origin=publication_detail) as the original source of the data set.\n",
    "\n",
    "And thanks to Data Science Dojo - https://code.datasciencedojo.com/ - for curating this dataset, thus making it more discoverable!"
   ]
  },
  {
   "cell_type": "markdown",
   "metadata": {},
   "source": [
    "### Loading the data"
   ]
  },
  {
   "cell_type": "code",
   "execution_count": 2,
   "metadata": {},
   "outputs": [],
   "source": [
    "# We will read the training data, validation and test data\n",
    "df_train = pd.read_csv('datasets/Occupancy_Detection_Data/train.csv')\n",
    "df_valid = pd.read_csv('datasets/Occupancy_Detection_Data/valid.csv')\n",
    "df_test = pd.read_csv('datasets/Occupancy_Detection_Data/test.csv')"
   ]
  },
  {
   "cell_type": "code",
   "execution_count": 3,
   "metadata": {},
   "outputs": [
    {
     "data": {
      "text/html": [
       "<div>\n",
       "<style scoped>\n",
       "    .dataframe tbody tr th:only-of-type {\n",
       "        vertical-align: middle;\n",
       "    }\n",
       "\n",
       "    .dataframe tbody tr th {\n",
       "        vertical-align: top;\n",
       "    }\n",
       "\n",
       "    .dataframe thead th {\n",
       "        text-align: right;\n",
       "    }\n",
       "</style>\n",
       "<table border=\"1\" class=\"dataframe\">\n",
       "  <thead>\n",
       "    <tr style=\"text-align: right;\">\n",
       "      <th></th>\n",
       "      <th>date</th>\n",
       "      <th>Temperature</th>\n",
       "      <th>Humidity</th>\n",
       "      <th>Light</th>\n",
       "      <th>CO2</th>\n",
       "      <th>HumidityRatio</th>\n",
       "      <th>Occupancy</th>\n",
       "    </tr>\n",
       "  </thead>\n",
       "  <tbody>\n",
       "    <tr>\n",
       "      <th>0</th>\n",
       "      <td>2/4/2015 17:51</td>\n",
       "      <td>23.18</td>\n",
       "      <td>27.2720</td>\n",
       "      <td>426.0</td>\n",
       "      <td>721.25</td>\n",
       "      <td>0.004793</td>\n",
       "      <td>1</td>\n",
       "    </tr>\n",
       "    <tr>\n",
       "      <th>1</th>\n",
       "      <td>2/4/2015 17:51</td>\n",
       "      <td>23.15</td>\n",
       "      <td>27.2675</td>\n",
       "      <td>429.5</td>\n",
       "      <td>714.00</td>\n",
       "      <td>0.004783</td>\n",
       "      <td>1</td>\n",
       "    </tr>\n",
       "    <tr>\n",
       "      <th>2</th>\n",
       "      <td>2/4/2015 17:53</td>\n",
       "      <td>23.15</td>\n",
       "      <td>27.2450</td>\n",
       "      <td>426.0</td>\n",
       "      <td>713.50</td>\n",
       "      <td>0.004779</td>\n",
       "      <td>1</td>\n",
       "    </tr>\n",
       "    <tr>\n",
       "      <th>3</th>\n",
       "      <td>2/4/2015 17:54</td>\n",
       "      <td>23.15</td>\n",
       "      <td>27.2000</td>\n",
       "      <td>426.0</td>\n",
       "      <td>708.25</td>\n",
       "      <td>0.004772</td>\n",
       "      <td>1</td>\n",
       "    </tr>\n",
       "    <tr>\n",
       "      <th>4</th>\n",
       "      <td>2/4/2015 17:55</td>\n",
       "      <td>23.10</td>\n",
       "      <td>27.2000</td>\n",
       "      <td>426.0</td>\n",
       "      <td>704.50</td>\n",
       "      <td>0.004757</td>\n",
       "      <td>1</td>\n",
       "    </tr>\n",
       "  </tbody>\n",
       "</table>\n",
       "</div>"
      ],
      "text/plain": [
       "             date  Temperature  Humidity  Light     CO2  HumidityRatio  \\\n",
       "0  2/4/2015 17:51        23.18   27.2720  426.0  721.25       0.004793   \n",
       "1  2/4/2015 17:51        23.15   27.2675  429.5  714.00       0.004783   \n",
       "2  2/4/2015 17:53        23.15   27.2450  426.0  713.50       0.004779   \n",
       "3  2/4/2015 17:54        23.15   27.2000  426.0  708.25       0.004772   \n",
       "4  2/4/2015 17:55        23.10   27.2000  426.0  704.50       0.004757   \n",
       "\n",
       "   Occupancy  \n",
       "0          1  \n",
       "1          1  \n",
       "2          1  \n",
       "3          1  \n",
       "4          1  "
      ]
     },
     "execution_count": 3,
     "metadata": {},
     "output_type": "execute_result"
    }
   ],
   "source": [
    "df_train.head()"
   ]
  },
  {
   "cell_type": "code",
   "execution_count": 4,
   "metadata": {},
   "outputs": [
    {
     "name": "stdout",
     "output_type": "stream",
     "text": [
      "--------------------------------------------------------------------------------------------------------------------------\n",
      "Occupancy Detection Dataset\n",
      "--------------------------------------------------------------------------------------------------------------------------\n",
      "Original Source: https://archive.ics.uci.edu/ml/datasets/Occupancy+Detection+#\n",
      "Discovered from : https://code.datasciencedojo.com/datasciencedojo/datasets/tree/master/Occupancy%20Detection\n",
      "\n",
      "---\n",
      "\n",
      "- This data set has 20560 rows and 7 attributes which are divided into 3 data sets for training, validation  and testing.\n",
      "\n",
      "- The data set provides experimental data used for binary classification (room occupancy of an office room) from Temperature, Humidity, Light and CO2. \n",
      "\n",
      "- Ground-truth occupancy was obtained from time stamped pictures that were taken every minute.This dataset is recommended for classification based problems.\n",
      "\n",
      "---\n",
      "\n",
      "### Data Dictionary \n",
      "As mentioned in : https://code.datasciencedojo.com/datasciencedojo/datasets/tree/master/Occupancy%20Detection\n",
      "\n",
      "| Column   Position \t| Atrribute Name \t| Definition                                                                                           \t| Data Type    \t| Example                                        \t| % Null Ratios \t|\n",
      "|-------------------\t|----------------\t|------------------------------------------------------------------------------------------------------\t|--------------\t|------------------------------------------------\t|---------------\t|\n",
      "| 1                 \t| Date           \t| Date & time in year-month-day hour:minute:second format                                              \t| Qualitative  \t| 2/4/2015 17:57, 2/4/2015 17:55, 2/4/2015 18:06\t\t \t| 0             \t|\n",
      "| 2                 \t| Temperature    \t| Temperature in degree Celcius                                                                        \t| Quantitative \t| 23.150, 23.075, 22.890                         \t| 0             \t|\n",
      "| 3                 \t| Humidity       \t| Relative humidity in percentage                                                                      \t| Quantitative \t| 27.272000, 27.200000, 27.390000                \t| 0             \t|\n",
      "| 4                 \t| Light          \t| Illuminance measurement in unit Lux                                                                  \t| Quantitative \t| 426.0, 419.0, 0.0\t                              \t| 0             \t|\n",
      "| 5                 \t| CO2            \t| CO2 in parts per million (ppm)                                                                       \t| Quantitative \t| 489.666667,   495.500000, 534.500000           \t| 0             \t|\n",
      "| 6                 \t| HumidityRatio  \t| Humadity ratio:  Derived quantity from temperature and   relative humidity, in kgwater-vapor/kg-air  \t| Quantitative \t| 0.004986, 0.005088, 0.005203                   \t| 0             \t|\n",
      "| 7                 \t| Occupancy      \t| Occupied or not: 1 for occupied and 0 for not occupied                                               \t| Quantitative \t| 1, 0                                           \t| 0             \t|\n",
      "\n",
      "\n",
      "---\n",
      "\n",
      "### Acknowledgement\n",
      "\n",
      "\n",
      "This data set has been sourced from the Machine Learning Repository of University of California, Irvine [Occupancy Detection Data Set (UC Irvine)](https://archive.ics.uci.edu/ml/datasets/Occupancy+Detection+#). The UCI page mentions the following publication [Accurate occupancy detection of an office room from light, temperature, humidity and CO2 measurements using statistical learning models. Luis M. Candanedo, VÃƒÂ©ronique Feldheim. Energy and Buildings. Volume 112, 15 January 2016, Pages 28-39](https://www.researchgate.net/profile/Luis_Candanedo_Ibarra/publication/285627413_Accurate_occupancy_detection_of_an_office_room_from_light_temperature_humidity_and_CO2_measurements_using_statistical_learning_models/links/5b1d843ea6fdcca67b690c28/Accurate-occupancy-detection-of-an-office-room-from-light-temperature-humidity-and-CO2-measurements-using-statistical-learning-models.pdf?origin=publication_detail) as the original source of the data set.\n",
      "\n",
      "All thanks to Data Science Dojo - https://code.datasciencedojo.com/ - for curating this dataset, thus making it more discoverable! \n"
     ]
    }
   ],
   "source": [
    "# Reading the dataset description\n",
    "with open('datasets/Occupancy_Detection_Data/description.txt') as f:\n",
    "    contents = f.read()\n",
    "    print(contents)"
   ]
  },
  {
   "cell_type": "code",
   "execution_count": 5,
   "metadata": {},
   "outputs": [
    {
     "name": "stdout",
     "output_type": "stream",
     "text": [
      "(8143, 7)\n"
     ]
    }
   ],
   "source": [
    "# Check dataset dimensions\n",
    "print(df_train.shape)"
   ]
  },
  {
   "cell_type": "code",
   "execution_count": 6,
   "metadata": {},
   "outputs": [
    {
     "data": {
      "text/plain": [
       "Index(['date', 'Temperature', 'Humidity', 'Light', 'CO2', 'HumidityRatio',\n",
       "       'Occupancy'],\n",
       "      dtype='object')"
      ]
     },
     "execution_count": 6,
     "metadata": {},
     "output_type": "execute_result"
    }
   ],
   "source": [
    "df_train.columns"
   ]
  },
  {
   "cell_type": "code",
   "execution_count": 7,
   "metadata": {},
   "outputs": [
    {
     "data": {
      "text/plain": [
       "0    6414\n",
       "1    1729\n",
       "Name: Occupancy, dtype: int64"
      ]
     },
     "execution_count": 7,
     "metadata": {},
     "output_type": "execute_result"
    },
    {
     "data": {
      "image/png": "[encoded data removed]",
      "text/plain": [
       "<Figure size 432x288 with 1 Axes>"
      ]
     },
     "metadata": {},
     "output_type": "display_data"
    }
   ],
   "source": [
    "df_train['Occupancy'].value_counts().plot(kind='pie')\n",
    "df_train['Occupancy'].value_counts()"
   ]
  },
  {
   "cell_type": "code",
   "execution_count": 8,
   "metadata": {},
   "outputs": [
    {
     "name": "stdout",
     "output_type": "stream",
     "text": [
      "<class 'pandas.core.frame.DataFrame'>\n",
      "RangeIndex: 8143 entries, 0 to 8142\n",
      "Data columns (total 7 columns):\n",
      " #   Column         Non-Null Count  Dtype  \n",
      "---  ------         --------------  -----  \n",
      " 0   date           8143 non-null   object \n",
      " 1   Temperature    8143 non-null   float64\n",
      " 2   Humidity       8143 non-null   float64\n",
      " 3   Light          8143 non-null   float64\n",
      " 4   CO2            8143 non-null   float64\n",
      " 5   HumidityRatio  8143 non-null   float64\n",
      " 6   Occupancy      8143 non-null   int64  \n",
      "dtypes: float64(5), int64(1), object(1)\n",
      "memory usage: 445.4+ KB\n"
     ]
    }
   ],
   "source": [
    "df_train.info()"
   ]
  },
  {
   "cell_type": "markdown",
   "metadata": {},
   "source": [
    "As we can see, the dataset contains close to 8143 records and 6 features. The `date` feature doesn't seem to be relevant to detect room occupancy and we want to perform this detection solely based on the sensor values. So, we will drop this feature. We may need to perform further data normalization or transformation, but luckily there is no missing values, and thus no need for data imputation or additional steps to handle missing value. In the next step, we will perform some preliminary data processing and exploration, required for building the model. But I do recommend all of you to perform a detailed EDA, data processing, feature engineering in order to get a well trained model. "
   ]
  },
  {
   "cell_type": "markdown",
   "metadata": {},
   "source": [
    "### Data Pre-processing"
   ]
  },
  {
   "cell_type": "code",
   "execution_count": 9,
   "metadata": {},
   "outputs": [],
   "source": [
    "# Let's create a generic scikit-learn pipeline for training, validation and test data"
   ]
  },
  {
   "cell_type": "code",
   "execution_count": 10,
   "metadata": {},
   "outputs": [],
   "source": [
    "# Drop un-necessary features\n",
    "features_to_drop = ['date']\n",
    "target_variable = 'Occupancy'\n",
    "y_train = df_train[target_variable]\n",
    "y_valid = df_valid[target_variable]\n",
    "y_test = df_test[target_variable]\n",
    "\n",
    "numeric = ['Temperature', 'Humidity', 'Light', 'CO2', 'HumidityRatio'] # All features in this dataset is numerical\n",
    "categorical = [] # No categorical feature in this dataset"
   ]
  },
  {
   "cell_type": "code",
   "execution_count": 11,
   "metadata": {},
   "outputs": [],
   "source": [
    "def drop_not_wanted_features(df, features_to_drop, target_variable):\n",
    "    '''\n",
    "    Function to drop unwanted features\n",
    "    '''\n",
    "    for feature in features_to_drop:\n",
    "        if feature in list(df.columns):\n",
    "            df.drop(columns=feature, inplace=True)\n",
    "            \n",
    "    if target_variable in list(df.columns):\n",
    "        df.drop(columns=target_variable, inplace=True)\n",
    "    \n",
    "    return df"
   ]
  },
  {
   "cell_type": "code",
   "execution_count": 12,
   "metadata": {},
   "outputs": [],
   "source": [
    "class Droper(BaseEstimator, TransformerMixin):\n",
    "    '''\n",
    "    Adding a class for custom pipeline step\n",
    "    '''\n",
    "    def __init__(self, features_to_drop, target_variable):\n",
    "             self.features_to_drop = features_to_drop\n",
    "             self.target_variable = target_variable\n",
    "            \n",
    "    def fit(self, X, y):\n",
    "             return self\n",
    "        \n",
    "    def transform(self, X):\n",
    "        x = X.copy()\n",
    "        return drop_not_wanted_features(x, self.features_to_drop, self.target_variable)"
   ]
  },
  {
   "cell_type": "code",
   "execution_count": 13,
   "metadata": {},
   "outputs": [],
   "source": [
    "# Let's create preprocessing pipelines for both numeric and categorical data.\n",
    "\n",
    "numeric_transformer = Pipeline(steps=[('scaler', StandardScaler())])\n",
    "categorical_transformer = Pipeline(steps=[('onehot', OneHotEncoder(handle_unknown='ignore'))])"
   ]
  },
  {
   "cell_type": "code",
   "execution_count": 14,
   "metadata": {},
   "outputs": [],
   "source": [
    "column_transformer = ColumnTransformer(\n",
    "    transformers=[\n",
    "        ('numerical', numeric_transformer, numeric),\n",
    "        ('categorical', categorical_transformer, categorical)])"
   ]
  },
  {
   "cell_type": "markdown",
   "metadata": {},
   "source": [
    "### Training the model"
   ]
  },
  {
   "cell_type": "code",
   "execution_count": 15,
   "metadata": {},
   "outputs": [],
   "source": [
    "# Append classifier to preprocessing pipeline.\n",
    "# Now we have a full prediction pipeline.\n",
    "# You can further add other custom pipelines\n",
    "clf = Pipeline(steps=[('droper', Droper(features_to_drop, target_variable)),\n",
    "                      ('preprocessor', column_transformer),\n",
    "                      ('classifier', RandomForestClassifier(n_estimators=300,\n",
    "                                                            random_state=123))])"
   ]
  },
  {
   "cell_type": "code",
   "execution_count": 16,
   "metadata": {},
   "outputs": [],
   "source": [
    "model = clf.fit(df_train, y_train)"
   ]
  },
  {
   "cell_type": "code",
   "execution_count": 17,
   "metadata": {},
   "outputs": [
    {
     "data": {
      "text/plain": [
       "0.9770303527481542"
      ]
     },
     "execution_count": 17,
     "metadata": {},
     "output_type": "execute_result"
    }
   ],
   "source": [
    "# Accuracy score on validation dataset\n",
    "model.score(df_valid, y_valid)"
   ]
  },
  {
   "cell_type": "code",
   "execution_count": 18,
   "metadata": {},
   "outputs": [
    {
     "data": {
      "text/plain": [
       "0.951594746716698"
      ]
     },
     "execution_count": 18,
     "metadata": {},
     "output_type": "execute_result"
    }
   ],
   "source": [
    "# Accuracy score on test dataset\n",
    "accuracy_score(model.predict(df_test), y_test)"
   ]
  },
  {
   "cell_type": "code",
   "execution_count": 19,
   "metadata": {},
   "outputs": [
    {
     "data": {
      "text/plain": [
       "0.9501350997513132"
      ]
     },
     "execution_count": 19,
     "metadata": {},
     "output_type": "execute_result"
    }
   ],
   "source": [
    "# ROC_AUC score on test dataset\n",
    "roc_auc_score(model.predict(df_test), y_test)"
   ]
  },
  {
   "cell_type": "markdown",
   "metadata": {},
   "source": [
    "## Model Explainability using ALIBI"
   ]
  },
  {
   "cell_type": "code",
   "execution_count": null,
   "metadata": {},
   "outputs": [],
   "source": []
  },
  {
   "cell_type": "markdown",
   "metadata": {},
   "source": [
    "## Final Thoughts"
   ]
  },
  {
   "cell_type": "code",
   "execution_count": null,
   "metadata": {},
   "outputs": [],
   "source": []
  },
  {
   "cell_type": "markdown",
   "metadata": {},
   "source": [
    "\n"
   ]
  },
  {
   "cell_type": "markdown",
   "metadata": {},
   "source": [
    "## Reference"
   ]
  },
  {
   "cell_type": "markdown",
   "metadata": {},
   "source": [
    "1. Dataset link - \n",
    "2. ALIBI Github project - https://github.com/SeldonIO/alibi\n",
    "6. ALIBI Documentation - https://docs.seldon.io/projects/alibi/en/latest/\n",
    "7. Other notebook examples: https://github.com/SeldonIO/alibi/tree/master/doc/source/examples\n",
    "8. Some of the utility functions and code are taken from the GitHub Repository of the author - Aditya Bhattacharya https://github.com/adib0073\n",
    "9. Want to connect with the author of this chapter? You can reach out by any means mentioned here: https://aditya-bhattacharya.net/contact-me/"
   ]
  },
  {
   "cell_type": "code",
   "execution_count": null,
   "metadata": {},
   "outputs": [],
   "source": []
  }
 ],
 "metadata": {
  "kernelspec": {
   "display_name": "Python 3",
   "language": "python",
   "name": "python3"
  },
  "language_info": {
   "codemirror_mode": {
    "name": "ipython",
    "version": 3
   },
   "file_extension": ".py",
   "mimetype": "text/x-python",
   "name": "python",
   "nbconvert_exporter": "python",
   "pygments_lexer": "ipython3",
   "version": "3.7.7"
  }
 },
 "nbformat": 4,
 "nbformat_minor": 4
}
