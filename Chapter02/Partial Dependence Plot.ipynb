{
 "cells": [
  {
   "cell_type": "markdown",
   "metadata": {},
   "source": [
    "## Partial Dependence Plot\n",
    "### CHAPTER 02 - *Model Explainability Methods*\n",
    "\n",
    "From **Applied Machine Learning Explainability Techniques** by [**Aditya Bhattacharya**](https://www.linkedin.com/in/aditya-bhattacharya-b59155b6/), published by **Packt**"
   ]
  },
  {
   "cell_type": "markdown",
   "metadata": {},
   "source": [
    "### Objective\n",
    "\n",
    "In this notebook, we will try to apply Partial Dependence plot for model explainability as part of the influence based explainability methods discussed in Chapter 2 - Model Explainability Methods"
   ]
  },
  {
   "cell_type": "markdown",
   "metadata": {},
   "source": [
    "### Installing the modules"
   ]
  },
  {
   "cell_type": "markdown",
   "metadata": {},
   "source": [
    "Install the following libraries in Google Colab or your local environment, if not already installed."
   ]
  },
  {
   "cell_type": "code",
   "execution_count": null,
   "metadata": {},
   "outputs": [],
   "source": [
    "!pip install --upgrade pandas numpy pdpbox scikit-learn seaborn"
   ]
  },
  {
   "cell_type": "markdown",
   "metadata": {},
   "source": [
    "### Loading the modules"
   ]
  },
  {
   "cell_type": "code",
   "execution_count": 34,
   "metadata": {},
   "outputs": [],
   "source": [
    "import pandas as pd\n",
    "import numpy as np\n",
    "from pdpbox import pdp, get_dataset, info_plots\n",
    "import seaborn as sns\n",
    "import matplotlib.pyplot as plt\n",
    "from datetime import date\n",
    "import pickle\n",
    "palette = 'cool'\n",
    "sns.set_style('whitegrid')\n",
    "import warnings\n",
    "warnings.filterwarnings(\"ignore\")\n",
    "from sklearn.model_selection import train_test_split\n",
    "from sklearn.ensemble import RandomForestRegressor\n",
    "from sklearn.preprocessing import LabelEncoder, MinMaxScaler"
   ]
  },
  {
   "cell_type": "markdown",
   "metadata": {},
   "source": [
    "### About the data"
   ]
  },
  {
   "cell_type": "markdown",
   "metadata": {},
   "source": [
    "For this notebook, we are going to use the [Big Mart Sales Prediction Datasets | Kaggle](https://www.kaggle.com/shivan118/big-mart-sales-prediction-datasets). The data is used for sales prediction for Big Mart Super Market Outlets. The data is collected for the 2013 sales for 1559 different products across 10 different outlets. The datasets used might be derived and transformed datasets from original datasets. The sources of the original datasets will be mentioned and I would strongly recommend to look at the original data for more details on the data description and for a more detailed analysis."
   ]
  },
  {
   "cell_type": "markdown",
   "metadata": {},
   "source": [
    "### Loading the data"
   ]
  },
  {
   "cell_type": "code",
   "execution_count": 3,
   "metadata": {},
   "outputs": [
    {
     "data": {
      "text/html": [
       "<div>\n",
       "<style scoped>\n",
       "    .dataframe tbody tr th:only-of-type {\n",
       "        vertical-align: middle;\n",
       "    }\n",
       "\n",
       "    .dataframe tbody tr th {\n",
       "        vertical-align: top;\n",
       "    }\n",
       "\n",
       "    .dataframe thead th {\n",
       "        text-align: right;\n",
       "    }\n",
       "</style>\n",
       "<table border=\"1\" class=\"dataframe\">\n",
       "  <thead>\n",
       "    <tr style=\"text-align: right;\">\n",
       "      <th></th>\n",
       "      <th>Item_Identifier</th>\n",
       "      <th>Item_Weight</th>\n",
       "      <th>Item_Fat_Content</th>\n",
       "      <th>Item_Visibility</th>\n",
       "      <th>Item_Type</th>\n",
       "      <th>Item_MRP</th>\n",
       "      <th>Outlet_Identifier</th>\n",
       "      <th>Outlet_Establishment_Year</th>\n",
       "      <th>Outlet_Size</th>\n",
       "      <th>Outlet_Location_Type</th>\n",
       "      <th>Outlet_Type</th>\n",
       "      <th>Item_Outlet_Sales</th>\n",
       "    </tr>\n",
       "  </thead>\n",
       "  <tbody>\n",
       "    <tr>\n",
       "      <th>0</th>\n",
       "      <td>FDA15</td>\n",
       "      <td>9.30</td>\n",
       "      <td>Low Fat</td>\n",
       "      <td>0.016047</td>\n",
       "      <td>Dairy</td>\n",
       "      <td>249.8092</td>\n",
       "      <td>OUT049</td>\n",
       "      <td>1999</td>\n",
       "      <td>Medium</td>\n",
       "      <td>Tier 1</td>\n",
       "      <td>Supermarket Type1</td>\n",
       "      <td>3735.1380</td>\n",
       "    </tr>\n",
       "    <tr>\n",
       "      <th>1</th>\n",
       "      <td>DRC01</td>\n",
       "      <td>5.92</td>\n",
       "      <td>Regular</td>\n",
       "      <td>0.019278</td>\n",
       "      <td>Soft Drinks</td>\n",
       "      <td>48.2692</td>\n",
       "      <td>OUT018</td>\n",
       "      <td>2009</td>\n",
       "      <td>Medium</td>\n",
       "      <td>Tier 3</td>\n",
       "      <td>Supermarket Type2</td>\n",
       "      <td>443.4228</td>\n",
       "    </tr>\n",
       "    <tr>\n",
       "      <th>2</th>\n",
       "      <td>FDN15</td>\n",
       "      <td>17.50</td>\n",
       "      <td>Low Fat</td>\n",
       "      <td>0.016760</td>\n",
       "      <td>Meat</td>\n",
       "      <td>141.6180</td>\n",
       "      <td>OUT049</td>\n",
       "      <td>1999</td>\n",
       "      <td>Medium</td>\n",
       "      <td>Tier 1</td>\n",
       "      <td>Supermarket Type1</td>\n",
       "      <td>2097.2700</td>\n",
       "    </tr>\n",
       "    <tr>\n",
       "      <th>3</th>\n",
       "      <td>FDX07</td>\n",
       "      <td>19.20</td>\n",
       "      <td>Regular</td>\n",
       "      <td>0.000000</td>\n",
       "      <td>Fruits and Vegetables</td>\n",
       "      <td>182.0950</td>\n",
       "      <td>OUT010</td>\n",
       "      <td>1998</td>\n",
       "      <td>NaN</td>\n",
       "      <td>Tier 3</td>\n",
       "      <td>Grocery Store</td>\n",
       "      <td>732.3800</td>\n",
       "    </tr>\n",
       "    <tr>\n",
       "      <th>4</th>\n",
       "      <td>NCD19</td>\n",
       "      <td>8.93</td>\n",
       "      <td>Low Fat</td>\n",
       "      <td>0.000000</td>\n",
       "      <td>Household</td>\n",
       "      <td>53.8614</td>\n",
       "      <td>OUT013</td>\n",
       "      <td>1987</td>\n",
       "      <td>High</td>\n",
       "      <td>Tier 3</td>\n",
       "      <td>Supermarket Type1</td>\n",
       "      <td>994.7052</td>\n",
       "    </tr>\n",
       "  </tbody>\n",
       "</table>\n",
       "</div>"
      ],
      "text/plain": [
       "  Item_Identifier  Item_Weight Item_Fat_Content  Item_Visibility  \\\n",
       "0           FDA15         9.30          Low Fat         0.016047   \n",
       "1           DRC01         5.92          Regular         0.019278   \n",
       "2           FDN15        17.50          Low Fat         0.016760   \n",
       "3           FDX07        19.20          Regular         0.000000   \n",
       "4           NCD19         8.93          Low Fat         0.000000   \n",
       "\n",
       "               Item_Type  Item_MRP Outlet_Identifier  \\\n",
       "0                  Dairy  249.8092            OUT049   \n",
       "1            Soft Drinks   48.2692            OUT018   \n",
       "2                   Meat  141.6180            OUT049   \n",
       "3  Fruits and Vegetables  182.0950            OUT010   \n",
       "4              Household   53.8614            OUT013   \n",
       "\n",
       "   Outlet_Establishment_Year Outlet_Size Outlet_Location_Type  \\\n",
       "0                       1999      Medium               Tier 1   \n",
       "1                       2009      Medium               Tier 3   \n",
       "2                       1999      Medium               Tier 1   \n",
       "3                       1998         NaN               Tier 3   \n",
       "4                       1987        High               Tier 3   \n",
       "\n",
       "         Outlet_Type  Item_Outlet_Sales  \n",
       "0  Supermarket Type1          3735.1380  \n",
       "1  Supermarket Type2           443.4228  \n",
       "2  Supermarket Type1          2097.2700  \n",
       "3      Grocery Store           732.3800  \n",
       "4  Supermarket Type1           994.7052  "
      ]
     },
     "execution_count": 3,
     "metadata": {},
     "output_type": "execute_result"
    }
   ],
   "source": [
    "df = pd.read_csv('Datasets/bigmart_sales_train.csv')\n",
    "df.head()"
   ]
  },
  {
   "cell_type": "code",
   "execution_count": 8,
   "metadata": {},
   "outputs": [
    {
     "data": {
      "text/plain": [
       "(8523, 12)"
      ]
     },
     "execution_count": 8,
     "metadata": {},
     "output_type": "execute_result"
    }
   ],
   "source": [
    "df.shape"
   ]
  },
  {
   "cell_type": "markdown",
   "metadata": {},
   "source": [
    "### EDA"
   ]
  },
  {
   "cell_type": "markdown",
   "metadata": {},
   "source": [
    "We will do some basic exploratory data analysis. Our main focus will be on the usage of PDP using the PDPbox framework."
   ]
  },
  {
   "cell_type": "code",
   "execution_count": 11,
   "metadata": {},
   "outputs": [
    {
     "data": {
      "text/html": [
       "<div>\n",
       "<style scoped>\n",
       "    .dataframe tbody tr th:only-of-type {\n",
       "        vertical-align: middle;\n",
       "    }\n",
       "\n",
       "    .dataframe tbody tr th {\n",
       "        vertical-align: top;\n",
       "    }\n",
       "\n",
       "    .dataframe thead th {\n",
       "        text-align: right;\n",
       "    }\n",
       "</style>\n",
       "<table border=\"1\" class=\"dataframe\">\n",
       "  <thead>\n",
       "    <tr style=\"text-align: right;\">\n",
       "      <th></th>\n",
       "      <th>Item_Weight</th>\n",
       "      <th>Item_Visibility</th>\n",
       "      <th>Item_MRP</th>\n",
       "    </tr>\n",
       "  </thead>\n",
       "  <tbody>\n",
       "    <tr>\n",
       "      <th>count</th>\n",
       "      <td>7060.000000</td>\n",
       "      <td>8523.000000</td>\n",
       "      <td>8523.000000</td>\n",
       "    </tr>\n",
       "    <tr>\n",
       "      <th>mean</th>\n",
       "      <td>12.857645</td>\n",
       "      <td>0.066132</td>\n",
       "      <td>140.992782</td>\n",
       "    </tr>\n",
       "    <tr>\n",
       "      <th>std</th>\n",
       "      <td>4.643456</td>\n",
       "      <td>0.051598</td>\n",
       "      <td>62.275067</td>\n",
       "    </tr>\n",
       "    <tr>\n",
       "      <th>min</th>\n",
       "      <td>4.555000</td>\n",
       "      <td>0.000000</td>\n",
       "      <td>31.290000</td>\n",
       "    </tr>\n",
       "    <tr>\n",
       "      <th>25%</th>\n",
       "      <td>8.773750</td>\n",
       "      <td>0.026989</td>\n",
       "      <td>93.826500</td>\n",
       "    </tr>\n",
       "    <tr>\n",
       "      <th>50%</th>\n",
       "      <td>12.600000</td>\n",
       "      <td>0.053931</td>\n",
       "      <td>143.012800</td>\n",
       "    </tr>\n",
       "    <tr>\n",
       "      <th>75%</th>\n",
       "      <td>16.850000</td>\n",
       "      <td>0.094585</td>\n",
       "      <td>185.643700</td>\n",
       "    </tr>\n",
       "    <tr>\n",
       "      <th>max</th>\n",
       "      <td>21.350000</td>\n",
       "      <td>0.328391</td>\n",
       "      <td>266.888400</td>\n",
       "    </tr>\n",
       "  </tbody>\n",
       "</table>\n",
       "</div>"
      ],
      "text/plain": [
       "       Item_Weight  Item_Visibility     Item_MRP\n",
       "count  7060.000000      8523.000000  8523.000000\n",
       "mean     12.857645         0.066132   140.992782\n",
       "std       4.643456         0.051598    62.275067\n",
       "min       4.555000         0.000000    31.290000\n",
       "25%       8.773750         0.026989    93.826500\n",
       "50%      12.600000         0.053931   143.012800\n",
       "75%      16.850000         0.094585   185.643700\n",
       "max      21.350000         0.328391   266.888400"
      ]
     },
     "metadata": {},
     "output_type": "display_data"
    },
    {
     "name": "stdout",
     "output_type": "stream",
     "text": [
      "Unique values : Item_Fat_Content = ['Low Fat' 'Regular' 'low fat' 'LF' 'reg']\n",
      "No. of unique values : Item_Fat_Content = 5\n",
      "\n",
      "Unique values : Item_Type = ['Dairy' 'Soft Drinks' 'Meat' 'Fruits and Vegetables' 'Household'\n",
      " 'Baking Goods' 'Snack Foods' 'Frozen Foods' 'Breakfast'\n",
      " 'Health and Hygiene' 'Hard Drinks' 'Canned' 'Breads' 'Starchy Foods'\n",
      " 'Others' 'Seafood']\n",
      "No. of unique values : Item_Type = 16\n",
      "\n",
      "Unique values : Outlet_Location_Type = ['Tier 1' 'Tier 3' 'Tier 2']\n",
      "No. of unique values : Outlet_Location_Type = 3\n",
      "\n",
      "Unique values : Outlet_Type = ['Supermarket Type1' 'Supermarket Type2' 'Grocery Store'\n",
      " 'Supermarket Type3']\n",
      "No. of unique values : Outlet_Type = 4\n",
      "\n",
      "Unique values : Outlet_Establishment_Year = [1999 2009 1998 1987 1985 2002 2007 1997 2004]\n",
      "No. of unique values : Outlet_Establishment_Year = 9\n",
      "\n",
      "Unique values : Outlet_Size = ['Medium' nan 'High' 'Small']\n",
      "No. of unique values : Outlet_Size = 3\n",
      "\n"
     ]
    }
   ],
   "source": [
    "# Let's identify the categorical and continuous variables from the data\n",
    "categorical_features = ['Item_Fat_Content', 'Item_Type', 'Outlet_Location_Type','Outlet_Type','Outlet_Establishment_Year','Outlet_Size']\n",
    "continuous_features = ['Item_Weight', 'Item_Visibility', 'Item_MRP']\n",
    "\n",
    "display(df[continuous_features].describe())\n",
    "\n",
    "for column in categorical_features:\n",
    "    print('Unique values : {} = {}'.format(column, df[column].unique()))\n",
    "    print('No. of unique values : {} = {}'.format(column, df[column].nunique())+'\\n')"
   ]
  },
  {
   "cell_type": "markdown",
   "metadata": {},
   "source": [
    "### Null or missing value check"
   ]
  },
  {
   "cell_type": "code",
   "execution_count": 16,
   "metadata": {},
   "outputs": [
    {
     "data": {
      "image/png": "[encoded data removed]",
      "text/plain": [
       "<Figure size 576x360 with 1 Axes>"
      ]
     },
     "metadata": {},
     "output_type": "display_data"
    }
   ],
   "source": [
    "plt.figure(figsize=(8,5))\n",
    "\n",
    "g = sns.heatmap(df.isnull(), yticklabels=False, cbar=False, cmap = 'magma')\n",
    "f = g.set_xticklabels(g.get_xticklabels(), rotation=45, horizontalalignment='right')"
   ]
  },
  {
   "cell_type": "code",
   "execution_count": 21,
   "metadata": {},
   "outputs": [
    {
     "name": "stdout",
     "output_type": "stream",
     "text": [
      "Item_Identifier              0.0\n",
      "Item_Weight                  0.0\n",
      "Item_Fat_Content             0.0\n",
      "Item_Visibility              0.0\n",
      "Item_Type                    0.0\n",
      "Item_MRP                     0.0\n",
      "Outlet_Identifier            0.0\n",
      "Outlet_Establishment_Year    0.0\n",
      "Outlet_Size                  0.0\n",
      "Outlet_Location_Type         0.0\n",
      "Outlet_Type                  0.0\n",
      "Item_Outlet_Sales            0.0\n",
      "dtype: float64\n"
     ]
    }
   ],
   "source": [
    "def data_imputation(data):\n",
    "    '''\n",
    "    Method to impute the data\n",
    "    '''\n",
    "    df = data.copy()\n",
    "    current_year = date.today().year\n",
    "    df['Item_Fat_Content'] = df['Item_Fat_Content'].apply(lambda x: 'Low Fat' \\\n",
    "                                                          if x=='low fat'or x=='LF'or x=='Low Fat' \\\n",
    "                                                          else 'Regular')\n",
    "    d2 =  open('Datasets/Weights/outlet_id_size.pkl','rb')\n",
    "    d2 = pickle.load(d2)\n",
    "\n",
    "    d1 =  open('Datasets/Weights/item_id_weight.pkl','rb')\n",
    "    d1 = pickle.load(d1)\n",
    "    \n",
    "    df['Item_Weight'] = df['Item_Identifier'].apply(lambda x: d1[x])\n",
    "    df['Outlet_Size'] = df['Outlet_Identifier'].apply(lambda x: d2[x])\n",
    "    \n",
    "    df['Outlet_Establishment_Year'] = df['Outlet_Establishment_Year'].apply(lambda x: current_year - x)\n",
    "    return df\n",
    "\n",
    "train_df = data_imputation(df)\n",
    "print((train_df.isna().sum()*100)/len(train_df))"
   ]
  },
  {
   "cell_type": "markdown",
   "metadata": {},
   "source": [
    "So, we observe that there are no more missing values remaining. All missing values have imputed."
   ]
  },
  {
   "cell_type": "markdown",
   "metadata": {},
   "source": [
    "### Data Correlation Check"
   ]
  },
  {
   "cell_type": "code",
   "execution_count": 27,
   "metadata": {},
   "outputs": [
    {
     "data": {
      "image/png": "[encoded data removed]",
      "text/plain": [
       "<Figure size 720x576 with 2 Axes>"
      ]
     },
     "metadata": {},
     "output_type": "display_data"
    }
   ],
   "source": [
    "corr_df = train_df.copy()\n",
    "\n",
    "for c in categorical_features:\n",
    "    corr_df[c] = corr_df[c].replace(list(corr_df[c].unique()) ,[i for i in range(corr_df[c].nunique())])\n",
    "\n",
    "plt.figure(figsize=(10,8))\n",
    "sns.heatmap(corr_df.corr(), cmap=\"YlGnBu\", annot=True)\n",
    "plt.show()"
   ]
  },
  {
   "cell_type": "markdown",
   "metadata": {},
   "source": [
    "Certain variable does have high correlation (>0.5) with each other. Particularly Outlet Size and Outlet Establishment year. But we are not dropping highly correlated values for the sake of simplicity. For a better model, it is better to drop highly correlated features."
   ]
  },
  {
   "cell_type": "markdown",
   "metadata": {},
   "source": [
    "### Performing Train-Test Split"
   ]
  },
  {
   "cell_type": "code",
   "execution_count": 43,
   "metadata": {},
   "outputs": [],
   "source": [
    "train_df.drop(['Item_Identifier','Outlet_Identifier'],axis=1, inplace =True)\n",
    "x_train,x_test,y_train,y_test = train_test_split(train_df.iloc[:,:-1],train_df.iloc[:,-1],test_size=0.2, random_state =42)"
   ]
  },
  {
   "cell_type": "code",
   "execution_count": 47,
   "metadata": {},
   "outputs": [],
   "source": [
    "# Let's encode categorical features to numerical format using label_encoder\n",
    "label_encoder = LabelEncoder()\n",
    "variables_to_encode = ['Item_Fat_Content','Outlet_Location_Type','Outlet_Size','Outlet_Type','Outlet_Establishment_Year', 'Item_Type']\n",
    "\n",
    "for i in variables_to_encode:\n",
    "    x_train[i] = label_encoder.fit_transform(x_train[i])\n",
    "    x_test[i] = label_encoder.fit_transform(x_test[i])"
   ]
  },
  {
   "cell_type": "code",
   "execution_count": 48,
   "metadata": {},
   "outputs": [
    {
     "data": {
      "text/html": [
       "<div>\n",
       "<style scoped>\n",
       "    .dataframe tbody tr th:only-of-type {\n",
       "        vertical-align: middle;\n",
       "    }\n",
       "\n",
       "    .dataframe tbody tr th {\n",
       "        vertical-align: top;\n",
       "    }\n",
       "\n",
       "    .dataframe thead th {\n",
       "        text-align: right;\n",
       "    }\n",
       "</style>\n",
       "<table border=\"1\" class=\"dataframe\">\n",
       "  <thead>\n",
       "    <tr style=\"text-align: right;\">\n",
       "      <th></th>\n",
       "      <th>Item_Weight</th>\n",
       "      <th>Item_Fat_Content</th>\n",
       "      <th>Item_Visibility</th>\n",
       "      <th>Item_Type</th>\n",
       "      <th>Item_MRP</th>\n",
       "      <th>Outlet_Establishment_Year</th>\n",
       "      <th>Outlet_Size</th>\n",
       "      <th>Outlet_Location_Type</th>\n",
       "      <th>Outlet_Type</th>\n",
       "    </tr>\n",
       "  </thead>\n",
       "  <tbody>\n",
       "    <tr>\n",
       "      <th>549</th>\n",
       "      <td>9.500</td>\n",
       "      <td>1</td>\n",
       "      <td>0.035206</td>\n",
       "      <td>6</td>\n",
       "      <td>171.3448</td>\n",
       "      <td>4</td>\n",
       "      <td>1</td>\n",
       "      <td>0</td>\n",
       "      <td>1</td>\n",
       "    </tr>\n",
       "    <tr>\n",
       "      <th>7757</th>\n",
       "      <td>18.000</td>\n",
       "      <td>0</td>\n",
       "      <td>0.047473</td>\n",
       "      <td>9</td>\n",
       "      <td>170.5422</td>\n",
       "      <td>3</td>\n",
       "      <td>1</td>\n",
       "      <td>1</td>\n",
       "      <td>1</td>\n",
       "    </tr>\n",
       "    <tr>\n",
       "      <th>764</th>\n",
       "      <td>17.600</td>\n",
       "      <td>1</td>\n",
       "      <td>0.076122</td>\n",
       "      <td>10</td>\n",
       "      <td>111.7202</td>\n",
       "      <td>6</td>\n",
       "      <td>2</td>\n",
       "      <td>0</td>\n",
       "      <td>1</td>\n",
       "    </tr>\n",
       "    <tr>\n",
       "      <th>6867</th>\n",
       "      <td>8.325</td>\n",
       "      <td>0</td>\n",
       "      <td>0.029845</td>\n",
       "      <td>6</td>\n",
       "      <td>41.6138</td>\n",
       "      <td>3</td>\n",
       "      <td>1</td>\n",
       "      <td>1</td>\n",
       "      <td>1</td>\n",
       "    </tr>\n",
       "    <tr>\n",
       "      <th>2716</th>\n",
       "      <td>12.850</td>\n",
       "      <td>0</td>\n",
       "      <td>0.137228</td>\n",
       "      <td>13</td>\n",
       "      <td>155.5630</td>\n",
       "      <td>6</td>\n",
       "      <td>2</td>\n",
       "      <td>0</td>\n",
       "      <td>1</td>\n",
       "    </tr>\n",
       "  </tbody>\n",
       "</table>\n",
       "</div>"
      ],
      "text/plain": [
       "      Item_Weight  Item_Fat_Content  Item_Visibility  Item_Type  Item_MRP  \\\n",
       "549         9.500                 1         0.035206          6  171.3448   \n",
       "7757       18.000                 0         0.047473          9  170.5422   \n",
       "764        17.600                 1         0.076122         10  111.7202   \n",
       "6867        8.325                 0         0.029845          6   41.6138   \n",
       "2716       12.850                 0         0.137228         13  155.5630   \n",
       "\n",
       "      Outlet_Establishment_Year  Outlet_Size  Outlet_Location_Type  \\\n",
       "549                           4            1                     0   \n",
       "7757                          3            1                     1   \n",
       "764                           6            2                     0   \n",
       "6867                          3            1                     1   \n",
       "2716                          6            2                     0   \n",
       "\n",
       "      Outlet_Type  \n",
       "549             1  \n",
       "7757            1  \n",
       "764             1  \n",
       "6867            1  \n",
       "2716            1  "
      ]
     },
     "metadata": {},
     "output_type": "display_data"
    },
    {
     "data": {
      "text/html": [
       "<div>\n",
       "<style scoped>\n",
       "    .dataframe tbody tr th:only-of-type {\n",
       "        vertical-align: middle;\n",
       "    }\n",
       "\n",
       "    .dataframe tbody tr th {\n",
       "        vertical-align: top;\n",
       "    }\n",
       "\n",
       "    .dataframe thead th {\n",
       "        text-align: right;\n",
       "    }\n",
       "</style>\n",
       "<table border=\"1\" class=\"dataframe\">\n",
       "  <thead>\n",
       "    <tr style=\"text-align: right;\">\n",
       "      <th></th>\n",
       "      <th>Item_Weight</th>\n",
       "      <th>Item_Fat_Content</th>\n",
       "      <th>Item_Visibility</th>\n",
       "      <th>Item_Type</th>\n",
       "      <th>Item_MRP</th>\n",
       "      <th>Outlet_Establishment_Year</th>\n",
       "      <th>Outlet_Size</th>\n",
       "      <th>Outlet_Location_Type</th>\n",
       "      <th>Outlet_Type</th>\n",
       "    </tr>\n",
       "  </thead>\n",
       "  <tbody>\n",
       "    <tr>\n",
       "      <th>7205</th>\n",
       "      <td>11.800</td>\n",
       "      <td>1</td>\n",
       "      <td>0.093656</td>\n",
       "      <td>13</td>\n",
       "      <td>127.1704</td>\n",
       "      <td>6</td>\n",
       "      <td>2</td>\n",
       "      <td>0</td>\n",
       "      <td>1</td>\n",
       "    </tr>\n",
       "    <tr>\n",
       "      <th>3257</th>\n",
       "      <td>7.020</td>\n",
       "      <td>0</td>\n",
       "      <td>0.000000</td>\n",
       "      <td>6</td>\n",
       "      <td>148.1734</td>\n",
       "      <td>0</td>\n",
       "      <td>1</td>\n",
       "      <td>2</td>\n",
       "      <td>2</td>\n",
       "    </tr>\n",
       "    <tr>\n",
       "      <th>6346</th>\n",
       "      <td>14.500</td>\n",
       "      <td>1</td>\n",
       "      <td>0.041215</td>\n",
       "      <td>3</td>\n",
       "      <td>42.0454</td>\n",
       "      <td>7</td>\n",
       "      <td>0</td>\n",
       "      <td>2</td>\n",
       "      <td>1</td>\n",
       "    </tr>\n",
       "    <tr>\n",
       "      <th>6318</th>\n",
       "      <td>9.800</td>\n",
       "      <td>1</td>\n",
       "      <td>0.141184</td>\n",
       "      <td>0</td>\n",
       "      <td>50.5008</td>\n",
       "      <td>0</td>\n",
       "      <td>1</td>\n",
       "      <td>2</td>\n",
       "      <td>2</td>\n",
       "    </tr>\n",
       "    <tr>\n",
       "      <th>6339</th>\n",
       "      <td>7.905</td>\n",
       "      <td>0</td>\n",
       "      <td>0.055098</td>\n",
       "      <td>5</td>\n",
       "      <td>109.2254</td>\n",
       "      <td>3</td>\n",
       "      <td>1</td>\n",
       "      <td>1</td>\n",
       "      <td>1</td>\n",
       "    </tr>\n",
       "  </tbody>\n",
       "</table>\n",
       "</div>"
      ],
      "text/plain": [
       "      Item_Weight  Item_Fat_Content  Item_Visibility  Item_Type  Item_MRP  \\\n",
       "7205       11.800                 1         0.093656         13  127.1704   \n",
       "3257        7.020                 0         0.000000          6  148.1734   \n",
       "6346       14.500                 1         0.041215          3   42.0454   \n",
       "6318        9.800                 1         0.141184          0   50.5008   \n",
       "6339        7.905                 0         0.055098          5  109.2254   \n",
       "\n",
       "      Outlet_Establishment_Year  Outlet_Size  Outlet_Location_Type  \\\n",
       "7205                          6            2                     0   \n",
       "3257                          0            1                     2   \n",
       "6346                          7            0                     2   \n",
       "6318                          0            1                     2   \n",
       "6339                          3            1                     1   \n",
       "\n",
       "      Outlet_Type  \n",
       "7205            1  \n",
       "3257            2  \n",
       "6346            1  \n",
       "6318            2  \n",
       "6339            1  "
      ]
     },
     "metadata": {},
     "output_type": "display_data"
    }
   ],
   "source": [
    "# Visualizing the encoded data\n",
    "display(x_train.head())\n",
    "display(x_test.tail())"
   ]
  },
  {
   "cell_type": "markdown",
   "metadata": {},
   "source": [
    "Kindly note that these are very simple transformations steps that we have performed. The nature of the data is slightly complex and need more rigorous exploration and processing. For the sake of simplicity, I would skip any other complicated and rigorous transformation. But using the currently transformed data, getting a high model accuracy is difficult."
   ]
  },
  {
   "cell_type": "markdown",
   "metadata": {},
   "source": [
    "### Training the model"
   ]
  },
  {
   "cell_type": "code",
   "execution_count": 50,
   "metadata": {},
   "outputs": [
    {
     "name": "stdout",
     "output_type": "stream",
     "text": [
      "0.5668592218268009\n",
      "Wall time: 583 ms\n"
     ]
    }
   ],
   "source": [
    "%%time\n",
    "regressor = RandomForestRegressor(\n",
    "    n_estimators=50, \n",
    "    criterion='mse',\n",
    "    n_jobs=4,\n",
    "    random_state=42\n",
    ")\n",
    "regressor.fit(x_train, y_train)\n",
    "print(regressor.score(x_test, y_test))"
   ]
  },
  {
   "cell_type": "code",
   "execution_count": null,
   "metadata": {},
   "outputs": [],
   "source": []
  },
  {
   "cell_type": "code",
   "execution_count": null,
   "metadata": {},
   "outputs": [],
   "source": []
  }
 ],
 "metadata": {
  "kernelspec": {
   "display_name": "Python 3",
   "language": "python",
   "name": "python3"
  },
  "language_info": {
   "codemirror_mode": {
    "name": "ipython",
    "version": 3
   },
   "file_extension": ".py",
   "mimetype": "text/x-python",
   "name": "python",
   "nbconvert_exporter": "python",
   "pygments_lexer": "ipython3",
   "version": "3.7.7"
  }
 },
 "nbformat": 4,
 "nbformat_minor": 4
}
