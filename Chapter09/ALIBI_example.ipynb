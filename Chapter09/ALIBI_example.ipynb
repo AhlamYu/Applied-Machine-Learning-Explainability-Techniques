{
 "cells": [
  {
   "cell_type": "markdown",
   "metadata": {},
   "source": [
    "# Exploring  ALIBI (Algorithms for explaining machine learning models)\n",
    "## CHAPTER 09 - *Other popular XAI frameworks*\n",
    "\n",
    "From **Applied Machine Learning Explainability Techniques** by [**Aditya Bhattacharya**](https://www.linkedin.com/in/aditya-bhattacharya-b59155b6/), published by **Packt**"
   ]
  },
  {
   "cell_type": "markdown",
   "metadata": {},
   "source": [
    "### Objective\n",
    "\n",
    "Previously, in [chapter 2](https://github.com/PacktPublishing/Applied-Machine-Learning-Explainability-Techniques/tree/main/Chapter02), we have covered the [Counterfactual Explanation Tutorial](https://github.com/PacktPublishing/Applied-Machine-Learning-Explainability-Techniques/blob/main/Chapter02/Counterfactual_structured_data.ipynb), where you have received some exposure on the [ALIBI framework](https://github.com/SeldonIO/alibiE). In this tutorial, you will get a deeper exposure to the ALIBI framework on a different problem. We will use the same Occupancy Detection Dataset used in the [DiCE tutorial](https://github.com/PacktPublishing/Applied-Machine-Learning-Explainability-Techniques/blob/main/Chapter09/DiCE_example.ipynb). So, the initial part of the tutorial might look same, but the model explainabilty part will be different as we will be using various components from the ALIBI framework."
   ]
  },
  {
   "cell_type": "markdown",
   "metadata": {},
   "source": [
    "### Installing the modules"
   ]
  },
  {
   "cell_type": "markdown",
   "metadata": {},
   "source": [
    "Install the following libraries in Google Colab or your local environment, if not already installed."
   ]
  },
  {
   "cell_type": "code",
   "execution_count": null,
   "metadata": {},
   "outputs": [],
   "source": [
    "!pip install --upgrade pandas numpy matplotlib seaborn scikit-learn tensorflow alibi"
   ]
  },
  {
   "cell_type": "markdown",
   "metadata": {},
   "source": [
    "### Loading the modules"
   ]
  },
  {
   "cell_type": "code",
   "execution_count": 114,
   "metadata": {},
   "outputs": [],
   "source": [
    "import warnings\n",
    "warnings.filterwarnings('ignore')\n",
    "\n",
    "import pandas as pd\n",
    "pd.set_option('display.max_columns', None)\n",
    "\n",
    "import numpy as np\n",
    "\n",
    "import sklearn\n",
    "from sklearn.model_selection import train_test_split\n",
    "from sklearn.base import BaseEstimator, TransformerMixin\n",
    "from sklearn.pipeline import Pipeline\n",
    "from sklearn.compose import ColumnTransformer\n",
    "from sklearn.preprocessing import StandardScaler, OneHotEncoder\n",
    "from sklearn.ensemble import RandomForestClassifier\n",
    "from sklearn.metrics import accuracy_score, roc_auc_score\n",
    "\n",
    "import alibi\n",
    "from alibi.explainers import AnchorTabular, CEM, CounterfactualProto\n",
    "\n",
    "\n",
    "import matplotlib.pyplot as plt\n",
    "import seaborn as sns\n",
    "sns.set(style=\"whitegrid\")\n",
    "\n",
    "from IPython import display\n",
    "import tensorflow as tf\n",
    "tf.get_logger().setLevel(40) # suppress deprecation messages\n",
    "tf.compat.v1.disable_v2_behavior() # disable TF2 behaviour as alibi code still relies on TF1 constructs\n",
    "\n",
    "np.random.seed(123)\n",
    "tf.random.set_seed(123)"
   ]
  },
  {
   "cell_type": "markdown",
   "metadata": {},
   "source": [
    "### About the data"
   ]
  },
  {
   "cell_type": "markdown",
   "metadata": {},
   "source": [
    "**Occupancy Detection dataset | [UCI Machine Learning Repository](https://archive.ics.uci.edu/ml/datasets/Occupancy+Detection+#)**\n",
    "\n",
    "Original Source: https://archive.ics.uci.edu/ml/datasets/Occupancy+Detection+#\n",
    "\n",
    "Discovered from : https://code.datasciencedojo.com/datasciencedojo/datasets/tree/master/Occupancy%20Detection\n",
    "\n",
    "- This data set has 20560 rows and 7 attributes which are divided into 3 data sets for training, validation  and testing.\n",
    "\n",
    "- The data set provides experimental data used for binary classification (room occupancy of an office room) from Temperature, Humidity, Light and CO2. \n",
    "\n",
    "- Ground-truth occupancy was obtained from time stamped pictures that were taken every minute.This dataset is recommended for classification based problems.\n",
    "\n",
    "This data set has been sourced from the Machine Learning Repository of University of California, Irvine [Occupancy Detection Data Set (UC Irvine)](https://archive.ics.uci.edu/ml/datasets/Occupancy+Detection+#). The UCI page mentions the following publication [Accurate occupancy detection of an office room from light, temperature, humidity and CO2 measurements using statistical learning models. Luis M. Candanedo, VÃ©ronique Feldheim. Energy and Buildings. Volume 112, 15 January 2016, Pages 28-39](https://www.researchgate.net/profile/Luis_Candanedo_Ibarra/publication/285627413_Accurate_occupancy_detection_of_an_office_room_from_light_temperature_humidity_and_CO2_measurements_using_statistical_learning_models/links/5b1d843ea6fdcca67b690c28/Accurate-occupancy-detection-of-an-office-room-from-light-temperature-humidity-and-CO2-measurements-using-statistical-learning-models.pdf?origin=publication_detail) as the original source of the data set.\n",
    "\n",
    "And thanks to Data Science Dojo - https://code.datasciencedojo.com/ - for curating this dataset, thus making it more discoverable!"
   ]
  },
  {
   "cell_type": "markdown",
   "metadata": {},
   "source": [
    "### Loading the data"
   ]
  },
  {
   "cell_type": "code",
   "execution_count": 16,
   "metadata": {},
   "outputs": [],
   "source": [
    "# We will read the training data, validation and test data\n",
    "df_train = pd.read_csv('datasets/Occupancy_Detection_Data/train.csv')\n",
    "df_valid = pd.read_csv('datasets/Occupancy_Detection_Data/valid.csv')\n",
    "df_test = pd.read_csv('datasets/Occupancy_Detection_Data/test.csv')"
   ]
  },
  {
   "cell_type": "code",
   "execution_count": 17,
   "metadata": {},
   "outputs": [
    {
     "data": {
      "text/html": [
       "<div>\n",
       "<style scoped>\n",
       "    .dataframe tbody tr th:only-of-type {\n",
       "        vertical-align: middle;\n",
       "    }\n",
       "\n",
       "    .dataframe tbody tr th {\n",
       "        vertical-align: top;\n",
       "    }\n",
       "\n",
       "    .dataframe thead th {\n",
       "        text-align: right;\n",
       "    }\n",
       "</style>\n",
       "<table border=\"1\" class=\"dataframe\">\n",
       "  <thead>\n",
       "    <tr style=\"text-align: right;\">\n",
       "      <th></th>\n",
       "      <th>date</th>\n",
       "      <th>Temperature</th>\n",
       "      <th>Humidity</th>\n",
       "      <th>Light</th>\n",
       "      <th>CO2</th>\n",
       "      <th>HumidityRatio</th>\n",
       "      <th>Occupancy</th>\n",
       "    </tr>\n",
       "  </thead>\n",
       "  <tbody>\n",
       "    <tr>\n",
       "      <th>0</th>\n",
       "      <td>2/4/2015 17:51</td>\n",
       "      <td>23.18</td>\n",
       "      <td>27.2720</td>\n",
       "      <td>426.0</td>\n",
       "      <td>721.25</td>\n",
       "      <td>0.004793</td>\n",
       "      <td>1</td>\n",
       "    </tr>\n",
       "    <tr>\n",
       "      <th>1</th>\n",
       "      <td>2/4/2015 17:51</td>\n",
       "      <td>23.15</td>\n",
       "      <td>27.2675</td>\n",
       "      <td>429.5</td>\n",
       "      <td>714.00</td>\n",
       "      <td>0.004783</td>\n",
       "      <td>1</td>\n",
       "    </tr>\n",
       "    <tr>\n",
       "      <th>2</th>\n",
       "      <td>2/4/2015 17:53</td>\n",
       "      <td>23.15</td>\n",
       "      <td>27.2450</td>\n",
       "      <td>426.0</td>\n",
       "      <td>713.50</td>\n",
       "      <td>0.004779</td>\n",
       "      <td>1</td>\n",
       "    </tr>\n",
       "    <tr>\n",
       "      <th>3</th>\n",
       "      <td>2/4/2015 17:54</td>\n",
       "      <td>23.15</td>\n",
       "      <td>27.2000</td>\n",
       "      <td>426.0</td>\n",
       "      <td>708.25</td>\n",
       "      <td>0.004772</td>\n",
       "      <td>1</td>\n",
       "    </tr>\n",
       "    <tr>\n",
       "      <th>4</th>\n",
       "      <td>2/4/2015 17:55</td>\n",
       "      <td>23.10</td>\n",
       "      <td>27.2000</td>\n",
       "      <td>426.0</td>\n",
       "      <td>704.50</td>\n",
       "      <td>0.004757</td>\n",
       "      <td>1</td>\n",
       "    </tr>\n",
       "  </tbody>\n",
       "</table>\n",
       "</div>"
      ],
      "text/plain": [
       "             date  Temperature  Humidity  Light     CO2  HumidityRatio  \\\n",
       "0  2/4/2015 17:51        23.18   27.2720  426.0  721.25       0.004793   \n",
       "1  2/4/2015 17:51        23.15   27.2675  429.5  714.00       0.004783   \n",
       "2  2/4/2015 17:53        23.15   27.2450  426.0  713.50       0.004779   \n",
       "3  2/4/2015 17:54        23.15   27.2000  426.0  708.25       0.004772   \n",
       "4  2/4/2015 17:55        23.10   27.2000  426.0  704.50       0.004757   \n",
       "\n",
       "   Occupancy  \n",
       "0          1  \n",
       "1          1  \n",
       "2          1  \n",
       "3          1  \n",
       "4          1  "
      ]
     },
     "execution_count": 17,
     "metadata": {},
     "output_type": "execute_result"
    }
   ],
   "source": [
    "df_train.head()"
   ]
  },
  {
   "cell_type": "code",
   "execution_count": 18,
   "metadata": {},
   "outputs": [
    {
     "name": "stdout",
     "output_type": "stream",
     "text": [
      "--------------------------------------------------------------------------------------------------------------------------\n",
      "Occupancy Detection Dataset\n",
      "--------------------------------------------------------------------------------------------------------------------------\n",
      "Original Source: https://archive.ics.uci.edu/ml/datasets/Occupancy+Detection+#\n",
      "Discovered from : https://code.datasciencedojo.com/datasciencedojo/datasets/tree/master/Occupancy%20Detection\n",
      "\n",
      "---\n",
      "\n",
      "- This data set has 20560 rows and 7 attributes which are divided into 3 data sets for training, validation  and testing.\n",
      "\n",
      "- The data set provides experimental data used for binary classification (room occupancy of an office room) from Temperature, Humidity, Light and CO2. \n",
      "\n",
      "- Ground-truth occupancy was obtained from time stamped pictures that were taken every minute.This dataset is recommended for classification based problems.\n",
      "\n",
      "---\n",
      "\n",
      "### Data Dictionary \n",
      "As mentioned in : https://code.datasciencedojo.com/datasciencedojo/datasets/tree/master/Occupancy%20Detection\n",
      "\n",
      "| Column   Position \t| Atrribute Name \t| Definition                                                                                           \t| Data Type    \t| Example                                        \t| % Null Ratios \t|\n",
      "|-------------------\t|----------------\t|------------------------------------------------------------------------------------------------------\t|--------------\t|------------------------------------------------\t|---------------\t|\n",
      "| 1                 \t| Date           \t| Date & time in year-month-day hour:minute:second format                                              \t| Qualitative  \t| 2/4/2015 17:57, 2/4/2015 17:55, 2/4/2015 18:06\t\t \t| 0             \t|\n",
      "| 2                 \t| Temperature    \t| Temperature in degree Celcius                                                                        \t| Quantitative \t| 23.150, 23.075, 22.890                         \t| 0             \t|\n",
      "| 3                 \t| Humidity       \t| Relative humidity in percentage                                                                      \t| Quantitative \t| 27.272000, 27.200000, 27.390000                \t| 0             \t|\n",
      "| 4                 \t| Light          \t| Illuminance measurement in unit Lux                                                                  \t| Quantitative \t| 426.0, 419.0, 0.0\t                              \t| 0             \t|\n",
      "| 5                 \t| CO2            \t| CO2 in parts per million (ppm)                                                                       \t| Quantitative \t| 489.666667,   495.500000, 534.500000           \t| 0             \t|\n",
      "| 6                 \t| HumidityRatio  \t| Humadity ratio:  Derived quantity from temperature and   relative humidity, in kgwater-vapor/kg-air  \t| Quantitative \t| 0.004986, 0.005088, 0.005203                   \t| 0             \t|\n",
      "| 7                 \t| Occupancy      \t| Occupied or not: 1 for occupied and 0 for not occupied                                               \t| Quantitative \t| 1, 0                                           \t| 0             \t|\n",
      "\n",
      "\n",
      "---\n",
      "\n",
      "### Acknowledgement\n",
      "\n",
      "\n",
      "This data set has been sourced from the Machine Learning Repository of University of California, Irvine [Occupancy Detection Data Set (UC Irvine)](https://archive.ics.uci.edu/ml/datasets/Occupancy+Detection+#). The UCI page mentions the following publication [Accurate occupancy detection of an office room from light, temperature, humidity and CO2 measurements using statistical learning models. Luis M. Candanedo, VÃƒÂ©ronique Feldheim. Energy and Buildings. Volume 112, 15 January 2016, Pages 28-39](https://www.researchgate.net/profile/Luis_Candanedo_Ibarra/publication/285627413_Accurate_occupancy_detection_of_an_office_room_from_light_temperature_humidity_and_CO2_measurements_using_statistical_learning_models/links/5b1d843ea6fdcca67b690c28/Accurate-occupancy-detection-of-an-office-room-from-light-temperature-humidity-and-CO2-measurements-using-statistical-learning-models.pdf?origin=publication_detail) as the original source of the data set.\n",
      "\n",
      "All thanks to Data Science Dojo - https://code.datasciencedojo.com/ - for curating this dataset, thus making it more discoverable! \n"
     ]
    }
   ],
   "source": [
    "# Reading the dataset description\n",
    "with open('datasets/Occupancy_Detection_Data/description.txt') as f:\n",
    "    contents = f.read()\n",
    "    print(contents)"
   ]
  },
  {
   "cell_type": "code",
   "execution_count": 19,
   "metadata": {},
   "outputs": [
    {
     "name": "stdout",
     "output_type": "stream",
     "text": [
      "(8143, 7)\n"
     ]
    }
   ],
   "source": [
    "# Check dataset dimensions\n",
    "print(df_train.shape)"
   ]
  },
  {
   "cell_type": "code",
   "execution_count": 20,
   "metadata": {},
   "outputs": [
    {
     "data": {
      "text/plain": [
       "Index(['date', 'Temperature', 'Humidity', 'Light', 'CO2', 'HumidityRatio',\n",
       "       'Occupancy'],\n",
       "      dtype='object')"
      ]
     },
     "execution_count": 20,
     "metadata": {},
     "output_type": "execute_result"
    }
   ],
   "source": [
    "df_train.columns"
   ]
  },
  {
   "cell_type": "code",
   "execution_count": 21,
   "metadata": {},
   "outputs": [
    {
     "data": {
      "text/plain": [
       "0    6414\n",
       "1    1729\n",
       "Name: Occupancy, dtype: int64"
      ]
     },
     "execution_count": 21,
     "metadata": {},
     "output_type": "execute_result"
    },
    {
     "data": {
      "image/png": "[encoded data removed]",
      "text/plain": [
       "<Figure size 432x288 with 1 Axes>"
      ]
     },
     "metadata": {},
     "output_type": "display_data"
    }
   ],
   "source": [
    "df_train['Occupancy'].value_counts().plot(kind='pie')\n",
    "df_train['Occupancy'].value_counts()"
   ]
  },
  {
   "cell_type": "code",
   "execution_count": 22,
   "metadata": {},
   "outputs": [
    {
     "name": "stdout",
     "output_type": "stream",
     "text": [
      "<class 'pandas.core.frame.DataFrame'>\n",
      "RangeIndex: 8143 entries, 0 to 8142\n",
      "Data columns (total 7 columns):\n",
      " #   Column         Non-Null Count  Dtype  \n",
      "---  ------         --------------  -----  \n",
      " 0   date           8143 non-null   object \n",
      " 1   Temperature    8143 non-null   float64\n",
      " 2   Humidity       8143 non-null   float64\n",
      " 3   Light          8143 non-null   float64\n",
      " 4   CO2            8143 non-null   float64\n",
      " 5   HumidityRatio  8143 non-null   float64\n",
      " 6   Occupancy      8143 non-null   int64  \n",
      "dtypes: float64(5), int64(1), object(1)\n",
      "memory usage: 445.4+ KB\n"
     ]
    }
   ],
   "source": [
    "df_train.info()"
   ]
  },
  {
   "cell_type": "markdown",
   "metadata": {},
   "source": [
    "As we can see, the dataset contains close to 8143 records and 6 features. The `date` feature doesn't seem to be relevant to detect room occupancy and we want to perform this detection solely based on the sensor values. So, we will drop this feature. We may need to perform further data normalization or transformation, but luckily there is no missing values, and thus no need for data imputation or additional steps to handle missing value. In the next step, we will perform some preliminary data processing and exploration, required for building the model. But I do recommend all of you to perform a detailed EDA, data processing, feature engineering in order to get a well trained model. "
   ]
  },
  {
   "cell_type": "markdown",
   "metadata": {},
   "source": [
    "### Data Pre-processing"
   ]
  },
  {
   "cell_type": "code",
   "execution_count": 23,
   "metadata": {},
   "outputs": [],
   "source": [
    "# Let's create a generic scikit-learn pipeline for training, validation and test data"
   ]
  },
  {
   "cell_type": "code",
   "execution_count": 24,
   "metadata": {},
   "outputs": [],
   "source": [
    "# Drop un-necessary features\n",
    "features_to_drop = ['date']\n",
    "target_variable = 'Occupancy'\n",
    "y_train = df_train[target_variable]\n",
    "y_valid = df_valid[target_variable]\n",
    "y_test = df_test[target_variable]\n",
    "\n",
    "numeric = ['Temperature', 'Humidity', 'Light', 'CO2', 'HumidityRatio'] # All features in this dataset is numerical\n",
    "categorical = [] # No categorical feature in this dataset"
   ]
  },
  {
   "cell_type": "code",
   "execution_count": 25,
   "metadata": {},
   "outputs": [],
   "source": [
    "def drop_not_wanted_features(df):\n",
    "    '''\n",
    "    Function to drop unwanted features\n",
    "    '''    \n",
    "    df.drop(columns='date', inplace=True)\n",
    "    df.drop(columns='Occupancy', inplace=True)\n",
    "    \n",
    "    return df"
   ]
  },
  {
   "cell_type": "code",
   "execution_count": 26,
   "metadata": {},
   "outputs": [],
   "source": [
    "df_train = drop_not_wanted_features(df_train)\n",
    "df_valid = drop_not_wanted_features(df_valid)\n",
    "df_test = drop_not_wanted_features(df_test)"
   ]
  },
  {
   "cell_type": "code",
   "execution_count": 27,
   "metadata": {},
   "outputs": [],
   "source": [
    "# Let's create preprocessing pipelines for both numeric and categorical data.\n",
    "\n",
    "numeric_transformer = Pipeline(steps=[('scaler', StandardScaler())])\n",
    "categorical_transformer = Pipeline(steps=[('onehot', OneHotEncoder(handle_unknown='ignore'))])"
   ]
  },
  {
   "cell_type": "code",
   "execution_count": 28,
   "metadata": {},
   "outputs": [],
   "source": [
    "column_transformer = ColumnTransformer(\n",
    "    transformers=[\n",
    "        ('numerical', numeric_transformer, numeric),\n",
    "        ('categorical', categorical_transformer, categorical)])"
   ]
  },
  {
   "cell_type": "markdown",
   "metadata": {},
   "source": [
    "### Training the model"
   ]
  },
  {
   "cell_type": "code",
   "execution_count": 29,
   "metadata": {},
   "outputs": [],
   "source": [
    "# Append classifier to preprocessing pipeline.\n",
    "# Now we have a full prediction pipeline.\n",
    "# You can further add other custom pipelines\n",
    "clf = Pipeline(steps=[('preprocessor', column_transformer),\n",
    "                      ('classifier', RandomForestClassifier(n_estimators=300,\n",
    "                                                            random_state=123))])"
   ]
  },
  {
   "cell_type": "code",
   "execution_count": 30,
   "metadata": {},
   "outputs": [],
   "source": [
    "model = clf.fit(df_train, y_train)"
   ]
  },
  {
   "cell_type": "code",
   "execution_count": 32,
   "metadata": {},
   "outputs": [
    {
     "data": {
      "text/plain": [
       "0.9770303527481542"
      ]
     },
     "execution_count": 32,
     "metadata": {},
     "output_type": "execute_result"
    }
   ],
   "source": [
    "# Accuracy score on validation dataset\n",
    "model.score(df_valid, y_valid)"
   ]
  },
  {
   "cell_type": "code",
   "execution_count": 33,
   "metadata": {},
   "outputs": [
    {
     "data": {
      "text/plain": [
       "0.951594746716698"
      ]
     },
     "execution_count": 33,
     "metadata": {},
     "output_type": "execute_result"
    }
   ],
   "source": [
    "# Accuracy score on test dataset\n",
    "accuracy_score(model.predict(df_test), y_test)"
   ]
  },
  {
   "cell_type": "code",
   "execution_count": 34,
   "metadata": {},
   "outputs": [
    {
     "data": {
      "text/plain": [
       "0.9501350997513132"
      ]
     },
     "execution_count": 34,
     "metadata": {},
     "output_type": "execute_result"
    }
   ],
   "source": [
    "# ROC_AUC score on test dataset\n",
    "roc_auc_score(model.predict(df_test), y_test)"
   ]
  },
  {
   "cell_type": "markdown",
   "metadata": {},
   "source": [
    "## Model Explainability using ALIBI"
   ]
  },
  {
   "cell_type": "markdown",
   "metadata": {},
   "source": [
    "[ALIBI](https://github.com/SeldonIO/alibi/tree/master/doc/source/examples) supports a wide range of operation with various types of dataset (tabular, images, text etc.). Previously in [Chapter 2](https://github.com/PacktPublishing/Applied-Machine-Learning-Explainability-Techniques/blob/main/Chapter02/Counterfactual_structured_data.ipynb), we have explored only the counterfactual explanations, now we will explore the other explainability methods available in ALIBI as well. Let's begin!"
   ]
  },
  {
   "cell_type": "markdown",
   "metadata": {},
   "source": [
    "### Anchor Explainations"
   ]
  },
  {
   "cell_type": "markdown",
   "metadata": {},
   "source": [
    "TO-DO - Define what is anchor explaination"
   ]
  },
  {
   "cell_type": "code",
   "execution_count": 35,
   "metadata": {},
   "outputs": [],
   "source": [
    "def reverse_transform(numpy_array, all_features):\n",
    "    return pd.DataFrame(numpy_array, columns = all_features)"
   ]
  },
  {
   "cell_type": "code",
   "execution_count": 36,
   "metadata": {},
   "outputs": [],
   "source": [
    "predict_fn = lambda x: model.predict_proba(reverse_transform(x, list(df_train.columns)))"
   ]
  },
  {
   "cell_type": "code",
   "execution_count": 37,
   "metadata": {},
   "outputs": [],
   "source": [
    "explainer = AnchorTabular(predict_fn, \n",
    "                          feature_names=list(df_train.columns), \n",
    "                          seed=123)"
   ]
  },
  {
   "cell_type": "code",
   "execution_count": 38,
   "metadata": {},
   "outputs": [
    {
     "data": {
      "text/plain": [
       "AnchorTabular(meta={\n",
       "  'name': 'AnchorTabular',\n",
       "  'type': ['blackbox'],\n",
       "  'explanations': ['local'],\n",
       "  'params': {'disc_perc': [25, 50, 75], 'seed': 123},\n",
       "  'version': '0.6.2'}\n",
       ")"
      ]
     },
     "execution_count": 38,
     "metadata": {},
     "output_type": "execute_result"
    }
   ],
   "source": [
    "explainer.fit(df_train.values, disc_perc=[25, 50, 75])"
   ]
  },
  {
   "cell_type": "markdown",
   "metadata": {},
   "source": [
    "#### Setting an anchor\n",
    "\n",
    "For model explainability using anchors, first we need an anchor for the prediction of the first observation in the test set. An anchor is a sufficient condition - that is, when the anchor holds, the prediction should be the same as the prediction for this instance."
   ]
  },
  {
   "cell_type": "code",
   "execution_count": 55,
   "metadata": {},
   "outputs": [
    {
     "name": "stdout",
     "output_type": "stream",
     "text": [
      "Prediction:  not_occupied\n"
     ]
    }
   ],
   "source": [
    "idx = 5\n",
    "class_names = ['not_occupied', 'occupied']\n",
    "print('Prediction: ', class_names[explainer.predictor(df_test.values[idx].reshape(1, -1))[0]])"
   ]
  },
  {
   "cell_type": "markdown",
   "metadata": {},
   "source": [
    "Now, we need to set a precision threshold, which will be like the confidence interval from the anchor. We will set the precision threshold to 0.8. This means that predictions on observations where the anchor holds will be the same as the prediction on the explained instance at least 80% of the time."
   ]
  },
  {
   "cell_type": "code",
   "execution_count": 56,
   "metadata": {},
   "outputs": [
    {
     "name": "stdout",
     "output_type": "stream",
     "text": [
      "Anchor: CO2 > 439.00\n",
      "Precision: 0.83\n",
      "Coverage: 0.75\n"
     ]
    }
   ],
   "source": [
    "explanation = explainer.explain(df_test.values[idx], threshold=0.8)\n",
    "print('Anchor: %s' % (' AND '.join(explanation.anchor)))\n",
    "print('Precision: %.2f' % explanation.precision)\n",
    "print('Coverage: %.2f' % explanation.coverage)"
   ]
  },
  {
   "cell_type": "markdown",
   "metadata": {},
   "source": [
    "Accordingly, we can increase or decrease the precision to best suit our needs.\n",
    "\n",
    "Next, let us get try to get an anchor for a prediction for the `occupied` class."
   ]
  },
  {
   "cell_type": "code",
   "execution_count": 57,
   "metadata": {},
   "outputs": [
    {
     "name": "stdout",
     "output_type": "stream",
     "text": [
      "Prediction:  occupied\n",
      "Anchor: Light > 256.38 AND CO2 > 638.83\n",
      "Precision: 0.98\n",
      "Coverage: 0.20\n"
     ]
    }
   ],
   "source": [
    "idx = 100\n",
    "class_names = ['not_occupied', 'occupied']\n",
    "print('Prediction: ', class_names[explainer.predictor(df_test.values[idx].reshape(1, -1))[0]])\n",
    "\n",
    "explanation = explainer.explain(df_test.values[idx], threshold=0.8)\n",
    "print('Anchor: %s' % (' AND '.join(explanation.anchor)))\n",
    "print('Precision: %.2f' % explanation.precision)\n",
    "print('Coverage: %.2f' % explanation.coverage)"
   ]
  },
  {
   "cell_type": "markdown",
   "metadata": {},
   "source": [
    "As we can see from the result, the anchor from the occupied class makes more sense, as it suggests that when the light is on with a certain intensity and when the CO2 level is high, this indicate that the room is occupied.\n",
    "\n",
    "Next let us cover another different method."
   ]
  },
  {
   "cell_type": "markdown",
   "metadata": {},
   "source": [
    "### Contrastive Explanations Method (CEM)"
   ]
  },
  {
   "cell_type": "markdown",
   "metadata": {},
   "source": [
    "The Contrastive Explanation Method (CEM) can produce explanations for black-box models with respect to pertinent positives (PP) and pertinent negatives (PN). For PP, it finds what should be minimally and sufficiently present (e.g. important pixels in an image) to justify its classification. PN on the other hand identify what should be minimally and necessarily absent from the explained instance in order to maintain the original prediction. Check out the [original research lierature](https://arxiv.org/pdf/1802.07623.pdf) to get a better understanding of the theoretical concept."
   ]
  },
  {
   "cell_type": "markdown",
   "metadata": {},
   "source": [
    "#### CEM with pertinent negative"
   ]
  },
  {
   "cell_type": "code",
   "execution_count": 76,
   "metadata": {},
   "outputs": [
    {
     "name": "stdout",
     "output_type": "stream",
     "text": [
      "Prediction for the data instance selected : not_occupied\n",
      "Prediction probabilities : [0.52333333 0.47666667]\n"
     ]
    }
   ],
   "source": [
    "idx = 0\n",
    "X = df_test[idx:idx+1]\n",
    "\n",
    "print(f'Prediction for the data instance selected : {class_names[model.predict(X)[0]]}')\n",
    "print(f'Prediction probabilities : {model.predict_proba(X)[0]}')"
   ]
  },
  {
   "cell_type": "code",
   "execution_count": 109,
   "metadata": {},
   "outputs": [],
   "source": [
    "# Define the CEM parameters\n",
    "# Using the same parameters as from - https://github.com/SeldonIO/alibi/blob/master/doc/source/examples/cem_iris.ipynb\n",
    "\n",
    "mode = 'PN'  # 'PN' (pertinent negative) or 'PP' (pertinent positive)\n",
    "shape = X.shape  # data instance shape\n",
    "kappa = .2   # minimum difference needed between the prediction probability for the perturbed instance on the\n",
    "             # class predicted by the original instance and the max probability on the other classes \n",
    "             # in order for the first loss term to be minimized\n",
    "beta = .1   # weight of the L1 loss term\n",
    "c_init = 10.  # initial weight c of the loss term encouraging to predict a different class (PN) or \n",
    "              # the same class (PP) for the perturbed instance compared to the original instance to be explained\n",
    "c_steps = 10  # nb of updates for c\n",
    "max_iterations = 1000  # nb of iterations per value of c\n",
    "feature_range = (df_train.values.min(axis=0).reshape(shape)-.1,  # feature range for the perturbed instance\n",
    "                 df_train.values.min(axis=0).reshape(shape)+.1)  # can be either a float or array of shape (1xfeatures)\n",
    "clip = (-1000.,1000.)  # gradient clipping\n",
    "lr_init = 1e-2  # initial learning rate"
   ]
  },
  {
   "cell_type": "code",
   "execution_count": 110,
   "metadata": {},
   "outputs": [
    {
     "name": "stderr",
     "output_type": "stream",
     "text": [
      "No PN found!\n"
     ]
    }
   ],
   "source": [
    "# initialize CEM explainer and explain instance\n",
    "cem = CEM(predict_fn, mode, shape, \n",
    "          kappa=kappa, beta=beta, feature_range=feature_range, \n",
    "          max_iterations=max_iterations, c_init=c_init, c_steps=c_steps, \n",
    "          learning_rate_init=lr_init, clip=clip)\n",
    "\n",
    "cem.fit(df_train.values, no_info_type='median') # we need to define what feature values contain the least\n",
    "                                                # info wrt predictions\n",
    "                                                # here we will naively assume that the feature-wise median\n",
    "                                                # contains no info; domain knowledge helps!\n",
    "explanation = cem.explain(X, verbose=False)"
   ]
  },
  {
   "cell_type": "code",
   "execution_count": 111,
   "metadata": {},
   "outputs": [
    {
     "name": "stdout",
     "output_type": "stream",
     "text": [
      "Original instance:    Temperature  Humidity  Light    CO2  HumidityRatio\n",
      "0         23.7    26.272  585.2  749.2       0.004764\n",
      "Predicted class: not_occupied\n"
     ]
    }
   ],
   "source": [
    "print(f'Original instance: {explanation.X}')\n",
    "print(f'Predicted class: {class_names[explanation.X_pred]}')"
   ]
  },
  {
   "cell_type": "code",
   "execution_count": 112,
   "metadata": {},
   "outputs": [
    {
     "name": "stdout",
     "output_type": "stream",
     "text": [
      "Pertinent negative: None\n"
     ]
    }
   ],
   "source": [
    "print(f'Pertinent negative: {explanation.PN}')"
   ]
  },
  {
   "cell_type": "markdown",
   "metadata": {},
   "source": [
    "For this example, no pertinent negative is found. This indicates that all the features are important and considered by the model for the prediction. Usually for higher dimensional data, you might find PN to be very helpful. Now, let's find out PP for this dataset"
   ]
  },
  {
   "cell_type": "markdown",
   "metadata": {},
   "source": [
    "#### CEM with pertinent positives"
   ]
  },
  {
   "cell_type": "code",
   "execution_count": 91,
   "metadata": {},
   "outputs": [],
   "source": [
    "mode = 'PP'\n",
    "\n",
    "# initialize CEM explainer and explain instance\n",
    "cem = CEM(predict_fn, mode, shape, kappa=kappa, \n",
    "          beta=beta, feature_range=feature_range, \n",
    "          max_iterations=max_iterations, c_init=c_init, c_steps=c_steps, \n",
    "          learning_rate_init=lr_init, clip=clip)\n",
    "cem.fit(df_train.values, no_info_type='median')\n",
    "explanation = cem.explain(X, verbose=False)"
   ]
  },
  {
   "cell_type": "code",
   "execution_count": 99,
   "metadata": {},
   "outputs": [
    {
     "name": "stdout",
     "output_type": "stream",
     "text": [
      "Pertinent positive: \n"
     ]
    },
    {
     "data": {
      "text/html": [
       "<div>\n",
       "<style scoped>\n",
       "    .dataframe tbody tr th:only-of-type {\n",
       "        vertical-align: middle;\n",
       "    }\n",
       "\n",
       "    .dataframe tbody tr th {\n",
       "        vertical-align: top;\n",
       "    }\n",
       "\n",
       "    .dataframe thead th {\n",
       "        text-align: right;\n",
       "    }\n",
       "</style>\n",
       "<table border=\"1\" class=\"dataframe\">\n",
       "  <thead>\n",
       "    <tr style=\"text-align: right;\">\n",
       "      <th></th>\n",
       "      <th>Temperature</th>\n",
       "      <th>Humidity</th>\n",
       "      <th>Light</th>\n",
       "      <th>CO2</th>\n",
       "      <th>HumidityRatio</th>\n",
       "    </tr>\n",
       "  </thead>\n",
       "  <tbody>\n",
       "    <tr>\n",
       "      <th>0</th>\n",
       "      <td>-7.629395e-07</td>\n",
       "      <td>6.408691e-07</td>\n",
       "      <td>-0.000012</td>\n",
       "      <td>-0.000012</td>\n",
       "      <td>6.468344e-11</td>\n",
       "    </tr>\n",
       "  </tbody>\n",
       "</table>\n",
       "</div>"
      ],
      "text/plain": [
       "    Temperature      Humidity     Light       CO2  HumidityRatio\n",
       "0 -7.629395e-07  6.408691e-07 -0.000012 -0.000012   6.468344e-11"
      ]
     },
     "metadata": {},
     "output_type": "display_data"
    },
    {
     "name": "stdout",
     "output_type": "stream",
     "text": [
      "Predicted class: not_occupied\n"
     ]
    }
   ],
   "source": [
    "print(f'Pertinent positive: ')\n",
    "display.display(explanation.PP)\n",
    "print(f'Predicted class: {class_names[explanation.PP_pred]}')"
   ]
  },
  {
   "cell_type": "markdown",
   "metadata": {},
   "source": [
    "We can further analyze the difference between PP and PN, but since we do not have any PN, we will not be able to compare with the generated PP values. Next, let us use Alibi for getting the counterfactuals."
   ]
  },
  {
   "cell_type": "markdown",
   "metadata": {},
   "source": [
    "### Counterfactual Explanations"
   ]
  },
  {
   "cell_type": "code",
   "execution_count": 117,
   "metadata": {},
   "outputs": [],
   "source": [
    "# Define CFE parameters for Alibi - from: https://github.com/SeldonIO/alibi/blob/master/doc/source/examples/cfproto_cat_adult_ohe.ipynb\n",
    "shape = X.shape\n",
    "beta = .01\n",
    "c_init = 1.\n",
    "c_steps = 5\n",
    "max_iterations = 500\n",
    "rng = (-1., 1.)  # scale features between -1 and 1\n",
    "\n",
    "feature_range = ((np.ones(shape) * rng[0]).astype(np.float32), \n",
    "                 (np.ones(shape) * rng[1]).astype(np.float32))"
   ]
  },
  {
   "cell_type": "code",
   "execution_count": 123,
   "metadata": {},
   "outputs": [],
   "source": [
    "cfe = CounterfactualProto(predict_fn,\n",
    "                          shape,\n",
    "                          use_kdtree=True, \n",
    "                          theta=10., \n",
    "                          max_iterations=1000,\n",
    "                          c_init=1., \n",
    "                          c_steps=10\n",
    "                         )"
   ]
  },
  {
   "cell_type": "code",
   "execution_count": 124,
   "metadata": {},
   "outputs": [
    {
     "name": "stderr",
     "output_type": "stream",
     "text": [
      "No encoder specified. Using k-d trees to represent class prototypes.\n"
     ]
    },
    {
     "data": {
      "text/plain": [
       "\"\\nSupported values for d_type is:\\n- 'abdm' infers context from the other variables \\n- 'mvdm' uses the model predictions.\\n- 'abdm-mvdm' is a weighted combination of the two metrics.\\n\""
      ]
     },
     "execution_count": 124,
     "metadata": {},
     "output_type": "execute_result"
    }
   ],
   "source": [
    "cfe.fit(df_train.values, d_type='abdm', disc_perc=[25, 50, 75]);\n",
    "'''\n",
    "Supported values for d_type is:\n",
    "- 'abdm' infers context from the other variables \n",
    "- 'mvdm' uses the model predictions.\n",
    "- 'abdm-mvdm' is a weighted combination of the two metrics.\n",
    "'''"
   ]
  },
  {
   "cell_type": "code",
   "execution_count": 125,
   "metadata": {},
   "outputs": [],
   "source": [
    "# Let's generate counterfactuals for the test instance\n",
    "explanation = cfe.explain(X)"
   ]
  },
  {
   "cell_type": "code",
   "execution_count": 128,
   "metadata": {},
   "outputs": [
    {
     "name": "stdout",
     "output_type": "stream",
     "text": [
      "Original prediction: 0\n",
      "Counterfactual prediction: 1\n"
     ]
    }
   ],
   "source": [
    "print(f'Original prediction: {explanation.orig_class}')\n",
    "print('Counterfactual prediction: {}'.format(explanation.cf['class']))"
   ]
  },
  {
   "cell_type": "code",
   "execution_count": 130,
   "metadata": {},
   "outputs": [
    {
     "data": {
      "text/html": [
       "<div>\n",
       "<style scoped>\n",
       "    .dataframe tbody tr th:only-of-type {\n",
       "        vertical-align: middle;\n",
       "    }\n",
       "\n",
       "    .dataframe tbody tr th {\n",
       "        vertical-align: top;\n",
       "    }\n",
       "\n",
       "    .dataframe thead th {\n",
       "        text-align: right;\n",
       "    }\n",
       "</style>\n",
       "<table border=\"1\" class=\"dataframe\">\n",
       "  <thead>\n",
       "    <tr style=\"text-align: right;\">\n",
       "      <th></th>\n",
       "      <th>Temperature</th>\n",
       "      <th>Humidity</th>\n",
       "      <th>Light</th>\n",
       "      <th>CO2</th>\n",
       "      <th>HumidityRatio</th>\n",
       "    </tr>\n",
       "  </thead>\n",
       "  <tbody>\n",
       "    <tr>\n",
       "      <th>0</th>\n",
       "      <td>23</td>\n",
       "      <td>25</td>\n",
       "      <td>581</td>\n",
       "      <td>751</td>\n",
       "      <td>0</td>\n",
       "    </tr>\n",
       "  </tbody>\n",
       "</table>\n",
       "</div>"
      ],
      "text/plain": [
       "   Temperature  Humidity  Light  CO2  HumidityRatio\n",
       "0           23        25    581  751              0"
      ]
     },
     "execution_count": 130,
     "metadata": {},
     "output_type": "execute_result"
    }
   ],
   "source": [
    "# Now let's see the counterfactual example\n",
    "counterfactual = explanation.cf['X'].astype(int)\n",
    "change = counterfactual - X\n",
    "df_cfe = pd.DataFrame(counterfactual, columns = numeric)\n",
    "df_cfe"
   ]
  },
  {
   "cell_type": "code",
   "execution_count": 136,
   "metadata": {},
   "outputs": [
    {
     "name": "stdout",
     "output_type": "stream",
     "text": [
      "The feature Temperature has to change by -0.7\n",
      "The feature Humidity has to change by -1.272\n",
      "The feature Light has to change by -4.2\n",
      "The feature CO2 has to change by 1.8\n",
      "The feature HumidityRatio has to change by -0.005\n"
     ]
    }
   ],
   "source": [
    "# Let's see the difference between counterfactual and original instance\n",
    "for i, feature_names in enumerate(numeric):\n",
    "    if change[feature_names][0] != 0:\n",
    "        print(f\"The feature {feature_names} has to change by {round(change[feature_names][0],3)}\")"
   ]
  },
  {
   "cell_type": "markdown",
   "metadata": {},
   "source": [
    "Thus, we can get the counterfactual examples. Although, I think further hyper-parameter tuning is required for generating the counterfactuals, as the degree of change for the feature values seems to b"
   ]
  },
  {
   "cell_type": "markdown",
   "metadata": {},
   "source": [
    "### Accumulated Local Effects"
   ]
  },
  {
   "cell_type": "code",
   "execution_count": null,
   "metadata": {},
   "outputs": [],
   "source": []
  },
  {
   "cell_type": "markdown",
   "metadata": {},
   "source": [
    "## Final Thoughts"
   ]
  },
  {
   "cell_type": "code",
   "execution_count": null,
   "metadata": {},
   "outputs": [],
   "source": []
  },
  {
   "cell_type": "code",
   "execution_count": null,
   "metadata": {},
   "outputs": [],
   "source": []
  },
  {
   "cell_type": "markdown",
   "metadata": {},
   "source": [
    "\n"
   ]
  },
  {
   "cell_type": "markdown",
   "metadata": {},
   "source": [
    "## Reference"
   ]
  },
  {
   "cell_type": "markdown",
   "metadata": {},
   "source": [
    "1. Dataset link - Occupancy Detection dataset | [UCI Machine Learning Repository](https://archive.ics.uci.edu/ml/datasets/Occupancy+Detection+#)\n",
    "2. ALIBI Github project - https://github.com/SeldonIO/alibi\n",
    "6. ALIBI Documentation - https://docs.seldon.io/projects/alibi/en/latest/\n",
    "7. Other notebook examples: https://github.com/SeldonIO/alibi/tree/master/doc/source/examples\n",
    "8. Some of the utility functions and code are taken from the GitHub Repository of the author - Aditya Bhattacharya https://github.com/adib0073\n",
    "9. Want to connect with the author of this chapter? You can reach out by any means mentioned here: https://aditya-bhattacharya.net/contact-me/"
   ]
  },
  {
   "cell_type": "code",
   "execution_count": null,
   "metadata": {},
   "outputs": [],
   "source": []
  }
 ],
 "metadata": {
  "kernelspec": {
   "display_name": "Python 3",
   "language": "python",
   "name": "python3"
  },
  "language_info": {
   "codemirror_mode": {
    "name": "ipython",
    "version": 3
   },
   "file_extension": ".py",
   "mimetype": "text/x-python",
   "name": "python",
   "nbconvert_exporter": "python",
   "pygments_lexer": "ipython3",
   "version": "3.7.7"
  }
 },
 "nbformat": 4,
 "nbformat_minor": 4
}
